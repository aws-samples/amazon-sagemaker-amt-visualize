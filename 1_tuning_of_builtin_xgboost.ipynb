{
 "cells": [
  {
   "cell_type": "markdown",
   "id": "ea8dd1c1",
   "metadata": {},
   "source": [
    "# Getting Started with Amazon SageMaker Automatic Model Tuning"
   ]
  },
  {
   "cell_type": "markdown",
   "id": "d51d913a",
   "metadata": {},
   "source": [
    "## Background"
   ]
  },
  {
   "cell_type": "markdown",
   "id": "897cbb62",
   "metadata": {},
   "source": [
    "Machine learning model training is controlled by the set of values that is refered to as hyperparameters. In contrast to parameters plugged into optimization functions, such as node weights or bias, hyperparameters are defined before model training. One can tune them manually to reach to better model performance by changing the values based on one's expertise. Alternatively, one can run hyperparameter optimization and tune these parameters automatically. \n",
    "\n",
    "Amazon SageMaker Automatic Model Tuning reduces the undifferentiated heavy lifting of researching the hyperparameter space, by launching training jobs with several sets of hyperparameter combinations and provides the set of best performing values as a result.\n",
    "\n",
    "This tutorial will walk you through SageMaker Automatic Model Tuning (AMT) using a built-in XGBoost algorithm on Amazon SageMaker. Additional information can be found on documentation pages:\n",
    "* For running a simple hyperparameter tuning job: https://docs.aws.amazon.com/sagemaker/latest/dg/automatic-model-tuning-ex.html\n",
    "* For HyperParameterTuner API: https://sagemaker.readthedocs.io/en/stable/api/training/tuner.html"
   ]
  },
  {
   "cell_type": "markdown",
   "id": "2076213e",
   "metadata": {},
   "source": [
    "## Overview"
   ]
  },
  {
   "cell_type": "markdown",
   "id": "be6ef8b7",
   "metadata": {},
   "source": [
    "The notebook is split into the following sections:\n",
    "* Setup and Imports\n",
    "* Load and Prepare dataset\n",
    "* Train a SageMaker Built-In XGBoost Algorithm\n",
    "* Train and Tune a SageMaker Built-In XGBoost Algorithm\n",
    "* View the AMT job statistics \n",
    "* Visualize AMT job results and tuned Hyperparameters\n"
   ]
  },
  {
   "cell_type": "markdown",
   "id": "194f29f9",
   "metadata": {},
   "source": [
    "### Setup and Imports"
   ]
  },
  {
   "cell_type": "code",
   "execution_count": 1,
   "id": "a01c9741",
   "metadata": {},
   "outputs": [],
   "source": [
    "%load_ext autoreload\n",
    "%autoreload 2"
   ]
  },
  {
   "cell_type": "code",
   "execution_count": 2,
   "id": "c509df84",
   "metadata": {},
   "outputs": [
    {
     "data": {
      "text/plain": [
       "'2.88.1'"
      ]
     },
     "execution_count": 2,
     "metadata": {},
     "output_type": "execute_result"
    }
   ],
   "source": [
    "#import sys\n",
    "import sagemaker\n",
    "\n",
    "#!{sys.executable} -m pip install --upgrade pip       --quiet # upgrade pip to the latest vesion\n",
    "#!{sys.executable} -m pip install --upgrade sagemaker --quiet # upgrade SageMaker to the latest vesion\n",
    "sagemaker.__version__"
   ]
  },
  {
   "cell_type": "code",
   "execution_count": 3,
   "id": "992aaffa",
   "metadata": {},
   "outputs": [],
   "source": [
    "import io\n",
    "import os\n",
    "import argparse\n",
    "import traceback\n",
    "import boto3\n",
    "import numpy as np\n",
    "import pandas as pd\n",
    "\n",
    "from sklearn import datasets\n",
    "from pathlib import Path"
   ]
  },
  {
   "cell_type": "code",
   "execution_count": 4,
   "id": "95477da4",
   "metadata": {},
   "outputs": [],
   "source": [
    "# SDK setup\n",
    "role = sagemaker.get_execution_role()\n",
    "region = boto3.Session().region_name\n",
    "sm = boto3.client('sagemaker')\n",
    "boto_sess = boto3.Session(region_name=region)\n",
    "sm_sess = sagemaker.session.Session(boto_session=boto_sess, sagemaker_client=sm)"
   ]
  },
  {
   "cell_type": "code",
   "execution_count": 5,
   "id": "001b94a9",
   "metadata": {},
   "outputs": [
    {
     "name": "stdout",
     "output_type": "stream",
     "text": [
      "s3://sagemaker-eu-west-1-811243659808/amt-visualize-demo/data/output\n"
     ]
    }
   ],
   "source": [
    "BUCKET = sm_sess.default_bucket()\n",
    "PREFIX = 'amt-visualize-demo/data'\n",
    "s3_data_url = f's3://{BUCKET}/{PREFIX}'\n",
    "\n",
    "# Eventual output destination for our XGBoost model\n",
    "output_path = f's3://{BUCKET}/{PREFIX}/output'\n",
    "output_path"
   ]
  },
  {
   "cell_type": "markdown",
   "id": "14349f3f",
   "metadata": {},
   "source": [
    "## Load and Prepare dataset "
   ]
  },
  {
   "cell_type": "code",
   "execution_count": 6,
   "id": "2decad31",
   "metadata": {},
   "outputs": [],
   "source": [
    "!mkdir -p data"
   ]
  },
  {
   "cell_type": "markdown",
   "id": "fc2dc46a",
   "metadata": {},
   "source": [
    "The dataset used in the notebook is a scikit-learn library copy of the test set of the UCI ML hand-written digits datasets https://archive.ics.uci.edu/ml/datasets/Optical+Recognition+of+Handwritten+Digits. Each datapoint is a 8x8 image of a digit. "
   ]
  },
  {
   "cell_type": "code",
   "execution_count": 7,
   "id": "11e53ba0",
   "metadata": {},
   "outputs": [],
   "source": [
    "from sklearn import datasets\n",
    "\n",
    "digits         = datasets.load_digits()\n",
    "digits_df      = pd.DataFrame(digits.data)\n",
    "digits_df['y'] = digits.target\n",
    "digits_df.insert(0, 'y', digits_df.pop('y')) # XGBoost expects the target to be the first column "
   ]
  },
  {
   "cell_type": "code",
   "execution_count": 8,
   "id": "bd612a4c",
   "metadata": {},
   "outputs": [],
   "source": [
    "# Randomly sort the data then split out into train 70% and validation 30%\n",
    "train_data, valid_data= np.split(\n",
    "    digits_df, [int(0.7 * len(digits_df))]\n",
    ")"
   ]
  },
  {
   "cell_type": "code",
   "execution_count": 9,
   "id": "f77cc8d0",
   "metadata": {},
   "outputs": [],
   "source": [
    "train_data.to_csv(\"data/train.csv\", index=False, header=False)\n",
    "valid_data.to_csv(\"data/valid.csv\", index=False, header=False) # valid"
   ]
  },
  {
   "cell_type": "markdown",
   "id": "6b322199",
   "metadata": {},
   "source": [
    "We upload train and validation datasets into Amazon S3. Amazon SageMaker will interact with the data directly from S3."
   ]
  },
  {
   "cell_type": "code",
   "execution_count": 10,
   "id": "9f155b0f",
   "metadata": {},
   "outputs": [],
   "source": [
    "boto_sess.resource(\"s3\").Bucket(BUCKET).Object(os.path.join(PREFIX, \"train/train.csv\")\n",
    "                                                 ).upload_file(\"data/train.csv\")\n",
    "boto_sess.resource(\"s3\").Bucket(BUCKET).Object(os.path.join(PREFIX, \"valid/valid.csv\")\n",
    "                                                 ).upload_file(\"data/valid.csv\")"
   ]
  },
  {
   "cell_type": "markdown",
   "id": "88b61a5e",
   "metadata": {},
   "source": [
    "We will use the built-in algorithm that comes in an image URI as described in the docs here:\n",
    "https://docs.aws.amazon.com/sagemaker/latest/dg/xgboost.html"
   ]
  },
  {
   "cell_type": "markdown",
   "id": "c311e93b",
   "metadata": {},
   "source": [
    "## Train an Amazon SageMaker Built-In XGBoost Algorithm"
   ]
  },
  {
   "cell_type": "code",
   "execution_count": 11,
   "id": "1f4ea41c",
   "metadata": {},
   "outputs": [
    {
     "data": {
      "text/plain": [
       "'141502667606.dkr.ecr.eu-west-1.amazonaws.com/sagemaker-xgboost:1.5-1'"
      ]
     },
     "metadata": {},
     "output_type": "display_data"
    },
    {
     "name": "stdout",
     "output_type": "stream",
     "text": [
      "2022-10-19 16:02:13 Starting - Starting the training job...\n",
      "2022-10-19 16:02:37 Starting - Preparing the instances for trainingProfilerReport-1666195333: InProgress\n",
      ".........\n",
      "2022-10-19 16:04:17 Downloading - Downloading input data....\n",
      "2022-10-19 16:05:37 Training - Downloading the training image..\u001b[34m[2022-10-19 16:05:50.658 ip-10-0-218-30.eu-west-1.compute.internal:1 INFO utils.py:27] RULE_JOB_STOP_SIGNAL_FILENAME: None\u001b[0m\n",
      "\u001b[34m[2022-10-19:16:05:50:INFO] Imported framework sagemaker_xgboost_container.training\u001b[0m\n",
      "\u001b[34m[2022-10-19:16:05:50:INFO] Failed to parse hyperparameter eval_metric value accuracy to Json.\u001b[0m\n",
      "\u001b[34mReturning the value itself\u001b[0m\n",
      "\u001b[34m[2022-10-19:16:05:50:INFO] Failed to parse hyperparameter objective value multi:softmax to Json.\u001b[0m\n",
      "\u001b[34mReturning the value itself\u001b[0m\n",
      "\u001b[34m[2022-10-19:16:05:50:INFO] No GPUs detected (normal if no gpus installed)\u001b[0m\n",
      "\u001b[34m[2022-10-19:16:05:50:INFO] Running XGBoost Sagemaker in algorithm mode\u001b[0m\n",
      "\u001b[34m[2022-10-19:16:05:50:INFO] Determined delimiter of CSV input is ','\u001b[0m\n",
      "\u001b[34m[2022-10-19:16:05:50:INFO] Determined delimiter of CSV input is ','\u001b[0m\n",
      "\u001b[34m[2022-10-19:16:05:50:INFO] files path: /opt/ml/input/data/train\u001b[0m\n",
      "\u001b[34m[2022-10-19:16:05:50:INFO] Determined delimiter of CSV input is ','\u001b[0m\n",
      "\u001b[34m[2022-10-19:16:05:50:INFO] files path: /opt/ml/input/data/validation\u001b[0m\n",
      "\u001b[34m[2022-10-19:16:05:50:INFO] Determined delimiter of CSV input is ','\u001b[0m\n",
      "\u001b[34m[2022-10-19:16:05:50:INFO] Single node training.\u001b[0m\n",
      "\u001b[34m[2022-10-19:16:05:50:INFO] Train matrix has 1257 rows and 64 columns\u001b[0m\n",
      "\u001b[34m[2022-10-19:16:05:50:INFO] Validation matrix has 540 rows\u001b[0m\n",
      "\u001b[34m[16:05:50] WARNING: ../src/learner.cc:1115: Starting in XGBoost 1.3.0, the default evaluation metric used with the objective 'multi:softmax' was changed from 'merror' to 'mlogloss'. Explicitly set eval_metric if you'd like to restore the old behavior.\u001b[0m\n",
      "\u001b[34m[0]#011train-mlogloss:1.70928#011train-accuracy:0.86874#011validation-mlogloss:1.78571#011validation-accuracy:0.75000\u001b[0m\n",
      "\u001b[34m[1]#011train-mlogloss:1.38083#011train-accuracy:0.91249#011validation-mlogloss:1.51399#011validation-accuracy:0.76667\u001b[0m\n",
      "\u001b[34m[2]#011train-mlogloss:1.14703#011train-accuracy:0.92920#011validation-mlogloss:1.32726#011validation-accuracy:0.79074\u001b[0m\n",
      "\u001b[34m[3]#011train-mlogloss:0.97257#011train-accuracy:0.93476#011validation-mlogloss:1.17387#011validation-accuracy:0.79444\u001b[0m\n",
      "\u001b[34m[4]#011train-mlogloss:0.83478#011train-accuracy:0.94590#011validation-mlogloss:1.06231#011validation-accuracy:0.80000\u001b[0m\n",
      "\u001b[34m[5]#011train-mlogloss:0.72337#011train-accuracy:0.95943#011validation-mlogloss:0.96265#011validation-accuracy:0.82407\u001b[0m\n",
      "\u001b[34m[6]#011train-mlogloss:0.62800#011train-accuracy:0.96340#011validation-mlogloss:0.87608#011validation-accuracy:0.82963\u001b[0m\n",
      "\u001b[34m[7]#011train-mlogloss:0.55511#011train-accuracy:0.96659#011validation-mlogloss:0.81347#011validation-accuracy:0.83889\u001b[0m\n",
      "\u001b[34m[8]#011train-mlogloss:0.48675#011train-accuracy:0.97216#011validation-mlogloss:0.75469#011validation-accuracy:0.83518\u001b[0m\n",
      "\u001b[34m[9]#011train-mlogloss:0.43253#011train-accuracy:0.97613#011validation-mlogloss:0.71186#011validation-accuracy:0.84444\u001b[0m\n",
      "\u001b[34m[10]#011train-mlogloss:0.38712#011train-accuracy:0.97693#011validation-mlogloss:0.67197#011validation-accuracy:0.84630\u001b[0m\n",
      "\u001b[34m[11]#011train-mlogloss:0.34636#011train-accuracy:0.97852#011validation-mlogloss:0.63897#011validation-accuracy:0.85741\u001b[0m\n",
      "\u001b[34m[12]#011train-mlogloss:0.31253#011train-accuracy:0.98011#011validation-mlogloss:0.60873#011validation-accuracy:0.85556\u001b[0m\n",
      "\u001b[34m[13]#011train-mlogloss:0.28397#011train-accuracy:0.98329#011validation-mlogloss:0.58436#011validation-accuracy:0.85556\u001b[0m\n",
      "\u001b[34m[14]#011train-mlogloss:0.25879#011train-accuracy:0.98329#011validation-mlogloss:0.56093#011validation-accuracy:0.85556\u001b[0m\n",
      "\u001b[34m[15]#011train-mlogloss:0.23662#011train-accuracy:0.98489#011validation-mlogloss:0.54025#011validation-accuracy:0.86482\u001b[0m\n",
      "\u001b[34m[16]#011train-mlogloss:0.21617#011train-accuracy:0.98489#011validation-mlogloss:0.52479#011validation-accuracy:0.86482\u001b[0m\n",
      "\u001b[34m[17]#011train-mlogloss:0.19816#011train-accuracy:0.98648#011validation-mlogloss:0.50475#011validation-accuracy:0.87037\u001b[0m\n",
      "\u001b[34m[18]#011train-mlogloss:0.18460#011train-accuracy:0.98886#011validation-mlogloss:0.49436#011validation-accuracy:0.86482\u001b[0m\n",
      "\u001b[34m[19]#011train-mlogloss:0.17119#011train-accuracy:0.98807#011validation-mlogloss:0.48170#011validation-accuracy:0.86852\u001b[0m\n",
      "\u001b[34m[20]#011train-mlogloss:0.15983#011train-accuracy:0.99045#011validation-mlogloss:0.46881#011validation-accuracy:0.86852\u001b[0m\n",
      "\u001b[34m[21]#011train-mlogloss:0.14990#011train-accuracy:0.99204#011validation-mlogloss:0.46331#011validation-accuracy:0.87037\u001b[0m\n",
      "\u001b[34m[22]#011train-mlogloss:0.14094#011train-accuracy:0.99045#011validation-mlogloss:0.45719#011validation-accuracy:0.87222\u001b[0m\n",
      "\u001b[34m[23]#011train-mlogloss:0.13382#011train-accuracy:0.99045#011validation-mlogloss:0.44846#011validation-accuracy:0.87037\u001b[0m\n",
      "\u001b[34m[24]#011train-mlogloss:0.12719#011train-accuracy:0.99125#011validation-mlogloss:0.44307#011validation-accuracy:0.87037\u001b[0m\n",
      "\u001b[34m[25]#011train-mlogloss:0.12034#011train-accuracy:0.99204#011validation-mlogloss:0.43429#011validation-accuracy:0.87037\u001b[0m\n",
      "\u001b[34m[26]#011train-mlogloss:0.11518#011train-accuracy:0.99284#011validation-mlogloss:0.43131#011validation-accuracy:0.87222\u001b[0m\n",
      "\u001b[34m[27]#011train-mlogloss:0.11012#011train-accuracy:0.99364#011validation-mlogloss:0.42623#011validation-accuracy:0.87407\u001b[0m\n",
      "\u001b[34m[28]#011train-mlogloss:0.10576#011train-accuracy:0.99364#011validation-mlogloss:0.42050#011validation-accuracy:0.87222\u001b[0m\n",
      "\u001b[34m[29]#011train-mlogloss:0.10172#011train-accuracy:0.99284#011validation-mlogloss:0.42063#011validation-accuracy:0.87037\u001b[0m\n",
      "\u001b[34m[30]#011train-mlogloss:0.09732#011train-accuracy:0.99284#011validation-mlogloss:0.41628#011validation-accuracy:0.87222\u001b[0m\n",
      "\u001b[34m[31]#011train-mlogloss:0.09364#011train-accuracy:0.99602#011validation-mlogloss:0.41215#011validation-accuracy:0.87407\u001b[0m\n",
      "\u001b[34m[32]#011train-mlogloss:0.09089#011train-accuracy:0.99761#011validation-mlogloss:0.41160#011validation-accuracy:0.87407\u001b[0m\n",
      "\u001b[34m[33]#011train-mlogloss:0.08868#011train-accuracy:0.99761#011validation-mlogloss:0.41248#011validation-accuracy:0.87037\u001b[0m\n",
      "\u001b[34m[34]#011train-mlogloss:0.08620#011train-accuracy:0.99761#011validation-mlogloss:0.41107#011validation-accuracy:0.87222\u001b[0m\n",
      "\u001b[34m[35]#011train-mlogloss:0.08455#011train-accuracy:0.99761#011validation-mlogloss:0.41037#011validation-accuracy:0.87222\u001b[0m\n",
      "\u001b[34m[36]#011train-mlogloss:0.08296#011train-accuracy:0.99841#011validation-mlogloss:0.41063#011validation-accuracy:0.87222\u001b[0m\n",
      "\n",
      "2022-10-19 16:06:11 Uploading - Uploading generated training model\u001b[34m[37]#011train-mlogloss:0.08112#011train-accuracy:0.99841#011validation-mlogloss:0.40648#011validation-accuracy:0.87222\u001b[0m\n",
      "\u001b[34m[38]#011train-mlogloss:0.07997#011train-accuracy:0.99841#011validation-mlogloss:0.40715#011validation-accuracy:0.87037\u001b[0m\n",
      "\u001b[34m[39]#011train-mlogloss:0.07868#011train-accuracy:0.99841#011validation-mlogloss:0.40550#011validation-accuracy:0.87037\u001b[0m\n",
      "\u001b[34m[40]#011train-mlogloss:0.07812#011train-accuracy:0.99841#011validation-mlogloss:0.40479#011validation-accuracy:0.86852\u001b[0m\n",
      "\u001b[34m[41]#011train-mlogloss:0.07676#011train-accuracy:0.99841#011validation-mlogloss:0.40063#011validation-accuracy:0.87222\u001b[0m\n",
      "\u001b[34m[42]#011train-mlogloss:0.07644#011train-accuracy:0.99920#011validation-mlogloss:0.39954#011validation-accuracy:0.87222\u001b[0m\n",
      "\u001b[34m[43]#011train-mlogloss:0.07553#011train-accuracy:0.99920#011validation-mlogloss:0.39913#011validation-accuracy:0.87593\u001b[0m\n",
      "\u001b[34m[44]#011train-mlogloss:0.07482#011train-accuracy:0.99841#011validation-mlogloss:0.39815#011validation-accuracy:0.87407\u001b[0m\n",
      "\u001b[34m[45]#011train-mlogloss:0.07439#011train-accuracy:0.99920#011validation-mlogloss:0.39840#011validation-accuracy:0.87222\u001b[0m\n",
      "\u001b[34m[46]#011train-mlogloss:0.07310#011train-accuracy:0.99920#011validation-mlogloss:0.39876#011validation-accuracy:0.87407\u001b[0m\n",
      "\u001b[34m[47]#011train-mlogloss:0.07295#011train-accuracy:0.99920#011validation-mlogloss:0.39823#011validation-accuracy:0.87222\u001b[0m\n",
      "\u001b[34m[48]#011train-mlogloss:0.07266#011train-accuracy:0.99920#011validation-mlogloss:0.39838#011validation-accuracy:0.87222\u001b[0m\n",
      "\u001b[34m[49]#011train-mlogloss:0.07234#011train-accuracy:0.99920#011validation-mlogloss:0.39872#011validation-accuracy:0.87037\u001b[0m\n",
      "\n",
      "2022-10-19 16:06:37 Completed - Training job completed\n",
      "Training seconds: 149\n",
      "Billable seconds: 149\n",
      "CPU times: user 697 ms, sys: 129 ms, total: 826 ms\n",
      "Wall time: 4min 47s\n"
     ]
    }
   ],
   "source": [
    "%%time\n",
    "from sagemaker import image_uris\n",
    "from sagemaker.session import Session\n",
    "from sagemaker.inputs import TrainingInput\n",
    "\n",
    "hyperparameters = {\n",
    "        \"num_class\": \"10\",\n",
    "        \"max_depth\":\"5\",\n",
    "        \"eta\":\"0.2\",\n",
    "        \"gamma\":\"1\",\n",
    "        \"min_child_weight\":\"6\",\n",
    "        \"subsample\":\"0.7\",\n",
    "        \"objective\":\"multi:softmax\",\n",
    "        \"eval_metric\":\"accuracy\",\n",
    "        \"num_round\":\"50\"}\n",
    "\n",
    "# lookup the XGBoost image URI and builds an XGBoost container\n",
    "xgboost_container = sagemaker.image_uris.retrieve(\"xgboost\", region, \"1.5-1\")\n",
    "display(xgboost_container)\n",
    "\n",
    "# construct a SageMaker estimator that calls the XGBoost container\n",
    "estimator = sagemaker.estimator.Estimator(image_uri=xgboost_container, \n",
    "                                          hyperparameters=hyperparameters,\n",
    "                                          role=role,\n",
    "                                          instance_count=1, \n",
    "                                          instance_type='ml.m5.large', \n",
    "                                          volume_size=5, # 5 GB \n",
    "                                          output_path=output_path)\n",
    "\n",
    "# define the data type and paths to the training and validation datasets\n",
    "s3_input_train = TrainingInput(\n",
    "    s3_data=f's3://{BUCKET}/{PREFIX}/train', content_type=\"csv\")\n",
    "s3_input_valid = TrainingInput(\n",
    "    s3_data=f's3://{BUCKET}/{PREFIX}/valid', content_type=\"csv\")\n",
    "\n",
    "# execute the XGBoost training job\n",
    "estimator.fit({'train': s3_input_train, 'validation': s3_input_valid})"
   ]
  },
  {
   "cell_type": "markdown",
   "id": "d96c7cb8",
   "metadata": {},
   "source": [
    "## Train and Tune an Amazon SageMaker Built-In XGBoost Algorithm\n",
    "\n",
    "Amazon SageMaker AMT now orchestrates different trials. We use `tuner.wait()` to pause notebook execution until the AMT job is completed. Depending on the number of jobs and teh configuration of their paralelization this may take a while. For the example above it may take around 10 minutes. During this time you can view the status of your jobs in the console by navigating to Amazon SageMaker > Training > Hyperparameter tuning jobs.\n",
    "\n",
    "For more information on AMT job monitoring, see: https://docs.aws.amazon.com/sagemaker/latest/dg/automatic-model-tuning-monitor.html"
   ]
  },
  {
   "cell_type": "code",
   "execution_count": 12,
   "id": "6be741a8",
   "metadata": {},
   "outputs": [],
   "source": [
    "from sagemaker.tuner import IntegerParameter, CategoricalParameter\n",
    "from sagemaker.tuner import ContinuousParameter, HyperparameterTuner\n",
    "\n",
    "n_jobs = 50\n",
    "n_parallel_jobs = 2\n",
    "\n",
    "# redundant declaration - included for visibility \n",
    "hyperparameters = {\n",
    "        \"num_class\": \"10\",\n",
    "        \"max_depth\":\"5\",\n",
    "        \"eta\":\"0.2\",\n",
    "        \"gamma\":\"1\",\n",
    "        \"min_child_weight\":\"6\",\n",
    "        \"subsample\":\"0.7\",\n",
    "        \"objective\":\"multi:softmax\",\n",
    "        \"eval_metric\":\"accuracy\",\n",
    "        \"num_round\":\"50\"}\n",
    "\n",
    "hpt_ranges = {'eta': IntegerParameter(0, 1),\n",
    "              'alpha': IntegerParameter(0, 2),\n",
    "              'min_child_weight': IntegerParameter(1, 10),\n",
    "              'max_depth': IntegerParameter(1, 20)\n",
    "             }\n",
    "\n",
    "tuner_parameters = {'estimator': estimator,\n",
    "                    'base_tuning_job_name': 'bayesian',                   \n",
    "                    'objective_metric_name': 'validation:accuracy',\n",
    "                    'objective_type': 'Maximize',\n",
    "                    'hyperparameter_ranges': hpt_ranges,\n",
    "                    'strategy': 'Bayesian',\n",
    "                    'max_jobs': n_jobs,\n",
    "                    'max_parallel_jobs': n_parallel_jobs}"
   ]
  },
  {
   "cell_type": "code",
   "execution_count": 13,
   "id": "7f4d703f",
   "metadata": {},
   "outputs": [
    {
     "name": "stdout",
     "output_type": "stream",
     "text": [
      "tuning job submitted: bayesian-221019-1807.\n"
     ]
    }
   ],
   "source": [
    "tuner = HyperparameterTuner(**tuner_parameters)\n",
    "tuner.fit({'train': s3_input_train, 'validation': s3_input_valid}, wait=False)\n",
    "tuner_name = tuner.describe()[\"HyperParameterTuningJobName\"]\n",
    "print(f'tuning job submitted: {tuner_name}.')"
   ]
  },
  {
   "cell_type": "code",
   "execution_count": 14,
   "id": "e64f8a5d",
   "metadata": {},
   "outputs": [
    {
     "name": "stdout",
     "output_type": "stream",
     "text": [
      "...............................................................................................!\n"
     ]
    }
   ],
   "source": [
    "tuner.wait()"
   ]
  },
  {
   "cell_type": "markdown",
   "id": "3272c648",
   "metadata": {},
   "source": [
    "## View the AMT job statistics and results \n",
    "\n",
    "Tuning jobs you have run can be accessed from the Amazon SageMaker console at https://console.aws.amazon.com/sagemaker/. Select Hyperparameter tuning job from the Training menu to see the list. More information here: https://docs.aws.amazon.com/sagemaker/latest/dg/automatic-model-tuning-monitor.html\n",
    "\n",
    "We can check the results of the HPO jobs and investigate the hyperparameters used, the final value achieved in the objective function and the total training time per job."
   ]
  },
  {
   "cell_type": "markdown",
   "id": "8837e4f7",
   "metadata": {},
   "source": [
    "#### This can be done either via the Amazon SageMaker Python SDK"
   ]
  },
  {
   "cell_type": "code",
   "execution_count": 15,
   "id": "7564efbc",
   "metadata": {},
   "outputs": [
    {
     "data": {
      "text/html": [
       "<div>\n",
       "<style scoped>\n",
       "    .dataframe tbody tr th:only-of-type {\n",
       "        vertical-align: middle;\n",
       "    }\n",
       "\n",
       "    .dataframe tbody tr th {\n",
       "        vertical-align: top;\n",
       "    }\n",
       "\n",
       "    .dataframe thead th {\n",
       "        text-align: right;\n",
       "    }\n",
       "</style>\n",
       "<table border=\"1\" class=\"dataframe\">\n",
       "  <thead>\n",
       "    <tr style=\"text-align: right;\">\n",
       "      <th></th>\n",
       "      <th>alpha</th>\n",
       "      <th>eta</th>\n",
       "      <th>max_depth</th>\n",
       "      <th>min_child_weight</th>\n",
       "      <th>TrainingJobName</th>\n",
       "      <th>TrainingJobStatus</th>\n",
       "      <th>FinalObjectiveValue</th>\n",
       "      <th>TrainingStartTime</th>\n",
       "      <th>TrainingEndTime</th>\n",
       "      <th>TrainingElapsedTimeSeconds</th>\n",
       "    </tr>\n",
       "  </thead>\n",
       "  <tbody>\n",
       "    <tr>\n",
       "      <th>0</th>\n",
       "      <td>0.0</td>\n",
       "      <td>1.0</td>\n",
       "      <td>17.0</td>\n",
       "      <td>2.0</td>\n",
       "      <td>bayesian-221019-1807-005-10cec4fd</td>\n",
       "      <td>Completed</td>\n",
       "      <td>0.85370</td>\n",
       "      <td>2022-10-19 18:12:41+02:00</td>\n",
       "      <td>2022-10-19 18:14:44+02:00</td>\n",
       "      <td>123.0</td>\n",
       "    </tr>\n",
       "    <tr>\n",
       "      <th>1</th>\n",
       "      <td>1.0</td>\n",
       "      <td>0.0</td>\n",
       "      <td>7.0</td>\n",
       "      <td>9.0</td>\n",
       "      <td>bayesian-221019-1807-004-15837acc</td>\n",
       "      <td>Completed</td>\n",
       "      <td>0.09815</td>\n",
       "      <td>2022-10-19 18:11:36+02:00</td>\n",
       "      <td>2022-10-19 18:12:38+02:00</td>\n",
       "      <td>62.0</td>\n",
       "    </tr>\n",
       "    <tr>\n",
       "      <th>2</th>\n",
       "      <td>2.0</td>\n",
       "      <td>0.0</td>\n",
       "      <td>10.0</td>\n",
       "      <td>3.0</td>\n",
       "      <td>bayesian-221019-1807-003-1775dbe2</td>\n",
       "      <td>Completed</td>\n",
       "      <td>0.09815</td>\n",
       "      <td>2022-10-19 18:11:23+02:00</td>\n",
       "      <td>2022-10-19 18:12:30+02:00</td>\n",
       "      <td>67.0</td>\n",
       "    </tr>\n",
       "    <tr>\n",
       "      <th>3</th>\n",
       "      <td>1.0</td>\n",
       "      <td>0.0</td>\n",
       "      <td>16.0</td>\n",
       "      <td>4.0</td>\n",
       "      <td>bayesian-221019-1807-002-abfa6dd4</td>\n",
       "      <td>Completed</td>\n",
       "      <td>0.09815</td>\n",
       "      <td>2022-10-19 18:08:54+02:00</td>\n",
       "      <td>2022-10-19 18:11:26+02:00</td>\n",
       "      <td>152.0</td>\n",
       "    </tr>\n",
       "    <tr>\n",
       "      <th>4</th>\n",
       "      <td>0.0</td>\n",
       "      <td>1.0</td>\n",
       "      <td>3.0</td>\n",
       "      <td>9.0</td>\n",
       "      <td>bayesian-221019-1807-001-39fac05e</td>\n",
       "      <td>Completed</td>\n",
       "      <td>0.84815</td>\n",
       "      <td>2022-10-19 18:08:43+02:00</td>\n",
       "      <td>2022-10-19 18:11:06+02:00</td>\n",
       "      <td>143.0</td>\n",
       "    </tr>\n",
       "  </tbody>\n",
       "</table>\n",
       "</div>"
      ],
      "text/plain": [
       "   alpha  eta  max_depth  min_child_weight                    TrainingJobName  \\\n",
       "0    0.0  1.0       17.0               2.0  bayesian-221019-1807-005-10cec4fd   \n",
       "1    1.0  0.0        7.0               9.0  bayesian-221019-1807-004-15837acc   \n",
       "2    2.0  0.0       10.0               3.0  bayesian-221019-1807-003-1775dbe2   \n",
       "3    1.0  0.0       16.0               4.0  bayesian-221019-1807-002-abfa6dd4   \n",
       "4    0.0  1.0        3.0               9.0  bayesian-221019-1807-001-39fac05e   \n",
       "\n",
       "  TrainingJobStatus  FinalObjectiveValue         TrainingStartTime  \\\n",
       "0         Completed              0.85370 2022-10-19 18:12:41+02:00   \n",
       "1         Completed              0.09815 2022-10-19 18:11:36+02:00   \n",
       "2         Completed              0.09815 2022-10-19 18:11:23+02:00   \n",
       "3         Completed              0.09815 2022-10-19 18:08:54+02:00   \n",
       "4         Completed              0.84815 2022-10-19 18:08:43+02:00   \n",
       "\n",
       "            TrainingEndTime  TrainingElapsedTimeSeconds  \n",
       "0 2022-10-19 18:14:44+02:00                       123.0  \n",
       "1 2022-10-19 18:12:38+02:00                        62.0  \n",
       "2 2022-10-19 18:12:30+02:00                        67.0  \n",
       "3 2022-10-19 18:11:26+02:00                       152.0  \n",
       "4 2022-10-19 18:11:06+02:00                       143.0  "
      ]
     },
     "execution_count": 15,
     "metadata": {},
     "output_type": "execute_result"
    }
   ],
   "source": [
    "sagemaker.HyperparameterTuningJobAnalytics(tuner_name).dataframe()[:10]"
   ]
  },
  {
   "cell_type": "markdown",
   "id": "1d4d05d6",
   "metadata": {},
   "source": [
    "#### Or via the AWS SDK for Python (Boto3)"
   ]
  },
  {
   "cell_type": "markdown",
   "id": "567f7020",
   "metadata": {},
   "source": [
    "With the boto3 client we review the results of HPO job using describe_hyper_parameter_tuning_job() function."
   ]
  },
  {
   "cell_type": "code",
   "execution_count": 16,
   "id": "1732a462",
   "metadata": {},
   "outputs": [
    {
     "data": {
      "text/plain": [
       "{'TrainingJobName': 'bayesian-221019-1807-005-10cec4fd',\n",
       " 'TrainingJobArn': 'arn:aws:sagemaker:eu-west-1:811243659808:training-job/bayesian-221019-1807-005-10cec4fd',\n",
       " 'CreationTime': datetime.datetime(2022, 10, 19, 18, 12, 36, tzinfo=tzlocal()),\n",
       " 'TrainingStartTime': datetime.datetime(2022, 10, 19, 18, 12, 41, tzinfo=tzlocal()),\n",
       " 'TrainingEndTime': datetime.datetime(2022, 10, 19, 18, 14, 44, tzinfo=tzlocal()),\n",
       " 'TrainingJobStatus': 'Completed',\n",
       " 'TunedHyperParameters': {'alpha': '0',\n",
       "  'eta': '1',\n",
       "  'max_depth': '17',\n",
       "  'min_child_weight': '2'},\n",
       " 'FinalHyperParameterTuningJobObjectiveMetric': {'MetricName': 'validation:accuracy',\n",
       "  'Value': 0.8536999821662903},\n",
       " 'ObjectiveStatus': 'Succeeded'}"
      ]
     },
     "execution_count": 16,
     "metadata": {},
     "output_type": "execute_result"
    }
   ],
   "source": [
    "#sm.describe_hyper_parameter_tuning_job(HyperParameterTuningJobName=tuner_name)   # to review all statistics\n",
    "sm.describe_hyper_parameter_tuning_job(HyperParameterTuningJobName=tuner_name)['BestTrainingJob']"
   ]
  },
  {
   "cell_type": "markdown",
   "id": "ec34a9e9",
   "metadata": {},
   "source": [
    "We can also utilize the boto3 list_training_jobs_for_hyper_parameter_tuning_job() function to review the results sorted by the value of the objective function and including metric definitions. More functions available for Amazon SageMaker with boto3 are described on this page: https://boto3.amazonaws.com/v1/documentation/api/latest/reference/services/sagemaker.html"
   ]
  },
  {
   "cell_type": "code",
   "execution_count": 17,
   "id": "7414f299",
   "metadata": {},
   "outputs": [
    {
     "name": "stdout",
     "output_type": "stream",
     "text": [
      "bayesian-221019-1807-005-10cec4fd Metrics: {'train:mlogloss': 0.03440999984741211, 'train:accuracy': 1.0, 'validation:accuracy': 0.8536999821662903, 'validation:mlogloss': 0.5714799761772156, 'ObjectiveMetric': 0.8536999821662903}\n",
      "bayesian-221019-1807-001-39fac05e Metrics: {'train:mlogloss': 0.07757999747991562, 'train:accuracy': 0.988070011138916, 'validation:accuracy': 0.8481500148773193, 'validation:mlogloss': 0.520110011100769, 'ObjectiveMetric': 0.8481500148773193}\n",
      "bayesian-221019-1807-003-1775dbe2 Metrics: {'train:mlogloss': 2.3025999069213867, 'train:accuracy': 0.09944000095129013, 'validation:accuracy': 0.09814999997615814, 'validation:mlogloss': 2.3025898933410645, 'ObjectiveMetric': 0.09814999997615814}\n",
      "bayesian-221019-1807-004-15837acc Metrics: {'train:mlogloss': 2.3025999069213867, 'train:accuracy': 0.09944000095129013, 'validation:accuracy': 0.09814999997615814, 'validation:mlogloss': 2.3025898933410645, 'ObjectiveMetric': 0.09814999997615814}\n",
      "bayesian-221019-1807-002-abfa6dd4 Metrics: {'train:mlogloss': 2.3025999069213867, 'train:accuracy': 0.09944000095129013, 'validation:accuracy': 0.09814999997615814, 'validation:mlogloss': 2.3025898933410645, 'ObjectiveMetric': 0.09814999997615814}\n"
     ]
    }
   ],
   "source": [
    "hpo_jobs = sm.list_training_jobs_for_hyper_parameter_tuning_job(\n",
    "    HyperParameterTuningJobName=tuner_name,\n",
    "    MaxResults=100,\n",
    "    SortBy='FinalObjectiveMetricValue',\n",
    "    SortOrder='Descending')\n",
    "\n",
    "for job in hpo_jobs['TrainingJobSummaries'][:10]:\n",
    "    job_descr = sm.describe_training_job(TrainingJobName=job['TrainingJobName'])\n",
    "    metrics = {m['MetricName']:  m['Value'] for m in job_descr['FinalMetricDataList']}\n",
    "    print(f'{job[\"TrainingJobName\"]} Metrics: {metrics}')"
   ]
  },
  {
   "cell_type": "markdown",
   "id": "4693ac3a",
   "metadata": {
    "tags": []
   },
   "source": [
    "## Visualize AMT job results and tuned Hyperparameters\n",
    "\n",
    "Finally, we want to visualise the behaviour of our hyperparameters at different values.\n",
    "\n",
    "To do this, we are using the altair library, and have written two custom analysis scripts `job_analytics.py` and `reporting_util.py` that we make available with this notebook"
   ]
  },
  {
   "cell_type": "code",
   "execution_count": 20,
   "id": "088fb27e",
   "metadata": {},
   "outputs": [],
   "source": [
    "!pip install -Uq pip altair"
   ]
  },
  {
   "cell_type": "markdown",
   "id": "c65c1855",
   "metadata": {},
   "source": [
    "Please ensure that the role used by SageMaker allows the cloudwatch:ListMetrics action on IAM."
   ]
  },
  {
   "cell_type": "code",
   "execution_count": 19,
   "id": "1bb98224",
   "metadata": {},
   "outputs": [
    {
     "name": "stdout",
     "output_type": "stream",
     "text": [
      "Tuning job bayesian-221019-1807      status: Completed\n",
      "\n",
      "Number of training jobs with valid objective: 5\n",
      "Lowest: 0.09814999997615814 Highest 0.8536999821662903\n"
     ]
    },
    {
     "data": {
      "text/html": [
       "<div>\n",
       "<style scoped>\n",
       "    .dataframe tbody tr th:only-of-type {\n",
       "        vertical-align: middle;\n",
       "    }\n",
       "\n",
       "    .dataframe tbody tr th {\n",
       "        vertical-align: top;\n",
       "    }\n",
       "\n",
       "    .dataframe thead th {\n",
       "        text-align: right;\n",
       "    }\n",
       "</style>\n",
       "<table border=\"1\" class=\"dataframe\">\n",
       "  <thead>\n",
       "    <tr style=\"text-align: right;\">\n",
       "      <th></th>\n",
       "      <th>alpha</th>\n",
       "      <th>eta</th>\n",
       "      <th>max_depth</th>\n",
       "      <th>min_child_weight</th>\n",
       "      <th>TrainingJobName</th>\n",
       "      <th>TrainingJobStatus</th>\n",
       "      <th>TrainingStartTime</th>\n",
       "      <th>TrainingEndTime</th>\n",
       "      <th>TrainingElapsedTimeSeconds</th>\n",
       "      <th>TuningJobName</th>\n",
       "      <th>validation:accuracy</th>\n",
       "    </tr>\n",
       "  </thead>\n",
       "  <tbody>\n",
       "    <tr>\n",
       "      <th>0</th>\n",
       "      <td>0.0</td>\n",
       "      <td>1.0</td>\n",
       "      <td>17.0</td>\n",
       "      <td>2.0</td>\n",
       "      <td>bayesian-221019-1807-005-10cec4fd</td>\n",
       "      <td>Completed</td>\n",
       "      <td>2022-10-19 18:12:41+02:00</td>\n",
       "      <td>2022-10-19 18:14:44+02:00</td>\n",
       "      <td>123.0</td>\n",
       "      <td>bayesian-221019-1807</td>\n",
       "      <td>0.85370</td>\n",
       "    </tr>\n",
       "    <tr>\n",
       "      <th>4</th>\n",
       "      <td>0.0</td>\n",
       "      <td>1.0</td>\n",
       "      <td>3.0</td>\n",
       "      <td>9.0</td>\n",
       "      <td>bayesian-221019-1807-001-39fac05e</td>\n",
       "      <td>Completed</td>\n",
       "      <td>2022-10-19 18:08:43+02:00</td>\n",
       "      <td>2022-10-19 18:11:06+02:00</td>\n",
       "      <td>143.0</td>\n",
       "      <td>bayesian-221019-1807</td>\n",
       "      <td>0.84815</td>\n",
       "    </tr>\n",
       "    <tr>\n",
       "      <th>1</th>\n",
       "      <td>1.0</td>\n",
       "      <td>0.0</td>\n",
       "      <td>7.0</td>\n",
       "      <td>9.0</td>\n",
       "      <td>bayesian-221019-1807-004-15837acc</td>\n",
       "      <td>Completed</td>\n",
       "      <td>2022-10-19 18:11:36+02:00</td>\n",
       "      <td>2022-10-19 18:12:38+02:00</td>\n",
       "      <td>62.0</td>\n",
       "      <td>bayesian-221019-1807</td>\n",
       "      <td>0.09815</td>\n",
       "    </tr>\n",
       "    <tr>\n",
       "      <th>2</th>\n",
       "      <td>2.0</td>\n",
       "      <td>0.0</td>\n",
       "      <td>10.0</td>\n",
       "      <td>3.0</td>\n",
       "      <td>bayesian-221019-1807-003-1775dbe2</td>\n",
       "      <td>Completed</td>\n",
       "      <td>2022-10-19 18:11:23+02:00</td>\n",
       "      <td>2022-10-19 18:12:30+02:00</td>\n",
       "      <td>67.0</td>\n",
       "      <td>bayesian-221019-1807</td>\n",
       "      <td>0.09815</td>\n",
       "    </tr>\n",
       "    <tr>\n",
       "      <th>3</th>\n",
       "      <td>1.0</td>\n",
       "      <td>0.0</td>\n",
       "      <td>16.0</td>\n",
       "      <td>4.0</td>\n",
       "      <td>bayesian-221019-1807-002-abfa6dd4</td>\n",
       "      <td>Completed</td>\n",
       "      <td>2022-10-19 18:08:54+02:00</td>\n",
       "      <td>2022-10-19 18:11:26+02:00</td>\n",
       "      <td>152.0</td>\n",
       "      <td>bayesian-221019-1807</td>\n",
       "      <td>0.09815</td>\n",
       "    </tr>\n",
       "  </tbody>\n",
       "</table>\n",
       "</div>"
      ],
      "text/plain": [
       "   alpha  eta  max_depth  min_child_weight                    TrainingJobName TrainingJobStatus         TrainingStartTime           TrainingEndTime  TrainingElapsedTimeSeconds         TuningJobName  validation:accuracy\n",
       "0    0.0  1.0       17.0               2.0  bayesian-221019-1807-005-10cec4fd         Completed 2022-10-19 18:12:41+02:00 2022-10-19 18:14:44+02:00                       123.0  bayesian-221019-1807              0.85370\n",
       "4    0.0  1.0        3.0               9.0  bayesian-221019-1807-001-39fac05e         Completed 2022-10-19 18:08:43+02:00 2022-10-19 18:11:06+02:00                       143.0  bayesian-221019-1807              0.84815\n",
       "1    1.0  0.0        7.0               9.0  bayesian-221019-1807-004-15837acc         Completed 2022-10-19 18:11:36+02:00 2022-10-19 18:12:38+02:00                        62.0  bayesian-221019-1807              0.09815\n",
       "2    2.0  0.0       10.0               3.0  bayesian-221019-1807-003-1775dbe2         Completed 2022-10-19 18:11:23+02:00 2022-10-19 18:12:30+02:00                        67.0  bayesian-221019-1807              0.09815\n",
       "3    1.0  0.0       16.0               4.0  bayesian-221019-1807-002-abfa6dd4         Completed 2022-10-19 18:08:54+02:00 2022-10-19 18:11:26+02:00                       152.0  bayesian-221019-1807              0.09815"
      ]
     },
     "metadata": {},
     "output_type": "display_data"
    },
    {
     "data": {
      "application/vnd.vegalite.v4+json": {
       "$schema": "https://vega.github.io/schema/vega-lite/v4.17.0.json",
       "config": {
        "view": {
         "continuousHeight": 300,
         "continuousWidth": 400
        }
       },
       "data": {
        "name": "data-52a3c52f64db4637b8d81dd9d906025a"
       },
       "datasets": {
        "data-52a3c52f64db4637b8d81dd9d906025a": [
         {
          "TrainingElapsedTimeSeconds": 123,
          "TrainingEndTime": "2022-10-19T18:14:44+02:00",
          "TrainingJobName": "bayesian-221019-1807-005-10cec4fd",
          "TrainingJobStatus": "Completed",
          "TrainingStartTime": "2022-10-19T18:12:41+02:00",
          "TuningJobName": "bayesian-221019-1807",
          "alpha": 0,
          "eta": 1,
          "max_depth": 17,
          "min_child_weight": 2,
          "validation:accuracy": 0.8536999821662903
         },
         {
          "TrainingElapsedTimeSeconds": 143,
          "TrainingEndTime": "2022-10-19T18:11:06+02:00",
          "TrainingJobName": "bayesian-221019-1807-001-39fac05e",
          "TrainingJobStatus": "Completed",
          "TrainingStartTime": "2022-10-19T18:08:43+02:00",
          "TuningJobName": "bayesian-221019-1807",
          "alpha": 0,
          "eta": 1,
          "max_depth": 3,
          "min_child_weight": 9,
          "validation:accuracy": 0.8481500148773193
         },
         {
          "TrainingElapsedTimeSeconds": 62,
          "TrainingEndTime": "2022-10-19T18:12:38+02:00",
          "TrainingJobName": "bayesian-221019-1807-004-15837acc",
          "TrainingJobStatus": "Completed",
          "TrainingStartTime": "2022-10-19T18:11:36+02:00",
          "TuningJobName": "bayesian-221019-1807",
          "alpha": 1,
          "eta": 0,
          "max_depth": 7,
          "min_child_weight": 9,
          "validation:accuracy": 0.09814999997615814
         },
         {
          "TrainingElapsedTimeSeconds": 67,
          "TrainingEndTime": "2022-10-19T18:12:30+02:00",
          "TrainingJobName": "bayesian-221019-1807-003-1775dbe2",
          "TrainingJobStatus": "Completed",
          "TrainingStartTime": "2022-10-19T18:11:23+02:00",
          "TuningJobName": "bayesian-221019-1807",
          "alpha": 2,
          "eta": 0,
          "max_depth": 10,
          "min_child_weight": 3,
          "validation:accuracy": 0.09814999997615814
         },
         {
          "TrainingElapsedTimeSeconds": 152,
          "TrainingEndTime": "2022-10-19T18:11:26+02:00",
          "TrainingJobName": "bayesian-221019-1807-002-abfa6dd4",
          "TrainingJobStatus": "Completed",
          "TrainingStartTime": "2022-10-19T18:08:54+02:00",
          "TuningJobName": "bayesian-221019-1807",
          "alpha": 1,
          "eta": 0,
          "max_depth": 16,
          "min_child_weight": 4,
          "validation:accuracy": 0.09814999997615814
         }
        ],
        "data-a5a2066a56aa54fd2b4bc6352a48aad0": [
         {
          "TrainingElapsedTimeSeconds": 123,
          "TrainingEndTime": "2022-10-19T18:14:44+02:00",
          "TrainingJobName": "bayesian-221019-1807-005-10cec4fd",
          "TrainingJobStatus": "Completed",
          "TrainingStartTime": "2022-10-19T18:12:41+02:00",
          "TuningJobName": "bayesian-221019-1807",
          "alpha": 0,
          "eta": 1,
          "label": "validation:mlogloss",
          "max_depth": 17,
          "min_child_weight": 2,
          "rel_ts": "1970-01-01T00:00:00+00:00",
          "ts": "2022-10-19T16:13:00+00:00",
          "update": null,
          "validation:accuracy": 0.8536999821662903,
          "value": 0.5957781818181819
         },
         {
          "TrainingElapsedTimeSeconds": 123,
          "TrainingEndTime": "2022-10-19T18:14:44+02:00",
          "TrainingJobName": "bayesian-221019-1807-005-10cec4fd",
          "TrainingJobStatus": "Completed",
          "TrainingStartTime": "2022-10-19T18:12:41+02:00",
          "TuningJobName": "bayesian-221019-1807",
          "alpha": 0,
          "eta": 1,
          "label": "ObjectiveMetric",
          "max_depth": 17,
          "min_child_weight": 2,
          "rel_ts": "1970-01-01T00:00:00+00:00",
          "ts": "2022-10-19T16:13:00+00:00",
          "update": null,
          "validation:accuracy": 0.8536999821662903,
          "value": 0.8486554545454544
         },
         {
          "TrainingElapsedTimeSeconds": 123,
          "TrainingEndTime": "2022-10-19T18:14:44+02:00",
          "TrainingJobName": "bayesian-221019-1807-005-10cec4fd",
          "TrainingJobStatus": "Completed",
          "TrainingStartTime": "2022-10-19T18:12:41+02:00",
          "TuningJobName": "bayesian-221019-1807",
          "alpha": 0,
          "eta": 1,
          "label": "train:mlogloss",
          "max_depth": 17,
          "min_child_weight": 2,
          "rel_ts": "1970-01-01T00:00:00+00:00",
          "ts": "2022-10-19T16:13:00+00:00",
          "update": null,
          "validation:accuracy": 0.8536999821662903,
          "value": 0.07237545454545455
         },
         {
          "TrainingElapsedTimeSeconds": 123,
          "TrainingEndTime": "2022-10-19T18:14:44+02:00",
          "TrainingJobName": "bayesian-221019-1807-005-10cec4fd",
          "TrainingJobStatus": "Completed",
          "TrainingStartTime": "2022-10-19T18:12:41+02:00",
          "TuningJobName": "bayesian-221019-1807",
          "alpha": 0,
          "eta": 1,
          "label": "validation:accuracy",
          "max_depth": 17,
          "min_child_weight": 2,
          "rel_ts": "1970-01-01T00:00:00+00:00",
          "ts": "2022-10-19T16:13:00+00:00",
          "update": 1,
          "validation:accuracy": 0.8536999821662903,
          "value": 0.8486554545454544
         },
         {
          "TrainingElapsedTimeSeconds": 123,
          "TrainingEndTime": "2022-10-19T18:14:44+02:00",
          "TrainingJobName": "bayesian-221019-1807-005-10cec4fd",
          "TrainingJobStatus": "Completed",
          "TrainingStartTime": "2022-10-19T18:12:41+02:00",
          "TuningJobName": "bayesian-221019-1807",
          "alpha": 0,
          "eta": 1,
          "label": "train:accuracy",
          "max_depth": 17,
          "min_child_weight": 2,
          "rel_ts": "1970-01-01T00:00:00+00:00",
          "ts": "2022-10-19T16:13:00+00:00",
          "update": null,
          "validation:accuracy": 0.8536999821662903,
          "value": 0.9916090909090909
         },
         {
          "TrainingElapsedTimeSeconds": 123,
          "TrainingEndTime": "2022-10-19T18:14:44+02:00",
          "TrainingJobName": "bayesian-221019-1807-005-10cec4fd",
          "TrainingJobStatus": "Completed",
          "TrainingStartTime": "2022-10-19T18:12:41+02:00",
          "TuningJobName": "bayesian-221019-1807",
          "alpha": 0,
          "eta": 1,
          "label": "CPUUtilization",
          "max_depth": 17,
          "min_child_weight": 2,
          "rel_ts": "1970-01-01T00:01:00+00:00",
          "ts": "2022-10-19T16:14:00+00:00",
          "update": null,
          "validation:accuracy": 0.8536999821662903,
          "value": 0
         },
         {
          "TrainingElapsedTimeSeconds": 123,
          "TrainingEndTime": "2022-10-19T18:14:44+02:00",
          "TrainingJobName": "bayesian-221019-1807-005-10cec4fd",
          "TrainingJobStatus": "Completed",
          "TrainingStartTime": "2022-10-19T18:12:41+02:00",
          "TuningJobName": "bayesian-221019-1807",
          "alpha": 0,
          "eta": 1,
          "label": "CPUUtilization",
          "max_depth": 17,
          "min_child_weight": 2,
          "rel_ts": "1970-01-01T00:00:00+00:00",
          "ts": "2022-10-19T16:13:00+00:00",
          "update": null,
          "validation:accuracy": 0.8536999821662903,
          "value": 67.0064
         },
         {
          "TrainingElapsedTimeSeconds": 123,
          "TrainingEndTime": "2022-10-19T18:14:44+02:00",
          "TrainingJobName": "bayesian-221019-1807-005-10cec4fd",
          "TrainingJobStatus": "Completed",
          "TrainingStartTime": "2022-10-19T18:12:41+02:00",
          "TuningJobName": "bayesian-221019-1807",
          "alpha": 0,
          "eta": 1,
          "label": "MemoryUtilization",
          "max_depth": 17,
          "min_child_weight": 2,
          "rel_ts": "1970-01-01T00:01:00+00:00",
          "ts": "2022-10-19T16:14:00+00:00",
          "update": null,
          "validation:accuracy": 0.8536999821662903,
          "value": 0
         },
         {
          "TrainingElapsedTimeSeconds": 123,
          "TrainingEndTime": "2022-10-19T18:14:44+02:00",
          "TrainingJobName": "bayesian-221019-1807-005-10cec4fd",
          "TrainingJobStatus": "Completed",
          "TrainingStartTime": "2022-10-19T18:12:41+02:00",
          "TuningJobName": "bayesian-221019-1807",
          "alpha": 0,
          "eta": 1,
          "label": "MemoryUtilization",
          "max_depth": 17,
          "min_child_weight": 2,
          "rel_ts": "1970-01-01T00:00:00+00:00",
          "ts": "2022-10-19T16:13:00+00:00",
          "update": null,
          "validation:accuracy": 0.8536999821662903,
          "value": 2.24396
         },
         {
          "TrainingElapsedTimeSeconds": 123,
          "TrainingEndTime": "2022-10-19T18:14:44+02:00",
          "TrainingJobName": "bayesian-221019-1807-005-10cec4fd",
          "TrainingJobStatus": "Completed",
          "TrainingStartTime": "2022-10-19T18:12:41+02:00",
          "TuningJobName": "bayesian-221019-1807",
          "alpha": 0,
          "eta": 1,
          "label": "DiskUtilization",
          "max_depth": 17,
          "min_child_weight": 2,
          "rel_ts": "1970-01-01T00:01:00+00:00",
          "ts": "2022-10-19T16:14:00+00:00",
          "update": null,
          "validation:accuracy": 0.8536999821662903,
          "value": 0.0180148
         },
         {
          "TrainingElapsedTimeSeconds": 123,
          "TrainingEndTime": "2022-10-19T18:14:44+02:00",
          "TrainingJobName": "bayesian-221019-1807-005-10cec4fd",
          "TrainingJobStatus": "Completed",
          "TrainingStartTime": "2022-10-19T18:12:41+02:00",
          "TuningJobName": "bayesian-221019-1807",
          "alpha": 0,
          "eta": 1,
          "label": "DiskUtilization",
          "max_depth": 17,
          "min_child_weight": 2,
          "rel_ts": "1970-01-01T00:00:00+00:00",
          "ts": "2022-10-19T16:13:00+00:00",
          "update": null,
          "validation:accuracy": 0.8536999821662903,
          "value": 0.0125103
         },
         {
          "TrainingElapsedTimeSeconds": 143,
          "TrainingEndTime": "2022-10-19T18:11:06+02:00",
          "TrainingJobName": "bayesian-221019-1807-001-39fac05e",
          "TrainingJobStatus": "Completed",
          "TrainingStartTime": "2022-10-19T18:08:43+02:00",
          "TuningJobName": "bayesian-221019-1807",
          "alpha": 0,
          "eta": 1,
          "label": "validation:mlogloss",
          "max_depth": 3,
          "min_child_weight": 9,
          "rel_ts": "1970-01-01T00:00:00+00:00",
          "ts": "2022-10-19T16:10:00+00:00",
          "update": null,
          "validation:accuracy": 0.8481500148773193,
          "value": 0.662025
         },
         {
          "TrainingElapsedTimeSeconds": 143,
          "TrainingEndTime": "2022-10-19T18:11:06+02:00",
          "TrainingJobName": "bayesian-221019-1807-001-39fac05e",
          "TrainingJobStatus": "Completed",
          "TrainingStartTime": "2022-10-19T18:08:43+02:00",
          "TuningJobName": "bayesian-221019-1807",
          "alpha": 0,
          "eta": 1,
          "label": "ObjectiveMetric",
          "max_depth": 3,
          "min_child_weight": 9,
          "rel_ts": "1970-01-01T00:00:00+00:00",
          "ts": "2022-10-19T16:10:00+00:00",
          "update": null,
          "validation:accuracy": 0.8481500148773193,
          "value": 0.81528
         },
         {
          "TrainingElapsedTimeSeconds": 143,
          "TrainingEndTime": "2022-10-19T18:11:06+02:00",
          "TrainingJobName": "bayesian-221019-1807-001-39fac05e",
          "TrainingJobStatus": "Completed",
          "TrainingStartTime": "2022-10-19T18:08:43+02:00",
          "TuningJobName": "bayesian-221019-1807",
          "alpha": 0,
          "eta": 1,
          "label": "train:mlogloss",
          "max_depth": 3,
          "min_child_weight": 9,
          "rel_ts": "1970-01-01T00:00:00+00:00",
          "ts": "2022-10-19T16:10:00+00:00",
          "update": null,
          "validation:accuracy": 0.8481500148773193,
          "value": 0.2351625
         },
         {
          "TrainingElapsedTimeSeconds": 143,
          "TrainingEndTime": "2022-10-19T18:11:06+02:00",
          "TrainingJobName": "bayesian-221019-1807-001-39fac05e",
          "TrainingJobStatus": "Completed",
          "TrainingStartTime": "2022-10-19T18:08:43+02:00",
          "TuningJobName": "bayesian-221019-1807",
          "alpha": 0,
          "eta": 1,
          "label": "validation:accuracy",
          "max_depth": 3,
          "min_child_weight": 9,
          "rel_ts": "1970-01-01T00:00:00+00:00",
          "ts": "2022-10-19T16:10:00+00:00",
          "update": 1,
          "validation:accuracy": 0.8481500148773193,
          "value": 0.81528
         },
         {
          "TrainingElapsedTimeSeconds": 143,
          "TrainingEndTime": "2022-10-19T18:11:06+02:00",
          "TrainingJobName": "bayesian-221019-1807-001-39fac05e",
          "TrainingJobStatus": "Completed",
          "TrainingStartTime": "2022-10-19T18:08:43+02:00",
          "TuningJobName": "bayesian-221019-1807",
          "alpha": 0,
          "eta": 1,
          "label": "train:accuracy",
          "max_depth": 3,
          "min_child_weight": 9,
          "rel_ts": "1970-01-01T00:00:00+00:00",
          "ts": "2022-10-19T16:10:00+00:00",
          "update": null,
          "validation:accuracy": 0.8481500148773193,
          "value": 0.9468975
         },
         {
          "TrainingElapsedTimeSeconds": 143,
          "TrainingEndTime": "2022-10-19T18:11:06+02:00",
          "TrainingJobName": "bayesian-221019-1807-001-39fac05e",
          "TrainingJobStatus": "Completed",
          "TrainingStartTime": "2022-10-19T18:08:43+02:00",
          "TuningJobName": "bayesian-221019-1807",
          "alpha": 0,
          "eta": 1,
          "label": "CPUUtilization",
          "max_depth": 3,
          "min_child_weight": 9,
          "rel_ts": "1970-01-01T00:00:00+00:00",
          "ts": "2022-10-19T16:10:00+00:00",
          "update": null,
          "validation:accuracy": 0.8481500148773193,
          "value": 73.705
         },
         {
          "TrainingElapsedTimeSeconds": 143,
          "TrainingEndTime": "2022-10-19T18:11:06+02:00",
          "TrainingJobName": "bayesian-221019-1807-001-39fac05e",
          "TrainingJobStatus": "Completed",
          "TrainingStartTime": "2022-10-19T18:08:43+02:00",
          "TuningJobName": "bayesian-221019-1807",
          "alpha": 0,
          "eta": 1,
          "label": "MemoryUtilization",
          "max_depth": 3,
          "min_child_weight": 9,
          "rel_ts": "1970-01-01T00:00:00+00:00",
          "ts": "2022-10-19T16:10:00+00:00",
          "update": null,
          "validation:accuracy": 0.8481500148773193,
          "value": 2.24344
         },
         {
          "TrainingElapsedTimeSeconds": 143,
          "TrainingEndTime": "2022-10-19T18:11:06+02:00",
          "TrainingJobName": "bayesian-221019-1807-001-39fac05e",
          "TrainingJobStatus": "Completed",
          "TrainingStartTime": "2022-10-19T18:08:43+02:00",
          "TuningJobName": "bayesian-221019-1807",
          "alpha": 0,
          "eta": 1,
          "label": "DiskUtilization",
          "max_depth": 3,
          "min_child_weight": 9,
          "rel_ts": "1970-01-01T00:00:00+00:00",
          "ts": "2022-10-19T16:10:00+00:00",
          "update": null,
          "validation:accuracy": 0.8481500148773193,
          "value": 0.0128439
         },
         {
          "TrainingElapsedTimeSeconds": 62,
          "TrainingEndTime": "2022-10-19T18:12:38+02:00",
          "TrainingJobName": "bayesian-221019-1807-004-15837acc",
          "TrainingJobStatus": "Completed",
          "TrainingStartTime": "2022-10-19T18:11:36+02:00",
          "TuningJobName": "bayesian-221019-1807",
          "alpha": 1,
          "eta": 0,
          "label": "validation:mlogloss",
          "max_depth": 7,
          "min_child_weight": 9,
          "rel_ts": "1970-01-01T00:00:00+00:00",
          "ts": "2022-10-19T16:12:00+00:00",
          "update": null,
          "validation:accuracy": 0.09814999997615814,
          "value": 2.30259
         },
         {
          "TrainingElapsedTimeSeconds": 62,
          "TrainingEndTime": "2022-10-19T18:12:38+02:00",
          "TrainingJobName": "bayesian-221019-1807-004-15837acc",
          "TrainingJobStatus": "Completed",
          "TrainingStartTime": "2022-10-19T18:11:36+02:00",
          "TuningJobName": "bayesian-221019-1807",
          "alpha": 1,
          "eta": 0,
          "label": "ObjectiveMetric",
          "max_depth": 7,
          "min_child_weight": 9,
          "rel_ts": "1970-01-01T00:00:00+00:00",
          "ts": "2022-10-19T16:12:00+00:00",
          "update": null,
          "validation:accuracy": 0.09814999997615814,
          "value": 0.09815
         },
         {
          "TrainingElapsedTimeSeconds": 62,
          "TrainingEndTime": "2022-10-19T18:12:38+02:00",
          "TrainingJobName": "bayesian-221019-1807-004-15837acc",
          "TrainingJobStatus": "Completed",
          "TrainingStartTime": "2022-10-19T18:11:36+02:00",
          "TuningJobName": "bayesian-221019-1807",
          "alpha": 1,
          "eta": 0,
          "label": "train:mlogloss",
          "max_depth": 7,
          "min_child_weight": 9,
          "rel_ts": "1970-01-01T00:00:00+00:00",
          "ts": "2022-10-19T16:12:00+00:00",
          "update": null,
          "validation:accuracy": 0.09814999997615814,
          "value": 2.3026
         },
         {
          "TrainingElapsedTimeSeconds": 62,
          "TrainingEndTime": "2022-10-19T18:12:38+02:00",
          "TrainingJobName": "bayesian-221019-1807-004-15837acc",
          "TrainingJobStatus": "Completed",
          "TrainingStartTime": "2022-10-19T18:11:36+02:00",
          "TuningJobName": "bayesian-221019-1807",
          "alpha": 1,
          "eta": 0,
          "label": "validation:accuracy",
          "max_depth": 7,
          "min_child_weight": 9,
          "rel_ts": "1970-01-01T00:00:00+00:00",
          "ts": "2022-10-19T16:12:00+00:00",
          "update": 1,
          "validation:accuracy": 0.09814999997615814,
          "value": 0.09815
         },
         {
          "TrainingElapsedTimeSeconds": 62,
          "TrainingEndTime": "2022-10-19T18:12:38+02:00",
          "TrainingJobName": "bayesian-221019-1807-004-15837acc",
          "TrainingJobStatus": "Completed",
          "TrainingStartTime": "2022-10-19T18:11:36+02:00",
          "TuningJobName": "bayesian-221019-1807",
          "alpha": 1,
          "eta": 0,
          "label": "train:accuracy",
          "max_depth": 7,
          "min_child_weight": 9,
          "rel_ts": "1970-01-01T00:00:00+00:00",
          "ts": "2022-10-19T16:12:00+00:00",
          "update": null,
          "validation:accuracy": 0.09814999997615814,
          "value": 0.09944
         },
         {
          "TrainingElapsedTimeSeconds": 62,
          "TrainingEndTime": "2022-10-19T18:12:38+02:00",
          "TrainingJobName": "bayesian-221019-1807-004-15837acc",
          "TrainingJobStatus": "Completed",
          "TrainingStartTime": "2022-10-19T18:11:36+02:00",
          "TuningJobName": "bayesian-221019-1807",
          "alpha": 1,
          "eta": 0,
          "label": "CPUUtilization",
          "max_depth": 7,
          "min_child_weight": 9,
          "rel_ts": "1970-01-01T00:00:00+00:00",
          "ts": "2022-10-19T16:12:00+00:00",
          "update": null,
          "validation:accuracy": 0.09814999997615814,
          "value": 50.2964
         },
         {
          "TrainingElapsedTimeSeconds": 62,
          "TrainingEndTime": "2022-10-19T18:12:38+02:00",
          "TrainingJobName": "bayesian-221019-1807-004-15837acc",
          "TrainingJobStatus": "Completed",
          "TrainingStartTime": "2022-10-19T18:11:36+02:00",
          "TuningJobName": "bayesian-221019-1807",
          "alpha": 1,
          "eta": 0,
          "label": "MemoryUtilization",
          "max_depth": 7,
          "min_child_weight": 9,
          "rel_ts": "1970-01-01T00:00:00+00:00",
          "ts": "2022-10-19T16:12:00+00:00",
          "update": null,
          "validation:accuracy": 0.09814999997615814,
          "value": 1.61723
         },
         {
          "TrainingElapsedTimeSeconds": 62,
          "TrainingEndTime": "2022-10-19T18:12:38+02:00",
          "TrainingJobName": "bayesian-221019-1807-004-15837acc",
          "TrainingJobStatus": "Completed",
          "TrainingStartTime": "2022-10-19T18:11:36+02:00",
          "TuningJobName": "bayesian-221019-1807",
          "alpha": 1,
          "eta": 0,
          "label": "DiskUtilization",
          "max_depth": 7,
          "min_child_weight": 9,
          "rel_ts": "1970-01-01T00:00:00+00:00",
          "ts": "2022-10-19T16:12:00+00:00",
          "update": null,
          "validation:accuracy": 0.09814999997615814,
          "value": 0.0124269
         },
         {
          "TrainingElapsedTimeSeconds": 67,
          "TrainingEndTime": "2022-10-19T18:12:30+02:00",
          "TrainingJobName": "bayesian-221019-1807-003-1775dbe2",
          "TrainingJobStatus": "Completed",
          "TrainingStartTime": "2022-10-19T18:11:23+02:00",
          "TuningJobName": "bayesian-221019-1807",
          "alpha": 2,
          "eta": 0,
          "label": "validation:mlogloss",
          "max_depth": 10,
          "min_child_weight": 3,
          "rel_ts": "1970-01-01T00:00:00+00:00",
          "ts": "2022-10-19T16:12:00+00:00",
          "update": null,
          "validation:accuracy": 0.09814999997615814,
          "value": 2.30259
         },
         {
          "TrainingElapsedTimeSeconds": 67,
          "TrainingEndTime": "2022-10-19T18:12:30+02:00",
          "TrainingJobName": "bayesian-221019-1807-003-1775dbe2",
          "TrainingJobStatus": "Completed",
          "TrainingStartTime": "2022-10-19T18:11:23+02:00",
          "TuningJobName": "bayesian-221019-1807",
          "alpha": 2,
          "eta": 0,
          "label": "ObjectiveMetric",
          "max_depth": 10,
          "min_child_weight": 3,
          "rel_ts": "1970-01-01T00:00:00+00:00",
          "ts": "2022-10-19T16:12:00+00:00",
          "update": null,
          "validation:accuracy": 0.09814999997615814,
          "value": 0.09815
         },
         {
          "TrainingElapsedTimeSeconds": 67,
          "TrainingEndTime": "2022-10-19T18:12:30+02:00",
          "TrainingJobName": "bayesian-221019-1807-003-1775dbe2",
          "TrainingJobStatus": "Completed",
          "TrainingStartTime": "2022-10-19T18:11:23+02:00",
          "TuningJobName": "bayesian-221019-1807",
          "alpha": 2,
          "eta": 0,
          "label": "train:mlogloss",
          "max_depth": 10,
          "min_child_weight": 3,
          "rel_ts": "1970-01-01T00:00:00+00:00",
          "ts": "2022-10-19T16:12:00+00:00",
          "update": null,
          "validation:accuracy": 0.09814999997615814,
          "value": 2.3026
         },
         {
          "TrainingElapsedTimeSeconds": 67,
          "TrainingEndTime": "2022-10-19T18:12:30+02:00",
          "TrainingJobName": "bayesian-221019-1807-003-1775dbe2",
          "TrainingJobStatus": "Completed",
          "TrainingStartTime": "2022-10-19T18:11:23+02:00",
          "TuningJobName": "bayesian-221019-1807",
          "alpha": 2,
          "eta": 0,
          "label": "validation:accuracy",
          "max_depth": 10,
          "min_child_weight": 3,
          "rel_ts": "1970-01-01T00:00:00+00:00",
          "ts": "2022-10-19T16:12:00+00:00",
          "update": 1,
          "validation:accuracy": 0.09814999997615814,
          "value": 0.09815
         },
         {
          "TrainingElapsedTimeSeconds": 67,
          "TrainingEndTime": "2022-10-19T18:12:30+02:00",
          "TrainingJobName": "bayesian-221019-1807-003-1775dbe2",
          "TrainingJobStatus": "Completed",
          "TrainingStartTime": "2022-10-19T18:11:23+02:00",
          "TuningJobName": "bayesian-221019-1807",
          "alpha": 2,
          "eta": 0,
          "label": "train:accuracy",
          "max_depth": 10,
          "min_child_weight": 3,
          "rel_ts": "1970-01-01T00:00:00+00:00",
          "ts": "2022-10-19T16:12:00+00:00",
          "update": null,
          "validation:accuracy": 0.09814999997615814,
          "value": 0.09943999999999999
         },
         {
          "TrainingElapsedTimeSeconds": 67,
          "TrainingEndTime": "2022-10-19T18:12:30+02:00",
          "TrainingJobName": "bayesian-221019-1807-003-1775dbe2",
          "TrainingJobStatus": "Completed",
          "TrainingStartTime": "2022-10-19T18:11:23+02:00",
          "TuningJobName": "bayesian-221019-1807",
          "alpha": 2,
          "eta": 0,
          "label": "CPUUtilization",
          "max_depth": 10,
          "min_child_weight": 3,
          "rel_ts": "1970-01-01T00:00:00+00:00",
          "ts": "2022-10-19T16:11:00+00:00",
          "update": null,
          "validation:accuracy": 0.09814999997615814,
          "value": 49.6966
         },
         {
          "TrainingElapsedTimeSeconds": 67,
          "TrainingEndTime": "2022-10-19T18:12:30+02:00",
          "TrainingJobName": "bayesian-221019-1807-003-1775dbe2",
          "TrainingJobStatus": "Completed",
          "TrainingStartTime": "2022-10-19T18:11:23+02:00",
          "TuningJobName": "bayesian-221019-1807",
          "alpha": 2,
          "eta": 0,
          "label": "MemoryUtilization",
          "max_depth": 10,
          "min_child_weight": 3,
          "rel_ts": "1970-01-01T00:00:00+00:00",
          "ts": "2022-10-19T16:11:00+00:00",
          "update": null,
          "validation:accuracy": 0.09814999997615814,
          "value": 1.66416
         },
         {
          "TrainingElapsedTimeSeconds": 67,
          "TrainingEndTime": "2022-10-19T18:12:30+02:00",
          "TrainingJobName": "bayesian-221019-1807-003-1775dbe2",
          "TrainingJobStatus": "Completed",
          "TrainingStartTime": "2022-10-19T18:11:23+02:00",
          "TuningJobName": "bayesian-221019-1807",
          "alpha": 2,
          "eta": 0,
          "label": "DiskUtilization",
          "max_depth": 10,
          "min_child_weight": 3,
          "rel_ts": "1970-01-01T00:00:00+00:00",
          "ts": "2022-10-19T16:11:00+00:00",
          "update": null,
          "validation:accuracy": 0.09814999997615814,
          "value": 0.0124269
         },
         {
          "TrainingElapsedTimeSeconds": 152,
          "TrainingEndTime": "2022-10-19T18:11:26+02:00",
          "TrainingJobName": "bayesian-221019-1807-002-abfa6dd4",
          "TrainingJobStatus": "Completed",
          "TrainingStartTime": "2022-10-19T18:08:54+02:00",
          "TuningJobName": "bayesian-221019-1807",
          "alpha": 1,
          "eta": 0,
          "label": "validation:mlogloss",
          "max_depth": 16,
          "min_child_weight": 4,
          "rel_ts": "1970-01-01T00:01:00+00:00",
          "ts": "2022-10-19T16:11:00+00:00",
          "update": null,
          "validation:accuracy": 0.09814999997615814,
          "value": 2.30259
         },
         {
          "TrainingElapsedTimeSeconds": 152,
          "TrainingEndTime": "2022-10-19T18:11:26+02:00",
          "TrainingJobName": "bayesian-221019-1807-002-abfa6dd4",
          "TrainingJobStatus": "Completed",
          "TrainingStartTime": "2022-10-19T18:08:54+02:00",
          "TuningJobName": "bayesian-221019-1807",
          "alpha": 1,
          "eta": 0,
          "label": "validation:mlogloss",
          "max_depth": 16,
          "min_child_weight": 4,
          "rel_ts": "1970-01-01T00:00:00+00:00",
          "ts": "2022-10-19T16:10:00+00:00",
          "update": null,
          "validation:accuracy": 0.09814999997615814,
          "value": 2.30259
         },
         {
          "TrainingElapsedTimeSeconds": 152,
          "TrainingEndTime": "2022-10-19T18:11:26+02:00",
          "TrainingJobName": "bayesian-221019-1807-002-abfa6dd4",
          "TrainingJobStatus": "Completed",
          "TrainingStartTime": "2022-10-19T18:08:54+02:00",
          "TuningJobName": "bayesian-221019-1807",
          "alpha": 1,
          "eta": 0,
          "label": "ObjectiveMetric",
          "max_depth": 16,
          "min_child_weight": 4,
          "rel_ts": "1970-01-01T00:01:00+00:00",
          "ts": "2022-10-19T16:11:00+00:00",
          "update": null,
          "validation:accuracy": 0.09814999997615814,
          "value": 0.09815
         },
         {
          "TrainingElapsedTimeSeconds": 152,
          "TrainingEndTime": "2022-10-19T18:11:26+02:00",
          "TrainingJobName": "bayesian-221019-1807-002-abfa6dd4",
          "TrainingJobStatus": "Completed",
          "TrainingStartTime": "2022-10-19T18:08:54+02:00",
          "TuningJobName": "bayesian-221019-1807",
          "alpha": 1,
          "eta": 0,
          "label": "ObjectiveMetric",
          "max_depth": 16,
          "min_child_weight": 4,
          "rel_ts": "1970-01-01T00:00:00+00:00",
          "ts": "2022-10-19T16:10:00+00:00",
          "update": null,
          "validation:accuracy": 0.09814999997615814,
          "value": 0.09815
         },
         {
          "TrainingElapsedTimeSeconds": 152,
          "TrainingEndTime": "2022-10-19T18:11:26+02:00",
          "TrainingJobName": "bayesian-221019-1807-002-abfa6dd4",
          "TrainingJobStatus": "Completed",
          "TrainingStartTime": "2022-10-19T18:08:54+02:00",
          "TuningJobName": "bayesian-221019-1807",
          "alpha": 1,
          "eta": 0,
          "label": "train:mlogloss",
          "max_depth": 16,
          "min_child_weight": 4,
          "rel_ts": "1970-01-01T00:01:00+00:00",
          "ts": "2022-10-19T16:11:00+00:00",
          "update": null,
          "validation:accuracy": 0.09814999997615814,
          "value": 2.3026
         },
         {
          "TrainingElapsedTimeSeconds": 152,
          "TrainingEndTime": "2022-10-19T18:11:26+02:00",
          "TrainingJobName": "bayesian-221019-1807-002-abfa6dd4",
          "TrainingJobStatus": "Completed",
          "TrainingStartTime": "2022-10-19T18:08:54+02:00",
          "TuningJobName": "bayesian-221019-1807",
          "alpha": 1,
          "eta": 0,
          "label": "train:mlogloss",
          "max_depth": 16,
          "min_child_weight": 4,
          "rel_ts": "1970-01-01T00:00:00+00:00",
          "ts": "2022-10-19T16:10:00+00:00",
          "update": null,
          "validation:accuracy": 0.09814999997615814,
          "value": 2.3026
         },
         {
          "TrainingElapsedTimeSeconds": 152,
          "TrainingEndTime": "2022-10-19T18:11:26+02:00",
          "TrainingJobName": "bayesian-221019-1807-002-abfa6dd4",
          "TrainingJobStatus": "Completed",
          "TrainingStartTime": "2022-10-19T18:08:54+02:00",
          "TuningJobName": "bayesian-221019-1807",
          "alpha": 1,
          "eta": 0,
          "label": "validation:accuracy",
          "max_depth": 16,
          "min_child_weight": 4,
          "rel_ts": "1970-01-01T00:01:00+00:00",
          "ts": "2022-10-19T16:11:00+00:00",
          "update": 2,
          "validation:accuracy": 0.09814999997615814,
          "value": 0.09815
         },
         {
          "TrainingElapsedTimeSeconds": 152,
          "TrainingEndTime": "2022-10-19T18:11:26+02:00",
          "TrainingJobName": "bayesian-221019-1807-002-abfa6dd4",
          "TrainingJobStatus": "Completed",
          "TrainingStartTime": "2022-10-19T18:08:54+02:00",
          "TuningJobName": "bayesian-221019-1807",
          "alpha": 1,
          "eta": 0,
          "label": "validation:accuracy",
          "max_depth": 16,
          "min_child_weight": 4,
          "rel_ts": "1970-01-01T00:00:00+00:00",
          "ts": "2022-10-19T16:10:00+00:00",
          "update": 1,
          "validation:accuracy": 0.09814999997615814,
          "value": 0.09815
         },
         {
          "TrainingElapsedTimeSeconds": 152,
          "TrainingEndTime": "2022-10-19T18:11:26+02:00",
          "TrainingJobName": "bayesian-221019-1807-002-abfa6dd4",
          "TrainingJobStatus": "Completed",
          "TrainingStartTime": "2022-10-19T18:08:54+02:00",
          "TuningJobName": "bayesian-221019-1807",
          "alpha": 1,
          "eta": 0,
          "label": "train:accuracy",
          "max_depth": 16,
          "min_child_weight": 4,
          "rel_ts": "1970-01-01T00:01:00+00:00",
          "ts": "2022-10-19T16:11:00+00:00",
          "update": null,
          "validation:accuracy": 0.09814999997615814,
          "value": 0.09944000000000001
         },
         {
          "TrainingElapsedTimeSeconds": 152,
          "TrainingEndTime": "2022-10-19T18:11:26+02:00",
          "TrainingJobName": "bayesian-221019-1807-002-abfa6dd4",
          "TrainingJobStatus": "Completed",
          "TrainingStartTime": "2022-10-19T18:08:54+02:00",
          "TuningJobName": "bayesian-221019-1807",
          "alpha": 1,
          "eta": 0,
          "label": "train:accuracy",
          "max_depth": 16,
          "min_child_weight": 4,
          "rel_ts": "1970-01-01T00:00:00+00:00",
          "ts": "2022-10-19T16:10:00+00:00",
          "update": null,
          "validation:accuracy": 0.09814999997615814,
          "value": 0.09944
         },
         {
          "TrainingElapsedTimeSeconds": 152,
          "TrainingEndTime": "2022-10-19T18:11:26+02:00",
          "TrainingJobName": "bayesian-221019-1807-002-abfa6dd4",
          "TrainingJobStatus": "Completed",
          "TrainingStartTime": "2022-10-19T18:08:54+02:00",
          "TuningJobName": "bayesian-221019-1807",
          "alpha": 1,
          "eta": 0,
          "label": "CPUUtilization",
          "max_depth": 16,
          "min_child_weight": 4,
          "rel_ts": "1970-01-01T00:00:00+00:00",
          "ts": "2022-10-19T16:10:00+00:00",
          "update": null,
          "validation:accuracy": 0.09814999997615814,
          "value": 70.1472
         },
         {
          "TrainingElapsedTimeSeconds": 152,
          "TrainingEndTime": "2022-10-19T18:11:26+02:00",
          "TrainingJobName": "bayesian-221019-1807-002-abfa6dd4",
          "TrainingJobStatus": "Completed",
          "TrainingStartTime": "2022-10-19T18:08:54+02:00",
          "TuningJobName": "bayesian-221019-1807",
          "alpha": 1,
          "eta": 0,
          "label": "MemoryUtilization",
          "max_depth": 16,
          "min_child_weight": 4,
          "rel_ts": "1970-01-01T00:00:00+00:00",
          "ts": "2022-10-19T16:10:00+00:00",
          "update": null,
          "validation:accuracy": 0.09814999997615814,
          "value": 2.27476
         },
         {
          "TrainingElapsedTimeSeconds": 152,
          "TrainingEndTime": "2022-10-19T18:11:26+02:00",
          "TrainingJobName": "bayesian-221019-1807-002-abfa6dd4",
          "TrainingJobStatus": "Completed",
          "TrainingStartTime": "2022-10-19T18:08:54+02:00",
          "TuningJobName": "bayesian-221019-1807",
          "alpha": 1,
          "eta": 0,
          "label": "DiskUtilization",
          "max_depth": 16,
          "min_child_weight": 4,
          "rel_ts": "1970-01-01T00:00:00+00:00",
          "ts": "2022-10-19T16:10:00+00:00",
          "update": null,
          "validation:accuracy": 0.09814999997615814,
          "value": 0.0128439
         }
        ],
        "data-e4a9f40f1446526a1f9f99d859a25dc1": [
         {
          "TrainingElapsedTimeSeconds": 62,
          "TrainingEndTime": "2022-10-19T18:12:38+02:00",
          "TrainingJobName": "bayesian-221019-1807-004-15837acc",
          "TrainingJobStatus": "Completed",
          "TrainingStartTime": "2022-10-19T18:11:36+02:00",
          "TuningJobName": "bayesian-221019-1807",
          "alpha": 1,
          "eta": 0,
          "max_depth": 7,
          "min_child_weight": 9,
          "validation:accuracy": 0.09814999997615814
         },
         {
          "TrainingElapsedTimeSeconds": 67,
          "TrainingEndTime": "2022-10-19T18:12:30+02:00",
          "TrainingJobName": "bayesian-221019-1807-003-1775dbe2",
          "TrainingJobStatus": "Completed",
          "TrainingStartTime": "2022-10-19T18:11:23+02:00",
          "TuningJobName": "bayesian-221019-1807",
          "alpha": 2,
          "eta": 0,
          "max_depth": 10,
          "min_child_weight": 3,
          "validation:accuracy": 0.09814999997615814
         },
         {
          "TrainingElapsedTimeSeconds": 152,
          "TrainingEndTime": "2022-10-19T18:11:26+02:00",
          "TrainingJobName": "bayesian-221019-1807-002-abfa6dd4",
          "TrainingJobStatus": "Completed",
          "TrainingStartTime": "2022-10-19T18:08:54+02:00",
          "TuningJobName": "bayesian-221019-1807",
          "alpha": 1,
          "eta": 0,
          "max_depth": 16,
          "min_child_weight": 4,
          "validation:accuracy": 0.09814999997615814
         },
         {
          "TrainingElapsedTimeSeconds": 143,
          "TrainingEndTime": "2022-10-19T18:11:06+02:00",
          "TrainingJobName": "bayesian-221019-1807-001-39fac05e",
          "TrainingJobStatus": "Completed",
          "TrainingStartTime": "2022-10-19T18:08:43+02:00",
          "TuningJobName": "bayesian-221019-1807",
          "alpha": 0,
          "eta": 1,
          "max_depth": 3,
          "min_child_weight": 9,
          "validation:accuracy": 0.8481500148773193
         },
         {
          "TrainingElapsedTimeSeconds": 123,
          "TrainingEndTime": "2022-10-19T18:14:44+02:00",
          "TrainingJobName": "bayesian-221019-1807-005-10cec4fd",
          "TrainingJobStatus": "Completed",
          "TrainingStartTime": "2022-10-19T18:12:41+02:00",
          "TuningJobName": "bayesian-221019-1807",
          "alpha": 0,
          "eta": 1,
          "max_depth": 17,
          "min_child_weight": 2,
          "validation:accuracy": 0.8536999821662903
         }
        ]
       },
       "vconcat": [
        {
         "hconcat": [
          {
           "encoding": {
            "opacity": {
             "condition": {
              "selection": "selector001",
              "value": 1
             },
             "value": 0.35
            },
            "shape": {
             "field": "TrainingJobStatus",
             "legend": {
              "orient": "right"
             },
             "type": "nominal"
            },
            "stroke": {
             "condition": {
              "selection": "selector002",
              "value": "gold"
             },
             "value": "white"
            },
            "strokeWidth": {
             "condition": {
              "selection": "selector002",
              "value": 2
             },
             "value": 2
            },
            "tooltip": [
             {
              "field": "validation:accuracy",
              "format": ".2e",
              "type": "quantitative"
             },
             {
              "field": "eta",
              "format": ".2e",
              "type": "quantitative"
             },
             {
              "field": "alpha",
              "format": ".2e",
              "type": "quantitative"
             },
             {
              "field": "min_child_weight",
              "format": ".2e",
              "type": "quantitative"
             },
             {
              "field": "max_depth",
              "format": ".2e",
              "type": "quantitative"
             },
             {
              "field": "TrainingStartTime",
              "format": "%H:%M:%S",
              "type": "temporal"
             },
             {
              "field": "TrainingJobName",
              "type": "nominal"
             },
             {
              "field": "TrainingJobStatus",
              "type": "nominal"
             },
             {
              "field": "TrainingElapsedTimeSeconds",
              "type": "quantitative"
             }
            ],
            "x": {
             "field": "TrainingStartTime",
             "scale": {
              "nice": true
             },
             "type": "temporal"
            },
            "y": {
             "axis": {
              "title": "validation:accuracy"
             },
             "field": "validation:accuracy",
             "scale": {
              "padding": 1,
              "zero": false
             },
             "type": "quantitative"
            }
           },
           "mark": {
            "filled": true,
            "size": 50,
            "type": "point"
           },
           "selection": {
            "selector001": {
             "empty": "all",
             "encodings": [
              "x"
             ],
             "resolve": "intersect",
             "type": "interval"
            },
            "selector002": {
             "empty": "none",
             "fields": [
              "TrainingJobName",
              "TrainingStartTime"
             ],
             "nearest": false,
             "on": "mouseover",
             "type": "single"
            }
           }
          },
          {
           "encoding": {
            "x": {
             "field": "value",
             "title": "validation:accuracy",
             "type": "quantitative"
            },
            "y": {
             "field": "density",
             "type": "quantitative"
            }
           },
           "mark": "area",
           "transform": [
            {
             "filter": {
              "selection": "selector001"
             }
            },
            {
             "bandwidth": 0.01,
             "density": "validation:accuracy"
            }
           ]
          }
         ],
         "title": "Hyper Parameter Tuning Job"
        },
        {
         "title": "Hyper Parameter Details",
         "vconcat": [
          {
           "hconcat": [
            {
             "encoding": {
              "opacity": {
               "condition": {
                "selection": "selector001",
                "value": 1
               },
               "value": 0.35
              },
              "shape": {
               "field": "TrainingJobStatus",
               "legend": {
                "orient": "right"
               },
               "type": "nominal"
              },
              "stroke": {
               "condition": {
                "selection": "selector002",
                "value": "gold"
               },
               "value": "white"
              },
              "strokeWidth": {
               "condition": {
                "selection": "selector002",
                "value": 2
               },
               "value": 2
              },
              "tooltip": [
               {
                "field": "validation:accuracy",
                "format": ".2e",
                "type": "quantitative"
               },
               {
                "field": "eta",
                "format": ".2e",
                "type": "quantitative"
               },
               {
                "field": "alpha",
                "format": ".2e",
                "type": "quantitative"
               },
               {
                "field": "min_child_weight",
                "format": ".2e",
                "type": "quantitative"
               },
               {
                "field": "max_depth",
                "format": ".2e",
                "type": "quantitative"
               },
               {
                "field": "TrainingStartTime",
                "format": "%H:%M:%S",
                "type": "temporal"
               },
               {
                "field": "TrainingJobName",
                "type": "nominal"
               },
               {
                "field": "TrainingJobStatus",
                "type": "nominal"
               },
               {
                "field": "TrainingElapsedTimeSeconds",
                "type": "quantitative"
               }
              ],
              "x": {
               "field": "eta",
               "scale": {
                "base": 10,
                "padding": 1,
                "type": "log",
                "zero": false
               },
               "type": "quantitative"
              },
              "y": {
               "axis": {
                "title": "validation:accuracy"
               },
               "field": "validation:accuracy",
               "scale": {
                "padding": 1,
                "zero": false
               },
               "type": "quantitative"
              }
             },
             "mark": {
              "filled": true,
              "size": 50,
              "type": "point"
             },
             "selection": {
              "selector001": {
               "empty": "all",
               "encodings": [
                "x"
               ],
               "resolve": "intersect",
               "type": "interval"
              },
              "selector002": {
               "empty": "none",
               "fields": [
                "TrainingJobName",
                "TrainingStartTime"
               ],
               "nearest": false,
               "on": "mouseover",
               "type": "single"
              }
             },
             "title": "eta"
            },
            {
             "encoding": {
              "opacity": {
               "condition": {
                "selection": "selector001",
                "value": 1
               },
               "value": 0.35
              },
              "shape": {
               "field": "TrainingJobStatus",
               "legend": {
                "orient": "right"
               },
               "type": "nominal"
              },
              "stroke": {
               "condition": {
                "selection": "selector002",
                "value": "gold"
               },
               "value": "white"
              },
              "strokeWidth": {
               "condition": {
                "selection": "selector002",
                "value": 2
               },
               "value": 2
              },
              "tooltip": [
               {
                "field": "validation:accuracy",
                "format": ".2e",
                "type": "quantitative"
               },
               {
                "field": "eta",
                "format": ".2e",
                "type": "quantitative"
               },
               {
                "field": "alpha",
                "format": ".2e",
                "type": "quantitative"
               },
               {
                "field": "min_child_weight",
                "format": ".2e",
                "type": "quantitative"
               },
               {
                "field": "max_depth",
                "format": ".2e",
                "type": "quantitative"
               },
               {
                "field": "TrainingStartTime",
                "format": "%H:%M:%S",
                "type": "temporal"
               },
               {
                "field": "TrainingJobName",
                "type": "nominal"
               },
               {
                "field": "TrainingJobStatus",
                "type": "nominal"
               },
               {
                "field": "TrainingElapsedTimeSeconds",
                "type": "quantitative"
               }
              ],
              "x": {
               "field": "alpha",
               "scale": {
                "base": 10,
                "padding": 1,
                "type": "log",
                "zero": false
               },
               "type": "quantitative"
              },
              "y": {
               "axis": {
                "title": "validation:accuracy"
               },
               "field": "validation:accuracy",
               "scale": {
                "padding": 1,
                "zero": false
               },
               "type": "quantitative"
              }
             },
             "mark": {
              "filled": true,
              "size": 50,
              "type": "point"
             },
             "selection": {
              "selector001": {
               "empty": "all",
               "encodings": [
                "x"
               ],
               "resolve": "intersect",
               "type": "interval"
              },
              "selector002": {
               "empty": "none",
               "fields": [
                "TrainingJobName",
                "TrainingStartTime"
               ],
               "nearest": false,
               "on": "mouseover",
               "type": "single"
              }
             },
             "title": "alpha"
            }
           ]
          },
          {
           "hconcat": [
            {
             "encoding": {
              "opacity": {
               "condition": {
                "selection": "selector001",
                "value": 1
               },
               "value": 0.35
              },
              "shape": {
               "field": "TrainingJobStatus",
               "legend": {
                "orient": "right"
               },
               "type": "nominal"
              },
              "stroke": {
               "condition": {
                "selection": "selector002",
                "value": "gold"
               },
               "value": "white"
              },
              "strokeWidth": {
               "condition": {
                "selection": "selector002",
                "value": 2
               },
               "value": 2
              },
              "tooltip": [
               {
                "field": "validation:accuracy",
                "format": ".2e",
                "type": "quantitative"
               },
               {
                "field": "eta",
                "format": ".2e",
                "type": "quantitative"
               },
               {
                "field": "alpha",
                "format": ".2e",
                "type": "quantitative"
               },
               {
                "field": "min_child_weight",
                "format": ".2e",
                "type": "quantitative"
               },
               {
                "field": "max_depth",
                "format": ".2e",
                "type": "quantitative"
               },
               {
                "field": "TrainingStartTime",
                "format": "%H:%M:%S",
                "type": "temporal"
               },
               {
                "field": "TrainingJobName",
                "type": "nominal"
               },
               {
                "field": "TrainingJobStatus",
                "type": "nominal"
               },
               {
                "field": "TrainingElapsedTimeSeconds",
                "type": "quantitative"
               }
              ],
              "x": {
               "field": "min_child_weight",
               "scale": {
                "base": 10,
                "padding": 1,
                "type": "linear",
                "zero": false
               },
               "type": "quantitative"
              },
              "y": {
               "axis": {
                "title": "validation:accuracy"
               },
               "field": "validation:accuracy",
               "scale": {
                "padding": 1,
                "zero": false
               },
               "type": "quantitative"
              }
             },
             "mark": {
              "filled": true,
              "size": 50,
              "type": "point"
             },
             "selection": {
              "selector001": {
               "empty": "all",
               "encodings": [
                "x"
               ],
               "resolve": "intersect",
               "type": "interval"
              },
              "selector002": {
               "empty": "none",
               "fields": [
                "TrainingJobName",
                "TrainingStartTime"
               ],
               "nearest": false,
               "on": "mouseover",
               "type": "single"
              }
             },
             "title": "min_child_weight"
            },
            {
             "encoding": {
              "opacity": {
               "condition": {
                "selection": "selector001",
                "value": 1
               },
               "value": 0.35
              },
              "shape": {
               "field": "TrainingJobStatus",
               "legend": {
                "orient": "right"
               },
               "type": "nominal"
              },
              "stroke": {
               "condition": {
                "selection": "selector002",
                "value": "gold"
               },
               "value": "white"
              },
              "strokeWidth": {
               "condition": {
                "selection": "selector002",
                "value": 2
               },
               "value": 2
              },
              "tooltip": [
               {
                "field": "validation:accuracy",
                "format": ".2e",
                "type": "quantitative"
               },
               {
                "field": "eta",
                "format": ".2e",
                "type": "quantitative"
               },
               {
                "field": "alpha",
                "format": ".2e",
                "type": "quantitative"
               },
               {
                "field": "min_child_weight",
                "format": ".2e",
                "type": "quantitative"
               },
               {
                "field": "max_depth",
                "format": ".2e",
                "type": "quantitative"
               },
               {
                "field": "TrainingStartTime",
                "format": "%H:%M:%S",
                "type": "temporal"
               },
               {
                "field": "TrainingJobName",
                "type": "nominal"
               },
               {
                "field": "TrainingJobStatus",
                "type": "nominal"
               },
               {
                "field": "TrainingElapsedTimeSeconds",
                "type": "quantitative"
               }
              ],
              "x": {
               "field": "max_depth",
               "scale": {
                "base": 10,
                "padding": 1,
                "type": "linear",
                "zero": false
               },
               "type": "quantitative"
              },
              "y": {
               "axis": {
                "title": "validation:accuracy"
               },
               "field": "validation:accuracy",
               "scale": {
                "padding": 1,
                "zero": false
               },
               "type": "quantitative"
              }
             },
             "mark": {
              "filled": true,
              "size": 50,
              "type": "point"
             },
             "selection": {
              "selector001": {
               "empty": "all",
               "encodings": [
                "x"
               ],
               "resolve": "intersect",
               "type": "interval"
              },
              "selector002": {
               "empty": "none",
               "fields": [
                "TrainingJobName",
                "TrainingStartTime"
               ],
               "nearest": false,
               "on": "mouseover",
               "type": "single"
              }
             },
             "title": "max_depth"
            }
           ]
          }
         ]
        },
        {
         "vconcat": [
          {
           "data": {
            "name": "data-e4a9f40f1446526a1f9f99d859a25dc1"
           },
           "encoding": {
            "color": {
             "field": "TrainingJobName",
             "type": "nominal"
            },
            "opacity": {
             "condition": {
              "selection": "selector001",
              "value": 1
             },
             "value": 0.35
            },
            "shape": {
             "field": "TrainingJobStatus",
             "legend": {
              "orient": "right"
             },
             "type": "nominal"
            },
            "stroke": {
             "condition": {
              "selection": "selector002",
              "value": "gold"
             },
             "value": "white"
            },
            "strokeWidth": {
             "condition": {
              "selection": "selector002",
              "value": 2
             },
             "value": 2
            },
            "x": {
             "field": "TrainingJobName",
             "sort": null,
             "type": "nominal"
            },
            "y": {
             "field": "validation:accuracy",
             "type": "quantitative"
            }
           },
           "mark": "bar",
           "selection": {
            "selector001": {
             "empty": "all",
             "encodings": [
              "x"
             ],
             "resolve": "intersect",
             "type": "interval"
            },
            "selector002": {
             "empty": "none",
             "fields": [
              "TrainingJobName",
              "TrainingStartTime"
             ],
             "nearest": false,
             "on": "mouseover",
             "type": "single"
            }
           },
           "title": "Training Jobs"
          },
          {
           "data": {
            "name": "data-a5a2066a56aa54fd2b4bc6352a48aad0"
           },
           "resolve": {
            "scale": {
             "strokeDash": "independent"
            }
           },
           "title": "Job / Instance Level Metrics",
           "vconcat": [
            {
             "hconcat": [
              {
               "encoding": {
                "color": {
                 "condition": {
                  "field": "TrainingJobName",
                  "legend": null,
                  "selection": "selector001",
                  "type": "nominal"
                 },
                 "value": "grey"
                },
                "opacity": {
                 "condition": {
                  "selection": "selector001",
                  "value": 1
                 },
                 "value": 0.3
                },
                "strokeWidth": {
                 "condition": {
                  "selection": "selector001",
                  "value": 2.5
                 },
                 "value": 0.8
                },
                "tooltip": [
                 {
                  "field": "TrainingJobName",
                  "type": "nominal"
                 },
                 {
                  "field": "value",
                  "type": "quantitative"
                 },
                 {
                  "field": "label",
                  "type": "nominal"
                 },
                 {
                  "field": "ts",
                  "format": "%e:%H:%M",
                  "type": "temporal"
                 },
                 {
                  "field": "rel_ts",
                  "format": "%e:%H:%M",
                  "type": "temporal"
                 }
                ],
                "x": {
                 "axis": {
                  "format": "%M:%S"
                 },
                 "field": "rel_ts",
                 "type": "temporal"
                },
                "y": {
                 "field": "value",
                 "scale": {
                  "zero": false
                 },
                 "type": "quantitative"
                }
               },
               "mark": {
                "point": true,
                "type": "line"
               },
               "selection": {
                "selector003": {
                 "bind": "scales",
                 "encodings": [
                  "x",
                  "y"
                 ],
                 "type": "interval"
                }
               },
               "title": "Progression validation:accuracy",
               "transform": [
                {
                 "filter": {
                  "equal": "validation:accuracy",
                  "field": "label"
                 }
                }
               ],
               "width": 400
              },
              {
               "encoding": {
                "color": {
                 "condition": {
                  "field": "TrainingJobName",
                  "legend": null,
                  "selection": "selector001",
                  "type": "nominal"
                 },
                 "value": "grey"
                },
                "opacity": {
                 "condition": {
                  "selection": "selector001",
                  "value": 1
                 },
                 "value": 0.3
                },
                "strokeWidth": {
                 "condition": {
                  "selection": "selector001",
                  "value": 2.5
                 },
                 "value": 0.8
                },
                "tooltip": [
                 {
                  "field": "TrainingJobName",
                  "type": "nominal"
                 },
                 {
                  "field": "value",
                  "type": "quantitative"
                 },
                 {
                  "field": "label",
                  "type": "nominal"
                 },
                 {
                  "field": "ts",
                  "format": "%e:%H:%M",
                  "type": "temporal"
                 },
                 {
                  "field": "rel_ts",
                  "format": "%e:%H:%M",
                  "type": "temporal"
                 }
                ],
                "x": {
                 "field": "ts",
                 "scale": {
                  "nice": true
                 },
                 "type": "temporal"
                },
                "y": {
                 "field": "value",
                 "scale": {
                  "zero": false
                 },
                 "type": "quantitative"
                }
               },
               "mark": {
                "point": true,
                "type": "line"
               },
               "selection": {
                "selector003": {
                 "bind": "scales",
                 "encodings": [
                  "x",
                  "y"
                 ],
                 "type": "interval"
                }
               },
               "title": "Progression validation:accuracy",
               "transform": [
                {
                 "filter": {
                  "equal": "validation:accuracy",
                  "field": "label"
                 }
                }
               ],
               "width": 400
              }
             ]
            },
            {
             "vconcat": [
              {
               "encoding": {
                "color": {
                 "condition": {
                  "field": "TrainingJobName",
                  "legend": null,
                  "selection": "selector001",
                  "type": "nominal"
                 },
                 "value": "grey"
                },
                "opacity": {
                 "condition": {
                  "selection": "selector001",
                  "value": 1
                 },
                 "value": 0.3
                },
                "strokeDash": {
                 "field": "label",
                 "legend": {
                  "orient": "bottom"
                 },
                 "type": "nominal"
                },
                "strokeWidth": {
                 "condition": {
                  "selection": "selector001",
                  "value": 2.5
                 },
                 "value": 0.8
                },
                "tooltip": [
                 {
                  "field": "TrainingJobName",
                  "type": "nominal"
                 },
                 {
                  "field": "value",
                  "type": "quantitative"
                 },
                 {
                  "field": "label",
                  "type": "nominal"
                 },
                 {
                  "field": "ts",
                  "format": "%e:%H:%M",
                  "type": "temporal"
                 },
                 {
                  "field": "rel_ts",
                  "format": "%e:%H:%M",
                  "type": "temporal"
                 }
                ],
                "x": {
                 "axis": {
                  "format": "%M:%S"
                 },
                 "field": "rel_ts",
                 "type": "temporal"
                },
                "y": {
                 "field": "value",
                 "type": "quantitative"
                }
               },
               "mark": "line",
               "selection": {
                "selector004": {
                 "bind": "scales",
                 "encodings": [
                  "x",
                  "y"
                 ],
                 "type": "interval"
                }
               },
               "title": "CPU and Memory",
               "transform": [
                {
                 "filter": {
                  "field": "label",
                  "oneOf": [
                   "MemoryUtilization",
                   "CPUUtilization"
                  ]
                 }
                }
               ]
              }
             ]
            }
           ]
          }
         ]
        }
       ]
      },
      "image/png": "[encoded data removed]",
      "text/plain": [
       "<VegaLite 4 object>\n",
       "\n",
       "If you see this message, it means the renderer has not been properly enabled\n",
       "for the frontend that you are using. For more information, see\n",
       "https://altair-viz.github.io/user_guide/troubleshooting.html\n"
      ]
     },
     "execution_count": 19,
     "metadata": {},
     "output_type": "execute_result"
    }
   ],
   "source": [
    "from reporting_util import analyze_hpo_job\n",
    "analyze_hpo_job(tuner)"
   ]
  }
 ],
 "metadata": {
  "instance_type": "ml.t3.medium",
  "kernelspec": {
   "display_name": "Python 3 (ipykernel)",
   "language": "python",
   "name": "python3"
  },
  "language_info": {
   "codemirror_mode": {
    "name": "ipython",
    "version": 3
   },
   "file_extension": ".py",
   "mimetype": "text/x-python",
   "name": "python",
   "nbconvert_exporter": "python",
   "pygments_lexer": "ipython3",
   "version": "3.9.12"
  }
 },
 "nbformat": 4,
 "nbformat_minor": 5
}
