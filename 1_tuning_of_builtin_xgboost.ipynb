{
 "cells": [
  {
   "cell_type": "markdown",
   "id": "51e0cdcd",
   "metadata": {},
   "source": [
    "# Getting Started With Hyperparameter Optimization Using Amazon SageMaker Automatic Model Tuning"
   ]
  },
  {
   "cell_type": "markdown",
   "id": "cdbfc6f0",
   "metadata": {},
   "source": [
    "## Background - What are we doing?"
   ]
  },
  {
   "cell_type": "markdown",
   "id": "c8f89001",
   "metadata": {},
   "source": [
    "Machine Learning (ML) models are getting better and better. Subsequently they are taking the world by storm. Their performance relies on the right training data and choosing the right model/algorithm. But it does not end here. Typically, algorithms defer some design decisions to the ML practitioner to adopt for their specific data and task. These deferred design decisions manifest themselves as so called *hyperparameters*.\n",
    "\n",
    "What does that name mean? The result of a machine learning training, the model, can be largely seen as a collection of parameters that were learned during training. Hence the parameters that are used to configure the machine learning training are then called hyperparameters, i.e. parameters describing the creation of parameters. At any rate, they are of very practical use, such as the number of epochs to train, the learning rate, the max depth of a decision tree and so forth. And they have a major impact on the ultimate performance of your model.\n",
    "\n",
    "Selecting the right parameters and their value ranges starts with the practitioner's theoretical knowledge of the model to train. This defines the boundaries of the search space, but then it is also necessary to explore this search space empirically to find a good combination of parameters that will result in a high performing model.\n",
    "\n",
    "Luckily, we do not have to manually search that space, because SageMaker Automatic Model Tuning (AMT) is here to help. We point AMT in the right direction by defining the overall search space and AMT then takes over and coordinates the exploration of that space and fully automatically runs training jobs to efficiently evaluate the space. This then results in a good combination of hyper parameter values to train a high performing model.\n",
    "\n",
    "*In an upcoming article we will extend the notion of __just__ finding the best parameters to then __also__ include learning about the search space and to what parameter ranges a model is sensitive, as well as turning a one-shot tuning activity into a multi-step conversation with the ML practitioner, to learn together. Exciting!*\n",
    "\n",
    "In this tutorial we will walk through Amazon SageMaker Automatic Model Tuning (AMT), using a built-in XGBoost algorithm provided by Amazon SageMaker. Additional information can be found in the documentation pages below:\n",
    "* For more information on running a simple hyperparameter tuning job: https://docs.aws.amazon.com/sagemaker/latest/dg/automatic-model-tuning-ex.html\n",
    "* For documentation on using the HyperParameterTuner API with the SageMaker Python SDK: https://sagemaker.readthedocs.io/en/stable/api/training/tuner.html"
   ]
  },
  {
   "cell_type": "markdown",
   "id": "55d3c147",
   "metadata": {
    "tags": []
   },
   "source": [
    "## Overview"
   ]
  },
  {
   "cell_type": "markdown",
   "id": "dda7534b",
   "metadata": {},
   "source": [
    "This notebook is split into the following sections:\n",
    "* Setup and Imports\n",
    "* Load and Prepare dataset\n",
    "* Train a SageMaker Built-In XGBoost Algorithm\n",
    "* Train and Tune a SageMaker Built-In XGBoost Algorithm\n",
    "* View the AMT job statistics \n",
    "* Visualize AMT job results and tuned Hyperparameters\n"
   ]
  },
  {
   "cell_type": "markdown",
   "id": "238d2c62",
   "metadata": {},
   "source": [
    "### Setup and Imports"
   ]
  },
  {
   "cell_type": "code",
   "execution_count": 1,
   "id": "e5026ca2",
   "metadata": {},
   "outputs": [],
   "source": [
    "%load_ext autoreload\n",
    "%autoreload 2\n",
    "\n",
    "%matplotlib inline"
   ]
  },
  {
   "cell_type": "markdown",
   "id": "820bc604",
   "metadata": {},
   "source": [
    "We ran this notebook using Amazon SageMaker with the version you see in the output of the next cell below. If your version is lower and you encounter issues, we recommend uncommenting the code below to upgrade your pip and SageMaker versions. Make sure to restart your kernel after upgrading for the changes to take effect."
   ]
  },
  {
   "cell_type": "code",
   "execution_count": 2,
   "id": "ae8980f8",
   "metadata": {},
   "outputs": [
    {
     "data": {
      "text/plain": [
       "'2.116.0'"
      ]
     },
     "execution_count": 2,
     "metadata": {},
     "output_type": "execute_result"
    }
   ],
   "source": [
    "import sagemaker\n",
    "\n",
    "sagemaker.__version__ "
   ]
  },
  {
   "cell_type": "code",
   "execution_count": 3,
   "id": "e6e59ad6",
   "metadata": {},
   "outputs": [],
   "source": [
    "#!pip install --upgrade --quiet pip \"sagemaker>=2.116.0\" # upgrade SageMaker to the recommended version"
   ]
  },
  {
   "cell_type": "code",
   "execution_count": 4,
   "id": "e419bc3f",
   "metadata": {},
   "outputs": [],
   "source": [
    "import io\n",
    "import os\n",
    "import argparse\n",
    "import traceback\n",
    "import boto3\n",
    "import numpy as np\n",
    "import pandas as pd\n",
    "\n",
    "from pathlib import Path"
   ]
  },
  {
   "cell_type": "code",
   "execution_count": 5,
   "id": "cd7a5efc",
   "metadata": {},
   "outputs": [],
   "source": [
    "# SDK setup\n",
    "role = sagemaker.get_execution_role()\n",
    "region = boto3.Session().region_name\n",
    "sm = boto3.client('sagemaker')\n",
    "boto_sess = boto3.Session(region_name=region)\n",
    "sm_sess = sagemaker.session.Session(boto_session=boto_sess, sagemaker_client=sm)"
   ]
  },
  {
   "cell_type": "code",
   "execution_count": 6,
   "id": "6ad8b879",
   "metadata": {},
   "outputs": [
    {
     "data": {
      "text/plain": [
       "'s3://sagemaker-us-east-1-632581975302/amt-visualize-demo/data/output'"
      ]
     },
     "execution_count": 6,
     "metadata": {},
     "output_type": "execute_result"
    }
   ],
   "source": [
    "# Data layout and locations. \n",
    "# To store our data we are using a prefix in the Amazon SageMaker default bucket. Feel free to adjust to your preferences.\n",
    "\n",
    "BUCKET = sm_sess.default_bucket()\n",
    "PREFIX = 'amt-visualize-demo/data'\n",
    "s3_data_url = f's3://{BUCKET}/{PREFIX}'\n",
    "\n",
    "# Eventual output destination for our XGBoost model\n",
    "output_path = f's3://{BUCKET}/{PREFIX}/output'\n",
    "output_path"
   ]
  },
  {
   "cell_type": "markdown",
   "id": "0f3075fb",
   "metadata": {},
   "source": [
    "## Load and Prepare dataset "
   ]
  },
  {
   "cell_type": "code",
   "execution_count": 7,
   "id": "6609672d",
   "metadata": {},
   "outputs": [],
   "source": [
    "!mkdir -p data"
   ]
  },
  {
   "cell_type": "markdown",
   "id": "65a9ac0a",
   "metadata": {},
   "source": [
    "The focus of this notebook is on Hyperparameter Optimization. Hence the actual task and data only play a supporting role. But to give some brief context, we are optimizing the hyperparameters of an XGBoost model that should classify handwritten digits. We use the [Optical Recognition of Handwritten Digits Data Set](https://archive.ics.uci.edu/ml/datasets/Optical+Recognition+of+Handwritten+Digits) via scikit-learn. "
   ]
  },
  {
   "cell_type": "code",
   "execution_count": 8,
   "id": "9e1ced87",
   "metadata": {},
   "outputs": [],
   "source": [
    "from sklearn import datasets\n",
    "\n",
    "digits         = datasets.load_digits()\n",
    "digits_df      = pd.DataFrame(digits.data)\n",
    "digits_df['y'] = digits.target\n",
    "digits_df.insert(0, 'y', digits_df.pop('y')) # XGBoost expects the target to be the first column "
   ]
  },
  {
   "cell_type": "code",
   "execution_count": 9,
   "id": "d7511dea",
   "metadata": {},
   "outputs": [
    {
     "name": "stdout",
     "output_type": "stream",
     "text": [
      "digit: 4\n"
     ]
    },
    {
     "data": {
      "image/png": "[encoded data removed]",
      "text/plain": [
       "<Figure size 432x288 with 1 Axes>"
      ]
     },
     "metadata": {
      "needs_background": "light"
     },
     "output_type": "display_data"
    }
   ],
   "source": [
    "from matplotlib import pyplot as plt\n",
    "\n",
    "print('digit:', int(digits_df.iloc[100].y))\n",
    "plt.imshow(digits_df.iloc[100, 1:].values.reshape(8, -1));"
   ]
  },
  {
   "cell_type": "code",
   "execution_count": 10,
   "id": "145da7f4",
   "metadata": {},
   "outputs": [],
   "source": [
    "# randomly sort the data then split out into train 70% and validation 30% sets\n",
    "train_data, valid_data= np.split(\n",
    "    digits_df, [int(0.7 * len(digits_df))]\n",
    ")"
   ]
  },
  {
   "cell_type": "code",
   "execution_count": 11,
   "id": "de42d336",
   "metadata": {},
   "outputs": [],
   "source": [
    "train_data.to_csv('data/train.csv', index=False, header=False)\n",
    "valid_data.to_csv('data/valid.csv', index=False, header=False)"
   ]
  },
  {
   "cell_type": "code",
   "execution_count": 12,
   "id": "448723bf",
   "metadata": {},
   "outputs": [],
   "source": [
    "boto_sess.resource('s3').Bucket(BUCKET).Object(os.path.join(PREFIX, 'train/train.csv')).upload_file('data/train.csv')\n",
    "boto_sess.resource('s3').Bucket(BUCKET).Object(os.path.join(PREFIX, 'valid/valid.csv')).upload_file('data/valid.csv')"
   ]
  },
  {
   "cell_type": "markdown",
   "id": "64a55efe",
   "metadata": {},
   "source": [
    "We upload our train and validation datasets into [Amazon S3](https://aws.amazon.com/s3/). Amazon SageMaker will launch training jobs on our behalf and those will read the data directly from S3."
   ]
  },
  {
   "cell_type": "markdown",
   "id": "f96665c5",
   "metadata": {},
   "source": [
    "## Train an Amazon SageMaker Built-In XGBoost Algorithm"
   ]
  },
  {
   "cell_type": "markdown",
   "id": "4c0852f1",
   "metadata": {},
   "source": [
    "SageMaker provides many [built-in algorithms](https://docs.aws.amazon.com/sagemaker/latest/dg/algos.html). For our example we use the popular XGBoost algorithm. To select it for our training it is identified by an image URI as described in the docs here:\n",
    "https://docs.aws.amazon.com/sagemaker/latest/dg/xgboost.html\n",
    "\n",
    "In below code you can see how we lookup the respective image and version of the algorithm. We then define the hyperparameters and instantiate an Estimator that describes our training. For a list of hyperparameters and their meaning for this algorithm check out the [documentation](https://docs.aws.amazon.com/sagemaker/latest/dg/xgboost_hyperparameters.html). \n",
    "\n",
    "Please recognize that for our small dataset we also specify the use of a small CPU based instance type for our training, specifically `ml.m5.large`.\n",
    "\n",
    "Eventually we call `fit()` to start the training and to pass in references to where our training and validation data can be found. \n",
    "\n",
    "__Side note__: Strictly speaking it would not be necessary to call the `fit()` method here for an individual training run. We will let SageMaker Automatic Model Tuning (AMT) instantiate and control the individual training runs later. We just need to pass in the Estimator we defined here as a template. We could comment out the call to `fit()`.\n",
    "\n",
    "However, calling `fit()` shows us how one training run works and helps us to get acquainted with the algorithm and the log outputs, which are also available in Amazon CloudWatch. This works even though the actual execution is happening on a different EC2 machine. SageMaker makes the log outputs directly available in this notebook here. Neat, right?"
   ]
  },
  {
   "cell_type": "code",
   "execution_count": 13,
   "id": "f2db8939",
   "metadata": {},
   "outputs": [
    {
     "name": "stdout",
     "output_type": "stream",
     "text": [
      "Algorithm container image: 683313688378.dkr.ecr.us-east-1.amazonaws.com/sagemaker-xgboost:1.5-1\n",
      "2022-11-02 20:48:21 Starting - Starting the training job...ProfilerReport-1667422101: InProgress\n",
      "...\n",
      "2022-11-02 20:49:19 Starting - Preparing the instances for training.........\n",
      "2022-11-02 20:50:40 Downloading - Downloading input data......\n",
      "2022-11-02 20:51:46 Training - Downloading the training image...\n",
      "2022-11-02 20:52:21 Training - Training image download completed. Training in progress...\u001b[34m[2022-11-02 20:52:26.129 ip-10-2-193-35.ec2.internal:1 INFO utils.py:27] RULE_JOB_STOP_SIGNAL_FILENAME: None\u001b[0m\n",
      "\u001b[34m[2022-11-02:20:52:26:INFO] Imported framework sagemaker_xgboost_container.training\u001b[0m\n",
      "\u001b[34m[2022-11-02:20:52:26:INFO] Failed to parse hyperparameter eval_metric value accuracy to Json.\u001b[0m\n",
      "\u001b[34mReturning the value itself\u001b[0m\n",
      "\u001b[34m[2022-11-02:20:52:26:INFO] Failed to parse hyperparameter objective value multi:softmax to Json.\u001b[0m\n",
      "\u001b[34mReturning the value itself\u001b[0m\n",
      "\u001b[34m[2022-11-02:20:52:26:INFO] No GPUs detected (normal if no gpus installed)\u001b[0m\n",
      "\u001b[34m[2022-11-02:20:52:26:INFO] Running XGBoost Sagemaker in algorithm mode\u001b[0m\n",
      "\u001b[34m[2022-11-02:20:52:26:INFO] Determined delimiter of CSV input is ','\u001b[0m\n",
      "\u001b[34m[2022-11-02:20:52:26:INFO] Determined delimiter of CSV input is ','\u001b[0m\n",
      "\u001b[34m[2022-11-02:20:52:26:INFO] files path: /opt/ml/input/data/train\u001b[0m\n",
      "\u001b[34m[2022-11-02:20:52:26:INFO] Determined delimiter of CSV input is ','\u001b[0m\n",
      "\u001b[34m[2022-11-02:20:52:26:INFO] files path: /opt/ml/input/data/validation\u001b[0m\n",
      "\u001b[34m[2022-11-02:20:52:26:INFO] Determined delimiter of CSV input is ','\u001b[0m\n",
      "\u001b[34m[2022-11-02:20:52:26:INFO] Single node training.\u001b[0m\n",
      "\u001b[34m[2022-11-02:20:52:26:INFO] Train matrix has 1257 rows and 64 columns\u001b[0m\n",
      "\u001b[34m[2022-11-02:20:52:26:INFO] Validation matrix has 540 rows\u001b[0m\n",
      "\u001b[34m[2022-11-02 20:52:26.333 ip-10-2-193-35.ec2.internal:1 INFO json_config.py:91] Creating hook from json_config at /opt/ml/input/config/debughookconfig.json.\u001b[0m\n",
      "\u001b[34m[20:52:27] WARNING: ../src/learner.cc:1115: Starting in XGBoost 1.3.0, the default evaluation metric used with the objective 'multi:softmax' was changed from 'merror' to 'mlogloss'. Explicitly set eval_metric if you'd like to restore the old behavior.\u001b[0m\n",
      "\u001b[34m[0]#011train-mlogloss:1.55795#011train-accuracy:0.95943#011validation-mlogloss:1.70729#011validation-accuracy:0.78889\u001b[0m\n",
      "\u001b[34m[1]#011train-mlogloss:1.20572#011train-accuracy:0.97295#011validation-mlogloss:1.42358#011validation-accuracy:0.81111\u001b[0m\n",
      "\u001b[34m[2]#011train-mlogloss:0.97027#011train-accuracy:0.97932#011validation-mlogloss:1.23074#011validation-accuracy:0.81111\u001b[0m\n",
      "\u001b[34m[3]#011train-mlogloss:0.79341#011train-accuracy:0.98568#011validation-mlogloss:1.09127#011validation-accuracy:0.82222\u001b[0m\n",
      "\u001b[34m[4]#011train-mlogloss:0.65584#011train-accuracy:0.99045#011validation-mlogloss:0.97840#011validation-accuracy:0.82963\u001b[0m\n",
      "\u001b[34m[5]#011train-mlogloss:0.54703#011train-accuracy:0.99364#011validation-mlogloss:0.89070#011validation-accuracy:0.83704\u001b[0m\n",
      "\u001b[34m[6]#011train-mlogloss:0.45843#011train-accuracy:0.99602#011validation-mlogloss:0.81601#011validation-accuracy:0.84074\u001b[0m\n",
      "\u001b[34m[7]#011train-mlogloss:0.38576#011train-accuracy:0.99602#011validation-mlogloss:0.75819#011validation-accuracy:0.84444\u001b[0m\n",
      "\u001b[34m[8]#011train-mlogloss:0.32707#011train-accuracy:0.99761#011validation-mlogloss:0.70924#011validation-accuracy:0.84815\u001b[0m\n",
      "\u001b[34m[9]#011train-mlogloss:0.27772#011train-accuracy:0.99841#011validation-mlogloss:0.66924#011validation-accuracy:0.84630\u001b[0m\n",
      "\u001b[34m[10]#011train-mlogloss:0.23722#011train-accuracy:0.99920#011validation-mlogloss:0.63535#011validation-accuracy:0.85370\u001b[0m\n",
      "\u001b[34m[11]#011train-mlogloss:0.20342#011train-accuracy:0.99920#011validation-mlogloss:0.61011#011validation-accuracy:0.85185\u001b[0m\n",
      "\u001b[34m[12]#011train-mlogloss:0.17500#011train-accuracy:0.99920#011validation-mlogloss:0.58224#011validation-accuracy:0.85000\u001b[0m\n",
      "\u001b[34m[13]#011train-mlogloss:0.15114#011train-accuracy:1.00000#011validation-mlogloss:0.56029#011validation-accuracy:0.85000\u001b[0m\n",
      "\u001b[34m[14]#011train-mlogloss:0.13116#011train-accuracy:1.00000#011validation-mlogloss:0.54051#011validation-accuracy:0.85000\u001b[0m\n",
      "\u001b[34m[15]#011train-mlogloss:0.11457#011train-accuracy:1.00000#011validation-mlogloss:0.52594#011validation-accuracy:0.84815\u001b[0m\n",
      "\n",
      "2022-11-02 20:52:53 Uploading - Uploading generated training model\n",
      "2022-11-02 20:52:53 Completed - Training job completed\n",
      "Training seconds: 138\n",
      "Billable seconds: 138\n",
      "CPU times: user 657 ms, sys: 47.1 ms, total: 704 ms\n",
      "Wall time: 4min 44s\n"
     ]
    }
   ],
   "source": [
    "%%time\n",
    "from sagemaker import image_uris\n",
    "from sagemaker.session import Session\n",
    "from sagemaker.inputs import TrainingInput\n",
    "\n",
    "\n",
    "# lookup the XGBoost image URI and build an XGBoost container\n",
    "xgboost_container = sagemaker.image_uris.retrieve('xgboost', region, '1.5-1')\n",
    "print('Algorithm container image:', xgboost_container)\n",
    "\n",
    "hyperparameters = {\n",
    "        'num_class': 10,\n",
    "        'max_depth': 5,\n",
    "        'eta':0.2,\n",
    "        'alpha': 0.2, \n",
    "        'objective':'multi:softmax',\n",
    "        'eval_metric':'accuracy',\n",
    "        'num_round':200,\n",
    "        'early_stopping_rounds': 5}\n",
    "\n",
    "# construct a SageMaker estimator that calls the XGBoost container\n",
    "estimator = sagemaker.estimator.Estimator(\n",
    "    image_uri=xgboost_container, \n",
    "    hyperparameters=hyperparameters,\n",
    "    role=role,\n",
    "    instance_count=1, \n",
    "    instance_type='ml.m5.large', \n",
    "    volume_size=5, # 5 GB \n",
    "    output_path=output_path\n",
    ")\n",
    "\n",
    "# define the data type and paths to the training and validation datasets\n",
    "s3_input_train = TrainingInput(s3_data=f's3://{BUCKET}/{PREFIX}/train', content_type='csv')\n",
    "s3_input_valid = TrainingInput(s3_data=f's3://{BUCKET}/{PREFIX}/valid', content_type='csv')\n",
    "\n",
    "# execute the XGBoost training job\n",
    "estimator.fit({'train': s3_input_train, 'validation': s3_input_valid}) # Optional. See comment above this cell."
   ]
  },
  {
   "cell_type": "markdown",
   "id": "9fa0a091",
   "metadata": {},
   "source": [
    "## Train and Tune an Amazon SageMaker Built-In XGBoost Algorithm\n",
    "\n",
    "Analogous to the Estimator above we now setup the HyperparameterTuner. We pass in the estimator object as a template for the trials to be run and a range of hyperparameters to define what search space to explore. Our documentation on [tuning XGBoost](https://docs.aws.amazon.com/sagemaker/latest/dg/xgboost-tuning.html) gives you some tips on choosing parameter ranges and which objective to use.\n",
    "\n",
    "You also see that we specify the number of training jobs to be run in total, as well as how many should run in parallel. Further you can select among many [strategies](https://docs.aws.amazon.com/sagemaker/latest/APIReference/API_HyperParameterTuningJobConfig.html#sagemaker-Type-HyperParameterTuningJobConfig-Strategy). In this notebook we use `Bayesian` as strategy. It uses a systematic approach to evaluate the search space. And it incorporates knowledge gained from earlier training runs (trials) when picking better hyperparameters to evaluate in the later trials, during the same __tuning__ job run. \n",
    "\n",
    "*Bayesian Search as a strategy is an excellent default. In an upcoming notebook and article we will additionally contrast and compare different strategies.*"
   ]
  },
  {
   "cell_type": "code",
   "execution_count": 14,
   "id": "884541f3",
   "metadata": {},
   "outputs": [],
   "source": [
    "from sagemaker.tuner import IntegerParameter, ContinuousParameter, HyperparameterTuner\n",
    "\n",
    "n_jobs = 50\n",
    "n_parallel_jobs = 3\n",
    "\n",
    "hpt_ranges = {\n",
    "    'alpha': ContinuousParameter(0.01, .5),\n",
    "    'eta': ContinuousParameter(0.1, .5),\n",
    "    'min_child_weight': ContinuousParameter(0., 2.),\n",
    "    'max_depth': IntegerParameter(1, 10)\n",
    "}\n",
    "\n",
    "tuner_parameters = {\n",
    "    'estimator': estimator,\n",
    "    'base_tuning_job_name': 'bayesian',                   \n",
    "    'objective_metric_name': 'validation:accuracy',\n",
    "    'objective_type': 'Maximize',\n",
    "    'hyperparameter_ranges': hpt_ranges,\n",
    "    'strategy': 'Bayesian',\n",
    "    'max_jobs': n_jobs,\n",
    "    'max_parallel_jobs': n_parallel_jobs\n",
    "}"
   ]
  },
  {
   "cell_type": "markdown",
   "id": "054c5c0f",
   "metadata": {},
   "source": [
    "Analogous to the actual training with the estimator above, we also kick things off by calling `fit()`. This time on the HyperparameterTuner."
   ]
  },
  {
   "cell_type": "code",
   "execution_count": 15,
   "id": "b4d8fd71",
   "metadata": {},
   "outputs": [
    {
     "name": "stdout",
     "output_type": "stream",
     "text": [
      "tuning job submitted: bayesian-221102-2053.\n"
     ]
    }
   ],
   "source": [
    "tuner = HyperparameterTuner(**tuner_parameters)\n",
    "tuner.fit({'train': s3_input_train, 'validation': s3_input_valid}, wait=False)\n",
    "tuner_name = tuner.describe()['HyperParameterTuningJobName']\n",
    "print(f'tuning job submitted: {tuner_name}.')"
   ]
  },
  {
   "cell_type": "markdown",
   "id": "45cad4b4",
   "metadata": {},
   "source": [
    "Amazon SageMaker AMT, here the HyperparameterTuner, now orchestrates different training jobs (trials) over a period of time. \n",
    "\n",
    "We use `tuner.wait()` to pause this notebook's execution until the AMT job is completed and we can work with the results. Depending on the number of jobs and the level of parallelization this may take some time. For the example below it may take up to 30 minutes for 50 jobs. During this time you can view the status of your jobs in the console by navigating to Amazon SageMaker > Training > Hyperparameter tuning jobs.\n",
    "\n",
    "For more information on AMT job monitoring, see: https://docs.aws.amazon.com/sagemaker/latest/dg/automatic-model-tuning-monitor.html"
   ]
  },
  {
   "cell_type": "code",
   "execution_count": 16,
   "id": "030f8569",
   "metadata": {},
   "outputs": [
    {
     "name": "stdout",
     "output_type": "stream",
     "text": [
      ".....................................................................................................................................................................................................................................................................................................................................................!\n"
     ]
    }
   ],
   "source": [
    "tuner.wait()"
   ]
  },
  {
   "cell_type": "markdown",
   "id": "dad8e635",
   "metadata": {},
   "source": [
    "## View the AMT job statistics and results \n",
    "\n",
    "Your tuning jobs can be accessed from the Amazon SageMaker console at https://console.aws.amazon.com/sagemaker/. Select Hyperparameter tuning jobs from the Training menu to see the list. More information here: https://docs.aws.amazon.com/sagemaker/latest/dg/automatic-model-tuning-monitor.html\n",
    "\n",
    "You can also check the results of the jobs programmatically and investigate the hyperparameters used, the final value achieved in the objective function and the total training time per job.\n",
    "\n",
    "Furthermore you can evaluate the results programmatically, which we will look into now."
   ]
  },
  {
   "cell_type": "markdown",
   "id": "1e88bbfe",
   "metadata": {},
   "source": [
    "#### 1. Via the Amazon SageMaker Python SDK"
   ]
  },
  {
   "cell_type": "markdown",
   "id": "344a09f4",
   "metadata": {},
   "source": [
    "The SDK conveniently provides access to the tuning results as a Pandas dataframe. "
   ]
  },
  {
   "cell_type": "code",
   "execution_count": 17,
   "id": "04b2c585",
   "metadata": {},
   "outputs": [
    {
     "data": {
      "text/html": [
       "<div>\n",
       "<style scoped>\n",
       "    .dataframe tbody tr th:only-of-type {\n",
       "        vertical-align: middle;\n",
       "    }\n",
       "\n",
       "    .dataframe tbody tr th {\n",
       "        vertical-align: top;\n",
       "    }\n",
       "\n",
       "    .dataframe thead th {\n",
       "        text-align: right;\n",
       "    }\n",
       "</style>\n",
       "<table border=\"1\" class=\"dataframe\">\n",
       "  <thead>\n",
       "    <tr style=\"text-align: right;\">\n",
       "      <th></th>\n",
       "      <th>alpha</th>\n",
       "      <th>eta</th>\n",
       "      <th>max_depth</th>\n",
       "      <th>min_child_weight</th>\n",
       "      <th>TrainingJobName</th>\n",
       "      <th>TrainingJobStatus</th>\n",
       "      <th>FinalObjectiveValue</th>\n",
       "      <th>TrainingStartTime</th>\n",
       "      <th>TrainingEndTime</th>\n",
       "      <th>TrainingElapsedTimeSeconds</th>\n",
       "    </tr>\n",
       "  </thead>\n",
       "  <tbody>\n",
       "    <tr>\n",
       "      <th>0</th>\n",
       "      <td>0.014694</td>\n",
       "      <td>0.427016</td>\n",
       "      <td>3.0</td>\n",
       "      <td>0.005231</td>\n",
       "      <td>bayesian-221102-2053-050-47105806</td>\n",
       "      <td>Completed</td>\n",
       "      <td>0.88333</td>\n",
       "      <td>2022-11-02 21:20:45+00:00</td>\n",
       "      <td>2022-11-02 21:21:42+00:00</td>\n",
       "      <td>57.0</td>\n",
       "    </tr>\n",
       "    <tr>\n",
       "      <th>1</th>\n",
       "      <td>0.067929</td>\n",
       "      <td>0.440314</td>\n",
       "      <td>3.0</td>\n",
       "      <td>0.084195</td>\n",
       "      <td>bayesian-221102-2053-049-6199bd15</td>\n",
       "      <td>Completed</td>\n",
       "      <td>0.88148</td>\n",
       "      <td>2022-11-02 21:20:01+00:00</td>\n",
       "      <td>2022-11-02 21:20:58+00:00</td>\n",
       "      <td>57.0</td>\n",
       "    </tr>\n",
       "    <tr>\n",
       "      <th>2</th>\n",
       "      <td>0.052456</td>\n",
       "      <td>0.433495</td>\n",
       "      <td>3.0</td>\n",
       "      <td>0.218807</td>\n",
       "      <td>bayesian-221102-2053-048-b59ec7b4</td>\n",
       "      <td>Completed</td>\n",
       "      <td>0.89815</td>\n",
       "      <td>2022-11-02 21:19:13+00:00</td>\n",
       "      <td>2022-11-02 21:20:15+00:00</td>\n",
       "      <td>62.0</td>\n",
       "    </tr>\n",
       "    <tr>\n",
       "      <th>3</th>\n",
       "      <td>0.390683</td>\n",
       "      <td>0.419690</td>\n",
       "      <td>3.0</td>\n",
       "      <td>0.723341</td>\n",
       "      <td>bayesian-221102-2053-047-8680ba68</td>\n",
       "      <td>Completed</td>\n",
       "      <td>0.87593</td>\n",
       "      <td>2022-11-02 21:19:08+00:00</td>\n",
       "      <td>2022-11-02 21:20:59+00:00</td>\n",
       "      <td>111.0</td>\n",
       "    </tr>\n",
       "    <tr>\n",
       "      <th>4</th>\n",
       "      <td>0.219606</td>\n",
       "      <td>0.394401</td>\n",
       "      <td>3.0</td>\n",
       "      <td>0.393730</td>\n",
       "      <td>bayesian-221102-2053-046-2194c233</td>\n",
       "      <td>Completed</td>\n",
       "      <td>0.88704</td>\n",
       "      <td>2022-11-02 21:18:45+00:00</td>\n",
       "      <td>2022-11-02 21:19:42+00:00</td>\n",
       "      <td>57.0</td>\n",
       "    </tr>\n",
       "    <tr>\n",
       "      <th>5</th>\n",
       "      <td>0.031487</td>\n",
       "      <td>0.447544</td>\n",
       "      <td>3.0</td>\n",
       "      <td>0.171455</td>\n",
       "      <td>bayesian-221102-2053-045-3d031a78</td>\n",
       "      <td>Completed</td>\n",
       "      <td>0.89630</td>\n",
       "      <td>2022-11-02 21:17:56+00:00</td>\n",
       "      <td>2022-11-02 21:18:58+00:00</td>\n",
       "      <td>62.0</td>\n",
       "    </tr>\n",
       "    <tr>\n",
       "      <th>6</th>\n",
       "      <td>0.106305</td>\n",
       "      <td>0.389384</td>\n",
       "      <td>3.0</td>\n",
       "      <td>0.681964</td>\n",
       "      <td>bayesian-221102-2053-044-70b10a93</td>\n",
       "      <td>Completed</td>\n",
       "      <td>0.88704</td>\n",
       "      <td>2022-11-02 21:17:42+00:00</td>\n",
       "      <td>2022-11-02 21:18:45+00:00</td>\n",
       "      <td>63.0</td>\n",
       "    </tr>\n",
       "    <tr>\n",
       "      <th>7</th>\n",
       "      <td>0.107703</td>\n",
       "      <td>0.403987</td>\n",
       "      <td>3.0</td>\n",
       "      <td>0.627097</td>\n",
       "      <td>bayesian-221102-2053-043-ff66101e</td>\n",
       "      <td>Completed</td>\n",
       "      <td>0.88518</td>\n",
       "      <td>2022-11-02 21:17:19+00:00</td>\n",
       "      <td>2022-11-02 21:18:21+00:00</td>\n",
       "      <td>62.0</td>\n",
       "    </tr>\n",
       "    <tr>\n",
       "      <th>8</th>\n",
       "      <td>0.264885</td>\n",
       "      <td>0.426875</td>\n",
       "      <td>3.0</td>\n",
       "      <td>0.383422</td>\n",
       "      <td>bayesian-221102-2053-042-03ff2868</td>\n",
       "      <td>Completed</td>\n",
       "      <td>0.88889</td>\n",
       "      <td>2022-11-02 21:16:38+00:00</td>\n",
       "      <td>2022-11-02 21:17:35+00:00</td>\n",
       "      <td>57.0</td>\n",
       "    </tr>\n",
       "    <tr>\n",
       "      <th>9</th>\n",
       "      <td>0.124133</td>\n",
       "      <td>0.359776</td>\n",
       "      <td>3.0</td>\n",
       "      <td>0.737643</td>\n",
       "      <td>bayesian-221102-2053-041-790405ca</td>\n",
       "      <td>Completed</td>\n",
       "      <td>0.88518</td>\n",
       "      <td>2022-11-02 21:15:57+00:00</td>\n",
       "      <td>2022-11-02 21:16:59+00:00</td>\n",
       "      <td>62.0</td>\n",
       "    </tr>\n",
       "  </tbody>\n",
       "</table>\n",
       "</div>"
      ],
      "text/plain": [
       "      alpha       eta  max_depth  min_child_weight  \\\n",
       "0  0.014694  0.427016        3.0          0.005231   \n",
       "1  0.067929  0.440314        3.0          0.084195   \n",
       "2  0.052456  0.433495        3.0          0.218807   \n",
       "3  0.390683  0.419690        3.0          0.723341   \n",
       "4  0.219606  0.394401        3.0          0.393730   \n",
       "5  0.031487  0.447544        3.0          0.171455   \n",
       "6  0.106305  0.389384        3.0          0.681964   \n",
       "7  0.107703  0.403987        3.0          0.627097   \n",
       "8  0.264885  0.426875        3.0          0.383422   \n",
       "9  0.124133  0.359776        3.0          0.737643   \n",
       "\n",
       "                     TrainingJobName TrainingJobStatus  FinalObjectiveValue  \\\n",
       "0  bayesian-221102-2053-050-47105806         Completed              0.88333   \n",
       "1  bayesian-221102-2053-049-6199bd15         Completed              0.88148   \n",
       "2  bayesian-221102-2053-048-b59ec7b4         Completed              0.89815   \n",
       "3  bayesian-221102-2053-047-8680ba68         Completed              0.87593   \n",
       "4  bayesian-221102-2053-046-2194c233         Completed              0.88704   \n",
       "5  bayesian-221102-2053-045-3d031a78         Completed              0.89630   \n",
       "6  bayesian-221102-2053-044-70b10a93         Completed              0.88704   \n",
       "7  bayesian-221102-2053-043-ff66101e         Completed              0.88518   \n",
       "8  bayesian-221102-2053-042-03ff2868         Completed              0.88889   \n",
       "9  bayesian-221102-2053-041-790405ca         Completed              0.88518   \n",
       "\n",
       "          TrainingStartTime           TrainingEndTime  \\\n",
       "0 2022-11-02 21:20:45+00:00 2022-11-02 21:21:42+00:00   \n",
       "1 2022-11-02 21:20:01+00:00 2022-11-02 21:20:58+00:00   \n",
       "2 2022-11-02 21:19:13+00:00 2022-11-02 21:20:15+00:00   \n",
       "3 2022-11-02 21:19:08+00:00 2022-11-02 21:20:59+00:00   \n",
       "4 2022-11-02 21:18:45+00:00 2022-11-02 21:19:42+00:00   \n",
       "5 2022-11-02 21:17:56+00:00 2022-11-02 21:18:58+00:00   \n",
       "6 2022-11-02 21:17:42+00:00 2022-11-02 21:18:45+00:00   \n",
       "7 2022-11-02 21:17:19+00:00 2022-11-02 21:18:21+00:00   \n",
       "8 2022-11-02 21:16:38+00:00 2022-11-02 21:17:35+00:00   \n",
       "9 2022-11-02 21:15:57+00:00 2022-11-02 21:16:59+00:00   \n",
       "\n",
       "   TrainingElapsedTimeSeconds  \n",
       "0                        57.0  \n",
       "1                        57.0  \n",
       "2                        62.0  \n",
       "3                       111.0  \n",
       "4                        57.0  \n",
       "5                        62.0  \n",
       "6                        63.0  \n",
       "7                        62.0  \n",
       "8                        57.0  \n",
       "9                        62.0  "
      ]
     },
     "execution_count": 17,
     "metadata": {},
     "output_type": "execute_result"
    }
   ],
   "source": [
    "sagemaker.HyperparameterTuningJobAnalytics(tuner_name).dataframe()[:10]"
   ]
  },
  {
   "cell_type": "markdown",
   "id": "0f87a965",
   "metadata": {},
   "source": [
    "#### 2. Via the AWS SDK for Python (Boto3)"
   ]
  },
  {
   "cell_type": "markdown",
   "id": "8dfd2864",
   "metadata": {},
   "source": [
    "With the boto3 client we can review the results of a HPO job using [`describe_hyper_parameter_tuning_job()`](https://docs.aws.amazon.com/sagemaker/latest/APIReference/API_DescribeHyperParameterTuningJob.html) function.\n",
    "\n",
    "It returns a Python dictionary with comprehensive information. Below you see the output scoped to the `BestTrainingJob`."
   ]
  },
  {
   "cell_type": "code",
   "execution_count": 18,
   "id": "91af7fb2",
   "metadata": {},
   "outputs": [
    {
     "data": {
      "text/plain": [
       "{'TrainingJobName': 'bayesian-221102-2053-048-b59ec7b4',\n",
       " 'TrainingJobArn': 'arn:aws:sagemaker:us-east-1:632581975302:training-job/bayesian-221102-2053-048-b59ec7b4',\n",
       " 'CreationTime': datetime.datetime(2022, 11, 2, 21, 19, 6, tzinfo=tzlocal()),\n",
       " 'TrainingStartTime': datetime.datetime(2022, 11, 2, 21, 19, 13, tzinfo=tzlocal()),\n",
       " 'TrainingEndTime': datetime.datetime(2022, 11, 2, 21, 20, 15, tzinfo=tzlocal()),\n",
       " 'TrainingJobStatus': 'Completed',\n",
       " 'TunedHyperParameters': {'alpha': '0.05245593735283648',\n",
       "  'eta': '0.4334951723175293',\n",
       "  'max_depth': '3',\n",
       "  'min_child_weight': '0.2188067574114756'},\n",
       " 'FinalHyperParameterTuningJobObjectiveMetric': {'MetricName': 'validation:accuracy',\n",
       "  'Value': 0.8981500267982483},\n",
       " 'ObjectiveStatus': 'Succeeded'}"
      ]
     },
     "execution_count": 18,
     "metadata": {},
     "output_type": "execute_result"
    }
   ],
   "source": [
    "#sm.describe_hyper_parameter_tuning_job(HyperParameterTuningJobName=tuner_name)   # to review all data\n",
    "sm.describe_hyper_parameter_tuning_job(HyperParameterTuningJobName=tuner_name)['BestTrainingJob']"
   ]
  },
  {
   "cell_type": "markdown",
   "id": "099881e5",
   "metadata": {},
   "source": [
    "We can also utilize Boto3's [`list_training_jobs_for_hyper_parameter_tuning_job()`](https://docs.aws.amazon.com/cli/latest/reference/sagemaker/list-training-jobs-for-hyper-parameter-tuning-job.html) function to review the results. This can be sorted by the value of the objective function or by the metric definitions. More functions available for Amazon SageMaker with Boto3 are described on this page: https://boto3.amazonaws.com/v1/documentation/api/latest/reference/services/sagemaker.html"
   ]
  },
  {
   "cell_type": "code",
   "execution_count": 19,
   "id": "0d1fac3e",
   "metadata": {},
   "outputs": [
    {
     "name": "stdout",
     "output_type": "stream",
     "text": [
      "bayesian-221102-2053-048-b59ec7b4 Metrics: {'train:mlogloss': 0.005229999776929617, 'train:accuracy': 1.0, 'validation:accuracy': 0.8981500267982483, 'validation:mlogloss': 0.33796998858451843, 'ObjectiveMetric': 0.8981500267982483}\n",
      "bayesian-221102-2053-045-3d031a78 Metrics: {'train:mlogloss': 0.0032099999953061342, 'train:accuracy': 1.0, 'validation:accuracy': 0.8963000178337097, 'validation:mlogloss': 0.33296000957489014, 'ObjectiveMetric': 0.8963000178337097}\n",
      "bayesian-221102-2053-037-362e9de8 Metrics: {'train:mlogloss': 0.008580000139772892, 'train:accuracy': 1.0, 'validation:accuracy': 0.8963000178337097, 'validation:mlogloss': 0.3428100049495697, 'ObjectiveMetric': 0.8963000178337097}\n",
      "bayesian-221102-2053-035-dbb5f3b9 Metrics: {'train:mlogloss': 0.009739999659359455, 'train:accuracy': 1.0, 'validation:accuracy': 0.8963000178337097, 'validation:mlogloss': 0.34126999974250793, 'ObjectiveMetric': 0.8963000178337097}\n",
      "bayesian-221102-2053-038-00e3f6b0 Metrics: {'train:mlogloss': 0.00761000020429492, 'train:accuracy': 1.0, 'validation:accuracy': 0.8907399773597717, 'validation:mlogloss': 0.3405799865722656, 'ObjectiveMetric': 0.8907399773597717}\n",
      "bayesian-221102-2053-033-3ce8b738 Metrics: {'train:mlogloss': 0.009410000406205654, 'train:accuracy': 1.0, 'validation:accuracy': 0.8907399773597717, 'validation:mlogloss': 0.33956000208854675, 'ObjectiveMetric': 0.8907399773597717}\n",
      "bayesian-221102-2053-031-5d58cf85 Metrics: {'train:mlogloss': 0.00953999999910593, 'train:accuracy': 1.0, 'validation:accuracy': 0.8907399773597717, 'validation:mlogloss': 0.3539299964904785, 'ObjectiveMetric': 0.8907399773597717}\n",
      "bayesian-221102-2053-042-03ff2868 Metrics: {'train:mlogloss': 0.013389999978244305, 'train:accuracy': 1.0, 'validation:accuracy': 0.8888900279998779, 'validation:mlogloss': 0.3573800027370453, 'ObjectiveMetric': 0.8888900279998779}\n",
      "bayesian-221102-2053-028-eb2c862a Metrics: {'train:mlogloss': 0.013880000449717045, 'train:accuracy': 1.0, 'validation:accuracy': 0.8888900279998779, 'validation:mlogloss': 0.3473599851131439, 'ObjectiveMetric': 0.8888900279998779}\n",
      "bayesian-221102-2053-022-78aa3d5f Metrics: {'train:mlogloss': 0.012609999626874924, 'train:accuracy': 1.0, 'validation:accuracy': 0.8870400190353394, 'validation:mlogloss': 0.3431999981403351, 'ObjectiveMetric': 0.8870400190353394}\n"
     ]
    }
   ],
   "source": [
    "hpo_jobs = sm.list_training_jobs_for_hyper_parameter_tuning_job(\n",
    "    HyperParameterTuningJobName=tuner_name,\n",
    "    MaxResults=100,\n",
    "    SortBy='FinalObjectiveMetricValue',\n",
    "    SortOrder='Descending')\n",
    "\n",
    "for job in hpo_jobs['TrainingJobSummaries'][:10]:\n",
    "    job_descr = sm.describe_training_job(TrainingJobName=job['TrainingJobName'])\n",
    "    metrics = {m['MetricName']:  m['Value'] for m in job_descr['FinalMetricDataList']}\n",
    "    print(f'{job[\"TrainingJobName\"]} Metrics: {metrics}')"
   ]
  },
  {
   "cell_type": "markdown",
   "id": "c3b96e50",
   "metadata": {
    "tags": []
   },
   "source": [
    "## Visualize AMT job results and tuned Hyperparameters\n",
    "\n",
    "Finally, we want to interactively visualize the impact of our hyperparameters and their values on the optimization objective.\n",
    "\n",
    "To do this, we utilize the Altair statistical visualization library for Python, and have written two custom analysis scripts `job_analytics.py` and `reporting_util.py` that we make available with this notebook.\n",
    "\n",
    "In an upcoming notebook and article we will dive deeper into the analysis of this data. "
   ]
  },
  {
   "cell_type": "code",
   "execution_count": 20,
   "id": "2cdb24e6",
   "metadata": {},
   "outputs": [],
   "source": [
    "!pip install -Uq pip altair"
   ]
  },
  {
   "cell_type": "markdown",
   "id": "df221864",
   "metadata": {},
   "source": [
    "Please ensure that the role used by SageMaker allows the `cloudwatch:ListMetrics` action on [IAM](https://console.aws.amazon.com/iam)."
   ]
  },
  {
   "cell_type": "code",
   "execution_count": 21,
   "id": "d4396d94",
   "metadata": {},
   "outputs": [
    {
     "name": "stdout",
     "output_type": "stream",
     "text": [
      "Tuning job bayesian-221102-2053      status: Completed\n",
      "\n",
      "Number of training jobs with valid objective: 50\n",
      "Lowest: 0.8481500148773193 Highest 0.8981500267982483\n"
     ]
    },
    {
     "data": {
      "text/html": [
       "<div>\n",
       "<style scoped>\n",
       "    .dataframe tbody tr th:only-of-type {\n",
       "        vertical-align: middle;\n",
       "    }\n",
       "\n",
       "    .dataframe tbody tr th {\n",
       "        vertical-align: top;\n",
       "    }\n",
       "\n",
       "    .dataframe thead th {\n",
       "        text-align: right;\n",
       "    }\n",
       "</style>\n",
       "<table border=\"1\" class=\"dataframe\">\n",
       "  <thead>\n",
       "    <tr style=\"text-align: right;\">\n",
       "      <th></th>\n",
       "      <th>alpha</th>\n",
       "      <th>eta</th>\n",
       "      <th>max_depth</th>\n",
       "      <th>min_child_weight</th>\n",
       "      <th>TrainingJobName</th>\n",
       "      <th>TrainingJobStatus</th>\n",
       "      <th>TrainingStartTime</th>\n",
       "      <th>TrainingEndTime</th>\n",
       "      <th>TrainingElapsedTimeSeconds</th>\n",
       "      <th>TuningJobName</th>\n",
       "      <th>validation:accuracy</th>\n",
       "    </tr>\n",
       "  </thead>\n",
       "  <tbody>\n",
       "    <tr>\n",
       "      <th>2</th>\n",
       "      <td>0.052456</td>\n",
       "      <td>0.433495</td>\n",
       "      <td>3.0</td>\n",
       "      <td>0.218807</td>\n",
       "      <td>bayesian-221102-2053-048-b59ec7b4</td>\n",
       "      <td>Completed</td>\n",
       "      <td>2022-11-02 21:19:13+00:00</td>\n",
       "      <td>2022-11-02 21:20:15+00:00</td>\n",
       "      <td>62.0</td>\n",
       "      <td>bayesian-221102-2053</td>\n",
       "      <td>0.89815</td>\n",
       "    </tr>\n",
       "    <tr>\n",
       "      <th>15</th>\n",
       "      <td>0.133164</td>\n",
       "      <td>0.347607</td>\n",
       "      <td>3.0</td>\n",
       "      <td>0.707683</td>\n",
       "      <td>bayesian-221102-2053-035-dbb5f3b9</td>\n",
       "      <td>Completed</td>\n",
       "      <td>2022-11-02 21:13:15+00:00</td>\n",
       "      <td>2022-11-02 21:14:12+00:00</td>\n",
       "      <td>57.0</td>\n",
       "      <td>bayesian-221102-2053</td>\n",
       "      <td>0.89630</td>\n",
       "    </tr>\n",
       "    <tr>\n",
       "      <th>13</th>\n",
       "      <td>0.114502</td>\n",
       "      <td>0.397526</td>\n",
       "      <td>3.0</td>\n",
       "      <td>0.726971</td>\n",
       "      <td>bayesian-221102-2053-037-362e9de8</td>\n",
       "      <td>Completed</td>\n",
       "      <td>2022-11-02 21:14:19+00:00</td>\n",
       "      <td>2022-11-02 21:15:21+00:00</td>\n",
       "      <td>62.0</td>\n",
       "      <td>bayesian-221102-2053</td>\n",
       "      <td>0.89630</td>\n",
       "    </tr>\n",
       "    <tr>\n",
       "      <th>5</th>\n",
       "      <td>0.031487</td>\n",
       "      <td>0.447544</td>\n",
       "      <td>3.0</td>\n",
       "      <td>0.171455</td>\n",
       "      <td>bayesian-221102-2053-045-3d031a78</td>\n",
       "      <td>Completed</td>\n",
       "      <td>2022-11-02 21:17:56+00:00</td>\n",
       "      <td>2022-11-02 21:18:58+00:00</td>\n",
       "      <td>62.0</td>\n",
       "      <td>bayesian-221102-2053</td>\n",
       "      <td>0.89630</td>\n",
       "    </tr>\n",
       "    <tr>\n",
       "      <th>17</th>\n",
       "      <td>0.195619</td>\n",
       "      <td>0.371786</td>\n",
       "      <td>3.0</td>\n",
       "      <td>0.724325</td>\n",
       "      <td>bayesian-221102-2053-033-3ce8b738</td>\n",
       "      <td>Completed</td>\n",
       "      <td>2022-11-02 21:11:57+00:00</td>\n",
       "      <td>2022-11-02 21:12:59+00:00</td>\n",
       "      <td>62.0</td>\n",
       "      <td>bayesian-221102-2053</td>\n",
       "      <td>0.89074</td>\n",
       "    </tr>\n",
       "    <tr>\n",
       "      <th>12</th>\n",
       "      <td>0.079225</td>\n",
       "      <td>0.396531</td>\n",
       "      <td>3.0</td>\n",
       "      <td>0.480535</td>\n",
       "      <td>bayesian-221102-2053-038-00e3f6b0</td>\n",
       "      <td>Completed</td>\n",
       "      <td>2022-11-02 21:14:37+00:00</td>\n",
       "      <td>2022-11-02 21:15:34+00:00</td>\n",
       "      <td>57.0</td>\n",
       "      <td>bayesian-221102-2053</td>\n",
       "      <td>0.89074</td>\n",
       "    </tr>\n",
       "    <tr>\n",
       "      <th>19</th>\n",
       "      <td>0.082905</td>\n",
       "      <td>0.388376</td>\n",
       "      <td>3.0</td>\n",
       "      <td>0.703990</td>\n",
       "      <td>bayesian-221102-2053-031-5d58cf85</td>\n",
       "      <td>Completed</td>\n",
       "      <td>2022-11-02 21:10:42+00:00</td>\n",
       "      <td>2022-11-02 21:11:40+00:00</td>\n",
       "      <td>58.0</td>\n",
       "      <td>bayesian-221102-2053</td>\n",
       "      <td>0.89074</td>\n",
       "    </tr>\n",
       "    <tr>\n",
       "      <th>8</th>\n",
       "      <td>0.264885</td>\n",
       "      <td>0.426875</td>\n",
       "      <td>3.0</td>\n",
       "      <td>0.383422</td>\n",
       "      <td>bayesian-221102-2053-042-03ff2868</td>\n",
       "      <td>Completed</td>\n",
       "      <td>2022-11-02 21:16:38+00:00</td>\n",
       "      <td>2022-11-02 21:17:35+00:00</td>\n",
       "      <td>57.0</td>\n",
       "      <td>bayesian-221102-2053</td>\n",
       "      <td>0.88889</td>\n",
       "    </tr>\n",
       "    <tr>\n",
       "      <th>22</th>\n",
       "      <td>0.016557</td>\n",
       "      <td>0.306848</td>\n",
       "      <td>3.0</td>\n",
       "      <td>0.687175</td>\n",
       "      <td>bayesian-221102-2053-028-eb2c862a</td>\n",
       "      <td>Completed</td>\n",
       "      <td>2022-11-02 21:09:15+00:00</td>\n",
       "      <td>2022-11-02 21:10:17+00:00</td>\n",
       "      <td>62.0</td>\n",
       "      <td>bayesian-221102-2053</td>\n",
       "      <td>0.88889</td>\n",
       "    </tr>\n",
       "    <tr>\n",
       "      <th>24</th>\n",
       "      <td>0.303595</td>\n",
       "      <td>0.393458</td>\n",
       "      <td>3.0</td>\n",
       "      <td>0.793498</td>\n",
       "      <td>bayesian-221102-2053-026-d231a410</td>\n",
       "      <td>Completed</td>\n",
       "      <td>2022-11-02 21:08:04+00:00</td>\n",
       "      <td>2022-11-02 21:09:01+00:00</td>\n",
       "      <td>57.0</td>\n",
       "      <td>bayesian-221102-2053</td>\n",
       "      <td>0.88704</td>\n",
       "    </tr>\n",
       "  </tbody>\n",
       "</table>\n",
       "</div>"
      ],
      "text/plain": [
       "       alpha       eta  max_depth  min_child_weight                    TrainingJobName TrainingJobStatus         TrainingStartTime           TrainingEndTime  TrainingElapsedTimeSeconds         TuningJobName  validation:accuracy\n",
       "2   0.052456  0.433495        3.0          0.218807  bayesian-221102-2053-048-b59ec7b4         Completed 2022-11-02 21:19:13+00:00 2022-11-02 21:20:15+00:00                        62.0  bayesian-221102-2053              0.89815\n",
       "15  0.133164  0.347607        3.0          0.707683  bayesian-221102-2053-035-dbb5f3b9         Completed 2022-11-02 21:13:15+00:00 2022-11-02 21:14:12+00:00                        57.0  bayesian-221102-2053              0.89630\n",
       "13  0.114502  0.397526        3.0          0.726971  bayesian-221102-2053-037-362e9de8         Completed 2022-11-02 21:14:19+00:00 2022-11-02 21:15:21+00:00                        62.0  bayesian-221102-2053              0.89630\n",
       "5   0.031487  0.447544        3.0          0.171455  bayesian-221102-2053-045-3d031a78         Completed 2022-11-02 21:17:56+00:00 2022-11-02 21:18:58+00:00                        62.0  bayesian-221102-2053              0.89630\n",
       "17  0.195619  0.371786        3.0          0.724325  bayesian-221102-2053-033-3ce8b738         Completed 2022-11-02 21:11:57+00:00 2022-11-02 21:12:59+00:00                        62.0  bayesian-221102-2053              0.89074\n",
       "12  0.079225  0.396531        3.0          0.480535  bayesian-221102-2053-038-00e3f6b0         Completed 2022-11-02 21:14:37+00:00 2022-11-02 21:15:34+00:00                        57.0  bayesian-221102-2053              0.89074\n",
       "19  0.082905  0.388376        3.0          0.703990  bayesian-221102-2053-031-5d58cf85         Completed 2022-11-02 21:10:42+00:00 2022-11-02 21:11:40+00:00                        58.0  bayesian-221102-2053              0.89074\n",
       "8   0.264885  0.426875        3.0          0.383422  bayesian-221102-2053-042-03ff2868         Completed 2022-11-02 21:16:38+00:00 2022-11-02 21:17:35+00:00                        57.0  bayesian-221102-2053              0.88889\n",
       "22  0.016557  0.306848        3.0          0.687175  bayesian-221102-2053-028-eb2c862a         Completed 2022-11-02 21:09:15+00:00 2022-11-02 21:10:17+00:00                        62.0  bayesian-221102-2053              0.88889\n",
       "24  0.303595  0.393458        3.0          0.793498  bayesian-221102-2053-026-d231a410         Completed 2022-11-02 21:08:04+00:00 2022-11-02 21:09:01+00:00                        57.0  bayesian-221102-2053              0.88704"
      ]
     },
     "metadata": {},
     "output_type": "display_data"
    },
    {
     "data": {
      "application/vnd.vegalite.v4+json": {
       "$schema": "https://vega.github.io/schema/vega-lite/v4.17.0.json",
       "config": {
        "view": {
         "continuousHeight": 300,
         "continuousWidth": 400
        }
       },
       "data": {
        "name": "data-d9045d4cc11d609b0e348d5fb005a572"
       },
       "datasets": {
        "data-1c1e877aaaf76acc3d066158834bdcfe": [
         {
          "TrainingElapsedTimeSeconds": 76,
          "TrainingEndTime": "2022-11-02T21:04:24+00:00",
          "TrainingJobName": "bayesian-221102-2053-017-a90fac3d",
          "TrainingJobStatus": "Completed",
          "TrainingStartTime": "2022-11-02T21:03:08+00:00",
          "TuningJobName": "bayesian-221102-2053",
          "alpha": 0.03714733262245975,
          "eta": 0.24406930994344544,
          "max_depth": 1,
          "min_child_weight": 0.6918882927910206,
          "validation:accuracy": 0.8481500148773193
         },
         {
          "TrainingElapsedTimeSeconds": 53,
          "TrainingEndTime": "2022-11-02T20:58:28+00:00",
          "TrainingJobName": "bayesian-221102-2053-004-bef5bf88",
          "TrainingJobStatus": "Completed",
          "TrainingStartTime": "2022-11-02T20:57:35+00:00",
          "TuningJobName": "bayesian-221102-2053",
          "alpha": 0.3098368927589949,
          "eta": 0.12776645967550304,
          "max_depth": 8,
          "min_child_weight": 1.24235894815833,
          "validation:accuracy": 0.8518499732017517
         },
         {
          "TrainingElapsedTimeSeconds": 69,
          "TrainingEndTime": "2022-11-02T21:05:02+00:00",
          "TrainingJobName": "bayesian-221102-2053-018-0300687a",
          "TrainingJobStatus": "Completed",
          "TrainingStartTime": "2022-11-02T21:03:53+00:00",
          "TuningJobName": "bayesian-221102-2053",
          "alpha": 0.20687273116740568,
          "eta": 0.24682370153540376,
          "max_depth": 5,
          "min_child_weight": 0.660446232698477,
          "validation:accuracy": 0.8518499732017517
         },
         {
          "TrainingElapsedTimeSeconds": 174,
          "TrainingEndTime": "2022-11-02T20:57:54+00:00",
          "TrainingJobName": "bayesian-221102-2053-001-321db409",
          "TrainingJobStatus": "Completed",
          "TrainingStartTime": "2022-11-02T20:55:00+00:00",
          "TuningJobName": "bayesian-221102-2053",
          "alpha": 0.2588201109108827,
          "eta": 0.29207984467976145,
          "max_depth": 8,
          "min_child_weight": 1.9013298894891462,
          "validation:accuracy": 0.8574100136756897
         },
         {
          "TrainingElapsedTimeSeconds": 62,
          "TrainingEndTime": "2022-11-02T21:02:41+00:00",
          "TrainingJobName": "bayesian-221102-2053-013-3c290e3b",
          "TrainingJobStatus": "Completed",
          "TrainingStartTime": "2022-11-02T21:01:39+00:00",
          "TuningJobName": "bayesian-221102-2053",
          "alpha": 0.03416794170165443,
          "eta": 0.19435983249111902,
          "max_depth": 10,
          "min_child_weight": 1.4147098717999187,
          "validation:accuracy": 0.8574100136756897
         },
         {
          "TrainingElapsedTimeSeconds": 62,
          "TrainingEndTime": "2022-11-02T21:06:08+00:00",
          "TrainingJobName": "bayesian-221102-2053-019-23c9c831",
          "TrainingJobStatus": "Completed",
          "TrainingStartTime": "2022-11-02T21:05:06+00:00",
          "TuningJobName": "bayesian-221102-2053",
          "alpha": 0.01,
          "eta": 0.23962126017494076,
          "max_depth": 10,
          "min_child_weight": 0.9208933523340094,
          "validation:accuracy": 0.8648200035095215
         },
         {
          "TrainingElapsedTimeSeconds": 57,
          "TrainingEndTime": "2022-11-02T21:06:18+00:00",
          "TrainingJobName": "bayesian-221102-2053-020-712c791a",
          "TrainingJobStatus": "Completed",
          "TrainingStartTime": "2022-11-02T21:05:21+00:00",
          "TuningJobName": "bayesian-221102-2053",
          "alpha": 0.045198225631799066,
          "eta": 0.12848843296755913,
          "max_depth": 10,
          "min_child_weight": 0.8060415217626795,
          "validation:accuracy": 0.8666700124740601
         },
         {
          "TrainingElapsedTimeSeconds": 57,
          "TrainingEndTime": "2022-11-02T21:01:14+00:00",
          "TrainingJobName": "bayesian-221102-2053-010-2d0feab1",
          "TrainingJobStatus": "Completed",
          "TrainingStartTime": "2022-11-02T21:00:17+00:00",
          "TuningJobName": "bayesian-221102-2053",
          "alpha": 0.11493941771787354,
          "eta": 0.29136703109978723,
          "max_depth": 10,
          "min_child_weight": 0.5732678959364526,
          "validation:accuracy": 0.8666700124740601
         },
         {
          "TrainingElapsedTimeSeconds": 57,
          "TrainingEndTime": "2022-11-02T21:03:36+00:00",
          "TrainingJobName": "bayesian-221102-2053-015-f4272123",
          "TrainingJobStatus": "Completed",
          "TrainingStartTime": "2022-11-02T21:02:39+00:00",
          "TuningJobName": "bayesian-221102-2053",
          "alpha": 0.05522880107769021,
          "eta": 0.2858770995885889,
          "max_depth": 10,
          "min_child_weight": 0.4394135489437465,
          "validation:accuracy": 0.8666700124740601
         },
         {
          "TrainingElapsedTimeSeconds": 137,
          "TrainingEndTime": "2022-11-02T20:57:21+00:00",
          "TrainingJobName": "bayesian-221102-2053-002-fbade002",
          "TrainingJobStatus": "Completed",
          "TrainingStartTime": "2022-11-02T20:55:04+00:00",
          "TuningJobName": "bayesian-221102-2053",
          "alpha": 0.331535623776181,
          "eta": 0.3210732169060503,
          "max_depth": 10,
          "min_child_weight": 1.4074698087643622,
          "validation:accuracy": 0.8666700124740601
         },
         {
          "TrainingElapsedTimeSeconds": 57,
          "TrainingEndTime": "2022-11-02T21:01:47+00:00",
          "TrainingJobName": "bayesian-221102-2053-011-de7be448",
          "TrainingJobStatus": "Completed",
          "TrainingStartTime": "2022-11-02T21:00:50+00:00",
          "TuningJobName": "bayesian-221102-2053",
          "alpha": 0.025127002855884973,
          "eta": 0.14826877108558678,
          "max_depth": 10,
          "min_child_weight": 0.5492474804826983,
          "validation:accuracy": 0.8685200214385986
         },
         {
          "TrainingElapsedTimeSeconds": 58,
          "TrainingEndTime": "2022-11-02T20:59:08+00:00",
          "TrainingJobName": "bayesian-221102-2053-006-918c0c33",
          "TrainingJobStatus": "Completed",
          "TrainingStartTime": "2022-11-02T20:58:10+00:00",
          "TuningJobName": "bayesian-221102-2053",
          "alpha": 0.08710761596352615,
          "eta": 0.13262070221843417,
          "max_depth": 6,
          "min_child_weight": 0.3740615431514889,
          "validation:accuracy": 0.8685200214385986
         },
         {
          "TrainingElapsedTimeSeconds": 57,
          "TrainingEndTime": "2022-11-02T21:00:19+00:00",
          "TrainingJobName": "bayesian-221102-2053-009-f51ba321",
          "TrainingJobStatus": "Completed",
          "TrainingStartTime": "2022-11-02T20:59:22+00:00",
          "TuningJobName": "bayesian-221102-2053",
          "alpha": 0.06830297997569423,
          "eta": 0.4988203738620227,
          "max_depth": 10,
          "min_child_weight": 0.43838354059180884,
          "validation:accuracy": 0.8703699707984924
         },
         {
          "TrainingElapsedTimeSeconds": 57,
          "TrainingEndTime": "2022-11-02T21:01:29+00:00",
          "TrainingJobName": "bayesian-221102-2053-012-833cfb56",
          "TrainingJobStatus": "Completed",
          "TrainingStartTime": "2022-11-02T21:00:32+00:00",
          "TuningJobName": "bayesian-221102-2053",
          "alpha": 0.02967054686088657,
          "eta": 0.28403206248303725,
          "max_depth": 6,
          "min_child_weight": 0.5974834645189824,
          "validation:accuracy": 0.8703699707984924
         },
         {
          "TrainingElapsedTimeSeconds": 58,
          "TrainingEndTime": "2022-11-02T21:06:33+00:00",
          "TrainingJobName": "bayesian-221102-2053-021-85abe0e9",
          "TrainingJobStatus": "Completed",
          "TrainingStartTime": "2022-11-02T21:05:35+00:00",
          "TuningJobName": "bayesian-221102-2053",
          "alpha": 0.03009581806459565,
          "eta": 0.3122018407216436,
          "max_depth": 3,
          "min_child_weight": 0.5767148503373258,
          "validation:accuracy": 0.8703699707984924
         },
         {
          "TrainingElapsedTimeSeconds": 57,
          "TrainingEndTime": "2022-11-02T21:00:08+00:00",
          "TrainingJobName": "bayesian-221102-2053-008-37347e44",
          "TrainingJobStatus": "Completed",
          "TrainingStartTime": "2022-11-02T20:59:11+00:00",
          "TuningJobName": "bayesian-221102-2053",
          "alpha": 0.05795468023174745,
          "eta": 0.4844970373678231,
          "max_depth": 10,
          "min_child_weight": 1.881513820633751,
          "validation:accuracy": 0.8740699887275696
         },
         {
          "TrainingElapsedTimeSeconds": 102,
          "TrainingEndTime": "2022-11-02T21:04:52+00:00",
          "TrainingJobName": "bayesian-221102-2053-016-395ceafe",
          "TrainingJobStatus": "Completed",
          "TrainingStartTime": "2022-11-02T21:03:10+00:00",
          "TuningJobName": "bayesian-221102-2053",
          "alpha": 0.21588512602023618,
          "eta": 0.2453398217756079,
          "max_depth": 3,
          "min_child_weight": 0.7721991489472848,
          "validation:accuracy": 0.8740699887275696
         },
         {
          "TrainingElapsedTimeSeconds": 62,
          "TrainingEndTime": "2022-11-02T21:12:51+00:00",
          "TrainingJobName": "bayesian-221102-2053-032-a722d0cf",
          "TrainingJobStatus": "Completed",
          "TrainingStartTime": "2022-11-02T21:11:49+00:00",
          "TuningJobName": "bayesian-221102-2053",
          "alpha": 0.28838800287054805,
          "eta": 0.34933058621629326,
          "max_depth": 3,
          "min_child_weight": 0.6925105672302483,
          "validation:accuracy": 0.8740699887275696
         },
         {
          "TrainingElapsedTimeSeconds": 138,
          "TrainingEndTime": "2022-11-02T20:57:17+00:00",
          "TrainingJobName": "bayesian-221102-2053-003-f4d3d198",
          "TrainingJobStatus": "Completed",
          "TrainingStartTime": "2022-11-02T20:54:59+00:00",
          "TuningJobName": "bayesian-221102-2053",
          "alpha": 0.08767748870470825,
          "eta": 0.20068535738115034,
          "max_depth": 3,
          "min_child_weight": 0.37138995199479763,
          "validation:accuracy": 0.8759300112724304
         },
         {
          "TrainingElapsedTimeSeconds": 68,
          "TrainingEndTime": "2022-11-02T20:59:54+00:00",
          "TrainingJobName": "bayesian-221102-2053-007-19b4ab73",
          "TrainingJobStatus": "Completed",
          "TrainingStartTime": "2022-11-02T20:58:46+00:00",
          "TuningJobName": "bayesian-221102-2053",
          "alpha": 0.12969449033339353,
          "eta": 0.2042693784403521,
          "max_depth": 3,
          "min_child_weight": 0.3905933837724416,
          "validation:accuracy": 0.8759300112724304
         },
         {
          "TrainingElapsedTimeSeconds": 111,
          "TrainingEndTime": "2022-11-02T21:20:59+00:00",
          "TrainingJobName": "bayesian-221102-2053-047-8680ba68",
          "TrainingJobStatus": "Completed",
          "TrainingStartTime": "2022-11-02T21:19:08+00:00",
          "TuningJobName": "bayesian-221102-2053",
          "alpha": 0.3906826349189576,
          "eta": 0.4196899734811027,
          "max_depth": 3,
          "min_child_weight": 0.7233405786322682,
          "validation:accuracy": 0.8759300112724304
         },
         {
          "TrainingElapsedTimeSeconds": 62,
          "TrainingEndTime": "2022-11-02T21:07:42+00:00",
          "TrainingJobName": "bayesian-221102-2053-023-b7b322f5",
          "TrainingJobStatus": "Completed",
          "TrainingStartTime": "2022-11-02T21:06:40+00:00",
          "TuningJobName": "bayesian-221102-2053",
          "alpha": 0.036372125807928195,
          "eta": 0.24503617447871934,
          "max_depth": 3,
          "min_child_weight": 1.5785652227793576,
          "validation:accuracy": 0.8759300112724304
         },
         {
          "TrainingElapsedTimeSeconds": 147,
          "TrainingEndTime": "2022-11-02T21:13:26+00:00",
          "TrainingJobName": "bayesian-221102-2053-027-19614548",
          "TrainingJobStatus": "Completed",
          "TrainingStartTime": "2022-11-02T21:10:59+00:00",
          "TuningJobName": "bayesian-221102-2053",
          "alpha": 0.11400253610937865,
          "eta": 0.46478982677131453,
          "max_depth": 3,
          "min_child_weight": 1.9053249678935436,
          "validation:accuracy": 0.8759300112724304
         },
         {
          "TrainingElapsedTimeSeconds": 62,
          "TrainingEndTime": "2022-11-02T20:58:56+00:00",
          "TrainingJobName": "bayesian-221102-2053-005-0f6d89a7",
          "TrainingJobStatus": "Completed",
          "TrainingStartTime": "2022-11-02T20:57:54+00:00",
          "TuningJobName": "bayesian-221102-2053",
          "alpha": 0.052537624631510765,
          "eta": 0.26132516761222635,
          "max_depth": 10,
          "min_child_weight": 0.7237152310290147,
          "validation:accuracy": 0.8796300292015076
         },
         {
          "TrainingElapsedTimeSeconds": 62,
          "TrainingEndTime": "2022-11-02T21:16:18+00:00",
          "TrainingJobName": "bayesian-221102-2053-039-48bca8f1",
          "TrainingJobStatus": "Completed",
          "TrainingStartTime": "2022-11-02T21:15:16+00:00",
          "TuningJobName": "bayesian-221102-2053",
          "alpha": 0.11239770636194722,
          "eta": 0.37933821315979965,
          "max_depth": 3,
          "min_child_weight": 0.733280786979398,
          "validation:accuracy": 0.8796300292015076
         },
         {
          "TrainingElapsedTimeSeconds": 58,
          "TrainingEndTime": "2022-11-02T21:10:25+00:00",
          "TrainingJobName": "bayesian-221102-2053-029-703649a9",
          "TrainingJobStatus": "Completed",
          "TrainingStartTime": "2022-11-02T21:09:27+00:00",
          "TuningJobName": "bayesian-221102-2053",
          "alpha": 0.16151035586187124,
          "eta": 0.4868790739248028,
          "max_depth": 3,
          "min_child_weight": 0.5005942528173741,
          "validation:accuracy": 0.8814799785614014
         },
         {
          "TrainingElapsedTimeSeconds": 62,
          "TrainingEndTime": "2022-11-02T21:17:15+00:00",
          "TrainingJobName": "bayesian-221102-2053-040-453b7552",
          "TrainingJobStatus": "Completed",
          "TrainingStartTime": "2022-11-02T21:16:13+00:00",
          "TuningJobName": "bayesian-221102-2053",
          "alpha": 0.15736412171785288,
          "eta": 0.37265700410662195,
          "max_depth": 3,
          "min_child_weight": 0.7312668233832602,
          "validation:accuracy": 0.8814799785614014
         },
         {
          "TrainingElapsedTimeSeconds": 57,
          "TrainingEndTime": "2022-11-02T21:20:58+00:00",
          "TrainingJobName": "bayesian-221102-2053-049-6199bd15",
          "TrainingJobStatus": "Completed",
          "TrainingStartTime": "2022-11-02T21:20:01+00:00",
          "TuningJobName": "bayesian-221102-2053",
          "alpha": 0.06792850190718394,
          "eta": 0.4403143368412452,
          "max_depth": 3,
          "min_child_weight": 0.08419474513570036,
          "validation:accuracy": 0.8814799785614014
         },
         {
          "TrainingElapsedTimeSeconds": 57,
          "TrainingEndTime": "2022-11-02T21:02:46+00:00",
          "TrainingJobName": "bayesian-221102-2053-014-41e28967",
          "TrainingJobStatus": "Completed",
          "TrainingStartTime": "2022-11-02T21:01:49+00:00",
          "TuningJobName": "bayesian-221102-2053",
          "alpha": 0.02929522476957487,
          "eta": 0.24741882037747123,
          "max_depth": 3,
          "min_child_weight": 0.6451002663631322,
          "validation:accuracy": 0.8814799785614014
         },
         {
          "TrainingElapsedTimeSeconds": 57,
          "TrainingEndTime": "2022-11-02T21:14:04+00:00",
          "TrainingJobName": "bayesian-221102-2053-034-10d5c0f2",
          "TrainingJobStatus": "Completed",
          "TrainingStartTime": "2022-11-02T21:13:07+00:00",
          "TuningJobName": "bayesian-221102-2053",
          "alpha": 0.05755590742117112,
          "eta": 0.3330660345469707,
          "max_depth": 3,
          "min_child_weight": 0.691545366653266,
          "validation:accuracy": 0.8833299875259399
         },
         {
          "TrainingElapsedTimeSeconds": 57,
          "TrainingEndTime": "2022-11-02T21:09:01+00:00",
          "TrainingJobName": "bayesian-221102-2053-025-4155ba07",
          "TrainingJobStatus": "Completed",
          "TrainingStartTime": "2022-11-02T21:08:04+00:00",
          "TuningJobName": "bayesian-221102-2053",
          "alpha": 0.2704232579037192,
          "eta": 0.44467700687223555,
          "max_depth": 3,
          "min_child_weight": 0.3482472162680095,
          "validation:accuracy": 0.8833299875259399
         },
         {
          "TrainingElapsedTimeSeconds": 53,
          "TrainingEndTime": "2022-11-02T21:11:28+00:00",
          "TrainingJobName": "bayesian-221102-2053-030-f4e1da82",
          "TrainingJobStatus": "Completed",
          "TrainingStartTime": "2022-11-02T21:10:35+00:00",
          "TuningJobName": "bayesian-221102-2053",
          "alpha": 0.11409003852925795,
          "eta": 0.4622210658085887,
          "max_depth": 3,
          "min_child_weight": 0.7099771578099344,
          "validation:accuracy": 0.8833299875259399
         },
         {
          "TrainingElapsedTimeSeconds": 57,
          "TrainingEndTime": "2022-11-02T21:21:42+00:00",
          "TrainingJobName": "bayesian-221102-2053-050-47105806",
          "TrainingJobStatus": "Completed",
          "TrainingStartTime": "2022-11-02T21:20:45+00:00",
          "TuningJobName": "bayesian-221102-2053",
          "alpha": 0.014694081927668915,
          "eta": 0.4270155766362802,
          "max_depth": 3,
          "min_child_weight": 0.005230745548390203,
          "validation:accuracy": 0.8833299875259399
         },
         {
          "TrainingElapsedTimeSeconds": 62,
          "TrainingEndTime": "2022-11-02T21:16:59+00:00",
          "TrainingJobName": "bayesian-221102-2053-041-790405ca",
          "TrainingJobStatus": "Completed",
          "TrainingStartTime": "2022-11-02T21:15:57+00:00",
          "TuningJobName": "bayesian-221102-2053",
          "alpha": 0.12413334250555033,
          "eta": 0.3597755071463763,
          "max_depth": 3,
          "min_child_weight": 0.7376432163790836,
          "validation:accuracy": 0.8851799964904785
         },
         {
          "TrainingElapsedTimeSeconds": 57,
          "TrainingEndTime": "2022-11-02T21:14:50+00:00",
          "TrainingJobName": "bayesian-221102-2053-036-4a19b208",
          "TrainingJobStatus": "Completed",
          "TrainingStartTime": "2022-11-02T21:13:53+00:00",
          "TuningJobName": "bayesian-221102-2053",
          "alpha": 0.11433978581831923,
          "eta": 0.39157625480164737,
          "max_depth": 3,
          "min_child_weight": 0.7872349763223101,
          "validation:accuracy": 0.8851799964904785
         },
         {
          "TrainingElapsedTimeSeconds": 62,
          "TrainingEndTime": "2022-11-02T21:07:56+00:00",
          "TrainingJobName": "bayesian-221102-2053-024-05db4eec",
          "TrainingJobStatus": "Completed",
          "TrainingStartTime": "2022-11-02T21:06:54+00:00",
          "TuningJobName": "bayesian-221102-2053",
          "alpha": 0.01137578398513731,
          "eta": 0.2429603598153167,
          "max_depth": 3,
          "min_child_weight": 1.4187720025909956,
          "validation:accuracy": 0.8851799964904785
         },
         {
          "TrainingElapsedTimeSeconds": 62,
          "TrainingEndTime": "2022-11-02T21:18:21+00:00",
          "TrainingJobName": "bayesian-221102-2053-043-ff66101e",
          "TrainingJobStatus": "Completed",
          "TrainingStartTime": "2022-11-02T21:17:19+00:00",
          "TuningJobName": "bayesian-221102-2053",
          "alpha": 0.1077032174790755,
          "eta": 0.4039865253971505,
          "max_depth": 3,
          "min_child_weight": 0.6270974034491547,
          "validation:accuracy": 0.8851799964904785
         },
         {
          "TrainingElapsedTimeSeconds": 57,
          "TrainingEndTime": "2022-11-02T21:09:01+00:00",
          "TrainingJobName": "bayesian-221102-2053-026-d231a410",
          "TrainingJobStatus": "Completed",
          "TrainingStartTime": "2022-11-02T21:08:04+00:00",
          "TuningJobName": "bayesian-221102-2053",
          "alpha": 0.3035953593814022,
          "eta": 0.3934583481027347,
          "max_depth": 3,
          "min_child_weight": 0.7934983441526815,
          "validation:accuracy": 0.8870400190353394
         },
         {
          "TrainingElapsedTimeSeconds": 57,
          "TrainingEndTime": "2022-11-02T21:19:42+00:00",
          "TrainingJobName": "bayesian-221102-2053-046-2194c233",
          "TrainingJobStatus": "Completed",
          "TrainingStartTime": "2022-11-02T21:18:45+00:00",
          "TuningJobName": "bayesian-221102-2053",
          "alpha": 0.21960614939156078,
          "eta": 0.3944011039695817,
          "max_depth": 3,
          "min_child_weight": 0.3937297045822472,
          "validation:accuracy": 0.8870400190353394
         },
         {
          "TrainingElapsedTimeSeconds": 63,
          "TrainingEndTime": "2022-11-02T21:07:41+00:00",
          "TrainingJobName": "bayesian-221102-2053-022-78aa3d5f",
          "TrainingJobStatus": "Completed",
          "TrainingStartTime": "2022-11-02T21:06:38+00:00",
          "TuningJobName": "bayesian-221102-2053",
          "alpha": 0.01951028853496399,
          "eta": 0.31023654458216954,
          "max_depth": 3,
          "min_child_weight": 0.6518616048977257,
          "validation:accuracy": 0.8870400190353394
         },
         {
          "TrainingElapsedTimeSeconds": 63,
          "TrainingEndTime": "2022-11-02T21:18:45+00:00",
          "TrainingJobName": "bayesian-221102-2053-044-70b10a93",
          "TrainingJobStatus": "Completed",
          "TrainingStartTime": "2022-11-02T21:17:42+00:00",
          "TuningJobName": "bayesian-221102-2053",
          "alpha": 0.10630482753608368,
          "eta": 0.38938395852521057,
          "max_depth": 3,
          "min_child_weight": 0.6819643451003385,
          "validation:accuracy": 0.8870400190353394
         },
         {
          "TrainingElapsedTimeSeconds": 62,
          "TrainingEndTime": "2022-11-02T21:10:17+00:00",
          "TrainingJobName": "bayesian-221102-2053-028-eb2c862a",
          "TrainingJobStatus": "Completed",
          "TrainingStartTime": "2022-11-02T21:09:15+00:00",
          "TuningJobName": "bayesian-221102-2053",
          "alpha": 0.01655652247606687,
          "eta": 0.30684832919662336,
          "max_depth": 3,
          "min_child_weight": 0.6871754228797919,
          "validation:accuracy": 0.8888900279998779
         },
         {
          "TrainingElapsedTimeSeconds": 57,
          "TrainingEndTime": "2022-11-02T21:17:35+00:00",
          "TrainingJobName": "bayesian-221102-2053-042-03ff2868",
          "TrainingJobStatus": "Completed",
          "TrainingStartTime": "2022-11-02T21:16:38+00:00",
          "TuningJobName": "bayesian-221102-2053",
          "alpha": 0.2648846110738483,
          "eta": 0.42687454879200015,
          "max_depth": 3,
          "min_child_weight": 0.38342164731694206,
          "validation:accuracy": 0.8888900279998779
         },
         {
          "TrainingElapsedTimeSeconds": 58,
          "TrainingEndTime": "2022-11-02T21:11:40+00:00",
          "TrainingJobName": "bayesian-221102-2053-031-5d58cf85",
          "TrainingJobStatus": "Completed",
          "TrainingStartTime": "2022-11-02T21:10:42+00:00",
          "TuningJobName": "bayesian-221102-2053",
          "alpha": 0.08290489807395622,
          "eta": 0.3883764985170217,
          "max_depth": 3,
          "min_child_weight": 0.7039896100381051,
          "validation:accuracy": 0.8907399773597717
         },
         {
          "TrainingElapsedTimeSeconds": 57,
          "TrainingEndTime": "2022-11-02T21:15:34+00:00",
          "TrainingJobName": "bayesian-221102-2053-038-00e3f6b0",
          "TrainingJobStatus": "Completed",
          "TrainingStartTime": "2022-11-02T21:14:37+00:00",
          "TuningJobName": "bayesian-221102-2053",
          "alpha": 0.07922524196953384,
          "eta": 0.39653065727319403,
          "max_depth": 3,
          "min_child_weight": 0.48053456613192047,
          "validation:accuracy": 0.8907399773597717
         },
         {
          "TrainingElapsedTimeSeconds": 62,
          "TrainingEndTime": "2022-11-02T21:12:59+00:00",
          "TrainingJobName": "bayesian-221102-2053-033-3ce8b738",
          "TrainingJobStatus": "Completed",
          "TrainingStartTime": "2022-11-02T21:11:57+00:00",
          "TuningJobName": "bayesian-221102-2053",
          "alpha": 0.19561911600598547,
          "eta": 0.3717861177799162,
          "max_depth": 3,
          "min_child_weight": 0.7243248332807513,
          "validation:accuracy": 0.8907399773597717
         },
         {
          "TrainingElapsedTimeSeconds": 62,
          "TrainingEndTime": "2022-11-02T21:18:58+00:00",
          "TrainingJobName": "bayesian-221102-2053-045-3d031a78",
          "TrainingJobStatus": "Completed",
          "TrainingStartTime": "2022-11-02T21:17:56+00:00",
          "TuningJobName": "bayesian-221102-2053",
          "alpha": 0.03148717025819016,
          "eta": 0.4475443719116359,
          "max_depth": 3,
          "min_child_weight": 0.17145468025823396,
          "validation:accuracy": 0.8963000178337097
         },
         {
          "TrainingElapsedTimeSeconds": 62,
          "TrainingEndTime": "2022-11-02T21:15:21+00:00",
          "TrainingJobName": "bayesian-221102-2053-037-362e9de8",
          "TrainingJobStatus": "Completed",
          "TrainingStartTime": "2022-11-02T21:14:19+00:00",
          "TuningJobName": "bayesian-221102-2053",
          "alpha": 0.11450153839233473,
          "eta": 0.3975257487726206,
          "max_depth": 3,
          "min_child_weight": 0.7269709430826006,
          "validation:accuracy": 0.8963000178337097
         },
         {
          "TrainingElapsedTimeSeconds": 57,
          "TrainingEndTime": "2022-11-02T21:14:12+00:00",
          "TrainingJobName": "bayesian-221102-2053-035-dbb5f3b9",
          "TrainingJobStatus": "Completed",
          "TrainingStartTime": "2022-11-02T21:13:15+00:00",
          "TuningJobName": "bayesian-221102-2053",
          "alpha": 0.13316421419432817,
          "eta": 0.3476073532109254,
          "max_depth": 3,
          "min_child_weight": 0.7076830605991888,
          "validation:accuracy": 0.8963000178337097
         },
         {
          "TrainingElapsedTimeSeconds": 62,
          "TrainingEndTime": "2022-11-02T21:20:15+00:00",
          "TrainingJobName": "bayesian-221102-2053-048-b59ec7b4",
          "TrainingJobStatus": "Completed",
          "TrainingStartTime": "2022-11-02T21:19:13+00:00",
          "TuningJobName": "bayesian-221102-2053",
          "alpha": 0.05245593735283648,
          "eta": 0.4334951723175293,
          "max_depth": 3,
          "min_child_weight": 0.2188067574114756,
          "validation:accuracy": 0.8981500267982483
         }
        ],
        "data-d9045d4cc11d609b0e348d5fb005a572": [
         {
          "TrainingElapsedTimeSeconds": 62,
          "TrainingEndTime": "2022-11-02T21:20:15+00:00",
          "TrainingJobName": "bayesian-221102-2053-048-b59ec7b4",
          "TrainingJobStatus": "Completed",
          "TrainingStartTime": "2022-11-02T21:19:13+00:00",
          "TuningJobName": "bayesian-221102-2053",
          "alpha": 0.05245593735283648,
          "eta": 0.4334951723175293,
          "max_depth": 3,
          "min_child_weight": 0.2188067574114756,
          "validation:accuracy": 0.8981500267982483
         },
         {
          "TrainingElapsedTimeSeconds": 57,
          "TrainingEndTime": "2022-11-02T21:14:12+00:00",
          "TrainingJobName": "bayesian-221102-2053-035-dbb5f3b9",
          "TrainingJobStatus": "Completed",
          "TrainingStartTime": "2022-11-02T21:13:15+00:00",
          "TuningJobName": "bayesian-221102-2053",
          "alpha": 0.13316421419432817,
          "eta": 0.3476073532109254,
          "max_depth": 3,
          "min_child_weight": 0.7076830605991888,
          "validation:accuracy": 0.8963000178337097
         },
         {
          "TrainingElapsedTimeSeconds": 62,
          "TrainingEndTime": "2022-11-02T21:15:21+00:00",
          "TrainingJobName": "bayesian-221102-2053-037-362e9de8",
          "TrainingJobStatus": "Completed",
          "TrainingStartTime": "2022-11-02T21:14:19+00:00",
          "TuningJobName": "bayesian-221102-2053",
          "alpha": 0.11450153839233473,
          "eta": 0.3975257487726206,
          "max_depth": 3,
          "min_child_weight": 0.7269709430826006,
          "validation:accuracy": 0.8963000178337097
         },
         {
          "TrainingElapsedTimeSeconds": 62,
          "TrainingEndTime": "2022-11-02T21:18:58+00:00",
          "TrainingJobName": "bayesian-221102-2053-045-3d031a78",
          "TrainingJobStatus": "Completed",
          "TrainingStartTime": "2022-11-02T21:17:56+00:00",
          "TuningJobName": "bayesian-221102-2053",
          "alpha": 0.03148717025819016,
          "eta": 0.4475443719116359,
          "max_depth": 3,
          "min_child_weight": 0.17145468025823396,
          "validation:accuracy": 0.8963000178337097
         },
         {
          "TrainingElapsedTimeSeconds": 62,
          "TrainingEndTime": "2022-11-02T21:12:59+00:00",
          "TrainingJobName": "bayesian-221102-2053-033-3ce8b738",
          "TrainingJobStatus": "Completed",
          "TrainingStartTime": "2022-11-02T21:11:57+00:00",
          "TuningJobName": "bayesian-221102-2053",
          "alpha": 0.19561911600598547,
          "eta": 0.3717861177799162,
          "max_depth": 3,
          "min_child_weight": 0.7243248332807513,
          "validation:accuracy": 0.8907399773597717
         },
         {
          "TrainingElapsedTimeSeconds": 57,
          "TrainingEndTime": "2022-11-02T21:15:34+00:00",
          "TrainingJobName": "bayesian-221102-2053-038-00e3f6b0",
          "TrainingJobStatus": "Completed",
          "TrainingStartTime": "2022-11-02T21:14:37+00:00",
          "TuningJobName": "bayesian-221102-2053",
          "alpha": 0.07922524196953384,
          "eta": 0.39653065727319403,
          "max_depth": 3,
          "min_child_weight": 0.48053456613192047,
          "validation:accuracy": 0.8907399773597717
         },
         {
          "TrainingElapsedTimeSeconds": 58,
          "TrainingEndTime": "2022-11-02T21:11:40+00:00",
          "TrainingJobName": "bayesian-221102-2053-031-5d58cf85",
          "TrainingJobStatus": "Completed",
          "TrainingStartTime": "2022-11-02T21:10:42+00:00",
          "TuningJobName": "bayesian-221102-2053",
          "alpha": 0.08290489807395622,
          "eta": 0.3883764985170217,
          "max_depth": 3,
          "min_child_weight": 0.7039896100381051,
          "validation:accuracy": 0.8907399773597717
         },
         {
          "TrainingElapsedTimeSeconds": 57,
          "TrainingEndTime": "2022-11-02T21:17:35+00:00",
          "TrainingJobName": "bayesian-221102-2053-042-03ff2868",
          "TrainingJobStatus": "Completed",
          "TrainingStartTime": "2022-11-02T21:16:38+00:00",
          "TuningJobName": "bayesian-221102-2053",
          "alpha": 0.2648846110738483,
          "eta": 0.42687454879200015,
          "max_depth": 3,
          "min_child_weight": 0.38342164731694206,
          "validation:accuracy": 0.8888900279998779
         },
         {
          "TrainingElapsedTimeSeconds": 62,
          "TrainingEndTime": "2022-11-02T21:10:17+00:00",
          "TrainingJobName": "bayesian-221102-2053-028-eb2c862a",
          "TrainingJobStatus": "Completed",
          "TrainingStartTime": "2022-11-02T21:09:15+00:00",
          "TuningJobName": "bayesian-221102-2053",
          "alpha": 0.01655652247606687,
          "eta": 0.30684832919662336,
          "max_depth": 3,
          "min_child_weight": 0.6871754228797919,
          "validation:accuracy": 0.8888900279998779
         },
         {
          "TrainingElapsedTimeSeconds": 57,
          "TrainingEndTime": "2022-11-02T21:09:01+00:00",
          "TrainingJobName": "bayesian-221102-2053-026-d231a410",
          "TrainingJobStatus": "Completed",
          "TrainingStartTime": "2022-11-02T21:08:04+00:00",
          "TuningJobName": "bayesian-221102-2053",
          "alpha": 0.3035953593814022,
          "eta": 0.3934583481027347,
          "max_depth": 3,
          "min_child_weight": 0.7934983441526815,
          "validation:accuracy": 0.8870400190353394
         },
         {
          "TrainingElapsedTimeSeconds": 63,
          "TrainingEndTime": "2022-11-02T21:18:45+00:00",
          "TrainingJobName": "bayesian-221102-2053-044-70b10a93",
          "TrainingJobStatus": "Completed",
          "TrainingStartTime": "2022-11-02T21:17:42+00:00",
          "TuningJobName": "bayesian-221102-2053",
          "alpha": 0.10630482753608368,
          "eta": 0.38938395852521057,
          "max_depth": 3,
          "min_child_weight": 0.6819643451003385,
          "validation:accuracy": 0.8870400190353394
         },
         {
          "TrainingElapsedTimeSeconds": 57,
          "TrainingEndTime": "2022-11-02T21:19:42+00:00",
          "TrainingJobName": "bayesian-221102-2053-046-2194c233",
          "TrainingJobStatus": "Completed",
          "TrainingStartTime": "2022-11-02T21:18:45+00:00",
          "TuningJobName": "bayesian-221102-2053",
          "alpha": 0.21960614939156078,
          "eta": 0.3944011039695817,
          "max_depth": 3,
          "min_child_weight": 0.3937297045822472,
          "validation:accuracy": 0.8870400190353394
         },
         {
          "TrainingElapsedTimeSeconds": 63,
          "TrainingEndTime": "2022-11-02T21:07:41+00:00",
          "TrainingJobName": "bayesian-221102-2053-022-78aa3d5f",
          "TrainingJobStatus": "Completed",
          "TrainingStartTime": "2022-11-02T21:06:38+00:00",
          "TuningJobName": "bayesian-221102-2053",
          "alpha": 0.01951028853496399,
          "eta": 0.31023654458216954,
          "max_depth": 3,
          "min_child_weight": 0.6518616048977257,
          "validation:accuracy": 0.8870400190353394
         },
         {
          "TrainingElapsedTimeSeconds": 62,
          "TrainingEndTime": "2022-11-02T21:18:21+00:00",
          "TrainingJobName": "bayesian-221102-2053-043-ff66101e",
          "TrainingJobStatus": "Completed",
          "TrainingStartTime": "2022-11-02T21:17:19+00:00",
          "TuningJobName": "bayesian-221102-2053",
          "alpha": 0.1077032174790755,
          "eta": 0.4039865253971505,
          "max_depth": 3,
          "min_child_weight": 0.6270974034491547,
          "validation:accuracy": 0.8851799964904785
         },
         {
          "TrainingElapsedTimeSeconds": 62,
          "TrainingEndTime": "2022-11-02T21:07:56+00:00",
          "TrainingJobName": "bayesian-221102-2053-024-05db4eec",
          "TrainingJobStatus": "Completed",
          "TrainingStartTime": "2022-11-02T21:06:54+00:00",
          "TuningJobName": "bayesian-221102-2053",
          "alpha": 0.01137578398513731,
          "eta": 0.2429603598153167,
          "max_depth": 3,
          "min_child_weight": 1.4187720025909956,
          "validation:accuracy": 0.8851799964904785
         },
         {
          "TrainingElapsedTimeSeconds": 57,
          "TrainingEndTime": "2022-11-02T21:14:50+00:00",
          "TrainingJobName": "bayesian-221102-2053-036-4a19b208",
          "TrainingJobStatus": "Completed",
          "TrainingStartTime": "2022-11-02T21:13:53+00:00",
          "TuningJobName": "bayesian-221102-2053",
          "alpha": 0.11433978581831923,
          "eta": 0.39157625480164737,
          "max_depth": 3,
          "min_child_weight": 0.7872349763223101,
          "validation:accuracy": 0.8851799964904785
         },
         {
          "TrainingElapsedTimeSeconds": 62,
          "TrainingEndTime": "2022-11-02T21:16:59+00:00",
          "TrainingJobName": "bayesian-221102-2053-041-790405ca",
          "TrainingJobStatus": "Completed",
          "TrainingStartTime": "2022-11-02T21:15:57+00:00",
          "TuningJobName": "bayesian-221102-2053",
          "alpha": 0.12413334250555033,
          "eta": 0.3597755071463763,
          "max_depth": 3,
          "min_child_weight": 0.7376432163790836,
          "validation:accuracy": 0.8851799964904785
         },
         {
          "TrainingElapsedTimeSeconds": 57,
          "TrainingEndTime": "2022-11-02T21:21:42+00:00",
          "TrainingJobName": "bayesian-221102-2053-050-47105806",
          "TrainingJobStatus": "Completed",
          "TrainingStartTime": "2022-11-02T21:20:45+00:00",
          "TuningJobName": "bayesian-221102-2053",
          "alpha": 0.014694081927668915,
          "eta": 0.4270155766362802,
          "max_depth": 3,
          "min_child_weight": 0.005230745548390203,
          "validation:accuracy": 0.8833299875259399
         },
         {
          "TrainingElapsedTimeSeconds": 53,
          "TrainingEndTime": "2022-11-02T21:11:28+00:00",
          "TrainingJobName": "bayesian-221102-2053-030-f4e1da82",
          "TrainingJobStatus": "Completed",
          "TrainingStartTime": "2022-11-02T21:10:35+00:00",
          "TuningJobName": "bayesian-221102-2053",
          "alpha": 0.11409003852925795,
          "eta": 0.4622210658085887,
          "max_depth": 3,
          "min_child_weight": 0.7099771578099344,
          "validation:accuracy": 0.8833299875259399
         },
         {
          "TrainingElapsedTimeSeconds": 57,
          "TrainingEndTime": "2022-11-02T21:09:01+00:00",
          "TrainingJobName": "bayesian-221102-2053-025-4155ba07",
          "TrainingJobStatus": "Completed",
          "TrainingStartTime": "2022-11-02T21:08:04+00:00",
          "TuningJobName": "bayesian-221102-2053",
          "alpha": 0.2704232579037192,
          "eta": 0.44467700687223555,
          "max_depth": 3,
          "min_child_weight": 0.3482472162680095,
          "validation:accuracy": 0.8833299875259399
         },
         {
          "TrainingElapsedTimeSeconds": 57,
          "TrainingEndTime": "2022-11-02T21:14:04+00:00",
          "TrainingJobName": "bayesian-221102-2053-034-10d5c0f2",
          "TrainingJobStatus": "Completed",
          "TrainingStartTime": "2022-11-02T21:13:07+00:00",
          "TuningJobName": "bayesian-221102-2053",
          "alpha": 0.05755590742117112,
          "eta": 0.3330660345469707,
          "max_depth": 3,
          "min_child_weight": 0.691545366653266,
          "validation:accuracy": 0.8833299875259399
         },
         {
          "TrainingElapsedTimeSeconds": 57,
          "TrainingEndTime": "2022-11-02T21:20:58+00:00",
          "TrainingJobName": "bayesian-221102-2053-049-6199bd15",
          "TrainingJobStatus": "Completed",
          "TrainingStartTime": "2022-11-02T21:20:01+00:00",
          "TuningJobName": "bayesian-221102-2053",
          "alpha": 0.06792850190718394,
          "eta": 0.4403143368412452,
          "max_depth": 3,
          "min_child_weight": 0.08419474513570036,
          "validation:accuracy": 0.8814799785614014
         },
         {
          "TrainingElapsedTimeSeconds": 62,
          "TrainingEndTime": "2022-11-02T21:17:15+00:00",
          "TrainingJobName": "bayesian-221102-2053-040-453b7552",
          "TrainingJobStatus": "Completed",
          "TrainingStartTime": "2022-11-02T21:16:13+00:00",
          "TuningJobName": "bayesian-221102-2053",
          "alpha": 0.15736412171785288,
          "eta": 0.37265700410662195,
          "max_depth": 3,
          "min_child_weight": 0.7312668233832602,
          "validation:accuracy": 0.8814799785614014
         },
         {
          "TrainingElapsedTimeSeconds": 57,
          "TrainingEndTime": "2022-11-02T21:02:46+00:00",
          "TrainingJobName": "bayesian-221102-2053-014-41e28967",
          "TrainingJobStatus": "Completed",
          "TrainingStartTime": "2022-11-02T21:01:49+00:00",
          "TuningJobName": "bayesian-221102-2053",
          "alpha": 0.02929522476957487,
          "eta": 0.24741882037747123,
          "max_depth": 3,
          "min_child_weight": 0.6451002663631322,
          "validation:accuracy": 0.8814799785614014
         },
         {
          "TrainingElapsedTimeSeconds": 58,
          "TrainingEndTime": "2022-11-02T21:10:25+00:00",
          "TrainingJobName": "bayesian-221102-2053-029-703649a9",
          "TrainingJobStatus": "Completed",
          "TrainingStartTime": "2022-11-02T21:09:27+00:00",
          "TuningJobName": "bayesian-221102-2053",
          "alpha": 0.16151035586187124,
          "eta": 0.4868790739248028,
          "max_depth": 3,
          "min_child_weight": 0.5005942528173741,
          "validation:accuracy": 0.8814799785614014
         },
         {
          "TrainingElapsedTimeSeconds": 62,
          "TrainingEndTime": "2022-11-02T21:16:18+00:00",
          "TrainingJobName": "bayesian-221102-2053-039-48bca8f1",
          "TrainingJobStatus": "Completed",
          "TrainingStartTime": "2022-11-02T21:15:16+00:00",
          "TuningJobName": "bayesian-221102-2053",
          "alpha": 0.11239770636194722,
          "eta": 0.37933821315979965,
          "max_depth": 3,
          "min_child_weight": 0.733280786979398,
          "validation:accuracy": 0.8796300292015076
         },
         {
          "TrainingElapsedTimeSeconds": 62,
          "TrainingEndTime": "2022-11-02T20:58:56+00:00",
          "TrainingJobName": "bayesian-221102-2053-005-0f6d89a7",
          "TrainingJobStatus": "Completed",
          "TrainingStartTime": "2022-11-02T20:57:54+00:00",
          "TuningJobName": "bayesian-221102-2053",
          "alpha": 0.052537624631510765,
          "eta": 0.26132516761222635,
          "max_depth": 10,
          "min_child_weight": 0.7237152310290147,
          "validation:accuracy": 0.8796300292015076
         },
         {
          "TrainingElapsedTimeSeconds": 147,
          "TrainingEndTime": "2022-11-02T21:13:26+00:00",
          "TrainingJobName": "bayesian-221102-2053-027-19614548",
          "TrainingJobStatus": "Completed",
          "TrainingStartTime": "2022-11-02T21:10:59+00:00",
          "TuningJobName": "bayesian-221102-2053",
          "alpha": 0.11400253610937865,
          "eta": 0.46478982677131453,
          "max_depth": 3,
          "min_child_weight": 1.9053249678935436,
          "validation:accuracy": 0.8759300112724304
         },
         {
          "TrainingElapsedTimeSeconds": 62,
          "TrainingEndTime": "2022-11-02T21:07:42+00:00",
          "TrainingJobName": "bayesian-221102-2053-023-b7b322f5",
          "TrainingJobStatus": "Completed",
          "TrainingStartTime": "2022-11-02T21:06:40+00:00",
          "TuningJobName": "bayesian-221102-2053",
          "alpha": 0.036372125807928195,
          "eta": 0.24503617447871934,
          "max_depth": 3,
          "min_child_weight": 1.5785652227793576,
          "validation:accuracy": 0.8759300112724304
         },
         {
          "TrainingElapsedTimeSeconds": 111,
          "TrainingEndTime": "2022-11-02T21:20:59+00:00",
          "TrainingJobName": "bayesian-221102-2053-047-8680ba68",
          "TrainingJobStatus": "Completed",
          "TrainingStartTime": "2022-11-02T21:19:08+00:00",
          "TuningJobName": "bayesian-221102-2053",
          "alpha": 0.3906826349189576,
          "eta": 0.4196899734811027,
          "max_depth": 3,
          "min_child_weight": 0.7233405786322682,
          "validation:accuracy": 0.8759300112724304
         },
         {
          "TrainingElapsedTimeSeconds": 68,
          "TrainingEndTime": "2022-11-02T20:59:54+00:00",
          "TrainingJobName": "bayesian-221102-2053-007-19b4ab73",
          "TrainingJobStatus": "Completed",
          "TrainingStartTime": "2022-11-02T20:58:46+00:00",
          "TuningJobName": "bayesian-221102-2053",
          "alpha": 0.12969449033339353,
          "eta": 0.2042693784403521,
          "max_depth": 3,
          "min_child_weight": 0.3905933837724416,
          "validation:accuracy": 0.8759300112724304
         },
         {
          "TrainingElapsedTimeSeconds": 138,
          "TrainingEndTime": "2022-11-02T20:57:17+00:00",
          "TrainingJobName": "bayesian-221102-2053-003-f4d3d198",
          "TrainingJobStatus": "Completed",
          "TrainingStartTime": "2022-11-02T20:54:59+00:00",
          "TuningJobName": "bayesian-221102-2053",
          "alpha": 0.08767748870470825,
          "eta": 0.20068535738115034,
          "max_depth": 3,
          "min_child_weight": 0.37138995199479763,
          "validation:accuracy": 0.8759300112724304
         },
         {
          "TrainingElapsedTimeSeconds": 62,
          "TrainingEndTime": "2022-11-02T21:12:51+00:00",
          "TrainingJobName": "bayesian-221102-2053-032-a722d0cf",
          "TrainingJobStatus": "Completed",
          "TrainingStartTime": "2022-11-02T21:11:49+00:00",
          "TuningJobName": "bayesian-221102-2053",
          "alpha": 0.28838800287054805,
          "eta": 0.34933058621629326,
          "max_depth": 3,
          "min_child_weight": 0.6925105672302483,
          "validation:accuracy": 0.8740699887275696
         },
         {
          "TrainingElapsedTimeSeconds": 102,
          "TrainingEndTime": "2022-11-02T21:04:52+00:00",
          "TrainingJobName": "bayesian-221102-2053-016-395ceafe",
          "TrainingJobStatus": "Completed",
          "TrainingStartTime": "2022-11-02T21:03:10+00:00",
          "TuningJobName": "bayesian-221102-2053",
          "alpha": 0.21588512602023618,
          "eta": 0.2453398217756079,
          "max_depth": 3,
          "min_child_weight": 0.7721991489472848,
          "validation:accuracy": 0.8740699887275696
         },
         {
          "TrainingElapsedTimeSeconds": 57,
          "TrainingEndTime": "2022-11-02T21:00:08+00:00",
          "TrainingJobName": "bayesian-221102-2053-008-37347e44",
          "TrainingJobStatus": "Completed",
          "TrainingStartTime": "2022-11-02T20:59:11+00:00",
          "TuningJobName": "bayesian-221102-2053",
          "alpha": 0.05795468023174745,
          "eta": 0.4844970373678231,
          "max_depth": 10,
          "min_child_weight": 1.881513820633751,
          "validation:accuracy": 0.8740699887275696
         },
         {
          "TrainingElapsedTimeSeconds": 57,
          "TrainingEndTime": "2022-11-02T21:00:19+00:00",
          "TrainingJobName": "bayesian-221102-2053-009-f51ba321",
          "TrainingJobStatus": "Completed",
          "TrainingStartTime": "2022-11-02T20:59:22+00:00",
          "TuningJobName": "bayesian-221102-2053",
          "alpha": 0.06830297997569423,
          "eta": 0.4988203738620227,
          "max_depth": 10,
          "min_child_weight": 0.43838354059180884,
          "validation:accuracy": 0.8703699707984924
         },
         {
          "TrainingElapsedTimeSeconds": 58,
          "TrainingEndTime": "2022-11-02T21:06:33+00:00",
          "TrainingJobName": "bayesian-221102-2053-021-85abe0e9",
          "TrainingJobStatus": "Completed",
          "TrainingStartTime": "2022-11-02T21:05:35+00:00",
          "TuningJobName": "bayesian-221102-2053",
          "alpha": 0.03009581806459565,
          "eta": 0.3122018407216436,
          "max_depth": 3,
          "min_child_weight": 0.5767148503373258,
          "validation:accuracy": 0.8703699707984924
         },
         {
          "TrainingElapsedTimeSeconds": 57,
          "TrainingEndTime": "2022-11-02T21:01:29+00:00",
          "TrainingJobName": "bayesian-221102-2053-012-833cfb56",
          "TrainingJobStatus": "Completed",
          "TrainingStartTime": "2022-11-02T21:00:32+00:00",
          "TuningJobName": "bayesian-221102-2053",
          "alpha": 0.02967054686088657,
          "eta": 0.28403206248303725,
          "max_depth": 6,
          "min_child_weight": 0.5974834645189824,
          "validation:accuracy": 0.8703699707984924
         },
         {
          "TrainingElapsedTimeSeconds": 58,
          "TrainingEndTime": "2022-11-02T20:59:08+00:00",
          "TrainingJobName": "bayesian-221102-2053-006-918c0c33",
          "TrainingJobStatus": "Completed",
          "TrainingStartTime": "2022-11-02T20:58:10+00:00",
          "TuningJobName": "bayesian-221102-2053",
          "alpha": 0.08710761596352615,
          "eta": 0.13262070221843417,
          "max_depth": 6,
          "min_child_weight": 0.3740615431514889,
          "validation:accuracy": 0.8685200214385986
         },
         {
          "TrainingElapsedTimeSeconds": 57,
          "TrainingEndTime": "2022-11-02T21:01:47+00:00",
          "TrainingJobName": "bayesian-221102-2053-011-de7be448",
          "TrainingJobStatus": "Completed",
          "TrainingStartTime": "2022-11-02T21:00:50+00:00",
          "TuningJobName": "bayesian-221102-2053",
          "alpha": 0.025127002855884973,
          "eta": 0.14826877108558678,
          "max_depth": 10,
          "min_child_weight": 0.5492474804826983,
          "validation:accuracy": 0.8685200214385986
         },
         {
          "TrainingElapsedTimeSeconds": 137,
          "TrainingEndTime": "2022-11-02T20:57:21+00:00",
          "TrainingJobName": "bayesian-221102-2053-002-fbade002",
          "TrainingJobStatus": "Completed",
          "TrainingStartTime": "2022-11-02T20:55:04+00:00",
          "TuningJobName": "bayesian-221102-2053",
          "alpha": 0.331535623776181,
          "eta": 0.3210732169060503,
          "max_depth": 10,
          "min_child_weight": 1.4074698087643622,
          "validation:accuracy": 0.8666700124740601
         },
         {
          "TrainingElapsedTimeSeconds": 57,
          "TrainingEndTime": "2022-11-02T21:03:36+00:00",
          "TrainingJobName": "bayesian-221102-2053-015-f4272123",
          "TrainingJobStatus": "Completed",
          "TrainingStartTime": "2022-11-02T21:02:39+00:00",
          "TuningJobName": "bayesian-221102-2053",
          "alpha": 0.05522880107769021,
          "eta": 0.2858770995885889,
          "max_depth": 10,
          "min_child_weight": 0.4394135489437465,
          "validation:accuracy": 0.8666700124740601
         },
         {
          "TrainingElapsedTimeSeconds": 57,
          "TrainingEndTime": "2022-11-02T21:01:14+00:00",
          "TrainingJobName": "bayesian-221102-2053-010-2d0feab1",
          "TrainingJobStatus": "Completed",
          "TrainingStartTime": "2022-11-02T21:00:17+00:00",
          "TuningJobName": "bayesian-221102-2053",
          "alpha": 0.11493941771787354,
          "eta": 0.29136703109978723,
          "max_depth": 10,
          "min_child_weight": 0.5732678959364526,
          "validation:accuracy": 0.8666700124740601
         },
         {
          "TrainingElapsedTimeSeconds": 57,
          "TrainingEndTime": "2022-11-02T21:06:18+00:00",
          "TrainingJobName": "bayesian-221102-2053-020-712c791a",
          "TrainingJobStatus": "Completed",
          "TrainingStartTime": "2022-11-02T21:05:21+00:00",
          "TuningJobName": "bayesian-221102-2053",
          "alpha": 0.045198225631799066,
          "eta": 0.12848843296755913,
          "max_depth": 10,
          "min_child_weight": 0.8060415217626795,
          "validation:accuracy": 0.8666700124740601
         },
         {
          "TrainingElapsedTimeSeconds": 62,
          "TrainingEndTime": "2022-11-02T21:06:08+00:00",
          "TrainingJobName": "bayesian-221102-2053-019-23c9c831",
          "TrainingJobStatus": "Completed",
          "TrainingStartTime": "2022-11-02T21:05:06+00:00",
          "TuningJobName": "bayesian-221102-2053",
          "alpha": 0.01,
          "eta": 0.23962126017494076,
          "max_depth": 10,
          "min_child_weight": 0.9208933523340094,
          "validation:accuracy": 0.8648200035095215
         },
         {
          "TrainingElapsedTimeSeconds": 62,
          "TrainingEndTime": "2022-11-02T21:02:41+00:00",
          "TrainingJobName": "bayesian-221102-2053-013-3c290e3b",
          "TrainingJobStatus": "Completed",
          "TrainingStartTime": "2022-11-02T21:01:39+00:00",
          "TuningJobName": "bayesian-221102-2053",
          "alpha": 0.03416794170165443,
          "eta": 0.19435983249111902,
          "max_depth": 10,
          "min_child_weight": 1.4147098717999187,
          "validation:accuracy": 0.8574100136756897
         },
         {
          "TrainingElapsedTimeSeconds": 174,
          "TrainingEndTime": "2022-11-02T20:57:54+00:00",
          "TrainingJobName": "bayesian-221102-2053-001-321db409",
          "TrainingJobStatus": "Completed",
          "TrainingStartTime": "2022-11-02T20:55:00+00:00",
          "TuningJobName": "bayesian-221102-2053",
          "alpha": 0.2588201109108827,
          "eta": 0.29207984467976145,
          "max_depth": 8,
          "min_child_weight": 1.9013298894891462,
          "validation:accuracy": 0.8574100136756897
         },
         {
          "TrainingElapsedTimeSeconds": 69,
          "TrainingEndTime": "2022-11-02T21:05:02+00:00",
          "TrainingJobName": "bayesian-221102-2053-018-0300687a",
          "TrainingJobStatus": "Completed",
          "TrainingStartTime": "2022-11-02T21:03:53+00:00",
          "TuningJobName": "bayesian-221102-2053",
          "alpha": 0.20687273116740568,
          "eta": 0.24682370153540376,
          "max_depth": 5,
          "min_child_weight": 0.660446232698477,
          "validation:accuracy": 0.8518499732017517
         },
         {
          "TrainingElapsedTimeSeconds": 53,
          "TrainingEndTime": "2022-11-02T20:58:28+00:00",
          "TrainingJobName": "bayesian-221102-2053-004-bef5bf88",
          "TrainingJobStatus": "Completed",
          "TrainingStartTime": "2022-11-02T20:57:35+00:00",
          "TuningJobName": "bayesian-221102-2053",
          "alpha": 0.3098368927589949,
          "eta": 0.12776645967550304,
          "max_depth": 8,
          "min_child_weight": 1.24235894815833,
          "validation:accuracy": 0.8518499732017517
         },
         {
          "TrainingElapsedTimeSeconds": 76,
          "TrainingEndTime": "2022-11-02T21:04:24+00:00",
          "TrainingJobName": "bayesian-221102-2053-017-a90fac3d",
          "TrainingJobStatus": "Completed",
          "TrainingStartTime": "2022-11-02T21:03:08+00:00",
          "TuningJobName": "bayesian-221102-2053",
          "alpha": 0.03714733262245975,
          "eta": 0.24406930994344544,
          "max_depth": 1,
          "min_child_weight": 0.6918882927910206,
          "validation:accuracy": 0.8481500148773193
         }
        ]
       },
       "vconcat": [
        {
         "hconcat": [
          {
           "encoding": {
            "opacity": {
             "condition": {
              "selection": "selector001",
              "value": 1
             },
             "value": 0.35
            },
            "shape": {
             "field": "TrainingJobStatus",
             "legend": {
              "orient": "right"
             },
             "type": "nominal"
            },
            "stroke": {
             "condition": {
              "selection": "selector002",
              "value": "gold"
             },
             "value": "white"
            },
            "strokeWidth": {
             "condition": {
              "selection": "selector002",
              "value": 2
             },
             "value": 2
            },
            "tooltip": [
             {
              "field": "validation:accuracy",
              "format": ".2e",
              "type": "quantitative"
             },
             {
              "field": "max_depth",
              "format": ".2e",
              "type": "quantitative"
             },
             {
              "field": "alpha",
              "format": ".2e",
              "type": "quantitative"
             },
             {
              "field": "eta",
              "format": ".2e",
              "type": "quantitative"
             },
             {
              "field": "min_child_weight",
              "format": ".2e",
              "type": "quantitative"
             },
             {
              "field": "TrainingStartTime",
              "format": "%H:%M:%S",
              "type": "temporal"
             },
             {
              "field": "TrainingJobName",
              "type": "nominal"
             },
             {
              "field": "TrainingJobStatus",
              "type": "nominal"
             },
             {
              "field": "TrainingElapsedTimeSeconds",
              "type": "quantitative"
             }
            ],
            "x": {
             "field": "TrainingStartTime",
             "scale": {
              "nice": true
             },
             "type": "temporal"
            },
            "y": {
             "axis": {
              "title": "validation:accuracy"
             },
             "field": "validation:accuracy",
             "scale": {
              "padding": 1,
              "zero": false
             },
             "type": "quantitative"
            }
           },
           "mark": {
            "filled": true,
            "size": 50,
            "type": "point"
           },
           "selection": {
            "selector001": {
             "empty": "all",
             "encodings": [
              "x"
             ],
             "resolve": "intersect",
             "type": "interval"
            },
            "selector002": {
             "empty": "none",
             "fields": [
              "TrainingJobName",
              "TrainingStartTime"
             ],
             "nearest": false,
             "on": "mouseover",
             "type": "single"
            }
           }
          },
          {
           "encoding": {
            "x": {
             "field": "value",
             "title": "validation:accuracy",
             "type": "quantitative"
            },
            "y": {
             "field": "density",
             "type": "quantitative"
            }
           },
           "mark": "area",
           "transform": [
            {
             "filter": {
              "selection": "selector001"
             }
            },
            {
             "bandwidth": 0.01,
             "density": "validation:accuracy"
            }
           ]
          }
         ],
         "title": "Hyper Parameter Tuning Job"
        },
        {
         "title": "Hyper Parameter Details",
         "vconcat": [
          {
           "hconcat": [
            {
             "encoding": {
              "opacity": {
               "condition": {
                "selection": "selector001",
                "value": 1
               },
               "value": 0.35
              },
              "shape": {
               "field": "TrainingJobStatus",
               "legend": {
                "orient": "right"
               },
               "type": "nominal"
              },
              "stroke": {
               "condition": {
                "selection": "selector002",
                "value": "gold"
               },
               "value": "white"
              },
              "strokeWidth": {
               "condition": {
                "selection": "selector002",
                "value": 2
               },
               "value": 2
              },
              "tooltip": [
               {
                "field": "validation:accuracy",
                "format": ".2e",
                "type": "quantitative"
               },
               {
                "field": "max_depth",
                "format": ".2e",
                "type": "quantitative"
               },
               {
                "field": "alpha",
                "format": ".2e",
                "type": "quantitative"
               },
               {
                "field": "eta",
                "format": ".2e",
                "type": "quantitative"
               },
               {
                "field": "min_child_weight",
                "format": ".2e",
                "type": "quantitative"
               },
               {
                "field": "TrainingStartTime",
                "format": "%H:%M:%S",
                "type": "temporal"
               },
               {
                "field": "TrainingJobName",
                "type": "nominal"
               },
               {
                "field": "TrainingJobStatus",
                "type": "nominal"
               },
               {
                "field": "TrainingElapsedTimeSeconds",
                "type": "quantitative"
               }
              ],
              "x": {
               "field": "max_depth",
               "scale": {
                "base": 10,
                "padding": 1,
                "type": "linear",
                "zero": false
               },
               "type": "quantitative"
              },
              "y": {
               "axis": {
                "title": "validation:accuracy"
               },
               "field": "validation:accuracy",
               "scale": {
                "padding": 1,
                "zero": false
               },
               "type": "quantitative"
              }
             },
             "mark": {
              "filled": true,
              "size": 50,
              "type": "point"
             },
             "selection": {
              "selector001": {
               "empty": "all",
               "encodings": [
                "x"
               ],
               "resolve": "intersect",
               "type": "interval"
              },
              "selector002": {
               "empty": "none",
               "fields": [
                "TrainingJobName",
                "TrainingStartTime"
               ],
               "nearest": false,
               "on": "mouseover",
               "type": "single"
              }
             },
             "title": "max_depth"
            },
            {
             "encoding": {
              "opacity": {
               "condition": {
                "selection": "selector001",
                "value": 1
               },
               "value": 0.35
              },
              "shape": {
               "field": "TrainingJobStatus",
               "legend": {
                "orient": "right"
               },
               "type": "nominal"
              },
              "stroke": {
               "condition": {
                "selection": "selector002",
                "value": "gold"
               },
               "value": "white"
              },
              "strokeWidth": {
               "condition": {
                "selection": "selector002",
                "value": 2
               },
               "value": 2
              },
              "tooltip": [
               {
                "field": "validation:accuracy",
                "format": ".2e",
                "type": "quantitative"
               },
               {
                "field": "max_depth",
                "format": ".2e",
                "type": "quantitative"
               },
               {
                "field": "alpha",
                "format": ".2e",
                "type": "quantitative"
               },
               {
                "field": "eta",
                "format": ".2e",
                "type": "quantitative"
               },
               {
                "field": "min_child_weight",
                "format": ".2e",
                "type": "quantitative"
               },
               {
                "field": "TrainingStartTime",
                "format": "%H:%M:%S",
                "type": "temporal"
               },
               {
                "field": "TrainingJobName",
                "type": "nominal"
               },
               {
                "field": "TrainingJobStatus",
                "type": "nominal"
               },
               {
                "field": "TrainingElapsedTimeSeconds",
                "type": "quantitative"
               }
              ],
              "x": {
               "field": "alpha",
               "scale": {
                "base": 10,
                "padding": 1,
                "type": "linear",
                "zero": false
               },
               "type": "quantitative"
              },
              "y": {
               "axis": {
                "title": "validation:accuracy"
               },
               "field": "validation:accuracy",
               "scale": {
                "padding": 1,
                "zero": false
               },
               "type": "quantitative"
              }
             },
             "mark": {
              "filled": true,
              "size": 50,
              "type": "point"
             },
             "selection": {
              "selector001": {
               "empty": "all",
               "encodings": [
                "x"
               ],
               "resolve": "intersect",
               "type": "interval"
              },
              "selector002": {
               "empty": "none",
               "fields": [
                "TrainingJobName",
                "TrainingStartTime"
               ],
               "nearest": false,
               "on": "mouseover",
               "type": "single"
              }
             },
             "title": "alpha"
            }
           ]
          },
          {
           "hconcat": [
            {
             "encoding": {
              "opacity": {
               "condition": {
                "selection": "selector001",
                "value": 1
               },
               "value": 0.35
              },
              "shape": {
               "field": "TrainingJobStatus",
               "legend": {
                "orient": "right"
               },
               "type": "nominal"
              },
              "stroke": {
               "condition": {
                "selection": "selector002",
                "value": "gold"
               },
               "value": "white"
              },
              "strokeWidth": {
               "condition": {
                "selection": "selector002",
                "value": 2
               },
               "value": 2
              },
              "tooltip": [
               {
                "field": "validation:accuracy",
                "format": ".2e",
                "type": "quantitative"
               },
               {
                "field": "max_depth",
                "format": ".2e",
                "type": "quantitative"
               },
               {
                "field": "alpha",
                "format": ".2e",
                "type": "quantitative"
               },
               {
                "field": "eta",
                "format": ".2e",
                "type": "quantitative"
               },
               {
                "field": "min_child_weight",
                "format": ".2e",
                "type": "quantitative"
               },
               {
                "field": "TrainingStartTime",
                "format": "%H:%M:%S",
                "type": "temporal"
               },
               {
                "field": "TrainingJobName",
                "type": "nominal"
               },
               {
                "field": "TrainingJobStatus",
                "type": "nominal"
               },
               {
                "field": "TrainingElapsedTimeSeconds",
                "type": "quantitative"
               }
              ],
              "x": {
               "field": "eta",
               "scale": {
                "base": 10,
                "padding": 1,
                "type": "linear",
                "zero": false
               },
               "type": "quantitative"
              },
              "y": {
               "axis": {
                "title": "validation:accuracy"
               },
               "field": "validation:accuracy",
               "scale": {
                "padding": 1,
                "zero": false
               },
               "type": "quantitative"
              }
             },
             "mark": {
              "filled": true,
              "size": 50,
              "type": "point"
             },
             "selection": {
              "selector001": {
               "empty": "all",
               "encodings": [
                "x"
               ],
               "resolve": "intersect",
               "type": "interval"
              },
              "selector002": {
               "empty": "none",
               "fields": [
                "TrainingJobName",
                "TrainingStartTime"
               ],
               "nearest": false,
               "on": "mouseover",
               "type": "single"
              }
             },
             "title": "eta"
            },
            {
             "encoding": {
              "opacity": {
               "condition": {
                "selection": "selector001",
                "value": 1
               },
               "value": 0.35
              },
              "shape": {
               "field": "TrainingJobStatus",
               "legend": {
                "orient": "right"
               },
               "type": "nominal"
              },
              "stroke": {
               "condition": {
                "selection": "selector002",
                "value": "gold"
               },
               "value": "white"
              },
              "strokeWidth": {
               "condition": {
                "selection": "selector002",
                "value": 2
               },
               "value": 2
              },
              "tooltip": [
               {
                "field": "validation:accuracy",
                "format": ".2e",
                "type": "quantitative"
               },
               {
                "field": "max_depth",
                "format": ".2e",
                "type": "quantitative"
               },
               {
                "field": "alpha",
                "format": ".2e",
                "type": "quantitative"
               },
               {
                "field": "eta",
                "format": ".2e",
                "type": "quantitative"
               },
               {
                "field": "min_child_weight",
                "format": ".2e",
                "type": "quantitative"
               },
               {
                "field": "TrainingStartTime",
                "format": "%H:%M:%S",
                "type": "temporal"
               },
               {
                "field": "TrainingJobName",
                "type": "nominal"
               },
               {
                "field": "TrainingJobStatus",
                "type": "nominal"
               },
               {
                "field": "TrainingElapsedTimeSeconds",
                "type": "quantitative"
               }
              ],
              "x": {
               "field": "min_child_weight",
               "scale": {
                "base": 10,
                "padding": 1,
                "type": "linear",
                "zero": false
               },
               "type": "quantitative"
              },
              "y": {
               "axis": {
                "title": "validation:accuracy"
               },
               "field": "validation:accuracy",
               "scale": {
                "padding": 1,
                "zero": false
               },
               "type": "quantitative"
              }
             },
             "mark": {
              "filled": true,
              "size": 50,
              "type": "point"
             },
             "selection": {
              "selector001": {
               "empty": "all",
               "encodings": [
                "x"
               ],
               "resolve": "intersect",
               "type": "interval"
              },
              "selector002": {
               "empty": "none",
               "fields": [
                "TrainingJobName",
                "TrainingStartTime"
               ],
               "nearest": false,
               "on": "mouseover",
               "type": "single"
              }
             },
             "title": "min_child_weight"
            }
           ]
          }
         ]
        },
        {
         "vconcat": [
          {
           "data": {
            "name": "data-1c1e877aaaf76acc3d066158834bdcfe"
           },
           "encoding": {
            "color": {
             "field": "TrainingJobName",
             "type": "nominal"
            },
            "opacity": {
             "condition": {
              "selection": "selector001",
              "value": 1
             },
             "value": 0.35
            },
            "shape": {
             "field": "TrainingJobStatus",
             "legend": {
              "orient": "right"
             },
             "type": "nominal"
            },
            "stroke": {
             "condition": {
              "selection": "selector002",
              "value": "gold"
             },
             "value": "white"
            },
            "strokeWidth": {
             "condition": {
              "selection": "selector002",
              "value": 2
             },
             "value": 2
            },
            "x": {
             "field": "TrainingJobName",
             "sort": null,
             "type": "nominal"
            },
            "y": {
             "field": "validation:accuracy",
             "type": "quantitative"
            }
           },
           "mark": "bar",
           "selection": {
            "selector001": {
             "empty": "all",
             "encodings": [
              "x"
             ],
             "resolve": "intersect",
             "type": "interval"
            },
            "selector002": {
             "empty": "none",
             "fields": [
              "TrainingJobName",
              "TrainingStartTime"
             ],
             "nearest": false,
             "on": "mouseover",
             "type": "single"
            }
           },
           "title": "Training Jobs"
          },
          {
           "hconcat": []
          }
         ]
        }
       ]
      },
      "image/png": "[encoded data removed]",
      "text/plain": [
       "<VegaLite 4 object>\n",
       "\n",
       "If you see this message, it means the renderer has not been properly enabled\n",
       "for the frontend that you are using. For more information, see\n",
       "https://altair-viz.github.io/user_guide/troubleshooting.html\n"
      ]
     },
     "execution_count": 21,
     "metadata": {},
     "output_type": "execute_result"
    }
   ],
   "source": [
    "from reporting_util import analyze_hpo_job\n",
    "analyze_hpo_job(tuner, trials_only=True)"
   ]
  }
 ],
 "metadata": {
  "instance_type": "ml.t3.medium",
  "kernelspec": {
   "display_name": "conda_python3",
   "language": "python",
   "name": "conda_python3"
  },
  "language_info": {
   "codemirror_mode": {
    "name": "ipython",
    "version": 3
   },
   "file_extension": ".py",
   "mimetype": "text/x-python",
   "name": "python",
   "nbconvert_exporter": "python",
   "pygments_lexer": "ipython3",
   "version": "3.8.12"
  }
 },
 "nbformat": 4,
 "nbformat_minor": 5
}
