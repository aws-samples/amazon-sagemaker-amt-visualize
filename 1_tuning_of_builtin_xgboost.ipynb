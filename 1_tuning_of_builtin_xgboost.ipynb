{
 "cells": [
  {
   "cell_type": "markdown",
   "id": "51e0cdcd",
   "metadata": {},
   "source": [
    "# Getting Started With Hyperparameter Optimization Using Amazon SageMaker Automatic Model Tuning"
   ]
  },
  {
   "cell_type": "markdown",
   "id": "cdbfc6f0",
   "metadata": {},
   "source": [
    "## Background - What are we doing?"
   ]
  },
  {
   "cell_type": "markdown",
   "id": "c8f89001",
   "metadata": {},
   "source": [
    "Machine Learning (ML) models are getting better and better. Subsequently they are taking the world by storm. Their performance relies on the right training data and choosing the right model/algorithm. But it does not end here. Typically, algorithms defer some design decisions to the ML practitioner to adopt for their specific data and task. These deferred design decisions manifest themselves as so called *hyperparameters*.\n",
    "\n",
    "What does that name mean? The result of a machine learning training, the model, can be largely seen as a collection of parameters that were learned during training. Hence the parameters that are used to configure the machine learning training are then called hyperparameters, i.e. parameters describing the creation of parameters. At any rate, they are of very practical use, such as the number of epochs to train, the learning rate, the max depth of a decision tree and so forth. And they have a major impact on the ultimate performance of your model.\n",
    "\n",
    "Selecting the right parameters and their value ranges starts with the practitioner's theoretical knowledge of the model to train. This defines the boundaries of the search space, but then it is also necessary to explore this search space empirically to find a good combination of parameters that will result in a high performing model.\n",
    "\n",
    "Luckily, we do not have to manually search that space, because SageMaker Automatic Model Tuning (AMT) is here to help. We point AMT in the right direction by defining the overall search space and AMT then takes over and coordinates the exploration of that space and fully automatically runs training jobs to efficiently evaluate the space. This then results in a good combination of hyper parameter values to train a high performing model.\n",
    "\n",
    "*In an upcoming article we will extend the notion of __just__ finding the best parameters to then __also__ include learning about the search space and to what parameter ranges a model is sensitive, as well as turning a one-shot tuning activity into a multi-step conversation with the ML practitioner, to learn together. Exciting!*\n",
    "\n",
    "In this tutorial we will walk through Amazon SageMaker Automatic Model Tuning (AMT), using a built-in XGBoost algorithm provided by Amazon SageMaker. Additional information can be found in the documentation pages below:\n",
    "* For more information on running a simple hyperparameter tuning job: https://docs.aws.amazon.com/sagemaker/latest/dg/automatic-model-tuning-ex.html\n",
    "* For documentation on using the HyperParameterTuner API with the SageMaker Python SDK: https://sagemaker.readthedocs.io/en/stable/api/training/tuner.html"
   ]
  },
  {
   "cell_type": "markdown",
   "id": "55d3c147",
   "metadata": {
    "tags": []
   },
   "source": [
    "## Overview"
   ]
  },
  {
   "cell_type": "markdown",
   "id": "dda7534b",
   "metadata": {},
   "source": [
    "This notebook is split into the following sections:\n",
    "* Setup and Imports\n",
    "* Load and Prepare dataset\n",
    "* Train a SageMaker Built-In XGBoost Algorithm\n",
    "* Train and Tune a SageMaker Built-In XGBoost Algorithm\n",
    "* View the AMT job statistics \n",
    "* Visualize AMT job results and tuned Hyperparameters\n"
   ]
  },
  {
   "cell_type": "markdown",
   "id": "238d2c62",
   "metadata": {},
   "source": [
    "### Setup and Imports"
   ]
  },
  {
   "cell_type": "code",
   "execution_count": 1,
   "id": "e5026ca2",
   "metadata": {},
   "outputs": [],
   "source": [
    "%load_ext autoreload\n",
    "%autoreload 2\n",
    "\n",
    "%matplotlib inline"
   ]
  },
  {
   "cell_type": "markdown",
   "id": "820bc604",
   "metadata": {},
   "source": [
    "We ran this notebook using Amazon SageMaker with the version you see in the output of the next cell below. If your version is lower and you encounter issues, we recommend uncommenting the code below to upgrade your pip and SageMaker versions. Make sure to restart your kernel after upgrading for the changes to take effect."
   ]
  },
  {
   "cell_type": "code",
   "execution_count": 2,
   "id": "ae8980f8",
   "metadata": {},
   "outputs": [
    {
     "data": {
      "text/plain": [
       "'2.121.0'"
      ]
     },
     "execution_count": 2,
     "metadata": {},
     "output_type": "execute_result"
    }
   ],
   "source": [
    "import sagemaker\n",
    "\n",
    "sagemaker.__version__ "
   ]
  },
  {
   "cell_type": "code",
   "execution_count": 3,
   "id": "e6e59ad6",
   "metadata": {},
   "outputs": [],
   "source": [
    "#!pip install --upgrade --quiet pip \"sagemaker==2.121.0\" # upgrade SageMaker to the recommended version"
   ]
  },
  {
   "cell_type": "code",
   "execution_count": 4,
   "id": "e419bc3f",
   "metadata": {},
   "outputs": [],
   "source": [
    "import io\n",
    "import os\n",
    "import argparse\n",
    "import traceback\n",
    "import boto3\n",
    "import numpy as np\n",
    "import pandas as pd\n",
    "\n",
    "from pathlib import Path"
   ]
  },
  {
   "cell_type": "code",
   "execution_count": 5,
   "id": "cd7a5efc",
   "metadata": {},
   "outputs": [],
   "source": [
    "# SDK setup\n",
    "role = sagemaker.get_execution_role()\n",
    "region = boto3.Session().region_name\n",
    "sm = boto3.client('sagemaker')\n",
    "boto_sess = boto3.Session(region_name=region)\n",
    "sm_sess = sagemaker.session.Session(boto_session=boto_sess, sagemaker_client=sm)"
   ]
  },
  {
   "cell_type": "code",
   "execution_count": 6,
   "id": "6ad8b879",
   "metadata": {},
   "outputs": [
    {
     "data": {
      "text/plain": [
       "'s3://sagemaker-eu-west-1-811243659808/amt-visualize-demo/output'"
      ]
     },
     "execution_count": 6,
     "metadata": {},
     "output_type": "execute_result"
    }
   ],
   "source": [
    "# Data layout and locations. \n",
    "# To store our data we are using a prefix in the Amazon SageMaker default bucket. Feel free to adjust to your preferences.\n",
    "\n",
    "BUCKET = sm_sess.default_bucket()\n",
    "PREFIX = 'amt-visualize-demo'\n",
    "\n",
    "# Eventual output destination for our XGBoost model\n",
    "output_path = f's3://{BUCKET}/{PREFIX}/output'\n",
    "output_path"
   ]
  },
  {
   "cell_type": "markdown",
   "id": "0f3075fb",
   "metadata": {},
   "source": [
    "## Load and Prepare dataset "
   ]
  },
  {
   "cell_type": "code",
   "execution_count": 7,
   "id": "6609672d",
   "metadata": {},
   "outputs": [],
   "source": [
    "!mkdir -p data"
   ]
  },
  {
   "cell_type": "markdown",
   "id": "65a9ac0a",
   "metadata": {},
   "source": [
    "The focus of this notebook is on Hyperparameter Optimization. Hence the actual task and data only play a supporting role. But to give some brief context, we are optimizing the hyperparameters of an XGBoost model that should classify handwritten digits. \n",
    "\n",
    "We use the [Optical Recognition of Handwritten Digits Data Set](https://archive.ics.uci.edu/ml/datasets/Optical+Recognition+of+Handwritten+Digits) via scikit-learn:\n",
    "\n",
    "_Dua, D. and Graff, C. (2019). UCI Machine Learning Repository [http://archive.ics.uci.edu/ml]. Irvine, CA: University of California, School of Information and Computer Science._"
   ]
  },
  {
   "cell_type": "code",
   "execution_count": 8,
   "id": "9e1ced87",
   "metadata": {},
   "outputs": [],
   "source": [
    "from sklearn import datasets\n",
    "\n",
    "digits         = datasets.load_digits()\n",
    "digits_df      = pd.DataFrame(digits.data)\n",
    "digits_df['y'] = digits.target\n",
    "digits_df.insert(0, 'y', digits_df.pop('y')) # XGBoost expects the target to be the first column "
   ]
  },
  {
   "cell_type": "code",
   "execution_count": 9,
   "id": "d7511dea",
   "metadata": {},
   "outputs": [
    {
     "name": "stdout",
     "output_type": "stream",
     "text": [
      "digit: 4\n"
     ]
    },
    {
     "data": {
      "image/png": "[encoded data removed]",
      "text/plain": [
       "<Figure size 432x288 with 1 Axes>"
      ]
     },
     "metadata": {
      "needs_background": "light"
     },
     "output_type": "display_data"
    }
   ],
   "source": [
    "from matplotlib import pyplot as plt\n",
    "\n",
    "print('digit:', int(digits_df.iloc[100].y))\n",
    "plt.imshow(digits_df.iloc[100, 1:].values.reshape(8, -1));"
   ]
  },
  {
   "cell_type": "code",
   "execution_count": 10,
   "id": "145da7f4",
   "metadata": {},
   "outputs": [],
   "source": [
    "# randomly sort the data then split out into train 70% and validation 30% sets\n",
    "train_data, valid_data= np.split(\n",
    "    digits_df, [int(0.7 * len(digits_df))]\n",
    ")"
   ]
  },
  {
   "cell_type": "code",
   "execution_count": 11,
   "id": "de42d336",
   "metadata": {},
   "outputs": [],
   "source": [
    "train_data.to_csv('data/train.csv', index=False, header=False)\n",
    "valid_data.to_csv('data/valid.csv', index=False, header=False)"
   ]
  },
  {
   "cell_type": "code",
   "execution_count": 12,
   "id": "448723bf",
   "metadata": {},
   "outputs": [],
   "source": [
    "boto_sess.resource('s3').Bucket(BUCKET).Object(os.path.join(PREFIX, 'data/train/train.csv')).upload_file('data/train.csv')\n",
    "boto_sess.resource('s3').Bucket(BUCKET).Object(os.path.join(PREFIX, 'data/valid/valid.csv')).upload_file('data/valid.csv')"
   ]
  },
  {
   "cell_type": "markdown",
   "id": "64a55efe",
   "metadata": {},
   "source": [
    "We upload our train and validation datasets into [Amazon S3](https://aws.amazon.com/s3/). Amazon SageMaker will launch training jobs on our behalf and those will read the data directly from S3."
   ]
  },
  {
   "cell_type": "markdown",
   "id": "f96665c5",
   "metadata": {},
   "source": [
    "## Train an Amazon SageMaker Built-In XGBoost Algorithm"
   ]
  },
  {
   "cell_type": "markdown",
   "id": "4c0852f1",
   "metadata": {},
   "source": [
    "SageMaker provides many [built-in algorithms](https://docs.aws.amazon.com/sagemaker/latest/dg/algos.html). For our example we use the popular XGBoost algorithm. To select it for our training it is identified by an image URI as described in the docs here:\n",
    "https://docs.aws.amazon.com/sagemaker/latest/dg/xgboost.html\n",
    "\n",
    "In below code you can see how we lookup the respective image and version of the algorithm. We then define the hyperparameters and instantiate an Estimator that describes our training. For a list of hyperparameters and their meaning for this algorithm check out the [documentation](https://docs.aws.amazon.com/sagemaker/latest/dg/xgboost_hyperparameters.html). \n",
    "\n",
    "Please recognize that for our small dataset we also specify the use of a small CPU based instance type for our training, specifically `ml.m5.large`.\n",
    "\n",
    "Eventually we call `fit()` to start the training and to pass in references to where our training and validation data can be found. \n",
    "\n",
    "__Side note__: Strictly speaking it would not be necessary to call the `fit()` method here for an individual training run. We will let SageMaker Automatic Model Tuning (AMT) instantiate and control the individual training runs later. We just need to pass in the Estimator we defined here as a template. We could comment out the call to `fit()`.\n",
    "\n",
    "However, calling `fit()` shows us how one training run works and helps us to get acquainted with the algorithm and the log outputs, which are also available in Amazon CloudWatch. This works even though the actual execution is happening on a different EC2 machine. SageMaker makes the log outputs directly available in this notebook here. Neat, right?"
   ]
  },
  {
   "cell_type": "code",
   "execution_count": 13,
   "id": "f2db8939",
   "metadata": {},
   "outputs": [
    {
     "name": "stdout",
     "output_type": "stream",
     "text": [
      "Algorithm container image: 141502667606.dkr.ecr.eu-west-1.amazonaws.com/sagemaker-xgboost:1.5-1\n",
      "2022-12-08 10:46:04 Starting - Starting the training job...\n",
      "2022-12-08 10:46:29 Starting - Preparing the instances for trainingProfilerReport-1670496364: InProgress\n",
      "......\n",
      "2022-12-08 10:47:29 Downloading - Downloading input data......\n",
      "2022-12-08 10:48:29 Training - Downloading the training image...\n",
      "2022-12-08 10:49:09 Uploading - Uploading generated training model\u001b[34m[2022-12-08 10:48:54.230 ip-10-0-161-24.eu-west-1.compute.internal:9 INFO utils.py:27] RULE_JOB_STOP_SIGNAL_FILENAME: None\u001b[0m\n",
      "\u001b[34m[2022-12-08:10:48:54:INFO] Imported framework sagemaker_xgboost_container.training\u001b[0m\n",
      "\u001b[34m[2022-12-08:10:48:54:INFO] Failed to parse hyperparameter eval_metric value accuracy to Json.\u001b[0m\n",
      "\u001b[34mReturning the value itself\u001b[0m\n",
      "\u001b[34m[2022-12-08:10:48:54:INFO] Failed to parse hyperparameter objective value multi:softmax to Json.\u001b[0m\n",
      "\u001b[34mReturning the value itself\u001b[0m\n",
      "\u001b[34m[2022-12-08:10:48:54:INFO] No GPUs detected (normal if no gpus installed)\u001b[0m\n",
      "\u001b[34m[2022-12-08:10:48:54:INFO] Running XGBoost Sagemaker in algorithm mode\u001b[0m\n",
      "\u001b[34m[2022-12-08:10:48:54:INFO] Determined delimiter of CSV input is ','\u001b[0m\n",
      "\u001b[34m[2022-12-08:10:48:54:INFO] Determined delimiter of CSV input is ','\u001b[0m\n",
      "\u001b[34m[2022-12-08:10:48:54:INFO] files path: /opt/ml/input/data/train\u001b[0m\n",
      "\u001b[34m[2022-12-08:10:48:54:INFO] Determined delimiter of CSV input is ','\u001b[0m\n",
      "\u001b[34m[2022-12-08:10:48:54:INFO] files path: /opt/ml/input/data/validation\u001b[0m\n",
      "\u001b[34m[2022-12-08:10:48:54:INFO] Determined delimiter of CSV input is ','\u001b[0m\n",
      "\u001b[34m[2022-12-08:10:48:54:INFO] Single node training.\u001b[0m\n",
      "\u001b[34m[2022-12-08:10:48:54:INFO] Train matrix has 1257 rows and 64 columns\u001b[0m\n",
      "\u001b[34m[2022-12-08:10:48:54:INFO] Validation matrix has 540 rows\u001b[0m\n",
      "\u001b[34m[2022-12-08 10:48:54.374 ip-10-0-161-24.eu-west-1.compute.internal:9 INFO json_config.py:91] Creating hook from json_config at /opt/ml/input/config/debughookconfig.json.\u001b[0m\n",
      "\u001b[34m[10:48:54] WARNING: ../src/learner.cc:1115: Starting in XGBoost 1.3.0, the default evaluation metric used with the objective 'multi:softmax' was changed from 'merror' to 'mlogloss'. Explicitly set eval_metric if you'd like to restore the old behavior.\u001b[0m\n",
      "\u001b[34m[0]#011train-mlogloss:1.55795#011train-accuracy:0.95943#011validation-mlogloss:1.70729#011validation-accuracy:0.78889\u001b[0m\n",
      "\u001b[34m[1]#011train-mlogloss:1.20572#011train-accuracy:0.97295#011validation-mlogloss:1.42358#011validation-accuracy:0.81111\u001b[0m\n",
      "\u001b[34m[2]#011train-mlogloss:0.97027#011train-accuracy:0.97932#011validation-mlogloss:1.23074#011validation-accuracy:0.81111\u001b[0m\n",
      "\u001b[34m[3]#011train-mlogloss:0.79341#011train-accuracy:0.98568#011validation-mlogloss:1.09127#011validation-accuracy:0.82222\u001b[0m\n",
      "\u001b[34m[4]#011train-mlogloss:0.65584#011train-accuracy:0.99045#011validation-mlogloss:0.97840#011validation-accuracy:0.82963\u001b[0m\n",
      "\u001b[34m[5]#011train-mlogloss:0.54703#011train-accuracy:0.99364#011validation-mlogloss:0.89070#011validation-accuracy:0.83704\u001b[0m\n",
      "\u001b[34m[6]#011train-mlogloss:0.45843#011train-accuracy:0.99602#011validation-mlogloss:0.81601#011validation-accuracy:0.84074\u001b[0m\n",
      "\u001b[34m[7]#011train-mlogloss:0.38576#011train-accuracy:0.99602#011validation-mlogloss:0.75819#011validation-accuracy:0.84444\u001b[0m\n",
      "\u001b[34m[8]#011train-mlogloss:0.32707#011train-accuracy:0.99761#011validation-mlogloss:0.70924#011validation-accuracy:0.84815\u001b[0m\n",
      "\u001b[34m[9]#011train-mlogloss:0.27772#011train-accuracy:0.99841#011validation-mlogloss:0.66924#011validation-accuracy:0.84630\u001b[0m\n",
      "\u001b[34m[10]#011train-mlogloss:0.23722#011train-accuracy:0.99920#011validation-mlogloss:0.63535#011validation-accuracy:0.85370\u001b[0m\n",
      "\u001b[34m[11]#011train-mlogloss:0.20342#011train-accuracy:0.99920#011validation-mlogloss:0.61011#011validation-accuracy:0.85185\u001b[0m\n",
      "\u001b[34m[12]#011train-mlogloss:0.17500#011train-accuracy:0.99920#011validation-mlogloss:0.58224#011validation-accuracy:0.85000\u001b[0m\n",
      "\u001b[34m[13]#011train-mlogloss:0.15114#011train-accuracy:1.00000#011validation-mlogloss:0.56029#011validation-accuracy:0.85000\u001b[0m\n",
      "\u001b[34m[14]#011train-mlogloss:0.13116#011train-accuracy:1.00000#011validation-mlogloss:0.54051#011validation-accuracy:0.85000\u001b[0m\n",
      "\u001b[34m[15]#011train-mlogloss:0.11457#011train-accuracy:1.00000#011validation-mlogloss:0.52594#011validation-accuracy:0.84815\u001b[0m\n",
      "\n",
      "2022-12-08 10:49:29 Completed - Training job completed\n",
      "Training seconds: 113\n",
      "Billable seconds: 113\n",
      "CPU times: user 641 ms, sys: 139 ms, total: 780 ms\n",
      "Wall time: 3min 48s\n"
     ]
    }
   ],
   "source": [
    "%%time\n",
    "from sagemaker import image_uris\n",
    "from sagemaker.session import Session\n",
    "from sagemaker.inputs import TrainingInput\n",
    "\n",
    "\n",
    "# lookup the XGBoost image URI and build an XGBoost container\n",
    "xgboost_container = sagemaker.image_uris.retrieve('xgboost', region, '1.5-1')\n",
    "print('Algorithm container image:', xgboost_container)\n",
    "\n",
    "hyperparameters = {\n",
    "        'num_class': 10,\n",
    "        'max_depth': 5,\n",
    "        'eta':0.2,\n",
    "        'alpha': 0.2, \n",
    "        'objective':'multi:softmax',\n",
    "        'eval_metric':'accuracy',\n",
    "        'num_round':200,\n",
    "        'early_stopping_rounds': 5}\n",
    "\n",
    "# construct a SageMaker estimator that calls the XGBoost container\n",
    "estimator = sagemaker.estimator.Estimator(\n",
    "    image_uri=xgboost_container, \n",
    "    hyperparameters=hyperparameters,\n",
    "    role=role,\n",
    "    instance_count=1, \n",
    "    instance_type='ml.m5.large', \n",
    "    volume_size=5, # 5 GB \n",
    "    output_path=output_path\n",
    ")\n",
    "\n",
    "# define the data type and paths to the training and validation datasets\n",
    "s3_input_train = TrainingInput(s3_data=f's3://{BUCKET}/{PREFIX}/data/train', content_type='csv')\n",
    "s3_input_valid = TrainingInput(s3_data=f's3://{BUCKET}/{PREFIX}/data/valid', content_type='csv')\n",
    "\n",
    "# execute the XGBoost training job\n",
    "estimator.fit({'train': s3_input_train, 'validation': s3_input_valid}) # Optional. See comment above this cell."
   ]
  },
  {
   "cell_type": "markdown",
   "id": "9fa0a091",
   "metadata": {},
   "source": [
    "## Train and Tune an Amazon SageMaker Built-In XGBoost Algorithm\n",
    "\n",
    "Analogous to the Estimator above we now setup the HyperparameterTuner. We pass in the estimator object as a template for the trials to be run and a range of hyperparameters to define what search space to explore. Our documentation on [tuning XGBoost](https://docs.aws.amazon.com/sagemaker/latest/dg/xgboost-tuning.html) gives you some tips on choosing parameter ranges and which objective to use.\n",
    "\n",
    "You also see that we specify the number of training jobs to be run in total, as well as how many should run in parallel. Further you can select among many [strategies](https://docs.aws.amazon.com/sagemaker/latest/APIReference/API_HyperParameterTuningJobConfig.html#sagemaker-Type-HyperParameterTuningJobConfig-Strategy). In this notebook we use `Bayesian` as strategy. It uses a systematic approach to evaluate the search space. And it incorporates knowledge gained from earlier training runs (trials) when picking better hyperparameters to evaluate in the later trials, during the same __tuning__ job run. \n",
    "\n",
    "*Bayesian Search as a strategy is an excellent default. In an upcoming notebook and article we will additionally contrast and compare different strategies.*"
   ]
  },
  {
   "cell_type": "code",
   "execution_count": 14,
   "id": "884541f3",
   "metadata": {},
   "outputs": [],
   "source": [
    "from sagemaker.tuner import IntegerParameter, ContinuousParameter, HyperparameterTuner\n",
    "\n",
    "n_jobs = 50\n",
    "n_parallel_jobs = 3\n",
    "\n",
    "hpt_ranges = {\n",
    "    'alpha': ContinuousParameter(0.01, .5),\n",
    "    'eta': ContinuousParameter(0.1, .5),\n",
    "    'min_child_weight': ContinuousParameter(0., 2.),\n",
    "    'max_depth': IntegerParameter(1, 10)\n",
    "}\n",
    "\n",
    "tuner_parameters = {\n",
    "    'estimator': estimator,\n",
    "    'base_tuning_job_name': 'bayesian',                   \n",
    "    'objective_metric_name': 'validation:accuracy',\n",
    "    'objective_type': 'Maximize',\n",
    "    'hyperparameter_ranges': hpt_ranges,\n",
    "    'strategy': 'Bayesian',\n",
    "    'max_jobs': n_jobs,\n",
    "    'max_parallel_jobs': n_parallel_jobs\n",
    "}"
   ]
  },
  {
   "cell_type": "markdown",
   "id": "054c5c0f",
   "metadata": {},
   "source": [
    "Analogous to the actual training with the estimator above, we also kick things off by calling `fit()`. This time on the HyperparameterTuner."
   ]
  },
  {
   "cell_type": "code",
   "execution_count": 16,
   "id": "b4d8fd71",
   "metadata": {},
   "outputs": [
    {
     "name": "stdout",
     "output_type": "stream",
     "text": [
      "tuning job submitted: bayesian-221208-1449.\n"
     ]
    }
   ],
   "source": [
    "tuner = HyperparameterTuner(**tuner_parameters)\n",
    "tuner.fit({'train': s3_input_train, 'validation': s3_input_valid}, wait=False)\n",
    "tuner_name = tuner.describe()['HyperParameterTuningJobName']\n",
    "print(f'tuning job submitted: {tuner_name}.')"
   ]
  },
  {
   "cell_type": "markdown",
   "id": "45cad4b4",
   "metadata": {},
   "source": [
    "Amazon SageMaker AMT, here the HyperparameterTuner, now orchestrates different training jobs (trials) over a period of time. \n",
    "\n",
    "We use `tuner.wait()` to pause this notebook's execution until the AMT job is completed and we can work with the results. Depending on the number of jobs and the level of parallelization this may take some time. For the example below it may take up to 30 minutes for 50 jobs. During this time you can view the status of your jobs in the console by navigating to Amazon SageMaker > Training > Hyperparameter tuning jobs.\n",
    "\n",
    "For more information on AMT job monitoring, see: https://docs.aws.amazon.com/sagemaker/latest/dg/automatic-model-tuning-monitor.html"
   ]
  },
  {
   "cell_type": "code",
   "execution_count": 17,
   "id": "030f8569",
   "metadata": {},
   "outputs": [
    {
     "name": "stdout",
     "output_type": "stream",
     "text": [
      "............................................................................................................................................................................................................................................................!\n"
     ]
    }
   ],
   "source": [
    "tuner.wait()"
   ]
  },
  {
   "cell_type": "markdown",
   "id": "dad8e635",
   "metadata": {},
   "source": [
    "## View the AMT job statistics and results \n",
    "\n",
    "Your tuning jobs can be accessed from the Amazon SageMaker console at https://console.aws.amazon.com/sagemaker/. Select Hyperparameter tuning jobs from the Training menu to see the list. More information here: https://docs.aws.amazon.com/sagemaker/latest/dg/automatic-model-tuning-monitor.html\n",
    "\n",
    "You can also check the results of the jobs programmatically and investigate the hyperparameters used, the final value achieved in the objective function and the total training time per job.\n",
    "\n",
    "Furthermore you can evaluate the results programmatically, which we will look into now."
   ]
  },
  {
   "cell_type": "markdown",
   "id": "1e88bbfe",
   "metadata": {},
   "source": [
    "#### 1. Via the Amazon SageMaker Python SDK"
   ]
  },
  {
   "cell_type": "markdown",
   "id": "344a09f4",
   "metadata": {},
   "source": [
    "The SDK conveniently provides access to the tuning results as a Pandas dataframe. "
   ]
  },
  {
   "cell_type": "code",
   "execution_count": 18,
   "id": "04b2c585",
   "metadata": {},
   "outputs": [
    {
     "data": {
      "text/html": [
       "<div>\n",
       "<style scoped>\n",
       "    .dataframe tbody tr th:only-of-type {\n",
       "        vertical-align: middle;\n",
       "    }\n",
       "\n",
       "    .dataframe tbody tr th {\n",
       "        vertical-align: top;\n",
       "    }\n",
       "\n",
       "    .dataframe thead th {\n",
       "        text-align: right;\n",
       "    }\n",
       "</style>\n",
       "<table border=\"1\" class=\"dataframe\">\n",
       "  <thead>\n",
       "    <tr style=\"text-align: right;\">\n",
       "      <th></th>\n",
       "      <th>alpha</th>\n",
       "      <th>eta</th>\n",
       "      <th>max_depth</th>\n",
       "      <th>min_child_weight</th>\n",
       "      <th>TrainingJobName</th>\n",
       "      <th>TrainingJobStatus</th>\n",
       "      <th>FinalObjectiveValue</th>\n",
       "      <th>TrainingStartTime</th>\n",
       "      <th>TrainingEndTime</th>\n",
       "      <th>TrainingElapsedTimeSeconds</th>\n",
       "    </tr>\n",
       "  </thead>\n",
       "  <tbody>\n",
       "    <tr>\n",
       "      <th>0</th>\n",
       "      <td>0.207387</td>\n",
       "      <td>0.462490</td>\n",
       "      <td>2.0</td>\n",
       "      <td>0.766854</td>\n",
       "      <td>bayesian-221208-1449-050-36cfbd1a</td>\n",
       "      <td>Completed</td>\n",
       "      <td>0.87963</td>\n",
       "      <td>2022-12-08 15:09:43+01:00</td>\n",
       "      <td>2022-12-08 15:10:25+01:00</td>\n",
       "      <td>42.0</td>\n",
       "    </tr>\n",
       "    <tr>\n",
       "      <th>1</th>\n",
       "      <td>0.098840</td>\n",
       "      <td>0.435733</td>\n",
       "      <td>2.0</td>\n",
       "      <td>0.210975</td>\n",
       "      <td>bayesian-221208-1449-049-2c4d57d7</td>\n",
       "      <td>Completed</td>\n",
       "      <td>0.88333</td>\n",
       "      <td>2022-12-08 15:09:22+01:00</td>\n",
       "      <td>2022-12-08 15:10:04+01:00</td>\n",
       "      <td>42.0</td>\n",
       "    </tr>\n",
       "    <tr>\n",
       "      <th>2</th>\n",
       "      <td>0.187314</td>\n",
       "      <td>0.468057</td>\n",
       "      <td>2.0</td>\n",
       "      <td>1.968361</td>\n",
       "      <td>bayesian-221208-1449-048-762e1a26</td>\n",
       "      <td>Completed</td>\n",
       "      <td>0.88518</td>\n",
       "      <td>2022-12-08 15:09:21+01:00</td>\n",
       "      <td>2022-12-08 15:10:03+01:00</td>\n",
       "      <td>42.0</td>\n",
       "    </tr>\n",
       "    <tr>\n",
       "      <th>3</th>\n",
       "      <td>0.268333</td>\n",
       "      <td>0.350727</td>\n",
       "      <td>2.0</td>\n",
       "      <td>1.970817</td>\n",
       "      <td>bayesian-221208-1449-047-9f48fa8a</td>\n",
       "      <td>Completed</td>\n",
       "      <td>0.87593</td>\n",
       "      <td>2022-12-08 15:08:18+01:00</td>\n",
       "      <td>2022-12-08 15:09:00+01:00</td>\n",
       "      <td>42.0</td>\n",
       "    </tr>\n",
       "    <tr>\n",
       "      <th>4</th>\n",
       "      <td>0.024569</td>\n",
       "      <td>0.474872</td>\n",
       "      <td>2.0</td>\n",
       "      <td>1.454528</td>\n",
       "      <td>bayesian-221208-1449-046-71e5ecfd</td>\n",
       "      <td>Completed</td>\n",
       "      <td>0.88148</td>\n",
       "      <td>2022-12-08 15:08:10+01:00</td>\n",
       "      <td>2022-12-08 15:09:25+01:00</td>\n",
       "      <td>75.0</td>\n",
       "    </tr>\n",
       "    <tr>\n",
       "      <th>5</th>\n",
       "      <td>0.090272</td>\n",
       "      <td>0.477537</td>\n",
       "      <td>2.0</td>\n",
       "      <td>0.919237</td>\n",
       "      <td>bayesian-221208-1449-045-efb7858c</td>\n",
       "      <td>Completed</td>\n",
       "      <td>0.87593</td>\n",
       "      <td>2022-12-08 15:07:43+01:00</td>\n",
       "      <td>2022-12-08 15:08:58+01:00</td>\n",
       "      <td>75.0</td>\n",
       "    </tr>\n",
       "    <tr>\n",
       "      <th>6</th>\n",
       "      <td>0.192121</td>\n",
       "      <td>0.469249</td>\n",
       "      <td>2.0</td>\n",
       "      <td>1.568297</td>\n",
       "      <td>bayesian-221208-1449-044-c6456208</td>\n",
       "      <td>Completed</td>\n",
       "      <td>0.87037</td>\n",
       "      <td>2022-12-08 15:07:11+01:00</td>\n",
       "      <td>2022-12-08 15:07:54+01:00</td>\n",
       "      <td>43.0</td>\n",
       "    </tr>\n",
       "    <tr>\n",
       "      <th>7</th>\n",
       "      <td>0.253479</td>\n",
       "      <td>0.459648</td>\n",
       "      <td>2.0</td>\n",
       "      <td>0.698256</td>\n",
       "      <td>bayesian-221208-1449-043-7f73b703</td>\n",
       "      <td>Completed</td>\n",
       "      <td>0.87778</td>\n",
       "      <td>2022-12-08 15:06:49+01:00</td>\n",
       "      <td>2022-12-08 15:08:03+01:00</td>\n",
       "      <td>74.0</td>\n",
       "    </tr>\n",
       "    <tr>\n",
       "      <th>8</th>\n",
       "      <td>0.063414</td>\n",
       "      <td>0.471225</td>\n",
       "      <td>2.0</td>\n",
       "      <td>0.755726</td>\n",
       "      <td>bayesian-221208-1449-042-c7ae478a</td>\n",
       "      <td>Completed</td>\n",
       "      <td>0.87407</td>\n",
       "      <td>2022-12-08 15:06:23+01:00</td>\n",
       "      <td>2022-12-08 15:07:28+01:00</td>\n",
       "      <td>65.0</td>\n",
       "    </tr>\n",
       "    <tr>\n",
       "      <th>9</th>\n",
       "      <td>0.213676</td>\n",
       "      <td>0.434866</td>\n",
       "      <td>2.0</td>\n",
       "      <td>2.000000</td>\n",
       "      <td>bayesian-221208-1449-041-0ea88d84</td>\n",
       "      <td>Completed</td>\n",
       "      <td>0.86667</td>\n",
       "      <td>2022-12-08 15:06:14+01:00</td>\n",
       "      <td>2022-12-08 15:06:56+01:00</td>\n",
       "      <td>42.0</td>\n",
       "    </tr>\n",
       "  </tbody>\n",
       "</table>\n",
       "</div>"
      ],
      "text/plain": [
       "      alpha       eta  max_depth  min_child_weight  \\\n",
       "0  0.207387  0.462490        2.0          0.766854   \n",
       "1  0.098840  0.435733        2.0          0.210975   \n",
       "2  0.187314  0.468057        2.0          1.968361   \n",
       "3  0.268333  0.350727        2.0          1.970817   \n",
       "4  0.024569  0.474872        2.0          1.454528   \n",
       "5  0.090272  0.477537        2.0          0.919237   \n",
       "6  0.192121  0.469249        2.0          1.568297   \n",
       "7  0.253479  0.459648        2.0          0.698256   \n",
       "8  0.063414  0.471225        2.0          0.755726   \n",
       "9  0.213676  0.434866        2.0          2.000000   \n",
       "\n",
       "                     TrainingJobName TrainingJobStatus  FinalObjectiveValue  \\\n",
       "0  bayesian-221208-1449-050-36cfbd1a         Completed              0.87963   \n",
       "1  bayesian-221208-1449-049-2c4d57d7         Completed              0.88333   \n",
       "2  bayesian-221208-1449-048-762e1a26         Completed              0.88518   \n",
       "3  bayesian-221208-1449-047-9f48fa8a         Completed              0.87593   \n",
       "4  bayesian-221208-1449-046-71e5ecfd         Completed              0.88148   \n",
       "5  bayesian-221208-1449-045-efb7858c         Completed              0.87593   \n",
       "6  bayesian-221208-1449-044-c6456208         Completed              0.87037   \n",
       "7  bayesian-221208-1449-043-7f73b703         Completed              0.87778   \n",
       "8  bayesian-221208-1449-042-c7ae478a         Completed              0.87407   \n",
       "9  bayesian-221208-1449-041-0ea88d84         Completed              0.86667   \n",
       "\n",
       "          TrainingStartTime           TrainingEndTime  \\\n",
       "0 2022-12-08 15:09:43+01:00 2022-12-08 15:10:25+01:00   \n",
       "1 2022-12-08 15:09:22+01:00 2022-12-08 15:10:04+01:00   \n",
       "2 2022-12-08 15:09:21+01:00 2022-12-08 15:10:03+01:00   \n",
       "3 2022-12-08 15:08:18+01:00 2022-12-08 15:09:00+01:00   \n",
       "4 2022-12-08 15:08:10+01:00 2022-12-08 15:09:25+01:00   \n",
       "5 2022-12-08 15:07:43+01:00 2022-12-08 15:08:58+01:00   \n",
       "6 2022-12-08 15:07:11+01:00 2022-12-08 15:07:54+01:00   \n",
       "7 2022-12-08 15:06:49+01:00 2022-12-08 15:08:03+01:00   \n",
       "8 2022-12-08 15:06:23+01:00 2022-12-08 15:07:28+01:00   \n",
       "9 2022-12-08 15:06:14+01:00 2022-12-08 15:06:56+01:00   \n",
       "\n",
       "   TrainingElapsedTimeSeconds  \n",
       "0                        42.0  \n",
       "1                        42.0  \n",
       "2                        42.0  \n",
       "3                        42.0  \n",
       "4                        75.0  \n",
       "5                        75.0  \n",
       "6                        43.0  \n",
       "7                        74.0  \n",
       "8                        65.0  \n",
       "9                        42.0  "
      ]
     },
     "execution_count": 18,
     "metadata": {},
     "output_type": "execute_result"
    }
   ],
   "source": [
    "sagemaker.HyperparameterTuningJobAnalytics(tuner_name).dataframe()[:10]"
   ]
  },
  {
   "cell_type": "markdown",
   "id": "0f87a965",
   "metadata": {},
   "source": [
    "#### 2. Via the AWS SDK for Python (Boto3)"
   ]
  },
  {
   "cell_type": "markdown",
   "id": "8dfd2864",
   "metadata": {},
   "source": [
    "With the boto3 client we can review the results of a HPO job using [`describe_hyper_parameter_tuning_job()`](https://docs.aws.amazon.com/sagemaker/latest/APIReference/API_DescribeHyperParameterTuningJob.html) function.\n",
    "\n",
    "It returns a Python dictionary with comprehensive information. Below you see the output scoped to the `BestTrainingJob`."
   ]
  },
  {
   "cell_type": "code",
   "execution_count": 19,
   "id": "91af7fb2",
   "metadata": {},
   "outputs": [
    {
     "data": {
      "text/plain": [
       "{'TrainingJobName': 'bayesian-221208-1449-040-77730d69',\n",
       " 'TrainingJobArn': 'arn:aws:sagemaker:eu-west-1:811243659808:training-job/bayesian-221208-1449-040-77730d69',\n",
       " 'CreationTime': datetime.datetime(2022, 12, 8, 15, 5, 47, tzinfo=tzlocal()),\n",
       " 'TrainingStartTime': datetime.datetime(2022, 12, 8, 15, 5, 51, tzinfo=tzlocal()),\n",
       " 'TrainingEndTime': datetime.datetime(2022, 12, 8, 15, 6, 33, tzinfo=tzlocal()),\n",
       " 'TrainingJobStatus': 'Completed',\n",
       " 'TunedHyperParameters': {'alpha': '0.32263683434310203',\n",
       "  'eta': '0.4611684193861232',\n",
       "  'max_depth': '2',\n",
       "  'min_child_weight': '1.9851115339178544'},\n",
       " 'FinalHyperParameterTuningJobObjectiveMetric': {'MetricName': 'validation:accuracy',\n",
       "  'Value': 0.8888900279998779},\n",
       " 'ObjectiveStatus': 'Succeeded'}"
      ]
     },
     "execution_count": 19,
     "metadata": {},
     "output_type": "execute_result"
    }
   ],
   "source": [
    "#sm.describe_hyper_parameter_tuning_job(HyperParameterTuningJobName=tuner_name)   # to review all data\n",
    "sm.describe_hyper_parameter_tuning_job(HyperParameterTuningJobName=tuner_name)['BestTrainingJob']"
   ]
  },
  {
   "cell_type": "markdown",
   "id": "099881e5",
   "metadata": {},
   "source": [
    "We can also utilize Boto3's [`list_training_jobs_for_hyper_parameter_tuning_job()`](https://docs.aws.amazon.com/cli/latest/reference/sagemaker/list-training-jobs-for-hyper-parameter-tuning-job.html) function to review the results. This can be sorted by the value of the objective function or by the metric definitions. More functions available for Amazon SageMaker with Boto3 are described on this page: https://boto3.amazonaws.com/v1/documentation/api/latest/reference/services/sagemaker.html"
   ]
  },
  {
   "cell_type": "code",
   "execution_count": 20,
   "id": "0d1fac3e",
   "metadata": {},
   "outputs": [
    {
     "name": "stdout",
     "output_type": "stream",
     "text": [
      "bayesian-221208-1449-040-77730d69 Metrics: {'train:mlogloss': 0.01616000011563301, 'train:accuracy': 1.0, 'validation:accuracy': 0.8888900279998779, 'validation:mlogloss': 0.35291001200675964, 'ObjectiveMetric': 0.8888900279998779}\n",
      "bayesian-221208-1449-013-ffbded25 Metrics: {'train:mlogloss': 0.015809999778866768, 'train:accuracy': 1.0, 'validation:accuracy': 0.8870400190353394, 'validation:mlogloss': 0.3477500081062317, 'ObjectiveMetric': 0.8870400190353394}\n",
      "bayesian-221208-1449-027-49ec0986 Metrics: {'train:mlogloss': 0.01962999999523163, 'train:accuracy': 1.0, 'validation:accuracy': 0.8870400190353394, 'validation:mlogloss': 0.36111000180244446, 'ObjectiveMetric': 0.8870400190353394}\n",
      "bayesian-221208-1449-016-42f14198 Metrics: {'train:mlogloss': 0.01827000081539154, 'train:accuracy': 1.0, 'validation:accuracy': 0.8851799964904785, 'validation:mlogloss': 0.3476699888706207, 'ObjectiveMetric': 0.8851799964904785}\n",
      "bayesian-221208-1449-035-c7eef584 Metrics: {'train:mlogloss': 0.020810000598430634, 'train:accuracy': 1.0, 'validation:accuracy': 0.8851799964904785, 'validation:mlogloss': 0.3645699918270111, 'ObjectiveMetric': 0.8851799964904785}\n",
      "bayesian-221208-1449-048-762e1a26 Metrics: {'train:mlogloss': 0.01655000075697899, 'train:accuracy': 1.0, 'validation:accuracy': 0.8851799964904785, 'validation:mlogloss': 0.3445900082588196, 'ObjectiveMetric': 0.8851799964904785}\n",
      "bayesian-221208-1449-023-70cbb0b3 Metrics: {'train:mlogloss': 0.023959999904036522, 'train:accuracy': 1.0, 'validation:accuracy': 0.8833299875259399, 'validation:mlogloss': 0.3505699932575226, 'ObjectiveMetric': 0.8833299875259399}\n",
      "bayesian-221208-1449-038-2ca425d9 Metrics: {'train:mlogloss': 0.012160000391304493, 'train:accuracy': 1.0, 'validation:accuracy': 0.8833299875259399, 'validation:mlogloss': 0.3610999882221222, 'ObjectiveMetric': 0.8833299875259399}\n",
      "bayesian-221208-1449-026-0c3c5f72 Metrics: {'train:mlogloss': 0.016179999336600304, 'train:accuracy': 1.0, 'validation:accuracy': 0.8833299875259399, 'validation:mlogloss': 0.3527800142765045, 'ObjectiveMetric': 0.8833299875259399}\n",
      "bayesian-221208-1449-049-2c4d57d7 Metrics: {'train:mlogloss': 0.01298999972641468, 'train:accuracy': 1.0, 'validation:accuracy': 0.8833299875259399, 'validation:mlogloss': 0.34209999442100525, 'ObjectiveMetric': 0.8833299875259399}\n"
     ]
    }
   ],
   "source": [
    "hpo_jobs = sm.list_training_jobs_for_hyper_parameter_tuning_job(\n",
    "    HyperParameterTuningJobName=tuner_name,\n",
    "    MaxResults=100,\n",
    "    SortBy='FinalObjectiveMetricValue',\n",
    "    SortOrder='Descending')\n",
    "\n",
    "for job in hpo_jobs['TrainingJobSummaries'][:10]:\n",
    "    job_descr = sm.describe_training_job(TrainingJobName=job['TrainingJobName'])\n",
    "    metrics = {m['MetricName']:  m['Value'] for m in job_descr['FinalMetricDataList']}\n",
    "    print(f'{job[\"TrainingJobName\"]} Metrics: {metrics}')"
   ]
  },
  {
   "cell_type": "markdown",
   "id": "c3b96e50",
   "metadata": {
    "tags": []
   },
   "source": [
    "## Visualize AMT job results and tuned Hyperparameters\n",
    "\n",
    "Finally, we want to interactively visualize the impact of our hyperparameters and their values on the optimization objective.\n",
    "\n",
    "To do this, we utilize the Altair statistical visualization library for Python, and have written two custom analysis scripts `job_analytics.py` and `reporting_util.py` that we make available with this notebook.\n",
    "\n",
    "In an upcoming notebook and article we will dive deeper into the analysis of this data. "
   ]
  },
  {
   "cell_type": "code",
   "execution_count": 21,
   "id": "2cdb24e6",
   "metadata": {},
   "outputs": [],
   "source": [
    "!pip install -Uq pip altair"
   ]
  },
  {
   "cell_type": "markdown",
   "id": "df221864",
   "metadata": {},
   "source": [
    "Please ensure that the role used by SageMaker allows the `cloudwatch:ListMetrics` action on [IAM](https://console.aws.amazon.com/iam)."
   ]
  },
  {
   "cell_type": "code",
   "execution_count": 22,
   "id": "d4396d94",
   "metadata": {},
   "outputs": [
    {
     "name": "stdout",
     "output_type": "stream",
     "text": [
      "Setting altair renderer to mimetype.\n",
      "Tuning job bayesian-221208-1449      status: Completed\n",
      "\n",
      "Number of training jobs with valid objective: 50\n",
      "Lowest: 0.8296300172805786 Highest 0.8888900279998779\n"
     ]
    },
    {
     "data": {
      "text/html": [
       "<div>\n",
       "<style scoped>\n",
       "    .dataframe tbody tr th:only-of-type {\n",
       "        vertical-align: middle;\n",
       "    }\n",
       "\n",
       "    .dataframe tbody tr th {\n",
       "        vertical-align: top;\n",
       "    }\n",
       "\n",
       "    .dataframe thead th {\n",
       "        text-align: right;\n",
       "    }\n",
       "</style>\n",
       "<table border=\"1\" class=\"dataframe\">\n",
       "  <thead>\n",
       "    <tr style=\"text-align: right;\">\n",
       "      <th></th>\n",
       "      <th>alpha</th>\n",
       "      <th>eta</th>\n",
       "      <th>max_depth</th>\n",
       "      <th>min_child_weight</th>\n",
       "      <th>TrainingJobName</th>\n",
       "      <th>TrainingJobStatus</th>\n",
       "      <th>TrainingStartTime</th>\n",
       "      <th>TrainingEndTime</th>\n",
       "      <th>TrainingElapsedTimeSeconds</th>\n",
       "      <th>TuningJobName</th>\n",
       "      <th>validation:accuracy</th>\n",
       "    </tr>\n",
       "  </thead>\n",
       "  <tbody>\n",
       "    <tr>\n",
       "      <th>10</th>\n",
       "      <td>0.322637</td>\n",
       "      <td>0.461168</td>\n",
       "      <td>2.0</td>\n",
       "      <td>1.985112</td>\n",
       "      <td>bayesian-221208-1449-040-77730d69</td>\n",
       "      <td>Completed</td>\n",
       "      <td>2022-12-08 15:05:51+01:00</td>\n",
       "      <td>2022-12-08 15:06:33+01:00</td>\n",
       "      <td>42.0</td>\n",
       "      <td>bayesian-221208-1449</td>\n",
       "      <td>0.88889</td>\n",
       "    </tr>\n",
       "    <tr>\n",
       "      <th>23</th>\n",
       "      <td>0.480017</td>\n",
       "      <td>0.500000</td>\n",
       "      <td>2.0</td>\n",
       "      <td>1.657168</td>\n",
       "      <td>bayesian-221208-1449-027-49ec0986</td>\n",
       "      <td>Completed</td>\n",
       "      <td>2022-12-08 15:01:26+01:00</td>\n",
       "      <td>2022-12-08 15:02:08+01:00</td>\n",
       "      <td>42.0</td>\n",
       "      <td>bayesian-221208-1449</td>\n",
       "      <td>0.88704</td>\n",
       "    </tr>\n",
       "    <tr>\n",
       "      <th>37</th>\n",
       "      <td>0.346464</td>\n",
       "      <td>0.437831</td>\n",
       "      <td>2.0</td>\n",
       "      <td>1.971599</td>\n",
       "      <td>bayesian-221208-1449-013-ffbded25</td>\n",
       "      <td>Completed</td>\n",
       "      <td>2022-12-08 14:56:43+01:00</td>\n",
       "      <td>2022-12-08 14:57:25+01:00</td>\n",
       "      <td>42.0</td>\n",
       "      <td>bayesian-221208-1449</td>\n",
       "      <td>0.88704</td>\n",
       "    </tr>\n",
       "    <tr>\n",
       "      <th>2</th>\n",
       "      <td>0.187314</td>\n",
       "      <td>0.468057</td>\n",
       "      <td>2.0</td>\n",
       "      <td>1.968361</td>\n",
       "      <td>bayesian-221208-1449-048-762e1a26</td>\n",
       "      <td>Completed</td>\n",
       "      <td>2022-12-08 15:09:21+01:00</td>\n",
       "      <td>2022-12-08 15:10:03+01:00</td>\n",
       "      <td>42.0</td>\n",
       "      <td>bayesian-221208-1449</td>\n",
       "      <td>0.88518</td>\n",
       "    </tr>\n",
       "    <tr>\n",
       "      <th>15</th>\n",
       "      <td>0.249358</td>\n",
       "      <td>0.459181</td>\n",
       "      <td>2.0</td>\n",
       "      <td>0.217437</td>\n",
       "      <td>bayesian-221208-1449-035-c7eef584</td>\n",
       "      <td>Completed</td>\n",
       "      <td>2022-12-08 15:04:16+01:00</td>\n",
       "      <td>2022-12-08 15:04:58+01:00</td>\n",
       "      <td>42.0</td>\n",
       "      <td>bayesian-221208-1449</td>\n",
       "      <td>0.88518</td>\n",
       "    </tr>\n",
       "    <tr>\n",
       "      <th>34</th>\n",
       "      <td>0.328899</td>\n",
       "      <td>0.433472</td>\n",
       "      <td>2.0</td>\n",
       "      <td>1.988056</td>\n",
       "      <td>bayesian-221208-1449-016-42f14198</td>\n",
       "      <td>Completed</td>\n",
       "      <td>2022-12-08 14:57:40+01:00</td>\n",
       "      <td>2022-12-08 14:58:22+01:00</td>\n",
       "      <td>42.0</td>\n",
       "      <td>bayesian-221208-1449</td>\n",
       "      <td>0.88518</td>\n",
       "    </tr>\n",
       "    <tr>\n",
       "      <th>12</th>\n",
       "      <td>0.031706</td>\n",
       "      <td>0.453442</td>\n",
       "      <td>2.0</td>\n",
       "      <td>1.653737</td>\n",
       "      <td>bayesian-221208-1449-038-2ca425d9</td>\n",
       "      <td>Completed</td>\n",
       "      <td>2022-12-08 15:05:18+01:00</td>\n",
       "      <td>2022-12-08 15:06:00+01:00</td>\n",
       "      <td>42.0</td>\n",
       "      <td>bayesian-221208-1449</td>\n",
       "      <td>0.88333</td>\n",
       "    </tr>\n",
       "    <tr>\n",
       "      <th>24</th>\n",
       "      <td>0.178058</td>\n",
       "      <td>0.444705</td>\n",
       "      <td>2.0</td>\n",
       "      <td>1.981796</td>\n",
       "      <td>bayesian-221208-1449-026-0c3c5f72</td>\n",
       "      <td>Completed</td>\n",
       "      <td>2022-12-08 15:01:17+01:00</td>\n",
       "      <td>2022-12-08 15:01:59+01:00</td>\n",
       "      <td>42.0</td>\n",
       "      <td>bayesian-221208-1449</td>\n",
       "      <td>0.88333</td>\n",
       "    </tr>\n",
       "    <tr>\n",
       "      <th>1</th>\n",
       "      <td>0.098840</td>\n",
       "      <td>0.435733</td>\n",
       "      <td>2.0</td>\n",
       "      <td>0.210975</td>\n",
       "      <td>bayesian-221208-1449-049-2c4d57d7</td>\n",
       "      <td>Completed</td>\n",
       "      <td>2022-12-08 15:09:22+01:00</td>\n",
       "      <td>2022-12-08 15:10:04+01:00</td>\n",
       "      <td>42.0</td>\n",
       "      <td>bayesian-221208-1449</td>\n",
       "      <td>0.88333</td>\n",
       "    </tr>\n",
       "    <tr>\n",
       "      <th>27</th>\n",
       "      <td>0.341311</td>\n",
       "      <td>0.401922</td>\n",
       "      <td>2.0</td>\n",
       "      <td>1.670178</td>\n",
       "      <td>bayesian-221208-1449-023-70cbb0b3</td>\n",
       "      <td>Completed</td>\n",
       "      <td>2022-12-08 15:00:14+01:00</td>\n",
       "      <td>2022-12-08 15:00:57+01:00</td>\n",
       "      <td>43.0</td>\n",
       "      <td>bayesian-221208-1449</td>\n",
       "      <td>0.88333</td>\n",
       "    </tr>\n",
       "  </tbody>\n",
       "</table>\n",
       "</div>"
      ],
      "text/plain": [
       "       alpha       eta  max_depth  min_child_weight                    TrainingJobName TrainingJobStatus         TrainingStartTime           TrainingEndTime  TrainingElapsedTimeSeconds         TuningJobName  validation:accuracy\n",
       "10  0.322637  0.461168        2.0          1.985112  bayesian-221208-1449-040-77730d69         Completed 2022-12-08 15:05:51+01:00 2022-12-08 15:06:33+01:00                        42.0  bayesian-221208-1449              0.88889\n",
       "23  0.480017  0.500000        2.0          1.657168  bayesian-221208-1449-027-49ec0986         Completed 2022-12-08 15:01:26+01:00 2022-12-08 15:02:08+01:00                        42.0  bayesian-221208-1449              0.88704\n",
       "37  0.346464  0.437831        2.0          1.971599  bayesian-221208-1449-013-ffbded25         Completed 2022-12-08 14:56:43+01:00 2022-12-08 14:57:25+01:00                        42.0  bayesian-221208-1449              0.88704\n",
       "2   0.187314  0.468057        2.0          1.968361  bayesian-221208-1449-048-762e1a26         Completed 2022-12-08 15:09:21+01:00 2022-12-08 15:10:03+01:00                        42.0  bayesian-221208-1449              0.88518\n",
       "15  0.249358  0.459181        2.0          0.217437  bayesian-221208-1449-035-c7eef584         Completed 2022-12-08 15:04:16+01:00 2022-12-08 15:04:58+01:00                        42.0  bayesian-221208-1449              0.88518\n",
       "34  0.328899  0.433472        2.0          1.988056  bayesian-221208-1449-016-42f14198         Completed 2022-12-08 14:57:40+01:00 2022-12-08 14:58:22+01:00                        42.0  bayesian-221208-1449              0.88518\n",
       "12  0.031706  0.453442        2.0          1.653737  bayesian-221208-1449-038-2ca425d9         Completed 2022-12-08 15:05:18+01:00 2022-12-08 15:06:00+01:00                        42.0  bayesian-221208-1449              0.88333\n",
       "24  0.178058  0.444705        2.0          1.981796  bayesian-221208-1449-026-0c3c5f72         Completed 2022-12-08 15:01:17+01:00 2022-12-08 15:01:59+01:00                        42.0  bayesian-221208-1449              0.88333\n",
       "1   0.098840  0.435733        2.0          0.210975  bayesian-221208-1449-049-2c4d57d7         Completed 2022-12-08 15:09:22+01:00 2022-12-08 15:10:04+01:00                        42.0  bayesian-221208-1449              0.88333\n",
       "27  0.341311  0.401922        2.0          1.670178  bayesian-221208-1449-023-70cbb0b3         Completed 2022-12-08 15:00:14+01:00 2022-12-08 15:00:57+01:00                        43.0  bayesian-221208-1449              0.88333"
      ]
     },
     "metadata": {},
     "output_type": "display_data"
    },
    {
     "data": {
      "application/vnd.vegalite.v4+json": {
       "$schema": "https://vega.github.io/schema/vega-lite/v4.17.0.json",
       "config": {
        "view": {
         "continuousHeight": 300,
         "continuousWidth": 400
        }
       },
       "datasets": {
        "data-095c0a31a1f7b2a633c83ac6ebaa1134": [
         {
          "TrainingElapsedTimeSeconds": 42,
          "TrainingEndTime": "2022-12-08T15:06:33+01:00",
          "TrainingJobName": "bayesian-221208-1449-040-77730d69",
          "TrainingJobStatus": "Completed",
          "TrainingStartTime": "2022-12-08T15:05:51+01:00",
          "TuningJobName": "bayesian-221208-1449",
          "alpha": 0.32263683434310203,
          "eta": 0.4611684193861232,
          "max_depth": 2,
          "min_child_weight": 1.9851115339178544,
          "validation:accuracy": 0.8888900279998779
         },
         {
          "TrainingElapsedTimeSeconds": 42,
          "TrainingEndTime": "2022-12-08T15:02:08+01:00",
          "TrainingJobName": "bayesian-221208-1449-027-49ec0986",
          "TrainingJobStatus": "Completed",
          "TrainingStartTime": "2022-12-08T15:01:26+01:00",
          "TuningJobName": "bayesian-221208-1449",
          "alpha": 0.48001665049752756,
          "eta": 0.5,
          "max_depth": 2,
          "min_child_weight": 1.657168193099596,
          "validation:accuracy": 0.8870400190353394
         },
         {
          "TrainingElapsedTimeSeconds": 42,
          "TrainingEndTime": "2022-12-08T14:57:25+01:00",
          "TrainingJobName": "bayesian-221208-1449-013-ffbded25",
          "TrainingJobStatus": "Completed",
          "TrainingStartTime": "2022-12-08T14:56:43+01:00",
          "TuningJobName": "bayesian-221208-1449",
          "alpha": 0.34646423804367277,
          "eta": 0.4378313572646234,
          "max_depth": 2,
          "min_child_weight": 1.971598795578219,
          "validation:accuracy": 0.8870400190353394
         },
         {
          "TrainingElapsedTimeSeconds": 42,
          "TrainingEndTime": "2022-12-08T15:10:03+01:00",
          "TrainingJobName": "bayesian-221208-1449-048-762e1a26",
          "TrainingJobStatus": "Completed",
          "TrainingStartTime": "2022-12-08T15:09:21+01:00",
          "TuningJobName": "bayesian-221208-1449",
          "alpha": 0.18731365377721929,
          "eta": 0.4680566499290433,
          "max_depth": 2,
          "min_child_weight": 1.968360939941302,
          "validation:accuracy": 0.8851799964904785
         },
         {
          "TrainingElapsedTimeSeconds": 42,
          "TrainingEndTime": "2022-12-08T15:04:58+01:00",
          "TrainingJobName": "bayesian-221208-1449-035-c7eef584",
          "TrainingJobStatus": "Completed",
          "TrainingStartTime": "2022-12-08T15:04:16+01:00",
          "TuningJobName": "bayesian-221208-1449",
          "alpha": 0.24935843832454033,
          "eta": 0.45918111243312143,
          "max_depth": 2,
          "min_child_weight": 0.217436944745397,
          "validation:accuracy": 0.8851799964904785
         },
         {
          "TrainingElapsedTimeSeconds": 42,
          "TrainingEndTime": "2022-12-08T14:58:22+01:00",
          "TrainingJobName": "bayesian-221208-1449-016-42f14198",
          "TrainingJobStatus": "Completed",
          "TrainingStartTime": "2022-12-08T14:57:40+01:00",
          "TuningJobName": "bayesian-221208-1449",
          "alpha": 0.32889871044900254,
          "eta": 0.4334722686960957,
          "max_depth": 2,
          "min_child_weight": 1.9880563987730788,
          "validation:accuracy": 0.8851799964904785
         },
         {
          "TrainingElapsedTimeSeconds": 42,
          "TrainingEndTime": "2022-12-08T15:06:00+01:00",
          "TrainingJobName": "bayesian-221208-1449-038-2ca425d9",
          "TrainingJobStatus": "Completed",
          "TrainingStartTime": "2022-12-08T15:05:18+01:00",
          "TuningJobName": "bayesian-221208-1449",
          "alpha": 0.03170562513917427,
          "eta": 0.45344225032659724,
          "max_depth": 2,
          "min_child_weight": 1.6537368842389517,
          "validation:accuracy": 0.8833299875259399
         },
         {
          "TrainingElapsedTimeSeconds": 42,
          "TrainingEndTime": "2022-12-08T15:01:59+01:00",
          "TrainingJobName": "bayesian-221208-1449-026-0c3c5f72",
          "TrainingJobStatus": "Completed",
          "TrainingStartTime": "2022-12-08T15:01:17+01:00",
          "TuningJobName": "bayesian-221208-1449",
          "alpha": 0.17805831117382384,
          "eta": 0.44470478112822287,
          "max_depth": 2,
          "min_child_weight": 1.9817963443498563,
          "validation:accuracy": 0.8833299875259399
         },
         {
          "TrainingElapsedTimeSeconds": 42,
          "TrainingEndTime": "2022-12-08T15:10:04+01:00",
          "TrainingJobName": "bayesian-221208-1449-049-2c4d57d7",
          "TrainingJobStatus": "Completed",
          "TrainingStartTime": "2022-12-08T15:09:22+01:00",
          "TuningJobName": "bayesian-221208-1449",
          "alpha": 0.09883960090902681,
          "eta": 0.43573265780513226,
          "max_depth": 2,
          "min_child_weight": 0.21097473775977157,
          "validation:accuracy": 0.8833299875259399
         },
         {
          "TrainingElapsedTimeSeconds": 43,
          "TrainingEndTime": "2022-12-08T15:00:57+01:00",
          "TrainingJobName": "bayesian-221208-1449-023-70cbb0b3",
          "TrainingJobStatus": "Completed",
          "TrainingStartTime": "2022-12-08T15:00:14+01:00",
          "TuningJobName": "bayesian-221208-1449",
          "alpha": 0.3413113720374898,
          "eta": 0.40192153240540074,
          "max_depth": 2,
          "min_child_weight": 1.6701777547925143,
          "validation:accuracy": 0.8833299875259399
         },
         {
          "TrainingElapsedTimeSeconds": 42,
          "TrainingEndTime": "2022-12-08T15:04:07+01:00",
          "TrainingJobName": "bayesian-221208-1449-033-a23e87b9",
          "TrainingJobStatus": "Completed",
          "TrainingStartTime": "2022-12-08T15:03:25+01:00",
          "TuningJobName": "bayesian-221208-1449",
          "alpha": 0.4687109940435686,
          "eta": 0.4612363152117579,
          "max_depth": 2,
          "min_child_weight": 0.19598888082678467,
          "validation:accuracy": 0.8814799785614014
         },
         {
          "TrainingElapsedTimeSeconds": 42,
          "TrainingEndTime": "2022-12-08T14:59:16+01:00",
          "TrainingJobName": "bayesian-221208-1449-019-6e3b6f72",
          "TrainingJobStatus": "Completed",
          "TrainingStartTime": "2022-12-08T14:58:34+01:00",
          "TuningJobName": "bayesian-221208-1449",
          "alpha": 0.3588674688282602,
          "eta": 0.42826620961859774,
          "max_depth": 2,
          "min_child_weight": 1.623823420277621,
          "validation:accuracy": 0.8814799785614014
         },
         {
          "TrainingElapsedTimeSeconds": 43,
          "TrainingEndTime": "2022-12-08T15:06:09+01:00",
          "TrainingJobName": "bayesian-221208-1449-039-ee8ff796",
          "TrainingJobStatus": "Completed",
          "TrainingStartTime": "2022-12-08T15:05:26+01:00",
          "TuningJobName": "bayesian-221208-1449",
          "alpha": 0.3642998301827169,
          "eta": 0.4610346376615895,
          "max_depth": 2,
          "min_child_weight": 0.8030160069813304,
          "validation:accuracy": 0.8814799785614014
         },
         {
          "TrainingElapsedTimeSeconds": 42,
          "TrainingEndTime": "2022-12-08T15:02:14+01:00",
          "TrainingJobName": "bayesian-221208-1449-028-1a74097e",
          "TrainingJobStatus": "Completed",
          "TrainingStartTime": "2022-12-08T15:01:32+01:00",
          "TuningJobName": "bayesian-221208-1449",
          "alpha": 0.44392344222067975,
          "eta": 0.4552832426582205,
          "max_depth": 2,
          "min_child_weight": 1.9880922503037743,
          "validation:accuracy": 0.8814799785614014
         },
         {
          "TrainingElapsedTimeSeconds": 75,
          "TrainingEndTime": "2022-12-08T15:09:25+01:00",
          "TrainingJobName": "bayesian-221208-1449-046-71e5ecfd",
          "TrainingJobStatus": "Completed",
          "TrainingStartTime": "2022-12-08T15:08:10+01:00",
          "TuningJobName": "bayesian-221208-1449",
          "alpha": 0.024569431912810802,
          "eta": 0.4748724140760582,
          "max_depth": 2,
          "min_child_weight": 1.45452778520711,
          "validation:accuracy": 0.8814799785614014
         },
         {
          "TrainingElapsedTimeSeconds": 42,
          "TrainingEndTime": "2022-12-08T14:57:59+01:00",
          "TrainingJobName": "bayesian-221208-1449-014-af01dfe4",
          "TrainingJobStatus": "Completed",
          "TrainingStartTime": "2022-12-08T14:57:17+01:00",
          "TuningJobName": "bayesian-221208-1449",
          "alpha": 0.25314069723747457,
          "eta": 0.46663808770245707,
          "max_depth": 2,
          "min_child_weight": 1.4773953096422883,
          "validation:accuracy": 0.8796300292015076
         },
         {
          "TrainingElapsedTimeSeconds": 42,
          "TrainingEndTime": "2022-12-08T14:57:00+01:00",
          "TrainingJobName": "bayesian-221208-1449-012-ea8f98f5",
          "TrainingJobStatus": "Completed",
          "TrainingStartTime": "2022-12-08T14:56:18+01:00",
          "TuningJobName": "bayesian-221208-1449",
          "alpha": 0.3330376562067092,
          "eta": 0.4602400537640964,
          "max_depth": 2,
          "min_child_weight": 1.221130453976075,
          "validation:accuracy": 0.8796300292015076
         },
         {
          "TrainingElapsedTimeSeconds": 42,
          "TrainingEndTime": "2022-12-08T14:57:15+01:00",
          "TrainingJobName": "bayesian-221208-1449-011-8727aa41",
          "TrainingJobStatus": "Completed",
          "TrainingStartTime": "2022-12-08T14:56:33+01:00",
          "TuningJobName": "bayesian-221208-1449",
          "alpha": 0.36929219871607477,
          "eta": 0.3947972153151864,
          "max_depth": 2,
          "min_child_weight": 2,
          "validation:accuracy": 0.8796300292015076
         },
         {
          "TrainingElapsedTimeSeconds": 42,
          "TrainingEndTime": "2022-12-08T15:10:25+01:00",
          "TrainingJobName": "bayesian-221208-1449-050-36cfbd1a",
          "TrainingJobStatus": "Completed",
          "TrainingStartTime": "2022-12-08T15:09:43+01:00",
          "TuningJobName": "bayesian-221208-1449",
          "alpha": 0.20738722445804753,
          "eta": 0.462489869981183,
          "max_depth": 2,
          "min_child_weight": 0.7668543700376524,
          "validation:accuracy": 0.8796300292015076
         },
         {
          "TrainingElapsedTimeSeconds": 42,
          "TrainingEndTime": "2022-12-08T15:01:13+01:00",
          "TrainingJobName": "bayesian-221208-1449-025-f6499879",
          "TrainingJobStatus": "Completed",
          "TrainingStartTime": "2022-12-08T15:00:31+01:00",
          "TuningJobName": "bayesian-221208-1449",
          "alpha": 0.388052583920073,
          "eta": 0.4177428194799322,
          "max_depth": 2,
          "min_child_weight": 1.9763596438957713,
          "validation:accuracy": 0.8796300292015076
         },
         {
          "TrainingElapsedTimeSeconds": 42,
          "TrainingEndTime": "2022-12-08T14:58:11+01:00",
          "TrainingJobName": "bayesian-221208-1449-015-1b442629",
          "TrainingJobStatus": "Completed",
          "TrainingStartTime": "2022-12-08T14:57:29+01:00",
          "TuningJobName": "bayesian-221208-1449",
          "alpha": 0.2680324652826169,
          "eta": 0.4271119157040212,
          "max_depth": 2,
          "min_child_weight": 1.0583487981397972,
          "validation:accuracy": 0.877780020236969
         },
         {
          "TrainingElapsedTimeSeconds": 42,
          "TrainingEndTime": "2022-12-08T15:05:06+01:00",
          "TrainingJobName": "bayesian-221208-1449-036-977ad6fc",
          "TrainingJobStatus": "Completed",
          "TrainingStartTime": "2022-12-08T15:04:24+01:00",
          "TuningJobName": "bayesian-221208-1449",
          "alpha": 0.4599479572300997,
          "eta": 0.4682086973575804,
          "max_depth": 2,
          "min_child_weight": 1.1751197539716065,
          "validation:accuracy": 0.877780020236969
         },
         {
          "TrainingElapsedTimeSeconds": 74,
          "TrainingEndTime": "2022-12-08T15:08:03+01:00",
          "TrainingJobName": "bayesian-221208-1449-043-7f73b703",
          "TrainingJobStatus": "Completed",
          "TrainingStartTime": "2022-12-08T15:06:49+01:00",
          "TuningJobName": "bayesian-221208-1449",
          "alpha": 0.2534787615292288,
          "eta": 0.459648296773843,
          "max_depth": 2,
          "min_child_weight": 0.6982555793948164,
          "validation:accuracy": 0.877780020236969
         },
         {
          "TrainingElapsedTimeSeconds": 42,
          "TrainingEndTime": "2022-12-08T14:53:42+01:00",
          "TrainingJobName": "bayesian-221208-1449-006-fdb63ae1",
          "TrainingJobStatus": "Completed",
          "TrainingStartTime": "2022-12-08T14:53:00+01:00",
          "TuningJobName": "bayesian-221208-1449",
          "alpha": 0.3933966145763058,
          "eta": 0.4350080753381722,
          "max_depth": 2,
          "min_child_weight": 1.797258460863559,
          "validation:accuracy": 0.8759300112724304
         },
         {
          "TrainingElapsedTimeSeconds": 42,
          "TrainingEndTime": "2022-12-08T15:03:58+01:00",
          "TrainingJobName": "bayesian-221208-1449-032-fea98d9c",
          "TrainingJobStatus": "Completed",
          "TrainingStartTime": "2022-12-08T15:03:16+01:00",
          "TuningJobName": "bayesian-221208-1449",
          "alpha": 0.1856222184961569,
          "eta": 0.48262198622889096,
          "max_depth": 2,
          "min_child_weight": 0.09610250678636634,
          "validation:accuracy": 0.8759300112724304
         },
         {
          "TrainingElapsedTimeSeconds": 72,
          "TrainingEndTime": "2022-12-08T15:05:38+01:00",
          "TrainingJobName": "bayesian-221208-1449-037-92b0cf2a",
          "TrainingJobStatus": "Completed",
          "TrainingStartTime": "2022-12-08T15:04:26+01:00",
          "TuningJobName": "bayesian-221208-1449",
          "alpha": 0.48153311248441477,
          "eta": 0.46374221578659325,
          "max_depth": 2,
          "min_child_weight": 0.9059908358183495,
          "validation:accuracy": 0.8759300112724304
         },
         {
          "TrainingElapsedTimeSeconds": 42,
          "TrainingEndTime": "2022-12-08T15:09:00+01:00",
          "TrainingJobName": "bayesian-221208-1449-047-9f48fa8a",
          "TrainingJobStatus": "Completed",
          "TrainingStartTime": "2022-12-08T15:08:18+01:00",
          "TuningJobName": "bayesian-221208-1449",
          "alpha": 0.26833262749233155,
          "eta": 0.35072731078068664,
          "max_depth": 2,
          "min_child_weight": 1.97081744512914,
          "validation:accuracy": 0.8759300112724304
         },
         {
          "TrainingElapsedTimeSeconds": 75,
          "TrainingEndTime": "2022-12-08T15:08:58+01:00",
          "TrainingJobName": "bayesian-221208-1449-045-efb7858c",
          "TrainingJobStatus": "Completed",
          "TrainingStartTime": "2022-12-08T15:07:43+01:00",
          "TuningJobName": "bayesian-221208-1449",
          "alpha": 0.09027181059441824,
          "eta": 0.4775367126087552,
          "max_depth": 2,
          "min_child_weight": 0.9192368379793363,
          "validation:accuracy": 0.8759300112724304
         },
         {
          "TrainingElapsedTimeSeconds": 42,
          "TrainingEndTime": "2022-12-08T14:59:05+01:00",
          "TrainingJobName": "bayesian-221208-1449-018-b0d745b1",
          "TrainingJobStatus": "Completed",
          "TrainingStartTime": "2022-12-08T14:58:23+01:00",
          "TuningJobName": "bayesian-221208-1449",
          "alpha": 0.3152702950349143,
          "eta": 0.4455625639523969,
          "max_depth": 2,
          "min_child_weight": 1.8284416813157525,
          "validation:accuracy": 0.8759300112724304
         },
         {
          "TrainingElapsedTimeSeconds": 65,
          "TrainingEndTime": "2022-12-08T15:07:28+01:00",
          "TrainingJobName": "bayesian-221208-1449-042-c7ae478a",
          "TrainingJobStatus": "Completed",
          "TrainingStartTime": "2022-12-08T15:06:23+01:00",
          "TuningJobName": "bayesian-221208-1449",
          "alpha": 0.06341448184618877,
          "eta": 0.4712249330707893,
          "max_depth": 2,
          "min_child_weight": 0.7557255963739604,
          "validation:accuracy": 0.8740699887275696
         },
         {
          "TrainingElapsedTimeSeconds": 42,
          "TrainingEndTime": "2022-12-08T14:54:40+01:00",
          "TrainingJobName": "bayesian-221208-1449-008-0989104f",
          "TrainingJobStatus": "Completed",
          "TrainingStartTime": "2022-12-08T14:53:58+01:00",
          "TuningJobName": "bayesian-221208-1449",
          "alpha": 0.3414147829249798,
          "eta": 0.49957041581181705,
          "max_depth": 2,
          "min_child_weight": 1.7795698002199465,
          "validation:accuracy": 0.8740699887275696
         },
         {
          "TrainingElapsedTimeSeconds": 43,
          "TrainingEndTime": "2022-12-08T15:01:07+01:00",
          "TrainingJobName": "bayesian-221208-1449-024-a36145e6",
          "TrainingJobStatus": "Completed",
          "TrainingStartTime": "2022-12-08T15:00:24+01:00",
          "TuningJobName": "bayesian-221208-1449",
          "alpha": 0.4035527724645102,
          "eta": 0.430295452741534,
          "max_depth": 2,
          "min_child_weight": 0.5728261909413794,
          "validation:accuracy": 0.8740699887275696
         },
         {
          "TrainingElapsedTimeSeconds": 75,
          "TrainingEndTime": "2022-12-08T14:55:15+01:00",
          "TrainingJobName": "bayesian-221208-1449-009-43053cf5",
          "TrainingJobStatus": "Completed",
          "TrainingStartTime": "2022-12-08T14:54:00+01:00",
          "TuningJobName": "bayesian-221208-1449",
          "alpha": 0.4427666472959821,
          "eta": 0.3947582835269975,
          "max_depth": 2,
          "min_child_weight": 1.8141745955235298,
          "validation:accuracy": 0.8740699887275696
         },
         {
          "TrainingElapsedTimeSeconds": 42,
          "TrainingEndTime": "2022-12-08T14:58:58+01:00",
          "TrainingJobName": "bayesian-221208-1449-017-8ea389bd",
          "TrainingJobStatus": "Completed",
          "TrainingStartTime": "2022-12-08T14:58:16+01:00",
          "TuningJobName": "bayesian-221208-1449",
          "alpha": 0.3118660374270886,
          "eta": 0.4354483677138655,
          "max_depth": 2,
          "min_child_weight": 1.8832373774470792,
          "validation:accuracy": 0.8740699887275696
         },
         {
          "TrainingElapsedTimeSeconds": 42,
          "TrainingEndTime": "2022-12-08T15:03:07+01:00",
          "TrainingJobName": "bayesian-221208-1449-030-499d5c9d",
          "TrainingJobStatus": "Completed",
          "TrainingStartTime": "2022-12-08T15:02:25+01:00",
          "TuningJobName": "bayesian-221208-1449",
          "alpha": 0.39759588133665863,
          "eta": 0.5,
          "max_depth": 2,
          "min_child_weight": 1.9722508373888004,
          "validation:accuracy": 0.872219979763031
         },
         {
          "TrainingElapsedTimeSeconds": 42,
          "TrainingEndTime": "2022-12-08T15:00:00+01:00",
          "TrainingJobName": "bayesian-221208-1449-021-36a6d5bb",
          "TrainingJobStatus": "Completed",
          "TrainingStartTime": "2022-12-08T14:59:18+01:00",
          "TuningJobName": "bayesian-221208-1449",
          "alpha": 0.34320105891354463,
          "eta": 0.4338048073666426,
          "max_depth": 2,
          "min_child_weight": 1.9526133323941994,
          "validation:accuracy": 0.872219979763031
         },
         {
          "TrainingElapsedTimeSeconds": 43,
          "TrainingEndTime": "2022-12-08T15:07:54+01:00",
          "TrainingJobName": "bayesian-221208-1449-044-c6456208",
          "TrainingJobStatus": "Completed",
          "TrainingStartTime": "2022-12-08T15:07:11+01:00",
          "TuningJobName": "bayesian-221208-1449",
          "alpha": 0.19212054896222455,
          "eta": 0.46924938868878596,
          "max_depth": 2,
          "min_child_weight": 1.568296744225374,
          "validation:accuracy": 0.8703699707984924
         },
         {
          "TrainingElapsedTimeSeconds": 37,
          "TrainingEndTime": "2022-12-08T15:04:10+01:00",
          "TrainingJobName": "bayesian-221208-1449-034-1eea6744",
          "TrainingJobStatus": "Completed",
          "TrainingStartTime": "2022-12-08T15:03:33+01:00",
          "TuningJobName": "bayesian-221208-1449",
          "alpha": 0.34408227814126313,
          "eta": 0.28303182337810595,
          "max_depth": 2,
          "min_child_weight": 2,
          "validation:accuracy": 0.8703699707984924
         },
         {
          "TrainingElapsedTimeSeconds": 112,
          "TrainingEndTime": "2022-12-08T14:52:25+01:00",
          "TrainingJobName": "bayesian-221208-1449-002-9b8f00c6",
          "TrainingJobStatus": "Completed",
          "TrainingStartTime": "2022-12-08T14:50:33+01:00",
          "TuningJobName": "bayesian-221208-1449",
          "alpha": 0.22101166357373256,
          "eta": 0.28438765648939135,
          "max_depth": 4,
          "min_child_weight": 0.18459770736534353,
          "validation:accuracy": 0.8685200214385986
         },
         {
          "TrainingElapsedTimeSeconds": 42,
          "TrainingEndTime": "2022-12-08T15:06:56+01:00",
          "TrainingJobName": "bayesian-221208-1449-041-0ea88d84",
          "TrainingJobStatus": "Completed",
          "TrainingStartTime": "2022-12-08T15:06:14+01:00",
          "TuningJobName": "bayesian-221208-1449",
          "alpha": 0.21367611378554,
          "eta": 0.43486636401029033,
          "max_depth": 2,
          "min_child_weight": 2,
          "validation:accuracy": 0.8666700124740601
         },
         {
          "TrainingElapsedTimeSeconds": 47,
          "TrainingEndTime": "2022-12-08T14:59:58+01:00",
          "TrainingJobName": "bayesian-221208-1449-020-65819363",
          "TrainingJobStatus": "Completed",
          "TrainingStartTime": "2022-12-08T14:59:11+01:00",
          "TuningJobName": "bayesian-221208-1449",
          "alpha": 0.33990146936416116,
          "eta": 0.41657974634959505,
          "max_depth": 10,
          "min_child_weight": 1.7973135367780233,
          "validation:accuracy": 0.8611099720001221
         },
         {
          "TrainingElapsedTimeSeconds": 42,
          "TrainingEndTime": "2022-12-08T15:00:11+01:00",
          "TrainingJobName": "bayesian-221208-1449-022-9e212823",
          "TrainingJobStatus": "Completed",
          "TrainingStartTime": "2022-12-08T14:59:29+01:00",
          "TuningJobName": "bayesian-221208-1449",
          "alpha": 0.3352286567172479,
          "eta": 0.42217552811613235,
          "max_depth": 2,
          "min_child_weight": 1.9360220700578543,
          "validation:accuracy": 0.8611099720001221
         },
         {
          "TrainingElapsedTimeSeconds": 42,
          "TrainingEndTime": "2022-12-08T14:53:40+01:00",
          "TrainingJobName": "bayesian-221208-1449-005-62f5ea9e",
          "TrainingJobStatus": "Completed",
          "TrainingStartTime": "2022-12-08T14:52:58+01:00",
          "TuningJobName": "bayesian-221208-1449",
          "alpha": 0.3136472897939373,
          "eta": 0.49464316821753973,
          "max_depth": 8,
          "min_child_weight": 0.9877420834416308,
          "validation:accuracy": 0.8611099720001221
         },
         {
          "TrainingElapsedTimeSeconds": 42,
          "TrainingEndTime": "2022-12-08T14:53:38+01:00",
          "TrainingJobName": "bayesian-221208-1449-004-4533e71d",
          "TrainingJobStatus": "Completed",
          "TrainingStartTime": "2022-12-08T14:52:56+01:00",
          "TuningJobName": "bayesian-221208-1449",
          "alpha": 0.15352119404544573,
          "eta": 0.4480129596264385,
          "max_depth": 10,
          "min_child_weight": 1.4541919079287569,
          "validation:accuracy": 0.8611099720001221
         },
         {
          "TrainingElapsedTimeSeconds": 42,
          "TrainingEndTime": "2022-12-08T15:02:58+01:00",
          "TrainingJobName": "bayesian-221208-1449-029-63165660",
          "TrainingJobStatus": "Completed",
          "TrainingStartTime": "2022-12-08T15:02:16+01:00",
          "TuningJobName": "bayesian-221208-1449",
          "alpha": 0.2368662761518311,
          "eta": 0.3655127902924845,
          "max_depth": 2,
          "min_child_weight": 1.6363581720296465,
          "validation:accuracy": 0.8592600226402283
         },
         {
          "TrainingElapsedTimeSeconds": 42,
          "TrainingEndTime": "2022-12-08T14:55:42+01:00",
          "TrainingJobName": "bayesian-221208-1449-010-1bfdfac3",
          "TrainingJobStatus": "Completed",
          "TrainingStartTime": "2022-12-08T14:55:00+01:00",
          "TuningJobName": "bayesian-221208-1449",
          "alpha": 0.3073047416817643,
          "eta": 0.1,
          "max_depth": 2,
          "min_child_weight": 1.7387247434344357,
          "validation:accuracy": 0.8500000238418579
         },
         {
          "TrainingElapsedTimeSeconds": 113,
          "TrainingEndTime": "2022-12-08T14:52:24+01:00",
          "TrainingJobName": "bayesian-221208-1449-003-cbbfa9bd",
          "TrainingJobStatus": "Completed",
          "TrainingStartTime": "2022-12-08T14:50:31+01:00",
          "TuningJobName": "bayesian-221208-1449",
          "alpha": 0.4437936455169858,
          "eta": 0.4931077813224761,
          "max_depth": 1,
          "min_child_weight": 0.7495403533966756,
          "validation:accuracy": 0.8500000238418579
         },
         {
          "TrainingElapsedTimeSeconds": 113,
          "TrainingEndTime": "2022-12-08T14:52:17+01:00",
          "TrainingJobName": "bayesian-221208-1449-001-f1266bc0",
          "TrainingJobStatus": "Completed",
          "TrainingStartTime": "2022-12-08T14:50:24+01:00",
          "TuningJobName": "bayesian-221208-1449",
          "alpha": 0.13077834569677974,
          "eta": 0.2527035558929499,
          "max_depth": 1,
          "min_child_weight": 0.2501788695752092,
          "validation:accuracy": 0.8407400250434875
         },
         {
          "TrainingElapsedTimeSeconds": 63,
          "TrainingEndTime": "2022-12-08T14:54:54+01:00",
          "TrainingJobName": "bayesian-221208-1449-007-22fb3255",
          "TrainingJobStatus": "Completed",
          "TrainingStartTime": "2022-12-08T14:53:51+01:00",
          "TuningJobName": "bayesian-221208-1449",
          "alpha": 0.1356602359578767,
          "eta": 0.14633031667746252,
          "max_depth": 4,
          "min_child_weight": 0.1938644165663225,
          "validation:accuracy": 0.8370400071144104
         },
         {
          "TrainingElapsedTimeSeconds": 42,
          "TrainingEndTime": "2022-12-08T15:03:13+01:00",
          "TrainingJobName": "bayesian-221208-1449-031-bad1c0ff",
          "TrainingJobStatus": "Completed",
          "TrainingStartTime": "2022-12-08T15:02:31+01:00",
          "TuningJobName": "bayesian-221208-1449",
          "alpha": 0.277607754597674,
          "eta": 0.48093185009943207,
          "max_depth": 1,
          "min_child_weight": 1.6572205093255277,
          "validation:accuracy": 0.8296300172805786
         }
        ],
        "data-0cf4862389f252ccf59e4cf6b524ef96": [
         {
          "TrainingElapsedTimeSeconds": 113,
          "TrainingEndTime": "2022-12-08T14:52:17+01:00",
          "TrainingJobName": "bayesian-221208-1449-001-f1266bc0",
          "TrainingJobStatus": "Completed",
          "TrainingStartTime": "2022-12-08T14:50:24+01:00",
          "TuningJobName": "bayesian-221208-1449",
          "alpha": 0.13077834569677974,
          "cum_objective": 0.8407400250434875,
          "eta": 0.2527035558929499,
          "max_depth": 1,
          "min_child_weight": 0.2501788695752092,
          "validation:accuracy": 0.8407400250434875
         },
         {
          "TrainingElapsedTimeSeconds": 113,
          "TrainingEndTime": "2022-12-08T14:52:24+01:00",
          "TrainingJobName": "bayesian-221208-1449-003-cbbfa9bd",
          "TrainingJobStatus": "Completed",
          "TrainingStartTime": "2022-12-08T14:50:31+01:00",
          "TuningJobName": "bayesian-221208-1449",
          "alpha": 0.4437936455169858,
          "cum_objective": 0.8500000238418579,
          "eta": 0.4931077813224761,
          "max_depth": 1,
          "min_child_weight": 0.7495403533966756,
          "validation:accuracy": 0.8500000238418579
         },
         {
          "TrainingElapsedTimeSeconds": 112,
          "TrainingEndTime": "2022-12-08T14:52:25+01:00",
          "TrainingJobName": "bayesian-221208-1449-002-9b8f00c6",
          "TrainingJobStatus": "Completed",
          "TrainingStartTime": "2022-12-08T14:50:33+01:00",
          "TuningJobName": "bayesian-221208-1449",
          "alpha": 0.22101166357373256,
          "cum_objective": 0.8685200214385986,
          "eta": 0.28438765648939135,
          "max_depth": 4,
          "min_child_weight": 0.18459770736534353,
          "validation:accuracy": 0.8685200214385986
         },
         {
          "TrainingElapsedTimeSeconds": 42,
          "TrainingEndTime": "2022-12-08T14:53:38+01:00",
          "TrainingJobName": "bayesian-221208-1449-004-4533e71d",
          "TrainingJobStatus": "Completed",
          "TrainingStartTime": "2022-12-08T14:52:56+01:00",
          "TuningJobName": "bayesian-221208-1449",
          "alpha": 0.15352119404544573,
          "cum_objective": 0.8685200214385986,
          "eta": 0.4480129596264385,
          "max_depth": 10,
          "min_child_weight": 1.4541919079287569,
          "validation:accuracy": 0.8611099720001221
         },
         {
          "TrainingElapsedTimeSeconds": 42,
          "TrainingEndTime": "2022-12-08T14:53:40+01:00",
          "TrainingJobName": "bayesian-221208-1449-005-62f5ea9e",
          "TrainingJobStatus": "Completed",
          "TrainingStartTime": "2022-12-08T14:52:58+01:00",
          "TuningJobName": "bayesian-221208-1449",
          "alpha": 0.3136472897939373,
          "cum_objective": 0.8685200214385986,
          "eta": 0.49464316821753973,
          "max_depth": 8,
          "min_child_weight": 0.9877420834416308,
          "validation:accuracy": 0.8611099720001221
         },
         {
          "TrainingElapsedTimeSeconds": 42,
          "TrainingEndTime": "2022-12-08T14:53:42+01:00",
          "TrainingJobName": "bayesian-221208-1449-006-fdb63ae1",
          "TrainingJobStatus": "Completed",
          "TrainingStartTime": "2022-12-08T14:53:00+01:00",
          "TuningJobName": "bayesian-221208-1449",
          "alpha": 0.3933966145763058,
          "cum_objective": 0.8759300112724304,
          "eta": 0.4350080753381722,
          "max_depth": 2,
          "min_child_weight": 1.797258460863559,
          "validation:accuracy": 0.8759300112724304
         },
         {
          "TrainingElapsedTimeSeconds": 63,
          "TrainingEndTime": "2022-12-08T14:54:54+01:00",
          "TrainingJobName": "bayesian-221208-1449-007-22fb3255",
          "TrainingJobStatus": "Completed",
          "TrainingStartTime": "2022-12-08T14:53:51+01:00",
          "TuningJobName": "bayesian-221208-1449",
          "alpha": 0.1356602359578767,
          "cum_objective": 0.8759300112724304,
          "eta": 0.14633031667746252,
          "max_depth": 4,
          "min_child_weight": 0.1938644165663225,
          "validation:accuracy": 0.8370400071144104
         },
         {
          "TrainingElapsedTimeSeconds": 42,
          "TrainingEndTime": "2022-12-08T14:54:40+01:00",
          "TrainingJobName": "bayesian-221208-1449-008-0989104f",
          "TrainingJobStatus": "Completed",
          "TrainingStartTime": "2022-12-08T14:53:58+01:00",
          "TuningJobName": "bayesian-221208-1449",
          "alpha": 0.3414147829249798,
          "cum_objective": 0.8759300112724304,
          "eta": 0.49957041581181705,
          "max_depth": 2,
          "min_child_weight": 1.7795698002199465,
          "validation:accuracy": 0.8740699887275696
         },
         {
          "TrainingElapsedTimeSeconds": 75,
          "TrainingEndTime": "2022-12-08T14:55:15+01:00",
          "TrainingJobName": "bayesian-221208-1449-009-43053cf5",
          "TrainingJobStatus": "Completed",
          "TrainingStartTime": "2022-12-08T14:54:00+01:00",
          "TuningJobName": "bayesian-221208-1449",
          "alpha": 0.4427666472959821,
          "cum_objective": 0.8759300112724304,
          "eta": 0.3947582835269975,
          "max_depth": 2,
          "min_child_weight": 1.8141745955235298,
          "validation:accuracy": 0.8740699887275696
         },
         {
          "TrainingElapsedTimeSeconds": 42,
          "TrainingEndTime": "2022-12-08T14:55:42+01:00",
          "TrainingJobName": "bayesian-221208-1449-010-1bfdfac3",
          "TrainingJobStatus": "Completed",
          "TrainingStartTime": "2022-12-08T14:55:00+01:00",
          "TuningJobName": "bayesian-221208-1449",
          "alpha": 0.3073047416817643,
          "cum_objective": 0.8759300112724304,
          "eta": 0.1,
          "max_depth": 2,
          "min_child_weight": 1.7387247434344357,
          "validation:accuracy": 0.8500000238418579
         },
         {
          "TrainingElapsedTimeSeconds": 42,
          "TrainingEndTime": "2022-12-08T14:57:00+01:00",
          "TrainingJobName": "bayesian-221208-1449-012-ea8f98f5",
          "TrainingJobStatus": "Completed",
          "TrainingStartTime": "2022-12-08T14:56:18+01:00",
          "TuningJobName": "bayesian-221208-1449",
          "alpha": 0.3330376562067092,
          "cum_objective": 0.8796300292015076,
          "eta": 0.4602400537640964,
          "max_depth": 2,
          "min_child_weight": 1.221130453976075,
          "validation:accuracy": 0.8796300292015076
         },
         {
          "TrainingElapsedTimeSeconds": 42,
          "TrainingEndTime": "2022-12-08T14:57:15+01:00",
          "TrainingJobName": "bayesian-221208-1449-011-8727aa41",
          "TrainingJobStatus": "Completed",
          "TrainingStartTime": "2022-12-08T14:56:33+01:00",
          "TuningJobName": "bayesian-221208-1449",
          "alpha": 0.36929219871607477,
          "cum_objective": 0.8796300292015076,
          "eta": 0.3947972153151864,
          "max_depth": 2,
          "min_child_weight": 2,
          "validation:accuracy": 0.8796300292015076
         },
         {
          "TrainingElapsedTimeSeconds": 42,
          "TrainingEndTime": "2022-12-08T14:57:25+01:00",
          "TrainingJobName": "bayesian-221208-1449-013-ffbded25",
          "TrainingJobStatus": "Completed",
          "TrainingStartTime": "2022-12-08T14:56:43+01:00",
          "TuningJobName": "bayesian-221208-1449",
          "alpha": 0.34646423804367277,
          "cum_objective": 0.8870400190353394,
          "eta": 0.4378313572646234,
          "max_depth": 2,
          "min_child_weight": 1.971598795578219,
          "validation:accuracy": 0.8870400190353394
         },
         {
          "TrainingElapsedTimeSeconds": 42,
          "TrainingEndTime": "2022-12-08T14:57:59+01:00",
          "TrainingJobName": "bayesian-221208-1449-014-af01dfe4",
          "TrainingJobStatus": "Completed",
          "TrainingStartTime": "2022-12-08T14:57:17+01:00",
          "TuningJobName": "bayesian-221208-1449",
          "alpha": 0.25314069723747457,
          "cum_objective": 0.8870400190353394,
          "eta": 0.46663808770245707,
          "max_depth": 2,
          "min_child_weight": 1.4773953096422883,
          "validation:accuracy": 0.8796300292015076
         },
         {
          "TrainingElapsedTimeSeconds": 42,
          "TrainingEndTime": "2022-12-08T14:58:11+01:00",
          "TrainingJobName": "bayesian-221208-1449-015-1b442629",
          "TrainingJobStatus": "Completed",
          "TrainingStartTime": "2022-12-08T14:57:29+01:00",
          "TuningJobName": "bayesian-221208-1449",
          "alpha": 0.2680324652826169,
          "cum_objective": 0.8870400190353394,
          "eta": 0.4271119157040212,
          "max_depth": 2,
          "min_child_weight": 1.0583487981397972,
          "validation:accuracy": 0.877780020236969
         },
         {
          "TrainingElapsedTimeSeconds": 42,
          "TrainingEndTime": "2022-12-08T14:58:22+01:00",
          "TrainingJobName": "bayesian-221208-1449-016-42f14198",
          "TrainingJobStatus": "Completed",
          "TrainingStartTime": "2022-12-08T14:57:40+01:00",
          "TuningJobName": "bayesian-221208-1449",
          "alpha": 0.32889871044900254,
          "cum_objective": 0.8870400190353394,
          "eta": 0.4334722686960957,
          "max_depth": 2,
          "min_child_weight": 1.9880563987730788,
          "validation:accuracy": 0.8851799964904785
         },
         {
          "TrainingElapsedTimeSeconds": 42,
          "TrainingEndTime": "2022-12-08T14:58:58+01:00",
          "TrainingJobName": "bayesian-221208-1449-017-8ea389bd",
          "TrainingJobStatus": "Completed",
          "TrainingStartTime": "2022-12-08T14:58:16+01:00",
          "TuningJobName": "bayesian-221208-1449",
          "alpha": 0.3118660374270886,
          "cum_objective": 0.8870400190353394,
          "eta": 0.4354483677138655,
          "max_depth": 2,
          "min_child_weight": 1.8832373774470792,
          "validation:accuracy": 0.8740699887275696
         },
         {
          "TrainingElapsedTimeSeconds": 42,
          "TrainingEndTime": "2022-12-08T14:59:05+01:00",
          "TrainingJobName": "bayesian-221208-1449-018-b0d745b1",
          "TrainingJobStatus": "Completed",
          "TrainingStartTime": "2022-12-08T14:58:23+01:00",
          "TuningJobName": "bayesian-221208-1449",
          "alpha": 0.3152702950349143,
          "cum_objective": 0.8870400190353394,
          "eta": 0.4455625639523969,
          "max_depth": 2,
          "min_child_weight": 1.8284416813157525,
          "validation:accuracy": 0.8759300112724304
         },
         {
          "TrainingElapsedTimeSeconds": 42,
          "TrainingEndTime": "2022-12-08T14:59:16+01:00",
          "TrainingJobName": "bayesian-221208-1449-019-6e3b6f72",
          "TrainingJobStatus": "Completed",
          "TrainingStartTime": "2022-12-08T14:58:34+01:00",
          "TuningJobName": "bayesian-221208-1449",
          "alpha": 0.3588674688282602,
          "cum_objective": 0.8870400190353394,
          "eta": 0.42826620961859774,
          "max_depth": 2,
          "min_child_weight": 1.623823420277621,
          "validation:accuracy": 0.8814799785614014
         },
         {
          "TrainingElapsedTimeSeconds": 47,
          "TrainingEndTime": "2022-12-08T14:59:58+01:00",
          "TrainingJobName": "bayesian-221208-1449-020-65819363",
          "TrainingJobStatus": "Completed",
          "TrainingStartTime": "2022-12-08T14:59:11+01:00",
          "TuningJobName": "bayesian-221208-1449",
          "alpha": 0.33990146936416116,
          "cum_objective": 0.8870400190353394,
          "eta": 0.41657974634959505,
          "max_depth": 10,
          "min_child_weight": 1.7973135367780233,
          "validation:accuracy": 0.8611099720001221
         },
         {
          "TrainingElapsedTimeSeconds": 42,
          "TrainingEndTime": "2022-12-08T15:00:00+01:00",
          "TrainingJobName": "bayesian-221208-1449-021-36a6d5bb",
          "TrainingJobStatus": "Completed",
          "TrainingStartTime": "2022-12-08T14:59:18+01:00",
          "TuningJobName": "bayesian-221208-1449",
          "alpha": 0.34320105891354463,
          "cum_objective": 0.8870400190353394,
          "eta": 0.4338048073666426,
          "max_depth": 2,
          "min_child_weight": 1.9526133323941994,
          "validation:accuracy": 0.872219979763031
         },
         {
          "TrainingElapsedTimeSeconds": 42,
          "TrainingEndTime": "2022-12-08T15:00:11+01:00",
          "TrainingJobName": "bayesian-221208-1449-022-9e212823",
          "TrainingJobStatus": "Completed",
          "TrainingStartTime": "2022-12-08T14:59:29+01:00",
          "TuningJobName": "bayesian-221208-1449",
          "alpha": 0.3352286567172479,
          "cum_objective": 0.8870400190353394,
          "eta": 0.42217552811613235,
          "max_depth": 2,
          "min_child_weight": 1.9360220700578543,
          "validation:accuracy": 0.8611099720001221
         },
         {
          "TrainingElapsedTimeSeconds": 43,
          "TrainingEndTime": "2022-12-08T15:00:57+01:00",
          "TrainingJobName": "bayesian-221208-1449-023-70cbb0b3",
          "TrainingJobStatus": "Completed",
          "TrainingStartTime": "2022-12-08T15:00:14+01:00",
          "TuningJobName": "bayesian-221208-1449",
          "alpha": 0.3413113720374898,
          "cum_objective": 0.8870400190353394,
          "eta": 0.40192153240540074,
          "max_depth": 2,
          "min_child_weight": 1.6701777547925143,
          "validation:accuracy": 0.8833299875259399
         },
         {
          "TrainingElapsedTimeSeconds": 43,
          "TrainingEndTime": "2022-12-08T15:01:07+01:00",
          "TrainingJobName": "bayesian-221208-1449-024-a36145e6",
          "TrainingJobStatus": "Completed",
          "TrainingStartTime": "2022-12-08T15:00:24+01:00",
          "TuningJobName": "bayesian-221208-1449",
          "alpha": 0.4035527724645102,
          "cum_objective": 0.8870400190353394,
          "eta": 0.430295452741534,
          "max_depth": 2,
          "min_child_weight": 0.5728261909413794,
          "validation:accuracy": 0.8740699887275696
         },
         {
          "TrainingElapsedTimeSeconds": 42,
          "TrainingEndTime": "2022-12-08T15:01:13+01:00",
          "TrainingJobName": "bayesian-221208-1449-025-f6499879",
          "TrainingJobStatus": "Completed",
          "TrainingStartTime": "2022-12-08T15:00:31+01:00",
          "TuningJobName": "bayesian-221208-1449",
          "alpha": 0.388052583920073,
          "cum_objective": 0.8870400190353394,
          "eta": 0.4177428194799322,
          "max_depth": 2,
          "min_child_weight": 1.9763596438957713,
          "validation:accuracy": 0.8796300292015076
         },
         {
          "TrainingElapsedTimeSeconds": 42,
          "TrainingEndTime": "2022-12-08T15:01:59+01:00",
          "TrainingJobName": "bayesian-221208-1449-026-0c3c5f72",
          "TrainingJobStatus": "Completed",
          "TrainingStartTime": "2022-12-08T15:01:17+01:00",
          "TuningJobName": "bayesian-221208-1449",
          "alpha": 0.17805831117382384,
          "cum_objective": 0.8870400190353394,
          "eta": 0.44470478112822287,
          "max_depth": 2,
          "min_child_weight": 1.9817963443498563,
          "validation:accuracy": 0.8833299875259399
         },
         {
          "TrainingElapsedTimeSeconds": 42,
          "TrainingEndTime": "2022-12-08T15:02:08+01:00",
          "TrainingJobName": "bayesian-221208-1449-027-49ec0986",
          "TrainingJobStatus": "Completed",
          "TrainingStartTime": "2022-12-08T15:01:26+01:00",
          "TuningJobName": "bayesian-221208-1449",
          "alpha": 0.48001665049752756,
          "cum_objective": 0.8870400190353394,
          "eta": 0.5,
          "max_depth": 2,
          "min_child_weight": 1.657168193099596,
          "validation:accuracy": 0.8870400190353394
         },
         {
          "TrainingElapsedTimeSeconds": 42,
          "TrainingEndTime": "2022-12-08T15:02:14+01:00",
          "TrainingJobName": "bayesian-221208-1449-028-1a74097e",
          "TrainingJobStatus": "Completed",
          "TrainingStartTime": "2022-12-08T15:01:32+01:00",
          "TuningJobName": "bayesian-221208-1449",
          "alpha": 0.44392344222067975,
          "cum_objective": 0.8870400190353394,
          "eta": 0.4552832426582205,
          "max_depth": 2,
          "min_child_weight": 1.9880922503037743,
          "validation:accuracy": 0.8814799785614014
         },
         {
          "TrainingElapsedTimeSeconds": 42,
          "TrainingEndTime": "2022-12-08T15:02:58+01:00",
          "TrainingJobName": "bayesian-221208-1449-029-63165660",
          "TrainingJobStatus": "Completed",
          "TrainingStartTime": "2022-12-08T15:02:16+01:00",
          "TuningJobName": "bayesian-221208-1449",
          "alpha": 0.2368662761518311,
          "cum_objective": 0.8870400190353394,
          "eta": 0.3655127902924845,
          "max_depth": 2,
          "min_child_weight": 1.6363581720296465,
          "validation:accuracy": 0.8592600226402283
         },
         {
          "TrainingElapsedTimeSeconds": 42,
          "TrainingEndTime": "2022-12-08T15:03:07+01:00",
          "TrainingJobName": "bayesian-221208-1449-030-499d5c9d",
          "TrainingJobStatus": "Completed",
          "TrainingStartTime": "2022-12-08T15:02:25+01:00",
          "TuningJobName": "bayesian-221208-1449",
          "alpha": 0.39759588133665863,
          "cum_objective": 0.8870400190353394,
          "eta": 0.5,
          "max_depth": 2,
          "min_child_weight": 1.9722508373888004,
          "validation:accuracy": 0.872219979763031
         },
         {
          "TrainingElapsedTimeSeconds": 42,
          "TrainingEndTime": "2022-12-08T15:03:13+01:00",
          "TrainingJobName": "bayesian-221208-1449-031-bad1c0ff",
          "TrainingJobStatus": "Completed",
          "TrainingStartTime": "2022-12-08T15:02:31+01:00",
          "TuningJobName": "bayesian-221208-1449",
          "alpha": 0.277607754597674,
          "cum_objective": 0.8870400190353394,
          "eta": 0.48093185009943207,
          "max_depth": 1,
          "min_child_weight": 1.6572205093255277,
          "validation:accuracy": 0.8296300172805786
         },
         {
          "TrainingElapsedTimeSeconds": 42,
          "TrainingEndTime": "2022-12-08T15:03:58+01:00",
          "TrainingJobName": "bayesian-221208-1449-032-fea98d9c",
          "TrainingJobStatus": "Completed",
          "TrainingStartTime": "2022-12-08T15:03:16+01:00",
          "TuningJobName": "bayesian-221208-1449",
          "alpha": 0.1856222184961569,
          "cum_objective": 0.8870400190353394,
          "eta": 0.48262198622889096,
          "max_depth": 2,
          "min_child_weight": 0.09610250678636634,
          "validation:accuracy": 0.8759300112724304
         },
         {
          "TrainingElapsedTimeSeconds": 42,
          "TrainingEndTime": "2022-12-08T15:04:07+01:00",
          "TrainingJobName": "bayesian-221208-1449-033-a23e87b9",
          "TrainingJobStatus": "Completed",
          "TrainingStartTime": "2022-12-08T15:03:25+01:00",
          "TuningJobName": "bayesian-221208-1449",
          "alpha": 0.4687109940435686,
          "cum_objective": 0.8870400190353394,
          "eta": 0.4612363152117579,
          "max_depth": 2,
          "min_child_weight": 0.19598888082678467,
          "validation:accuracy": 0.8814799785614014
         },
         {
          "TrainingElapsedTimeSeconds": 37,
          "TrainingEndTime": "2022-12-08T15:04:10+01:00",
          "TrainingJobName": "bayesian-221208-1449-034-1eea6744",
          "TrainingJobStatus": "Completed",
          "TrainingStartTime": "2022-12-08T15:03:33+01:00",
          "TuningJobName": "bayesian-221208-1449",
          "alpha": 0.34408227814126313,
          "cum_objective": 0.8870400190353394,
          "eta": 0.28303182337810595,
          "max_depth": 2,
          "min_child_weight": 2,
          "validation:accuracy": 0.8703699707984924
         },
         {
          "TrainingElapsedTimeSeconds": 42,
          "TrainingEndTime": "2022-12-08T15:04:58+01:00",
          "TrainingJobName": "bayesian-221208-1449-035-c7eef584",
          "TrainingJobStatus": "Completed",
          "TrainingStartTime": "2022-12-08T15:04:16+01:00",
          "TuningJobName": "bayesian-221208-1449",
          "alpha": 0.24935843832454033,
          "cum_objective": 0.8870400190353394,
          "eta": 0.45918111243312143,
          "max_depth": 2,
          "min_child_weight": 0.217436944745397,
          "validation:accuracy": 0.8851799964904785
         },
         {
          "TrainingElapsedTimeSeconds": 42,
          "TrainingEndTime": "2022-12-08T15:05:06+01:00",
          "TrainingJobName": "bayesian-221208-1449-036-977ad6fc",
          "TrainingJobStatus": "Completed",
          "TrainingStartTime": "2022-12-08T15:04:24+01:00",
          "TuningJobName": "bayesian-221208-1449",
          "alpha": 0.4599479572300997,
          "cum_objective": 0.8870400190353394,
          "eta": 0.4682086973575804,
          "max_depth": 2,
          "min_child_weight": 1.1751197539716065,
          "validation:accuracy": 0.877780020236969
         },
         {
          "TrainingElapsedTimeSeconds": 72,
          "TrainingEndTime": "2022-12-08T15:05:38+01:00",
          "TrainingJobName": "bayesian-221208-1449-037-92b0cf2a",
          "TrainingJobStatus": "Completed",
          "TrainingStartTime": "2022-12-08T15:04:26+01:00",
          "TuningJobName": "bayesian-221208-1449",
          "alpha": 0.48153311248441477,
          "cum_objective": 0.8870400190353394,
          "eta": 0.46374221578659325,
          "max_depth": 2,
          "min_child_weight": 0.9059908358183495,
          "validation:accuracy": 0.8759300112724304
         },
         {
          "TrainingElapsedTimeSeconds": 42,
          "TrainingEndTime": "2022-12-08T15:06:00+01:00",
          "TrainingJobName": "bayesian-221208-1449-038-2ca425d9",
          "TrainingJobStatus": "Completed",
          "TrainingStartTime": "2022-12-08T15:05:18+01:00",
          "TuningJobName": "bayesian-221208-1449",
          "alpha": 0.03170562513917427,
          "cum_objective": 0.8870400190353394,
          "eta": 0.45344225032659724,
          "max_depth": 2,
          "min_child_weight": 1.6537368842389517,
          "validation:accuracy": 0.8833299875259399
         },
         {
          "TrainingElapsedTimeSeconds": 43,
          "TrainingEndTime": "2022-12-08T15:06:09+01:00",
          "TrainingJobName": "bayesian-221208-1449-039-ee8ff796",
          "TrainingJobStatus": "Completed",
          "TrainingStartTime": "2022-12-08T15:05:26+01:00",
          "TuningJobName": "bayesian-221208-1449",
          "alpha": 0.3642998301827169,
          "cum_objective": 0.8870400190353394,
          "eta": 0.4610346376615895,
          "max_depth": 2,
          "min_child_weight": 0.8030160069813304,
          "validation:accuracy": 0.8814799785614014
         },
         {
          "TrainingElapsedTimeSeconds": 42,
          "TrainingEndTime": "2022-12-08T15:06:33+01:00",
          "TrainingJobName": "bayesian-221208-1449-040-77730d69",
          "TrainingJobStatus": "Completed",
          "TrainingStartTime": "2022-12-08T15:05:51+01:00",
          "TuningJobName": "bayesian-221208-1449",
          "alpha": 0.32263683434310203,
          "cum_objective": 0.8888900279998779,
          "eta": 0.4611684193861232,
          "max_depth": 2,
          "min_child_weight": 1.9851115339178544,
          "validation:accuracy": 0.8888900279998779
         },
         {
          "TrainingElapsedTimeSeconds": 42,
          "TrainingEndTime": "2022-12-08T15:06:56+01:00",
          "TrainingJobName": "bayesian-221208-1449-041-0ea88d84",
          "TrainingJobStatus": "Completed",
          "TrainingStartTime": "2022-12-08T15:06:14+01:00",
          "TuningJobName": "bayesian-221208-1449",
          "alpha": 0.21367611378554,
          "cum_objective": 0.8888900279998779,
          "eta": 0.43486636401029033,
          "max_depth": 2,
          "min_child_weight": 2,
          "validation:accuracy": 0.8666700124740601
         },
         {
          "TrainingElapsedTimeSeconds": 65,
          "TrainingEndTime": "2022-12-08T15:07:28+01:00",
          "TrainingJobName": "bayesian-221208-1449-042-c7ae478a",
          "TrainingJobStatus": "Completed",
          "TrainingStartTime": "2022-12-08T15:06:23+01:00",
          "TuningJobName": "bayesian-221208-1449",
          "alpha": 0.06341448184618877,
          "cum_objective": 0.8888900279998779,
          "eta": 0.4712249330707893,
          "max_depth": 2,
          "min_child_weight": 0.7557255963739604,
          "validation:accuracy": 0.8740699887275696
         },
         {
          "TrainingElapsedTimeSeconds": 74,
          "TrainingEndTime": "2022-12-08T15:08:03+01:00",
          "TrainingJobName": "bayesian-221208-1449-043-7f73b703",
          "TrainingJobStatus": "Completed",
          "TrainingStartTime": "2022-12-08T15:06:49+01:00",
          "TuningJobName": "bayesian-221208-1449",
          "alpha": 0.2534787615292288,
          "cum_objective": 0.8888900279998779,
          "eta": 0.459648296773843,
          "max_depth": 2,
          "min_child_weight": 0.6982555793948164,
          "validation:accuracy": 0.877780020236969
         },
         {
          "TrainingElapsedTimeSeconds": 43,
          "TrainingEndTime": "2022-12-08T15:07:54+01:00",
          "TrainingJobName": "bayesian-221208-1449-044-c6456208",
          "TrainingJobStatus": "Completed",
          "TrainingStartTime": "2022-12-08T15:07:11+01:00",
          "TuningJobName": "bayesian-221208-1449",
          "alpha": 0.19212054896222455,
          "cum_objective": 0.8888900279998779,
          "eta": 0.46924938868878596,
          "max_depth": 2,
          "min_child_weight": 1.568296744225374,
          "validation:accuracy": 0.8703699707984924
         },
         {
          "TrainingElapsedTimeSeconds": 75,
          "TrainingEndTime": "2022-12-08T15:08:58+01:00",
          "TrainingJobName": "bayesian-221208-1449-045-efb7858c",
          "TrainingJobStatus": "Completed",
          "TrainingStartTime": "2022-12-08T15:07:43+01:00",
          "TuningJobName": "bayesian-221208-1449",
          "alpha": 0.09027181059441824,
          "cum_objective": 0.8888900279998779,
          "eta": 0.4775367126087552,
          "max_depth": 2,
          "min_child_weight": 0.9192368379793363,
          "validation:accuracy": 0.8759300112724304
         },
         {
          "TrainingElapsedTimeSeconds": 75,
          "TrainingEndTime": "2022-12-08T15:09:25+01:00",
          "TrainingJobName": "bayesian-221208-1449-046-71e5ecfd",
          "TrainingJobStatus": "Completed",
          "TrainingStartTime": "2022-12-08T15:08:10+01:00",
          "TuningJobName": "bayesian-221208-1449",
          "alpha": 0.024569431912810802,
          "cum_objective": 0.8888900279998779,
          "eta": 0.4748724140760582,
          "max_depth": 2,
          "min_child_weight": 1.45452778520711,
          "validation:accuracy": 0.8814799785614014
         },
         {
          "TrainingElapsedTimeSeconds": 42,
          "TrainingEndTime": "2022-12-08T15:09:00+01:00",
          "TrainingJobName": "bayesian-221208-1449-047-9f48fa8a",
          "TrainingJobStatus": "Completed",
          "TrainingStartTime": "2022-12-08T15:08:18+01:00",
          "TuningJobName": "bayesian-221208-1449",
          "alpha": 0.26833262749233155,
          "cum_objective": 0.8888900279998779,
          "eta": 0.35072731078068664,
          "max_depth": 2,
          "min_child_weight": 1.97081744512914,
          "validation:accuracy": 0.8759300112724304
         },
         {
          "TrainingElapsedTimeSeconds": 42,
          "TrainingEndTime": "2022-12-08T15:10:03+01:00",
          "TrainingJobName": "bayesian-221208-1449-048-762e1a26",
          "TrainingJobStatus": "Completed",
          "TrainingStartTime": "2022-12-08T15:09:21+01:00",
          "TuningJobName": "bayesian-221208-1449",
          "alpha": 0.18731365377721929,
          "cum_objective": 0.8888900279998779,
          "eta": 0.4680566499290433,
          "max_depth": 2,
          "min_child_weight": 1.968360939941302,
          "validation:accuracy": 0.8851799964904785
         },
         {
          "TrainingElapsedTimeSeconds": 42,
          "TrainingEndTime": "2022-12-08T15:10:04+01:00",
          "TrainingJobName": "bayesian-221208-1449-049-2c4d57d7",
          "TrainingJobStatus": "Completed",
          "TrainingStartTime": "2022-12-08T15:09:22+01:00",
          "TuningJobName": "bayesian-221208-1449",
          "alpha": 0.09883960090902681,
          "cum_objective": 0.8888900279998779,
          "eta": 0.43573265780513226,
          "max_depth": 2,
          "min_child_weight": 0.21097473775977157,
          "validation:accuracy": 0.8833299875259399
         },
         {
          "TrainingElapsedTimeSeconds": 42,
          "TrainingEndTime": "2022-12-08T15:10:25+01:00",
          "TrainingJobName": "bayesian-221208-1449-050-36cfbd1a",
          "TrainingJobStatus": "Completed",
          "TrainingStartTime": "2022-12-08T15:09:43+01:00",
          "TuningJobName": "bayesian-221208-1449",
          "alpha": 0.20738722445804753,
          "cum_objective": 0.8888900279998779,
          "eta": 0.462489869981183,
          "max_depth": 2,
          "min_child_weight": 0.7668543700376524,
          "validation:accuracy": 0.8796300292015076
         }
        ],
        "data-cae59fd61303cc592477f52acd55aa13": [
         {
          "TrainingElapsedTimeSeconds": 42,
          "TrainingEndTime": "2022-12-08T15:03:13+01:00",
          "TrainingJobName": "bayesian-221208-1449-031-bad1c0ff",
          "TrainingJobStatus": "Completed",
          "TrainingStartTime": "2022-12-08T15:02:31+01:00",
          "TuningJobName": "bayesian-221208-1449",
          "alpha": 0.277607754597674,
          "eta": 0.48093185009943207,
          "max_depth": 1,
          "min_child_weight": 1.6572205093255277,
          "validation:accuracy": 0.8296300172805786
         },
         {
          "TrainingElapsedTimeSeconds": 63,
          "TrainingEndTime": "2022-12-08T14:54:54+01:00",
          "TrainingJobName": "bayesian-221208-1449-007-22fb3255",
          "TrainingJobStatus": "Completed",
          "TrainingStartTime": "2022-12-08T14:53:51+01:00",
          "TuningJobName": "bayesian-221208-1449",
          "alpha": 0.1356602359578767,
          "eta": 0.14633031667746252,
          "max_depth": 4,
          "min_child_weight": 0.1938644165663225,
          "validation:accuracy": 0.8370400071144104
         },
         {
          "TrainingElapsedTimeSeconds": 113,
          "TrainingEndTime": "2022-12-08T14:52:17+01:00",
          "TrainingJobName": "bayesian-221208-1449-001-f1266bc0",
          "TrainingJobStatus": "Completed",
          "TrainingStartTime": "2022-12-08T14:50:24+01:00",
          "TuningJobName": "bayesian-221208-1449",
          "alpha": 0.13077834569677974,
          "eta": 0.2527035558929499,
          "max_depth": 1,
          "min_child_weight": 0.2501788695752092,
          "validation:accuracy": 0.8407400250434875
         },
         {
          "TrainingElapsedTimeSeconds": 113,
          "TrainingEndTime": "2022-12-08T14:52:24+01:00",
          "TrainingJobName": "bayesian-221208-1449-003-cbbfa9bd",
          "TrainingJobStatus": "Completed",
          "TrainingStartTime": "2022-12-08T14:50:31+01:00",
          "TuningJobName": "bayesian-221208-1449",
          "alpha": 0.4437936455169858,
          "eta": 0.4931077813224761,
          "max_depth": 1,
          "min_child_weight": 0.7495403533966756,
          "validation:accuracy": 0.8500000238418579
         },
         {
          "TrainingElapsedTimeSeconds": 42,
          "TrainingEndTime": "2022-12-08T14:55:42+01:00",
          "TrainingJobName": "bayesian-221208-1449-010-1bfdfac3",
          "TrainingJobStatus": "Completed",
          "TrainingStartTime": "2022-12-08T14:55:00+01:00",
          "TuningJobName": "bayesian-221208-1449",
          "alpha": 0.3073047416817643,
          "eta": 0.1,
          "max_depth": 2,
          "min_child_weight": 1.7387247434344357,
          "validation:accuracy": 0.8500000238418579
         },
         {
          "TrainingElapsedTimeSeconds": 42,
          "TrainingEndTime": "2022-12-08T15:02:58+01:00",
          "TrainingJobName": "bayesian-221208-1449-029-63165660",
          "TrainingJobStatus": "Completed",
          "TrainingStartTime": "2022-12-08T15:02:16+01:00",
          "TuningJobName": "bayesian-221208-1449",
          "alpha": 0.2368662761518311,
          "eta": 0.3655127902924845,
          "max_depth": 2,
          "min_child_weight": 1.6363581720296465,
          "validation:accuracy": 0.8592600226402283
         },
         {
          "TrainingElapsedTimeSeconds": 42,
          "TrainingEndTime": "2022-12-08T14:53:38+01:00",
          "TrainingJobName": "bayesian-221208-1449-004-4533e71d",
          "TrainingJobStatus": "Completed",
          "TrainingStartTime": "2022-12-08T14:52:56+01:00",
          "TuningJobName": "bayesian-221208-1449",
          "alpha": 0.15352119404544573,
          "eta": 0.4480129596264385,
          "max_depth": 10,
          "min_child_weight": 1.4541919079287569,
          "validation:accuracy": 0.8611099720001221
         },
         {
          "TrainingElapsedTimeSeconds": 42,
          "TrainingEndTime": "2022-12-08T14:53:40+01:00",
          "TrainingJobName": "bayesian-221208-1449-005-62f5ea9e",
          "TrainingJobStatus": "Completed",
          "TrainingStartTime": "2022-12-08T14:52:58+01:00",
          "TuningJobName": "bayesian-221208-1449",
          "alpha": 0.3136472897939373,
          "eta": 0.49464316821753973,
          "max_depth": 8,
          "min_child_weight": 0.9877420834416308,
          "validation:accuracy": 0.8611099720001221
         },
         {
          "TrainingElapsedTimeSeconds": 42,
          "TrainingEndTime": "2022-12-08T15:00:11+01:00",
          "TrainingJobName": "bayesian-221208-1449-022-9e212823",
          "TrainingJobStatus": "Completed",
          "TrainingStartTime": "2022-12-08T14:59:29+01:00",
          "TuningJobName": "bayesian-221208-1449",
          "alpha": 0.3352286567172479,
          "eta": 0.42217552811613235,
          "max_depth": 2,
          "min_child_weight": 1.9360220700578543,
          "validation:accuracy": 0.8611099720001221
         },
         {
          "TrainingElapsedTimeSeconds": 47,
          "TrainingEndTime": "2022-12-08T14:59:58+01:00",
          "TrainingJobName": "bayesian-221208-1449-020-65819363",
          "TrainingJobStatus": "Completed",
          "TrainingStartTime": "2022-12-08T14:59:11+01:00",
          "TuningJobName": "bayesian-221208-1449",
          "alpha": 0.33990146936416116,
          "eta": 0.41657974634959505,
          "max_depth": 10,
          "min_child_weight": 1.7973135367780233,
          "validation:accuracy": 0.8611099720001221
         },
         {
          "TrainingElapsedTimeSeconds": 42,
          "TrainingEndTime": "2022-12-08T15:06:56+01:00",
          "TrainingJobName": "bayesian-221208-1449-041-0ea88d84",
          "TrainingJobStatus": "Completed",
          "TrainingStartTime": "2022-12-08T15:06:14+01:00",
          "TuningJobName": "bayesian-221208-1449",
          "alpha": 0.21367611378554,
          "eta": 0.43486636401029033,
          "max_depth": 2,
          "min_child_weight": 2,
          "validation:accuracy": 0.8666700124740601
         },
         {
          "TrainingElapsedTimeSeconds": 112,
          "TrainingEndTime": "2022-12-08T14:52:25+01:00",
          "TrainingJobName": "bayesian-221208-1449-002-9b8f00c6",
          "TrainingJobStatus": "Completed",
          "TrainingStartTime": "2022-12-08T14:50:33+01:00",
          "TuningJobName": "bayesian-221208-1449",
          "alpha": 0.22101166357373256,
          "eta": 0.28438765648939135,
          "max_depth": 4,
          "min_child_weight": 0.18459770736534353,
          "validation:accuracy": 0.8685200214385986
         },
         {
          "TrainingElapsedTimeSeconds": 43,
          "TrainingEndTime": "2022-12-08T15:07:54+01:00",
          "TrainingJobName": "bayesian-221208-1449-044-c6456208",
          "TrainingJobStatus": "Completed",
          "TrainingStartTime": "2022-12-08T15:07:11+01:00",
          "TuningJobName": "bayesian-221208-1449",
          "alpha": 0.19212054896222455,
          "eta": 0.46924938868878596,
          "max_depth": 2,
          "min_child_weight": 1.568296744225374,
          "validation:accuracy": 0.8703699707984924
         },
         {
          "TrainingElapsedTimeSeconds": 37,
          "TrainingEndTime": "2022-12-08T15:04:10+01:00",
          "TrainingJobName": "bayesian-221208-1449-034-1eea6744",
          "TrainingJobStatus": "Completed",
          "TrainingStartTime": "2022-12-08T15:03:33+01:00",
          "TuningJobName": "bayesian-221208-1449",
          "alpha": 0.34408227814126313,
          "eta": 0.28303182337810595,
          "max_depth": 2,
          "min_child_weight": 2,
          "validation:accuracy": 0.8703699707984924
         },
         {
          "TrainingElapsedTimeSeconds": 42,
          "TrainingEndTime": "2022-12-08T15:03:07+01:00",
          "TrainingJobName": "bayesian-221208-1449-030-499d5c9d",
          "TrainingJobStatus": "Completed",
          "TrainingStartTime": "2022-12-08T15:02:25+01:00",
          "TuningJobName": "bayesian-221208-1449",
          "alpha": 0.39759588133665863,
          "eta": 0.5,
          "max_depth": 2,
          "min_child_weight": 1.9722508373888004,
          "validation:accuracy": 0.872219979763031
         },
         {
          "TrainingElapsedTimeSeconds": 42,
          "TrainingEndTime": "2022-12-08T15:00:00+01:00",
          "TrainingJobName": "bayesian-221208-1449-021-36a6d5bb",
          "TrainingJobStatus": "Completed",
          "TrainingStartTime": "2022-12-08T14:59:18+01:00",
          "TuningJobName": "bayesian-221208-1449",
          "alpha": 0.34320105891354463,
          "eta": 0.4338048073666426,
          "max_depth": 2,
          "min_child_weight": 1.9526133323941994,
          "validation:accuracy": 0.872219979763031
         },
         {
          "TrainingElapsedTimeSeconds": 42,
          "TrainingEndTime": "2022-12-08T14:58:58+01:00",
          "TrainingJobName": "bayesian-221208-1449-017-8ea389bd",
          "TrainingJobStatus": "Completed",
          "TrainingStartTime": "2022-12-08T14:58:16+01:00",
          "TuningJobName": "bayesian-221208-1449",
          "alpha": 0.3118660374270886,
          "eta": 0.4354483677138655,
          "max_depth": 2,
          "min_child_weight": 1.8832373774470792,
          "validation:accuracy": 0.8740699887275696
         },
         {
          "TrainingElapsedTimeSeconds": 75,
          "TrainingEndTime": "2022-12-08T14:55:15+01:00",
          "TrainingJobName": "bayesian-221208-1449-009-43053cf5",
          "TrainingJobStatus": "Completed",
          "TrainingStartTime": "2022-12-08T14:54:00+01:00",
          "TuningJobName": "bayesian-221208-1449",
          "alpha": 0.4427666472959821,
          "eta": 0.3947582835269975,
          "max_depth": 2,
          "min_child_weight": 1.8141745955235298,
          "validation:accuracy": 0.8740699887275696
         },
         {
          "TrainingElapsedTimeSeconds": 43,
          "TrainingEndTime": "2022-12-08T15:01:07+01:00",
          "TrainingJobName": "bayesian-221208-1449-024-a36145e6",
          "TrainingJobStatus": "Completed",
          "TrainingStartTime": "2022-12-08T15:00:24+01:00",
          "TuningJobName": "bayesian-221208-1449",
          "alpha": 0.4035527724645102,
          "eta": 0.430295452741534,
          "max_depth": 2,
          "min_child_weight": 0.5728261909413794,
          "validation:accuracy": 0.8740699887275696
         },
         {
          "TrainingElapsedTimeSeconds": 42,
          "TrainingEndTime": "2022-12-08T14:54:40+01:00",
          "TrainingJobName": "bayesian-221208-1449-008-0989104f",
          "TrainingJobStatus": "Completed",
          "TrainingStartTime": "2022-12-08T14:53:58+01:00",
          "TuningJobName": "bayesian-221208-1449",
          "alpha": 0.3414147829249798,
          "eta": 0.49957041581181705,
          "max_depth": 2,
          "min_child_weight": 1.7795698002199465,
          "validation:accuracy": 0.8740699887275696
         },
         {
          "TrainingElapsedTimeSeconds": 65,
          "TrainingEndTime": "2022-12-08T15:07:28+01:00",
          "TrainingJobName": "bayesian-221208-1449-042-c7ae478a",
          "TrainingJobStatus": "Completed",
          "TrainingStartTime": "2022-12-08T15:06:23+01:00",
          "TuningJobName": "bayesian-221208-1449",
          "alpha": 0.06341448184618877,
          "eta": 0.4712249330707893,
          "max_depth": 2,
          "min_child_weight": 0.7557255963739604,
          "validation:accuracy": 0.8740699887275696
         },
         {
          "TrainingElapsedTimeSeconds": 42,
          "TrainingEndTime": "2022-12-08T14:59:05+01:00",
          "TrainingJobName": "bayesian-221208-1449-018-b0d745b1",
          "TrainingJobStatus": "Completed",
          "TrainingStartTime": "2022-12-08T14:58:23+01:00",
          "TuningJobName": "bayesian-221208-1449",
          "alpha": 0.3152702950349143,
          "eta": 0.4455625639523969,
          "max_depth": 2,
          "min_child_weight": 1.8284416813157525,
          "validation:accuracy": 0.8759300112724304
         },
         {
          "TrainingElapsedTimeSeconds": 75,
          "TrainingEndTime": "2022-12-08T15:08:58+01:00",
          "TrainingJobName": "bayesian-221208-1449-045-efb7858c",
          "TrainingJobStatus": "Completed",
          "TrainingStartTime": "2022-12-08T15:07:43+01:00",
          "TuningJobName": "bayesian-221208-1449",
          "alpha": 0.09027181059441824,
          "eta": 0.4775367126087552,
          "max_depth": 2,
          "min_child_weight": 0.9192368379793363,
          "validation:accuracy": 0.8759300112724304
         },
         {
          "TrainingElapsedTimeSeconds": 42,
          "TrainingEndTime": "2022-12-08T15:09:00+01:00",
          "TrainingJobName": "bayesian-221208-1449-047-9f48fa8a",
          "TrainingJobStatus": "Completed",
          "TrainingStartTime": "2022-12-08T15:08:18+01:00",
          "TuningJobName": "bayesian-221208-1449",
          "alpha": 0.26833262749233155,
          "eta": 0.35072731078068664,
          "max_depth": 2,
          "min_child_weight": 1.97081744512914,
          "validation:accuracy": 0.8759300112724304
         },
         {
          "TrainingElapsedTimeSeconds": 72,
          "TrainingEndTime": "2022-12-08T15:05:38+01:00",
          "TrainingJobName": "bayesian-221208-1449-037-92b0cf2a",
          "TrainingJobStatus": "Completed",
          "TrainingStartTime": "2022-12-08T15:04:26+01:00",
          "TuningJobName": "bayesian-221208-1449",
          "alpha": 0.48153311248441477,
          "eta": 0.46374221578659325,
          "max_depth": 2,
          "min_child_weight": 0.9059908358183495,
          "validation:accuracy": 0.8759300112724304
         },
         {
          "TrainingElapsedTimeSeconds": 42,
          "TrainingEndTime": "2022-12-08T15:03:58+01:00",
          "TrainingJobName": "bayesian-221208-1449-032-fea98d9c",
          "TrainingJobStatus": "Completed",
          "TrainingStartTime": "2022-12-08T15:03:16+01:00",
          "TuningJobName": "bayesian-221208-1449",
          "alpha": 0.1856222184961569,
          "eta": 0.48262198622889096,
          "max_depth": 2,
          "min_child_weight": 0.09610250678636634,
          "validation:accuracy": 0.8759300112724304
         },
         {
          "TrainingElapsedTimeSeconds": 42,
          "TrainingEndTime": "2022-12-08T14:53:42+01:00",
          "TrainingJobName": "bayesian-221208-1449-006-fdb63ae1",
          "TrainingJobStatus": "Completed",
          "TrainingStartTime": "2022-12-08T14:53:00+01:00",
          "TuningJobName": "bayesian-221208-1449",
          "alpha": 0.3933966145763058,
          "eta": 0.4350080753381722,
          "max_depth": 2,
          "min_child_weight": 1.797258460863559,
          "validation:accuracy": 0.8759300112724304
         },
         {
          "TrainingElapsedTimeSeconds": 74,
          "TrainingEndTime": "2022-12-08T15:08:03+01:00",
          "TrainingJobName": "bayesian-221208-1449-043-7f73b703",
          "TrainingJobStatus": "Completed",
          "TrainingStartTime": "2022-12-08T15:06:49+01:00",
          "TuningJobName": "bayesian-221208-1449",
          "alpha": 0.2534787615292288,
          "eta": 0.459648296773843,
          "max_depth": 2,
          "min_child_weight": 0.6982555793948164,
          "validation:accuracy": 0.877780020236969
         },
         {
          "TrainingElapsedTimeSeconds": 42,
          "TrainingEndTime": "2022-12-08T15:05:06+01:00",
          "TrainingJobName": "bayesian-221208-1449-036-977ad6fc",
          "TrainingJobStatus": "Completed",
          "TrainingStartTime": "2022-12-08T15:04:24+01:00",
          "TuningJobName": "bayesian-221208-1449",
          "alpha": 0.4599479572300997,
          "eta": 0.4682086973575804,
          "max_depth": 2,
          "min_child_weight": 1.1751197539716065,
          "validation:accuracy": 0.877780020236969
         },
         {
          "TrainingElapsedTimeSeconds": 42,
          "TrainingEndTime": "2022-12-08T14:58:11+01:00",
          "TrainingJobName": "bayesian-221208-1449-015-1b442629",
          "TrainingJobStatus": "Completed",
          "TrainingStartTime": "2022-12-08T14:57:29+01:00",
          "TuningJobName": "bayesian-221208-1449",
          "alpha": 0.2680324652826169,
          "eta": 0.4271119157040212,
          "max_depth": 2,
          "min_child_weight": 1.0583487981397972,
          "validation:accuracy": 0.877780020236969
         },
         {
          "TrainingElapsedTimeSeconds": 42,
          "TrainingEndTime": "2022-12-08T15:01:13+01:00",
          "TrainingJobName": "bayesian-221208-1449-025-f6499879",
          "TrainingJobStatus": "Completed",
          "TrainingStartTime": "2022-12-08T15:00:31+01:00",
          "TuningJobName": "bayesian-221208-1449",
          "alpha": 0.388052583920073,
          "eta": 0.4177428194799322,
          "max_depth": 2,
          "min_child_weight": 1.9763596438957713,
          "validation:accuracy": 0.8796300292015076
         },
         {
          "TrainingElapsedTimeSeconds": 42,
          "TrainingEndTime": "2022-12-08T15:10:25+01:00",
          "TrainingJobName": "bayesian-221208-1449-050-36cfbd1a",
          "TrainingJobStatus": "Completed",
          "TrainingStartTime": "2022-12-08T15:09:43+01:00",
          "TuningJobName": "bayesian-221208-1449",
          "alpha": 0.20738722445804753,
          "eta": 0.462489869981183,
          "max_depth": 2,
          "min_child_weight": 0.7668543700376524,
          "validation:accuracy": 0.8796300292015076
         },
         {
          "TrainingElapsedTimeSeconds": 42,
          "TrainingEndTime": "2022-12-08T14:57:15+01:00",
          "TrainingJobName": "bayesian-221208-1449-011-8727aa41",
          "TrainingJobStatus": "Completed",
          "TrainingStartTime": "2022-12-08T14:56:33+01:00",
          "TuningJobName": "bayesian-221208-1449",
          "alpha": 0.36929219871607477,
          "eta": 0.3947972153151864,
          "max_depth": 2,
          "min_child_weight": 2,
          "validation:accuracy": 0.8796300292015076
         },
         {
          "TrainingElapsedTimeSeconds": 42,
          "TrainingEndTime": "2022-12-08T14:57:00+01:00",
          "TrainingJobName": "bayesian-221208-1449-012-ea8f98f5",
          "TrainingJobStatus": "Completed",
          "TrainingStartTime": "2022-12-08T14:56:18+01:00",
          "TuningJobName": "bayesian-221208-1449",
          "alpha": 0.3330376562067092,
          "eta": 0.4602400537640964,
          "max_depth": 2,
          "min_child_weight": 1.221130453976075,
          "validation:accuracy": 0.8796300292015076
         },
         {
          "TrainingElapsedTimeSeconds": 42,
          "TrainingEndTime": "2022-12-08T14:57:59+01:00",
          "TrainingJobName": "bayesian-221208-1449-014-af01dfe4",
          "TrainingJobStatus": "Completed",
          "TrainingStartTime": "2022-12-08T14:57:17+01:00",
          "TuningJobName": "bayesian-221208-1449",
          "alpha": 0.25314069723747457,
          "eta": 0.46663808770245707,
          "max_depth": 2,
          "min_child_weight": 1.4773953096422883,
          "validation:accuracy": 0.8796300292015076
         },
         {
          "TrainingElapsedTimeSeconds": 42,
          "TrainingEndTime": "2022-12-08T15:04:07+01:00",
          "TrainingJobName": "bayesian-221208-1449-033-a23e87b9",
          "TrainingJobStatus": "Completed",
          "TrainingStartTime": "2022-12-08T15:03:25+01:00",
          "TuningJobName": "bayesian-221208-1449",
          "alpha": 0.4687109940435686,
          "eta": 0.4612363152117579,
          "max_depth": 2,
          "min_child_weight": 0.19598888082678467,
          "validation:accuracy": 0.8814799785614014
         },
         {
          "TrainingElapsedTimeSeconds": 42,
          "TrainingEndTime": "2022-12-08T14:59:16+01:00",
          "TrainingJobName": "bayesian-221208-1449-019-6e3b6f72",
          "TrainingJobStatus": "Completed",
          "TrainingStartTime": "2022-12-08T14:58:34+01:00",
          "TuningJobName": "bayesian-221208-1449",
          "alpha": 0.3588674688282602,
          "eta": 0.42826620961859774,
          "max_depth": 2,
          "min_child_weight": 1.623823420277621,
          "validation:accuracy": 0.8814799785614014
         },
         {
          "TrainingElapsedTimeSeconds": 42,
          "TrainingEndTime": "2022-12-08T15:02:14+01:00",
          "TrainingJobName": "bayesian-221208-1449-028-1a74097e",
          "TrainingJobStatus": "Completed",
          "TrainingStartTime": "2022-12-08T15:01:32+01:00",
          "TuningJobName": "bayesian-221208-1449",
          "alpha": 0.44392344222067975,
          "eta": 0.4552832426582205,
          "max_depth": 2,
          "min_child_weight": 1.9880922503037743,
          "validation:accuracy": 0.8814799785614014
         },
         {
          "TrainingElapsedTimeSeconds": 75,
          "TrainingEndTime": "2022-12-08T15:09:25+01:00",
          "TrainingJobName": "bayesian-221208-1449-046-71e5ecfd",
          "TrainingJobStatus": "Completed",
          "TrainingStartTime": "2022-12-08T15:08:10+01:00",
          "TuningJobName": "bayesian-221208-1449",
          "alpha": 0.024569431912810802,
          "eta": 0.4748724140760582,
          "max_depth": 2,
          "min_child_weight": 1.45452778520711,
          "validation:accuracy": 0.8814799785614014
         },
         {
          "TrainingElapsedTimeSeconds": 43,
          "TrainingEndTime": "2022-12-08T15:06:09+01:00",
          "TrainingJobName": "bayesian-221208-1449-039-ee8ff796",
          "TrainingJobStatus": "Completed",
          "TrainingStartTime": "2022-12-08T15:05:26+01:00",
          "TuningJobName": "bayesian-221208-1449",
          "alpha": 0.3642998301827169,
          "eta": 0.4610346376615895,
          "max_depth": 2,
          "min_child_weight": 0.8030160069813304,
          "validation:accuracy": 0.8814799785614014
         },
         {
          "TrainingElapsedTimeSeconds": 43,
          "TrainingEndTime": "2022-12-08T15:00:57+01:00",
          "TrainingJobName": "bayesian-221208-1449-023-70cbb0b3",
          "TrainingJobStatus": "Completed",
          "TrainingStartTime": "2022-12-08T15:00:14+01:00",
          "TuningJobName": "bayesian-221208-1449",
          "alpha": 0.3413113720374898,
          "eta": 0.40192153240540074,
          "max_depth": 2,
          "min_child_weight": 1.6701777547925143,
          "validation:accuracy": 0.8833299875259399
         },
         {
          "TrainingElapsedTimeSeconds": 42,
          "TrainingEndTime": "2022-12-08T15:10:04+01:00",
          "TrainingJobName": "bayesian-221208-1449-049-2c4d57d7",
          "TrainingJobStatus": "Completed",
          "TrainingStartTime": "2022-12-08T15:09:22+01:00",
          "TuningJobName": "bayesian-221208-1449",
          "alpha": 0.09883960090902681,
          "eta": 0.43573265780513226,
          "max_depth": 2,
          "min_child_weight": 0.21097473775977157,
          "validation:accuracy": 0.8833299875259399
         },
         {
          "TrainingElapsedTimeSeconds": 42,
          "TrainingEndTime": "2022-12-08T15:01:59+01:00",
          "TrainingJobName": "bayesian-221208-1449-026-0c3c5f72",
          "TrainingJobStatus": "Completed",
          "TrainingStartTime": "2022-12-08T15:01:17+01:00",
          "TuningJobName": "bayesian-221208-1449",
          "alpha": 0.17805831117382384,
          "eta": 0.44470478112822287,
          "max_depth": 2,
          "min_child_weight": 1.9817963443498563,
          "validation:accuracy": 0.8833299875259399
         },
         {
          "TrainingElapsedTimeSeconds": 42,
          "TrainingEndTime": "2022-12-08T15:06:00+01:00",
          "TrainingJobName": "bayesian-221208-1449-038-2ca425d9",
          "TrainingJobStatus": "Completed",
          "TrainingStartTime": "2022-12-08T15:05:18+01:00",
          "TuningJobName": "bayesian-221208-1449",
          "alpha": 0.03170562513917427,
          "eta": 0.45344225032659724,
          "max_depth": 2,
          "min_child_weight": 1.6537368842389517,
          "validation:accuracy": 0.8833299875259399
         },
         {
          "TrainingElapsedTimeSeconds": 42,
          "TrainingEndTime": "2022-12-08T14:58:22+01:00",
          "TrainingJobName": "bayesian-221208-1449-016-42f14198",
          "TrainingJobStatus": "Completed",
          "TrainingStartTime": "2022-12-08T14:57:40+01:00",
          "TuningJobName": "bayesian-221208-1449",
          "alpha": 0.32889871044900254,
          "eta": 0.4334722686960957,
          "max_depth": 2,
          "min_child_weight": 1.9880563987730788,
          "validation:accuracy": 0.8851799964904785
         },
         {
          "TrainingElapsedTimeSeconds": 42,
          "TrainingEndTime": "2022-12-08T15:04:58+01:00",
          "TrainingJobName": "bayesian-221208-1449-035-c7eef584",
          "TrainingJobStatus": "Completed",
          "TrainingStartTime": "2022-12-08T15:04:16+01:00",
          "TuningJobName": "bayesian-221208-1449",
          "alpha": 0.24935843832454033,
          "eta": 0.45918111243312143,
          "max_depth": 2,
          "min_child_weight": 0.217436944745397,
          "validation:accuracy": 0.8851799964904785
         },
         {
          "TrainingElapsedTimeSeconds": 42,
          "TrainingEndTime": "2022-12-08T15:10:03+01:00",
          "TrainingJobName": "bayesian-221208-1449-048-762e1a26",
          "TrainingJobStatus": "Completed",
          "TrainingStartTime": "2022-12-08T15:09:21+01:00",
          "TuningJobName": "bayesian-221208-1449",
          "alpha": 0.18731365377721929,
          "eta": 0.4680566499290433,
          "max_depth": 2,
          "min_child_weight": 1.968360939941302,
          "validation:accuracy": 0.8851799964904785
         },
         {
          "TrainingElapsedTimeSeconds": 42,
          "TrainingEndTime": "2022-12-08T14:57:25+01:00",
          "TrainingJobName": "bayesian-221208-1449-013-ffbded25",
          "TrainingJobStatus": "Completed",
          "TrainingStartTime": "2022-12-08T14:56:43+01:00",
          "TuningJobName": "bayesian-221208-1449",
          "alpha": 0.34646423804367277,
          "eta": 0.4378313572646234,
          "max_depth": 2,
          "min_child_weight": 1.971598795578219,
          "validation:accuracy": 0.8870400190353394
         },
         {
          "TrainingElapsedTimeSeconds": 42,
          "TrainingEndTime": "2022-12-08T15:02:08+01:00",
          "TrainingJobName": "bayesian-221208-1449-027-49ec0986",
          "TrainingJobStatus": "Completed",
          "TrainingStartTime": "2022-12-08T15:01:26+01:00",
          "TuningJobName": "bayesian-221208-1449",
          "alpha": 0.48001665049752756,
          "eta": 0.5,
          "max_depth": 2,
          "min_child_weight": 1.657168193099596,
          "validation:accuracy": 0.8870400190353394
         },
         {
          "TrainingElapsedTimeSeconds": 42,
          "TrainingEndTime": "2022-12-08T15:06:33+01:00",
          "TrainingJobName": "bayesian-221208-1449-040-77730d69",
          "TrainingJobStatus": "Completed",
          "TrainingStartTime": "2022-12-08T15:05:51+01:00",
          "TuningJobName": "bayesian-221208-1449",
          "alpha": 0.32263683434310203,
          "eta": 0.4611684193861232,
          "max_depth": 2,
          "min_child_weight": 1.9851115339178544,
          "validation:accuracy": 0.8888900279998779
         }
        ]
       },
       "vconcat": [
        {
         "hconcat": [
          {
           "data": {
            "name": "data-0cf4862389f252ccf59e4cf6b524ef96"
           },
           "encoding": {
            "opacity": {
             "condition": {
              "selection": "selector001",
              "value": 1
             },
             "value": 0.35
            },
            "shape": {
             "field": "TrainingJobStatus",
             "legend": null,
             "type": "nominal"
            },
            "stroke": {
             "condition": {
              "selection": "selector002",
              "value": "gold"
             },
             "value": "white"
            },
            "strokeWidth": {
             "condition": {
              "selection": "selector002",
              "value": 2
             },
             "value": 2
            },
            "tooltip": [
             {
              "field": "validation:accuracy",
              "format": ".2e",
              "type": "quantitative"
             },
             {
              "field": "max_depth",
              "format": ".2e",
              "type": "quantitative"
             },
             {
              "field": "alpha",
              "format": ".2e",
              "type": "quantitative"
             },
             {
              "field": "eta",
              "format": ".2e",
              "type": "quantitative"
             },
             {
              "field": "min_child_weight",
              "format": ".2e",
              "type": "quantitative"
             },
             {
              "field": "TrainingStartTime",
              "format": "%H:%M:%S",
              "type": "temporal"
             },
             {
              "field": "TrainingJobName",
              "type": "nominal"
             },
             {
              "field": "TrainingJobStatus",
              "type": "nominal"
             },
             {
              "field": "TrainingElapsedTimeSeconds",
              "type": "quantitative"
             }
            ],
            "x": {
             "field": "TrainingStartTime",
             "scale": {
              "nice": true
             },
             "type": "temporal"
            },
            "y": {
             "axis": {
              "title": "validation:accuracy"
             },
             "field": "validation:accuracy",
             "scale": {
              "padding": 1,
              "zero": false
             },
             "type": "quantitative"
            }
           },
           "mark": {
            "filled": true,
            "size": 50,
            "type": "point"
           },
           "selection": {
            "selector001": {
             "empty": "all",
             "encodings": [
              "x"
             ],
             "resolve": "intersect",
             "type": "interval"
            },
            "selector002": {
             "empty": "none",
             "fields": [
              "TrainingJobName",
              "TrainingStartTime"
             ],
             "nearest": false,
             "on": "mouseover",
             "type": "single"
            }
           }
          },
          {
           "data": {
            "name": "data-095c0a31a1f7b2a633c83ac6ebaa1134"
           },
           "encoding": {
            "x": {
             "field": "value",
             "scale": {
              "domain": [
               0.8296300172805786,
               0.8888900279998779
              ]
             },
             "title": "validation:accuracy",
             "type": "quantitative"
            },
            "y": {
             "field": "density",
             "type": "quantitative"
            }
           },
           "mark": "area",
           "transform": [
            {
             "filter": {
              "selection": "selector001"
             }
            },
            {
             "bandwidth": 0.01,
             "density": "validation:accuracy"
            }
           ]
          }
         ],
         "title": "Hyper Parameter Tuning Job"
        },
        {
         "data": {
          "name": "data-095c0a31a1f7b2a633c83ac6ebaa1134"
         },
         "title": "Hyper Parameter Details",
         "vconcat": [
          {
           "hconcat": [
            {
             "encoding": {
              "opacity": {
               "condition": {
                "selection": "selector001",
                "value": 1
               },
               "value": 0.35
              },
              "shape": {
               "field": "TrainingJobStatus",
               "legend": null,
               "type": "nominal"
              },
              "stroke": {
               "condition": {
                "selection": "selector002",
                "value": "gold"
               },
               "value": "white"
              },
              "strokeWidth": {
               "condition": {
                "selection": "selector002",
                "value": 2
               },
               "value": 2
              },
              "tooltip": [
               {
                "field": "validation:accuracy",
                "format": ".2e",
                "type": "quantitative"
               },
               {
                "field": "max_depth",
                "format": ".2e",
                "type": "quantitative"
               },
               {
                "field": "alpha",
                "format": ".2e",
                "type": "quantitative"
               },
               {
                "field": "eta",
                "format": ".2e",
                "type": "quantitative"
               },
               {
                "field": "min_child_weight",
                "format": ".2e",
                "type": "quantitative"
               },
               {
                "field": "TrainingStartTime",
                "format": "%H:%M:%S",
                "type": "temporal"
               },
               {
                "field": "TrainingJobName",
                "type": "nominal"
               },
               {
                "field": "TrainingJobStatus",
                "type": "nominal"
               },
               {
                "field": "TrainingElapsedTimeSeconds",
                "type": "quantitative"
               }
              ],
              "x": {
               "field": "max_depth",
               "scale": {
                "base": 10,
                "padding": 1,
                "type": "linear",
                "zero": false
               },
               "type": "quantitative"
              },
              "y": {
               "axis": {
                "title": "validation:accuracy"
               },
               "field": "validation:accuracy",
               "scale": {
                "padding": 1,
                "zero": false
               },
               "type": "quantitative"
              }
             },
             "mark": {
              "filled": true,
              "size": 50,
              "type": "point"
             },
             "selection": {
              "selector001": {
               "empty": "all",
               "encodings": [
                "x"
               ],
               "resolve": "intersect",
               "type": "interval"
              },
              "selector002": {
               "empty": "none",
               "fields": [
                "TrainingJobName",
                "TrainingStartTime"
               ],
               "nearest": false,
               "on": "mouseover",
               "type": "single"
              }
             }
            },
            {
             "encoding": {
              "opacity": {
               "condition": {
                "selection": "selector001",
                "value": 1
               },
               "value": 0.35
              },
              "shape": {
               "field": "TrainingJobStatus",
               "legend": null,
               "type": "nominal"
              },
              "stroke": {
               "condition": {
                "selection": "selector002",
                "value": "gold"
               },
               "value": "white"
              },
              "strokeWidth": {
               "condition": {
                "selection": "selector002",
                "value": 2
               },
               "value": 2
              },
              "tooltip": [
               {
                "field": "validation:accuracy",
                "format": ".2e",
                "type": "quantitative"
               },
               {
                "field": "max_depth",
                "format": ".2e",
                "type": "quantitative"
               },
               {
                "field": "alpha",
                "format": ".2e",
                "type": "quantitative"
               },
               {
                "field": "eta",
                "format": ".2e",
                "type": "quantitative"
               },
               {
                "field": "min_child_weight",
                "format": ".2e",
                "type": "quantitative"
               },
               {
                "field": "TrainingStartTime",
                "format": "%H:%M:%S",
                "type": "temporal"
               },
               {
                "field": "TrainingJobName",
                "type": "nominal"
               },
               {
                "field": "TrainingJobStatus",
                "type": "nominal"
               },
               {
                "field": "TrainingElapsedTimeSeconds",
                "type": "quantitative"
               }
              ],
              "x": {
               "field": "alpha",
               "scale": {
                "base": 10,
                "padding": 1,
                "type": "linear",
                "zero": false
               },
               "type": "quantitative"
              },
              "y": {
               "axis": {
                "title": "validation:accuracy"
               },
               "field": "validation:accuracy",
               "scale": {
                "padding": 1,
                "zero": false
               },
               "type": "quantitative"
              }
             },
             "mark": {
              "filled": true,
              "size": 50,
              "type": "point"
             },
             "selection": {
              "selector001": {
               "empty": "all",
               "encodings": [
                "x"
               ],
               "resolve": "intersect",
               "type": "interval"
              },
              "selector002": {
               "empty": "none",
               "fields": [
                "TrainingJobName",
                "TrainingStartTime"
               ],
               "nearest": false,
               "on": "mouseover",
               "type": "single"
              }
             }
            }
           ]
          },
          {
           "hconcat": [
            {
             "encoding": {
              "opacity": {
               "condition": {
                "selection": "selector001",
                "value": 1
               },
               "value": 0.35
              },
              "shape": {
               "field": "TrainingJobStatus",
               "legend": null,
               "type": "nominal"
              },
              "stroke": {
               "condition": {
                "selection": "selector002",
                "value": "gold"
               },
               "value": "white"
              },
              "strokeWidth": {
               "condition": {
                "selection": "selector002",
                "value": 2
               },
               "value": 2
              },
              "tooltip": [
               {
                "field": "validation:accuracy",
                "format": ".2e",
                "type": "quantitative"
               },
               {
                "field": "max_depth",
                "format": ".2e",
                "type": "quantitative"
               },
               {
                "field": "alpha",
                "format": ".2e",
                "type": "quantitative"
               },
               {
                "field": "eta",
                "format": ".2e",
                "type": "quantitative"
               },
               {
                "field": "min_child_weight",
                "format": ".2e",
                "type": "quantitative"
               },
               {
                "field": "TrainingStartTime",
                "format": "%H:%M:%S",
                "type": "temporal"
               },
               {
                "field": "TrainingJobName",
                "type": "nominal"
               },
               {
                "field": "TrainingJobStatus",
                "type": "nominal"
               },
               {
                "field": "TrainingElapsedTimeSeconds",
                "type": "quantitative"
               }
              ],
              "x": {
               "field": "eta",
               "scale": {
                "base": 10,
                "padding": 1,
                "type": "linear",
                "zero": false
               },
               "type": "quantitative"
              },
              "y": {
               "axis": {
                "title": "validation:accuracy"
               },
               "field": "validation:accuracy",
               "scale": {
                "padding": 1,
                "zero": false
               },
               "type": "quantitative"
              }
             },
             "mark": {
              "filled": true,
              "size": 50,
              "type": "point"
             },
             "selection": {
              "selector001": {
               "empty": "all",
               "encodings": [
                "x"
               ],
               "resolve": "intersect",
               "type": "interval"
              },
              "selector002": {
               "empty": "none",
               "fields": [
                "TrainingJobName",
                "TrainingStartTime"
               ],
               "nearest": false,
               "on": "mouseover",
               "type": "single"
              }
             }
            },
            {
             "encoding": {
              "opacity": {
               "condition": {
                "selection": "selector001",
                "value": 1
               },
               "value": 0.35
              },
              "shape": {
               "field": "TrainingJobStatus",
               "legend": null,
               "type": "nominal"
              },
              "stroke": {
               "condition": {
                "selection": "selector002",
                "value": "gold"
               },
               "value": "white"
              },
              "strokeWidth": {
               "condition": {
                "selection": "selector002",
                "value": 2
               },
               "value": 2
              },
              "tooltip": [
               {
                "field": "validation:accuracy",
                "format": ".2e",
                "type": "quantitative"
               },
               {
                "field": "max_depth",
                "format": ".2e",
                "type": "quantitative"
               },
               {
                "field": "alpha",
                "format": ".2e",
                "type": "quantitative"
               },
               {
                "field": "eta",
                "format": ".2e",
                "type": "quantitative"
               },
               {
                "field": "min_child_weight",
                "format": ".2e",
                "type": "quantitative"
               },
               {
                "field": "TrainingStartTime",
                "format": "%H:%M:%S",
                "type": "temporal"
               },
               {
                "field": "TrainingJobName",
                "type": "nominal"
               },
               {
                "field": "TrainingJobStatus",
                "type": "nominal"
               },
               {
                "field": "TrainingElapsedTimeSeconds",
                "type": "quantitative"
               }
              ],
              "x": {
               "field": "min_child_weight",
               "scale": {
                "base": 10,
                "padding": 1,
                "type": "linear",
                "zero": false
               },
               "type": "quantitative"
              },
              "y": {
               "axis": {
                "title": "validation:accuracy"
               },
               "field": "validation:accuracy",
               "scale": {
                "padding": 1,
                "zero": false
               },
               "type": "quantitative"
              }
             },
             "mark": {
              "filled": true,
              "size": 50,
              "type": "point"
             },
             "selection": {
              "selector001": {
               "empty": "all",
               "encodings": [
                "x"
               ],
               "resolve": "intersect",
               "type": "interval"
              },
              "selector002": {
               "empty": "none",
               "fields": [
                "TrainingJobName",
                "TrainingStartTime"
               ],
               "nearest": false,
               "on": "mouseover",
               "type": "single"
              }
             }
            }
           ]
          }
         ]
        },
        {
         "vconcat": [
          {
           "data": {
            "name": "data-cae59fd61303cc592477f52acd55aa13"
           },
           "encoding": {
            "color": {
             "field": "TrainingJobName",
             "type": "nominal"
            },
            "opacity": {
             "condition": {
              "selection": "selector001",
              "value": 1
             },
             "value": 0.35
            },
            "shape": {
             "field": "TrainingJobStatus",
             "legend": null,
             "type": "nominal"
            },
            "stroke": {
             "condition": {
              "selection": "selector002",
              "value": "gold"
             },
             "value": "white"
            },
            "strokeWidth": {
             "condition": {
              "selection": "selector002",
              "value": 2
             },
             "value": 2
            },
            "x": {
             "field": "TrainingJobName",
             "sort": null,
             "type": "nominal"
            },
            "y": {
             "field": "validation:accuracy",
             "type": "quantitative"
            }
           },
           "mark": "bar",
           "selection": {
            "selector001": {
             "empty": "all",
             "encodings": [
              "x"
             ],
             "resolve": "intersect",
             "type": "interval"
            },
            "selector002": {
             "empty": "none",
             "fields": [
              "TrainingJobName",
              "TrainingStartTime"
             ],
             "nearest": false,
             "on": "mouseover",
             "type": "single"
            }
           },
           "title": "Training Jobs"
          },
          {
           "hconcat": []
          }
         ]
        }
       ]
      },
      "image/png": "[encoded data removed]",
      "text/plain": [
       "<VegaLite 4 object>\n",
       "\n",
       "If you see this message, it means the renderer has not been properly enabled\n",
       "for the frontend that you are using. For more information, see\n",
       "https://altair-viz.github.io/user_guide/troubleshooting.html\n"
      ]
     },
     "execution_count": 22,
     "metadata": {},
     "output_type": "execute_result"
    }
   ],
   "source": [
    "from amtviz import visualize_tuning_job\n",
    "visualize_tuning_job(tuner, trials_only=True) "
   ]
  },
  {
   "cell_type": "markdown",
   "id": "c2492c2e-8828-4e72-a765-b93295130958",
   "metadata": {},
   "source": [
    "## Cleanup \n",
    "\n",
    "To avoid incurring unwanted costs when you’re done experimenting with HPO, you must remove all files in your S3 bucket with the prefix `amt-visualize-demo` and also [shut down Studio resources](https://docs.aws.amazon.com/sagemaker/latest/dg/notebooks-run-and-manage-shut-down.html).\n",
    "\n",
    "Uncomment and run the following code to remove all S3 files created by this notebook. Note that`{BUCKET}` is the variable with our bucket name that we defined earlier, you may also write your bucket name as plaintext here.\n",
    "\n",
    "If you wish to keep the datasets or the model artifacts, you may modify the prefix in the code to `amt-visualize-demo/data` to only delete the data or `amt-visualize-demo/output` to only delete the model artifacts."
   ]
  },
  {
   "cell_type": "code",
   "execution_count": 23,
   "id": "fb06325f-1eaf-4faf-aacc-c2eab84203b9",
   "metadata": {},
   "outputs": [],
   "source": [
    "#!aws s3 rm s3://{BUCKET}/amt-visualize-demo --recursive"
   ]
  }
 ],
 "metadata": {
  "instance_type": "ml.t3.medium",
  "kernelspec": {
   "display_name": "Python 3 (ipykernel)",
   "language": "python",
   "name": "python3"
  },
  "language_info": {
   "codemirror_mode": {
    "name": "ipython",
    "version": 3
   },
   "file_extension": ".py",
   "mimetype": "text/x-python",
   "name": "python",
   "nbconvert_exporter": "python",
   "pygments_lexer": "ipython3",
   "version": "3.9.12"
  }
 },
 "nbformat": 4,
 "nbformat_minor": 5
}
