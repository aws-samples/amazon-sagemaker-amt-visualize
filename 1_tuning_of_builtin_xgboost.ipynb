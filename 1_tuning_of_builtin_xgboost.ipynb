{
 "cells": [
  {
   "cell_type": "markdown",
   "id": "f5ff558a",
   "metadata": {},
   "source": [
    "# Getting Started With Hyperparameter Optimization Using Amazon SageMaker Automatic Model Tuning"
   ]
  },
  {
   "cell_type": "markdown",
   "id": "5de78624",
   "metadata": {},
   "source": [
    "## Background - What are we doing?"
   ]
  },
  {
   "cell_type": "markdown",
   "id": "2e5942a0",
   "metadata": {},
   "source": [
    "Machine Learning (ML) models are getting better and better. Subsequently they are taking the world by storm. Their performance relies on the right training data and choosing the right model/algorithm. But it does not end here. Typically, algorithms defer some design decisions to the ML practitioner to adopt for their specific data and task. These deferred design decisions manifest themselves as so called *hyperparameters*.\n",
    "\n",
    "What does that name mean? The result of a machine learning training, the model, can be largely seen as a collection of parameters that were learned during training. Hence the parameters that are used to configure the machine learning training are then called hyperparameters, i.e. parameters describing the creation of parameters. At any rate, they are of very practical use, such as the number of epochs to train, the learning rate, the max depth of a decision tree and so forth. And they have a major impact on the ultimate performance of your model.\n",
    "\n",
    "Selecting the right parameters and their value ranges starts with the practitioner's theoretical knowledge of the model to train. This defines the boundaries of the search space, but then it is also necessary to explore this search space empirically to find a good combination of parameters that will results in a high performing model.\n",
    "\n",
    "Luckily, we do not have to manually search that space, but SageMaker Automatic Model Tuning (AMT) is here to help. We point AMT in the right direction by defining the overall search space and AMT then takes over and coordinates the exploration of that space and fully automatically runs training jobs to efficiently evaluate the space. This then results in a good combination of hyper parameter values to train a high performing model.\n",
    "\n",
    "*In an upcoming article we will extend the notion of __just__ finding the best parameters to then __also__ include learning about the search space and to what parameter ranges a model is sensitive, as well as turning a one-shot tuning activity into a multi-step conversation with the ML practitioner, to learn together. Exciting!*\n",
    "\n",
    "In this tutorial we will walk through Amazon SageMaker Automatic Model Tuning (AMT), using a built-in XGBoost algorithm provided by Amazon SageMaker. Additional information can be found in the documentation pages below:\n",
    "* For more information on running a simple hyperparameter tuning job: https://docs.aws.amazon.com/sagemaker/latest/dg/automatic-model-tuning-ex.html\n",
    "* For documentation on using the HyperParameterTuner API with the SageMaker Python SDK: https://sagemaker.readthedocs.io/en/stable/api/training/tuner.html"
   ]
  },
  {
   "cell_type": "markdown",
   "id": "98b94b14",
   "metadata": {
    "tags": []
   },
   "source": [
    "## Overview"
   ]
  },
  {
   "cell_type": "markdown",
   "id": "be19071f",
   "metadata": {},
   "source": [
    "This notebook is split into the following sections:\n",
    "* Setup and Imports\n",
    "* Load and Prepare dataset\n",
    "* Train a SageMaker Built-In XGBoost Algorithm\n",
    "* Train and Tune a SageMaker Built-In XGBoost Algorithm\n",
    "* View the AMT job statistics \n",
    "* Visualize AMT job results and tuned Hyperparameters\n"
   ]
  },
  {
   "cell_type": "markdown",
   "id": "a7bdc149",
   "metadata": {},
   "source": [
    "### Setup and Imports"
   ]
  },
  {
   "cell_type": "code",
   "execution_count": 2,
   "id": "42fbced5",
   "metadata": {},
   "outputs": [],
   "source": [
    "%load_ext autoreload\n",
    "%autoreload 2\n",
    "\n",
    "%matplotlib inline"
   ]
  },
  {
   "cell_type": "markdown",
   "id": "ff377769",
   "metadata": {},
   "source": [
    "We ran this notebook using Amazon SageMaker with the version you see in the output of the next cell below. If your version is lower and you encounter issues, we recommend uncommenting the code below to upgrade your pip and SageMaker versions. Make sure to restart your kernel after upgrading for the changes to take effect."
   ]
  },
  {
   "cell_type": "code",
   "execution_count": 3,
   "id": "93a48804",
   "metadata": {},
   "outputs": [
    {
     "data": {
      "text/plain": [
       "'2.107.0'"
      ]
     },
     "execution_count": 3,
     "metadata": {},
     "output_type": "execute_result"
    }
   ],
   "source": [
    "import sagemaker\n",
    "\n",
    "sagemaker.__version__ "
   ]
  },
  {
   "cell_type": "code",
   "execution_count": 4,
   "id": "4b3e12c9",
   "metadata": {},
   "outputs": [],
   "source": [
    "#!pip install --upgrade --quiet pip \"sagemaker>=2.107.0\" # upgrade SageMaker to the recommended version"
   ]
  },
  {
   "cell_type": "code",
   "execution_count": 5,
   "id": "ea894e19",
   "metadata": {},
   "outputs": [],
   "source": [
    "import io\n",
    "import os\n",
    "import argparse\n",
    "import traceback\n",
    "import boto3\n",
    "import numpy as np\n",
    "import pandas as pd\n",
    "\n",
    "from pathlib import Path"
   ]
  },
  {
   "cell_type": "code",
   "execution_count": 6,
   "id": "989a1a24",
   "metadata": {},
   "outputs": [],
   "source": [
    "# SDK setup\n",
    "role = sagemaker.get_execution_role()\n",
    "region = boto3.Session().region_name\n",
    "sm = boto3.client('sagemaker')\n",
    "boto_sess = boto3.Session(region_name=region)\n",
    "sm_sess = sagemaker.session.Session(boto_session=boto_sess, sagemaker_client=sm)"
   ]
  },
  {
   "cell_type": "code",
   "execution_count": 7,
   "id": "d32da355",
   "metadata": {},
   "outputs": [
    {
     "data": {
      "text/plain": [
       "'s3://sagemaker-us-east-1-734664314071/amt-visualize-demo/data/output'"
      ]
     },
     "execution_count": 7,
     "metadata": {},
     "output_type": "execute_result"
    }
   ],
   "source": [
    "# Data layout and locations. \n",
    "# To store our data we are using a prefix in the Amazon SageMaker default bucket. Feel free to adjust to your preferences.\n",
    "\n",
    "BUCKET = sm_sess.default_bucket()\n",
    "PREFIX = 'amt-visualize-demo/data'\n",
    "s3_data_url = f's3://{BUCKET}/{PREFIX}'\n",
    "\n",
    "# Eventual output destination for our XGBoost model\n",
    "output_path = f's3://{BUCKET}/{PREFIX}/output'\n",
    "output_path"
   ]
  },
  {
   "cell_type": "markdown",
   "id": "5d9aa8ba",
   "metadata": {},
   "source": [
    "## Load and Prepare dataset "
   ]
  },
  {
   "cell_type": "code",
   "execution_count": 8,
   "id": "b7991a2e",
   "metadata": {},
   "outputs": [],
   "source": [
    "!mkdir -p data"
   ]
  },
  {
   "cell_type": "markdown",
   "id": "f692b6fd",
   "metadata": {},
   "source": [
    "The focus of this notebook is on Hyperparameter Optimization. Hence the actual task and data only play a supporting role. But to give some brief context, we are optimizing the hyperparameters of an XGBoost model that should classify handwritten digits. We use the [Optical Recognition of Handwritten Digits Data Set](https://archive.ics.uci.edu/ml/datasets/Optical+Recognition+of+Handwritten+Digits) via scikit-learn. "
   ]
  },
  {
   "cell_type": "code",
   "execution_count": 9,
   "id": "766f77da",
   "metadata": {},
   "outputs": [],
   "source": [
    "from sklearn import datasets\n",
    "\n",
    "digits         = datasets.load_digits()\n",
    "digits_df      = pd.DataFrame(digits.data)\n",
    "digits_df['y'] = digits.target\n",
    "digits_df.insert(0, 'y', digits_df.pop('y')) # XGBoost expects the target to be the first column "
   ]
  },
  {
   "cell_type": "code",
   "execution_count": 10,
   "id": "3aa782e9-7449-4e16-8ff8-206e89295313",
   "metadata": {},
   "outputs": [
    {
     "name": "stdout",
     "output_type": "stream",
     "text": [
      "digit: 4\n"
     ]
    },
    {
     "data": {
      "image/png": "[encoded data removed]",
      "text/plain": [
       "<Figure size 640x480 with 1 Axes>"
      ]
     },
     "metadata": {},
     "output_type": "display_data"
    }
   ],
   "source": [
    "from matplotlib import pyplot as plt\n",
    "\n",
    "print('digit:', int(digits_df.iloc[100].y))\n",
    "plt.imshow(digits_df.iloc[100, 1:].values.reshape(8, -1));"
   ]
  },
  {
   "cell_type": "code",
   "execution_count": 11,
   "id": "a966c3c4",
   "metadata": {},
   "outputs": [],
   "source": [
    "# randomly sort the data then split out into train 70% and validation 30% sets\n",
    "train_data, valid_data= np.split(\n",
    "    digits_df, [int(0.7 * len(digits_df))]\n",
    ")"
   ]
  },
  {
   "cell_type": "code",
   "execution_count": 12,
   "id": "aa2ed25a",
   "metadata": {},
   "outputs": [],
   "source": [
    "train_data.to_csv('data/train.csv', index=False, header=False)\n",
    "valid_data.to_csv('data/valid.csv', index=False, header=False)"
   ]
  },
  {
   "cell_type": "code",
   "execution_count": 13,
   "id": "4b16f3fe",
   "metadata": {},
   "outputs": [],
   "source": [
    "boto_sess.resource('s3').Bucket(BUCKET).Object(os.path.join(PREFIX, 'train/train.csv')).upload_file('data/train.csv')\n",
    "boto_sess.resource('s3').Bucket(BUCKET).Object(os.path.join(PREFIX, 'valid/valid.csv')).upload_file('data/valid.csv')"
   ]
  },
  {
   "cell_type": "markdown",
   "id": "50cae59b",
   "metadata": {},
   "source": [
    "We upload our train and validation datasets into [Amazon S3](https://aws.amazon.com/s3/). Amazon SageMaker will launch training jobs on our behalf and those will read the data directly from S3."
   ]
  },
  {
   "cell_type": "markdown",
   "id": "764ce001",
   "metadata": {},
   "source": [
    "## Train an Amazon SageMaker Built-In XGBoost Algorithm"
   ]
  },
  {
   "cell_type": "markdown",
   "id": "c3313257",
   "metadata": {},
   "source": [
    "SageMaker provides many [built-in algorithms](https://docs.aws.amazon.com/sagemaker/latest/dg/algos.html). For our example we use the popular XGBoost algorithm. To select it for our training it is identified by an image URI as described in the docs here:\n",
    "https://docs.aws.amazon.com/sagemaker/latest/dg/xgboost.html\n",
    "\n",
    "In below code you can see how we lookup the respective image and version of the algorithm. We then define the hyperparameters and instantiate an Estimator that describes our training. For a list of hyperparameters and their meaning for this algorithm check out the [documentation](https://docs.aws.amazon.com/sagemaker/latest/dg/xgboost_hyperparameters.html). \n",
    "\n",
    "Please recognize that for our small dataset we also specify the use of a small CPU based instance type for our training, specifically `ml.m5.large`.\n",
    "\n",
    "Eventually we call `fit()` to start the training and to pass in references to where our training and validation data can be found. \n",
    "\n",
    "__Side note__: Strictly speaking it would not be necessary to call the `fit()` method here for an individual training run. We will let SageMaker Automatic Model Tuning (AMT) instantiate and control the individual training runs later. We just need to pass in the Estimator we defined here as a template. We could comment out the call to `fit()`.\n",
    "\n",
    "However, calling `fit()` shows us how one training run works and helps us to get acquainted with the algorithm and the log outputs. This works even though the actual execution is happening on a different EC2 machine. SageMaker makes the log outputs directly available in this notebook here. Neat, right?"
   ]
  },
  {
   "cell_type": "code",
   "execution_count": 14,
   "id": "1bb7e00e",
   "metadata": {},
   "outputs": [
    {
     "name": "stdout",
     "output_type": "stream",
     "text": [
      "Algorithm container image: 683313688378.dkr.ecr.us-east-1.amazonaws.com/sagemaker-xgboost:1.5-1\n",
      "2022-11-02 08:34:52 Starting - Starting the training job...\n",
      "2022-11-02 08:35:17 Starting - Preparing the instances for trainingProfilerReport-1667378092: InProgress\n",
      ".........\n",
      "2022-11-02 08:36:38 Downloading - Downloading input data......\n",
      "2022-11-02 08:37:44 Training - Downloading the training image...\n",
      "2022-11-02 08:38:24 Training - Training image download completed. Training in progress...\n",
      "2022-11-02 08:38:51 Uploading - Uploading generated training model\n",
      "2022-11-02 08:38:51 Completed - Training job completed\n",
      "Training seconds: 132\n",
      "Billable seconds: 132\n",
      "CPU times: user 494 ms, sys: 22.5 ms, total: 516 ms\n",
      "Wall time: 4min 12s\n"
     ]
    }
   ],
   "source": [
    "%%time\n",
    "from sagemaker import image_uris\n",
    "from sagemaker.session import Session\n",
    "from sagemaker.inputs import TrainingInput\n",
    "\n",
    "\n",
    "# lookup the XGBoost image URI and build an XGBoost container\n",
    "xgboost_container = sagemaker.image_uris.retrieve('xgboost', region, '1.5-1')\n",
    "print('Algorithm container image:', xgboost_container)\n",
    "\n",
    "hyperparameters = {\n",
    "        'num_class': 10,\n",
    "        'max_depth': 5,\n",
    "        'eta':0.2,\n",
    "        'alpha': 0.2, \n",
    "        'objective':'multi:softmax',\n",
    "        'eval_metric':'accuracy',\n",
    "        'num_round':200,\n",
    "        'early_stopping_rounds': 5}\n",
    "\n",
    "# construct a SageMaker estimator that calls the XGBoost container\n",
    "estimator = sagemaker.estimator.Estimator(\n",
    "    image_uri=xgboost_container, \n",
    "    hyperparameters=hyperparameters,\n",
    "    role=role,\n",
    "    instance_count=1, \n",
    "    instance_type='ml.m5.large', \n",
    "    volume_size=5, # 5 GB \n",
    "    output_path=output_path\n",
    ")\n",
    "\n",
    "# define the data type and paths to the training and validation datasets\n",
    "s3_input_train = TrainingInput(s3_data=f's3://{BUCKET}/{PREFIX}/train', content_type='csv')\n",
    "s3_input_valid = TrainingInput(s3_data=f's3://{BUCKET}/{PREFIX}/valid', content_type='csv')\n",
    "\n",
    "# execute the XGBoost training job\n",
    "estimator.fit({'train': s3_input_train, 'validation': s3_input_valid}) # Optional. See comment above this cell."
   ]
  },
  {
   "cell_type": "markdown",
   "id": "17b7cb64",
   "metadata": {},
   "source": [
    "## Train and Tune an Amazon SageMaker Built-In XGBoost Algorithm\n",
    "\n",
    "Analogous to the Estimator above we now setup the HyperparameterTuner. We pass in the estimator object as a template for the trials to be run and a range of hyperparameters to define what search space to explore. Our documentation on [tuning XGBoost](https://docs.aws.amazon.com/sagemaker/latest/dg/xgboost-tuning.html) gives you some tips on choosing parameter ranges and which objective to use.\n",
    "\n",
    "You also see that we specify the number of training jobs to be run in total, as well as how many should run in parallel. Further you can select among many [strategies](https://docs.aws.amazon.com/sagemaker/latest/APIReference/API_HyperParameterTuningJobConfig.html#sagemaker-Type-HyperParameterTuningJobConfig-Strategy). In this notebook we use `Bayesian` as strategy. It uses a systematic approach to evaluate the search space. And it incorporates knowledge gained from earlier training runs (trials) when picking better hyperparameters to evaluate in the later trials, during the same __tuning__ job run. \n",
    "\n",
    "*Bayesian Search as a strategy is an excellent default. In an upcoming notebook and article we will additionally contrast and compare different strategies.*"
   ]
  },
  {
   "cell_type": "code",
   "execution_count": 15,
   "id": "34dffc8e",
   "metadata": {},
   "outputs": [],
   "source": [
    "from sagemaker.tuner import IntegerParameter, ContinuousParameter, HyperparameterTuner\n",
    "\n",
    "n_jobs = 50\n",
    "n_parallel_jobs = 3\n",
    "\n",
    "hpt_ranges = {\n",
    "    'alpha': ContinuousParameter(0.01, .5),\n",
    "    'eta': ContinuousParameter(0.1, .5),\n",
    "    'min_child_weight': ContinuousParameter(0., 2.),\n",
    "    'max_depth': IntegerParameter(1, 10)\n",
    "}\n",
    "\n",
    "tuner_parameters = {\n",
    "    'estimator': estimator,\n",
    "    'base_tuning_job_name': 'bayesian',                   \n",
    "    'objective_metric_name': 'validation:accuracy',\n",
    "    'objective_type': 'Maximize',\n",
    "    'hyperparameter_ranges': hpt_ranges,\n",
    "    'strategy': 'Bayesian',\n",
    "    'max_jobs': n_jobs,\n",
    "    'max_parallel_jobs': n_parallel_jobs\n",
    "}"
   ]
  },
  {
   "cell_type": "markdown",
   "id": "6c39e3b4-6f17-4e55-88b1-978128f89b58",
   "metadata": {},
   "source": [
    "Analogous to the actual training with the estimator above, we also kick things off by calling `fit()`. This time on the HyperparameterTuner."
   ]
  },
  {
   "cell_type": "code",
   "execution_count": 16,
   "id": "10fee5f3",
   "metadata": {},
   "outputs": [
    {
     "name": "stdout",
     "output_type": "stream",
     "text": [
      "tuning job submitted: bayesian-221102-0839.\n"
     ]
    }
   ],
   "source": [
    "tuner = HyperparameterTuner(**tuner_parameters)\n",
    "tuner.fit({'train': s3_input_train, 'validation': s3_input_valid}, wait=False)\n",
    "tuner_name = tuner.describe()['HyperParameterTuningJobName']\n",
    "print(f'tuning job submitted: {tuner_name}.')"
   ]
  },
  {
   "cell_type": "markdown",
   "id": "1da71ca8-27a2-49a3-a227-346c0cac80a7",
   "metadata": {},
   "source": [
    "Amazon SageMaker AMT, here the HyperparameterTuner, now orchestrates different training jobs (trials) over a period of time. \n",
    "\n",
    "We use `tuner.wait()` to pause this notebook's execution until the AMT job is completed and we can work with the results. Depending on the number of jobs and the level of parallelization this may take some time. For the example below it may take up to 30 minutes for 50 jobs. During this time you can view the status of your jobs in the console by navigating to Amazon SageMaker > Training > Hyperparameter tuning jobs.\n",
    "\n",
    "For more information on AMT job monitoring, see: https://docs.aws.amazon.com/sagemaker/latest/dg/automatic-model-tuning-monitor.html"
   ]
  },
  {
   "cell_type": "code",
   "execution_count": null,
   "id": "23101625",
   "metadata": {},
   "outputs": [
    {
     "name": "stdout",
     "output_type": "stream",
     "text": [
      ".................................................................................................................................................................................................................................."
     ]
    }
   ],
   "source": [
    "tuner.wait()"
   ]
  },
  {
   "cell_type": "markdown",
   "id": "2a7e7a39",
   "metadata": {},
   "source": [
    "## View the AMT job statistics and results \n",
    "\n",
    "Your tuning jobs can be accessed from the Amazon SageMaker console at https://console.aws.amazon.com/sagemaker/. Select Hyperparameter tuning jobs from the Training menu to see the list. More information here: https://docs.aws.amazon.com/sagemaker/latest/dg/automatic-model-tuning-monitor.html\n",
    "\n",
    "You can also check the results of the jobs programmatically and investigate the hyperparameters used, the final value achieved in the objective function and the total training time per job.\n",
    "\n",
    "Further you can evaluate the results programmatically, which we will look into now."
   ]
  },
  {
   "cell_type": "markdown",
   "id": "7782fca5",
   "metadata": {},
   "source": [
    "#### 1. Via the Amazon SageMaker Python SDK"
   ]
  },
  {
   "cell_type": "markdown",
   "id": "4ff0248a-95b3-404c-b05e-b1dee42c618e",
   "metadata": {},
   "source": [
    "The SDK conveniently provides access to the tuning results as a Pandas dataframe. "
   ]
  },
  {
   "cell_type": "code",
   "execution_count": null,
   "id": "3595b65f",
   "metadata": {},
   "outputs": [],
   "source": [
    "sagemaker.HyperparameterTuningJobAnalytics(tuner_name).dataframe()[:10]"
   ]
  },
  {
   "cell_type": "markdown",
   "id": "b6623a4c",
   "metadata": {},
   "source": [
    "#### 2. Via the AWS SDK for Python (Boto3)"
   ]
  },
  {
   "cell_type": "markdown",
   "id": "ef1cdf3d",
   "metadata": {},
   "source": [
    "With the boto3 client we can review the results of a HPO job using [`describe_hyper_parameter_tuning_job()`](https://docs.aws.amazon.com/sagemaker/latest/APIReference/API_DescribeHyperParameterTuningJob.html) function.\n",
    "\n",
    "It returns a Python dictionary with comprehensive information. Below you see the output scoped to the `BestTrainingJob`."
   ]
  },
  {
   "cell_type": "code",
   "execution_count": null,
   "id": "842eb6a2",
   "metadata": {},
   "outputs": [],
   "source": [
    "#sm.describe_hyper_parameter_tuning_job(HyperParameterTuningJobName=tuner_name)   # to review all data\n",
    "sm.describe_hyper_parameter_tuning_job(HyperParameterTuningJobName=tuner_name)['BestTrainingJob']"
   ]
  },
  {
   "cell_type": "markdown",
   "id": "ec194a78",
   "metadata": {},
   "source": [
    "We can also utilize the Boto3's [`list_training_jobs_for_hyper_parameter_tuning_job()`](https://docs.aws.amazon.com/cli/latest/reference/sagemaker/list-training-jobs-for-hyper-parameter-tuning-job.html) function to review the results. This can be sorted by the value of the objective function or by the metric definitions. More functions available for Amazon SageMaker with Boto3 are described on this page: https://boto3.amazonaws.com/v1/documentation/api/latest/reference/services/sagemaker.html"
   ]
  },
  {
   "cell_type": "code",
   "execution_count": null,
   "id": "c911a92f",
   "metadata": {},
   "outputs": [],
   "source": [
    "hpo_jobs = sm.list_training_jobs_for_hyper_parameter_tuning_job(\n",
    "    HyperParameterTuningJobName=tuner_name,\n",
    "    MaxResults=100,\n",
    "    SortBy='FinalObjectiveMetricValue',\n",
    "    SortOrder='Descending')\n",
    "\n",
    "for job in hpo_jobs['TrainingJobSummaries'][:10]:\n",
    "    job_descr = sm.describe_training_job(TrainingJobName=job['TrainingJobName'])\n",
    "    metrics = {m['MetricName']:  m['Value'] for m in job_descr['FinalMetricDataList']}\n",
    "    print(f'{job[\"TrainingJobName\"]} Metrics: {metrics}')"
   ]
  },
  {
   "cell_type": "markdown",
   "id": "ce6f724b",
   "metadata": {
    "tags": []
   },
   "source": [
    "## Visualize AMT job results and tuned Hyperparameters\n",
    "\n",
    "Finally, we want to interactively visualize the impact of our hyperparameters and their values on the optimization objective.\n",
    "\n",
    "To do this, we utilize the Altair statistical visualization library for Python, and have written two custom analysis scripts `job_analytics.py` and `reporting_util.py` that we make available with this notebook.\n",
    "\n",
    "In an upcoming notebook and article we will dive deeper into the analysis of this data. "
   ]
  },
  {
   "cell_type": "code",
   "execution_count": null,
   "id": "abe744c9",
   "metadata": {},
   "outputs": [],
   "source": [
    "!pip install -Uq pip altair"
   ]
  },
  {
   "cell_type": "markdown",
   "id": "4828f098",
   "metadata": {},
   "source": [
    "Please ensure that the role used by SageMaker allows the `cloudwatch:ListMetrics` action on [IAM](https://console.aws.amazon.com/iam)."
   ]
  },
  {
   "cell_type": "code",
   "execution_count": null,
   "id": "0be9dea5",
   "metadata": {},
   "outputs": [],
   "source": [
    "from reporting_util import analyze_hpo_job\n",
    "analyze_hpo_job(tuner, trials_only=True)"
   ]
  }
 ],
 "metadata": {
  "instance_type": "ml.t3.medium",
  "kernelspec": {
   "display_name": "Python 3 (Data Science)",
   "language": "python",
   "name": "python3__SAGEMAKER_INTERNAL__arn:aws:sagemaker:us-east-1:081325390199:image/datascience-1.0"
  },
  "language_info": {
   "codemirror_mode": {
    "name": "ipython",
    "version": 3
   },
   "file_extension": ".py",
   "mimetype": "text/x-python",
   "name": "python",
   "nbconvert_exporter": "python",
   "pygments_lexer": "ipython3",
   "version": "3.7.10"
  }
 },
 "nbformat": 4,
 "nbformat_minor": 5
}
