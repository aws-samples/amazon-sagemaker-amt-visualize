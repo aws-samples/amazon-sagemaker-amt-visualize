{
 "cells": [
  {
   "cell_type": "markdown",
   "id": "51e0cdcd",
   "metadata": {},
   "source": [
    "# Getting Started With Hyperparameter Optimization Using Amazon SageMaker Automatic Model Tuning"
   ]
  },
  {
   "cell_type": "markdown",
   "id": "cdbfc6f0",
   "metadata": {},
   "source": [
    "## Background - What are we doing?"
   ]
  },
  {
   "cell_type": "markdown",
   "id": "c8f89001",
   "metadata": {},
   "source": [
    "Machine Learning (ML) models are getting better and better. Subsequently they are taking the world by storm. Their performance relies on the right training data and choosing the right model/algorithm. But it does not end here. Typically, algorithms defer some design decisions to the ML practitioner to adopt for their specific data and task. These deferred design decisions manifest themselves as so called *hyperparameters*.\n",
    "\n",
    "What does that name mean? The result of a machine learning training, the model, can be largely seen as a collection of parameters that were learned during training. Hence the parameters that are used to configure the machine learning training are then called hyperparameters, i.e. parameters describing the creation of parameters. At any rate, they are of very practical use, such as the number of epochs to train, the learning rate, the max depth of a decision tree and so forth. And they have a major impact on the ultimate performance of your model.\n",
    "\n",
    "Selecting the right parameters and their value ranges starts with the practitioner's theoretical knowledge of the model to train. This defines the boundaries of the search space, but then it is also necessary to explore this search space empirically to find a good combination of parameters that will result in a high performing model.\n",
    "\n",
    "Luckily, we do not have to manually search that space, because SageMaker Automatic Model Tuning (AMT) is here to help. We point AMT in the right direction by defining the overall search space and AMT then takes over and coordinates the exploration of that space and fully automatically runs training jobs to efficiently evaluate the space. This then results in a good combination of hyper parameter values to train a high performing model.\n",
    "\n",
    "*In an upcoming article we will extend the notion of __just__ finding the best parameters to then __also__ include learning about the search space and to what parameter ranges a model is sensitive, as well as turning a one-shot tuning activity into a multi-step conversation with the ML practitioner, to learn together. Exciting!*\n",
    "\n",
    "In this tutorial we will walk through Amazon SageMaker Automatic Model Tuning (AMT), using a built-in XGBoost algorithm provided by Amazon SageMaker. Additional information can be found in the documentation pages below:\n",
    "* For more information on running a simple hyperparameter tuning job: https://docs.aws.amazon.com/sagemaker/latest/dg/automatic-model-tuning-ex.html\n",
    "* For documentation on using the HyperParameterTuner API with the SageMaker Python SDK: https://sagemaker.readthedocs.io/en/stable/api/training/tuner.html"
   ]
  },
  {
   "cell_type": "markdown",
   "id": "55d3c147",
   "metadata": {
    "tags": []
   },
   "source": [
    "## Overview"
   ]
  },
  {
   "cell_type": "markdown",
   "id": "dda7534b",
   "metadata": {},
   "source": [
    "This notebook is split into the following sections:\n",
    "* Setup and Imports\n",
    "* Load and Prepare dataset\n",
    "* Train a SageMaker Built-In XGBoost Algorithm\n",
    "* Train and Tune a SageMaker Built-In XGBoost Algorithm\n",
    "* View the AMT job statistics \n",
    "* Visualize AMT job results and tuned Hyperparameters\n"
   ]
  },
  {
   "cell_type": "markdown",
   "id": "238d2c62",
   "metadata": {},
   "source": [
    "### Setup and Imports"
   ]
  },
  {
   "cell_type": "code",
   "execution_count": 1,
   "id": "e5026ca2",
   "metadata": {},
   "outputs": [],
   "source": [
    "%load_ext autoreload\n",
    "%autoreload 2\n",
    "\n",
    "%matplotlib inline"
   ]
  },
  {
   "cell_type": "markdown",
   "id": "820bc604",
   "metadata": {},
   "source": [
    "We ran this notebook using Amazon SageMaker with the version you see in the output of the next cell below. If your version is lower and you encounter issues, we recommend uncommenting the code below to upgrade your pip and SageMaker versions. Make sure to restart your kernel after upgrading for the changes to take effect."
   ]
  },
  {
   "cell_type": "code",
   "execution_count": 2,
   "id": "ae8980f8",
   "metadata": {},
   "outputs": [
    {
     "data": {
      "text/plain": [
       "'2.116.0'"
      ]
     },
     "execution_count": 2,
     "metadata": {},
     "output_type": "execute_result"
    }
   ],
   "source": [
    "import sagemaker\n",
    "\n",
    "sagemaker.__version__ "
   ]
  },
  {
   "cell_type": "code",
   "execution_count": 3,
   "id": "e6e59ad6",
   "metadata": {},
   "outputs": [],
   "source": [
    "#!pip install --upgrade --quiet pip \"sagemaker>=2.116.0\" # upgrade SageMaker to the recommended version"
   ]
  },
  {
   "cell_type": "code",
   "execution_count": 4,
   "id": "e419bc3f",
   "metadata": {},
   "outputs": [],
   "source": [
    "import io\n",
    "import os\n",
    "import argparse\n",
    "import traceback\n",
    "import boto3\n",
    "import numpy as np\n",
    "import pandas as pd\n",
    "\n",
    "from pathlib import Path"
   ]
  },
  {
   "cell_type": "code",
   "execution_count": 5,
   "id": "cd7a5efc",
   "metadata": {},
   "outputs": [],
   "source": [
    "# SDK setup\n",
    "role = sagemaker.get_execution_role()\n",
    "region = boto3.Session().region_name\n",
    "sm = boto3.client('sagemaker')\n",
    "boto_sess = boto3.Session(region_name=region)\n",
    "sm_sess = sagemaker.session.Session(boto_session=boto_sess, sagemaker_client=sm)"
   ]
  },
  {
   "cell_type": "code",
   "execution_count": 14,
   "id": "6ad8b879",
   "metadata": {},
   "outputs": [
    {
     "data": {
      "text/plain": [
       "'s3://sagemaker-us-east-1-632581975302/amt-visualize-demo/output'"
      ]
     },
     "execution_count": 14,
     "metadata": {},
     "output_type": "execute_result"
    }
   ],
   "source": [
    "# Data layout and locations. \n",
    "# To store our data we are using a prefix in the Amazon SageMaker default bucket. Feel free to adjust to your preferences.\n",
    "\n",
    "BUCKET = sm_sess.default_bucket()\n",
    "PREFIX = 'amt-visualize-demo'\n",
    "\n",
    "# Eventual output destination for our XGBoost model\n",
    "output_path = f's3://{BUCKET}/{PREFIX}/output'\n",
    "output_path"
   ]
  },
  {
   "cell_type": "markdown",
   "id": "0f3075fb",
   "metadata": {},
   "source": [
    "## Load and Prepare dataset "
   ]
  },
  {
   "cell_type": "code",
   "execution_count": 7,
   "id": "6609672d",
   "metadata": {},
   "outputs": [],
   "source": [
    "!mkdir -p data"
   ]
  },
  {
   "cell_type": "markdown",
   "id": "65a9ac0a",
   "metadata": {},
   "source": [
    "The focus of this notebook is on Hyperparameter Optimization. Hence the actual task and data only play a supporting role. But to give some brief context, we are optimizing the hyperparameters of an XGBoost model that should classify handwritten digits. \n",
    "\n",
    "We use the [Optical Recognition of Handwritten Digits Data Set](https://archive.ics.uci.edu/ml/datasets/Optical+Recognition+of+Handwritten+Digits) via scikit-learn:\n",
    "\n",
    "_Dua, D. and Graff, C. (2019). UCI Machine Learning Repository [http://archive.ics.uci.edu/ml]. Irvine, CA: University of California, School of Information and Computer Science._"
   ]
  },
  {
   "cell_type": "code",
   "execution_count": 8,
   "id": "9e1ced87",
   "metadata": {},
   "outputs": [],
   "source": [
    "from sklearn import datasets\n",
    "\n",
    "digits         = datasets.load_digits()\n",
    "digits_df      = pd.DataFrame(digits.data)\n",
    "digits_df['y'] = digits.target\n",
    "digits_df.insert(0, 'y', digits_df.pop('y')) # XGBoost expects the target to be the first column "
   ]
  },
  {
   "cell_type": "code",
   "execution_count": 9,
   "id": "d7511dea",
   "metadata": {},
   "outputs": [
    {
     "name": "stdout",
     "output_type": "stream",
     "text": [
      "digit: 4\n"
     ]
    },
    {
     "data": {
      "image/png": "[encoded data removed]",
      "text/plain": [
       "<Figure size 432x288 with 1 Axes>"
      ]
     },
     "metadata": {
      "needs_background": "light"
     },
     "output_type": "display_data"
    }
   ],
   "source": [
    "from matplotlib import pyplot as plt\n",
    "\n",
    "print('digit:', int(digits_df.iloc[100].y))\n",
    "plt.imshow(digits_df.iloc[100, 1:].values.reshape(8, -1));"
   ]
  },
  {
   "cell_type": "code",
   "execution_count": 10,
   "id": "145da7f4",
   "metadata": {},
   "outputs": [],
   "source": [
    "# randomly sort the data then split out into train 70% and validation 30% sets\n",
    "train_data, valid_data= np.split(\n",
    "    digits_df, [int(0.7 * len(digits_df))]\n",
    ")"
   ]
  },
  {
   "cell_type": "code",
   "execution_count": 11,
   "id": "de42d336",
   "metadata": {},
   "outputs": [],
   "source": [
    "train_data.to_csv('data/train.csv', index=False, header=False)\n",
    "valid_data.to_csv('data/valid.csv', index=False, header=False)"
   ]
  },
  {
   "cell_type": "code",
   "execution_count": 12,
   "id": "448723bf",
   "metadata": {},
   "outputs": [],
   "source": [
    "boto_sess.resource('s3').Bucket(BUCKET).Object(os.path.join(PREFIX, 'data/train/train.csv')).upload_file('data/train.csv')\n",
    "boto_sess.resource('s3').Bucket(BUCKET).Object(os.path.join(PREFIX, 'data/valid/valid.csv')).upload_file('data/valid.csv')"
   ]
  },
  {
   "cell_type": "markdown",
   "id": "64a55efe",
   "metadata": {},
   "source": [
    "We upload our train and validation datasets into [Amazon S3](https://aws.amazon.com/s3/). Amazon SageMaker will launch training jobs on our behalf and those will read the data directly from S3."
   ]
  },
  {
   "cell_type": "markdown",
   "id": "f96665c5",
   "metadata": {},
   "source": [
    "## Train an Amazon SageMaker Built-In XGBoost Algorithm"
   ]
  },
  {
   "cell_type": "markdown",
   "id": "4c0852f1",
   "metadata": {},
   "source": [
    "SageMaker provides many [built-in algorithms](https://docs.aws.amazon.com/sagemaker/latest/dg/algos.html). For our example we use the popular XGBoost algorithm. To select it for our training it is identified by an image URI as described in the docs here:\n",
    "https://docs.aws.amazon.com/sagemaker/latest/dg/xgboost.html\n",
    "\n",
    "In below code you can see how we lookup the respective image and version of the algorithm. We then define the hyperparameters and instantiate an Estimator that describes our training. For a list of hyperparameters and their meaning for this algorithm check out the [documentation](https://docs.aws.amazon.com/sagemaker/latest/dg/xgboost_hyperparameters.html). \n",
    "\n",
    "Please recognize that for our small dataset we also specify the use of a small CPU based instance type for our training, specifically `ml.m5.large`.\n",
    "\n",
    "Eventually we call `fit()` to start the training and to pass in references to where our training and validation data can be found. \n",
    "\n",
    "__Side note__: Strictly speaking it would not be necessary to call the `fit()` method here for an individual training run. We will let SageMaker Automatic Model Tuning (AMT) instantiate and control the individual training runs later. We just need to pass in the Estimator we defined here as a template. We could comment out the call to `fit()`.\n",
    "\n",
    "However, calling `fit()` shows us how one training run works and helps us to get acquainted with the algorithm and the log outputs, which are also available in Amazon CloudWatch. This works even though the actual execution is happening on a different EC2 machine. SageMaker makes the log outputs directly available in this notebook here. Neat, right?"
   ]
  },
  {
   "cell_type": "code",
   "execution_count": 13,
   "id": "f2db8939",
   "metadata": {},
   "outputs": [
    {
     "name": "stdout",
     "output_type": "stream",
     "text": [
      "Algorithm container image: 141502667606.dkr.ecr.eu-west-1.amazonaws.com/sagemaker-xgboost:1.5-1\n",
      "2022-11-09 16:07:24 Starting - Starting the training job...\n",
      "2022-11-09 16:07:47 Starting - Preparing the instances for trainingProfilerReport-1668010043: InProgress\n",
      "......\n",
      "2022-11-09 16:08:47 Downloading - Downloading input data...\n",
      "2022-11-09 16:09:27 Training - Downloading the training image...\n",
      "2022-11-09 16:09:47 Training - Training image download completed. Training in progress.\u001b[34m[2022-11-09 16:09:47.630 ip-10-0-128-216.eu-west-1.compute.internal:1 INFO utils.py:27] RULE_JOB_STOP_SIGNAL_FILENAME: None\u001b[0m\n",
      "\u001b[34m[2022-11-09:16:09:47:INFO] Imported framework sagemaker_xgboost_container.training\u001b[0m\n",
      "\u001b[34m[2022-11-09:16:09:47:INFO] Failed to parse hyperparameter eval_metric value accuracy to Json.\u001b[0m\n",
      "\u001b[34mReturning the value itself\u001b[0m\n",
      "\u001b[34m[2022-11-09:16:09:47:INFO] Failed to parse hyperparameter objective value multi:softmax to Json.\u001b[0m\n",
      "\u001b[34mReturning the value itself\u001b[0m\n",
      "\u001b[34m[2022-11-09:16:09:47:INFO] No GPUs detected (normal if no gpus installed)\u001b[0m\n",
      "\u001b[34m[2022-11-09:16:09:47:INFO] Running XGBoost Sagemaker in algorithm mode\u001b[0m\n",
      "\u001b[34m[2022-11-09:16:09:47:INFO] Determined delimiter of CSV input is ','\u001b[0m\n",
      "\u001b[34m[2022-11-09:16:09:47:INFO] Determined delimiter of CSV input is ','\u001b[0m\n",
      "\u001b[34m[2022-11-09:16:09:47:INFO] files path: /opt/ml/input/data/train\u001b[0m\n",
      "\u001b[34m[2022-11-09:16:09:47:INFO] Determined delimiter of CSV input is ','\u001b[0m\n",
      "\u001b[34m[2022-11-09:16:09:47:INFO] files path: /opt/ml/input/data/validation\u001b[0m\n",
      "\u001b[34m[2022-11-09:16:09:47:INFO] Determined delimiter of CSV input is ','\u001b[0m\n",
      "\u001b[34m[2022-11-09:16:09:47:INFO] Single node training.\u001b[0m\n",
      "\u001b[34m[2022-11-09:16:09:47:INFO] Train matrix has 1257 rows and 64 columns\u001b[0m\n",
      "\u001b[34m[2022-11-09:16:09:47:INFO] Validation matrix has 540 rows\u001b[0m\n",
      "\u001b[34m[2022-11-09 16:09:47.720 ip-10-0-128-216.eu-west-1.compute.internal:1 INFO json_config.py:91] Creating hook from json_config at /opt/ml/input/config/debughookconfig.json.\u001b[0m\n",
      "\u001b[34m[16:09:47] WARNING: ../src/learner.cc:1115: Starting in XGBoost 1.3.0, the default evaluation metric used with the objective 'multi:softmax' was changed from 'merror' to 'mlogloss'. Explicitly set eval_metric if you'd like to restore the old behavior.\u001b[0m\n",
      "\u001b[34m[0]#011train-mlogloss:1.55795#011train-accuracy:0.95943#011validation-mlogloss:1.70729#011validation-accuracy:0.78889\u001b[0m\n",
      "\u001b[34m[1]#011train-mlogloss:1.20572#011train-accuracy:0.97295#011validation-mlogloss:1.42358#011validation-accuracy:0.81111\u001b[0m\n",
      "\u001b[34m[2]#011train-mlogloss:0.97027#011train-accuracy:0.97932#011validation-mlogloss:1.23074#011validation-accuracy:0.81111\u001b[0m\n",
      "\u001b[34m[3]#011train-mlogloss:0.79341#011train-accuracy:0.98568#011validation-mlogloss:1.09127#011validation-accuracy:0.82222\u001b[0m\n",
      "\u001b[34m[4]#011train-mlogloss:0.65584#011train-accuracy:0.99045#011validation-mlogloss:0.97840#011validation-accuracy:0.82963\u001b[0m\n",
      "\u001b[34m[5]#011train-mlogloss:0.54703#011train-accuracy:0.99364#011validation-mlogloss:0.89070#011validation-accuracy:0.83704\u001b[0m\n",
      "\u001b[34m[6]#011train-mlogloss:0.45843#011train-accuracy:0.99602#011validation-mlogloss:0.81601#011validation-accuracy:0.84074\u001b[0m\n",
      "\u001b[34m[7]#011train-mlogloss:0.38576#011train-accuracy:0.99602#011validation-mlogloss:0.75819#011validation-accuracy:0.84444\u001b[0m\n",
      "\u001b[34m[8]#011train-mlogloss:0.32707#011train-accuracy:0.99761#011validation-mlogloss:0.70924#011validation-accuracy:0.84815\u001b[0m\n",
      "\u001b[34m[9]#011train-mlogloss:0.27772#011train-accuracy:0.99841#011validation-mlogloss:0.66924#011validation-accuracy:0.84630\u001b[0m\n",
      "\u001b[34m[10]#011train-mlogloss:0.23722#011train-accuracy:0.99920#011validation-mlogloss:0.63535#011validation-accuracy:0.85370\u001b[0m\n",
      "\u001b[34m[11]#011train-mlogloss:0.20342#011train-accuracy:0.99920#011validation-mlogloss:0.61011#011validation-accuracy:0.85185\u001b[0m\n",
      "\u001b[34m[12]#011train-mlogloss:0.17500#011train-accuracy:0.99920#011validation-mlogloss:0.58224#011validation-accuracy:0.85000\u001b[0m\n",
      "\u001b[34m[13]#011train-mlogloss:0.15114#011train-accuracy:1.00000#011validation-mlogloss:0.56029#011validation-accuracy:0.85000\u001b[0m\n",
      "\u001b[34m[14]#011train-mlogloss:0.13116#011train-accuracy:1.00000#011validation-mlogloss:0.54051#011validation-accuracy:0.85000\u001b[0m\n",
      "\n",
      "2022-11-09 16:10:29 Uploading - Uploading generated training model\n",
      "2022-11-09 16:10:29 Completed - Training job completed\n",
      "Training seconds: 105\n",
      "Billable seconds: 105\n",
      "CPU times: user 596 ms, sys: 134 ms, total: 730 ms\n",
      "Wall time: 3min 17s\n"
     ]
    }
   ],
   "source": [
    "%%time\n",
    "from sagemaker import image_uris\n",
    "from sagemaker.session import Session\n",
    "from sagemaker.inputs import TrainingInput\n",
    "\n",
    "\n",
    "# lookup the XGBoost image URI and build an XGBoost container\n",
    "xgboost_container = sagemaker.image_uris.retrieve('xgboost', region, '1.5-1')\n",
    "print('Algorithm container image:', xgboost_container)\n",
    "\n",
    "hyperparameters = {\n",
    "        'num_class': 10,\n",
    "        'max_depth': 5,\n",
    "        'eta':0.2,\n",
    "        'alpha': 0.2, \n",
    "        'objective':'multi:softmax',\n",
    "        'eval_metric':'accuracy',\n",
    "        'num_round':200,\n",
    "        'early_stopping_rounds': 5}\n",
    "\n",
    "# construct a SageMaker estimator that calls the XGBoost container\n",
    "estimator = sagemaker.estimator.Estimator(\n",
    "    image_uri=xgboost_container, \n",
    "    hyperparameters=hyperparameters,\n",
    "    role=role,\n",
    "    instance_count=1, \n",
    "    instance_type='ml.m5.large', \n",
    "    volume_size=5, # 5 GB \n",
    "    output_path=output_path\n",
    ")\n",
    "\n",
    "# define the data type and paths to the training and validation datasets\n",
    "s3_input_train = TrainingInput(s3_data=f's3://{BUCKET}/{PREFIX}/data/train', content_type='csv')\n",
    "s3_input_valid = TrainingInput(s3_data=f's3://{BUCKET}/{PREFIX}/data/valid', content_type='csv')\n",
    "\n",
    "# execute the XGBoost training job\n",
    "estimator.fit({'train': s3_input_train, 'validation': s3_input_valid}) # Optional. See comment above this cell."
   ]
  },
  {
   "cell_type": "markdown",
   "id": "9fa0a091",
   "metadata": {},
   "source": [
    "## Train and Tune an Amazon SageMaker Built-In XGBoost Algorithm\n",
    "\n",
    "Analogous to the Estimator above we now setup the HyperparameterTuner. We pass in the estimator object as a template for the trials to be run and a range of hyperparameters to define what search space to explore. Our documentation on [tuning XGBoost](https://docs.aws.amazon.com/sagemaker/latest/dg/xgboost-tuning.html) gives you some tips on choosing parameter ranges and which objective to use.\n",
    "\n",
    "You also see that we specify the number of training jobs to be run in total, as well as how many should run in parallel. Further you can select among many [strategies](https://docs.aws.amazon.com/sagemaker/latest/APIReference/API_HyperParameterTuningJobConfig.html#sagemaker-Type-HyperParameterTuningJobConfig-Strategy). In this notebook we use `Bayesian` as strategy. It uses a systematic approach to evaluate the search space. And it incorporates knowledge gained from earlier training runs (trials) when picking better hyperparameters to evaluate in the later trials, during the same __tuning__ job run. \n",
    "\n",
    "*Bayesian Search as a strategy is an excellent default. In an upcoming notebook and article we will additionally contrast and compare different strategies.*"
   ]
  },
  {
   "cell_type": "code",
   "execution_count": 14,
   "id": "884541f3",
   "metadata": {},
   "outputs": [],
   "source": [
    "from sagemaker.tuner import IntegerParameter, ContinuousParameter, HyperparameterTuner\n",
    "\n",
    "n_jobs = 50\n",
    "n_parallel_jobs = 3\n",
    "\n",
    "hpt_ranges = {\n",
    "    'alpha': ContinuousParameter(0.01, .5),\n",
    "    'eta': ContinuousParameter(0.1, .5),\n",
    "    'min_child_weight': ContinuousParameter(0., 2.),\n",
    "    'max_depth': IntegerParameter(1, 10)\n",
    "}\n",
    "\n",
    "tuner_parameters = {\n",
    "    'estimator': estimator,\n",
    "    'base_tuning_job_name': 'bayesian',                   \n",
    "    'objective_metric_name': 'validation:accuracy',\n",
    "    'objective_type': 'Maximize',\n",
    "    'hyperparameter_ranges': hpt_ranges,\n",
    "    'strategy': 'Bayesian',\n",
    "    'max_jobs': n_jobs,\n",
    "    'max_parallel_jobs': n_parallel_jobs\n",
    "}"
   ]
  },
  {
   "cell_type": "markdown",
   "id": "054c5c0f",
   "metadata": {},
   "source": [
    "Analogous to the actual training with the estimator above, we also kick things off by calling `fit()`. This time on the HyperparameterTuner."
   ]
  },
  {
   "cell_type": "code",
   "execution_count": 15,
   "id": "b4d8fd71",
   "metadata": {},
   "outputs": [
    {
     "name": "stdout",
     "output_type": "stream",
     "text": [
      "tuning job submitted: bayesian-221109-1710.\n"
     ]
    }
   ],
   "source": [
    "tuner = HyperparameterTuner(**tuner_parameters)\n",
    "tuner.fit({'train': s3_input_train, 'validation': s3_input_valid}, wait=False)\n",
    "tuner_name = tuner.describe()['HyperParameterTuningJobName']\n",
    "print(f'tuning job submitted: {tuner_name}.')"
   ]
  },
  {
   "cell_type": "markdown",
   "id": "45cad4b4",
   "metadata": {},
   "source": [
    "Amazon SageMaker AMT, here the HyperparameterTuner, now orchestrates different training jobs (trials) over a period of time. \n",
    "\n",
    "We use `tuner.wait()` to pause this notebook's execution until the AMT job is completed and we can work with the results. Depending on the number of jobs and the level of parallelization this may take some time. For the example below it may take up to 30 minutes for 50 jobs. During this time you can view the status of your jobs in the console by navigating to Amazon SageMaker > Training > Hyperparameter tuning jobs.\n",
    "\n",
    "For more information on AMT job monitoring, see: https://docs.aws.amazon.com/sagemaker/latest/dg/automatic-model-tuning-monitor.html"
   ]
  },
  {
   "cell_type": "code",
   "execution_count": 16,
   "id": "030f8569",
   "metadata": {},
   "outputs": [
    {
     "name": "stdout",
     "output_type": "stream",
     "text": [
      "..............................................................................................................................................................................................................................................!\n"
     ]
    }
   ],
   "source": [
    "tuner.wait()"
   ]
  },
  {
   "cell_type": "markdown",
   "id": "dad8e635",
   "metadata": {},
   "source": [
    "## View the AMT job statistics and results \n",
    "\n",
    "Your tuning jobs can be accessed from the Amazon SageMaker console at https://console.aws.amazon.com/sagemaker/. Select Hyperparameter tuning jobs from the Training menu to see the list. More information here: https://docs.aws.amazon.com/sagemaker/latest/dg/automatic-model-tuning-monitor.html\n",
    "\n",
    "You can also check the results of the jobs programmatically and investigate the hyperparameters used, the final value achieved in the objective function and the total training time per job.\n",
    "\n",
    "Furthermore you can evaluate the results programmatically, which we will look into now."
   ]
  },
  {
   "cell_type": "markdown",
   "id": "1e88bbfe",
   "metadata": {},
   "source": [
    "#### 1. Via the Amazon SageMaker Python SDK"
   ]
  },
  {
   "cell_type": "markdown",
   "id": "344a09f4",
   "metadata": {},
   "source": [
    "The SDK conveniently provides access to the tuning results as a Pandas dataframe. "
   ]
  },
  {
   "cell_type": "code",
   "execution_count": 17,
   "id": "04b2c585",
   "metadata": {},
   "outputs": [
    {
     "data": {
      "text/html": [
       "<div>\n",
       "<style scoped>\n",
       "    .dataframe tbody tr th:only-of-type {\n",
       "        vertical-align: middle;\n",
       "    }\n",
       "\n",
       "    .dataframe tbody tr th {\n",
       "        vertical-align: top;\n",
       "    }\n",
       "\n",
       "    .dataframe thead th {\n",
       "        text-align: right;\n",
       "    }\n",
       "</style>\n",
       "<table border=\"1\" class=\"dataframe\">\n",
       "  <thead>\n",
       "    <tr style=\"text-align: right;\">\n",
       "      <th></th>\n",
       "      <th>alpha</th>\n",
       "      <th>eta</th>\n",
       "      <th>max_depth</th>\n",
       "      <th>min_child_weight</th>\n",
       "      <th>TrainingJobName</th>\n",
       "      <th>TrainingJobStatus</th>\n",
       "      <th>FinalObjectiveValue</th>\n",
       "      <th>TrainingStartTime</th>\n",
       "      <th>TrainingEndTime</th>\n",
       "      <th>TrainingElapsedTimeSeconds</th>\n",
       "    </tr>\n",
       "  </thead>\n",
       "  <tbody>\n",
       "    <tr>\n",
       "      <th>0</th>\n",
       "      <td>0.143103</td>\n",
       "      <td>0.473520</td>\n",
       "      <td>3.0</td>\n",
       "      <td>0.019137</td>\n",
       "      <td>bayesian-221109-1710-050-1b260544</td>\n",
       "      <td>Completed</td>\n",
       "      <td>0.88333</td>\n",
       "      <td>2022-11-09 17:27:25+01:00</td>\n",
       "      <td>2022-11-09 17:28:02+01:00</td>\n",
       "      <td>37.0</td>\n",
       "    </tr>\n",
       "    <tr>\n",
       "      <th>1</th>\n",
       "      <td>0.131674</td>\n",
       "      <td>0.472294</td>\n",
       "      <td>3.0</td>\n",
       "      <td>0.094985</td>\n",
       "      <td>bayesian-221109-1710-049-b7cc9a3c</td>\n",
       "      <td>Completed</td>\n",
       "      <td>0.88333</td>\n",
       "      <td>2022-11-09 17:29:25+01:00</td>\n",
       "      <td>2022-11-09 17:30:42+01:00</td>\n",
       "      <td>77.0</td>\n",
       "    </tr>\n",
       "    <tr>\n",
       "      <th>2</th>\n",
       "      <td>0.123554</td>\n",
       "      <td>0.469292</td>\n",
       "      <td>4.0</td>\n",
       "      <td>0.010716</td>\n",
       "      <td>bayesian-221109-1710-048-a2e22905</td>\n",
       "      <td>Completed</td>\n",
       "      <td>0.88333</td>\n",
       "      <td>2022-11-09 17:26:53+01:00</td>\n",
       "      <td>2022-11-09 17:27:30+01:00</td>\n",
       "      <td>37.0</td>\n",
       "    </tr>\n",
       "    <tr>\n",
       "      <th>3</th>\n",
       "      <td>0.132051</td>\n",
       "      <td>0.473439</td>\n",
       "      <td>3.0</td>\n",
       "      <td>1.169961</td>\n",
       "      <td>bayesian-221109-1710-047-c1a305ae</td>\n",
       "      <td>Completed</td>\n",
       "      <td>0.88148</td>\n",
       "      <td>2022-11-09 17:26:36+01:00</td>\n",
       "      <td>2022-11-09 17:27:13+01:00</td>\n",
       "      <td>37.0</td>\n",
       "    </tr>\n",
       "    <tr>\n",
       "      <th>4</th>\n",
       "      <td>0.124344</td>\n",
       "      <td>0.475991</td>\n",
       "      <td>3.0</td>\n",
       "      <td>0.999004</td>\n",
       "      <td>bayesian-221109-1710-046-821a43ed</td>\n",
       "      <td>Completed</td>\n",
       "      <td>0.88148</td>\n",
       "      <td>2022-11-09 17:26:18+01:00</td>\n",
       "      <td>2022-11-09 17:26:55+01:00</td>\n",
       "      <td>37.0</td>\n",
       "    </tr>\n",
       "    <tr>\n",
       "      <th>5</th>\n",
       "      <td>0.099297</td>\n",
       "      <td>0.490243</td>\n",
       "      <td>5.0</td>\n",
       "      <td>0.361392</td>\n",
       "      <td>bayesian-221109-1710-045-bd82f7f9</td>\n",
       "      <td>Completed</td>\n",
       "      <td>0.88148</td>\n",
       "      <td>2022-11-09 17:25:57+01:00</td>\n",
       "      <td>2022-11-09 17:26:39+01:00</td>\n",
       "      <td>42.0</td>\n",
       "    </tr>\n",
       "    <tr>\n",
       "      <th>6</th>\n",
       "      <td>0.133381</td>\n",
       "      <td>0.458390</td>\n",
       "      <td>3.0</td>\n",
       "      <td>0.897176</td>\n",
       "      <td>bayesian-221109-1710-044-1d0bfb79</td>\n",
       "      <td>Completed</td>\n",
       "      <td>0.87778</td>\n",
       "      <td>2022-11-09 17:25:43+01:00</td>\n",
       "      <td>2022-11-09 17:26:20+01:00</td>\n",
       "      <td>37.0</td>\n",
       "    </tr>\n",
       "    <tr>\n",
       "      <th>7</th>\n",
       "      <td>0.107742</td>\n",
       "      <td>0.471631</td>\n",
       "      <td>3.0</td>\n",
       "      <td>0.464330</td>\n",
       "      <td>bayesian-221109-1710-043-b024d6ee</td>\n",
       "      <td>Completed</td>\n",
       "      <td>0.88333</td>\n",
       "      <td>2022-11-09 17:25:30+01:00</td>\n",
       "      <td>2022-11-09 17:26:07+01:00</td>\n",
       "      <td>37.0</td>\n",
       "    </tr>\n",
       "    <tr>\n",
       "      <th>8</th>\n",
       "      <td>0.134174</td>\n",
       "      <td>0.478866</td>\n",
       "      <td>3.0</td>\n",
       "      <td>0.904726</td>\n",
       "      <td>bayesian-221109-1710-042-f634b4f2</td>\n",
       "      <td>Completed</td>\n",
       "      <td>0.88518</td>\n",
       "      <td>2022-11-09 17:24:39+01:00</td>\n",
       "      <td>2022-11-09 17:25:16+01:00</td>\n",
       "      <td>37.0</td>\n",
       "    </tr>\n",
       "    <tr>\n",
       "      <th>9</th>\n",
       "      <td>0.131047</td>\n",
       "      <td>0.446216</td>\n",
       "      <td>3.0</td>\n",
       "      <td>0.629366</td>\n",
       "      <td>bayesian-221109-1710-041-6b754eee</td>\n",
       "      <td>Completed</td>\n",
       "      <td>0.87963</td>\n",
       "      <td>2022-11-09 17:24:21+01:00</td>\n",
       "      <td>2022-11-09 17:25:32+01:00</td>\n",
       "      <td>71.0</td>\n",
       "    </tr>\n",
       "  </tbody>\n",
       "</table>\n",
       "</div>"
      ],
      "text/plain": [
       "      alpha       eta  max_depth  min_child_weight  \\\n",
       "0  0.143103  0.473520        3.0          0.019137   \n",
       "1  0.131674  0.472294        3.0          0.094985   \n",
       "2  0.123554  0.469292        4.0          0.010716   \n",
       "3  0.132051  0.473439        3.0          1.169961   \n",
       "4  0.124344  0.475991        3.0          0.999004   \n",
       "5  0.099297  0.490243        5.0          0.361392   \n",
       "6  0.133381  0.458390        3.0          0.897176   \n",
       "7  0.107742  0.471631        3.0          0.464330   \n",
       "8  0.134174  0.478866        3.0          0.904726   \n",
       "9  0.131047  0.446216        3.0          0.629366   \n",
       "\n",
       "                     TrainingJobName TrainingJobStatus  FinalObjectiveValue  \\\n",
       "0  bayesian-221109-1710-050-1b260544         Completed              0.88333   \n",
       "1  bayesian-221109-1710-049-b7cc9a3c         Completed              0.88333   \n",
       "2  bayesian-221109-1710-048-a2e22905         Completed              0.88333   \n",
       "3  bayesian-221109-1710-047-c1a305ae         Completed              0.88148   \n",
       "4  bayesian-221109-1710-046-821a43ed         Completed              0.88148   \n",
       "5  bayesian-221109-1710-045-bd82f7f9         Completed              0.88148   \n",
       "6  bayesian-221109-1710-044-1d0bfb79         Completed              0.87778   \n",
       "7  bayesian-221109-1710-043-b024d6ee         Completed              0.88333   \n",
       "8  bayesian-221109-1710-042-f634b4f2         Completed              0.88518   \n",
       "9  bayesian-221109-1710-041-6b754eee         Completed              0.87963   \n",
       "\n",
       "          TrainingStartTime           TrainingEndTime  \\\n",
       "0 2022-11-09 17:27:25+01:00 2022-11-09 17:28:02+01:00   \n",
       "1 2022-11-09 17:29:25+01:00 2022-11-09 17:30:42+01:00   \n",
       "2 2022-11-09 17:26:53+01:00 2022-11-09 17:27:30+01:00   \n",
       "3 2022-11-09 17:26:36+01:00 2022-11-09 17:27:13+01:00   \n",
       "4 2022-11-09 17:26:18+01:00 2022-11-09 17:26:55+01:00   \n",
       "5 2022-11-09 17:25:57+01:00 2022-11-09 17:26:39+01:00   \n",
       "6 2022-11-09 17:25:43+01:00 2022-11-09 17:26:20+01:00   \n",
       "7 2022-11-09 17:25:30+01:00 2022-11-09 17:26:07+01:00   \n",
       "8 2022-11-09 17:24:39+01:00 2022-11-09 17:25:16+01:00   \n",
       "9 2022-11-09 17:24:21+01:00 2022-11-09 17:25:32+01:00   \n",
       "\n",
       "   TrainingElapsedTimeSeconds  \n",
       "0                        37.0  \n",
       "1                        77.0  \n",
       "2                        37.0  \n",
       "3                        37.0  \n",
       "4                        37.0  \n",
       "5                        42.0  \n",
       "6                        37.0  \n",
       "7                        37.0  \n",
       "8                        37.0  \n",
       "9                        71.0  "
      ]
     },
     "execution_count": 17,
     "metadata": {},
     "output_type": "execute_result"
    }
   ],
   "source": [
    "sagemaker.HyperparameterTuningJobAnalytics(tuner_name).dataframe()[:10]"
   ]
  },
  {
   "cell_type": "markdown",
   "id": "0f87a965",
   "metadata": {},
   "source": [
    "#### 2. Via the AWS SDK for Python (Boto3)"
   ]
  },
  {
   "cell_type": "markdown",
   "id": "8dfd2864",
   "metadata": {},
   "source": [
    "With the boto3 client we can review the results of a HPO job using [`describe_hyper_parameter_tuning_job()`](https://docs.aws.amazon.com/sagemaker/latest/APIReference/API_DescribeHyperParameterTuningJob.html) function.\n",
    "\n",
    "It returns a Python dictionary with comprehensive information. Below you see the output scoped to the `BestTrainingJob`."
   ]
  },
  {
   "cell_type": "code",
   "execution_count": 18,
   "id": "91af7fb2",
   "metadata": {},
   "outputs": [
    {
     "data": {
      "text/plain": [
       "{'TrainingJobName': 'bayesian-221109-1710-040-ac99c1c6',\n",
       " 'TrainingJobArn': 'arn:aws:sagemaker:eu-west-1:811243659808:training-job/bayesian-221109-1710-040-ac99c1c6',\n",
       " 'CreationTime': datetime.datetime(2022, 11, 9, 17, 24, 9, tzinfo=tzlocal()),\n",
       " 'TrainingStartTime': datetime.datetime(2022, 11, 9, 17, 24, 13, tzinfo=tzlocal()),\n",
       " 'TrainingEndTime': datetime.datetime(2022, 11, 9, 17, 25, 43, tzinfo=tzlocal()),\n",
       " 'TrainingJobStatus': 'Completed',\n",
       " 'TunedHyperParameters': {'alpha': '0.13384576319602826',\n",
       "  'eta': '0.4754938219655661',\n",
       "  'max_depth': '3',\n",
       "  'min_child_weight': '0.2685378116644821'},\n",
       " 'FinalHyperParameterTuningJobObjectiveMetric': {'MetricName': 'validation:accuracy',\n",
       "  'Value': 0.8870400190353394},\n",
       " 'ObjectiveStatus': 'Succeeded'}"
      ]
     },
     "execution_count": 18,
     "metadata": {},
     "output_type": "execute_result"
    }
   ],
   "source": [
    "#sm.describe_hyper_parameter_tuning_job(HyperParameterTuningJobName=tuner_name)   # to review all data\n",
    "sm.describe_hyper_parameter_tuning_job(HyperParameterTuningJobName=tuner_name)['BestTrainingJob']"
   ]
  },
  {
   "cell_type": "markdown",
   "id": "099881e5",
   "metadata": {},
   "source": [
    "We can also utilize Boto3's [`list_training_jobs_for_hyper_parameter_tuning_job()`](https://docs.aws.amazon.com/cli/latest/reference/sagemaker/list-training-jobs-for-hyper-parameter-tuning-job.html) function to review the results. This can be sorted by the value of the objective function or by the metric definitions. More functions available for Amazon SageMaker with Boto3 are described on this page: https://boto3.amazonaws.com/v1/documentation/api/latest/reference/services/sagemaker.html"
   ]
  },
  {
   "cell_type": "code",
   "execution_count": 19,
   "id": "0d1fac3e",
   "metadata": {},
   "outputs": [
    {
     "name": "stdout",
     "output_type": "stream",
     "text": [
      "bayesian-221109-1710-040-ac99c1c6 Metrics: {'train:mlogloss': 0.006680000107735395, 'train:accuracy': 1.0, 'validation:accuracy': 0.8870400190353394, 'validation:mlogloss': 0.35910001397132874, 'ObjectiveMetric': 0.8870400190353394}\n",
      "bayesian-221109-1710-039-4f87be6b Metrics: {'train:mlogloss': 0.007540000136941671, 'train:accuracy': 1.0, 'validation:accuracy': 0.8870400190353394, 'validation:mlogloss': 0.3491399884223938, 'ObjectiveMetric': 0.8870400190353394}\n",
      "bayesian-221109-1710-029-729a0685 Metrics: {'train:mlogloss': 0.010329999960958958, 'train:accuracy': 1.0, 'validation:accuracy': 0.8870400190353394, 'validation:mlogloss': 0.353659987449646, 'ObjectiveMetric': 0.8870400190353394}\n",
      "bayesian-221109-1710-042-f634b4f2 Metrics: {'train:mlogloss': 0.01107999961823225, 'train:accuracy': 1.0, 'validation:accuracy': 0.8851799964904785, 'validation:mlogloss': 0.3716199994087219, 'ObjectiveMetric': 0.8851799964904785}\n",
      "bayesian-221109-1710-043-b024d6ee Metrics: {'train:mlogloss': 0.015720000490546227, 'train:accuracy': 1.0, 'validation:accuracy': 0.8833299875259399, 'validation:mlogloss': 0.3889999985694885, 'ObjectiveMetric': 0.8833299875259399}\n",
      "bayesian-221109-1710-034-7b922743 Metrics: {'train:mlogloss': 0.014030000194907188, 'train:accuracy': 1.0, 'validation:accuracy': 0.8833299875259399, 'validation:mlogloss': 0.36263999342918396, 'ObjectiveMetric': 0.8833299875259399}\n",
      "bayesian-221109-1710-049-b7cc9a3c Metrics: {'train:mlogloss': 0.008899999782443047, 'train:accuracy': 1.0, 'validation:accuracy': 0.8833299875259399, 'validation:mlogloss': 0.356689989566803, 'ObjectiveMetric': 0.8833299875259399}\n",
      "bayesian-221109-1710-050-1b260544 Metrics: {'train:mlogloss': 0.01051000040024519, 'train:accuracy': 1.0, 'validation:accuracy': 0.8833299875259399, 'validation:mlogloss': 0.3606800138950348, 'ObjectiveMetric': 0.8833299875259399}\n",
      "bayesian-221109-1710-048-a2e22905 Metrics: {'train:mlogloss': 0.006539999973028898, 'train:accuracy': 1.0, 'validation:accuracy': 0.8833299875259399, 'validation:mlogloss': 0.4168199896812439, 'ObjectiveMetric': 0.8833299875259399}\n",
      "bayesian-221109-1710-012-69df9bee Metrics: {'train:mlogloss': 0.00750999990850687, 'train:accuracy': 1.0, 'validation:accuracy': 0.8814799785614014, 'validation:mlogloss': 0.4229600131511688, 'ObjectiveMetric': 0.8814799785614014}\n"
     ]
    }
   ],
   "source": [
    "hpo_jobs = sm.list_training_jobs_for_hyper_parameter_tuning_job(\n",
    "    HyperParameterTuningJobName=tuner_name,\n",
    "    MaxResults=100,\n",
    "    SortBy='FinalObjectiveMetricValue',\n",
    "    SortOrder='Descending')\n",
    "\n",
    "for job in hpo_jobs['TrainingJobSummaries'][:10]:\n",
    "    job_descr = sm.describe_training_job(TrainingJobName=job['TrainingJobName'])\n",
    "    metrics = {m['MetricName']:  m['Value'] for m in job_descr['FinalMetricDataList']}\n",
    "    print(f'{job[\"TrainingJobName\"]} Metrics: {metrics}')"
   ]
  },
  {
   "cell_type": "markdown",
   "id": "c3b96e50",
   "metadata": {
    "tags": []
   },
   "source": [
    "## Visualize AMT job results and tuned Hyperparameters\n",
    "\n",
    "Finally, we want to interactively visualize the impact of our hyperparameters and their values on the optimization objective.\n",
    "\n",
    "To do this, we utilize the Altair statistical visualization library for Python, and have written two custom analysis scripts `job_analytics.py` and `reporting_util.py` that we make available with this notebook.\n",
    "\n",
    "In an upcoming notebook and article we will dive deeper into the analysis of this data. "
   ]
  },
  {
   "cell_type": "code",
   "execution_count": 20,
   "id": "2cdb24e6",
   "metadata": {},
   "outputs": [
    {
     "name": "stdout",
     "output_type": "stream",
     "text": [
      "\u001b[33mWARNING: Ignoring invalid distribution -orch (/opt/homebrew/Caskroom/miniforge/base/envs/amt/lib/python3.9/site-packages)\u001b[0m\u001b[33m\n",
      "\u001b[0m\u001b[33mWARNING: Ignoring invalid distribution -orch (/opt/homebrew/Caskroom/miniforge/base/envs/amt/lib/python3.9/site-packages)\u001b[0m\u001b[33m\n",
      "\u001b[0m\u001b[33mWARNING: Ignoring invalid distribution -orch (/opt/homebrew/Caskroom/miniforge/base/envs/amt/lib/python3.9/site-packages)\u001b[0m\u001b[33m\n",
      "\u001b[0m\u001b[33mWARNING: Ignoring invalid distribution -orch (/opt/homebrew/Caskroom/miniforge/base/envs/amt/lib/python3.9/site-packages)\u001b[0m\u001b[33m\n",
      "\u001b[0m\u001b[33mWARNING: Ignoring invalid distribution -orch (/opt/homebrew/Caskroom/miniforge/base/envs/amt/lib/python3.9/site-packages)\u001b[0m\u001b[33m\n",
      "\u001b[0m\u001b[33mWARNING: Ignoring invalid distribution -orch (/opt/homebrew/Caskroom/miniforge/base/envs/amt/lib/python3.9/site-packages)\u001b[0m\u001b[33m\n",
      "\u001b[0m"
     ]
    }
   ],
   "source": [
    "!pip install -Uq pip altair"
   ]
  },
  {
   "cell_type": "markdown",
   "id": "df221864",
   "metadata": {},
   "source": [
    "Please ensure that the role used by SageMaker allows the `cloudwatch:ListMetrics` action on [IAM](https://console.aws.amazon.com/iam)."
   ]
  },
  {
   "cell_type": "code",
   "execution_count": 21,
   "id": "d4396d94",
   "metadata": {},
   "outputs": [
    {
     "name": "stdout",
     "output_type": "stream",
     "text": [
      "Tuning job bayesian-221109-1710      status: Completed\n",
      "\n",
      "Number of training jobs with valid objective: 50\n",
      "Lowest: 0.8481500148773193 Highest 0.8870400190353394\n"
     ]
    },
    {
     "data": {
      "text/html": [
       "<div>\n",
       "<style scoped>\n",
       "    .dataframe tbody tr th:only-of-type {\n",
       "        vertical-align: middle;\n",
       "    }\n",
       "\n",
       "    .dataframe tbody tr th {\n",
       "        vertical-align: top;\n",
       "    }\n",
       "\n",
       "    .dataframe thead th {\n",
       "        text-align: right;\n",
       "    }\n",
       "</style>\n",
       "<table border=\"1\" class=\"dataframe\">\n",
       "  <thead>\n",
       "    <tr style=\"text-align: right;\">\n",
       "      <th></th>\n",
       "      <th>alpha</th>\n",
       "      <th>eta</th>\n",
       "      <th>max_depth</th>\n",
       "      <th>min_child_weight</th>\n",
       "      <th>TrainingJobName</th>\n",
       "      <th>TrainingJobStatus</th>\n",
       "      <th>TrainingStartTime</th>\n",
       "      <th>TrainingEndTime</th>\n",
       "      <th>TrainingElapsedTimeSeconds</th>\n",
       "      <th>TuningJobName</th>\n",
       "      <th>validation:accuracy</th>\n",
       "    </tr>\n",
       "  </thead>\n",
       "  <tbody>\n",
       "    <tr>\n",
       "      <th>10</th>\n",
       "      <td>0.133846</td>\n",
       "      <td>0.475494</td>\n",
       "      <td>3.0</td>\n",
       "      <td>0.268538</td>\n",
       "      <td>bayesian-221109-1710-040-ac99c1c6</td>\n",
       "      <td>Completed</td>\n",
       "      <td>2022-11-09 17:24:13+01:00</td>\n",
       "      <td>2022-11-09 17:25:43+01:00</td>\n",
       "      <td>90.0</td>\n",
       "      <td>bayesian-221109-1710</td>\n",
       "      <td>0.88704</td>\n",
       "    </tr>\n",
       "    <tr>\n",
       "      <th>11</th>\n",
       "      <td>0.133078</td>\n",
       "      <td>0.465251</td>\n",
       "      <td>3.0</td>\n",
       "      <td>0.401888</td>\n",
       "      <td>bayesian-221109-1710-039-4f87be6b</td>\n",
       "      <td>Completed</td>\n",
       "      <td>2022-11-09 17:23:47+01:00</td>\n",
       "      <td>2022-11-09 17:24:24+01:00</td>\n",
       "      <td>37.0</td>\n",
       "      <td>bayesian-221109-1710</td>\n",
       "      <td>0.88704</td>\n",
       "    </tr>\n",
       "    <tr>\n",
       "      <th>21</th>\n",
       "      <td>0.133450</td>\n",
       "      <td>0.468464</td>\n",
       "      <td>3.0</td>\n",
       "      <td>0.550744</td>\n",
       "      <td>bayesian-221109-1710-029-729a0685</td>\n",
       "      <td>Completed</td>\n",
       "      <td>2022-11-09 17:20:56+01:00</td>\n",
       "      <td>2022-11-09 17:21:33+01:00</td>\n",
       "      <td>37.0</td>\n",
       "      <td>bayesian-221109-1710</td>\n",
       "      <td>0.88704</td>\n",
       "    </tr>\n",
       "    <tr>\n",
       "      <th>8</th>\n",
       "      <td>0.134174</td>\n",
       "      <td>0.478866</td>\n",
       "      <td>3.0</td>\n",
       "      <td>0.904726</td>\n",
       "      <td>bayesian-221109-1710-042-f634b4f2</td>\n",
       "      <td>Completed</td>\n",
       "      <td>2022-11-09 17:24:39+01:00</td>\n",
       "      <td>2022-11-09 17:25:16+01:00</td>\n",
       "      <td>37.0</td>\n",
       "      <td>bayesian-221109-1710</td>\n",
       "      <td>0.88518</td>\n",
       "    </tr>\n",
       "    <tr>\n",
       "      <th>0</th>\n",
       "      <td>0.143103</td>\n",
       "      <td>0.473520</td>\n",
       "      <td>3.0</td>\n",
       "      <td>0.019137</td>\n",
       "      <td>bayesian-221109-1710-050-1b260544</td>\n",
       "      <td>Completed</td>\n",
       "      <td>2022-11-09 17:27:25+01:00</td>\n",
       "      <td>2022-11-09 17:28:02+01:00</td>\n",
       "      <td>37.0</td>\n",
       "      <td>bayesian-221109-1710</td>\n",
       "      <td>0.88333</td>\n",
       "    </tr>\n",
       "    <tr>\n",
       "      <th>2</th>\n",
       "      <td>0.123554</td>\n",
       "      <td>0.469292</td>\n",
       "      <td>4.0</td>\n",
       "      <td>0.010716</td>\n",
       "      <td>bayesian-221109-1710-048-a2e22905</td>\n",
       "      <td>Completed</td>\n",
       "      <td>2022-11-09 17:26:53+01:00</td>\n",
       "      <td>2022-11-09 17:27:30+01:00</td>\n",
       "      <td>37.0</td>\n",
       "      <td>bayesian-221109-1710</td>\n",
       "      <td>0.88333</td>\n",
       "    </tr>\n",
       "    <tr>\n",
       "      <th>1</th>\n",
       "      <td>0.131674</td>\n",
       "      <td>0.472294</td>\n",
       "      <td>3.0</td>\n",
       "      <td>0.094985</td>\n",
       "      <td>bayesian-221109-1710-049-b7cc9a3c</td>\n",
       "      <td>Completed</td>\n",
       "      <td>2022-11-09 17:29:25+01:00</td>\n",
       "      <td>2022-11-09 17:30:42+01:00</td>\n",
       "      <td>77.0</td>\n",
       "      <td>bayesian-221109-1710</td>\n",
       "      <td>0.88333</td>\n",
       "    </tr>\n",
       "    <tr>\n",
       "      <th>7</th>\n",
       "      <td>0.107742</td>\n",
       "      <td>0.471631</td>\n",
       "      <td>3.0</td>\n",
       "      <td>0.464330</td>\n",
       "      <td>bayesian-221109-1710-043-b024d6ee</td>\n",
       "      <td>Completed</td>\n",
       "      <td>2022-11-09 17:25:30+01:00</td>\n",
       "      <td>2022-11-09 17:26:07+01:00</td>\n",
       "      <td>37.0</td>\n",
       "      <td>bayesian-221109-1710</td>\n",
       "      <td>0.88333</td>\n",
       "    </tr>\n",
       "    <tr>\n",
       "      <th>16</th>\n",
       "      <td>0.134781</td>\n",
       "      <td>0.468845</td>\n",
       "      <td>3.0</td>\n",
       "      <td>0.616691</td>\n",
       "      <td>bayesian-221109-1710-034-7b922743</td>\n",
       "      <td>Completed</td>\n",
       "      <td>2022-11-09 17:22:32+01:00</td>\n",
       "      <td>2022-11-09 17:23:09+01:00</td>\n",
       "      <td>37.0</td>\n",
       "      <td>bayesian-221109-1710</td>\n",
       "      <td>0.88333</td>\n",
       "    </tr>\n",
       "    <tr>\n",
       "      <th>3</th>\n",
       "      <td>0.132051</td>\n",
       "      <td>0.473439</td>\n",
       "      <td>3.0</td>\n",
       "      <td>1.169961</td>\n",
       "      <td>bayesian-221109-1710-047-c1a305ae</td>\n",
       "      <td>Completed</td>\n",
       "      <td>2022-11-09 17:26:36+01:00</td>\n",
       "      <td>2022-11-09 17:27:13+01:00</td>\n",
       "      <td>37.0</td>\n",
       "      <td>bayesian-221109-1710</td>\n",
       "      <td>0.88148</td>\n",
       "    </tr>\n",
       "  </tbody>\n",
       "</table>\n",
       "</div>"
      ],
      "text/plain": [
       "       alpha       eta  max_depth  min_child_weight                    TrainingJobName TrainingJobStatus         TrainingStartTime           TrainingEndTime  TrainingElapsedTimeSeconds         TuningJobName  validation:accuracy\n",
       "10  0.133846  0.475494        3.0          0.268538  bayesian-221109-1710-040-ac99c1c6         Completed 2022-11-09 17:24:13+01:00 2022-11-09 17:25:43+01:00                        90.0  bayesian-221109-1710              0.88704\n",
       "11  0.133078  0.465251        3.0          0.401888  bayesian-221109-1710-039-4f87be6b         Completed 2022-11-09 17:23:47+01:00 2022-11-09 17:24:24+01:00                        37.0  bayesian-221109-1710              0.88704\n",
       "21  0.133450  0.468464        3.0          0.550744  bayesian-221109-1710-029-729a0685         Completed 2022-11-09 17:20:56+01:00 2022-11-09 17:21:33+01:00                        37.0  bayesian-221109-1710              0.88704\n",
       "8   0.134174  0.478866        3.0          0.904726  bayesian-221109-1710-042-f634b4f2         Completed 2022-11-09 17:24:39+01:00 2022-11-09 17:25:16+01:00                        37.0  bayesian-221109-1710              0.88518\n",
       "0   0.143103  0.473520        3.0          0.019137  bayesian-221109-1710-050-1b260544         Completed 2022-11-09 17:27:25+01:00 2022-11-09 17:28:02+01:00                        37.0  bayesian-221109-1710              0.88333\n",
       "2   0.123554  0.469292        4.0          0.010716  bayesian-221109-1710-048-a2e22905         Completed 2022-11-09 17:26:53+01:00 2022-11-09 17:27:30+01:00                        37.0  bayesian-221109-1710              0.88333\n",
       "1   0.131674  0.472294        3.0          0.094985  bayesian-221109-1710-049-b7cc9a3c         Completed 2022-11-09 17:29:25+01:00 2022-11-09 17:30:42+01:00                        77.0  bayesian-221109-1710              0.88333\n",
       "7   0.107742  0.471631        3.0          0.464330  bayesian-221109-1710-043-b024d6ee         Completed 2022-11-09 17:25:30+01:00 2022-11-09 17:26:07+01:00                        37.0  bayesian-221109-1710              0.88333\n",
       "16  0.134781  0.468845        3.0          0.616691  bayesian-221109-1710-034-7b922743         Completed 2022-11-09 17:22:32+01:00 2022-11-09 17:23:09+01:00                        37.0  bayesian-221109-1710              0.88333\n",
       "3   0.132051  0.473439        3.0          1.169961  bayesian-221109-1710-047-c1a305ae         Completed 2022-11-09 17:26:36+01:00 2022-11-09 17:27:13+01:00                        37.0  bayesian-221109-1710              0.88148"
      ]
     },
     "metadata": {},
     "output_type": "display_data"
    },
    {
     "data": {
      "application/vnd.vegalite.v4+json": {
       "$schema": "https://vega.github.io/schema/vega-lite/v4.17.0.json",
       "config": {
        "view": {
         "continuousHeight": 300,
         "continuousWidth": 400
        }
       },
       "datasets": {
        "data-75c2387e03371a58e72349f8e6d7bee9": [
         {
          "TrainingElapsedTimeSeconds": 42,
          "TrainingEndTime": "2022-11-09T17:18:35+01:00",
          "TrainingJobName": "bayesian-221109-1710-018-57482788",
          "TrainingJobStatus": "Completed",
          "TrainingStartTime": "2022-11-09T17:17:53+01:00",
          "TuningJobName": "bayesian-221109-1710",
          "alpha": 0.24244184443352665,
          "eta": 0.24256696105343895,
          "max_depth": 1,
          "min_child_weight": 0.4482830425966675,
          "validation:accuracy": 0.8481500148773193
         },
         {
          "TrainingElapsedTimeSeconds": 37,
          "TrainingEndTime": "2022-11-09T17:22:45+01:00",
          "TrainingJobName": "bayesian-221109-1710-033-17187389",
          "TrainingJobStatus": "Completed",
          "TrainingStartTime": "2022-11-09T17:22:08+01:00",
          "TuningJobName": "bayesian-221109-1710",
          "alpha": 0.12431370407125096,
          "eta": 0.13023858185368714,
          "max_depth": 6,
          "min_child_weight": 0.1471254919292182,
          "validation:accuracy": 0.8481500148773193
         },
         {
          "TrainingElapsedTimeSeconds": 38,
          "TrainingEndTime": "2022-11-09T17:22:25+01:00",
          "TrainingJobName": "bayesian-221109-1710-032-91813ba8",
          "TrainingJobStatus": "Completed",
          "TrainingStartTime": "2022-11-09T17:21:47+01:00",
          "TuningJobName": "bayesian-221109-1710",
          "alpha": 0.155836039707437,
          "eta": 0.44306446755198603,
          "max_depth": 10,
          "min_child_weight": 1.1477264316045344,
          "validation:accuracy": 0.8518499732017517
         },
         {
          "TrainingElapsedTimeSeconds": 104,
          "TrainingEndTime": "2022-11-09T17:13:54+01:00",
          "TrainingJobName": "bayesian-221109-1710-002-90be36f8",
          "TrainingJobStatus": "Completed",
          "TrainingStartTime": "2022-11-09T17:12:10+01:00",
          "TuningJobName": "bayesian-221109-1710",
          "alpha": 0.47037565597943715,
          "eta": 0.14849888381737655,
          "max_depth": 8,
          "min_child_weight": 0.473726815984743,
          "validation:accuracy": 0.8611099720001221
         },
         {
          "TrainingElapsedTimeSeconds": 37,
          "TrainingEndTime": "2022-11-09T17:16:31+01:00",
          "TrainingJobName": "bayesian-221109-1710-011-ecb99645",
          "TrainingJobStatus": "Completed",
          "TrainingStartTime": "2022-11-09T17:15:54+01:00",
          "TuningJobName": "bayesian-221109-1710",
          "alpha": 0.048388559225601036,
          "eta": 0.4958887509038923,
          "max_depth": 4,
          "min_child_weight": 0.3555368278439728,
          "validation:accuracy": 0.8629599809646606
         },
         {
          "TrainingElapsedTimeSeconds": 37,
          "TrainingEndTime": "2022-11-09T17:20:44+01:00",
          "TrainingJobName": "bayesian-221109-1710-026-9499f96f",
          "TrainingJobStatus": "Completed",
          "TrainingStartTime": "2022-11-09T17:20:07+01:00",
          "TuningJobName": "bayesian-221109-1710",
          "alpha": 0.237488433429909,
          "eta": 0.4687013892716976,
          "max_depth": 9,
          "min_child_weight": 0.6891534112950972,
          "validation:accuracy": 0.8629599809646606
         },
         {
          "TrainingElapsedTimeSeconds": 37,
          "TrainingEndTime": "2022-11-09T17:23:34+01:00",
          "TrainingJobName": "bayesian-221109-1710-036-931bd66d",
          "TrainingJobStatus": "Completed",
          "TrainingStartTime": "2022-11-09T17:22:57+01:00",
          "TuningJobName": "bayesian-221109-1710",
          "alpha": 0.12632641025334151,
          "eta": 0.44861283242539174,
          "max_depth": 1,
          "min_child_weight": 0.5385415796165446,
          "validation:accuracy": 0.8629599809646606
         },
         {
          "TrainingElapsedTimeSeconds": 42,
          "TrainingEndTime": "2022-11-09T17:20:34+01:00",
          "TrainingJobName": "bayesian-221109-1710-025-c26afc30",
          "TrainingJobStatus": "Completed",
          "TrainingStartTime": "2022-11-09T17:19:52+01:00",
          "TuningJobName": "bayesian-221109-1710",
          "alpha": 0.0865736458022872,
          "eta": 0.4875337341949544,
          "max_depth": 9,
          "min_child_weight": 0.5618316370152643,
          "validation:accuracy": 0.8648200035095215
         },
         {
          "TrainingElapsedTimeSeconds": 42,
          "TrainingEndTime": "2022-11-09T17:14:38+01:00",
          "TrainingJobName": "bayesian-221109-1710-005-98a7ba60",
          "TrainingJobStatus": "Completed",
          "TrainingStartTime": "2022-11-09T17:13:56+01:00",
          "TuningJobName": "bayesian-221109-1710",
          "alpha": 0.4795374650255895,
          "eta": 0.4359474776228035,
          "max_depth": 6,
          "min_child_weight": 1.0143049862790363,
          "validation:accuracy": 0.8648200035095215
         },
         {
          "TrainingElapsedTimeSeconds": 37,
          "TrainingEndTime": "2022-11-09T17:19:54+01:00",
          "TrainingJobName": "bayesian-221109-1710-023-ddc45fee",
          "TrainingJobStatus": "Completed",
          "TrainingStartTime": "2022-11-09T17:19:17+01:00",
          "TuningJobName": "bayesian-221109-1710",
          "alpha": 0.18704460181949695,
          "eta": 0.4857817023229801,
          "max_depth": 2,
          "min_child_weight": 0.6676863519277076,
          "validation:accuracy": 0.8648200035095215
         },
         {
          "TrainingElapsedTimeSeconds": 63,
          "TrainingEndTime": "2022-11-09T17:15:56+01:00",
          "TrainingJobName": "bayesian-221109-1710-008-6a2b2a35",
          "TrainingJobStatus": "Completed",
          "TrainingStartTime": "2022-11-09T17:14:53+01:00",
          "TuningJobName": "bayesian-221109-1710",
          "alpha": 0.07717783899319096,
          "eta": 0.4004859564354608,
          "max_depth": 7,
          "min_child_weight": 0.6196928778325077,
          "validation:accuracy": 0.8666700124740601
         },
         {
          "TrainingElapsedTimeSeconds": 37,
          "TrainingEndTime": "2022-11-09T17:23:59+01:00",
          "TrainingJobName": "bayesian-221109-1710-037-0c28c31a",
          "TrainingJobStatus": "Completed",
          "TrainingStartTime": "2022-11-09T17:23:22+01:00",
          "TuningJobName": "bayesian-221109-1710",
          "alpha": 0.1318590888072409,
          "eta": 0.42361625878941744,
          "max_depth": 4,
          "min_child_weight": 0.4700219207474637,
          "validation:accuracy": 0.8685200214385986
         },
         {
          "TrainingElapsedTimeSeconds": 37,
          "TrainingEndTime": "2022-11-09T17:18:10+01:00",
          "TrainingJobName": "bayesian-221109-1710-017-d1cf4af0",
          "TrainingJobStatus": "Completed",
          "TrainingStartTime": "2022-11-09T17:17:33+01:00",
          "TuningJobName": "bayesian-221109-1710",
          "alpha": 0.22981842653332948,
          "eta": 0.19978347824271983,
          "max_depth": 8,
          "min_child_weight": 0.35898672600944503,
          "validation:accuracy": 0.8685200214385986
         },
         {
          "TrainingElapsedTimeSeconds": 42,
          "TrainingEndTime": "2022-11-09T17:14:36+01:00",
          "TrainingJobName": "bayesian-221109-1710-004-531fdf39",
          "TrainingJobStatus": "Completed",
          "TrainingStartTime": "2022-11-09T17:13:54+01:00",
          "TuningJobName": "bayesian-221109-1710",
          "alpha": 0.14953733961104637,
          "eta": 0.4182967084861,
          "max_depth": 1,
          "min_child_weight": 1.781469474574333,
          "validation:accuracy": 0.8685200214385986
         },
         {
          "TrainingElapsedTimeSeconds": 37,
          "TrainingEndTime": "2022-11-09T17:21:55+01:00",
          "TrainingJobName": "bayesian-221109-1710-030-824ceccd",
          "TrainingJobStatus": "Completed",
          "TrainingStartTime": "2022-11-09T17:21:18+01:00",
          "TuningJobName": "bayesian-221109-1710",
          "alpha": 0.09094480694055652,
          "eta": 0.41053672305544764,
          "max_depth": 5,
          "min_child_weight": 0.7397401085556254,
          "validation:accuracy": 0.8685200214385986
         },
         {
          "TrainingElapsedTimeSeconds": 37,
          "TrainingEndTime": "2022-11-09T17:19:03+01:00",
          "TrainingJobName": "bayesian-221109-1710-020-07dad350",
          "TrainingJobStatus": "Completed",
          "TrainingStartTime": "2022-11-09T17:18:26+01:00",
          "TuningJobName": "bayesian-221109-1710",
          "alpha": 0.41878040425502694,
          "eta": 0.374730955677098,
          "max_depth": 8,
          "min_child_weight": 1.7986420085859416,
          "validation:accuracy": 0.8685200214385986
         },
         {
          "TrainingElapsedTimeSeconds": 37,
          "TrainingEndTime": "2022-11-09T17:21:26+01:00",
          "TrainingJobName": "bayesian-221109-1710-028-853ed15a",
          "TrainingJobStatus": "Completed",
          "TrainingStartTime": "2022-11-09T17:20:49+01:00",
          "TuningJobName": "bayesian-221109-1710",
          "alpha": 0.23846111490433236,
          "eta": 0.46302051839775404,
          "max_depth": 9,
          "min_child_weight": 0.8681806879887057,
          "validation:accuracy": 0.8685200214385986
         },
         {
          "TrainingElapsedTimeSeconds": 37,
          "TrainingEndTime": "2022-11-09T17:18:03+01:00",
          "TrainingJobName": "bayesian-221109-1710-016-24f96469",
          "TrainingJobStatus": "Completed",
          "TrainingStartTime": "2022-11-09T17:17:26+01:00",
          "TuningJobName": "bayesian-221109-1710",
          "alpha": 0.43930292189924297,
          "eta": 0.4867896699083555,
          "max_depth": 9,
          "min_child_weight": 0.7330657381442562,
          "validation:accuracy": 0.8703699707984924
         },
         {
          "TrainingElapsedTimeSeconds": 37,
          "TrainingEndTime": "2022-11-09T17:23:17+01:00",
          "TrainingJobName": "bayesian-221109-1710-035-46bf07bb",
          "TrainingJobStatus": "Completed",
          "TrainingStartTime": "2022-11-09T17:22:40+01:00",
          "TuningJobName": "bayesian-221109-1710",
          "alpha": 0.1586115883249109,
          "eta": 0.45209010783208214,
          "max_depth": 4,
          "min_child_weight": 0.5495661383925053,
          "validation:accuracy": 0.872219979763031
         },
         {
          "TrainingElapsedTimeSeconds": 38,
          "TrainingEndTime": "2022-11-09T17:20:16+01:00",
          "TrainingJobName": "bayesian-221109-1710-024-13c0bfef",
          "TrainingJobStatus": "Completed",
          "TrainingStartTime": "2022-11-09T17:19:38+01:00",
          "TuningJobName": "bayesian-221109-1710",
          "alpha": 0.28029298253559976,
          "eta": 0.4864148447415586,
          "max_depth": 9,
          "min_child_weight": 0.7418099103122029,
          "validation:accuracy": 0.872219979763031
         },
         {
          "TrainingElapsedTimeSeconds": 37,
          "TrainingEndTime": "2022-11-09T17:21:04+01:00",
          "TrainingJobName": "bayesian-221109-1710-027-512a7259",
          "TrainingJobStatus": "Completed",
          "TrainingStartTime": "2022-11-09T17:20:27+01:00",
          "TuningJobName": "bayesian-221109-1710",
          "alpha": 0.25156515086886344,
          "eta": 0.338202574770886,
          "max_depth": 9,
          "min_child_weight": 0.2411010402960086,
          "validation:accuracy": 0.8740699887275696
         },
         {
          "TrainingElapsedTimeSeconds": 82,
          "TrainingEndTime": "2022-11-09T17:13:32+01:00",
          "TrainingJobName": "bayesian-221109-1710-001-0355688d",
          "TrainingJobStatus": "Completed",
          "TrainingStartTime": "2022-11-09T17:12:10+01:00",
          "TuningJobName": "bayesian-221109-1710",
          "alpha": 0.021383727066690117,
          "eta": 0.4784888513695801,
          "max_depth": 10,
          "min_child_weight": 1.1624609955181986,
          "validation:accuracy": 0.8740699887275696
         },
         {
          "TrainingElapsedTimeSeconds": 37,
          "TrainingEndTime": "2022-11-09T17:14:44+01:00",
          "TrainingJobName": "bayesian-221109-1710-006-9663d0ca",
          "TrainingJobStatus": "Completed",
          "TrainingStartTime": "2022-11-09T17:14:07+01:00",
          "TuningJobName": "bayesian-221109-1710",
          "alpha": 0.31110695091767104,
          "eta": 0.5,
          "max_depth": 10,
          "min_child_weight": 0.6660186986647649,
          "validation:accuracy": 0.8740699887275696
         },
         {
          "TrainingElapsedTimeSeconds": 33,
          "TrainingEndTime": "2022-11-09T17:18:54+01:00",
          "TrainingJobName": "bayesian-221109-1710-019-01cde0e8",
          "TrainingJobStatus": "Completed",
          "TrainingStartTime": "2022-11-09T17:18:21+01:00",
          "TuningJobName": "bayesian-221109-1710",
          "alpha": 0.1597516033239337,
          "eta": 0.2702557299030393,
          "max_depth": 3,
          "min_child_weight": 0.1785808093828003,
          "validation:accuracy": 0.8740699887275696
         },
         {
          "TrainingElapsedTimeSeconds": 38,
          "TrainingEndTime": "2022-11-09T17:17:21+01:00",
          "TrainingJobName": "bayesian-221109-1710-014-21a2ce0d",
          "TrainingJobStatus": "Completed",
          "TrainingStartTime": "2022-11-09T17:16:43+01:00",
          "TuningJobName": "bayesian-221109-1710",
          "alpha": 0.09369306831280126,
          "eta": 0.3980449506391541,
          "max_depth": 5,
          "min_child_weight": 0.7051355502558501,
          "validation:accuracy": 0.8740699887275696
         },
         {
          "TrainingElapsedTimeSeconds": 42,
          "TrainingEndTime": "2022-11-09T17:17:15+01:00",
          "TrainingJobName": "bayesian-221109-1710-013-182c1781",
          "TrainingJobStatus": "Completed",
          "TrainingStartTime": "2022-11-09T17:16:33+01:00",
          "TuningJobName": "bayesian-221109-1710",
          "alpha": 0.3121114019891912,
          "eta": 0.4850185927544981,
          "max_depth": 10,
          "min_child_weight": 0.42880154165690687,
          "validation:accuracy": 0.8740699887275696
         },
         {
          "TrainingElapsedTimeSeconds": 79,
          "TrainingEndTime": "2022-11-09T17:13:41+01:00",
          "TrainingJobName": "bayesian-221109-1710-003-0616213d",
          "TrainingJobStatus": "Completed",
          "TrainingStartTime": "2022-11-09T17:12:22+01:00",
          "TuningJobName": "bayesian-221109-1710",
          "alpha": 0.07492798745299431,
          "eta": 0.48192100776924807,
          "max_depth": 5,
          "min_child_weight": 0.9637204979226581,
          "validation:accuracy": 0.8759300112724304
         },
         {
          "TrainingElapsedTimeSeconds": 43,
          "TrainingEndTime": "2022-11-09T17:15:33+01:00",
          "TrainingJobName": "bayesian-221109-1710-007-dbab10f7",
          "TrainingJobStatus": "Completed",
          "TrainingStartTime": "2022-11-09T17:14:50+01:00",
          "TuningJobName": "bayesian-221109-1710",
          "alpha": 0.06942206769119941,
          "eta": 0.36914971518611484,
          "max_depth": 6,
          "min_child_weight": 0.6736475214975997,
          "validation:accuracy": 0.8759300112724304
         },
         {
          "TrainingElapsedTimeSeconds": 42,
          "TrainingEndTime": "2022-11-09T17:17:38+01:00",
          "TrainingJobName": "bayesian-221109-1710-015-392404c3",
          "TrainingJobStatus": "Completed",
          "TrainingStartTime": "2022-11-09T17:16:56+01:00",
          "TuningJobName": "bayesian-221109-1710",
          "alpha": 0.2835699880012227,
          "eta": 0.48478474520640635,
          "max_depth": 7,
          "min_child_weight": 0.544867124480187,
          "validation:accuracy": 0.8759300112724304
         },
         {
          "TrainingElapsedTimeSeconds": 37,
          "TrainingEndTime": "2022-11-09T17:26:20+01:00",
          "TrainingJobName": "bayesian-221109-1710-044-1d0bfb79",
          "TrainingJobStatus": "Completed",
          "TrainingStartTime": "2022-11-09T17:25:43+01:00",
          "TuningJobName": "bayesian-221109-1710",
          "alpha": 0.13338050861977632,
          "eta": 0.45839002709723153,
          "max_depth": 3,
          "min_child_weight": 0.8971764902573947,
          "validation:accuracy": 0.877780020236969
         },
         {
          "TrainingElapsedTimeSeconds": 37,
          "TrainingEndTime": "2022-11-09T17:24:08+01:00",
          "TrainingJobName": "bayesian-221109-1710-038-a39a0939",
          "TrainingJobStatus": "Completed",
          "TrainingStartTime": "2022-11-09T17:23:31+01:00",
          "TuningJobName": "bayesian-221109-1710",
          "alpha": 0.1314344693032615,
          "eta": 0.4652121683163425,
          "max_depth": 3,
          "min_child_weight": 1.4466309066547662,
          "validation:accuracy": 0.877780020236969
         },
         {
          "TrainingElapsedTimeSeconds": 32,
          "TrainingEndTime": "2022-11-09T17:19:25+01:00",
          "TrainingJobName": "bayesian-221109-1710-021-7a346701",
          "TrainingJobStatus": "Completed",
          "TrainingStartTime": "2022-11-09T17:18:53+01:00",
          "TuningJobName": "bayesian-221109-1710",
          "alpha": 0.2772643837989786,
          "eta": 0.40159402079872386,
          "max_depth": 9,
          "min_child_weight": 1.0820400452786116,
          "validation:accuracy": 0.877780020236969
         },
         {
          "TrainingElapsedTimeSeconds": 37,
          "TrainingEndTime": "2022-11-09T17:16:21+01:00",
          "TrainingJobName": "bayesian-221109-1710-010-8a6b3e7c",
          "TrainingJobStatus": "Completed",
          "TrainingStartTime": "2022-11-09T17:15:44+01:00",
          "TuningJobName": "bayesian-221109-1710",
          "alpha": 0.054744220010276484,
          "eta": 0.4990518989346122,
          "max_depth": 4,
          "min_child_weight": 1.650143980482474,
          "validation:accuracy": 0.877780020236969
         },
         {
          "TrainingElapsedTimeSeconds": 42,
          "TrainingEndTime": "2022-11-09T17:15:42+01:00",
          "TrainingJobName": "bayesian-221109-1710-009-f50441ec",
          "TrainingJobStatus": "Completed",
          "TrainingStartTime": "2022-11-09T17:15:00+01:00",
          "TuningJobName": "bayesian-221109-1710",
          "alpha": 0.09284562934840246,
          "eta": 0.48317911264054203,
          "max_depth": 5,
          "min_child_weight": 0.7173395257255488,
          "validation:accuracy": 0.8796300292015076
         },
         {
          "TrainingElapsedTimeSeconds": 31,
          "TrainingEndTime": "2022-11-09T17:19:40+01:00",
          "TrainingJobName": "bayesian-221109-1710-022-11bc3ed0",
          "TrainingJobStatus": "Completed",
          "TrainingStartTime": "2022-11-09T17:19:09+01:00",
          "TuningJobName": "bayesian-221109-1710",
          "alpha": 0.13437847666684224,
          "eta": 0.48728023212456095,
          "max_depth": 3,
          "min_child_weight": 0.549219760373165,
          "validation:accuracy": 0.8796300292015076
         },
         {
          "TrainingElapsedTimeSeconds": 71,
          "TrainingEndTime": "2022-11-09T17:25:32+01:00",
          "TrainingJobName": "bayesian-221109-1710-041-6b754eee",
          "TrainingJobStatus": "Completed",
          "TrainingStartTime": "2022-11-09T17:24:21+01:00",
          "TuningJobName": "bayesian-221109-1710",
          "alpha": 0.13104691224343637,
          "eta": 0.44621591714514885,
          "max_depth": 3,
          "min_child_weight": 0.6293657179068141,
          "validation:accuracy": 0.8796300292015076
         },
         {
          "TrainingElapsedTimeSeconds": 37,
          "TrainingEndTime": "2022-11-09T17:22:19+01:00",
          "TrainingJobName": "bayesian-221109-1710-031-ffb9157a",
          "TrainingJobStatus": "Completed",
          "TrainingStartTime": "2022-11-09T17:21:42+01:00",
          "TuningJobName": "bayesian-221109-1710",
          "alpha": 0.2512046429124952,
          "eta": 0.4205195923397862,
          "max_depth": 10,
          "min_child_weight": 0.578276110865364,
          "validation:accuracy": 0.8796300292015076
         },
         {
          "TrainingElapsedTimeSeconds": 37,
          "TrainingEndTime": "2022-11-09T17:27:13+01:00",
          "TrainingJobName": "bayesian-221109-1710-047-c1a305ae",
          "TrainingJobStatus": "Completed",
          "TrainingStartTime": "2022-11-09T17:26:36+01:00",
          "TuningJobName": "bayesian-221109-1710",
          "alpha": 0.13205127670225214,
          "eta": 0.4734385736377199,
          "max_depth": 3,
          "min_child_weight": 1.1699606618551324,
          "validation:accuracy": 0.8814799785614014
         },
         {
          "TrainingElapsedTimeSeconds": 42,
          "TrainingEndTime": "2022-11-09T17:26:39+01:00",
          "TrainingJobName": "bayesian-221109-1710-045-bd82f7f9",
          "TrainingJobStatus": "Completed",
          "TrainingStartTime": "2022-11-09T17:25:57+01:00",
          "TuningJobName": "bayesian-221109-1710",
          "alpha": 0.0992973866576095,
          "eta": 0.49024345754830556,
          "max_depth": 5,
          "min_child_weight": 0.3613922811546462,
          "validation:accuracy": 0.8814799785614014
         },
         {
          "TrainingElapsedTimeSeconds": 37,
          "TrainingEndTime": "2022-11-09T17:16:44+01:00",
          "TrainingJobName": "bayesian-221109-1710-012-69df9bee",
          "TrainingJobStatus": "Completed",
          "TrainingStartTime": "2022-11-09T17:16:07+01:00",
          "TuningJobName": "bayesian-221109-1710",
          "alpha": 0.2477994473975714,
          "eta": 0.48542364562355256,
          "max_depth": 9,
          "min_child_weight": 0.5630152033589988,
          "validation:accuracy": 0.8814799785614014
         },
         {
          "TrainingElapsedTimeSeconds": 37,
          "TrainingEndTime": "2022-11-09T17:26:55+01:00",
          "TrainingJobName": "bayesian-221109-1710-046-821a43ed",
          "TrainingJobStatus": "Completed",
          "TrainingStartTime": "2022-11-09T17:26:18+01:00",
          "TuningJobName": "bayesian-221109-1710",
          "alpha": 0.12434423508748711,
          "eta": 0.4759907789545511,
          "max_depth": 3,
          "min_child_weight": 0.9990037276955417,
          "validation:accuracy": 0.8814799785614014
         },
         {
          "TrainingElapsedTimeSeconds": 37,
          "TrainingEndTime": "2022-11-09T17:23:09+01:00",
          "TrainingJobName": "bayesian-221109-1710-034-7b922743",
          "TrainingJobStatus": "Completed",
          "TrainingStartTime": "2022-11-09T17:22:32+01:00",
          "TuningJobName": "bayesian-221109-1710",
          "alpha": 0.13478110859163223,
          "eta": 0.46884513061151145,
          "max_depth": 3,
          "min_child_weight": 0.616690703882489,
          "validation:accuracy": 0.8833299875259399
         },
         {
          "TrainingElapsedTimeSeconds": 37,
          "TrainingEndTime": "2022-11-09T17:26:07+01:00",
          "TrainingJobName": "bayesian-221109-1710-043-b024d6ee",
          "TrainingJobStatus": "Completed",
          "TrainingStartTime": "2022-11-09T17:25:30+01:00",
          "TuningJobName": "bayesian-221109-1710",
          "alpha": 0.10774196516705195,
          "eta": 0.4716314965573496,
          "max_depth": 3,
          "min_child_weight": 0.4643303725868583,
          "validation:accuracy": 0.8833299875259399
         },
         {
          "TrainingElapsedTimeSeconds": 77,
          "TrainingEndTime": "2022-11-09T17:30:42+01:00",
          "TrainingJobName": "bayesian-221109-1710-049-b7cc9a3c",
          "TrainingJobStatus": "Completed",
          "TrainingStartTime": "2022-11-09T17:29:25+01:00",
          "TuningJobName": "bayesian-221109-1710",
          "alpha": 0.13167444359496974,
          "eta": 0.472294011802593,
          "max_depth": 3,
          "min_child_weight": 0.09498464789261729,
          "validation:accuracy": 0.8833299875259399
         },
         {
          "TrainingElapsedTimeSeconds": 37,
          "TrainingEndTime": "2022-11-09T17:27:30+01:00",
          "TrainingJobName": "bayesian-221109-1710-048-a2e22905",
          "TrainingJobStatus": "Completed",
          "TrainingStartTime": "2022-11-09T17:26:53+01:00",
          "TuningJobName": "bayesian-221109-1710",
          "alpha": 0.12355362259680618,
          "eta": 0.46929219524889787,
          "max_depth": 4,
          "min_child_weight": 0.010716243496394103,
          "validation:accuracy": 0.8833299875259399
         },
         {
          "TrainingElapsedTimeSeconds": 37,
          "TrainingEndTime": "2022-11-09T17:28:02+01:00",
          "TrainingJobName": "bayesian-221109-1710-050-1b260544",
          "TrainingJobStatus": "Completed",
          "TrainingStartTime": "2022-11-09T17:27:25+01:00",
          "TuningJobName": "bayesian-221109-1710",
          "alpha": 0.14310316271964238,
          "eta": 0.4735195706671719,
          "max_depth": 3,
          "min_child_weight": 0.01913694449014325,
          "validation:accuracy": 0.8833299875259399
         },
         {
          "TrainingElapsedTimeSeconds": 37,
          "TrainingEndTime": "2022-11-09T17:25:16+01:00",
          "TrainingJobName": "bayesian-221109-1710-042-f634b4f2",
          "TrainingJobStatus": "Completed",
          "TrainingStartTime": "2022-11-09T17:24:39+01:00",
          "TuningJobName": "bayesian-221109-1710",
          "alpha": 0.13417387973244627,
          "eta": 0.4788661987281936,
          "max_depth": 3,
          "min_child_weight": 0.904726387289839,
          "validation:accuracy": 0.8851799964904785
         },
         {
          "TrainingElapsedTimeSeconds": 37,
          "TrainingEndTime": "2022-11-09T17:21:33+01:00",
          "TrainingJobName": "bayesian-221109-1710-029-729a0685",
          "TrainingJobStatus": "Completed",
          "TrainingStartTime": "2022-11-09T17:20:56+01:00",
          "TuningJobName": "bayesian-221109-1710",
          "alpha": 0.13345037775216204,
          "eta": 0.4684640917693811,
          "max_depth": 3,
          "min_child_weight": 0.5507440493409577,
          "validation:accuracy": 0.8870400190353394
         },
         {
          "TrainingElapsedTimeSeconds": 37,
          "TrainingEndTime": "2022-11-09T17:24:24+01:00",
          "TrainingJobName": "bayesian-221109-1710-039-4f87be6b",
          "TrainingJobStatus": "Completed",
          "TrainingStartTime": "2022-11-09T17:23:47+01:00",
          "TuningJobName": "bayesian-221109-1710",
          "alpha": 0.13307772171368562,
          "eta": 0.4652512386829082,
          "max_depth": 3,
          "min_child_weight": 0.40188812236307114,
          "validation:accuracy": 0.8870400190353394
         },
         {
          "TrainingElapsedTimeSeconds": 90,
          "TrainingEndTime": "2022-11-09T17:25:43+01:00",
          "TrainingJobName": "bayesian-221109-1710-040-ac99c1c6",
          "TrainingJobStatus": "Completed",
          "TrainingStartTime": "2022-11-09T17:24:13+01:00",
          "TuningJobName": "bayesian-221109-1710",
          "alpha": 0.13384576319602826,
          "eta": 0.4754938219655661,
          "max_depth": 3,
          "min_child_weight": 0.2685378116644821,
          "validation:accuracy": 0.8870400190353394
         }
        ],
        "data-a1d73c2806f5253ad18870131ffa5042": [
         {
          "TrainingElapsedTimeSeconds": 90,
          "TrainingEndTime": "2022-11-09T17:25:43+01:00",
          "TrainingJobName": "bayesian-221109-1710-040-ac99c1c6",
          "TrainingJobStatus": "Completed",
          "TrainingStartTime": "2022-11-09T17:24:13+01:00",
          "TuningJobName": "bayesian-221109-1710",
          "alpha": 0.13384576319602826,
          "eta": 0.4754938219655661,
          "max_depth": 3,
          "min_child_weight": 0.2685378116644821,
          "validation:accuracy": 0.8870400190353394
         },
         {
          "TrainingElapsedTimeSeconds": 37,
          "TrainingEndTime": "2022-11-09T17:24:24+01:00",
          "TrainingJobName": "bayesian-221109-1710-039-4f87be6b",
          "TrainingJobStatus": "Completed",
          "TrainingStartTime": "2022-11-09T17:23:47+01:00",
          "TuningJobName": "bayesian-221109-1710",
          "alpha": 0.13307772171368562,
          "eta": 0.4652512386829082,
          "max_depth": 3,
          "min_child_weight": 0.40188812236307114,
          "validation:accuracy": 0.8870400190353394
         },
         {
          "TrainingElapsedTimeSeconds": 37,
          "TrainingEndTime": "2022-11-09T17:21:33+01:00",
          "TrainingJobName": "bayesian-221109-1710-029-729a0685",
          "TrainingJobStatus": "Completed",
          "TrainingStartTime": "2022-11-09T17:20:56+01:00",
          "TuningJobName": "bayesian-221109-1710",
          "alpha": 0.13345037775216204,
          "eta": 0.4684640917693811,
          "max_depth": 3,
          "min_child_weight": 0.5507440493409577,
          "validation:accuracy": 0.8870400190353394
         },
         {
          "TrainingElapsedTimeSeconds": 37,
          "TrainingEndTime": "2022-11-09T17:25:16+01:00",
          "TrainingJobName": "bayesian-221109-1710-042-f634b4f2",
          "TrainingJobStatus": "Completed",
          "TrainingStartTime": "2022-11-09T17:24:39+01:00",
          "TuningJobName": "bayesian-221109-1710",
          "alpha": 0.13417387973244627,
          "eta": 0.4788661987281936,
          "max_depth": 3,
          "min_child_weight": 0.904726387289839,
          "validation:accuracy": 0.8851799964904785
         },
         {
          "TrainingElapsedTimeSeconds": 37,
          "TrainingEndTime": "2022-11-09T17:28:02+01:00",
          "TrainingJobName": "bayesian-221109-1710-050-1b260544",
          "TrainingJobStatus": "Completed",
          "TrainingStartTime": "2022-11-09T17:27:25+01:00",
          "TuningJobName": "bayesian-221109-1710",
          "alpha": 0.14310316271964238,
          "eta": 0.4735195706671719,
          "max_depth": 3,
          "min_child_weight": 0.01913694449014325,
          "validation:accuracy": 0.8833299875259399
         },
         {
          "TrainingElapsedTimeSeconds": 37,
          "TrainingEndTime": "2022-11-09T17:27:30+01:00",
          "TrainingJobName": "bayesian-221109-1710-048-a2e22905",
          "TrainingJobStatus": "Completed",
          "TrainingStartTime": "2022-11-09T17:26:53+01:00",
          "TuningJobName": "bayesian-221109-1710",
          "alpha": 0.12355362259680618,
          "eta": 0.46929219524889787,
          "max_depth": 4,
          "min_child_weight": 0.010716243496394103,
          "validation:accuracy": 0.8833299875259399
         },
         {
          "TrainingElapsedTimeSeconds": 77,
          "TrainingEndTime": "2022-11-09T17:30:42+01:00",
          "TrainingJobName": "bayesian-221109-1710-049-b7cc9a3c",
          "TrainingJobStatus": "Completed",
          "TrainingStartTime": "2022-11-09T17:29:25+01:00",
          "TuningJobName": "bayesian-221109-1710",
          "alpha": 0.13167444359496974,
          "eta": 0.472294011802593,
          "max_depth": 3,
          "min_child_weight": 0.09498464789261729,
          "validation:accuracy": 0.8833299875259399
         },
         {
          "TrainingElapsedTimeSeconds": 37,
          "TrainingEndTime": "2022-11-09T17:26:07+01:00",
          "TrainingJobName": "bayesian-221109-1710-043-b024d6ee",
          "TrainingJobStatus": "Completed",
          "TrainingStartTime": "2022-11-09T17:25:30+01:00",
          "TuningJobName": "bayesian-221109-1710",
          "alpha": 0.10774196516705195,
          "eta": 0.4716314965573496,
          "max_depth": 3,
          "min_child_weight": 0.4643303725868583,
          "validation:accuracy": 0.8833299875259399
         },
         {
          "TrainingElapsedTimeSeconds": 37,
          "TrainingEndTime": "2022-11-09T17:23:09+01:00",
          "TrainingJobName": "bayesian-221109-1710-034-7b922743",
          "TrainingJobStatus": "Completed",
          "TrainingStartTime": "2022-11-09T17:22:32+01:00",
          "TuningJobName": "bayesian-221109-1710",
          "alpha": 0.13478110859163223,
          "eta": 0.46884513061151145,
          "max_depth": 3,
          "min_child_weight": 0.616690703882489,
          "validation:accuracy": 0.8833299875259399
         },
         {
          "TrainingElapsedTimeSeconds": 37,
          "TrainingEndTime": "2022-11-09T17:27:13+01:00",
          "TrainingJobName": "bayesian-221109-1710-047-c1a305ae",
          "TrainingJobStatus": "Completed",
          "TrainingStartTime": "2022-11-09T17:26:36+01:00",
          "TuningJobName": "bayesian-221109-1710",
          "alpha": 0.13205127670225214,
          "eta": 0.4734385736377199,
          "max_depth": 3,
          "min_child_weight": 1.1699606618551324,
          "validation:accuracy": 0.8814799785614014
         },
         {
          "TrainingElapsedTimeSeconds": 37,
          "TrainingEndTime": "2022-11-09T17:26:55+01:00",
          "TrainingJobName": "bayesian-221109-1710-046-821a43ed",
          "TrainingJobStatus": "Completed",
          "TrainingStartTime": "2022-11-09T17:26:18+01:00",
          "TuningJobName": "bayesian-221109-1710",
          "alpha": 0.12434423508748711,
          "eta": 0.4759907789545511,
          "max_depth": 3,
          "min_child_weight": 0.9990037276955417,
          "validation:accuracy": 0.8814799785614014
         },
         {
          "TrainingElapsedTimeSeconds": 42,
          "TrainingEndTime": "2022-11-09T17:26:39+01:00",
          "TrainingJobName": "bayesian-221109-1710-045-bd82f7f9",
          "TrainingJobStatus": "Completed",
          "TrainingStartTime": "2022-11-09T17:25:57+01:00",
          "TuningJobName": "bayesian-221109-1710",
          "alpha": 0.0992973866576095,
          "eta": 0.49024345754830556,
          "max_depth": 5,
          "min_child_weight": 0.3613922811546462,
          "validation:accuracy": 0.8814799785614014
         },
         {
          "TrainingElapsedTimeSeconds": 37,
          "TrainingEndTime": "2022-11-09T17:16:44+01:00",
          "TrainingJobName": "bayesian-221109-1710-012-69df9bee",
          "TrainingJobStatus": "Completed",
          "TrainingStartTime": "2022-11-09T17:16:07+01:00",
          "TuningJobName": "bayesian-221109-1710",
          "alpha": 0.2477994473975714,
          "eta": 0.48542364562355256,
          "max_depth": 9,
          "min_child_weight": 0.5630152033589988,
          "validation:accuracy": 0.8814799785614014
         },
         {
          "TrainingElapsedTimeSeconds": 37,
          "TrainingEndTime": "2022-11-09T17:22:19+01:00",
          "TrainingJobName": "bayesian-221109-1710-031-ffb9157a",
          "TrainingJobStatus": "Completed",
          "TrainingStartTime": "2022-11-09T17:21:42+01:00",
          "TuningJobName": "bayesian-221109-1710",
          "alpha": 0.2512046429124952,
          "eta": 0.4205195923397862,
          "max_depth": 10,
          "min_child_weight": 0.578276110865364,
          "validation:accuracy": 0.8796300292015076
         },
         {
          "TrainingElapsedTimeSeconds": 71,
          "TrainingEndTime": "2022-11-09T17:25:32+01:00",
          "TrainingJobName": "bayesian-221109-1710-041-6b754eee",
          "TrainingJobStatus": "Completed",
          "TrainingStartTime": "2022-11-09T17:24:21+01:00",
          "TuningJobName": "bayesian-221109-1710",
          "alpha": 0.13104691224343637,
          "eta": 0.44621591714514885,
          "max_depth": 3,
          "min_child_weight": 0.6293657179068141,
          "validation:accuracy": 0.8796300292015076
         },
         {
          "TrainingElapsedTimeSeconds": 31,
          "TrainingEndTime": "2022-11-09T17:19:40+01:00",
          "TrainingJobName": "bayesian-221109-1710-022-11bc3ed0",
          "TrainingJobStatus": "Completed",
          "TrainingStartTime": "2022-11-09T17:19:09+01:00",
          "TuningJobName": "bayesian-221109-1710",
          "alpha": 0.13437847666684224,
          "eta": 0.48728023212456095,
          "max_depth": 3,
          "min_child_weight": 0.549219760373165,
          "validation:accuracy": 0.8796300292015076
         },
         {
          "TrainingElapsedTimeSeconds": 42,
          "TrainingEndTime": "2022-11-09T17:15:42+01:00",
          "TrainingJobName": "bayesian-221109-1710-009-f50441ec",
          "TrainingJobStatus": "Completed",
          "TrainingStartTime": "2022-11-09T17:15:00+01:00",
          "TuningJobName": "bayesian-221109-1710",
          "alpha": 0.09284562934840246,
          "eta": 0.48317911264054203,
          "max_depth": 5,
          "min_child_weight": 0.7173395257255488,
          "validation:accuracy": 0.8796300292015076
         },
         {
          "TrainingElapsedTimeSeconds": 37,
          "TrainingEndTime": "2022-11-09T17:16:21+01:00",
          "TrainingJobName": "bayesian-221109-1710-010-8a6b3e7c",
          "TrainingJobStatus": "Completed",
          "TrainingStartTime": "2022-11-09T17:15:44+01:00",
          "TuningJobName": "bayesian-221109-1710",
          "alpha": 0.054744220010276484,
          "eta": 0.4990518989346122,
          "max_depth": 4,
          "min_child_weight": 1.650143980482474,
          "validation:accuracy": 0.877780020236969
         },
         {
          "TrainingElapsedTimeSeconds": 32,
          "TrainingEndTime": "2022-11-09T17:19:25+01:00",
          "TrainingJobName": "bayesian-221109-1710-021-7a346701",
          "TrainingJobStatus": "Completed",
          "TrainingStartTime": "2022-11-09T17:18:53+01:00",
          "TuningJobName": "bayesian-221109-1710",
          "alpha": 0.2772643837989786,
          "eta": 0.40159402079872386,
          "max_depth": 9,
          "min_child_weight": 1.0820400452786116,
          "validation:accuracy": 0.877780020236969
         },
         {
          "TrainingElapsedTimeSeconds": 37,
          "TrainingEndTime": "2022-11-09T17:24:08+01:00",
          "TrainingJobName": "bayesian-221109-1710-038-a39a0939",
          "TrainingJobStatus": "Completed",
          "TrainingStartTime": "2022-11-09T17:23:31+01:00",
          "TuningJobName": "bayesian-221109-1710",
          "alpha": 0.1314344693032615,
          "eta": 0.4652121683163425,
          "max_depth": 3,
          "min_child_weight": 1.4466309066547662,
          "validation:accuracy": 0.877780020236969
         },
         {
          "TrainingElapsedTimeSeconds": 37,
          "TrainingEndTime": "2022-11-09T17:26:20+01:00",
          "TrainingJobName": "bayesian-221109-1710-044-1d0bfb79",
          "TrainingJobStatus": "Completed",
          "TrainingStartTime": "2022-11-09T17:25:43+01:00",
          "TuningJobName": "bayesian-221109-1710",
          "alpha": 0.13338050861977632,
          "eta": 0.45839002709723153,
          "max_depth": 3,
          "min_child_weight": 0.8971764902573947,
          "validation:accuracy": 0.877780020236969
         },
         {
          "TrainingElapsedTimeSeconds": 43,
          "TrainingEndTime": "2022-11-09T17:15:33+01:00",
          "TrainingJobName": "bayesian-221109-1710-007-dbab10f7",
          "TrainingJobStatus": "Completed",
          "TrainingStartTime": "2022-11-09T17:14:50+01:00",
          "TuningJobName": "bayesian-221109-1710",
          "alpha": 0.06942206769119941,
          "eta": 0.36914971518611484,
          "max_depth": 6,
          "min_child_weight": 0.6736475214975997,
          "validation:accuracy": 0.8759300112724304
         },
         {
          "TrainingElapsedTimeSeconds": 79,
          "TrainingEndTime": "2022-11-09T17:13:41+01:00",
          "TrainingJobName": "bayesian-221109-1710-003-0616213d",
          "TrainingJobStatus": "Completed",
          "TrainingStartTime": "2022-11-09T17:12:22+01:00",
          "TuningJobName": "bayesian-221109-1710",
          "alpha": 0.07492798745299431,
          "eta": 0.48192100776924807,
          "max_depth": 5,
          "min_child_weight": 0.9637204979226581,
          "validation:accuracy": 0.8759300112724304
         },
         {
          "TrainingElapsedTimeSeconds": 42,
          "TrainingEndTime": "2022-11-09T17:17:38+01:00",
          "TrainingJobName": "bayesian-221109-1710-015-392404c3",
          "TrainingJobStatus": "Completed",
          "TrainingStartTime": "2022-11-09T17:16:56+01:00",
          "TuningJobName": "bayesian-221109-1710",
          "alpha": 0.2835699880012227,
          "eta": 0.48478474520640635,
          "max_depth": 7,
          "min_child_weight": 0.544867124480187,
          "validation:accuracy": 0.8759300112724304
         },
         {
          "TrainingElapsedTimeSeconds": 42,
          "TrainingEndTime": "2022-11-09T17:17:15+01:00",
          "TrainingJobName": "bayesian-221109-1710-013-182c1781",
          "TrainingJobStatus": "Completed",
          "TrainingStartTime": "2022-11-09T17:16:33+01:00",
          "TuningJobName": "bayesian-221109-1710",
          "alpha": 0.3121114019891912,
          "eta": 0.4850185927544981,
          "max_depth": 10,
          "min_child_weight": 0.42880154165690687,
          "validation:accuracy": 0.8740699887275696
         },
         {
          "TrainingElapsedTimeSeconds": 38,
          "TrainingEndTime": "2022-11-09T17:17:21+01:00",
          "TrainingJobName": "bayesian-221109-1710-014-21a2ce0d",
          "TrainingJobStatus": "Completed",
          "TrainingStartTime": "2022-11-09T17:16:43+01:00",
          "TuningJobName": "bayesian-221109-1710",
          "alpha": 0.09369306831280126,
          "eta": 0.3980449506391541,
          "max_depth": 5,
          "min_child_weight": 0.7051355502558501,
          "validation:accuracy": 0.8740699887275696
         },
         {
          "TrainingElapsedTimeSeconds": 33,
          "TrainingEndTime": "2022-11-09T17:18:54+01:00",
          "TrainingJobName": "bayesian-221109-1710-019-01cde0e8",
          "TrainingJobStatus": "Completed",
          "TrainingStartTime": "2022-11-09T17:18:21+01:00",
          "TuningJobName": "bayesian-221109-1710",
          "alpha": 0.1597516033239337,
          "eta": 0.2702557299030393,
          "max_depth": 3,
          "min_child_weight": 0.1785808093828003,
          "validation:accuracy": 0.8740699887275696
         },
         {
          "TrainingElapsedTimeSeconds": 37,
          "TrainingEndTime": "2022-11-09T17:14:44+01:00",
          "TrainingJobName": "bayesian-221109-1710-006-9663d0ca",
          "TrainingJobStatus": "Completed",
          "TrainingStartTime": "2022-11-09T17:14:07+01:00",
          "TuningJobName": "bayesian-221109-1710",
          "alpha": 0.31110695091767104,
          "eta": 0.5,
          "max_depth": 10,
          "min_child_weight": 0.6660186986647649,
          "validation:accuracy": 0.8740699887275696
         },
         {
          "TrainingElapsedTimeSeconds": 82,
          "TrainingEndTime": "2022-11-09T17:13:32+01:00",
          "TrainingJobName": "bayesian-221109-1710-001-0355688d",
          "TrainingJobStatus": "Completed",
          "TrainingStartTime": "2022-11-09T17:12:10+01:00",
          "TuningJobName": "bayesian-221109-1710",
          "alpha": 0.021383727066690117,
          "eta": 0.4784888513695801,
          "max_depth": 10,
          "min_child_weight": 1.1624609955181986,
          "validation:accuracy": 0.8740699887275696
         },
         {
          "TrainingElapsedTimeSeconds": 37,
          "TrainingEndTime": "2022-11-09T17:21:04+01:00",
          "TrainingJobName": "bayesian-221109-1710-027-512a7259",
          "TrainingJobStatus": "Completed",
          "TrainingStartTime": "2022-11-09T17:20:27+01:00",
          "TuningJobName": "bayesian-221109-1710",
          "alpha": 0.25156515086886344,
          "eta": 0.338202574770886,
          "max_depth": 9,
          "min_child_weight": 0.2411010402960086,
          "validation:accuracy": 0.8740699887275696
         },
         {
          "TrainingElapsedTimeSeconds": 38,
          "TrainingEndTime": "2022-11-09T17:20:16+01:00",
          "TrainingJobName": "bayesian-221109-1710-024-13c0bfef",
          "TrainingJobStatus": "Completed",
          "TrainingStartTime": "2022-11-09T17:19:38+01:00",
          "TuningJobName": "bayesian-221109-1710",
          "alpha": 0.28029298253559976,
          "eta": 0.4864148447415586,
          "max_depth": 9,
          "min_child_weight": 0.7418099103122029,
          "validation:accuracy": 0.872219979763031
         },
         {
          "TrainingElapsedTimeSeconds": 37,
          "TrainingEndTime": "2022-11-09T17:23:17+01:00",
          "TrainingJobName": "bayesian-221109-1710-035-46bf07bb",
          "TrainingJobStatus": "Completed",
          "TrainingStartTime": "2022-11-09T17:22:40+01:00",
          "TuningJobName": "bayesian-221109-1710",
          "alpha": 0.1586115883249109,
          "eta": 0.45209010783208214,
          "max_depth": 4,
          "min_child_weight": 0.5495661383925053,
          "validation:accuracy": 0.872219979763031
         },
         {
          "TrainingElapsedTimeSeconds": 37,
          "TrainingEndTime": "2022-11-09T17:18:03+01:00",
          "TrainingJobName": "bayesian-221109-1710-016-24f96469",
          "TrainingJobStatus": "Completed",
          "TrainingStartTime": "2022-11-09T17:17:26+01:00",
          "TuningJobName": "bayesian-221109-1710",
          "alpha": 0.43930292189924297,
          "eta": 0.4867896699083555,
          "max_depth": 9,
          "min_child_weight": 0.7330657381442562,
          "validation:accuracy": 0.8703699707984924
         },
         {
          "TrainingElapsedTimeSeconds": 37,
          "TrainingEndTime": "2022-11-09T17:23:59+01:00",
          "TrainingJobName": "bayesian-221109-1710-037-0c28c31a",
          "TrainingJobStatus": "Completed",
          "TrainingStartTime": "2022-11-09T17:23:22+01:00",
          "TuningJobName": "bayesian-221109-1710",
          "alpha": 0.1318590888072409,
          "eta": 0.42361625878941744,
          "max_depth": 4,
          "min_child_weight": 0.4700219207474637,
          "validation:accuracy": 0.8685200214385986
         },
         {
          "TrainingElapsedTimeSeconds": 37,
          "TrainingEndTime": "2022-11-09T17:18:10+01:00",
          "TrainingJobName": "bayesian-221109-1710-017-d1cf4af0",
          "TrainingJobStatus": "Completed",
          "TrainingStartTime": "2022-11-09T17:17:33+01:00",
          "TuningJobName": "bayesian-221109-1710",
          "alpha": 0.22981842653332948,
          "eta": 0.19978347824271983,
          "max_depth": 8,
          "min_child_weight": 0.35898672600944503,
          "validation:accuracy": 0.8685200214385986
         },
         {
          "TrainingElapsedTimeSeconds": 42,
          "TrainingEndTime": "2022-11-09T17:14:36+01:00",
          "TrainingJobName": "bayesian-221109-1710-004-531fdf39",
          "TrainingJobStatus": "Completed",
          "TrainingStartTime": "2022-11-09T17:13:54+01:00",
          "TuningJobName": "bayesian-221109-1710",
          "alpha": 0.14953733961104637,
          "eta": 0.4182967084861,
          "max_depth": 1,
          "min_child_weight": 1.781469474574333,
          "validation:accuracy": 0.8685200214385986
         },
         {
          "TrainingElapsedTimeSeconds": 37,
          "TrainingEndTime": "2022-11-09T17:21:26+01:00",
          "TrainingJobName": "bayesian-221109-1710-028-853ed15a",
          "TrainingJobStatus": "Completed",
          "TrainingStartTime": "2022-11-09T17:20:49+01:00",
          "TuningJobName": "bayesian-221109-1710",
          "alpha": 0.23846111490433236,
          "eta": 0.46302051839775404,
          "max_depth": 9,
          "min_child_weight": 0.8681806879887057,
          "validation:accuracy": 0.8685200214385986
         },
         {
          "TrainingElapsedTimeSeconds": 37,
          "TrainingEndTime": "2022-11-09T17:21:55+01:00",
          "TrainingJobName": "bayesian-221109-1710-030-824ceccd",
          "TrainingJobStatus": "Completed",
          "TrainingStartTime": "2022-11-09T17:21:18+01:00",
          "TuningJobName": "bayesian-221109-1710",
          "alpha": 0.09094480694055652,
          "eta": 0.41053672305544764,
          "max_depth": 5,
          "min_child_weight": 0.7397401085556254,
          "validation:accuracy": 0.8685200214385986
         },
         {
          "TrainingElapsedTimeSeconds": 37,
          "TrainingEndTime": "2022-11-09T17:19:03+01:00",
          "TrainingJobName": "bayesian-221109-1710-020-07dad350",
          "TrainingJobStatus": "Completed",
          "TrainingStartTime": "2022-11-09T17:18:26+01:00",
          "TuningJobName": "bayesian-221109-1710",
          "alpha": 0.41878040425502694,
          "eta": 0.374730955677098,
          "max_depth": 8,
          "min_child_weight": 1.7986420085859416,
          "validation:accuracy": 0.8685200214385986
         },
         {
          "TrainingElapsedTimeSeconds": 63,
          "TrainingEndTime": "2022-11-09T17:15:56+01:00",
          "TrainingJobName": "bayesian-221109-1710-008-6a2b2a35",
          "TrainingJobStatus": "Completed",
          "TrainingStartTime": "2022-11-09T17:14:53+01:00",
          "TuningJobName": "bayesian-221109-1710",
          "alpha": 0.07717783899319096,
          "eta": 0.4004859564354608,
          "max_depth": 7,
          "min_child_weight": 0.6196928778325077,
          "validation:accuracy": 0.8666700124740601
         },
         {
          "TrainingElapsedTimeSeconds": 37,
          "TrainingEndTime": "2022-11-09T17:19:54+01:00",
          "TrainingJobName": "bayesian-221109-1710-023-ddc45fee",
          "TrainingJobStatus": "Completed",
          "TrainingStartTime": "2022-11-09T17:19:17+01:00",
          "TuningJobName": "bayesian-221109-1710",
          "alpha": 0.18704460181949695,
          "eta": 0.4857817023229801,
          "max_depth": 2,
          "min_child_weight": 0.6676863519277076,
          "validation:accuracy": 0.8648200035095215
         },
         {
          "TrainingElapsedTimeSeconds": 42,
          "TrainingEndTime": "2022-11-09T17:14:38+01:00",
          "TrainingJobName": "bayesian-221109-1710-005-98a7ba60",
          "TrainingJobStatus": "Completed",
          "TrainingStartTime": "2022-11-09T17:13:56+01:00",
          "TuningJobName": "bayesian-221109-1710",
          "alpha": 0.4795374650255895,
          "eta": 0.4359474776228035,
          "max_depth": 6,
          "min_child_weight": 1.0143049862790363,
          "validation:accuracy": 0.8648200035095215
         },
         {
          "TrainingElapsedTimeSeconds": 42,
          "TrainingEndTime": "2022-11-09T17:20:34+01:00",
          "TrainingJobName": "bayesian-221109-1710-025-c26afc30",
          "TrainingJobStatus": "Completed",
          "TrainingStartTime": "2022-11-09T17:19:52+01:00",
          "TuningJobName": "bayesian-221109-1710",
          "alpha": 0.0865736458022872,
          "eta": 0.4875337341949544,
          "max_depth": 9,
          "min_child_weight": 0.5618316370152643,
          "validation:accuracy": 0.8648200035095215
         },
         {
          "TrainingElapsedTimeSeconds": 37,
          "TrainingEndTime": "2022-11-09T17:23:34+01:00",
          "TrainingJobName": "bayesian-221109-1710-036-931bd66d",
          "TrainingJobStatus": "Completed",
          "TrainingStartTime": "2022-11-09T17:22:57+01:00",
          "TuningJobName": "bayesian-221109-1710",
          "alpha": 0.12632641025334151,
          "eta": 0.44861283242539174,
          "max_depth": 1,
          "min_child_weight": 0.5385415796165446,
          "validation:accuracy": 0.8629599809646606
         },
         {
          "TrainingElapsedTimeSeconds": 37,
          "TrainingEndTime": "2022-11-09T17:20:44+01:00",
          "TrainingJobName": "bayesian-221109-1710-026-9499f96f",
          "TrainingJobStatus": "Completed",
          "TrainingStartTime": "2022-11-09T17:20:07+01:00",
          "TuningJobName": "bayesian-221109-1710",
          "alpha": 0.237488433429909,
          "eta": 0.4687013892716976,
          "max_depth": 9,
          "min_child_weight": 0.6891534112950972,
          "validation:accuracy": 0.8629599809646606
         },
         {
          "TrainingElapsedTimeSeconds": 37,
          "TrainingEndTime": "2022-11-09T17:16:31+01:00",
          "TrainingJobName": "bayesian-221109-1710-011-ecb99645",
          "TrainingJobStatus": "Completed",
          "TrainingStartTime": "2022-11-09T17:15:54+01:00",
          "TuningJobName": "bayesian-221109-1710",
          "alpha": 0.048388559225601036,
          "eta": 0.4958887509038923,
          "max_depth": 4,
          "min_child_weight": 0.3555368278439728,
          "validation:accuracy": 0.8629599809646606
         },
         {
          "TrainingElapsedTimeSeconds": 104,
          "TrainingEndTime": "2022-11-09T17:13:54+01:00",
          "TrainingJobName": "bayesian-221109-1710-002-90be36f8",
          "TrainingJobStatus": "Completed",
          "TrainingStartTime": "2022-11-09T17:12:10+01:00",
          "TuningJobName": "bayesian-221109-1710",
          "alpha": 0.47037565597943715,
          "eta": 0.14849888381737655,
          "max_depth": 8,
          "min_child_weight": 0.473726815984743,
          "validation:accuracy": 0.8611099720001221
         },
         {
          "TrainingElapsedTimeSeconds": 38,
          "TrainingEndTime": "2022-11-09T17:22:25+01:00",
          "TrainingJobName": "bayesian-221109-1710-032-91813ba8",
          "TrainingJobStatus": "Completed",
          "TrainingStartTime": "2022-11-09T17:21:47+01:00",
          "TuningJobName": "bayesian-221109-1710",
          "alpha": 0.155836039707437,
          "eta": 0.44306446755198603,
          "max_depth": 10,
          "min_child_weight": 1.1477264316045344,
          "validation:accuracy": 0.8518499732017517
         },
         {
          "TrainingElapsedTimeSeconds": 37,
          "TrainingEndTime": "2022-11-09T17:22:45+01:00",
          "TrainingJobName": "bayesian-221109-1710-033-17187389",
          "TrainingJobStatus": "Completed",
          "TrainingStartTime": "2022-11-09T17:22:08+01:00",
          "TuningJobName": "bayesian-221109-1710",
          "alpha": 0.12431370407125096,
          "eta": 0.13023858185368714,
          "max_depth": 6,
          "min_child_weight": 0.1471254919292182,
          "validation:accuracy": 0.8481500148773193
         },
         {
          "TrainingElapsedTimeSeconds": 42,
          "TrainingEndTime": "2022-11-09T17:18:35+01:00",
          "TrainingJobName": "bayesian-221109-1710-018-57482788",
          "TrainingJobStatus": "Completed",
          "TrainingStartTime": "2022-11-09T17:17:53+01:00",
          "TuningJobName": "bayesian-221109-1710",
          "alpha": 0.24244184443352665,
          "eta": 0.24256696105343895,
          "max_depth": 1,
          "min_child_weight": 0.4482830425966675,
          "validation:accuracy": 0.8481500148773193
         }
        ],
        "data-e165a0dae0fba258a7b608d84af62052": [
         {
          "TrainingElapsedTimeSeconds": 82,
          "TrainingEndTime": "2022-11-09T17:13:32+01:00",
          "TrainingJobName": "bayesian-221109-1710-001-0355688d",
          "TrainingJobStatus": "Completed",
          "TrainingStartTime": "2022-11-09T17:12:10+01:00",
          "TuningJobName": "bayesian-221109-1710",
          "alpha": 0.021383727066690117,
          "cum_objective": 0.8740699887275696,
          "eta": 0.4784888513695801,
          "max_depth": 10,
          "min_child_weight": 1.1624609955181986,
          "validation:accuracy": 0.8740699887275696
         },
         {
          "TrainingElapsedTimeSeconds": 104,
          "TrainingEndTime": "2022-11-09T17:13:54+01:00",
          "TrainingJobName": "bayesian-221109-1710-002-90be36f8",
          "TrainingJobStatus": "Completed",
          "TrainingStartTime": "2022-11-09T17:12:10+01:00",
          "TuningJobName": "bayesian-221109-1710",
          "alpha": 0.47037565597943715,
          "cum_objective": 0.8740699887275696,
          "eta": 0.14849888381737655,
          "max_depth": 8,
          "min_child_weight": 0.473726815984743,
          "validation:accuracy": 0.8611099720001221
         },
         {
          "TrainingElapsedTimeSeconds": 79,
          "TrainingEndTime": "2022-11-09T17:13:41+01:00",
          "TrainingJobName": "bayesian-221109-1710-003-0616213d",
          "TrainingJobStatus": "Completed",
          "TrainingStartTime": "2022-11-09T17:12:22+01:00",
          "TuningJobName": "bayesian-221109-1710",
          "alpha": 0.07492798745299431,
          "cum_objective": 0.8759300112724304,
          "eta": 0.48192100776924807,
          "max_depth": 5,
          "min_child_weight": 0.9637204979226581,
          "validation:accuracy": 0.8759300112724304
         },
         {
          "TrainingElapsedTimeSeconds": 42,
          "TrainingEndTime": "2022-11-09T17:14:36+01:00",
          "TrainingJobName": "bayesian-221109-1710-004-531fdf39",
          "TrainingJobStatus": "Completed",
          "TrainingStartTime": "2022-11-09T17:13:54+01:00",
          "TuningJobName": "bayesian-221109-1710",
          "alpha": 0.14953733961104637,
          "cum_objective": 0.8759300112724304,
          "eta": 0.4182967084861,
          "max_depth": 1,
          "min_child_weight": 1.781469474574333,
          "validation:accuracy": 0.8685200214385986
         },
         {
          "TrainingElapsedTimeSeconds": 42,
          "TrainingEndTime": "2022-11-09T17:14:38+01:00",
          "TrainingJobName": "bayesian-221109-1710-005-98a7ba60",
          "TrainingJobStatus": "Completed",
          "TrainingStartTime": "2022-11-09T17:13:56+01:00",
          "TuningJobName": "bayesian-221109-1710",
          "alpha": 0.4795374650255895,
          "cum_objective": 0.8759300112724304,
          "eta": 0.4359474776228035,
          "max_depth": 6,
          "min_child_weight": 1.0143049862790363,
          "validation:accuracy": 0.8648200035095215
         },
         {
          "TrainingElapsedTimeSeconds": 37,
          "TrainingEndTime": "2022-11-09T17:14:44+01:00",
          "TrainingJobName": "bayesian-221109-1710-006-9663d0ca",
          "TrainingJobStatus": "Completed",
          "TrainingStartTime": "2022-11-09T17:14:07+01:00",
          "TuningJobName": "bayesian-221109-1710",
          "alpha": 0.31110695091767104,
          "cum_objective": 0.8759300112724304,
          "eta": 0.5,
          "max_depth": 10,
          "min_child_weight": 0.6660186986647649,
          "validation:accuracy": 0.8740699887275696
         },
         {
          "TrainingElapsedTimeSeconds": 43,
          "TrainingEndTime": "2022-11-09T17:15:33+01:00",
          "TrainingJobName": "bayesian-221109-1710-007-dbab10f7",
          "TrainingJobStatus": "Completed",
          "TrainingStartTime": "2022-11-09T17:14:50+01:00",
          "TuningJobName": "bayesian-221109-1710",
          "alpha": 0.06942206769119941,
          "cum_objective": 0.8759300112724304,
          "eta": 0.36914971518611484,
          "max_depth": 6,
          "min_child_weight": 0.6736475214975997,
          "validation:accuracy": 0.8759300112724304
         },
         {
          "TrainingElapsedTimeSeconds": 63,
          "TrainingEndTime": "2022-11-09T17:15:56+01:00",
          "TrainingJobName": "bayesian-221109-1710-008-6a2b2a35",
          "TrainingJobStatus": "Completed",
          "TrainingStartTime": "2022-11-09T17:14:53+01:00",
          "TuningJobName": "bayesian-221109-1710",
          "alpha": 0.07717783899319096,
          "cum_objective": 0.8759300112724304,
          "eta": 0.4004859564354608,
          "max_depth": 7,
          "min_child_weight": 0.6196928778325077,
          "validation:accuracy": 0.8666700124740601
         },
         {
          "TrainingElapsedTimeSeconds": 42,
          "TrainingEndTime": "2022-11-09T17:15:42+01:00",
          "TrainingJobName": "bayesian-221109-1710-009-f50441ec",
          "TrainingJobStatus": "Completed",
          "TrainingStartTime": "2022-11-09T17:15:00+01:00",
          "TuningJobName": "bayesian-221109-1710",
          "alpha": 0.09284562934840246,
          "cum_objective": 0.8796300292015076,
          "eta": 0.48317911264054203,
          "max_depth": 5,
          "min_child_weight": 0.7173395257255488,
          "validation:accuracy": 0.8796300292015076
         },
         {
          "TrainingElapsedTimeSeconds": 37,
          "TrainingEndTime": "2022-11-09T17:16:21+01:00",
          "TrainingJobName": "bayesian-221109-1710-010-8a6b3e7c",
          "TrainingJobStatus": "Completed",
          "TrainingStartTime": "2022-11-09T17:15:44+01:00",
          "TuningJobName": "bayesian-221109-1710",
          "alpha": 0.054744220010276484,
          "cum_objective": 0.8796300292015076,
          "eta": 0.4990518989346122,
          "max_depth": 4,
          "min_child_weight": 1.650143980482474,
          "validation:accuracy": 0.877780020236969
         },
         {
          "TrainingElapsedTimeSeconds": 37,
          "TrainingEndTime": "2022-11-09T17:16:31+01:00",
          "TrainingJobName": "bayesian-221109-1710-011-ecb99645",
          "TrainingJobStatus": "Completed",
          "TrainingStartTime": "2022-11-09T17:15:54+01:00",
          "TuningJobName": "bayesian-221109-1710",
          "alpha": 0.048388559225601036,
          "cum_objective": 0.8796300292015076,
          "eta": 0.4958887509038923,
          "max_depth": 4,
          "min_child_weight": 0.3555368278439728,
          "validation:accuracy": 0.8629599809646606
         },
         {
          "TrainingElapsedTimeSeconds": 37,
          "TrainingEndTime": "2022-11-09T17:16:44+01:00",
          "TrainingJobName": "bayesian-221109-1710-012-69df9bee",
          "TrainingJobStatus": "Completed",
          "TrainingStartTime": "2022-11-09T17:16:07+01:00",
          "TuningJobName": "bayesian-221109-1710",
          "alpha": 0.2477994473975714,
          "cum_objective": 0.8814799785614014,
          "eta": 0.48542364562355256,
          "max_depth": 9,
          "min_child_weight": 0.5630152033589988,
          "validation:accuracy": 0.8814799785614014
         },
         {
          "TrainingElapsedTimeSeconds": 42,
          "TrainingEndTime": "2022-11-09T17:17:15+01:00",
          "TrainingJobName": "bayesian-221109-1710-013-182c1781",
          "TrainingJobStatus": "Completed",
          "TrainingStartTime": "2022-11-09T17:16:33+01:00",
          "TuningJobName": "bayesian-221109-1710",
          "alpha": 0.3121114019891912,
          "cum_objective": 0.8814799785614014,
          "eta": 0.4850185927544981,
          "max_depth": 10,
          "min_child_weight": 0.42880154165690687,
          "validation:accuracy": 0.8740699887275696
         },
         {
          "TrainingElapsedTimeSeconds": 38,
          "TrainingEndTime": "2022-11-09T17:17:21+01:00",
          "TrainingJobName": "bayesian-221109-1710-014-21a2ce0d",
          "TrainingJobStatus": "Completed",
          "TrainingStartTime": "2022-11-09T17:16:43+01:00",
          "TuningJobName": "bayesian-221109-1710",
          "alpha": 0.09369306831280126,
          "cum_objective": 0.8814799785614014,
          "eta": 0.3980449506391541,
          "max_depth": 5,
          "min_child_weight": 0.7051355502558501,
          "validation:accuracy": 0.8740699887275696
         },
         {
          "TrainingElapsedTimeSeconds": 42,
          "TrainingEndTime": "2022-11-09T17:17:38+01:00",
          "TrainingJobName": "bayesian-221109-1710-015-392404c3",
          "TrainingJobStatus": "Completed",
          "TrainingStartTime": "2022-11-09T17:16:56+01:00",
          "TuningJobName": "bayesian-221109-1710",
          "alpha": 0.2835699880012227,
          "cum_objective": 0.8814799785614014,
          "eta": 0.48478474520640635,
          "max_depth": 7,
          "min_child_weight": 0.544867124480187,
          "validation:accuracy": 0.8759300112724304
         },
         {
          "TrainingElapsedTimeSeconds": 37,
          "TrainingEndTime": "2022-11-09T17:18:03+01:00",
          "TrainingJobName": "bayesian-221109-1710-016-24f96469",
          "TrainingJobStatus": "Completed",
          "TrainingStartTime": "2022-11-09T17:17:26+01:00",
          "TuningJobName": "bayesian-221109-1710",
          "alpha": 0.43930292189924297,
          "cum_objective": 0.8814799785614014,
          "eta": 0.4867896699083555,
          "max_depth": 9,
          "min_child_weight": 0.7330657381442562,
          "validation:accuracy": 0.8703699707984924
         },
         {
          "TrainingElapsedTimeSeconds": 37,
          "TrainingEndTime": "2022-11-09T17:18:10+01:00",
          "TrainingJobName": "bayesian-221109-1710-017-d1cf4af0",
          "TrainingJobStatus": "Completed",
          "TrainingStartTime": "2022-11-09T17:17:33+01:00",
          "TuningJobName": "bayesian-221109-1710",
          "alpha": 0.22981842653332948,
          "cum_objective": 0.8814799785614014,
          "eta": 0.19978347824271983,
          "max_depth": 8,
          "min_child_weight": 0.35898672600944503,
          "validation:accuracy": 0.8685200214385986
         },
         {
          "TrainingElapsedTimeSeconds": 42,
          "TrainingEndTime": "2022-11-09T17:18:35+01:00",
          "TrainingJobName": "bayesian-221109-1710-018-57482788",
          "TrainingJobStatus": "Completed",
          "TrainingStartTime": "2022-11-09T17:17:53+01:00",
          "TuningJobName": "bayesian-221109-1710",
          "alpha": 0.24244184443352665,
          "cum_objective": 0.8814799785614014,
          "eta": 0.24256696105343895,
          "max_depth": 1,
          "min_child_weight": 0.4482830425966675,
          "validation:accuracy": 0.8481500148773193
         },
         {
          "TrainingElapsedTimeSeconds": 33,
          "TrainingEndTime": "2022-11-09T17:18:54+01:00",
          "TrainingJobName": "bayesian-221109-1710-019-01cde0e8",
          "TrainingJobStatus": "Completed",
          "TrainingStartTime": "2022-11-09T17:18:21+01:00",
          "TuningJobName": "bayesian-221109-1710",
          "alpha": 0.1597516033239337,
          "cum_objective": 0.8814799785614014,
          "eta": 0.2702557299030393,
          "max_depth": 3,
          "min_child_weight": 0.1785808093828003,
          "validation:accuracy": 0.8740699887275696
         },
         {
          "TrainingElapsedTimeSeconds": 37,
          "TrainingEndTime": "2022-11-09T17:19:03+01:00",
          "TrainingJobName": "bayesian-221109-1710-020-07dad350",
          "TrainingJobStatus": "Completed",
          "TrainingStartTime": "2022-11-09T17:18:26+01:00",
          "TuningJobName": "bayesian-221109-1710",
          "alpha": 0.41878040425502694,
          "cum_objective": 0.8814799785614014,
          "eta": 0.374730955677098,
          "max_depth": 8,
          "min_child_weight": 1.7986420085859416,
          "validation:accuracy": 0.8685200214385986
         },
         {
          "TrainingElapsedTimeSeconds": 32,
          "TrainingEndTime": "2022-11-09T17:19:25+01:00",
          "TrainingJobName": "bayesian-221109-1710-021-7a346701",
          "TrainingJobStatus": "Completed",
          "TrainingStartTime": "2022-11-09T17:18:53+01:00",
          "TuningJobName": "bayesian-221109-1710",
          "alpha": 0.2772643837989786,
          "cum_objective": 0.8814799785614014,
          "eta": 0.40159402079872386,
          "max_depth": 9,
          "min_child_weight": 1.0820400452786116,
          "validation:accuracy": 0.877780020236969
         },
         {
          "TrainingElapsedTimeSeconds": 31,
          "TrainingEndTime": "2022-11-09T17:19:40+01:00",
          "TrainingJobName": "bayesian-221109-1710-022-11bc3ed0",
          "TrainingJobStatus": "Completed",
          "TrainingStartTime": "2022-11-09T17:19:09+01:00",
          "TuningJobName": "bayesian-221109-1710",
          "alpha": 0.13437847666684224,
          "cum_objective": 0.8814799785614014,
          "eta": 0.48728023212456095,
          "max_depth": 3,
          "min_child_weight": 0.549219760373165,
          "validation:accuracy": 0.8796300292015076
         },
         {
          "TrainingElapsedTimeSeconds": 37,
          "TrainingEndTime": "2022-11-09T17:19:54+01:00",
          "TrainingJobName": "bayesian-221109-1710-023-ddc45fee",
          "TrainingJobStatus": "Completed",
          "TrainingStartTime": "2022-11-09T17:19:17+01:00",
          "TuningJobName": "bayesian-221109-1710",
          "alpha": 0.18704460181949695,
          "cum_objective": 0.8814799785614014,
          "eta": 0.4857817023229801,
          "max_depth": 2,
          "min_child_weight": 0.6676863519277076,
          "validation:accuracy": 0.8648200035095215
         },
         {
          "TrainingElapsedTimeSeconds": 38,
          "TrainingEndTime": "2022-11-09T17:20:16+01:00",
          "TrainingJobName": "bayesian-221109-1710-024-13c0bfef",
          "TrainingJobStatus": "Completed",
          "TrainingStartTime": "2022-11-09T17:19:38+01:00",
          "TuningJobName": "bayesian-221109-1710",
          "alpha": 0.28029298253559976,
          "cum_objective": 0.8814799785614014,
          "eta": 0.4864148447415586,
          "max_depth": 9,
          "min_child_weight": 0.7418099103122029,
          "validation:accuracy": 0.872219979763031
         },
         {
          "TrainingElapsedTimeSeconds": 42,
          "TrainingEndTime": "2022-11-09T17:20:34+01:00",
          "TrainingJobName": "bayesian-221109-1710-025-c26afc30",
          "TrainingJobStatus": "Completed",
          "TrainingStartTime": "2022-11-09T17:19:52+01:00",
          "TuningJobName": "bayesian-221109-1710",
          "alpha": 0.0865736458022872,
          "cum_objective": 0.8814799785614014,
          "eta": 0.4875337341949544,
          "max_depth": 9,
          "min_child_weight": 0.5618316370152643,
          "validation:accuracy": 0.8648200035095215
         },
         {
          "TrainingElapsedTimeSeconds": 37,
          "TrainingEndTime": "2022-11-09T17:20:44+01:00",
          "TrainingJobName": "bayesian-221109-1710-026-9499f96f",
          "TrainingJobStatus": "Completed",
          "TrainingStartTime": "2022-11-09T17:20:07+01:00",
          "TuningJobName": "bayesian-221109-1710",
          "alpha": 0.237488433429909,
          "cum_objective": 0.8814799785614014,
          "eta": 0.4687013892716976,
          "max_depth": 9,
          "min_child_weight": 0.6891534112950972,
          "validation:accuracy": 0.8629599809646606
         },
         {
          "TrainingElapsedTimeSeconds": 37,
          "TrainingEndTime": "2022-11-09T17:21:04+01:00",
          "TrainingJobName": "bayesian-221109-1710-027-512a7259",
          "TrainingJobStatus": "Completed",
          "TrainingStartTime": "2022-11-09T17:20:27+01:00",
          "TuningJobName": "bayesian-221109-1710",
          "alpha": 0.25156515086886344,
          "cum_objective": 0.8814799785614014,
          "eta": 0.338202574770886,
          "max_depth": 9,
          "min_child_weight": 0.2411010402960086,
          "validation:accuracy": 0.8740699887275696
         },
         {
          "TrainingElapsedTimeSeconds": 37,
          "TrainingEndTime": "2022-11-09T17:21:26+01:00",
          "TrainingJobName": "bayesian-221109-1710-028-853ed15a",
          "TrainingJobStatus": "Completed",
          "TrainingStartTime": "2022-11-09T17:20:49+01:00",
          "TuningJobName": "bayesian-221109-1710",
          "alpha": 0.23846111490433236,
          "cum_objective": 0.8814799785614014,
          "eta": 0.46302051839775404,
          "max_depth": 9,
          "min_child_weight": 0.8681806879887057,
          "validation:accuracy": 0.8685200214385986
         },
         {
          "TrainingElapsedTimeSeconds": 37,
          "TrainingEndTime": "2022-11-09T17:21:33+01:00",
          "TrainingJobName": "bayesian-221109-1710-029-729a0685",
          "TrainingJobStatus": "Completed",
          "TrainingStartTime": "2022-11-09T17:20:56+01:00",
          "TuningJobName": "bayesian-221109-1710",
          "alpha": 0.13345037775216204,
          "cum_objective": 0.8870400190353394,
          "eta": 0.4684640917693811,
          "max_depth": 3,
          "min_child_weight": 0.5507440493409577,
          "validation:accuracy": 0.8870400190353394
         },
         {
          "TrainingElapsedTimeSeconds": 37,
          "TrainingEndTime": "2022-11-09T17:21:55+01:00",
          "TrainingJobName": "bayesian-221109-1710-030-824ceccd",
          "TrainingJobStatus": "Completed",
          "TrainingStartTime": "2022-11-09T17:21:18+01:00",
          "TuningJobName": "bayesian-221109-1710",
          "alpha": 0.09094480694055652,
          "cum_objective": 0.8870400190353394,
          "eta": 0.41053672305544764,
          "max_depth": 5,
          "min_child_weight": 0.7397401085556254,
          "validation:accuracy": 0.8685200214385986
         },
         {
          "TrainingElapsedTimeSeconds": 37,
          "TrainingEndTime": "2022-11-09T17:22:19+01:00",
          "TrainingJobName": "bayesian-221109-1710-031-ffb9157a",
          "TrainingJobStatus": "Completed",
          "TrainingStartTime": "2022-11-09T17:21:42+01:00",
          "TuningJobName": "bayesian-221109-1710",
          "alpha": 0.2512046429124952,
          "cum_objective": 0.8870400190353394,
          "eta": 0.4205195923397862,
          "max_depth": 10,
          "min_child_weight": 0.578276110865364,
          "validation:accuracy": 0.8796300292015076
         },
         {
          "TrainingElapsedTimeSeconds": 38,
          "TrainingEndTime": "2022-11-09T17:22:25+01:00",
          "TrainingJobName": "bayesian-221109-1710-032-91813ba8",
          "TrainingJobStatus": "Completed",
          "TrainingStartTime": "2022-11-09T17:21:47+01:00",
          "TuningJobName": "bayesian-221109-1710",
          "alpha": 0.155836039707437,
          "cum_objective": 0.8870400190353394,
          "eta": 0.44306446755198603,
          "max_depth": 10,
          "min_child_weight": 1.1477264316045344,
          "validation:accuracy": 0.8518499732017517
         },
         {
          "TrainingElapsedTimeSeconds": 37,
          "TrainingEndTime": "2022-11-09T17:22:45+01:00",
          "TrainingJobName": "bayesian-221109-1710-033-17187389",
          "TrainingJobStatus": "Completed",
          "TrainingStartTime": "2022-11-09T17:22:08+01:00",
          "TuningJobName": "bayesian-221109-1710",
          "alpha": 0.12431370407125096,
          "cum_objective": 0.8870400190353394,
          "eta": 0.13023858185368714,
          "max_depth": 6,
          "min_child_weight": 0.1471254919292182,
          "validation:accuracy": 0.8481500148773193
         },
         {
          "TrainingElapsedTimeSeconds": 37,
          "TrainingEndTime": "2022-11-09T17:23:09+01:00",
          "TrainingJobName": "bayesian-221109-1710-034-7b922743",
          "TrainingJobStatus": "Completed",
          "TrainingStartTime": "2022-11-09T17:22:32+01:00",
          "TuningJobName": "bayesian-221109-1710",
          "alpha": 0.13478110859163223,
          "cum_objective": 0.8870400190353394,
          "eta": 0.46884513061151145,
          "max_depth": 3,
          "min_child_weight": 0.616690703882489,
          "validation:accuracy": 0.8833299875259399
         },
         {
          "TrainingElapsedTimeSeconds": 37,
          "TrainingEndTime": "2022-11-09T17:23:17+01:00",
          "TrainingJobName": "bayesian-221109-1710-035-46bf07bb",
          "TrainingJobStatus": "Completed",
          "TrainingStartTime": "2022-11-09T17:22:40+01:00",
          "TuningJobName": "bayesian-221109-1710",
          "alpha": 0.1586115883249109,
          "cum_objective": 0.8870400190353394,
          "eta": 0.45209010783208214,
          "max_depth": 4,
          "min_child_weight": 0.5495661383925053,
          "validation:accuracy": 0.872219979763031
         },
         {
          "TrainingElapsedTimeSeconds": 37,
          "TrainingEndTime": "2022-11-09T17:23:34+01:00",
          "TrainingJobName": "bayesian-221109-1710-036-931bd66d",
          "TrainingJobStatus": "Completed",
          "TrainingStartTime": "2022-11-09T17:22:57+01:00",
          "TuningJobName": "bayesian-221109-1710",
          "alpha": 0.12632641025334151,
          "cum_objective": 0.8870400190353394,
          "eta": 0.44861283242539174,
          "max_depth": 1,
          "min_child_weight": 0.5385415796165446,
          "validation:accuracy": 0.8629599809646606
         },
         {
          "TrainingElapsedTimeSeconds": 37,
          "TrainingEndTime": "2022-11-09T17:23:59+01:00",
          "TrainingJobName": "bayesian-221109-1710-037-0c28c31a",
          "TrainingJobStatus": "Completed",
          "TrainingStartTime": "2022-11-09T17:23:22+01:00",
          "TuningJobName": "bayesian-221109-1710",
          "alpha": 0.1318590888072409,
          "cum_objective": 0.8870400190353394,
          "eta": 0.42361625878941744,
          "max_depth": 4,
          "min_child_weight": 0.4700219207474637,
          "validation:accuracy": 0.8685200214385986
         },
         {
          "TrainingElapsedTimeSeconds": 37,
          "TrainingEndTime": "2022-11-09T17:24:08+01:00",
          "TrainingJobName": "bayesian-221109-1710-038-a39a0939",
          "TrainingJobStatus": "Completed",
          "TrainingStartTime": "2022-11-09T17:23:31+01:00",
          "TuningJobName": "bayesian-221109-1710",
          "alpha": 0.1314344693032615,
          "cum_objective": 0.8870400190353394,
          "eta": 0.4652121683163425,
          "max_depth": 3,
          "min_child_weight": 1.4466309066547662,
          "validation:accuracy": 0.877780020236969
         },
         {
          "TrainingElapsedTimeSeconds": 37,
          "TrainingEndTime": "2022-11-09T17:24:24+01:00",
          "TrainingJobName": "bayesian-221109-1710-039-4f87be6b",
          "TrainingJobStatus": "Completed",
          "TrainingStartTime": "2022-11-09T17:23:47+01:00",
          "TuningJobName": "bayesian-221109-1710",
          "alpha": 0.13307772171368562,
          "cum_objective": 0.8870400190353394,
          "eta": 0.4652512386829082,
          "max_depth": 3,
          "min_child_weight": 0.40188812236307114,
          "validation:accuracy": 0.8870400190353394
         },
         {
          "TrainingElapsedTimeSeconds": 90,
          "TrainingEndTime": "2022-11-09T17:25:43+01:00",
          "TrainingJobName": "bayesian-221109-1710-040-ac99c1c6",
          "TrainingJobStatus": "Completed",
          "TrainingStartTime": "2022-11-09T17:24:13+01:00",
          "TuningJobName": "bayesian-221109-1710",
          "alpha": 0.13384576319602826,
          "cum_objective": 0.8870400190353394,
          "eta": 0.4754938219655661,
          "max_depth": 3,
          "min_child_weight": 0.2685378116644821,
          "validation:accuracy": 0.8870400190353394
         },
         {
          "TrainingElapsedTimeSeconds": 71,
          "TrainingEndTime": "2022-11-09T17:25:32+01:00",
          "TrainingJobName": "bayesian-221109-1710-041-6b754eee",
          "TrainingJobStatus": "Completed",
          "TrainingStartTime": "2022-11-09T17:24:21+01:00",
          "TuningJobName": "bayesian-221109-1710",
          "alpha": 0.13104691224343637,
          "cum_objective": 0.8870400190353394,
          "eta": 0.44621591714514885,
          "max_depth": 3,
          "min_child_weight": 0.6293657179068141,
          "validation:accuracy": 0.8796300292015076
         },
         {
          "TrainingElapsedTimeSeconds": 37,
          "TrainingEndTime": "2022-11-09T17:25:16+01:00",
          "TrainingJobName": "bayesian-221109-1710-042-f634b4f2",
          "TrainingJobStatus": "Completed",
          "TrainingStartTime": "2022-11-09T17:24:39+01:00",
          "TuningJobName": "bayesian-221109-1710",
          "alpha": 0.13417387973244627,
          "cum_objective": 0.8870400190353394,
          "eta": 0.4788661987281936,
          "max_depth": 3,
          "min_child_weight": 0.904726387289839,
          "validation:accuracy": 0.8851799964904785
         },
         {
          "TrainingElapsedTimeSeconds": 37,
          "TrainingEndTime": "2022-11-09T17:26:07+01:00",
          "TrainingJobName": "bayesian-221109-1710-043-b024d6ee",
          "TrainingJobStatus": "Completed",
          "TrainingStartTime": "2022-11-09T17:25:30+01:00",
          "TuningJobName": "bayesian-221109-1710",
          "alpha": 0.10774196516705195,
          "cum_objective": 0.8870400190353394,
          "eta": 0.4716314965573496,
          "max_depth": 3,
          "min_child_weight": 0.4643303725868583,
          "validation:accuracy": 0.8833299875259399
         },
         {
          "TrainingElapsedTimeSeconds": 37,
          "TrainingEndTime": "2022-11-09T17:26:20+01:00",
          "TrainingJobName": "bayesian-221109-1710-044-1d0bfb79",
          "TrainingJobStatus": "Completed",
          "TrainingStartTime": "2022-11-09T17:25:43+01:00",
          "TuningJobName": "bayesian-221109-1710",
          "alpha": 0.13338050861977632,
          "cum_objective": 0.8870400190353394,
          "eta": 0.45839002709723153,
          "max_depth": 3,
          "min_child_weight": 0.8971764902573947,
          "validation:accuracy": 0.877780020236969
         },
         {
          "TrainingElapsedTimeSeconds": 42,
          "TrainingEndTime": "2022-11-09T17:26:39+01:00",
          "TrainingJobName": "bayesian-221109-1710-045-bd82f7f9",
          "TrainingJobStatus": "Completed",
          "TrainingStartTime": "2022-11-09T17:25:57+01:00",
          "TuningJobName": "bayesian-221109-1710",
          "alpha": 0.0992973866576095,
          "cum_objective": 0.8870400190353394,
          "eta": 0.49024345754830556,
          "max_depth": 5,
          "min_child_weight": 0.3613922811546462,
          "validation:accuracy": 0.8814799785614014
         },
         {
          "TrainingElapsedTimeSeconds": 37,
          "TrainingEndTime": "2022-11-09T17:26:55+01:00",
          "TrainingJobName": "bayesian-221109-1710-046-821a43ed",
          "TrainingJobStatus": "Completed",
          "TrainingStartTime": "2022-11-09T17:26:18+01:00",
          "TuningJobName": "bayesian-221109-1710",
          "alpha": 0.12434423508748711,
          "cum_objective": 0.8870400190353394,
          "eta": 0.4759907789545511,
          "max_depth": 3,
          "min_child_weight": 0.9990037276955417,
          "validation:accuracy": 0.8814799785614014
         },
         {
          "TrainingElapsedTimeSeconds": 37,
          "TrainingEndTime": "2022-11-09T17:27:13+01:00",
          "TrainingJobName": "bayesian-221109-1710-047-c1a305ae",
          "TrainingJobStatus": "Completed",
          "TrainingStartTime": "2022-11-09T17:26:36+01:00",
          "TuningJobName": "bayesian-221109-1710",
          "alpha": 0.13205127670225214,
          "cum_objective": 0.8870400190353394,
          "eta": 0.4734385736377199,
          "max_depth": 3,
          "min_child_weight": 1.1699606618551324,
          "validation:accuracy": 0.8814799785614014
         },
         {
          "TrainingElapsedTimeSeconds": 37,
          "TrainingEndTime": "2022-11-09T17:27:30+01:00",
          "TrainingJobName": "bayesian-221109-1710-048-a2e22905",
          "TrainingJobStatus": "Completed",
          "TrainingStartTime": "2022-11-09T17:26:53+01:00",
          "TuningJobName": "bayesian-221109-1710",
          "alpha": 0.12355362259680618,
          "cum_objective": 0.8870400190353394,
          "eta": 0.46929219524889787,
          "max_depth": 4,
          "min_child_weight": 0.010716243496394103,
          "validation:accuracy": 0.8833299875259399
         },
         {
          "TrainingElapsedTimeSeconds": 37,
          "TrainingEndTime": "2022-11-09T17:28:02+01:00",
          "TrainingJobName": "bayesian-221109-1710-050-1b260544",
          "TrainingJobStatus": "Completed",
          "TrainingStartTime": "2022-11-09T17:27:25+01:00",
          "TuningJobName": "bayesian-221109-1710",
          "alpha": 0.14310316271964238,
          "cum_objective": 0.8870400190353394,
          "eta": 0.4735195706671719,
          "max_depth": 3,
          "min_child_weight": 0.01913694449014325,
          "validation:accuracy": 0.8833299875259399
         },
         {
          "TrainingElapsedTimeSeconds": 77,
          "TrainingEndTime": "2022-11-09T17:30:42+01:00",
          "TrainingJobName": "bayesian-221109-1710-049-b7cc9a3c",
          "TrainingJobStatus": "Completed",
          "TrainingStartTime": "2022-11-09T17:29:25+01:00",
          "TuningJobName": "bayesian-221109-1710",
          "alpha": 0.13167444359496974,
          "cum_objective": 0.8870400190353394,
          "eta": 0.472294011802593,
          "max_depth": 3,
          "min_child_weight": 0.09498464789261729,
          "validation:accuracy": 0.8833299875259399
         }
        ]
       },
       "vconcat": [
        {
         "hconcat": [
          {
           "data": {
            "name": "data-e165a0dae0fba258a7b608d84af62052"
           },
           "encoding": {
            "opacity": {
             "condition": {
              "selection": "selector001",
              "value": 1
             },
             "value": 0.35
            },
            "shape": {
             "field": "TrainingJobStatus",
             "legend": {
              "orient": "right"
             },
             "type": "nominal"
            },
            "stroke": {
             "condition": {
              "selection": "selector002",
              "value": "gold"
             },
             "value": "white"
            },
            "strokeWidth": {
             "condition": {
              "selection": "selector002",
              "value": 2
             },
             "value": 2
            },
            "tooltip": [
             {
              "field": "validation:accuracy",
              "format": ".2e",
              "type": "quantitative"
             },
             {
              "field": "max_depth",
              "format": ".2e",
              "type": "quantitative"
             },
             {
              "field": "alpha",
              "format": ".2e",
              "type": "quantitative"
             },
             {
              "field": "eta",
              "format": ".2e",
              "type": "quantitative"
             },
             {
              "field": "min_child_weight",
              "format": ".2e",
              "type": "quantitative"
             },
             {
              "field": "TrainingStartTime",
              "format": "%H:%M:%S",
              "type": "temporal"
             },
             {
              "field": "TrainingJobName",
              "type": "nominal"
             },
             {
              "field": "TrainingJobStatus",
              "type": "nominal"
             },
             {
              "field": "TrainingElapsedTimeSeconds",
              "type": "quantitative"
             }
            ],
            "x": {
             "field": "TrainingStartTime",
             "scale": {
              "nice": true
             },
             "type": "temporal"
            },
            "y": {
             "axis": {
              "title": "validation:accuracy"
             },
             "field": "validation:accuracy",
             "scale": {
              "padding": 1,
              "zero": false
             },
             "type": "quantitative"
            }
           },
           "mark": {
            "filled": true,
            "size": 50,
            "type": "point"
           },
           "selection": {
            "selector001": {
             "empty": "all",
             "encodings": [
              "x"
             ],
             "resolve": "intersect",
             "type": "interval"
            },
            "selector002": {
             "empty": "none",
             "fields": [
              "TrainingJobName",
              "TrainingStartTime"
             ],
             "nearest": false,
             "on": "mouseover",
             "type": "single"
            }
           }
          },
          {
           "data": {
            "name": "data-a1d73c2806f5253ad18870131ffa5042"
           },
           "encoding": {
            "x": {
             "field": "value",
             "scale": {
              "domain": [
               0.8481500148773193,
               0.8870400190353394
              ]
             },
             "title": "validation:accuracy",
             "type": "quantitative"
            },
            "y": {
             "field": "density",
             "type": "quantitative"
            }
           },
           "mark": "area",
           "transform": [
            {
             "filter": {
              "selection": "selector001"
             }
            },
            {
             "bandwidth": 0.01,
             "density": "validation:accuracy"
            }
           ]
          }
         ],
         "title": "Hyper Parameter Tuning Job"
        },
        {
         "data": {
          "name": "data-a1d73c2806f5253ad18870131ffa5042"
         },
         "title": "Hyper Parameter Details",
         "vconcat": [
          {
           "hconcat": [
            {
             "encoding": {
              "opacity": {
               "condition": {
                "selection": "selector001",
                "value": 1
               },
               "value": 0.35
              },
              "shape": {
               "field": "TrainingJobStatus",
               "legend": {
                "orient": "right"
               },
               "type": "nominal"
              },
              "stroke": {
               "condition": {
                "selection": "selector002",
                "value": "gold"
               },
               "value": "white"
              },
              "strokeWidth": {
               "condition": {
                "selection": "selector002",
                "value": 2
               },
               "value": 2
              },
              "tooltip": [
               {
                "field": "validation:accuracy",
                "format": ".2e",
                "type": "quantitative"
               },
               {
                "field": "max_depth",
                "format": ".2e",
                "type": "quantitative"
               },
               {
                "field": "alpha",
                "format": ".2e",
                "type": "quantitative"
               },
               {
                "field": "eta",
                "format": ".2e",
                "type": "quantitative"
               },
               {
                "field": "min_child_weight",
                "format": ".2e",
                "type": "quantitative"
               },
               {
                "field": "TrainingStartTime",
                "format": "%H:%M:%S",
                "type": "temporal"
               },
               {
                "field": "TrainingJobName",
                "type": "nominal"
               },
               {
                "field": "TrainingJobStatus",
                "type": "nominal"
               },
               {
                "field": "TrainingElapsedTimeSeconds",
                "type": "quantitative"
               }
              ],
              "x": {
               "field": "max_depth",
               "scale": {
                "base": 10,
                "padding": 1,
                "type": "linear",
                "zero": false
               },
               "type": "quantitative"
              },
              "y": {
               "axis": {
                "title": "validation:accuracy"
               },
               "field": "validation:accuracy",
               "scale": {
                "padding": 1,
                "zero": false
               },
               "type": "quantitative"
              }
             },
             "mark": {
              "filled": true,
              "size": 50,
              "type": "point"
             },
             "selection": {
              "selector001": {
               "empty": "all",
               "encodings": [
                "x"
               ],
               "resolve": "intersect",
               "type": "interval"
              },
              "selector002": {
               "empty": "none",
               "fields": [
                "TrainingJobName",
                "TrainingStartTime"
               ],
               "nearest": false,
               "on": "mouseover",
               "type": "single"
              }
             },
             "title": "max_depth"
            },
            {
             "encoding": {
              "opacity": {
               "condition": {
                "selection": "selector001",
                "value": 1
               },
               "value": 0.35
              },
              "shape": {
               "field": "TrainingJobStatus",
               "legend": {
                "orient": "right"
               },
               "type": "nominal"
              },
              "stroke": {
               "condition": {
                "selection": "selector002",
                "value": "gold"
               },
               "value": "white"
              },
              "strokeWidth": {
               "condition": {
                "selection": "selector002",
                "value": 2
               },
               "value": 2
              },
              "tooltip": [
               {
                "field": "validation:accuracy",
                "format": ".2e",
                "type": "quantitative"
               },
               {
                "field": "max_depth",
                "format": ".2e",
                "type": "quantitative"
               },
               {
                "field": "alpha",
                "format": ".2e",
                "type": "quantitative"
               },
               {
                "field": "eta",
                "format": ".2e",
                "type": "quantitative"
               },
               {
                "field": "min_child_weight",
                "format": ".2e",
                "type": "quantitative"
               },
               {
                "field": "TrainingStartTime",
                "format": "%H:%M:%S",
                "type": "temporal"
               },
               {
                "field": "TrainingJobName",
                "type": "nominal"
               },
               {
                "field": "TrainingJobStatus",
                "type": "nominal"
               },
               {
                "field": "TrainingElapsedTimeSeconds",
                "type": "quantitative"
               }
              ],
              "x": {
               "field": "alpha",
               "scale": {
                "base": 10,
                "padding": 1,
                "type": "linear",
                "zero": false
               },
               "type": "quantitative"
              },
              "y": {
               "axis": {
                "title": "validation:accuracy"
               },
               "field": "validation:accuracy",
               "scale": {
                "padding": 1,
                "zero": false
               },
               "type": "quantitative"
              }
             },
             "mark": {
              "filled": true,
              "size": 50,
              "type": "point"
             },
             "selection": {
              "selector001": {
               "empty": "all",
               "encodings": [
                "x"
               ],
               "resolve": "intersect",
               "type": "interval"
              },
              "selector002": {
               "empty": "none",
               "fields": [
                "TrainingJobName",
                "TrainingStartTime"
               ],
               "nearest": false,
               "on": "mouseover",
               "type": "single"
              }
             },
             "title": "alpha"
            }
           ]
          },
          {
           "hconcat": [
            {
             "encoding": {
              "opacity": {
               "condition": {
                "selection": "selector001",
                "value": 1
               },
               "value": 0.35
              },
              "shape": {
               "field": "TrainingJobStatus",
               "legend": {
                "orient": "right"
               },
               "type": "nominal"
              },
              "stroke": {
               "condition": {
                "selection": "selector002",
                "value": "gold"
               },
               "value": "white"
              },
              "strokeWidth": {
               "condition": {
                "selection": "selector002",
                "value": 2
               },
               "value": 2
              },
              "tooltip": [
               {
                "field": "validation:accuracy",
                "format": ".2e",
                "type": "quantitative"
               },
               {
                "field": "max_depth",
                "format": ".2e",
                "type": "quantitative"
               },
               {
                "field": "alpha",
                "format": ".2e",
                "type": "quantitative"
               },
               {
                "field": "eta",
                "format": ".2e",
                "type": "quantitative"
               },
               {
                "field": "min_child_weight",
                "format": ".2e",
                "type": "quantitative"
               },
               {
                "field": "TrainingStartTime",
                "format": "%H:%M:%S",
                "type": "temporal"
               },
               {
                "field": "TrainingJobName",
                "type": "nominal"
               },
               {
                "field": "TrainingJobStatus",
                "type": "nominal"
               },
               {
                "field": "TrainingElapsedTimeSeconds",
                "type": "quantitative"
               }
              ],
              "x": {
               "field": "eta",
               "scale": {
                "base": 10,
                "padding": 1,
                "type": "linear",
                "zero": false
               },
               "type": "quantitative"
              },
              "y": {
               "axis": {
                "title": "validation:accuracy"
               },
               "field": "validation:accuracy",
               "scale": {
                "padding": 1,
                "zero": false
               },
               "type": "quantitative"
              }
             },
             "mark": {
              "filled": true,
              "size": 50,
              "type": "point"
             },
             "selection": {
              "selector001": {
               "empty": "all",
               "encodings": [
                "x"
               ],
               "resolve": "intersect",
               "type": "interval"
              },
              "selector002": {
               "empty": "none",
               "fields": [
                "TrainingJobName",
                "TrainingStartTime"
               ],
               "nearest": false,
               "on": "mouseover",
               "type": "single"
              }
             },
             "title": "eta"
            },
            {
             "encoding": {
              "opacity": {
               "condition": {
                "selection": "selector001",
                "value": 1
               },
               "value": 0.35
              },
              "shape": {
               "field": "TrainingJobStatus",
               "legend": {
                "orient": "right"
               },
               "type": "nominal"
              },
              "stroke": {
               "condition": {
                "selection": "selector002",
                "value": "gold"
               },
               "value": "white"
              },
              "strokeWidth": {
               "condition": {
                "selection": "selector002",
                "value": 2
               },
               "value": 2
              },
              "tooltip": [
               {
                "field": "validation:accuracy",
                "format": ".2e",
                "type": "quantitative"
               },
               {
                "field": "max_depth",
                "format": ".2e",
                "type": "quantitative"
               },
               {
                "field": "alpha",
                "format": ".2e",
                "type": "quantitative"
               },
               {
                "field": "eta",
                "format": ".2e",
                "type": "quantitative"
               },
               {
                "field": "min_child_weight",
                "format": ".2e",
                "type": "quantitative"
               },
               {
                "field": "TrainingStartTime",
                "format": "%H:%M:%S",
                "type": "temporal"
               },
               {
                "field": "TrainingJobName",
                "type": "nominal"
               },
               {
                "field": "TrainingJobStatus",
                "type": "nominal"
               },
               {
                "field": "TrainingElapsedTimeSeconds",
                "type": "quantitative"
               }
              ],
              "x": {
               "field": "min_child_weight",
               "scale": {
                "base": 10,
                "padding": 1,
                "type": "linear",
                "zero": false
               },
               "type": "quantitative"
              },
              "y": {
               "axis": {
                "title": "validation:accuracy"
               },
               "field": "validation:accuracy",
               "scale": {
                "padding": 1,
                "zero": false
               },
               "type": "quantitative"
              }
             },
             "mark": {
              "filled": true,
              "size": 50,
              "type": "point"
             },
             "selection": {
              "selector001": {
               "empty": "all",
               "encodings": [
                "x"
               ],
               "resolve": "intersect",
               "type": "interval"
              },
              "selector002": {
               "empty": "none",
               "fields": [
                "TrainingJobName",
                "TrainingStartTime"
               ],
               "nearest": false,
               "on": "mouseover",
               "type": "single"
              }
             },
             "title": "min_child_weight"
            }
           ]
          }
         ]
        },
        {
         "vconcat": [
          {
           "data": {
            "name": "data-75c2387e03371a58e72349f8e6d7bee9"
           },
           "encoding": {
            "color": {
             "field": "TrainingJobName",
             "type": "nominal"
            },
            "opacity": {
             "condition": {
              "selection": "selector001",
              "value": 1
             },
             "value": 0.35
            },
            "shape": {
             "field": "TrainingJobStatus",
             "legend": {
              "orient": "right"
             },
             "type": "nominal"
            },
            "stroke": {
             "condition": {
              "selection": "selector002",
              "value": "gold"
             },
             "value": "white"
            },
            "strokeWidth": {
             "condition": {
              "selection": "selector002",
              "value": 2
             },
             "value": 2
            },
            "x": {
             "field": "TrainingJobName",
             "sort": null,
             "type": "nominal"
            },
            "y": {
             "field": "validation:accuracy",
             "type": "quantitative"
            }
           },
           "mark": "bar",
           "selection": {
            "selector001": {
             "empty": "all",
             "encodings": [
              "x"
             ],
             "resolve": "intersect",
             "type": "interval"
            },
            "selector002": {
             "empty": "none",
             "fields": [
              "TrainingJobName",
              "TrainingStartTime"
             ],
             "nearest": false,
             "on": "mouseover",
             "type": "single"
            }
           },
           "title": "Training Jobs"
          },
          {
           "hconcat": []
          }
         ]
        }
       ]
      },
      "image/png": "[encoded data removed]",
      "text/plain": [
       "<VegaLite 4 object>\n",
       "\n",
       "If you see this message, it means the renderer has not been properly enabled\n",
       "for the frontend that you are using. For more information, see\n",
       "https://altair-viz.github.io/user_guide/troubleshooting.html\n"
      ]
     },
     "execution_count": 21,
     "metadata": {},
     "output_type": "execute_result"
    }
   ],
   "source": [
    "from amtviz import visualize_tuning_job\n",
    "visualize_tuning_job(tuner, trials_only=True) "
   ]
  },
  {
   "cell_type": "markdown",
   "id": "c2492c2e-8828-4e72-a765-b93295130958",
   "metadata": {},
   "source": [
    "## Cleanup \n",
    "\n",
    "To avoid incurring unwanted costs when you’re done experimenting with HPO, you must remove all files in your S3 bucket with the prefix `amt-visualize-demo` and also [shut down Studio resources](https://docs.aws.amazon.com/sagemaker/latest/dg/notebooks-run-and-manage-shut-down.html).\n",
    "\n",
    "Uncomment and run the following code to remove all S3 files created by this notebook. Note that`{BUCKET}` is the variable with our bucket name that we defined earlier, you may also write your bucket name as plaintext here.\n",
    "\n",
    "If you wish to keep the datasets or the model artifacts, you may modify the prefix in the code to `amt-visualize-demo/data` to only delete the data or `amt-visualize-demo/output` to only delete the model artifacts."
   ]
  },
  {
   "cell_type": "code",
   "execution_count": null,
   "id": "fb06325f-1eaf-4faf-aacc-c2eab84203b9",
   "metadata": {},
   "outputs": [],
   "source": [
    "#!aws s3 rm s3://{BUCKET}/amt-visualize-demo --recursive"
   ]
  }
 ],
 "metadata": {
  "instance_type": "ml.t3.medium",
  "kernelspec": {
   "display_name": "conda_python3",
   "language": "python",
   "name": "conda_python3"
  },
  "language_info": {
   "codemirror_mode": {
    "name": "ipython",
    "version": 3
   },
   "file_extension": ".py",
   "mimetype": "text/x-python",
   "name": "python",
   "nbconvert_exporter": "python",
   "pygments_lexer": "ipython3",
   "version": "3.8.12"
  }
 },
 "nbformat": 4,
 "nbformat_minor": 5
}
