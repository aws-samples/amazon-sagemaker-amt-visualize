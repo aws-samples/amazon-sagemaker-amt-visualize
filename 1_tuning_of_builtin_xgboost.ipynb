{
 "cells": [
  {
   "cell_type": "markdown",
   "id": "f5ff558a",
   "metadata": {},
   "source": [
    "# Getting Started With Hyperparameter Optimization Using Amazon SageMaker Automatic Model Tuning"
   ]
  },
  {
   "cell_type": "markdown",
   "id": "5de78624",
   "metadata": {},
   "source": [
    "## Background - What are we doing?"
   ]
  },
  {
   "cell_type": "markdown",
   "id": "2e5942a0",
   "metadata": {},
   "source": [
    "Machine Learning (ML) models are getting better and better. Subsequently they are taking the world by storm. Their performance relies on the right training data and choosing the right model/algorithm. But it does not end here. Typically, algorithms defer some design decisions to the ML practitioner to adopt for their specific data and task. These deferred design decisions manifest themselves as so called *hyperparameters*.\n",
    "\n",
    "What does that name mean? The result of a machine learning training, the model, can be largely seen as a collection of parameters that were learned during training. Hence the parameters that are used to configure the machine learning training are then called hyperparameters, i.e. parameters describing the creation of parameters. At any rate, they are of very practical use, such as the number of epochs to train, the learning rate, the max depth of a decision tree and so forth. And they have a major impact on the ultimate performance of your model.\n",
    "\n",
    "Selecting the right parameters and their value ranges starts with the practitioner's theoretical knowledge of the model to train. This defines the boundaries of the search space, but then it is also necessary to explore this search space empirically to find a good combination of parameters that will results in a high performing model.\n",
    "\n",
    "Luckily, we do not have to manually search that space, but SageMaker Automatic Model Tuning (AMT) is here to help. We point AMT in the right direction by defining the overall search space and AMT then takes over and coordinates the exploration of that space and fully automatically runs training jobs to efficiently evaluate the space. This then results in a good combination of hyper parameter values to train a high performing model.\n",
    "\n",
    "*In an upcoming article we will extend the notion of __just__ finding the best parameters to then __also__ include learning about the search space and to what parameter ranges a model is sensitive, as well as turning a one-shot tuning activity into a multi-step conversation with the ML practitioner, to learn together. Exciting!*\n",
    "\n",
    "In this tutorial we will walk through Amazon SageMaker Automatic Model Tuning (AMT), using a built-in XGBoost algorithm provided by Amazon SageMaker. Additional information can be found in the documentation pages below:\n",
    "* For more information on running a simple hyperparameter tuning job: https://docs.aws.amazon.com/sagemaker/latest/dg/automatic-model-tuning-ex.html\n",
    "* For documentation on using the HyperParameterTuner API with the SageMaker Python SDK: https://sagemaker.readthedocs.io/en/stable/api/training/tuner.html"
   ]
  },
  {
   "cell_type": "markdown",
   "id": "98b94b14",
   "metadata": {
    "tags": []
   },
   "source": [
    "## Overview"
   ]
  },
  {
   "cell_type": "markdown",
   "id": "be19071f",
   "metadata": {},
   "source": [
    "This notebook is split into the following sections:\n",
    "* Setup and Imports\n",
    "* Load and Prepare dataset\n",
    "* Train a SageMaker Built-In XGBoost Algorithm\n",
    "* Train and Tune a SageMaker Built-In XGBoost Algorithm\n",
    "* View the AMT job statistics \n",
    "* Visualize AMT job results and tuned Hyperparameters\n"
   ]
  },
  {
   "cell_type": "markdown",
   "id": "a7bdc149",
   "metadata": {},
   "source": [
    "### Setup and Imports"
   ]
  },
  {
   "cell_type": "code",
   "execution_count": 1,
   "id": "42fbced5",
   "metadata": {},
   "outputs": [],
   "source": [
    "%load_ext autoreload\n",
    "%autoreload 2"
   ]
  },
  {
   "cell_type": "markdown",
   "id": "ff377769",
   "metadata": {},
   "source": [
    "We ran this notebook using Amazon SageMaker with the version you see in the output of the next cell below. If your version is lower and you encounter issues, we recommend uncommenting the code below to upgrade your pip and SageMaker versions. Make sure to restart your kernel after upgrading for the changes to take effect.\n",
    "\n",
    "# REVIEW: Good that you mentioned to restart the kernel.\n",
    "# REVIEW: Generally, *I* prefer a more active conversational language."
   ]
  },
  {
   "cell_type": "code",
   "execution_count": 2,
   "id": "93a48804",
   "metadata": {},
   "outputs": [
    {
     "data": {
      "text/plain": [
       "'2.115.0'"
      ]
     },
     "execution_count": 2,
     "metadata": {},
     "output_type": "execute_result"
    }
   ],
   "source": [
    "import sagemaker\n",
    "\n",
    "sagemaker.__version__ "
   ]
  },
  {
   "cell_type": "code",
   "execution_count": 3,
   "id": "4b3e12c9",
   "metadata": {},
   "outputs": [],
   "source": [
    "#!pip install --upgrade --quiet pip \"sagemaker>=2.115.0\" # upgrade SageMaker to the recommended version\n",
    "\n",
    "# REVIEW: If we were to ask for a minimum version we would define it as a greater than not as an equals. \n",
    "# REVIEW: The version that was in here, was wrong :(\n",
    "# REVIEW: I am confused by 2.88.1. Why not 2.115.0?"
   ]
  },
  {
   "cell_type": "code",
   "execution_count": 4,
   "id": "ea894e19",
   "metadata": {},
   "outputs": [],
   "source": [
    "import io\n",
    "import os\n",
    "import argparse\n",
    "import traceback\n",
    "import boto3\n",
    "import numpy as np\n",
    "import pandas as pd\n",
    "\n",
    "from pathlib import Path"
   ]
  },
  {
   "cell_type": "code",
   "execution_count": 5,
   "id": "989a1a24",
   "metadata": {},
   "outputs": [],
   "source": [
    "# SDK setup\n",
    "role = sagemaker.get_execution_role()\n",
    "region = boto3.Session().region_name\n",
    "sm = boto3.client('sagemaker')\n",
    "boto_sess = boto3.Session(region_name=region)\n",
    "sm_sess = sagemaker.session.Session(boto_session=boto_sess, sagemaker_client=sm)"
   ]
  },
  {
   "cell_type": "code",
   "execution_count": 6,
   "id": "d32da355",
   "metadata": {},
   "outputs": [
    {
     "data": {
      "text/plain": [
       "'s3://sagemaker-eu-west-1-811243659808/amt-visualize-demo/data/output'"
      ]
     },
     "execution_count": 6,
     "metadata": {},
     "output_type": "execute_result"
    }
   ],
   "source": [
    "# REVIEW: Added some comments explaining what we do\n",
    "# Data layout and locations. \n",
    "# To store our data we are using a prefix in the SageMaker default bucket. Feel free to adjust to your preferences.\n",
    "\n",
    "BUCKET = sm_sess.default_bucket()\n",
    "PREFIX = 'amt-visualize-demo/data'\n",
    "s3_data_url = f's3://{BUCKET}/{PREFIX}'\n",
    "\n",
    "# eventual output destination for our XGBoost model\n",
    "output_path = f's3://{BUCKET}/{PREFIX}/output'\n",
    "output_path"
   ]
  },
  {
   "cell_type": "markdown",
   "id": "5d9aa8ba",
   "metadata": {},
   "source": [
    "## Load and Prepare dataset "
   ]
  },
  {
   "cell_type": "code",
   "execution_count": 7,
   "id": "b7991a2e",
   "metadata": {},
   "outputs": [],
   "source": [
    "!mkdir -p data"
   ]
  },
  {
   "cell_type": "markdown",
   "id": "f692b6fd",
   "metadata": {},
   "source": [
    "The focus of this notebook is on Hyperparameter Optimization. Hence the actual task and data only play a supporting role. But to give some brief context, we are optimizing the hyperparameters of a XGBoost model that should classify handwritten digits. We use the [Optical Recognition of Handwritten Digits Data Set](https://archive.ics.uci.edu/ml/datasets/Optical+Recognition+of+Handwritten+Digits) via scikit-learn. "
   ]
  },
  {
   "cell_type": "code",
   "execution_count": 8,
   "id": "766f77da",
   "metadata": {},
   "outputs": [],
   "source": [
    "from sklearn import datasets\n",
    "\n",
    "digits         = datasets.load_digits()\n",
    "digits_df      = pd.DataFrame(digits.data)\n",
    "digits_df['y'] = digits.target\n",
    "digits_df.insert(0, 'y', digits_df.pop('y')) # XGBoost expects the target to be the first column "
   ]
  },
  {
   "cell_type": "code",
   "execution_count": 9,
   "id": "3aa782e9-7449-4e16-8ff8-206e89295313",
   "metadata": {},
   "outputs": [
    {
     "name": "stdout",
     "output_type": "stream",
     "text": [
      "digit: 4\n"
     ]
    },
    {
     "data": {
      "image/png": "[encoded data removed]",
      "text/plain": [
       "<Figure size 432x288 with 1 Axes>"
      ]
     },
     "metadata": {
      "needs_background": "light"
     },
     "output_type": "display_data"
    }
   ],
   "source": [
    "from matplotlib import pyplot as plt\n",
    "\n",
    "print('digit:', int(digits_df.iloc[100].y))\n",
    "plt.imshow(digits_df.iloc[100, 1:].values.reshape(8, -1));"
   ]
  },
  {
   "cell_type": "code",
   "execution_count": 10,
   "id": "a966c3c4",
   "metadata": {},
   "outputs": [],
   "source": [
    "# randomly sort the data then split out into train 70% and validation 30% sets\n",
    "train_data, valid_data= np.split(\n",
    "    digits_df, [int(0.7 * len(digits_df))]\n",
    ")"
   ]
  },
  {
   "cell_type": "code",
   "execution_count": 11,
   "id": "aa2ed25a",
   "metadata": {},
   "outputs": [],
   "source": [
    "# REVIEW: I ran through the notebook and changed the mixed use of ' and \" to only use one, here '. Somebody had to :)\n",
    "\n",
    "train_data.to_csv('data/train.csv', index=False, header=False)\n",
    "valid_data.to_csv('data/valid.csv', index=False, header=False)"
   ]
  },
  {
   "cell_type": "code",
   "execution_count": 12,
   "id": "4b16f3fe",
   "metadata": {},
   "outputs": [],
   "source": [
    "boto_sess.resource('s3').Bucket(BUCKET).Object(os.path.join(PREFIX, 'train/train.csv')).upload_file('data/train.csv')\n",
    "boto_sess.resource('s3').Bucket(BUCKET).Object(os.path.join(PREFIX, 'valid/valid.csv')).upload_file('data/valid.csv')"
   ]
  },
  {
   "cell_type": "markdown",
   "id": "50cae59b",
   "metadata": {},
   "source": [
    "We upload our train and validation datasets into [Amazon S3](https://aws.amazon.com/s3/). Amazon SageMaker will launch training jobs on our behalf and those will read the data directly from S3."
   ]
  },
  {
   "cell_type": "markdown",
   "id": "764ce001",
   "metadata": {},
   "source": [
    "## Train an Amazon SageMaker Built-In XGBoost Algorithm"
   ]
  },
  {
   "cell_type": "markdown",
   "id": "c3313257",
   "metadata": {},
   "source": [
    "SageMaker provides many [built-in algorithms](https://docs.aws.amazon.com/sagemaker/latest/dg/algos.html). For our example we use the popular XGBoost algorithm. To select it for our training it is identified by an image URI as described in the docs here:\n",
    "https://docs.aws.amazon.com/sagemaker/latest/dg/xgboost.html\n",
    "\n",
    "In below code you can see how we lookup the respective image and version of the algorithm. We then define the hyperparameters and instantiate an Estimator that describes our training. For a list of hyperparameters and their meaning for this algorithm check out the [documentation](https://docs.aws.amazon.com/sagemaker/latest/dg/xgboost_hyperparameters.html). \n",
    "\n",
    "Please recognize that for our small dataset we also specify the use of a small CPU based instance type for our training, specifically `ml.m5.large`.\n",
    "\n",
    "Eventually we call `fit()` to start the training and to pass in references to where our training and validation data can be found. \n",
    "\n",
    "__Side note__: Strictly speaking it would not be necessary to call the `fit()` method here for an individual training run. We will let SageMaker Automatic Model Tuning (AMT) instantiate and control the individual training runs later. We just need to pass in the Estimator we defined here as a template. We could comment out the call to `fit()`.\n",
    "\n",
    "However, calling `fit()` shows us how one training run works and helps us to get acquainted with the algorithm and the log outputs. This works even though the actual execution is happening on a different EC2 machine. SageMaker makes the log outputs directly available in this notebook here. Neat, right?"
   ]
  },
  {
   "cell_type": "code",
   "execution_count": 13,
   "id": "1bb7e00e",
   "metadata": {},
   "outputs": [
    {
     "name": "stdout",
     "output_type": "stream",
     "text": [
      "Algorithm container image: 141502667606.dkr.ecr.eu-west-1.amazonaws.com/sagemaker-xgboost:1.5-1\n",
      "2022-10-27 16:15:40 Starting - Starting the training job...\n",
      "2022-10-27 16:16:03 Starting - Preparing the instances for trainingProfilerReport-1666887339: InProgress\n",
      ".........\n",
      "2022-10-27 16:17:44 Downloading - Downloading input data......\n",
      "2022-10-27 16:18:44 Training - Downloading the training image...\n",
      "2022-10-27 16:19:16 Training - Training image download completed. Training in progress..\u001b[34m[2022-10-27 16:19:21.216 ip-10-0-98-138.eu-west-1.compute.internal:1 INFO utils.py:27] RULE_JOB_STOP_SIGNAL_FILENAME: None\u001b[0m\n",
      "\u001b[34m[2022-10-27:16:19:21:INFO] Imported framework sagemaker_xgboost_container.training\u001b[0m\n",
      "\u001b[34m[2022-10-27:16:19:21:INFO] Failed to parse hyperparameter eval_metric value accuracy to Json.\u001b[0m\n",
      "\u001b[34mReturning the value itself\u001b[0m\n",
      "\u001b[34m[2022-10-27:16:19:21:INFO] Failed to parse hyperparameter objective value multi:softmax to Json.\u001b[0m\n",
      "\u001b[34mReturning the value itself\u001b[0m\n",
      "\u001b[34m[2022-10-27:16:19:21:INFO] No GPUs detected (normal if no gpus installed)\u001b[0m\n",
      "\u001b[34m[2022-10-27:16:19:21:INFO] Running XGBoost Sagemaker in algorithm mode\u001b[0m\n",
      "\u001b[34m[2022-10-27:16:19:21:INFO] Determined delimiter of CSV input is ','\u001b[0m\n",
      "\u001b[34m[2022-10-27:16:19:21:INFO] Determined delimiter of CSV input is ','\u001b[0m\n",
      "\u001b[34m[2022-10-27:16:19:21:INFO] files path: /opt/ml/input/data/train\u001b[0m\n",
      "\u001b[34m[2022-10-27:16:19:21:INFO] Determined delimiter of CSV input is ','\u001b[0m\n",
      "\u001b[34m[2022-10-27:16:19:21:INFO] files path: /opt/ml/input/data/validation\u001b[0m\n",
      "\u001b[34m[2022-10-27:16:19:21:INFO] Determined delimiter of CSV input is ','\u001b[0m\n",
      "\u001b[34m[2022-10-27:16:19:21:INFO] Single node training.\u001b[0m\n",
      "\u001b[34m[2022-10-27:16:19:21:INFO] Train matrix has 1257 rows and 64 columns\u001b[0m\n",
      "\u001b[34m[2022-10-27:16:19:21:INFO] Validation matrix has 540 rows\u001b[0m\n",
      "\u001b[34m[2022-10-27 16:19:21.442 ip-10-0-98-138.eu-west-1.compute.internal:1 INFO json_config.py:91] Creating hook from json_config at /opt/ml/input/config/debughookconfig.json.\u001b[0m\n",
      "\u001b[34m[16:19:21] WARNING: ../src/learner.cc:1115: Starting in XGBoost 1.3.0, the default evaluation metric used with the objective 'multi:softmax' was changed from 'merror' to 'mlogloss'. Explicitly set eval_metric if you'd like to restore the old behavior.\u001b[0m\n",
      "\u001b[34m[0]#011train-mlogloss:1.55795#011train-accuracy:0.95943#011validation-mlogloss:1.70729#011validation-accuracy:0.78889\u001b[0m\n",
      "\u001b[34m[1]#011train-mlogloss:1.20572#011train-accuracy:0.97295#011validation-mlogloss:1.42358#011validation-accuracy:0.81111\u001b[0m\n",
      "\u001b[34m[2]#011train-mlogloss:0.97027#011train-accuracy:0.97932#011validation-mlogloss:1.23074#011validation-accuracy:0.81111\u001b[0m\n",
      "\u001b[34m[3]#011train-mlogloss:0.79341#011train-accuracy:0.98568#011validation-mlogloss:1.09127#011validation-accuracy:0.82222\u001b[0m\n",
      "\u001b[34m[4]#011train-mlogloss:0.65584#011train-accuracy:0.99045#011validation-mlogloss:0.97840#011validation-accuracy:0.82963\u001b[0m\n",
      "\u001b[34m[5]#011train-mlogloss:0.54703#011train-accuracy:0.99364#011validation-mlogloss:0.89070#011validation-accuracy:0.83704\u001b[0m\n",
      "\u001b[34m[6]#011train-mlogloss:0.45843#011train-accuracy:0.99602#011validation-mlogloss:0.81601#011validation-accuracy:0.84074\u001b[0m\n",
      "\u001b[34m[7]#011train-mlogloss:0.38576#011train-accuracy:0.99602#011validation-mlogloss:0.75819#011validation-accuracy:0.84444\u001b[0m\n",
      "\u001b[34m[8]#011train-mlogloss:0.32707#011train-accuracy:0.99761#011validation-mlogloss:0.70924#011validation-accuracy:0.84815\u001b[0m\n",
      "\u001b[34m[9]#011train-mlogloss:0.27772#011train-accuracy:0.99841#011validation-mlogloss:0.66924#011validation-accuracy:0.84630\u001b[0m\n",
      "\u001b[34m[10]#011train-mlogloss:0.23722#011train-accuracy:0.99920#011validation-mlogloss:0.63535#011validation-accuracy:0.85370\u001b[0m\n",
      "\u001b[34m[11]#011train-mlogloss:0.20342#011train-accuracy:0.99920#011validation-mlogloss:0.61011#011validation-accuracy:0.85185\u001b[0m\n",
      "\u001b[34m[12]#011train-mlogloss:0.17500#011train-accuracy:0.99920#011validation-mlogloss:0.58224#011validation-accuracy:0.85000\u001b[0m\n",
      "\u001b[34m[13]#011train-mlogloss:0.15114#011train-accuracy:1.00000#011validation-mlogloss:0.56029#011validation-accuracy:0.85000\u001b[0m\n",
      "\u001b[34m[14]#011train-mlogloss:0.13116#011train-accuracy:1.00000#011validation-mlogloss:0.54051#011validation-accuracy:0.85000\u001b[0m\n",
      "\u001b[34m[15]#011train-mlogloss:0.11457#011train-accuracy:1.00000#011validation-mlogloss:0.52594#011validation-accuracy:0.84815\u001b[0m\n",
      "\n",
      "2022-10-27 16:19:47 Uploading - Uploading generated training model\n",
      "2022-10-27 16:19:47 Completed - Training job completed\n",
      "Training seconds: 142\n",
      "Billable seconds: 142\n",
      "CPU times: user 854 ms, sys: 177 ms, total: 1.03 s\n",
      "Wall time: 4min 22s\n"
     ]
    }
   ],
   "source": [
    "%%time\n",
    "from sagemaker import image_uris\n",
    "from sagemaker.session import Session\n",
    "from sagemaker.inputs import TrainingInput\n",
    "\n",
    "\n",
    "# lookup the XGBoost image URI and builds an XGBoost container\n",
    "xgboost_container = sagemaker.image_uris.retrieve('xgboost', region, '1.5-1')\n",
    "print('Algorithm container image:', xgboost_container)\n",
    "\n",
    "hyperparameters = {\n",
    "        'num_class': 10,\n",
    "        'max_depth': 5,\n",
    "        'eta':0.2,\n",
    "        'alpha': 0.2, \n",
    "        'objective':'multi:softmax',\n",
    "        'eval_metric':'accuracy',\n",
    "        'num_round':200,\n",
    "        'early_stopping_rounds': 5}\n",
    "\n",
    "# construct a SageMaker estimator that calls the XGBoost container\n",
    "estimator = sagemaker.estimator.Estimator(\n",
    "    image_uri=xgboost_container, \n",
    "    hyperparameters=hyperparameters,\n",
    "    role=role,\n",
    "    instance_count=1, \n",
    "    instance_type='ml.m5.large', \n",
    "    volume_size=5, # 5 GB \n",
    "    output_path=output_path\n",
    ")\n",
    "\n",
    "# define the data type and paths to the training and validation datasets\n",
    "s3_input_train = TrainingInput(s3_data=f's3://{BUCKET}/{PREFIX}/train', content_type='csv')\n",
    "s3_input_valid = TrainingInput(s3_data=f's3://{BUCKET}/{PREFIX}/valid', content_type='csv')\n",
    "\n",
    "# execute the XGBoost training job\n",
    "estimator.fit({'train': s3_input_train, 'validation': s3_input_valid}) # Optional. See comment above this cell."
   ]
  },
  {
   "cell_type": "markdown",
   "id": "17b7cb64",
   "metadata": {},
   "source": [
    "## Train and Tune an Amazon SageMaker Built-In XGBoost Algorithm\n",
    "\n",
    "Analogous to the Estimator above we now setup the HyperparameterTuner. We pass in the estimator object as a template for the trials to be run and a range of hyperparameters to define what search space to explore. Our documentation on [tuning XGBoost](https://docs.aws.amazon.com/sagemaker/latest/dg/xgboost-tuning.html) gives you some tips on choosing parameter ranges and which objective to use.\n",
    "\n",
    "You also see that we specify the number of training jobs to be run in total, as well as how many should run in parallel. Further you can select among many [strategies](https://docs.aws.amazon.com/sagemaker/latest/APIReference/API_HyperParameterTuningJobConfig.html#sagemaker-Type-HyperParameterTuningJobConfig-Strategy). In this notebook we use `Bayesian` as strategy. It uses a systematic approach to evaluate the search space. And it incorporates knowledge gained from earlier training runs (trials) when picking better hyperparameters to evaluate in the later trials, during the same __tuning__ job run. \n",
    "\n",
    "*Bayesian Search as a strategy is an excellent default. In an upcoming notebook and article we will additionally contrast and compare different strategies.*"
   ]
  },
  {
   "cell_type": "code",
   "execution_count": 14,
   "id": "34dffc8e",
   "metadata": {},
   "outputs": [],
   "source": [
    "from sagemaker.tuner import IntegerParameter, ContinuousParameter, HyperparameterTuner\n",
    "\n",
    "n_jobs = 50\n",
    "n_parallel_jobs = 3\n",
    "\n",
    "hpt_ranges = {\n",
    "    'alpha': ContinuousParameter(0.01, .5),\n",
    "    'eta': ContinuousParameter(0.1, .5),\n",
    "    'min_child_weight': ContinuousParameter(0., 2.),\n",
    "    'max_depth': IntegerParameter(1, 10)\n",
    "}\n",
    "\n",
    "tuner_parameters = {\n",
    "    'estimator': estimator,\n",
    "    'base_tuning_job_name': 'bayesian',                   \n",
    "    'objective_metric_name': 'validation:accuracy',\n",
    "    'objective_type': 'Maximize',\n",
    "    'hyperparameter_ranges': hpt_ranges,\n",
    "    'strategy': 'Bayesian',\n",
    "    'max_jobs': n_jobs,\n",
    "    'max_parallel_jobs': n_parallel_jobs\n",
    "}"
   ]
  },
  {
   "cell_type": "markdown",
   "id": "6c39e3b4-6f17-4e55-88b1-978128f89b58",
   "metadata": {},
   "source": [
    "Analogous to the actual training with the estimator above, we also kick things off by calling `fit()`. This time on the HyperparameterTuner."
   ]
  },
  {
   "cell_type": "code",
   "execution_count": 15,
   "id": "10fee5f3",
   "metadata": {},
   "outputs": [
    {
     "name": "stdout",
     "output_type": "stream",
     "text": [
      "tuning job submitted: bayesian-221027-1820.\n"
     ]
    }
   ],
   "source": [
    "tuner = HyperparameterTuner(**tuner_parameters)\n",
    "tuner.fit({'train': s3_input_train, 'validation': s3_input_valid}, wait=False)\n",
    "tuner_name = tuner.describe()['HyperParameterTuningJobName']\n",
    "print(f'tuning job submitted: {tuner_name}.')"
   ]
  },
  {
   "cell_type": "markdown",
   "id": "1da71ca8-27a2-49a3-a227-346c0cac80a7",
   "metadata": {},
   "source": [
    "Amazon SageMaker AMT, here the HyperparameterTuner, now orchestrates different training jobs (trials) over a period of time. \n",
    "\n",
    "We use `tuner.wait()` to pause this notebook's execution until the AMT job is completed and we can work with the results. Depending on the number of jobs and the level of parallelization this may take some time. For the example below it may take up to 30 minutes for 50 jobs. During this time you can view the status of your jobs in the console by navigating to Amazon SageMaker > Training > Hyperparameter tuning jobs.\n",
    "\n",
    "For more information on AMT job monitoring, see: https://docs.aws.amazon.com/sagemaker/latest/dg/automatic-model-tuning-monitor.html"
   ]
  },
  {
   "cell_type": "code",
   "execution_count": 16,
   "id": "23101625",
   "metadata": {},
   "outputs": [
    {
     "name": "stdout",
     "output_type": "stream",
     "text": [
      "........................................................................................................................................................................................................................................................................................................!\n"
     ]
    }
   ],
   "source": [
    "tuner.wait()"
   ]
  },
  {
   "cell_type": "markdown",
   "id": "2a7e7a39",
   "metadata": {},
   "source": [
    "## View the AMT job statistics and results \n",
    "\n",
    "Your tuning jobs can be accessed from the Amazon SageMaker console at https://console.aws.amazon.com/sagemaker/. Select Hyperparameter tuning jobs from the Training menu to see the list. More information here: https://docs.aws.amazon.com/sagemaker/latest/dg/automatic-model-tuning-monitor.html\n",
    "\n",
    "You can also check the results of the jobs programmatically and investigate the hyperparameters used, the final value achieved in the objective function and the total training time per job.\n",
    "\n",
    "Further you can evaluate the results programmatically, which we will look into now."
   ]
  },
  {
   "cell_type": "markdown",
   "id": "7782fca5",
   "metadata": {},
   "source": [
    "#### 1. Via the Amazon SageMaker Python SDK"
   ]
  },
  {
   "cell_type": "markdown",
   "id": "4ff0248a-95b3-404c-b05e-b1dee42c618e",
   "metadata": {},
   "source": [
    "The SDK conveniently provides access to the tuning results as a Pandas dataframe. "
   ]
  },
  {
   "cell_type": "code",
   "execution_count": 17,
   "id": "3595b65f",
   "metadata": {},
   "outputs": [
    {
     "data": {
      "text/html": [
       "<div>\n",
       "<style scoped>\n",
       "    .dataframe tbody tr th:only-of-type {\n",
       "        vertical-align: middle;\n",
       "    }\n",
       "\n",
       "    .dataframe tbody tr th {\n",
       "        vertical-align: top;\n",
       "    }\n",
       "\n",
       "    .dataframe thead th {\n",
       "        text-align: right;\n",
       "    }\n",
       "</style>\n",
       "<table border=\"1\" class=\"dataframe\">\n",
       "  <thead>\n",
       "    <tr style=\"text-align: right;\">\n",
       "      <th></th>\n",
       "      <th>alpha</th>\n",
       "      <th>eta</th>\n",
       "      <th>max_depth</th>\n",
       "      <th>min_child_weight</th>\n",
       "      <th>TrainingJobName</th>\n",
       "      <th>TrainingJobStatus</th>\n",
       "      <th>FinalObjectiveValue</th>\n",
       "      <th>TrainingStartTime</th>\n",
       "      <th>TrainingEndTime</th>\n",
       "      <th>TrainingElapsedTimeSeconds</th>\n",
       "    </tr>\n",
       "  </thead>\n",
       "  <tbody>\n",
       "    <tr>\n",
       "      <th>0</th>\n",
       "      <td>0.267320</td>\n",
       "      <td>0.440567</td>\n",
       "      <td>6.0</td>\n",
       "      <td>0.333110</td>\n",
       "      <td>bayesian-221027-1820-050-11348ec1</td>\n",
       "      <td>Completed</td>\n",
       "      <td>0.88148</td>\n",
       "      <td>2022-10-27 18:44:07+02:00</td>\n",
       "      <td>2022-10-27 18:45:09+02:00</td>\n",
       "      <td>62.0</td>\n",
       "    </tr>\n",
       "    <tr>\n",
       "      <th>1</th>\n",
       "      <td>0.456344</td>\n",
       "      <td>0.449793</td>\n",
       "      <td>6.0</td>\n",
       "      <td>0.351568</td>\n",
       "      <td>bayesian-221027-1820-049-7c418f37</td>\n",
       "      <td>Completed</td>\n",
       "      <td>0.88704</td>\n",
       "      <td>2022-10-27 18:43:15+02:00</td>\n",
       "      <td>2022-10-27 18:44:11+02:00</td>\n",
       "      <td>56.0</td>\n",
       "    </tr>\n",
       "    <tr>\n",
       "      <th>2</th>\n",
       "      <td>0.323904</td>\n",
       "      <td>0.416548</td>\n",
       "      <td>6.0</td>\n",
       "      <td>0.344174</td>\n",
       "      <td>bayesian-221027-1820-048-0f0c28cb</td>\n",
       "      <td>Completed</td>\n",
       "      <td>0.88704</td>\n",
       "      <td>2022-10-27 18:43:01+02:00</td>\n",
       "      <td>2022-10-27 18:43:58+02:00</td>\n",
       "      <td>57.0</td>\n",
       "    </tr>\n",
       "    <tr>\n",
       "      <th>3</th>\n",
       "      <td>0.026889</td>\n",
       "      <td>0.436935</td>\n",
       "      <td>6.0</td>\n",
       "      <td>0.328386</td>\n",
       "      <td>bayesian-221027-1820-047-ef3dc641</td>\n",
       "      <td>Completed</td>\n",
       "      <td>0.89074</td>\n",
       "      <td>2022-10-27 18:42:50+02:00</td>\n",
       "      <td>2022-10-27 18:43:53+02:00</td>\n",
       "      <td>63.0</td>\n",
       "    </tr>\n",
       "    <tr>\n",
       "      <th>4</th>\n",
       "      <td>0.079992</td>\n",
       "      <td>0.436468</td>\n",
       "      <td>5.0</td>\n",
       "      <td>0.371749</td>\n",
       "      <td>bayesian-221027-1820-046-bd6bf5bd</td>\n",
       "      <td>Completed</td>\n",
       "      <td>0.86667</td>\n",
       "      <td>2022-10-27 18:41:49+02:00</td>\n",
       "      <td>2022-10-27 18:42:46+02:00</td>\n",
       "      <td>57.0</td>\n",
       "    </tr>\n",
       "    <tr>\n",
       "      <th>5</th>\n",
       "      <td>0.388660</td>\n",
       "      <td>0.448342</td>\n",
       "      <td>6.0</td>\n",
       "      <td>0.351190</td>\n",
       "      <td>bayesian-221027-1820-045-9f55416a</td>\n",
       "      <td>Completed</td>\n",
       "      <td>0.88518</td>\n",
       "      <td>2022-10-27 18:41:48+02:00</td>\n",
       "      <td>2022-10-27 18:43:00+02:00</td>\n",
       "      <td>72.0</td>\n",
       "    </tr>\n",
       "    <tr>\n",
       "      <th>6</th>\n",
       "      <td>0.270904</td>\n",
       "      <td>0.490992</td>\n",
       "      <td>7.0</td>\n",
       "      <td>0.351800</td>\n",
       "      <td>bayesian-221027-1820-044-f9656f5b</td>\n",
       "      <td>Completed</td>\n",
       "      <td>0.87222</td>\n",
       "      <td>2022-10-27 18:41:41+02:00</td>\n",
       "      <td>2022-10-27 18:42:33+02:00</td>\n",
       "      <td>52.0</td>\n",
       "    </tr>\n",
       "    <tr>\n",
       "      <th>7</th>\n",
       "      <td>0.478928</td>\n",
       "      <td>0.453931</td>\n",
       "      <td>6.0</td>\n",
       "      <td>0.328021</td>\n",
       "      <td>bayesian-221027-1820-043-2ff0665f</td>\n",
       "      <td>Completed</td>\n",
       "      <td>0.88518</td>\n",
       "      <td>2022-10-27 18:40:38+02:00</td>\n",
       "      <td>2022-10-27 18:41:35+02:00</td>\n",
       "      <td>57.0</td>\n",
       "    </tr>\n",
       "    <tr>\n",
       "      <th>8</th>\n",
       "      <td>0.443175</td>\n",
       "      <td>0.460036</td>\n",
       "      <td>5.0</td>\n",
       "      <td>0.341195</td>\n",
       "      <td>bayesian-221027-1820-042-234825c2</td>\n",
       "      <td>Completed</td>\n",
       "      <td>0.88333</td>\n",
       "      <td>2022-10-27 18:40:30+02:00</td>\n",
       "      <td>2022-10-27 18:41:32+02:00</td>\n",
       "      <td>62.0</td>\n",
       "    </tr>\n",
       "    <tr>\n",
       "      <th>9</th>\n",
       "      <td>0.448472</td>\n",
       "      <td>0.432834</td>\n",
       "      <td>5.0</td>\n",
       "      <td>0.332299</td>\n",
       "      <td>bayesian-221027-1820-041-ac1dc2b9</td>\n",
       "      <td>Completed</td>\n",
       "      <td>0.87593</td>\n",
       "      <td>2022-10-27 18:40:25+02:00</td>\n",
       "      <td>2022-10-27 18:41:22+02:00</td>\n",
       "      <td>57.0</td>\n",
       "    </tr>\n",
       "  </tbody>\n",
       "</table>\n",
       "</div>"
      ],
      "text/plain": [
       "      alpha       eta  max_depth  min_child_weight  \\\n",
       "0  0.267320  0.440567        6.0          0.333110   \n",
       "1  0.456344  0.449793        6.0          0.351568   \n",
       "2  0.323904  0.416548        6.0          0.344174   \n",
       "3  0.026889  0.436935        6.0          0.328386   \n",
       "4  0.079992  0.436468        5.0          0.371749   \n",
       "5  0.388660  0.448342        6.0          0.351190   \n",
       "6  0.270904  0.490992        7.0          0.351800   \n",
       "7  0.478928  0.453931        6.0          0.328021   \n",
       "8  0.443175  0.460036        5.0          0.341195   \n",
       "9  0.448472  0.432834        5.0          0.332299   \n",
       "\n",
       "                     TrainingJobName TrainingJobStatus  FinalObjectiveValue  \\\n",
       "0  bayesian-221027-1820-050-11348ec1         Completed              0.88148   \n",
       "1  bayesian-221027-1820-049-7c418f37         Completed              0.88704   \n",
       "2  bayesian-221027-1820-048-0f0c28cb         Completed              0.88704   \n",
       "3  bayesian-221027-1820-047-ef3dc641         Completed              0.89074   \n",
       "4  bayesian-221027-1820-046-bd6bf5bd         Completed              0.86667   \n",
       "5  bayesian-221027-1820-045-9f55416a         Completed              0.88518   \n",
       "6  bayesian-221027-1820-044-f9656f5b         Completed              0.87222   \n",
       "7  bayesian-221027-1820-043-2ff0665f         Completed              0.88518   \n",
       "8  bayesian-221027-1820-042-234825c2         Completed              0.88333   \n",
       "9  bayesian-221027-1820-041-ac1dc2b9         Completed              0.87593   \n",
       "\n",
       "          TrainingStartTime           TrainingEndTime  \\\n",
       "0 2022-10-27 18:44:07+02:00 2022-10-27 18:45:09+02:00   \n",
       "1 2022-10-27 18:43:15+02:00 2022-10-27 18:44:11+02:00   \n",
       "2 2022-10-27 18:43:01+02:00 2022-10-27 18:43:58+02:00   \n",
       "3 2022-10-27 18:42:50+02:00 2022-10-27 18:43:53+02:00   \n",
       "4 2022-10-27 18:41:49+02:00 2022-10-27 18:42:46+02:00   \n",
       "5 2022-10-27 18:41:48+02:00 2022-10-27 18:43:00+02:00   \n",
       "6 2022-10-27 18:41:41+02:00 2022-10-27 18:42:33+02:00   \n",
       "7 2022-10-27 18:40:38+02:00 2022-10-27 18:41:35+02:00   \n",
       "8 2022-10-27 18:40:30+02:00 2022-10-27 18:41:32+02:00   \n",
       "9 2022-10-27 18:40:25+02:00 2022-10-27 18:41:22+02:00   \n",
       "\n",
       "   TrainingElapsedTimeSeconds  \n",
       "0                        62.0  \n",
       "1                        56.0  \n",
       "2                        57.0  \n",
       "3                        63.0  \n",
       "4                        57.0  \n",
       "5                        72.0  \n",
       "6                        52.0  \n",
       "7                        57.0  \n",
       "8                        62.0  \n",
       "9                        57.0  "
      ]
     },
     "execution_count": 17,
     "metadata": {},
     "output_type": "execute_result"
    }
   ],
   "source": [
    "sagemaker.HyperparameterTuningJobAnalytics(tuner_name).dataframe()[:10]"
   ]
  },
  {
   "cell_type": "markdown",
   "id": "b6623a4c",
   "metadata": {},
   "source": [
    "#### 2. Via the AWS SDK for Python (Boto3)"
   ]
  },
  {
   "cell_type": "markdown",
   "id": "ef1cdf3d",
   "metadata": {},
   "source": [
    "With the boto3 client we can review the results of a HPO job using [`describe_hyper_parameter_tuning_job()`](https://docs.aws.amazon.com/sagemaker/latest/APIReference/API_DescribeHyperParameterTuningJob.html) function.\n",
    "\n",
    "It returns a Python dictionary with comprehensive information. Below you see the output scoped to the `BestTrainingJob`."
   ]
  },
  {
   "cell_type": "code",
   "execution_count": 18,
   "id": "842eb6a2",
   "metadata": {},
   "outputs": [
    {
     "data": {
      "text/plain": [
       "{'TrainingJobName': 'bayesian-221027-1820-032-b3b7ae0f',\n",
       " 'TrainingJobArn': 'arn:aws:sagemaker:eu-west-1:811243659808:training-job/bayesian-221027-1820-032-b3b7ae0f',\n",
       " 'CreationTime': datetime.datetime(2022, 10, 27, 18, 36, 21, tzinfo=tzlocal()),\n",
       " 'TrainingStartTime': datetime.datetime(2022, 10, 27, 18, 36, 33, tzinfo=tzlocal()),\n",
       " 'TrainingEndTime': datetime.datetime(2022, 10, 27, 18, 37, 35, tzinfo=tzlocal()),\n",
       " 'TrainingJobStatus': 'Completed',\n",
       " 'TunedHyperParameters': {'alpha': '0.4931281859601851',\n",
       "  'eta': '0.44421913424035786',\n",
       "  'max_depth': '5',\n",
       "  'min_child_weight': '0.3456350409564862'},\n",
       " 'FinalHyperParameterTuningJobObjectiveMetric': {'MetricName': 'validation:accuracy',\n",
       "  'Value': 0.8907399773597717},\n",
       " 'ObjectiveStatus': 'Succeeded'}"
      ]
     },
     "execution_count": 18,
     "metadata": {},
     "output_type": "execute_result"
    }
   ],
   "source": [
    "#sm.describe_hyper_parameter_tuning_job(HyperParameterTuningJobName=tuner_name)   # to review all data\n",
    "sm.describe_hyper_parameter_tuning_job(HyperParameterTuningJobName=tuner_name)['BestTrainingJob']"
   ]
  },
  {
   "cell_type": "markdown",
   "id": "ec194a78",
   "metadata": {},
   "source": [
    "We can also utilize the Boto3's [`list_training_jobs_for_hyper_parameter_tuning_job()`](https://docs.aws.amazon.com/cli/latest/reference/sagemaker/list-training-jobs-for-hyper-parameter-tuning-job.html) function to review the results. This can be sorted by the value of the objective function or by the metric definitions. More functions available for Amazon SageMaker with Boto3 are described on this page: https://boto3.amazonaws.com/v1/documentation/api/latest/reference/services/sagemaker.html"
   ]
  },
  {
   "cell_type": "code",
   "execution_count": 19,
   "id": "c911a92f",
   "metadata": {},
   "outputs": [
    {
     "name": "stdout",
     "output_type": "stream",
     "text": [
      "bayesian-221027-1820-040-03173579 Metrics: {'train:mlogloss': 0.010610000230371952, 'train:accuracy': 1.0, 'validation:accuracy': 0.8907399773597717, 'validation:mlogloss': 0.3969799876213074, 'ObjectiveMetric': 0.8907399773597717}\n",
      "bayesian-221027-1820-032-b3b7ae0f Metrics: {'train:mlogloss': 0.0106800002977252, 'train:accuracy': 1.0, 'validation:accuracy': 0.8907399773597717, 'validation:mlogloss': 0.3942300081253052, 'ObjectiveMetric': 0.8907399773597717}\n",
      "bayesian-221027-1820-047-ef3dc641 Metrics: {'train:mlogloss': 0.0036100000143051147, 'train:accuracy': 1.0, 'validation:accuracy': 0.8907399773597717, 'validation:mlogloss': 0.4059099853038788, 'ObjectiveMetric': 0.8907399773597717}\n",
      "bayesian-221027-1820-049-7c418f37 Metrics: {'train:mlogloss': 0.010759999975562096, 'train:accuracy': 1.0, 'validation:accuracy': 0.8870400190353394, 'validation:mlogloss': 0.40213000774383545, 'ObjectiveMetric': 0.8870400190353394}\n",
      "bayesian-221027-1820-048-0f0c28cb Metrics: {'train:mlogloss': 0.008609999902546406, 'train:accuracy': 1.0, 'validation:accuracy': 0.8870400190353394, 'validation:mlogloss': 0.4054799973964691, 'ObjectiveMetric': 0.8870400190353394}\n",
      "bayesian-221027-1820-043-2ff0665f Metrics: {'train:mlogloss': 0.012790000066161156, 'train:accuracy': 1.0, 'validation:accuracy': 0.8851799964904785, 'validation:mlogloss': 0.4024899899959564, 'ObjectiveMetric': 0.8851799964904785}\n",
      "bayesian-221027-1820-045-9f55416a Metrics: {'train:mlogloss': 0.008840000256896019, 'train:accuracy': 1.0, 'validation:accuracy': 0.8851799964904785, 'validation:mlogloss': 0.39871999621391296, 'ObjectiveMetric': 0.8851799964904785}\n",
      "bayesian-221027-1820-036-cdba77e8 Metrics: {'train:mlogloss': 0.010879999957978725, 'train:accuracy': 1.0, 'validation:accuracy': 0.8851799964904785, 'validation:mlogloss': 0.3986400067806244, 'ObjectiveMetric': 0.8851799964904785}\n",
      "bayesian-221027-1820-033-1c1a2fb5 Metrics: {'train:mlogloss': 0.010440000332891941, 'train:accuracy': 1.0, 'validation:accuracy': 0.8851799964904785, 'validation:mlogloss': 0.39107000827789307, 'ObjectiveMetric': 0.8851799964904785}\n",
      "bayesian-221027-1820-039-a96dc7b2 Metrics: {'train:mlogloss': 0.008630000054836273, 'train:accuracy': 1.0, 'validation:accuracy': 0.8851799964904785, 'validation:mlogloss': 0.40101000666618347, 'ObjectiveMetric': 0.8851799964904785}\n"
     ]
    }
   ],
   "source": [
    "hpo_jobs = sm.list_training_jobs_for_hyper_parameter_tuning_job(\n",
    "    HyperParameterTuningJobName=tuner_name,\n",
    "    MaxResults=100,\n",
    "    SortBy='FinalObjectiveMetricValue',\n",
    "    SortOrder='Descending')\n",
    "\n",
    "for job in hpo_jobs['TrainingJobSummaries'][:10]:\n",
    "    job_descr = sm.describe_training_job(TrainingJobName=job['TrainingJobName'])\n",
    "    metrics = {m['MetricName']:  m['Value'] for m in job_descr['FinalMetricDataList']}\n",
    "    print(f'{job[\"TrainingJobName\"]} Metrics: {metrics}')"
   ]
  },
  {
   "cell_type": "markdown",
   "id": "ce6f724b",
   "metadata": {
    "tags": []
   },
   "source": [
    "## Visualize AMT job results and tuned Hyperparameters\n",
    "\n",
    "Finally, we want to interactively visualize the impact of our hyperparameters and their values on the optimization objective.\n",
    "\n",
    "To do this, we utilize the Altair statistical visualization library for Python, and have written two custom analysis scripts `job_analytics.py` and `reporting_util.py` that we make available with this notebook.\n",
    "\n",
    "In an upcoming notebook and article we will dive deeper into the analysis of this data. "
   ]
  },
  {
   "cell_type": "code",
   "execution_count": 20,
   "id": "abe744c9",
   "metadata": {},
   "outputs": [],
   "source": [
    "!pip install -Uq pip altair"
   ]
  },
  {
   "cell_type": "markdown",
   "id": "4828f098",
   "metadata": {},
   "source": [
    "Please ensure that the role used by SageMaker allows the `cloudwatch:ListMetrics` action on [IAM](https://console.aws.amazon.com/iam)."
   ]
  },
  {
   "cell_type": "code",
   "execution_count": 21,
   "id": "0be9dea5",
   "metadata": {},
   "outputs": [
    {
     "name": "stdout",
     "output_type": "stream",
     "text": [
      "Tuning job bayesian-221027-1820      status: Completed\n",
      "\n",
      "Number of training jobs with valid objective: 50\n",
      "Lowest: 0.8407400250434875 Highest 0.8907399773597717\n"
     ]
    },
    {
     "data": {
      "text/html": [
       "<div>\n",
       "<style scoped>\n",
       "    .dataframe tbody tr th:only-of-type {\n",
       "        vertical-align: middle;\n",
       "    }\n",
       "\n",
       "    .dataframe tbody tr th {\n",
       "        vertical-align: top;\n",
       "    }\n",
       "\n",
       "    .dataframe thead th {\n",
       "        text-align: right;\n",
       "    }\n",
       "</style>\n",
       "<table border=\"1\" class=\"dataframe\">\n",
       "  <thead>\n",
       "    <tr style=\"text-align: right;\">\n",
       "      <th></th>\n",
       "      <th>alpha</th>\n",
       "      <th>eta</th>\n",
       "      <th>max_depth</th>\n",
       "      <th>min_child_weight</th>\n",
       "      <th>TrainingJobName</th>\n",
       "      <th>TrainingJobStatus</th>\n",
       "      <th>TrainingStartTime</th>\n",
       "      <th>TrainingEndTime</th>\n",
       "      <th>TrainingElapsedTimeSeconds</th>\n",
       "      <th>TuningJobName</th>\n",
       "      <th>validation:accuracy</th>\n",
       "    </tr>\n",
       "  </thead>\n",
       "  <tbody>\n",
       "    <tr>\n",
       "      <th>18</th>\n",
       "      <td>0.493128</td>\n",
       "      <td>0.444219</td>\n",
       "      <td>5.0</td>\n",
       "      <td>0.345635</td>\n",
       "      <td>bayesian-221027-1820-032-b3b7ae0f</td>\n",
       "      <td>Completed</td>\n",
       "      <td>2022-10-27 18:36:33+02:00</td>\n",
       "      <td>2022-10-27 18:37:35+02:00</td>\n",
       "      <td>62.0</td>\n",
       "      <td>bayesian-221027-1820</td>\n",
       "      <td>0.89074</td>\n",
       "    </tr>\n",
       "    <tr>\n",
       "      <th>3</th>\n",
       "      <td>0.026889</td>\n",
       "      <td>0.436935</td>\n",
       "      <td>6.0</td>\n",
       "      <td>0.328386</td>\n",
       "      <td>bayesian-221027-1820-047-ef3dc641</td>\n",
       "      <td>Completed</td>\n",
       "      <td>2022-10-27 18:42:50+02:00</td>\n",
       "      <td>2022-10-27 18:43:53+02:00</td>\n",
       "      <td>63.0</td>\n",
       "      <td>bayesian-221027-1820</td>\n",
       "      <td>0.89074</td>\n",
       "    </tr>\n",
       "    <tr>\n",
       "      <th>10</th>\n",
       "      <td>0.500000</td>\n",
       "      <td>0.453109</td>\n",
       "      <td>6.0</td>\n",
       "      <td>0.326553</td>\n",
       "      <td>bayesian-221027-1820-040-03173579</td>\n",
       "      <td>Completed</td>\n",
       "      <td>2022-10-27 18:39:21+02:00</td>\n",
       "      <td>2022-10-27 18:40:18+02:00</td>\n",
       "      <td>57.0</td>\n",
       "      <td>bayesian-221027-1820</td>\n",
       "      <td>0.89074</td>\n",
       "    </tr>\n",
       "    <tr>\n",
       "      <th>2</th>\n",
       "      <td>0.323904</td>\n",
       "      <td>0.416548</td>\n",
       "      <td>6.0</td>\n",
       "      <td>0.344174</td>\n",
       "      <td>bayesian-221027-1820-048-0f0c28cb</td>\n",
       "      <td>Completed</td>\n",
       "      <td>2022-10-27 18:43:01+02:00</td>\n",
       "      <td>2022-10-27 18:43:58+02:00</td>\n",
       "      <td>57.0</td>\n",
       "      <td>bayesian-221027-1820</td>\n",
       "      <td>0.88704</td>\n",
       "    </tr>\n",
       "    <tr>\n",
       "      <th>1</th>\n",
       "      <td>0.456344</td>\n",
       "      <td>0.449793</td>\n",
       "      <td>6.0</td>\n",
       "      <td>0.351568</td>\n",
       "      <td>bayesian-221027-1820-049-7c418f37</td>\n",
       "      <td>Completed</td>\n",
       "      <td>2022-10-27 18:43:15+02:00</td>\n",
       "      <td>2022-10-27 18:44:11+02:00</td>\n",
       "      <td>56.0</td>\n",
       "      <td>bayesian-221027-1820</td>\n",
       "      <td>0.88704</td>\n",
       "    </tr>\n",
       "    <tr>\n",
       "      <th>17</th>\n",
       "      <td>0.363742</td>\n",
       "      <td>0.411523</td>\n",
       "      <td>6.0</td>\n",
       "      <td>0.357979</td>\n",
       "      <td>bayesian-221027-1820-033-1c1a2fb5</td>\n",
       "      <td>Completed</td>\n",
       "      <td>2022-10-27 18:36:39+02:00</td>\n",
       "      <td>2022-10-27 18:37:41+02:00</td>\n",
       "      <td>62.0</td>\n",
       "      <td>bayesian-221027-1820</td>\n",
       "      <td>0.88518</td>\n",
       "    </tr>\n",
       "    <tr>\n",
       "      <th>5</th>\n",
       "      <td>0.388660</td>\n",
       "      <td>0.448342</td>\n",
       "      <td>6.0</td>\n",
       "      <td>0.351190</td>\n",
       "      <td>bayesian-221027-1820-045-9f55416a</td>\n",
       "      <td>Completed</td>\n",
       "      <td>2022-10-27 18:41:48+02:00</td>\n",
       "      <td>2022-10-27 18:43:00+02:00</td>\n",
       "      <td>72.0</td>\n",
       "      <td>bayesian-221027-1820</td>\n",
       "      <td>0.88518</td>\n",
       "    </tr>\n",
       "    <tr>\n",
       "      <th>30</th>\n",
       "      <td>0.334397</td>\n",
       "      <td>0.402448</td>\n",
       "      <td>6.0</td>\n",
       "      <td>0.367911</td>\n",
       "      <td>bayesian-221027-1820-020-584ce757</td>\n",
       "      <td>Completed</td>\n",
       "      <td>2022-10-27 18:31:08+02:00</td>\n",
       "      <td>2022-10-27 18:32:10+02:00</td>\n",
       "      <td>62.0</td>\n",
       "      <td>bayesian-221027-1820</td>\n",
       "      <td>0.88518</td>\n",
       "    </tr>\n",
       "    <tr>\n",
       "      <th>7</th>\n",
       "      <td>0.478928</td>\n",
       "      <td>0.453931</td>\n",
       "      <td>6.0</td>\n",
       "      <td>0.328021</td>\n",
       "      <td>bayesian-221027-1820-043-2ff0665f</td>\n",
       "      <td>Completed</td>\n",
       "      <td>2022-10-27 18:40:38+02:00</td>\n",
       "      <td>2022-10-27 18:41:35+02:00</td>\n",
       "      <td>57.0</td>\n",
       "      <td>bayesian-221027-1820</td>\n",
       "      <td>0.88518</td>\n",
       "    </tr>\n",
       "    <tr>\n",
       "      <th>11</th>\n",
       "      <td>0.324001</td>\n",
       "      <td>0.475360</td>\n",
       "      <td>5.0</td>\n",
       "      <td>0.327460</td>\n",
       "      <td>bayesian-221027-1820-039-a96dc7b2</td>\n",
       "      <td>Completed</td>\n",
       "      <td>2022-10-27 18:39:13+02:00</td>\n",
       "      <td>2022-10-27 18:40:15+02:00</td>\n",
       "      <td>62.0</td>\n",
       "      <td>bayesian-221027-1820</td>\n",
       "      <td>0.88518</td>\n",
       "    </tr>\n",
       "  </tbody>\n",
       "</table>\n",
       "</div>"
      ],
      "text/plain": [
       "       alpha       eta  max_depth  min_child_weight                    TrainingJobName TrainingJobStatus         TrainingStartTime           TrainingEndTime  TrainingElapsedTimeSeconds         TuningJobName  validation:accuracy\n",
       "18  0.493128  0.444219        5.0          0.345635  bayesian-221027-1820-032-b3b7ae0f         Completed 2022-10-27 18:36:33+02:00 2022-10-27 18:37:35+02:00                        62.0  bayesian-221027-1820              0.89074\n",
       "3   0.026889  0.436935        6.0          0.328386  bayesian-221027-1820-047-ef3dc641         Completed 2022-10-27 18:42:50+02:00 2022-10-27 18:43:53+02:00                        63.0  bayesian-221027-1820              0.89074\n",
       "10  0.500000  0.453109        6.0          0.326553  bayesian-221027-1820-040-03173579         Completed 2022-10-27 18:39:21+02:00 2022-10-27 18:40:18+02:00                        57.0  bayesian-221027-1820              0.89074\n",
       "2   0.323904  0.416548        6.0          0.344174  bayesian-221027-1820-048-0f0c28cb         Completed 2022-10-27 18:43:01+02:00 2022-10-27 18:43:58+02:00                        57.0  bayesian-221027-1820              0.88704\n",
       "1   0.456344  0.449793        6.0          0.351568  bayesian-221027-1820-049-7c418f37         Completed 2022-10-27 18:43:15+02:00 2022-10-27 18:44:11+02:00                        56.0  bayesian-221027-1820              0.88704\n",
       "17  0.363742  0.411523        6.0          0.357979  bayesian-221027-1820-033-1c1a2fb5         Completed 2022-10-27 18:36:39+02:00 2022-10-27 18:37:41+02:00                        62.0  bayesian-221027-1820              0.88518\n",
       "5   0.388660  0.448342        6.0          0.351190  bayesian-221027-1820-045-9f55416a         Completed 2022-10-27 18:41:48+02:00 2022-10-27 18:43:00+02:00                        72.0  bayesian-221027-1820              0.88518\n",
       "30  0.334397  0.402448        6.0          0.367911  bayesian-221027-1820-020-584ce757         Completed 2022-10-27 18:31:08+02:00 2022-10-27 18:32:10+02:00                        62.0  bayesian-221027-1820              0.88518\n",
       "7   0.478928  0.453931        6.0          0.328021  bayesian-221027-1820-043-2ff0665f         Completed 2022-10-27 18:40:38+02:00 2022-10-27 18:41:35+02:00                        57.0  bayesian-221027-1820              0.88518\n",
       "11  0.324001  0.475360        5.0          0.327460  bayesian-221027-1820-039-a96dc7b2         Completed 2022-10-27 18:39:13+02:00 2022-10-27 18:40:15+02:00                        62.0  bayesian-221027-1820              0.88518"
      ]
     },
     "metadata": {},
     "output_type": "display_data"
    },
    {
     "data": {
      "application/vnd.vegalite.v4+json": {
       "$schema": "https://vega.github.io/schema/vega-lite/v4.17.0.json",
       "config": {
        "view": {
         "continuousHeight": 300,
         "continuousWidth": 400
        }
       },
       "data": {
        "name": "data-3f5e81a1e1fd6649620b281d6772e6d9"
       },
       "datasets": {
        "data-3b0ef760e59bcac982e31bcbc49293c6": [
         {
          "TrainingElapsedTimeSeconds": 57,
          "TrainingEndTime": "2022-10-27T18:34:05+02:00",
          "TrainingJobName": "bayesian-221027-1820-025-8b887510",
          "TrainingJobStatus": "Completed",
          "TrainingStartTime": "2022-10-27T18:33:08+02:00",
          "TuningJobName": "bayesian-221027-1820",
          "alpha": 0.052697865279325164,
          "eta": 0.1292822167736828,
          "max_depth": 3,
          "min_child_weight": 0.12569457159822317,
          "validation:accuracy": 0.8407400250434875
         },
         {
          "TrainingElapsedTimeSeconds": 147,
          "TrainingEndTime": "2022-10-27T18:24:12+02:00",
          "TrainingJobName": "bayesian-221027-1820-001-a0549410",
          "TrainingJobStatus": "Completed",
          "TrainingStartTime": "2022-10-27T18:21:45+02:00",
          "TuningJobName": "bayesian-221027-1820",
          "alpha": 0.01549998730065745,
          "eta": 0.344106495406567,
          "max_depth": 1,
          "min_child_weight": 0.7525360593773465,
          "validation:accuracy": 0.8536999821662903
         },
         {
          "TrainingElapsedTimeSeconds": 62,
          "TrainingEndTime": "2022-10-27T18:29:30+02:00",
          "TrainingJobName": "bayesian-221027-1820-014-30ba04c4",
          "TrainingJobStatus": "Completed",
          "TrainingStartTime": "2022-10-27T18:28:28+02:00",
          "TuningJobName": "bayesian-221027-1820",
          "alpha": 0.1746806218591254,
          "eta": 0.40170192870143684,
          "max_depth": 1,
          "min_child_weight": 1.0736946597937573,
          "validation:accuracy": 0.8555600047111511
         },
         {
          "TrainingElapsedTimeSeconds": 62,
          "TrainingEndTime": "2022-10-27T18:35:20+02:00",
          "TrainingJobName": "bayesian-221027-1820-028-94bee3d9",
          "TrainingJobStatus": "Completed",
          "TrainingStartTime": "2022-10-27T18:34:18+02:00",
          "TuningJobName": "bayesian-221027-1820",
          "alpha": 0.27793933076717825,
          "eta": 0.40101467128238943,
          "max_depth": 8,
          "min_child_weight": 0.27679023656877133,
          "validation:accuracy": 0.8648200035095215
         },
         {
          "TrainingElapsedTimeSeconds": 57,
          "TrainingEndTime": "2022-10-27T18:28:07+02:00",
          "TrainingJobName": "bayesian-221027-1820-010-ed851e3f",
          "TrainingJobStatus": "Completed",
          "TrainingStartTime": "2022-10-27T18:27:10+02:00",
          "TuningJobName": "bayesian-221027-1820",
          "alpha": 0.23112036151713627,
          "eta": 0.3938815594778714,
          "max_depth": 4,
          "min_child_weight": 0.025036666784480577,
          "validation:accuracy": 0.8648200035095215
         },
         {
          "TrainingElapsedTimeSeconds": 57,
          "TrainingEndTime": "2022-10-27T18:42:46+02:00",
          "TrainingJobName": "bayesian-221027-1820-046-bd6bf5bd",
          "TrainingJobStatus": "Completed",
          "TrainingStartTime": "2022-10-27T18:41:49+02:00",
          "TuningJobName": "bayesian-221027-1820",
          "alpha": 0.07999197252588157,
          "eta": 0.4364681659056857,
          "max_depth": 5,
          "min_child_weight": 0.37174899839019804,
          "validation:accuracy": 0.8666700124740601
         },
         {
          "TrainingElapsedTimeSeconds": 57,
          "TrainingEndTime": "2022-10-27T18:25:36+02:00",
          "TrainingJobName": "bayesian-221027-1820-005-2ef491fe",
          "TrainingJobStatus": "Completed",
          "TrainingStartTime": "2022-10-27T18:24:39+02:00",
          "TuningJobName": "bayesian-221027-1820",
          "alpha": 0.30678351671967635,
          "eta": 0.2832397135347928,
          "max_depth": 6,
          "min_child_weight": 1.4628922058200249,
          "validation:accuracy": 0.8666700124740601
         },
         {
          "TrainingElapsedTimeSeconds": 62,
          "TrainingEndTime": "2022-10-27T18:32:46+02:00",
          "TrainingJobName": "bayesian-221027-1820-021-e27e2e14",
          "TrainingJobStatus": "Completed",
          "TrainingStartTime": "2022-10-27T18:31:44+02:00",
          "TuningJobName": "bayesian-221027-1820",
          "alpha": 0.4986501035639017,
          "eta": 0.4128184486301242,
          "max_depth": 6,
          "min_child_weight": 0.4402655036207652,
          "validation:accuracy": 0.8666700124740601
         },
         {
          "TrainingElapsedTimeSeconds": 57,
          "TrainingEndTime": "2022-10-27T18:30:30+02:00",
          "TrainingJobName": "bayesian-221027-1820-016-0ba94dff",
          "TrainingJobStatus": "Completed",
          "TrainingStartTime": "2022-10-27T18:29:33+02:00",
          "TuningJobName": "bayesian-221027-1820",
          "alpha": 0.2760108748272439,
          "eta": 0.16910547224209738,
          "max_depth": 6,
          "min_child_weight": 0.5210773560863107,
          "validation:accuracy": 0.8666700124740601
         },
         {
          "TrainingElapsedTimeSeconds": 67,
          "TrainingEndTime": "2022-10-27T18:30:04+02:00",
          "TrainingJobName": "bayesian-221027-1820-015-bb9f0898",
          "TrainingJobStatus": "Completed",
          "TrainingStartTime": "2022-10-27T18:28:57+02:00",
          "TuningJobName": "bayesian-221027-1820",
          "alpha": 0.28932702852719416,
          "eta": 0.38692292117265237,
          "max_depth": 6,
          "min_child_weight": 1.7685948763069357,
          "validation:accuracy": 0.8666700124740601
         },
         {
          "TrainingElapsedTimeSeconds": 63,
          "TrainingEndTime": "2022-10-27T18:35:10+02:00",
          "TrainingJobName": "bayesian-221027-1820-027-a2a56040",
          "TrainingJobStatus": "Completed",
          "TrainingStartTime": "2022-10-27T18:34:07+02:00",
          "TuningJobName": "bayesian-221027-1820",
          "alpha": 0.31324906019498827,
          "eta": 0.4141815199580072,
          "max_depth": 4,
          "min_child_weight": 0.4226563067049675,
          "validation:accuracy": 0.8685200214385986
         },
         {
          "TrainingElapsedTimeSeconds": 57,
          "TrainingEndTime": "2022-10-27T18:32:53+02:00",
          "TrainingJobName": "bayesian-221027-1820-022-5da26cfc",
          "TrainingJobStatus": "Completed",
          "TrainingStartTime": "2022-10-27T18:31:56+02:00",
          "TuningJobName": "bayesian-221027-1820",
          "alpha": 0.33763913874683077,
          "eta": 0.40057024651126427,
          "max_depth": 6,
          "min_child_weight": 0.5768723763793344,
          "validation:accuracy": 0.8685200214385986
         },
         {
          "TrainingElapsedTimeSeconds": 62,
          "TrainingEndTime": "2022-10-27T18:34:45+02:00",
          "TrainingJobName": "bayesian-221027-1820-026-d2ec021e",
          "TrainingJobStatus": "Completed",
          "TrainingStartTime": "2022-10-27T18:33:43+02:00",
          "TuningJobName": "bayesian-221027-1820",
          "alpha": 0.1038338571471911,
          "eta": 0.41223722108596006,
          "max_depth": 4,
          "min_child_weight": 0.9029728239072483,
          "validation:accuracy": 0.8685200214385986
         },
         {
          "TrainingElapsedTimeSeconds": 68,
          "TrainingEndTime": "2022-10-27T18:25:54+02:00",
          "TrainingJobName": "bayesian-221027-1820-006-bb0967ec",
          "TrainingJobStatus": "Completed",
          "TrainingStartTime": "2022-10-27T18:24:46+02:00",
          "TuningJobName": "bayesian-221027-1820",
          "alpha": 0.40912979634258784,
          "eta": 0.28016409499613476,
          "max_depth": 4,
          "min_child_weight": 0.12395680174580004,
          "validation:accuracy": 0.8685200214385986
         },
         {
          "TrainingElapsedTimeSeconds": 160,
          "TrainingEndTime": "2022-10-27T18:24:29+02:00",
          "TrainingJobName": "bayesian-221027-1820-003-a28e2487",
          "TrainingJobStatus": "Completed",
          "TrainingStartTime": "2022-10-27T18:21:49+02:00",
          "TuningJobName": "bayesian-221027-1820",
          "alpha": 0.4700596617045812,
          "eta": 0.33428990398027625,
          "max_depth": 10,
          "min_child_weight": 1.2750555821681644,
          "validation:accuracy": 0.8703699707984924
         },
         {
          "TrainingElapsedTimeSeconds": 57,
          "TrainingEndTime": "2022-10-27T18:26:54+02:00",
          "TrainingJobName": "bayesian-221027-1820-008-832801b5",
          "TrainingJobStatus": "Completed",
          "TrainingStartTime": "2022-10-27T18:25:57+02:00",
          "TuningJobName": "bayesian-221027-1820",
          "alpha": 0.3850097671488758,
          "eta": 0.2525121892236555,
          "max_depth": 7,
          "min_child_weight": 1.827581761189289,
          "validation:accuracy": 0.8703699707984924
         },
         {
          "TrainingElapsedTimeSeconds": 57,
          "TrainingEndTime": "2022-10-27T18:33:55+02:00",
          "TrainingJobName": "bayesian-221027-1820-024-41574fc3",
          "TrainingJobStatus": "Completed",
          "TrainingStartTime": "2022-10-27T18:32:58+02:00",
          "TuningJobName": "bayesian-221027-1820",
          "alpha": 0.3373401104160957,
          "eta": 0.4371471722025092,
          "max_depth": 6,
          "min_child_weight": 0.11241825547788831,
          "validation:accuracy": 0.8703699707984924
         },
         {
          "TrainingElapsedTimeSeconds": 58,
          "TrainingEndTime": "2022-10-27T18:29:18+02:00",
          "TrainingJobName": "bayesian-221027-1820-013-4f2fac44",
          "TrainingJobStatus": "Completed",
          "TrainingStartTime": "2022-10-27T18:28:20+02:00",
          "TuningJobName": "bayesian-221027-1820",
          "alpha": 0.2806078163083794,
          "eta": 0.3831898696923147,
          "max_depth": 9,
          "min_child_weight": 0.530706668276279,
          "validation:accuracy": 0.872219979763031
         },
         {
          "TrainingElapsedTimeSeconds": 57,
          "TrainingEndTime": "2022-10-27T18:26:54+02:00",
          "TrainingJobName": "bayesian-221027-1820-007-48bb52f6",
          "TrainingJobStatus": "Completed",
          "TrainingStartTime": "2022-10-27T18:25:57+02:00",
          "TuningJobName": "bayesian-221027-1820",
          "alpha": 0.3835069096574677,
          "eta": 0.37192926956735006,
          "max_depth": 7,
          "min_child_weight": 0.874392875811876,
          "validation:accuracy": 0.872219979763031
         },
         {
          "TrainingElapsedTimeSeconds": 52,
          "TrainingEndTime": "2022-10-27T18:42:33+02:00",
          "TrainingJobName": "bayesian-221027-1820-044-f9656f5b",
          "TrainingJobStatus": "Completed",
          "TrainingStartTime": "2022-10-27T18:41:41+02:00",
          "TuningJobName": "bayesian-221027-1820",
          "alpha": 0.2709036451677249,
          "eta": 0.49099211267165066,
          "max_depth": 7,
          "min_child_weight": 0.3518003249199675,
          "validation:accuracy": 0.872219979763031
         },
         {
          "TrainingElapsedTimeSeconds": 62,
          "TrainingEndTime": "2022-10-27T18:36:25+02:00",
          "TrainingJobName": "bayesian-221027-1820-030-767caa9f",
          "TrainingJobStatus": "Completed",
          "TrainingStartTime": "2022-10-27T18:35:23+02:00",
          "TuningJobName": "bayesian-221027-1820",
          "alpha": 0.062207347548851634,
          "eta": 0.3983985910118736,
          "max_depth": 4,
          "min_child_weight": 0.40830850380792527,
          "validation:accuracy": 0.8740699887275696
         },
         {
          "TrainingElapsedTimeSeconds": 67,
          "TrainingEndTime": "2022-10-27T18:28:44+02:00",
          "TrainingJobName": "bayesian-221027-1820-012-100edbf5",
          "TrainingJobStatus": "Completed",
          "TrainingStartTime": "2022-10-27T18:27:37+02:00",
          "TuningJobName": "bayesian-221027-1820",
          "alpha": 0.28740638087141196,
          "eta": 0.3916171193028356,
          "max_depth": 7,
          "min_child_weight": 0.3845581093999886,
          "validation:accuracy": 0.8759300112724304
         },
         {
          "TrainingElapsedTimeSeconds": 73,
          "TrainingEndTime": "2022-10-27T18:27:21+02:00",
          "TrainingJobName": "bayesian-221027-1820-009-dd886123",
          "TrainingJobStatus": "Completed",
          "TrainingStartTime": "2022-10-27T18:26:08+02:00",
          "TuningJobName": "bayesian-221027-1820",
          "alpha": 0.28003296716274195,
          "eta": 0.3892317272159448,
          "max_depth": 6,
          "min_child_weight": 1.054892743301237,
          "validation:accuracy": 0.8759300112724304
         },
         {
          "TrainingElapsedTimeSeconds": 57,
          "TrainingEndTime": "2022-10-27T18:41:22+02:00",
          "TrainingJobName": "bayesian-221027-1820-041-ac1dc2b9",
          "TrainingJobStatus": "Completed",
          "TrainingStartTime": "2022-10-27T18:40:25+02:00",
          "TuningJobName": "bayesian-221027-1820",
          "alpha": 0.44847208097356933,
          "eta": 0.43283393734636777,
          "max_depth": 5,
          "min_child_weight": 0.3322992685423698,
          "validation:accuracy": 0.8759300112724304
         },
         {
          "TrainingElapsedTimeSeconds": 57,
          "TrainingEndTime": "2022-10-27T18:28:09+02:00",
          "TrainingJobName": "bayesian-221027-1820-011-d359e2c1",
          "TrainingJobStatus": "Completed",
          "TrainingStartTime": "2022-10-27T18:27:12+02:00",
          "TuningJobName": "bayesian-221027-1820",
          "alpha": 0.3847191203232139,
          "eta": 0.39088481495325844,
          "max_depth": 8,
          "min_child_weight": 0.06614447161004233,
          "validation:accuracy": 0.8759300112724304
         },
         {
          "TrainingElapsedTimeSeconds": 57,
          "TrainingEndTime": "2022-10-27T18:31:43+02:00",
          "TrainingJobName": "bayesian-221027-1820-019-684147ea",
          "TrainingJobStatus": "Completed",
          "TrainingStartTime": "2022-10-27T18:30:46+02:00",
          "TuningJobName": "bayesian-221027-1820",
          "alpha": 0.11874334059372676,
          "eta": 0.43989250185693796,
          "max_depth": 6,
          "min_child_weight": 0.10687096753820202,
          "validation:accuracy": 0.8759300112724304
         },
         {
          "TrainingElapsedTimeSeconds": 67,
          "TrainingEndTime": "2022-10-27T18:31:27+02:00",
          "TrainingJobName": "bayesian-221027-1820-018-80f35d94",
          "TrainingJobStatus": "Completed",
          "TrainingStartTime": "2022-10-27T18:30:20+02:00",
          "TuningJobName": "bayesian-221027-1820",
          "alpha": 0.07181896208766636,
          "eta": 0.38121445828563816,
          "max_depth": 6,
          "min_child_weight": 0.14904418496912863,
          "validation:accuracy": 0.8759300112724304
         },
         {
          "TrainingElapsedTimeSeconds": 163,
          "TrainingEndTime": "2022-10-27T18:24:32+02:00",
          "TrainingJobName": "bayesian-221027-1820-002-8e8af569",
          "TrainingJobStatus": "Completed",
          "TrainingStartTime": "2022-10-27T18:21:49+02:00",
          "TuningJobName": "bayesian-221027-1820",
          "alpha": 0.41727206414131135,
          "eta": 0.4035645296355139,
          "max_depth": 3,
          "min_child_weight": 0.3095524117984094,
          "validation:accuracy": 0.877780020236969
         },
         {
          "TrainingElapsedTimeSeconds": 57,
          "TrainingEndTime": "2022-10-27T18:33:25+02:00",
          "TrainingJobName": "bayesian-221027-1820-023-fc857a8a",
          "TrainingJobStatus": "Completed",
          "TrainingStartTime": "2022-10-27T18:32:28+02:00",
          "TuningJobName": "bayesian-221027-1820",
          "alpha": 0.446662498188422,
          "eta": 0.4218753449504484,
          "max_depth": 6,
          "min_child_weight": 0.40237130843048274,
          "validation:accuracy": 0.877780020236969
         },
         {
          "TrainingElapsedTimeSeconds": 70,
          "TrainingEndTime": "2022-10-27T18:30:53+02:00",
          "TrainingJobName": "bayesian-221027-1820-017-1b36b2a4",
          "TrainingJobStatus": "Completed",
          "TrainingStartTime": "2022-10-27T18:29:43+02:00",
          "TuningJobName": "bayesian-221027-1820",
          "alpha": 0.013704382231544843,
          "eta": 0.43658244855758965,
          "max_depth": 6,
          "min_child_weight": 0.28055164700688673,
          "validation:accuracy": 0.877780020236969
         },
         {
          "TrainingElapsedTimeSeconds": 62,
          "TrainingEndTime": "2022-10-27T18:36:06+02:00",
          "TrainingJobName": "bayesian-221027-1820-029-9a26a680",
          "TrainingJobStatus": "Completed",
          "TrainingStartTime": "2022-10-27T18:35:04+02:00",
          "TuningJobName": "bayesian-221027-1820",
          "alpha": 0.12898736897357277,
          "eta": 0.4116950729016805,
          "max_depth": 6,
          "min_child_weight": 0.3789579043852276,
          "validation:accuracy": 0.8796300292015076
         },
         {
          "TrainingElapsedTimeSeconds": 57,
          "TrainingEndTime": "2022-10-27T18:39:02+02:00",
          "TrainingJobName": "bayesian-221027-1820-037-10ee4a9e",
          "TrainingJobStatus": "Completed",
          "TrainingStartTime": "2022-10-27T18:38:05+02:00",
          "TuningJobName": "bayesian-221027-1820",
          "alpha": 0.4615384116757679,
          "eta": 0.40934845652644847,
          "max_depth": 5,
          "min_child_weight": 0.35578220930962945,
          "validation:accuracy": 0.8796300292015076
         },
         {
          "TrainingElapsedTimeSeconds": 57,
          "TrainingEndTime": "2022-10-27T18:37:46+02:00",
          "TrainingJobName": "bayesian-221027-1820-034-7d941871",
          "TrainingJobStatus": "Completed",
          "TrainingStartTime": "2022-10-27T18:36:49+02:00",
          "TuningJobName": "bayesian-221027-1820",
          "alpha": 0.22516535216092032,
          "eta": 0.40167558211361654,
          "max_depth": 6,
          "min_child_weight": 0.360936708893756,
          "validation:accuracy": 0.8814799785614014
         },
         {
          "TrainingElapsedTimeSeconds": 62,
          "TrainingEndTime": "2022-10-27T18:45:09+02:00",
          "TrainingJobName": "bayesian-221027-1820-050-11348ec1",
          "TrainingJobStatus": "Completed",
          "TrainingStartTime": "2022-10-27T18:44:07+02:00",
          "TuningJobName": "bayesian-221027-1820",
          "alpha": 0.2673195337453632,
          "eta": 0.4405672982071288,
          "max_depth": 6,
          "min_child_weight": 0.3331100663614035,
          "validation:accuracy": 0.8814799785614014
         },
         {
          "TrainingElapsedTimeSeconds": 57,
          "TrainingEndTime": "2022-10-27T18:38:45+02:00",
          "TrainingJobName": "bayesian-221027-1820-035-cd7b42dd",
          "TrainingJobStatus": "Completed",
          "TrainingStartTime": "2022-10-27T18:37:48+02:00",
          "TuningJobName": "bayesian-221027-1820",
          "alpha": 0.47985026461982305,
          "eta": 0.4382310722660451,
          "max_depth": 5,
          "min_child_weight": 0.3574657408383044,
          "validation:accuracy": 0.8833299875259399
         },
         {
          "TrainingElapsedTimeSeconds": 58,
          "TrainingEndTime": "2022-10-27T18:36:31+02:00",
          "TrainingJobName": "bayesian-221027-1820-031-88ea2771",
          "TrainingJobStatus": "Completed",
          "TrainingStartTime": "2022-10-27T18:35:33+02:00",
          "TuningJobName": "bayesian-221027-1820",
          "alpha": 0.24581160339769287,
          "eta": 0.39142991556168294,
          "max_depth": 6,
          "min_child_weight": 0.4953164480593922,
          "validation:accuracy": 0.8833299875259399
         },
         {
          "TrainingElapsedTimeSeconds": 62,
          "TrainingEndTime": "2022-10-27T18:41:32+02:00",
          "TrainingJobName": "bayesian-221027-1820-042-234825c2",
          "TrainingJobStatus": "Completed",
          "TrainingStartTime": "2022-10-27T18:40:30+02:00",
          "TuningJobName": "bayesian-221027-1820",
          "alpha": 0.44317533182980984,
          "eta": 0.46003614444831786,
          "max_depth": 5,
          "min_child_weight": 0.3411945681499733,
          "validation:accuracy": 0.8833299875259399
         },
         {
          "TrainingElapsedTimeSeconds": 67,
          "TrainingEndTime": "2022-10-27T18:25:36+02:00",
          "TrainingJobName": "bayesian-221027-1820-004-743df85a",
          "TrainingJobStatus": "Completed",
          "TrainingStartTime": "2022-10-27T18:24:29+02:00",
          "TuningJobName": "bayesian-221027-1820",
          "alpha": 0.2875555925737561,
          "eta": 0.39074771005421904,
          "max_depth": 6,
          "min_child_weight": 0.5165014185803924,
          "validation:accuracy": 0.8833299875259399
         },
         {
          "TrainingElapsedTimeSeconds": 62,
          "TrainingEndTime": "2022-10-27T18:37:41+02:00",
          "TrainingJobName": "bayesian-221027-1820-033-1c1a2fb5",
          "TrainingJobStatus": "Completed",
          "TrainingStartTime": "2022-10-27T18:36:39+02:00",
          "TuningJobName": "bayesian-221027-1820",
          "alpha": 0.3637418319976523,
          "eta": 0.41152332515286705,
          "max_depth": 6,
          "min_child_weight": 0.35797943554146006,
          "validation:accuracy": 0.8851799964904785
         },
         {
          "TrainingElapsedTimeSeconds": 72,
          "TrainingEndTime": "2022-10-27T18:43:00+02:00",
          "TrainingJobName": "bayesian-221027-1820-045-9f55416a",
          "TrainingJobStatus": "Completed",
          "TrainingStartTime": "2022-10-27T18:41:48+02:00",
          "TuningJobName": "bayesian-221027-1820",
          "alpha": 0.3886595508998048,
          "eta": 0.44834246317891424,
          "max_depth": 6,
          "min_child_weight": 0.3511904200355582,
          "validation:accuracy": 0.8851799964904785
         },
         {
          "TrainingElapsedTimeSeconds": 62,
          "TrainingEndTime": "2022-10-27T18:32:10+02:00",
          "TrainingJobName": "bayesian-221027-1820-020-584ce757",
          "TrainingJobStatus": "Completed",
          "TrainingStartTime": "2022-10-27T18:31:08+02:00",
          "TuningJobName": "bayesian-221027-1820",
          "alpha": 0.3343966668122498,
          "eta": 0.40244817430891644,
          "max_depth": 6,
          "min_child_weight": 0.3679106771240839,
          "validation:accuracy": 0.8851799964904785
         },
         {
          "TrainingElapsedTimeSeconds": 62,
          "TrainingEndTime": "2022-10-27T18:38:58+02:00",
          "TrainingJobName": "bayesian-221027-1820-036-cdba77e8",
          "TrainingJobStatus": "Completed",
          "TrainingStartTime": "2022-10-27T18:37:56+02:00",
          "TuningJobName": "bayesian-221027-1820",
          "alpha": 0.45266964748053856,
          "eta": 0.4326873052316612,
          "max_depth": 5,
          "min_child_weight": 0.3472081205801658,
          "validation:accuracy": 0.8851799964904785
         },
         {
          "TrainingElapsedTimeSeconds": 62,
          "TrainingEndTime": "2022-10-27T18:40:15+02:00",
          "TrainingJobName": "bayesian-221027-1820-039-a96dc7b2",
          "TrainingJobStatus": "Completed",
          "TrainingStartTime": "2022-10-27T18:39:13+02:00",
          "TuningJobName": "bayesian-221027-1820",
          "alpha": 0.32400086716875764,
          "eta": 0.47535981518178516,
          "max_depth": 5,
          "min_child_weight": 0.32745983580095417,
          "validation:accuracy": 0.8851799964904785
         },
         {
          "TrainingElapsedTimeSeconds": 57,
          "TrainingEndTime": "2022-10-27T18:40:03+02:00",
          "TrainingJobName": "bayesian-221027-1820-038-72f3122f",
          "TrainingJobStatus": "Completed",
          "TrainingStartTime": "2022-10-27T18:39:06+02:00",
          "TuningJobName": "bayesian-221027-1820",
          "alpha": 0.5,
          "eta": 0.47957890582908635,
          "max_depth": 5,
          "min_child_weight": 0.32546861870019933,
          "validation:accuracy": 0.8851799964904785
         },
         {
          "TrainingElapsedTimeSeconds": 57,
          "TrainingEndTime": "2022-10-27T18:41:35+02:00",
          "TrainingJobName": "bayesian-221027-1820-043-2ff0665f",
          "TrainingJobStatus": "Completed",
          "TrainingStartTime": "2022-10-27T18:40:38+02:00",
          "TuningJobName": "bayesian-221027-1820",
          "alpha": 0.4789276081566876,
          "eta": 0.45393057455433816,
          "max_depth": 6,
          "min_child_weight": 0.32802139685635834,
          "validation:accuracy": 0.8851799964904785
         },
         {
          "TrainingElapsedTimeSeconds": 56,
          "TrainingEndTime": "2022-10-27T18:44:11+02:00",
          "TrainingJobName": "bayesian-221027-1820-049-7c418f37",
          "TrainingJobStatus": "Completed",
          "TrainingStartTime": "2022-10-27T18:43:15+02:00",
          "TuningJobName": "bayesian-221027-1820",
          "alpha": 0.45634417554134166,
          "eta": 0.44979295862271373,
          "max_depth": 6,
          "min_child_weight": 0.3515679365880344,
          "validation:accuracy": 0.8870400190353394
         },
         {
          "TrainingElapsedTimeSeconds": 57,
          "TrainingEndTime": "2022-10-27T18:43:58+02:00",
          "TrainingJobName": "bayesian-221027-1820-048-0f0c28cb",
          "TrainingJobStatus": "Completed",
          "TrainingStartTime": "2022-10-27T18:43:01+02:00",
          "TuningJobName": "bayesian-221027-1820",
          "alpha": 0.32390409616374827,
          "eta": 0.41654791099802535,
          "max_depth": 6,
          "min_child_weight": 0.34417443734494935,
          "validation:accuracy": 0.8870400190353394
         },
         {
          "TrainingElapsedTimeSeconds": 57,
          "TrainingEndTime": "2022-10-27T18:40:18+02:00",
          "TrainingJobName": "bayesian-221027-1820-040-03173579",
          "TrainingJobStatus": "Completed",
          "TrainingStartTime": "2022-10-27T18:39:21+02:00",
          "TuningJobName": "bayesian-221027-1820",
          "alpha": 0.5,
          "eta": 0.45310945669656577,
          "max_depth": 6,
          "min_child_weight": 0.3265529136134814,
          "validation:accuracy": 0.8907399773597717
         },
         {
          "TrainingElapsedTimeSeconds": 63,
          "TrainingEndTime": "2022-10-27T18:43:53+02:00",
          "TrainingJobName": "bayesian-221027-1820-047-ef3dc641",
          "TrainingJobStatus": "Completed",
          "TrainingStartTime": "2022-10-27T18:42:50+02:00",
          "TuningJobName": "bayesian-221027-1820",
          "alpha": 0.026889138512344583,
          "eta": 0.4369352641569203,
          "max_depth": 6,
          "min_child_weight": 0.32838632382746336,
          "validation:accuracy": 0.8907399773597717
         },
         {
          "TrainingElapsedTimeSeconds": 62,
          "TrainingEndTime": "2022-10-27T18:37:35+02:00",
          "TrainingJobName": "bayesian-221027-1820-032-b3b7ae0f",
          "TrainingJobStatus": "Completed",
          "TrainingStartTime": "2022-10-27T18:36:33+02:00",
          "TuningJobName": "bayesian-221027-1820",
          "alpha": 0.4931281859601851,
          "eta": 0.44421913424035786,
          "max_depth": 5,
          "min_child_weight": 0.3456350409564862,
          "validation:accuracy": 0.8907399773597717
         }
        ],
        "data-3f5e81a1e1fd6649620b281d6772e6d9": [
         {
          "TrainingElapsedTimeSeconds": 62,
          "TrainingEndTime": "2022-10-27T18:37:35+02:00",
          "TrainingJobName": "bayesian-221027-1820-032-b3b7ae0f",
          "TrainingJobStatus": "Completed",
          "TrainingStartTime": "2022-10-27T18:36:33+02:00",
          "TuningJobName": "bayesian-221027-1820",
          "alpha": 0.4931281859601851,
          "eta": 0.44421913424035786,
          "max_depth": 5,
          "min_child_weight": 0.3456350409564862,
          "validation:accuracy": 0.8907399773597717
         },
         {
          "TrainingElapsedTimeSeconds": 63,
          "TrainingEndTime": "2022-10-27T18:43:53+02:00",
          "TrainingJobName": "bayesian-221027-1820-047-ef3dc641",
          "TrainingJobStatus": "Completed",
          "TrainingStartTime": "2022-10-27T18:42:50+02:00",
          "TuningJobName": "bayesian-221027-1820",
          "alpha": 0.026889138512344583,
          "eta": 0.4369352641569203,
          "max_depth": 6,
          "min_child_weight": 0.32838632382746336,
          "validation:accuracy": 0.8907399773597717
         },
         {
          "TrainingElapsedTimeSeconds": 57,
          "TrainingEndTime": "2022-10-27T18:40:18+02:00",
          "TrainingJobName": "bayesian-221027-1820-040-03173579",
          "TrainingJobStatus": "Completed",
          "TrainingStartTime": "2022-10-27T18:39:21+02:00",
          "TuningJobName": "bayesian-221027-1820",
          "alpha": 0.5,
          "eta": 0.45310945669656577,
          "max_depth": 6,
          "min_child_weight": 0.3265529136134814,
          "validation:accuracy": 0.8907399773597717
         },
         {
          "TrainingElapsedTimeSeconds": 57,
          "TrainingEndTime": "2022-10-27T18:43:58+02:00",
          "TrainingJobName": "bayesian-221027-1820-048-0f0c28cb",
          "TrainingJobStatus": "Completed",
          "TrainingStartTime": "2022-10-27T18:43:01+02:00",
          "TuningJobName": "bayesian-221027-1820",
          "alpha": 0.32390409616374827,
          "eta": 0.41654791099802535,
          "max_depth": 6,
          "min_child_weight": 0.34417443734494935,
          "validation:accuracy": 0.8870400190353394
         },
         {
          "TrainingElapsedTimeSeconds": 56,
          "TrainingEndTime": "2022-10-27T18:44:11+02:00",
          "TrainingJobName": "bayesian-221027-1820-049-7c418f37",
          "TrainingJobStatus": "Completed",
          "TrainingStartTime": "2022-10-27T18:43:15+02:00",
          "TuningJobName": "bayesian-221027-1820",
          "alpha": 0.45634417554134166,
          "eta": 0.44979295862271373,
          "max_depth": 6,
          "min_child_weight": 0.3515679365880344,
          "validation:accuracy": 0.8870400190353394
         },
         {
          "TrainingElapsedTimeSeconds": 62,
          "TrainingEndTime": "2022-10-27T18:37:41+02:00",
          "TrainingJobName": "bayesian-221027-1820-033-1c1a2fb5",
          "TrainingJobStatus": "Completed",
          "TrainingStartTime": "2022-10-27T18:36:39+02:00",
          "TuningJobName": "bayesian-221027-1820",
          "alpha": 0.3637418319976523,
          "eta": 0.41152332515286705,
          "max_depth": 6,
          "min_child_weight": 0.35797943554146006,
          "validation:accuracy": 0.8851799964904785
         },
         {
          "TrainingElapsedTimeSeconds": 72,
          "TrainingEndTime": "2022-10-27T18:43:00+02:00",
          "TrainingJobName": "bayesian-221027-1820-045-9f55416a",
          "TrainingJobStatus": "Completed",
          "TrainingStartTime": "2022-10-27T18:41:48+02:00",
          "TuningJobName": "bayesian-221027-1820",
          "alpha": 0.3886595508998048,
          "eta": 0.44834246317891424,
          "max_depth": 6,
          "min_child_weight": 0.3511904200355582,
          "validation:accuracy": 0.8851799964904785
         },
         {
          "TrainingElapsedTimeSeconds": 62,
          "TrainingEndTime": "2022-10-27T18:32:10+02:00",
          "TrainingJobName": "bayesian-221027-1820-020-584ce757",
          "TrainingJobStatus": "Completed",
          "TrainingStartTime": "2022-10-27T18:31:08+02:00",
          "TuningJobName": "bayesian-221027-1820",
          "alpha": 0.3343966668122498,
          "eta": 0.40244817430891644,
          "max_depth": 6,
          "min_child_weight": 0.3679106771240839,
          "validation:accuracy": 0.8851799964904785
         },
         {
          "TrainingElapsedTimeSeconds": 57,
          "TrainingEndTime": "2022-10-27T18:41:35+02:00",
          "TrainingJobName": "bayesian-221027-1820-043-2ff0665f",
          "TrainingJobStatus": "Completed",
          "TrainingStartTime": "2022-10-27T18:40:38+02:00",
          "TuningJobName": "bayesian-221027-1820",
          "alpha": 0.4789276081566876,
          "eta": 0.45393057455433816,
          "max_depth": 6,
          "min_child_weight": 0.32802139685635834,
          "validation:accuracy": 0.8851799964904785
         },
         {
          "TrainingElapsedTimeSeconds": 62,
          "TrainingEndTime": "2022-10-27T18:40:15+02:00",
          "TrainingJobName": "bayesian-221027-1820-039-a96dc7b2",
          "TrainingJobStatus": "Completed",
          "TrainingStartTime": "2022-10-27T18:39:13+02:00",
          "TuningJobName": "bayesian-221027-1820",
          "alpha": 0.32400086716875764,
          "eta": 0.47535981518178516,
          "max_depth": 5,
          "min_child_weight": 0.32745983580095417,
          "validation:accuracy": 0.8851799964904785
         },
         {
          "TrainingElapsedTimeSeconds": 57,
          "TrainingEndTime": "2022-10-27T18:40:03+02:00",
          "TrainingJobName": "bayesian-221027-1820-038-72f3122f",
          "TrainingJobStatus": "Completed",
          "TrainingStartTime": "2022-10-27T18:39:06+02:00",
          "TuningJobName": "bayesian-221027-1820",
          "alpha": 0.5,
          "eta": 0.47957890582908635,
          "max_depth": 5,
          "min_child_weight": 0.32546861870019933,
          "validation:accuracy": 0.8851799964904785
         },
         {
          "TrainingElapsedTimeSeconds": 62,
          "TrainingEndTime": "2022-10-27T18:38:58+02:00",
          "TrainingJobName": "bayesian-221027-1820-036-cdba77e8",
          "TrainingJobStatus": "Completed",
          "TrainingStartTime": "2022-10-27T18:37:56+02:00",
          "TuningJobName": "bayesian-221027-1820",
          "alpha": 0.45266964748053856,
          "eta": 0.4326873052316612,
          "max_depth": 5,
          "min_child_weight": 0.3472081205801658,
          "validation:accuracy": 0.8851799964904785
         },
         {
          "TrainingElapsedTimeSeconds": 67,
          "TrainingEndTime": "2022-10-27T18:25:36+02:00",
          "TrainingJobName": "bayesian-221027-1820-004-743df85a",
          "TrainingJobStatus": "Completed",
          "TrainingStartTime": "2022-10-27T18:24:29+02:00",
          "TuningJobName": "bayesian-221027-1820",
          "alpha": 0.2875555925737561,
          "eta": 0.39074771005421904,
          "max_depth": 6,
          "min_child_weight": 0.5165014185803924,
          "validation:accuracy": 0.8833299875259399
         },
         {
          "TrainingElapsedTimeSeconds": 62,
          "TrainingEndTime": "2022-10-27T18:41:32+02:00",
          "TrainingJobName": "bayesian-221027-1820-042-234825c2",
          "TrainingJobStatus": "Completed",
          "TrainingStartTime": "2022-10-27T18:40:30+02:00",
          "TuningJobName": "bayesian-221027-1820",
          "alpha": 0.44317533182980984,
          "eta": 0.46003614444831786,
          "max_depth": 5,
          "min_child_weight": 0.3411945681499733,
          "validation:accuracy": 0.8833299875259399
         },
         {
          "TrainingElapsedTimeSeconds": 58,
          "TrainingEndTime": "2022-10-27T18:36:31+02:00",
          "TrainingJobName": "bayesian-221027-1820-031-88ea2771",
          "TrainingJobStatus": "Completed",
          "TrainingStartTime": "2022-10-27T18:35:33+02:00",
          "TuningJobName": "bayesian-221027-1820",
          "alpha": 0.24581160339769287,
          "eta": 0.39142991556168294,
          "max_depth": 6,
          "min_child_weight": 0.4953164480593922,
          "validation:accuracy": 0.8833299875259399
         },
         {
          "TrainingElapsedTimeSeconds": 57,
          "TrainingEndTime": "2022-10-27T18:38:45+02:00",
          "TrainingJobName": "bayesian-221027-1820-035-cd7b42dd",
          "TrainingJobStatus": "Completed",
          "TrainingStartTime": "2022-10-27T18:37:48+02:00",
          "TuningJobName": "bayesian-221027-1820",
          "alpha": 0.47985026461982305,
          "eta": 0.4382310722660451,
          "max_depth": 5,
          "min_child_weight": 0.3574657408383044,
          "validation:accuracy": 0.8833299875259399
         },
         {
          "TrainingElapsedTimeSeconds": 62,
          "TrainingEndTime": "2022-10-27T18:45:09+02:00",
          "TrainingJobName": "bayesian-221027-1820-050-11348ec1",
          "TrainingJobStatus": "Completed",
          "TrainingStartTime": "2022-10-27T18:44:07+02:00",
          "TuningJobName": "bayesian-221027-1820",
          "alpha": 0.2673195337453632,
          "eta": 0.4405672982071288,
          "max_depth": 6,
          "min_child_weight": 0.3331100663614035,
          "validation:accuracy": 0.8814799785614014
         },
         {
          "TrainingElapsedTimeSeconds": 57,
          "TrainingEndTime": "2022-10-27T18:37:46+02:00",
          "TrainingJobName": "bayesian-221027-1820-034-7d941871",
          "TrainingJobStatus": "Completed",
          "TrainingStartTime": "2022-10-27T18:36:49+02:00",
          "TuningJobName": "bayesian-221027-1820",
          "alpha": 0.22516535216092032,
          "eta": 0.40167558211361654,
          "max_depth": 6,
          "min_child_weight": 0.360936708893756,
          "validation:accuracy": 0.8814799785614014
         },
         {
          "TrainingElapsedTimeSeconds": 57,
          "TrainingEndTime": "2022-10-27T18:39:02+02:00",
          "TrainingJobName": "bayesian-221027-1820-037-10ee4a9e",
          "TrainingJobStatus": "Completed",
          "TrainingStartTime": "2022-10-27T18:38:05+02:00",
          "TuningJobName": "bayesian-221027-1820",
          "alpha": 0.4615384116757679,
          "eta": 0.40934845652644847,
          "max_depth": 5,
          "min_child_weight": 0.35578220930962945,
          "validation:accuracy": 0.8796300292015076
         },
         {
          "TrainingElapsedTimeSeconds": 62,
          "TrainingEndTime": "2022-10-27T18:36:06+02:00",
          "TrainingJobName": "bayesian-221027-1820-029-9a26a680",
          "TrainingJobStatus": "Completed",
          "TrainingStartTime": "2022-10-27T18:35:04+02:00",
          "TuningJobName": "bayesian-221027-1820",
          "alpha": 0.12898736897357277,
          "eta": 0.4116950729016805,
          "max_depth": 6,
          "min_child_weight": 0.3789579043852276,
          "validation:accuracy": 0.8796300292015076
         },
         {
          "TrainingElapsedTimeSeconds": 70,
          "TrainingEndTime": "2022-10-27T18:30:53+02:00",
          "TrainingJobName": "bayesian-221027-1820-017-1b36b2a4",
          "TrainingJobStatus": "Completed",
          "TrainingStartTime": "2022-10-27T18:29:43+02:00",
          "TuningJobName": "bayesian-221027-1820",
          "alpha": 0.013704382231544843,
          "eta": 0.43658244855758965,
          "max_depth": 6,
          "min_child_weight": 0.28055164700688673,
          "validation:accuracy": 0.877780020236969
         },
         {
          "TrainingElapsedTimeSeconds": 57,
          "TrainingEndTime": "2022-10-27T18:33:25+02:00",
          "TrainingJobName": "bayesian-221027-1820-023-fc857a8a",
          "TrainingJobStatus": "Completed",
          "TrainingStartTime": "2022-10-27T18:32:28+02:00",
          "TuningJobName": "bayesian-221027-1820",
          "alpha": 0.446662498188422,
          "eta": 0.4218753449504484,
          "max_depth": 6,
          "min_child_weight": 0.40237130843048274,
          "validation:accuracy": 0.877780020236969
         },
         {
          "TrainingElapsedTimeSeconds": 163,
          "TrainingEndTime": "2022-10-27T18:24:32+02:00",
          "TrainingJobName": "bayesian-221027-1820-002-8e8af569",
          "TrainingJobStatus": "Completed",
          "TrainingStartTime": "2022-10-27T18:21:49+02:00",
          "TuningJobName": "bayesian-221027-1820",
          "alpha": 0.41727206414131135,
          "eta": 0.4035645296355139,
          "max_depth": 3,
          "min_child_weight": 0.3095524117984094,
          "validation:accuracy": 0.877780020236969
         },
         {
          "TrainingElapsedTimeSeconds": 67,
          "TrainingEndTime": "2022-10-27T18:31:27+02:00",
          "TrainingJobName": "bayesian-221027-1820-018-80f35d94",
          "TrainingJobStatus": "Completed",
          "TrainingStartTime": "2022-10-27T18:30:20+02:00",
          "TuningJobName": "bayesian-221027-1820",
          "alpha": 0.07181896208766636,
          "eta": 0.38121445828563816,
          "max_depth": 6,
          "min_child_weight": 0.14904418496912863,
          "validation:accuracy": 0.8759300112724304
         },
         {
          "TrainingElapsedTimeSeconds": 57,
          "TrainingEndTime": "2022-10-27T18:31:43+02:00",
          "TrainingJobName": "bayesian-221027-1820-019-684147ea",
          "TrainingJobStatus": "Completed",
          "TrainingStartTime": "2022-10-27T18:30:46+02:00",
          "TuningJobName": "bayesian-221027-1820",
          "alpha": 0.11874334059372676,
          "eta": 0.43989250185693796,
          "max_depth": 6,
          "min_child_weight": 0.10687096753820202,
          "validation:accuracy": 0.8759300112724304
         },
         {
          "TrainingElapsedTimeSeconds": 67,
          "TrainingEndTime": "2022-10-27T18:28:44+02:00",
          "TrainingJobName": "bayesian-221027-1820-012-100edbf5",
          "TrainingJobStatus": "Completed",
          "TrainingStartTime": "2022-10-27T18:27:37+02:00",
          "TuningJobName": "bayesian-221027-1820",
          "alpha": 0.28740638087141196,
          "eta": 0.3916171193028356,
          "max_depth": 7,
          "min_child_weight": 0.3845581093999886,
          "validation:accuracy": 0.8759300112724304
         },
         {
          "TrainingElapsedTimeSeconds": 57,
          "TrainingEndTime": "2022-10-27T18:28:09+02:00",
          "TrainingJobName": "bayesian-221027-1820-011-d359e2c1",
          "TrainingJobStatus": "Completed",
          "TrainingStartTime": "2022-10-27T18:27:12+02:00",
          "TuningJobName": "bayesian-221027-1820",
          "alpha": 0.3847191203232139,
          "eta": 0.39088481495325844,
          "max_depth": 8,
          "min_child_weight": 0.06614447161004233,
          "validation:accuracy": 0.8759300112724304
         },
         {
          "TrainingElapsedTimeSeconds": 57,
          "TrainingEndTime": "2022-10-27T18:41:22+02:00",
          "TrainingJobName": "bayesian-221027-1820-041-ac1dc2b9",
          "TrainingJobStatus": "Completed",
          "TrainingStartTime": "2022-10-27T18:40:25+02:00",
          "TuningJobName": "bayesian-221027-1820",
          "alpha": 0.44847208097356933,
          "eta": 0.43283393734636777,
          "max_depth": 5,
          "min_child_weight": 0.3322992685423698,
          "validation:accuracy": 0.8759300112724304
         },
         {
          "TrainingElapsedTimeSeconds": 73,
          "TrainingEndTime": "2022-10-27T18:27:21+02:00",
          "TrainingJobName": "bayesian-221027-1820-009-dd886123",
          "TrainingJobStatus": "Completed",
          "TrainingStartTime": "2022-10-27T18:26:08+02:00",
          "TuningJobName": "bayesian-221027-1820",
          "alpha": 0.28003296716274195,
          "eta": 0.3892317272159448,
          "max_depth": 6,
          "min_child_weight": 1.054892743301237,
          "validation:accuracy": 0.8759300112724304
         },
         {
          "TrainingElapsedTimeSeconds": 62,
          "TrainingEndTime": "2022-10-27T18:36:25+02:00",
          "TrainingJobName": "bayesian-221027-1820-030-767caa9f",
          "TrainingJobStatus": "Completed",
          "TrainingStartTime": "2022-10-27T18:35:23+02:00",
          "TuningJobName": "bayesian-221027-1820",
          "alpha": 0.062207347548851634,
          "eta": 0.3983985910118736,
          "max_depth": 4,
          "min_child_weight": 0.40830850380792527,
          "validation:accuracy": 0.8740699887275696
         },
         {
          "TrainingElapsedTimeSeconds": 52,
          "TrainingEndTime": "2022-10-27T18:42:33+02:00",
          "TrainingJobName": "bayesian-221027-1820-044-f9656f5b",
          "TrainingJobStatus": "Completed",
          "TrainingStartTime": "2022-10-27T18:41:41+02:00",
          "TuningJobName": "bayesian-221027-1820",
          "alpha": 0.2709036451677249,
          "eta": 0.49099211267165066,
          "max_depth": 7,
          "min_child_weight": 0.3518003249199675,
          "validation:accuracy": 0.872219979763031
         },
         {
          "TrainingElapsedTimeSeconds": 57,
          "TrainingEndTime": "2022-10-27T18:26:54+02:00",
          "TrainingJobName": "bayesian-221027-1820-007-48bb52f6",
          "TrainingJobStatus": "Completed",
          "TrainingStartTime": "2022-10-27T18:25:57+02:00",
          "TuningJobName": "bayesian-221027-1820",
          "alpha": 0.3835069096574677,
          "eta": 0.37192926956735006,
          "max_depth": 7,
          "min_child_weight": 0.874392875811876,
          "validation:accuracy": 0.872219979763031
         },
         {
          "TrainingElapsedTimeSeconds": 58,
          "TrainingEndTime": "2022-10-27T18:29:18+02:00",
          "TrainingJobName": "bayesian-221027-1820-013-4f2fac44",
          "TrainingJobStatus": "Completed",
          "TrainingStartTime": "2022-10-27T18:28:20+02:00",
          "TuningJobName": "bayesian-221027-1820",
          "alpha": 0.2806078163083794,
          "eta": 0.3831898696923147,
          "max_depth": 9,
          "min_child_weight": 0.530706668276279,
          "validation:accuracy": 0.872219979763031
         },
         {
          "TrainingElapsedTimeSeconds": 57,
          "TrainingEndTime": "2022-10-27T18:26:54+02:00",
          "TrainingJobName": "bayesian-221027-1820-008-832801b5",
          "TrainingJobStatus": "Completed",
          "TrainingStartTime": "2022-10-27T18:25:57+02:00",
          "TuningJobName": "bayesian-221027-1820",
          "alpha": 0.3850097671488758,
          "eta": 0.2525121892236555,
          "max_depth": 7,
          "min_child_weight": 1.827581761189289,
          "validation:accuracy": 0.8703699707984924
         },
         {
          "TrainingElapsedTimeSeconds": 160,
          "TrainingEndTime": "2022-10-27T18:24:29+02:00",
          "TrainingJobName": "bayesian-221027-1820-003-a28e2487",
          "TrainingJobStatus": "Completed",
          "TrainingStartTime": "2022-10-27T18:21:49+02:00",
          "TuningJobName": "bayesian-221027-1820",
          "alpha": 0.4700596617045812,
          "eta": 0.33428990398027625,
          "max_depth": 10,
          "min_child_weight": 1.2750555821681644,
          "validation:accuracy": 0.8703699707984924
         },
         {
          "TrainingElapsedTimeSeconds": 57,
          "TrainingEndTime": "2022-10-27T18:33:55+02:00",
          "TrainingJobName": "bayesian-221027-1820-024-41574fc3",
          "TrainingJobStatus": "Completed",
          "TrainingStartTime": "2022-10-27T18:32:58+02:00",
          "TuningJobName": "bayesian-221027-1820",
          "alpha": 0.3373401104160957,
          "eta": 0.4371471722025092,
          "max_depth": 6,
          "min_child_weight": 0.11241825547788831,
          "validation:accuracy": 0.8703699707984924
         },
         {
          "TrainingElapsedTimeSeconds": 57,
          "TrainingEndTime": "2022-10-27T18:32:53+02:00",
          "TrainingJobName": "bayesian-221027-1820-022-5da26cfc",
          "TrainingJobStatus": "Completed",
          "TrainingStartTime": "2022-10-27T18:31:56+02:00",
          "TuningJobName": "bayesian-221027-1820",
          "alpha": 0.33763913874683077,
          "eta": 0.40057024651126427,
          "max_depth": 6,
          "min_child_weight": 0.5768723763793344,
          "validation:accuracy": 0.8685200214385986
         },
         {
          "TrainingElapsedTimeSeconds": 63,
          "TrainingEndTime": "2022-10-27T18:35:10+02:00",
          "TrainingJobName": "bayesian-221027-1820-027-a2a56040",
          "TrainingJobStatus": "Completed",
          "TrainingStartTime": "2022-10-27T18:34:07+02:00",
          "TuningJobName": "bayesian-221027-1820",
          "alpha": 0.31324906019498827,
          "eta": 0.4141815199580072,
          "max_depth": 4,
          "min_child_weight": 0.4226563067049675,
          "validation:accuracy": 0.8685200214385986
         },
         {
          "TrainingElapsedTimeSeconds": 68,
          "TrainingEndTime": "2022-10-27T18:25:54+02:00",
          "TrainingJobName": "bayesian-221027-1820-006-bb0967ec",
          "TrainingJobStatus": "Completed",
          "TrainingStartTime": "2022-10-27T18:24:46+02:00",
          "TuningJobName": "bayesian-221027-1820",
          "alpha": 0.40912979634258784,
          "eta": 0.28016409499613476,
          "max_depth": 4,
          "min_child_weight": 0.12395680174580004,
          "validation:accuracy": 0.8685200214385986
         },
         {
          "TrainingElapsedTimeSeconds": 62,
          "TrainingEndTime": "2022-10-27T18:34:45+02:00",
          "TrainingJobName": "bayesian-221027-1820-026-d2ec021e",
          "TrainingJobStatus": "Completed",
          "TrainingStartTime": "2022-10-27T18:33:43+02:00",
          "TuningJobName": "bayesian-221027-1820",
          "alpha": 0.1038338571471911,
          "eta": 0.41223722108596006,
          "max_depth": 4,
          "min_child_weight": 0.9029728239072483,
          "validation:accuracy": 0.8685200214385986
         },
         {
          "TrainingElapsedTimeSeconds": 67,
          "TrainingEndTime": "2022-10-27T18:30:04+02:00",
          "TrainingJobName": "bayesian-221027-1820-015-bb9f0898",
          "TrainingJobStatus": "Completed",
          "TrainingStartTime": "2022-10-27T18:28:57+02:00",
          "TuningJobName": "bayesian-221027-1820",
          "alpha": 0.28932702852719416,
          "eta": 0.38692292117265237,
          "max_depth": 6,
          "min_child_weight": 1.7685948763069357,
          "validation:accuracy": 0.8666700124740601
         },
         {
          "TrainingElapsedTimeSeconds": 57,
          "TrainingEndTime": "2022-10-27T18:30:30+02:00",
          "TrainingJobName": "bayesian-221027-1820-016-0ba94dff",
          "TrainingJobStatus": "Completed",
          "TrainingStartTime": "2022-10-27T18:29:33+02:00",
          "TuningJobName": "bayesian-221027-1820",
          "alpha": 0.2760108748272439,
          "eta": 0.16910547224209738,
          "max_depth": 6,
          "min_child_weight": 0.5210773560863107,
          "validation:accuracy": 0.8666700124740601
         },
         {
          "TrainingElapsedTimeSeconds": 62,
          "TrainingEndTime": "2022-10-27T18:32:46+02:00",
          "TrainingJobName": "bayesian-221027-1820-021-e27e2e14",
          "TrainingJobStatus": "Completed",
          "TrainingStartTime": "2022-10-27T18:31:44+02:00",
          "TuningJobName": "bayesian-221027-1820",
          "alpha": 0.4986501035639017,
          "eta": 0.4128184486301242,
          "max_depth": 6,
          "min_child_weight": 0.4402655036207652,
          "validation:accuracy": 0.8666700124740601
         },
         {
          "TrainingElapsedTimeSeconds": 57,
          "TrainingEndTime": "2022-10-27T18:25:36+02:00",
          "TrainingJobName": "bayesian-221027-1820-005-2ef491fe",
          "TrainingJobStatus": "Completed",
          "TrainingStartTime": "2022-10-27T18:24:39+02:00",
          "TuningJobName": "bayesian-221027-1820",
          "alpha": 0.30678351671967635,
          "eta": 0.2832397135347928,
          "max_depth": 6,
          "min_child_weight": 1.4628922058200249,
          "validation:accuracy": 0.8666700124740601
         },
         {
          "TrainingElapsedTimeSeconds": 57,
          "TrainingEndTime": "2022-10-27T18:42:46+02:00",
          "TrainingJobName": "bayesian-221027-1820-046-bd6bf5bd",
          "TrainingJobStatus": "Completed",
          "TrainingStartTime": "2022-10-27T18:41:49+02:00",
          "TuningJobName": "bayesian-221027-1820",
          "alpha": 0.07999197252588157,
          "eta": 0.4364681659056857,
          "max_depth": 5,
          "min_child_weight": 0.37174899839019804,
          "validation:accuracy": 0.8666700124740601
         },
         {
          "TrainingElapsedTimeSeconds": 57,
          "TrainingEndTime": "2022-10-27T18:28:07+02:00",
          "TrainingJobName": "bayesian-221027-1820-010-ed851e3f",
          "TrainingJobStatus": "Completed",
          "TrainingStartTime": "2022-10-27T18:27:10+02:00",
          "TuningJobName": "bayesian-221027-1820",
          "alpha": 0.23112036151713627,
          "eta": 0.3938815594778714,
          "max_depth": 4,
          "min_child_weight": 0.025036666784480577,
          "validation:accuracy": 0.8648200035095215
         },
         {
          "TrainingElapsedTimeSeconds": 62,
          "TrainingEndTime": "2022-10-27T18:35:20+02:00",
          "TrainingJobName": "bayesian-221027-1820-028-94bee3d9",
          "TrainingJobStatus": "Completed",
          "TrainingStartTime": "2022-10-27T18:34:18+02:00",
          "TuningJobName": "bayesian-221027-1820",
          "alpha": 0.27793933076717825,
          "eta": 0.40101467128238943,
          "max_depth": 8,
          "min_child_weight": 0.27679023656877133,
          "validation:accuracy": 0.8648200035095215
         },
         {
          "TrainingElapsedTimeSeconds": 62,
          "TrainingEndTime": "2022-10-27T18:29:30+02:00",
          "TrainingJobName": "bayesian-221027-1820-014-30ba04c4",
          "TrainingJobStatus": "Completed",
          "TrainingStartTime": "2022-10-27T18:28:28+02:00",
          "TuningJobName": "bayesian-221027-1820",
          "alpha": 0.1746806218591254,
          "eta": 0.40170192870143684,
          "max_depth": 1,
          "min_child_weight": 1.0736946597937573,
          "validation:accuracy": 0.8555600047111511
         },
         {
          "TrainingElapsedTimeSeconds": 147,
          "TrainingEndTime": "2022-10-27T18:24:12+02:00",
          "TrainingJobName": "bayesian-221027-1820-001-a0549410",
          "TrainingJobStatus": "Completed",
          "TrainingStartTime": "2022-10-27T18:21:45+02:00",
          "TuningJobName": "bayesian-221027-1820",
          "alpha": 0.01549998730065745,
          "eta": 0.344106495406567,
          "max_depth": 1,
          "min_child_weight": 0.7525360593773465,
          "validation:accuracy": 0.8536999821662903
         },
         {
          "TrainingElapsedTimeSeconds": 57,
          "TrainingEndTime": "2022-10-27T18:34:05+02:00",
          "TrainingJobName": "bayesian-221027-1820-025-8b887510",
          "TrainingJobStatus": "Completed",
          "TrainingStartTime": "2022-10-27T18:33:08+02:00",
          "TuningJobName": "bayesian-221027-1820",
          "alpha": 0.052697865279325164,
          "eta": 0.1292822167736828,
          "max_depth": 3,
          "min_child_weight": 0.12569457159822317,
          "validation:accuracy": 0.8407400250434875
         }
        ]
       },
       "vconcat": [
        {
         "hconcat": [
          {
           "encoding": {
            "opacity": {
             "condition": {
              "selection": "selector001",
              "value": 1
             },
             "value": 0.35
            },
            "shape": {
             "field": "TrainingJobStatus",
             "legend": {
              "orient": "right"
             },
             "type": "nominal"
            },
            "stroke": {
             "condition": {
              "selection": "selector002",
              "value": "gold"
             },
             "value": "white"
            },
            "strokeWidth": {
             "condition": {
              "selection": "selector002",
              "value": 2
             },
             "value": 2
            },
            "tooltip": [
             {
              "field": "validation:accuracy",
              "format": ".2e",
              "type": "quantitative"
             },
             {
              "field": "max_depth",
              "format": ".2e",
              "type": "quantitative"
             },
             {
              "field": "alpha",
              "format": ".2e",
              "type": "quantitative"
             },
             {
              "field": "eta",
              "format": ".2e",
              "type": "quantitative"
             },
             {
              "field": "min_child_weight",
              "format": ".2e",
              "type": "quantitative"
             },
             {
              "field": "TrainingStartTime",
              "format": "%H:%M:%S",
              "type": "temporal"
             },
             {
              "field": "TrainingJobName",
              "type": "nominal"
             },
             {
              "field": "TrainingJobStatus",
              "type": "nominal"
             },
             {
              "field": "TrainingElapsedTimeSeconds",
              "type": "quantitative"
             }
            ],
            "x": {
             "field": "TrainingStartTime",
             "scale": {
              "nice": true
             },
             "type": "temporal"
            },
            "y": {
             "axis": {
              "title": "validation:accuracy"
             },
             "field": "validation:accuracy",
             "scale": {
              "padding": 1,
              "zero": false
             },
             "type": "quantitative"
            }
           },
           "mark": {
            "filled": true,
            "size": 50,
            "type": "point"
           },
           "selection": {
            "selector001": {
             "empty": "all",
             "encodings": [
              "x"
             ],
             "resolve": "intersect",
             "type": "interval"
            },
            "selector002": {
             "empty": "none",
             "fields": [
              "TrainingJobName",
              "TrainingStartTime"
             ],
             "nearest": false,
             "on": "mouseover",
             "type": "single"
            }
           }
          },
          {
           "encoding": {
            "x": {
             "field": "value",
             "title": "validation:accuracy",
             "type": "quantitative"
            },
            "y": {
             "field": "density",
             "type": "quantitative"
            }
           },
           "mark": "area",
           "transform": [
            {
             "filter": {
              "selection": "selector001"
             }
            },
            {
             "bandwidth": 0.01,
             "density": "validation:accuracy"
            }
           ]
          }
         ],
         "title": "Hyper Parameter Tuning Job"
        },
        {
         "title": "Hyper Parameter Details",
         "vconcat": [
          {
           "hconcat": [
            {
             "encoding": {
              "opacity": {
               "condition": {
                "selection": "selector001",
                "value": 1
               },
               "value": 0.35
              },
              "shape": {
               "field": "TrainingJobStatus",
               "legend": {
                "orient": "right"
               },
               "type": "nominal"
              },
              "stroke": {
               "condition": {
                "selection": "selector002",
                "value": "gold"
               },
               "value": "white"
              },
              "strokeWidth": {
               "condition": {
                "selection": "selector002",
                "value": 2
               },
               "value": 2
              },
              "tooltip": [
               {
                "field": "validation:accuracy",
                "format": ".2e",
                "type": "quantitative"
               },
               {
                "field": "max_depth",
                "format": ".2e",
                "type": "quantitative"
               },
               {
                "field": "alpha",
                "format": ".2e",
                "type": "quantitative"
               },
               {
                "field": "eta",
                "format": ".2e",
                "type": "quantitative"
               },
               {
                "field": "min_child_weight",
                "format": ".2e",
                "type": "quantitative"
               },
               {
                "field": "TrainingStartTime",
                "format": "%H:%M:%S",
                "type": "temporal"
               },
               {
                "field": "TrainingJobName",
                "type": "nominal"
               },
               {
                "field": "TrainingJobStatus",
                "type": "nominal"
               },
               {
                "field": "TrainingElapsedTimeSeconds",
                "type": "quantitative"
               }
              ],
              "x": {
               "field": "max_depth",
               "scale": {
                "base": 10,
                "padding": 1,
                "type": "linear",
                "zero": false
               },
               "type": "quantitative"
              },
              "y": {
               "axis": {
                "title": "validation:accuracy"
               },
               "field": "validation:accuracy",
               "scale": {
                "padding": 1,
                "zero": false
               },
               "type": "quantitative"
              }
             },
             "mark": {
              "filled": true,
              "size": 50,
              "type": "point"
             },
             "selection": {
              "selector001": {
               "empty": "all",
               "encodings": [
                "x"
               ],
               "resolve": "intersect",
               "type": "interval"
              },
              "selector002": {
               "empty": "none",
               "fields": [
                "TrainingJobName",
                "TrainingStartTime"
               ],
               "nearest": false,
               "on": "mouseover",
               "type": "single"
              }
             },
             "title": "max_depth"
            },
            {
             "encoding": {
              "opacity": {
               "condition": {
                "selection": "selector001",
                "value": 1
               },
               "value": 0.35
              },
              "shape": {
               "field": "TrainingJobStatus",
               "legend": {
                "orient": "right"
               },
               "type": "nominal"
              },
              "stroke": {
               "condition": {
                "selection": "selector002",
                "value": "gold"
               },
               "value": "white"
              },
              "strokeWidth": {
               "condition": {
                "selection": "selector002",
                "value": 2
               },
               "value": 2
              },
              "tooltip": [
               {
                "field": "validation:accuracy",
                "format": ".2e",
                "type": "quantitative"
               },
               {
                "field": "max_depth",
                "format": ".2e",
                "type": "quantitative"
               },
               {
                "field": "alpha",
                "format": ".2e",
                "type": "quantitative"
               },
               {
                "field": "eta",
                "format": ".2e",
                "type": "quantitative"
               },
               {
                "field": "min_child_weight",
                "format": ".2e",
                "type": "quantitative"
               },
               {
                "field": "TrainingStartTime",
                "format": "%H:%M:%S",
                "type": "temporal"
               },
               {
                "field": "TrainingJobName",
                "type": "nominal"
               },
               {
                "field": "TrainingJobStatus",
                "type": "nominal"
               },
               {
                "field": "TrainingElapsedTimeSeconds",
                "type": "quantitative"
               }
              ],
              "x": {
               "field": "alpha",
               "scale": {
                "base": 10,
                "padding": 1,
                "type": "linear",
                "zero": false
               },
               "type": "quantitative"
              },
              "y": {
               "axis": {
                "title": "validation:accuracy"
               },
               "field": "validation:accuracy",
               "scale": {
                "padding": 1,
                "zero": false
               },
               "type": "quantitative"
              }
             },
             "mark": {
              "filled": true,
              "size": 50,
              "type": "point"
             },
             "selection": {
              "selector001": {
               "empty": "all",
               "encodings": [
                "x"
               ],
               "resolve": "intersect",
               "type": "interval"
              },
              "selector002": {
               "empty": "none",
               "fields": [
                "TrainingJobName",
                "TrainingStartTime"
               ],
               "nearest": false,
               "on": "mouseover",
               "type": "single"
              }
             },
             "title": "alpha"
            }
           ]
          },
          {
           "hconcat": [
            {
             "encoding": {
              "opacity": {
               "condition": {
                "selection": "selector001",
                "value": 1
               },
               "value": 0.35
              },
              "shape": {
               "field": "TrainingJobStatus",
               "legend": {
                "orient": "right"
               },
               "type": "nominal"
              },
              "stroke": {
               "condition": {
                "selection": "selector002",
                "value": "gold"
               },
               "value": "white"
              },
              "strokeWidth": {
               "condition": {
                "selection": "selector002",
                "value": 2
               },
               "value": 2
              },
              "tooltip": [
               {
                "field": "validation:accuracy",
                "format": ".2e",
                "type": "quantitative"
               },
               {
                "field": "max_depth",
                "format": ".2e",
                "type": "quantitative"
               },
               {
                "field": "alpha",
                "format": ".2e",
                "type": "quantitative"
               },
               {
                "field": "eta",
                "format": ".2e",
                "type": "quantitative"
               },
               {
                "field": "min_child_weight",
                "format": ".2e",
                "type": "quantitative"
               },
               {
                "field": "TrainingStartTime",
                "format": "%H:%M:%S",
                "type": "temporal"
               },
               {
                "field": "TrainingJobName",
                "type": "nominal"
               },
               {
                "field": "TrainingJobStatus",
                "type": "nominal"
               },
               {
                "field": "TrainingElapsedTimeSeconds",
                "type": "quantitative"
               }
              ],
              "x": {
               "field": "eta",
               "scale": {
                "base": 10,
                "padding": 1,
                "type": "linear",
                "zero": false
               },
               "type": "quantitative"
              },
              "y": {
               "axis": {
                "title": "validation:accuracy"
               },
               "field": "validation:accuracy",
               "scale": {
                "padding": 1,
                "zero": false
               },
               "type": "quantitative"
              }
             },
             "mark": {
              "filled": true,
              "size": 50,
              "type": "point"
             },
             "selection": {
              "selector001": {
               "empty": "all",
               "encodings": [
                "x"
               ],
               "resolve": "intersect",
               "type": "interval"
              },
              "selector002": {
               "empty": "none",
               "fields": [
                "TrainingJobName",
                "TrainingStartTime"
               ],
               "nearest": false,
               "on": "mouseover",
               "type": "single"
              }
             },
             "title": "eta"
            },
            {
             "encoding": {
              "opacity": {
               "condition": {
                "selection": "selector001",
                "value": 1
               },
               "value": 0.35
              },
              "shape": {
               "field": "TrainingJobStatus",
               "legend": {
                "orient": "right"
               },
               "type": "nominal"
              },
              "stroke": {
               "condition": {
                "selection": "selector002",
                "value": "gold"
               },
               "value": "white"
              },
              "strokeWidth": {
               "condition": {
                "selection": "selector002",
                "value": 2
               },
               "value": 2
              },
              "tooltip": [
               {
                "field": "validation:accuracy",
                "format": ".2e",
                "type": "quantitative"
               },
               {
                "field": "max_depth",
                "format": ".2e",
                "type": "quantitative"
               },
               {
                "field": "alpha",
                "format": ".2e",
                "type": "quantitative"
               },
               {
                "field": "eta",
                "format": ".2e",
                "type": "quantitative"
               },
               {
                "field": "min_child_weight",
                "format": ".2e",
                "type": "quantitative"
               },
               {
                "field": "TrainingStartTime",
                "format": "%H:%M:%S",
                "type": "temporal"
               },
               {
                "field": "TrainingJobName",
                "type": "nominal"
               },
               {
                "field": "TrainingJobStatus",
                "type": "nominal"
               },
               {
                "field": "TrainingElapsedTimeSeconds",
                "type": "quantitative"
               }
              ],
              "x": {
               "field": "min_child_weight",
               "scale": {
                "base": 10,
                "padding": 1,
                "type": "linear",
                "zero": false
               },
               "type": "quantitative"
              },
              "y": {
               "axis": {
                "title": "validation:accuracy"
               },
               "field": "validation:accuracy",
               "scale": {
                "padding": 1,
                "zero": false
               },
               "type": "quantitative"
              }
             },
             "mark": {
              "filled": true,
              "size": 50,
              "type": "point"
             },
             "selection": {
              "selector001": {
               "empty": "all",
               "encodings": [
                "x"
               ],
               "resolve": "intersect",
               "type": "interval"
              },
              "selector002": {
               "empty": "none",
               "fields": [
                "TrainingJobName",
                "TrainingStartTime"
               ],
               "nearest": false,
               "on": "mouseover",
               "type": "single"
              }
             },
             "title": "min_child_weight"
            }
           ]
          }
         ]
        },
        {
         "vconcat": [
          {
           "data": {
            "name": "data-3b0ef760e59bcac982e31bcbc49293c6"
           },
           "encoding": {
            "color": {
             "field": "TrainingJobName",
             "type": "nominal"
            },
            "opacity": {
             "condition": {
              "selection": "selector001",
              "value": 1
             },
             "value": 0.35
            },
            "shape": {
             "field": "TrainingJobStatus",
             "legend": {
              "orient": "right"
             },
             "type": "nominal"
            },
            "stroke": {
             "condition": {
              "selection": "selector002",
              "value": "gold"
             },
             "value": "white"
            },
            "strokeWidth": {
             "condition": {
              "selection": "selector002",
              "value": 2
             },
             "value": 2
            },
            "x": {
             "field": "TrainingJobName",
             "sort": null,
             "type": "nominal"
            },
            "y": {
             "field": "validation:accuracy",
             "type": "quantitative"
            }
           },
           "mark": "bar",
           "selection": {
            "selector001": {
             "empty": "all",
             "encodings": [
              "x"
             ],
             "resolve": "intersect",
             "type": "interval"
            },
            "selector002": {
             "empty": "none",
             "fields": [
              "TrainingJobName",
              "TrainingStartTime"
             ],
             "nearest": false,
             "on": "mouseover",
             "type": "single"
            }
           },
           "title": "Training Jobs"
          },
          {
           "hconcat": []
          }
         ]
        }
       ]
      },
      "image/png": "[encoded data removed]",
      "text/plain": [
       "<VegaLite 4 object>\n",
       "\n",
       "If you see this message, it means the renderer has not been properly enabled\n",
       "for the frontend that you are using. For more information, see\n",
       "https://altair-viz.github.io/user_guide/troubleshooting.html\n"
      ]
     },
     "execution_count": 21,
     "metadata": {},
     "output_type": "execute_result"
    }
   ],
   "source": [
    "from reporting_util import analyze_hpo_job\n",
    "analyze_hpo_job(tuner, trials_only=True)"
   ]
  }
 ],
 "metadata": {
  "instance_type": "ml.t3.medium",
  "kernelspec": {
   "display_name": "Python 3 (ipykernel)",
   "language": "python",
   "name": "python3"
  },
  "language_info": {
   "codemirror_mode": {
    "name": "ipython",
    "version": 3
   },
   "file_extension": ".py",
   "mimetype": "text/x-python",
   "name": "python",
   "nbconvert_exporter": "python",
   "pygments_lexer": "ipython3",
   "version": "3.9.12"
  }
 },
 "nbformat": 4,
 "nbformat_minor": 5
}
