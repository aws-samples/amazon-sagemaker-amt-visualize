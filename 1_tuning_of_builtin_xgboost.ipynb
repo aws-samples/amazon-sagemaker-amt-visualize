{
 "cells": [
  {
   "cell_type": "markdown",
   "id": "51e0cdcd",
   "metadata": {},
   "source": [
    "# Getting Started With Hyperparameter Optimization Using Amazon SageMaker Automatic Model Tuning"
   ]
  },
  {
   "cell_type": "markdown",
   "id": "cdbfc6f0",
   "metadata": {},
   "source": [
    "## Background - What are we doing?"
   ]
  },
  {
   "cell_type": "markdown",
   "id": "c8f89001",
   "metadata": {},
   "source": [
    "Machine Learning (ML) models are getting better and better. Subsequently they are taking the world by storm. Their performance relies on the right training data and choosing the right model/algorithm. But it does not end here. Typically, algorithms defer some design decisions to the ML practitioner to adopt for their specific data and task. These deferred design decisions manifest themselves as so called *hyperparameters*.\n",
    "\n",
    "What does that name mean? The result of a machine learning training, the model, can be largely seen as a collection of parameters that were learned during training. Hence the parameters that are used to configure the machine learning training are then called hyperparameters, i.e. parameters describing the creation of parameters. At any rate, they are of very practical use, such as the number of epochs to train, the learning rate, the max depth of a decision tree and so forth. And they have a major impact on the ultimate performance of your model.\n",
    "\n",
    "Selecting the right parameters and their value ranges starts with the practitioner's theoretical knowledge of the model to train. This defines the boundaries of the search space, but then it is also necessary to explore this search space empirically to find a good combination of parameters that will result in a high performing model.\n",
    "\n",
    "Luckily, we do not have to manually search that space, because SageMaker Automatic Model Tuning (AMT) is here to help. We point AMT in the right direction by defining the overall search space and AMT then takes over and coordinates the exploration of that space and fully automatically runs training jobs to efficiently evaluate the space. This then results in a good combination of hyper parameter values to train a high performing model.\n",
    "\n",
    "*In an upcoming article we will extend the notion of __just__ finding the best parameters to then __also__ include learning about the search space and to what parameter ranges a model is sensitive, as well as turning a one-shot tuning activity into a multi-step conversation with the ML practitioner, to learn together. Exciting!*\n",
    "\n",
    "In this tutorial we will walk through Amazon SageMaker Automatic Model Tuning (AMT), using a built-in XGBoost algorithm provided by Amazon SageMaker. Additional information can be found in the documentation pages below:\n",
    "* For more information on running a simple hyperparameter tuning job: https://docs.aws.amazon.com/sagemaker/latest/dg/automatic-model-tuning-ex.html\n",
    "* For documentation on using the HyperParameterTuner API with the SageMaker Python SDK: https://sagemaker.readthedocs.io/en/stable/api/training/tuner.html"
   ]
  },
  {
   "cell_type": "markdown",
   "id": "55d3c147",
   "metadata": {
    "tags": []
   },
   "source": [
    "## Overview"
   ]
  },
  {
   "cell_type": "markdown",
   "id": "dda7534b",
   "metadata": {},
   "source": [
    "This notebook is split into the following sections:\n",
    "* Setup and Imports\n",
    "* Load and Prepare dataset\n",
    "* Train a SageMaker Built-In XGBoost Algorithm\n",
    "* Train and Tune a SageMaker Built-In XGBoost Algorithm\n",
    "* View the AMT job statistics \n",
    "* Visualize AMT job results and tuned Hyperparameters\n"
   ]
  },
  {
   "cell_type": "markdown",
   "id": "238d2c62",
   "metadata": {},
   "source": [
    "### Setup and Imports"
   ]
  },
  {
   "cell_type": "code",
   "execution_count": 1,
   "id": "e5026ca2",
   "metadata": {},
   "outputs": [],
   "source": [
    "%load_ext autoreload\n",
    "%autoreload 2\n",
    "\n",
    "%matplotlib inline"
   ]
  },
  {
   "cell_type": "markdown",
   "id": "820bc604",
   "metadata": {},
   "source": [
    "We ran this notebook using Amazon SageMaker with the version you see in the output of the next cell below. If your version is lower and you encounter issues, we recommend uncommenting the code below to upgrade your pip and SageMaker versions. Make sure to restart your kernel after upgrading for the changes to take effect."
   ]
  },
  {
   "cell_type": "code",
   "execution_count": 2,
   "id": "ae8980f8",
   "metadata": {},
   "outputs": [
    {
     "data": {
      "text/plain": [
       "'2.116.0'"
      ]
     },
     "execution_count": 2,
     "metadata": {},
     "output_type": "execute_result"
    }
   ],
   "source": [
    "import sagemaker\n",
    "\n",
    "sagemaker.__version__ "
   ]
  },
  {
   "cell_type": "code",
   "execution_count": 3,
   "id": "e6e59ad6",
   "metadata": {},
   "outputs": [],
   "source": [
    "#!pip install --upgrade --quiet pip \"sagemaker>=2.116.0\" # upgrade SageMaker to the recommended version"
   ]
  },
  {
   "cell_type": "code",
   "execution_count": 4,
   "id": "e419bc3f",
   "metadata": {},
   "outputs": [],
   "source": [
    "import io\n",
    "import os\n",
    "import argparse\n",
    "import traceback\n",
    "import boto3\n",
    "import numpy as np\n",
    "import pandas as pd\n",
    "\n",
    "from pathlib import Path"
   ]
  },
  {
   "cell_type": "code",
   "execution_count": 5,
   "id": "cd7a5efc",
   "metadata": {},
   "outputs": [],
   "source": [
    "# SDK setup\n",
    "role = sagemaker.get_execution_role()\n",
    "region = boto3.Session().region_name\n",
    "sm = boto3.client('sagemaker')\n",
    "boto_sess = boto3.Session(region_name=region)\n",
    "sm_sess = sagemaker.session.Session(boto_session=boto_sess, sagemaker_client=sm)"
   ]
  },
  {
   "cell_type": "code",
   "execution_count": 6,
   "id": "6ad8b879",
   "metadata": {},
   "outputs": [
    {
     "data": {
      "text/plain": [
       "'s3://sagemaker-us-east-1-632581975302/amt-visualize-demo/data/output'"
      ]
     },
     "execution_count": 6,
     "metadata": {},
     "output_type": "execute_result"
    }
   ],
   "source": [
    "# Data layout and locations. \n",
    "# To store our data we are using a prefix in the Amazon SageMaker default bucket. Feel free to adjust to your preferences.\n",
    "\n",
    "BUCKET = sm_sess.default_bucket()\n",
    "PREFIX = 'amt-visualize-demo/data'\n",
    "s3_data_url = f's3://{BUCKET}/{PREFIX}'\n",
    "\n",
    "# Eventual output destination for our XGBoost model\n",
    "output_path = f's3://{BUCKET}/{PREFIX}/output'\n",
    "output_path"
   ]
  },
  {
   "cell_type": "markdown",
   "id": "0f3075fb",
   "metadata": {},
   "source": [
    "## Load and Prepare dataset "
   ]
  },
  {
   "cell_type": "code",
   "execution_count": 7,
   "id": "6609672d",
   "metadata": {},
   "outputs": [],
   "source": [
    "!mkdir -p data"
   ]
  },
  {
   "cell_type": "markdown",
   "id": "65a9ac0a",
   "metadata": {},
   "source": [
    "The focus of this notebook is on Hyperparameter Optimization. Hence the actual task and data only play a supporting role. But to give some brief context, we are optimizing the hyperparameters of an XGBoost model that should classify handwritten digits. We use the [Optical Recognition of Handwritten Digits Data Set](https://archive.ics.uci.edu/ml/datasets/Optical+Recognition+of+Handwritten+Digits) via scikit-learn. "
   ]
  },
  {
   "cell_type": "code",
   "execution_count": 8,
   "id": "9e1ced87",
   "metadata": {},
   "outputs": [],
   "source": [
    "from sklearn import datasets\n",
    "\n",
    "digits         = datasets.load_digits()\n",
    "digits_df      = pd.DataFrame(digits.data)\n",
    "digits_df['y'] = digits.target\n",
    "digits_df.insert(0, 'y', digits_df.pop('y')) # XGBoost expects the target to be the first column "
   ]
  },
  {
   "cell_type": "code",
   "execution_count": 9,
   "id": "d7511dea",
   "metadata": {},
   "outputs": [
    {
     "name": "stdout",
     "output_type": "stream",
     "text": [
      "digit: 4\n"
     ]
    },
    {
     "data": {
      "image/png": "[encoded data removed]",
      "text/plain": [
       "<Figure size 640x480 with 1 Axes>"
      ]
     },
     "metadata": {},
     "output_type": "display_data"
    }
   ],
   "source": [
    "from matplotlib import pyplot as plt\n",
    "\n",
    "print('digit:', int(digits_df.iloc[100].y))\n",
    "plt.imshow(digits_df.iloc[100, 1:].values.reshape(8, -1));"
   ]
  },
  {
   "cell_type": "code",
   "execution_count": 10,
   "id": "145da7f4",
   "metadata": {},
   "outputs": [],
   "source": [
    "# randomly sort the data then split out into train 70% and validation 30% sets\n",
    "train_data, valid_data= np.split(\n",
    "    digits_df, [int(0.7 * len(digits_df))]\n",
    ")"
   ]
  },
  {
   "cell_type": "code",
   "execution_count": 11,
   "id": "de42d336",
   "metadata": {},
   "outputs": [],
   "source": [
    "train_data.to_csv('data/train.csv', index=False, header=False)\n",
    "valid_data.to_csv('data/valid.csv', index=False, header=False)"
   ]
  },
  {
   "cell_type": "code",
   "execution_count": 12,
   "id": "448723bf",
   "metadata": {},
   "outputs": [],
   "source": [
    "boto_sess.resource('s3').Bucket(BUCKET).Object(os.path.join(PREFIX, 'train/train.csv')).upload_file('data/train.csv')\n",
    "boto_sess.resource('s3').Bucket(BUCKET).Object(os.path.join(PREFIX, 'valid/valid.csv')).upload_file('data/valid.csv')"
   ]
  },
  {
   "cell_type": "markdown",
   "id": "64a55efe",
   "metadata": {},
   "source": [
    "We upload our train and validation datasets into [Amazon S3](https://aws.amazon.com/s3/). Amazon SageMaker will launch training jobs on our behalf and those will read the data directly from S3."
   ]
  },
  {
   "cell_type": "markdown",
   "id": "f96665c5",
   "metadata": {},
   "source": [
    "## Train an Amazon SageMaker Built-In XGBoost Algorithm"
   ]
  },
  {
   "cell_type": "markdown",
   "id": "4c0852f1",
   "metadata": {},
   "source": [
    "SageMaker provides many [built-in algorithms](https://docs.aws.amazon.com/sagemaker/latest/dg/algos.html). For our example we use the popular XGBoost algorithm. To select it for our training it is identified by an image URI as described in the docs here:\n",
    "https://docs.aws.amazon.com/sagemaker/latest/dg/xgboost.html\n",
    "\n",
    "In below code you can see how we lookup the respective image and version of the algorithm. We then define the hyperparameters and instantiate an Estimator that describes our training. For a list of hyperparameters and their meaning for this algorithm check out the [documentation](https://docs.aws.amazon.com/sagemaker/latest/dg/xgboost_hyperparameters.html). \n",
    "\n",
    "Please recognize that for our small dataset we also specify the use of a small CPU based instance type for our training, specifically `ml.m5.large`.\n",
    "\n",
    "Eventually we call `fit()` to start the training and to pass in references to where our training and validation data can be found. \n",
    "\n",
    "__Side note__: Strictly speaking it would not be necessary to call the `fit()` method here for an individual training run. We will let SageMaker Automatic Model Tuning (AMT) instantiate and control the individual training runs later. We just need to pass in the Estimator we defined here as a template. We could comment out the call to `fit()`.\n",
    "\n",
    "However, calling `fit()` shows us how one training run works and helps us to get acquainted with the algorithm and the log outputs, which are also available in Amazon CloudWatch. This works even though the actual execution is happening on a different EC2 machine. SageMaker makes the log outputs directly available in this notebook here. Neat, right?"
   ]
  },
  {
   "cell_type": "code",
   "execution_count": 13,
   "id": "f2db8939",
   "metadata": {},
   "outputs": [
    {
     "name": "stdout",
     "output_type": "stream",
     "text": [
      "Algorithm container image: 683313688378.dkr.ecr.us-east-1.amazonaws.com/sagemaker-xgboost:1.5-1\n",
      "2022-11-02 16:49:00 Starting - Starting the training job...\n",
      "2022-11-02 16:49:25 Starting - Preparing the instances for trainingProfilerReport-1667407740: InProgress\n",
      ".........\n",
      "2022-11-02 16:50:47 Downloading - Downloading input data......\n",
      "2022-11-02 16:51:48 Training - Downloading the training image.....\n",
      "2022-11-02 16:52:49 Uploading - Uploading generated training model\n",
      "2022-11-02 16:53:26 Completed - Training job completed\n",
      "Training seconds: 138\n",
      "Billable seconds: 138\n",
      "CPU times: user 542 ms, sys: 38.3 ms, total: 580 ms\n",
      "Wall time: 4min 42s\n"
     ]
    }
   ],
   "source": [
    "%%time\n",
    "from sagemaker import image_uris\n",
    "from sagemaker.session import Session\n",
    "from sagemaker.inputs import TrainingInput\n",
    "\n",
    "\n",
    "# lookup the XGBoost image URI and build an XGBoost container\n",
    "xgboost_container = sagemaker.image_uris.retrieve('xgboost', region, '1.5-1')\n",
    "print('Algorithm container image:', xgboost_container)\n",
    "\n",
    "hyperparameters = {\n",
    "        'num_class': 10,\n",
    "        'max_depth': 5,\n",
    "        'eta':0.2,\n",
    "        'alpha': 0.2, \n",
    "        'objective':'multi:softmax',\n",
    "        'eval_metric':'accuracy',\n",
    "        'num_round':200,\n",
    "        'early_stopping_rounds': 5}\n",
    "\n",
    "# construct a SageMaker estimator that calls the XGBoost container\n",
    "estimator = sagemaker.estimator.Estimator(\n",
    "    image_uri=xgboost_container, \n",
    "    hyperparameters=hyperparameters,\n",
    "    role=role,\n",
    "    instance_count=1, \n",
    "    instance_type='ml.m5.large', \n",
    "    volume_size=5, # 5 GB \n",
    "    output_path=output_path\n",
    ")\n",
    "\n",
    "# define the data type and paths to the training and validation datasets\n",
    "s3_input_train = TrainingInput(s3_data=f's3://{BUCKET}/{PREFIX}/train', content_type='csv')\n",
    "s3_input_valid = TrainingInput(s3_data=f's3://{BUCKET}/{PREFIX}/valid', content_type='csv')\n",
    "\n",
    "# execute the XGBoost training job\n",
    "estimator.fit({'train': s3_input_train, 'validation': s3_input_valid}) # Optional. See comment above this cell."
   ]
  },
  {
   "cell_type": "markdown",
   "id": "9fa0a091",
   "metadata": {},
   "source": [
    "## Train and Tune an Amazon SageMaker Built-In XGBoost Algorithm\n",
    "\n",
    "Analogous to the Estimator above we now setup the HyperparameterTuner. We pass in the estimator object as a template for the trials to be run and a range of hyperparameters to define what search space to explore. Our documentation on [tuning XGBoost](https://docs.aws.amazon.com/sagemaker/latest/dg/xgboost-tuning.html) gives you some tips on choosing parameter ranges and which objective to use.\n",
    "\n",
    "You also see that we specify the number of training jobs to be run in total, as well as how many should run in parallel. Further you can select among many [strategies](https://docs.aws.amazon.com/sagemaker/latest/APIReference/API_HyperParameterTuningJobConfig.html#sagemaker-Type-HyperParameterTuningJobConfig-Strategy). In this notebook we use `Bayesian` as strategy. It uses a systematic approach to evaluate the search space. And it incorporates knowledge gained from earlier training runs (trials) when picking better hyperparameters to evaluate in the later trials, during the same __tuning__ job run. \n",
    "\n",
    "*Bayesian Search as a strategy is an excellent default. In an upcoming notebook and article we will additionally contrast and compare different strategies.*"
   ]
  },
  {
   "cell_type": "code",
   "execution_count": 14,
   "id": "884541f3",
   "metadata": {},
   "outputs": [],
   "source": [
    "from sagemaker.tuner import IntegerParameter, ContinuousParameter, HyperparameterTuner\n",
    "\n",
    "n_jobs = 50\n",
    "n_parallel_jobs = 3\n",
    "\n",
    "hpt_ranges = {\n",
    "    'alpha': ContinuousParameter(0.01, .5),\n",
    "    'eta': ContinuousParameter(0.1, .5),\n",
    "    'min_child_weight': ContinuousParameter(0., 2.),\n",
    "    'max_depth': IntegerParameter(1, 10)\n",
    "}\n",
    "\n",
    "tuner_parameters = {\n",
    "    'estimator': estimator,\n",
    "    'base_tuning_job_name': 'bayesian',                   \n",
    "    'objective_metric_name': 'validation:accuracy',\n",
    "    'objective_type': 'Maximize',\n",
    "    'hyperparameter_ranges': hpt_ranges,\n",
    "    'strategy': 'Bayesian',\n",
    "    'max_jobs': n_jobs,\n",
    "    'max_parallel_jobs': n_parallel_jobs\n",
    "}"
   ]
  },
  {
   "cell_type": "markdown",
   "id": "054c5c0f",
   "metadata": {},
   "source": [
    "Analogous to the actual training with the estimator above, we also kick things off by calling `fit()`. This time on the HyperparameterTuner."
   ]
  },
  {
   "cell_type": "code",
   "execution_count": 15,
   "id": "b4d8fd71",
   "metadata": {},
   "outputs": [
    {
     "name": "stdout",
     "output_type": "stream",
     "text": [
      "tuning job submitted: bayesian-221102-1654.\n"
     ]
    }
   ],
   "source": [
    "tuner = HyperparameterTuner(**tuner_parameters)\n",
    "tuner.fit({'train': s3_input_train, 'validation': s3_input_valid}, wait=False)\n",
    "tuner_name = tuner.describe()['HyperParameterTuningJobName']\n",
    "print(f'tuning job submitted: {tuner_name}.')"
   ]
  },
  {
   "cell_type": "markdown",
   "id": "45cad4b4",
   "metadata": {},
   "source": [
    "Amazon SageMaker AMT, here the HyperparameterTuner, now orchestrates different training jobs (trials) over a period of time. \n",
    "\n",
    "We use `tuner.wait()` to pause this notebook's execution until the AMT job is completed and we can work with the results. Depending on the number of jobs and the level of parallelization this may take some time. For the example below it may take up to 30 minutes for 50 jobs. During this time you can view the status of your jobs in the console by navigating to Amazon SageMaker > Training > Hyperparameter tuning jobs.\n",
    "\n",
    "For more information on AMT job monitoring, see: https://docs.aws.amazon.com/sagemaker/latest/dg/automatic-model-tuning-monitor.html"
   ]
  },
  {
   "cell_type": "code",
   "execution_count": null,
   "id": "030f8569",
   "metadata": {},
   "outputs": [
    {
     "name": "stdout",
     "output_type": "stream",
     "text": [
      "....................................................................................................................................................................................."
     ]
    }
   ],
   "source": [
    "tuner.wait()"
   ]
  },
  {
   "cell_type": "markdown",
   "id": "dad8e635",
   "metadata": {},
   "source": [
    "## View the AMT job statistics and results \n",
    "\n",
    "Your tuning jobs can be accessed from the Amazon SageMaker console at https://console.aws.amazon.com/sagemaker/. Select Hyperparameter tuning jobs from the Training menu to see the list. More information here: https://docs.aws.amazon.com/sagemaker/latest/dg/automatic-model-tuning-monitor.html\n",
    "\n",
    "You can also check the results of the jobs programmatically and investigate the hyperparameters used, the final value achieved in the objective function and the total training time per job.\n",
    "\n",
    "Furthermore you can evaluate the results programmatically, which we will look into now."
   ]
  },
  {
   "cell_type": "markdown",
   "id": "1e88bbfe",
   "metadata": {},
   "source": [
    "#### 1. Via the Amazon SageMaker Python SDK"
   ]
  },
  {
   "cell_type": "markdown",
   "id": "344a09f4",
   "metadata": {},
   "source": [
    "The SDK conveniently provides access to the tuning results as a Pandas dataframe. "
   ]
  },
  {
   "cell_type": "code",
   "execution_count": 17,
   "id": "04b2c585",
   "metadata": {},
   "outputs": [
    {
     "data": {
      "text/html": [
       "<div>\n",
       "<style scoped>\n",
       "    .dataframe tbody tr th:only-of-type {\n",
       "        vertical-align: middle;\n",
       "    }\n",
       "\n",
       "    .dataframe tbody tr th {\n",
       "        vertical-align: top;\n",
       "    }\n",
       "\n",
       "    .dataframe thead th {\n",
       "        text-align: right;\n",
       "    }\n",
       "</style>\n",
       "<table border=\"1\" class=\"dataframe\">\n",
       "  <thead>\n",
       "    <tr style=\"text-align: right;\">\n",
       "      <th></th>\n",
       "      <th>alpha</th>\n",
       "      <th>eta</th>\n",
       "      <th>max_depth</th>\n",
       "      <th>min_child_weight</th>\n",
       "      <th>TrainingJobName</th>\n",
       "      <th>TrainingJobStatus</th>\n",
       "      <th>FinalObjectiveValue</th>\n",
       "      <th>TrainingStartTime</th>\n",
       "      <th>TrainingEndTime</th>\n",
       "      <th>TrainingElapsedTimeSeconds</th>\n",
       "    </tr>\n",
       "  </thead>\n",
       "  <tbody>\n",
       "    <tr>\n",
       "      <th>0</th>\n",
       "      <td>0.323311</td>\n",
       "      <td>0.497587</td>\n",
       "      <td>2.0</td>\n",
       "      <td>1.222610</td>\n",
       "      <td>bayesian-221102-1654-050-1c5b7a9a</td>\n",
       "      <td>Completed</td>\n",
       "      <td>0.88704</td>\n",
       "      <td>2022-11-02 17:23:20+00:00</td>\n",
       "      <td>2022-11-02 17:24:18+00:00</td>\n",
       "      <td>58.0</td>\n",
       "    </tr>\n",
       "    <tr>\n",
       "      <th>1</th>\n",
       "      <td>0.061143</td>\n",
       "      <td>0.100000</td>\n",
       "      <td>5.0</td>\n",
       "      <td>1.192669</td>\n",
       "      <td>bayesian-221102-1654-049-66462cbd</td>\n",
       "      <td>Completed</td>\n",
       "      <td>0.86852</td>\n",
       "      <td>2022-11-02 17:24:59+00:00</td>\n",
       "      <td>2022-11-02 17:27:23+00:00</td>\n",
       "      <td>144.0</td>\n",
       "    </tr>\n",
       "    <tr>\n",
       "      <th>2</th>\n",
       "      <td>0.473322</td>\n",
       "      <td>0.493282</td>\n",
       "      <td>2.0</td>\n",
       "      <td>1.110786</td>\n",
       "      <td>bayesian-221102-1654-048-a7736348</td>\n",
       "      <td>Completed</td>\n",
       "      <td>0.88333</td>\n",
       "      <td>2022-11-02 17:22:18+00:00</td>\n",
       "      <td>2022-11-02 17:23:20+00:00</td>\n",
       "      <td>62.0</td>\n",
       "    </tr>\n",
       "    <tr>\n",
       "      <th>3</th>\n",
       "      <td>0.130795</td>\n",
       "      <td>0.436083</td>\n",
       "      <td>4.0</td>\n",
       "      <td>0.550103</td>\n",
       "      <td>bayesian-221102-1654-047-bdffc95c</td>\n",
       "      <td>Completed</td>\n",
       "      <td>0.87407</td>\n",
       "      <td>2022-11-02 17:22:10+00:00</td>\n",
       "      <td>2022-11-02 17:23:07+00:00</td>\n",
       "      <td>57.0</td>\n",
       "    </tr>\n",
       "    <tr>\n",
       "      <th>4</th>\n",
       "      <td>0.296827</td>\n",
       "      <td>0.191614</td>\n",
       "      <td>4.0</td>\n",
       "      <td>1.480754</td>\n",
       "      <td>bayesian-221102-1654-046-c29902b3</td>\n",
       "      <td>Completed</td>\n",
       "      <td>0.87407</td>\n",
       "      <td>2022-11-02 17:21:07+00:00</td>\n",
       "      <td>2022-11-02 17:22:04+00:00</td>\n",
       "      <td>57.0</td>\n",
       "    </tr>\n",
       "    <tr>\n",
       "      <th>5</th>\n",
       "      <td>0.044145</td>\n",
       "      <td>0.366179</td>\n",
       "      <td>4.0</td>\n",
       "      <td>1.826213</td>\n",
       "      <td>bayesian-221102-1654-045-2f5a8443</td>\n",
       "      <td>Completed</td>\n",
       "      <td>0.87593</td>\n",
       "      <td>2022-11-02 17:20:53+00:00</td>\n",
       "      <td>2022-11-02 17:21:50+00:00</td>\n",
       "      <td>57.0</td>\n",
       "    </tr>\n",
       "    <tr>\n",
       "      <th>6</th>\n",
       "      <td>0.090965</td>\n",
       "      <td>0.467488</td>\n",
       "      <td>5.0</td>\n",
       "      <td>0.801970</td>\n",
       "      <td>bayesian-221102-1654-044-d10cf580</td>\n",
       "      <td>Completed</td>\n",
       "      <td>0.87593</td>\n",
       "      <td>2022-11-02 17:20:48+00:00</td>\n",
       "      <td>2022-11-02 17:22:00+00:00</td>\n",
       "      <td>72.0</td>\n",
       "    </tr>\n",
       "    <tr>\n",
       "      <th>7</th>\n",
       "      <td>0.409160</td>\n",
       "      <td>0.429054</td>\n",
       "      <td>5.0</td>\n",
       "      <td>1.928211</td>\n",
       "      <td>bayesian-221102-1654-043-f210db22</td>\n",
       "      <td>Completed</td>\n",
       "      <td>0.87593</td>\n",
       "      <td>2022-11-02 17:20:05+00:00</td>\n",
       "      <td>2022-11-02 17:20:52+00:00</td>\n",
       "      <td>47.0</td>\n",
       "    </tr>\n",
       "    <tr>\n",
       "      <th>8</th>\n",
       "      <td>0.351498</td>\n",
       "      <td>0.493225</td>\n",
       "      <td>2.0</td>\n",
       "      <td>1.198122</td>\n",
       "      <td>bayesian-221102-1654-042-c39a66e7</td>\n",
       "      <td>Completed</td>\n",
       "      <td>0.88333</td>\n",
       "      <td>2022-11-02 17:19:35+00:00</td>\n",
       "      <td>2022-11-02 17:20:31+00:00</td>\n",
       "      <td>56.0</td>\n",
       "    </tr>\n",
       "    <tr>\n",
       "      <th>9</th>\n",
       "      <td>0.155542</td>\n",
       "      <td>0.500000</td>\n",
       "      <td>4.0</td>\n",
       "      <td>0.353771</td>\n",
       "      <td>bayesian-221102-1654-041-4deb1659</td>\n",
       "      <td>Completed</td>\n",
       "      <td>0.87778</td>\n",
       "      <td>2022-11-02 17:19:22+00:00</td>\n",
       "      <td>2022-11-02 17:20:32+00:00</td>\n",
       "      <td>70.0</td>\n",
       "    </tr>\n",
       "  </tbody>\n",
       "</table>\n",
       "</div>"
      ],
      "text/plain": [
       "      alpha       eta  max_depth  min_child_weight  \\\n",
       "0  0.323311  0.497587        2.0          1.222610   \n",
       "1  0.061143  0.100000        5.0          1.192669   \n",
       "2  0.473322  0.493282        2.0          1.110786   \n",
       "3  0.130795  0.436083        4.0          0.550103   \n",
       "4  0.296827  0.191614        4.0          1.480754   \n",
       "5  0.044145  0.366179        4.0          1.826213   \n",
       "6  0.090965  0.467488        5.0          0.801970   \n",
       "7  0.409160  0.429054        5.0          1.928211   \n",
       "8  0.351498  0.493225        2.0          1.198122   \n",
       "9  0.155542  0.500000        4.0          0.353771   \n",
       "\n",
       "                     TrainingJobName TrainingJobStatus  FinalObjectiveValue  \\\n",
       "0  bayesian-221102-1654-050-1c5b7a9a         Completed              0.88704   \n",
       "1  bayesian-221102-1654-049-66462cbd         Completed              0.86852   \n",
       "2  bayesian-221102-1654-048-a7736348         Completed              0.88333   \n",
       "3  bayesian-221102-1654-047-bdffc95c         Completed              0.87407   \n",
       "4  bayesian-221102-1654-046-c29902b3         Completed              0.87407   \n",
       "5  bayesian-221102-1654-045-2f5a8443         Completed              0.87593   \n",
       "6  bayesian-221102-1654-044-d10cf580         Completed              0.87593   \n",
       "7  bayesian-221102-1654-043-f210db22         Completed              0.87593   \n",
       "8  bayesian-221102-1654-042-c39a66e7         Completed              0.88333   \n",
       "9  bayesian-221102-1654-041-4deb1659         Completed              0.87778   \n",
       "\n",
       "          TrainingStartTime           TrainingEndTime  \\\n",
       "0 2022-11-02 17:23:20+00:00 2022-11-02 17:24:18+00:00   \n",
       "1 2022-11-02 17:24:59+00:00 2022-11-02 17:27:23+00:00   \n",
       "2 2022-11-02 17:22:18+00:00 2022-11-02 17:23:20+00:00   \n",
       "3 2022-11-02 17:22:10+00:00 2022-11-02 17:23:07+00:00   \n",
       "4 2022-11-02 17:21:07+00:00 2022-11-02 17:22:04+00:00   \n",
       "5 2022-11-02 17:20:53+00:00 2022-11-02 17:21:50+00:00   \n",
       "6 2022-11-02 17:20:48+00:00 2022-11-02 17:22:00+00:00   \n",
       "7 2022-11-02 17:20:05+00:00 2022-11-02 17:20:52+00:00   \n",
       "8 2022-11-02 17:19:35+00:00 2022-11-02 17:20:31+00:00   \n",
       "9 2022-11-02 17:19:22+00:00 2022-11-02 17:20:32+00:00   \n",
       "\n",
       "   TrainingElapsedTimeSeconds  \n",
       "0                        58.0  \n",
       "1                       144.0  \n",
       "2                        62.0  \n",
       "3                        57.0  \n",
       "4                        57.0  \n",
       "5                        57.0  \n",
       "6                        72.0  \n",
       "7                        47.0  \n",
       "8                        56.0  \n",
       "9                        70.0  "
      ]
     },
     "execution_count": 17,
     "metadata": {},
     "output_type": "execute_result"
    }
   ],
   "source": [
    "sagemaker.HyperparameterTuningJobAnalytics(tuner_name).dataframe()[:10]"
   ]
  },
  {
   "cell_type": "markdown",
   "id": "0f87a965",
   "metadata": {},
   "source": [
    "#### 2. Via the AWS SDK for Python (Boto3)"
   ]
  },
  {
   "cell_type": "markdown",
   "id": "8dfd2864",
   "metadata": {},
   "source": [
    "With the boto3 client we can review the results of a HPO job using [`describe_hyper_parameter_tuning_job()`](https://docs.aws.amazon.com/sagemaker/latest/APIReference/API_DescribeHyperParameterTuningJob.html) function.\n",
    "\n",
    "It returns a Python dictionary with comprehensive information. Below you see the output scoped to the `BestTrainingJob`."
   ]
  },
  {
   "cell_type": "code",
   "execution_count": 18,
   "id": "91af7fb2",
   "metadata": {},
   "outputs": [
    {
     "data": {
      "text/plain": [
       "{'TrainingJobName': 'bayesian-221102-1654-050-1c5b7a9a',\n",
       " 'TrainingJobArn': 'arn:aws:sagemaker:us-east-1:632581975302:training-job/bayesian-221102-1654-050-1c5b7a9a',\n",
       " 'CreationTime': datetime.datetime(2022, 11, 2, 17, 23, 15, tzinfo=tzlocal()),\n",
       " 'TrainingStartTime': datetime.datetime(2022, 11, 2, 17, 23, 20, tzinfo=tzlocal()),\n",
       " 'TrainingEndTime': datetime.datetime(2022, 11, 2, 17, 24, 18, tzinfo=tzlocal()),\n",
       " 'TrainingJobStatus': 'Completed',\n",
       " 'TunedHyperParameters': {'alpha': '0.3233113460140429',\n",
       "  'eta': '0.49758693442022683',\n",
       "  'max_depth': '2',\n",
       "  'min_child_weight': '1.2226098509346888'},\n",
       " 'FinalHyperParameterTuningJobObjectiveMetric': {'MetricName': 'validation:accuracy',\n",
       "  'Value': 0.8870400190353394},\n",
       " 'ObjectiveStatus': 'Succeeded'}"
      ]
     },
     "execution_count": 18,
     "metadata": {},
     "output_type": "execute_result"
    }
   ],
   "source": [
    "#sm.describe_hyper_parameter_tuning_job(HyperParameterTuningJobName=tuner_name)   # to review all data\n",
    "sm.describe_hyper_parameter_tuning_job(HyperParameterTuningJobName=tuner_name)['BestTrainingJob']"
   ]
  },
  {
   "cell_type": "markdown",
   "id": "099881e5",
   "metadata": {},
   "source": [
    "We can also utilize Boto3's [`list_training_jobs_for_hyper_parameter_tuning_job()`](https://docs.aws.amazon.com/cli/latest/reference/sagemaker/list-training-jobs-for-hyper-parameter-tuning-job.html) function to review the results. This can be sorted by the value of the objective function or by the metric definitions. More functions available for Amazon SageMaker with Boto3 are described on this page: https://boto3.amazonaws.com/v1/documentation/api/latest/reference/services/sagemaker.html"
   ]
  },
  {
   "cell_type": "code",
   "execution_count": 19,
   "id": "0d1fac3e",
   "metadata": {},
   "outputs": [
    {
     "name": "stdout",
     "output_type": "stream",
     "text": [
      "bayesian-221102-1654-050-1c5b7a9a Metrics: {'train:mlogloss': 0.016370000317692757, 'train:accuracy': 1.0, 'validation:accuracy': 0.8870400190353394, 'validation:mlogloss': 0.35648998618125916, 'ObjectiveMetric': 0.8870400190353394}\n",
      "bayesian-221102-1654-036-f2fd0e17 Metrics: {'train:mlogloss': 0.0175199992954731, 'train:accuracy': 1.0, 'validation:accuracy': 0.8870400190353394, 'validation:mlogloss': 0.33785998821258545, 'ObjectiveMetric': 0.8870400190353394}\n",
      "bayesian-221102-1654-019-a6b58005 Metrics: {'train:mlogloss': 0.01672999933362007, 'train:accuracy': 1.0, 'validation:accuracy': 0.8851799964904785, 'validation:mlogloss': 0.3400599956512451, 'ObjectiveMetric': 0.8851799964904785}\n",
      "bayesian-221102-1654-034-38e9f4e5 Metrics: {'train:mlogloss': 0.013799999840557575, 'train:accuracy': 1.0, 'validation:accuracy': 0.8851799964904785, 'validation:mlogloss': 0.3521699905395508, 'ObjectiveMetric': 0.8851799964904785}\n",
      "bayesian-221102-1654-048-a7736348 Metrics: {'train:mlogloss': 0.022520000115036964, 'train:accuracy': 1.0, 'validation:accuracy': 0.8833299875259399, 'validation:mlogloss': 0.3693400025367737, 'ObjectiveMetric': 0.8833299875259399}\n",
      "bayesian-221102-1654-042-c39a66e7 Metrics: {'train:mlogloss': 0.019139999523758888, 'train:accuracy': 1.0, 'validation:accuracy': 0.8833299875259399, 'validation:mlogloss': 0.37299999594688416, 'ObjectiveMetric': 0.8833299875259399}\n",
      "bayesian-221102-1654-024-cf045763 Metrics: {'train:mlogloss': 0.026340000331401825, 'train:accuracy': 1.0, 'validation:accuracy': 0.8833299875259399, 'validation:mlogloss': 0.3720499873161316, 'ObjectiveMetric': 0.8833299875259399}\n",
      "bayesian-221102-1654-003-75deeadd Metrics: {'train:mlogloss': 0.019859999418258667, 'train:accuracy': 1.0, 'validation:accuracy': 0.8833299875259399, 'validation:mlogloss': 0.3425300121307373, 'ObjectiveMetric': 0.8833299875259399}\n",
      "bayesian-221102-1654-033-22d423a1 Metrics: {'train:mlogloss': 0.01785000041127205, 'train:accuracy': 1.0, 'validation:accuracy': 0.8814799785614014, 'validation:mlogloss': 0.36362001299858093, 'ObjectiveMetric': 0.8814799785614014}\n",
      "bayesian-221102-1654-008-07184b27 Metrics: {'train:mlogloss': 0.012409999966621399, 'train:accuracy': 1.0, 'validation:accuracy': 0.8814799785614014, 'validation:mlogloss': 0.37457001209259033, 'ObjectiveMetric': 0.8814799785614014}\n"
     ]
    }
   ],
   "source": [
    "hpo_jobs = sm.list_training_jobs_for_hyper_parameter_tuning_job(\n",
    "    HyperParameterTuningJobName=tuner_name,\n",
    "    MaxResults=100,\n",
    "    SortBy='FinalObjectiveMetricValue',\n",
    "    SortOrder='Descending')\n",
    "\n",
    "for job in hpo_jobs['TrainingJobSummaries'][:10]:\n",
    "    job_descr = sm.describe_training_job(TrainingJobName=job['TrainingJobName'])\n",
    "    metrics = {m['MetricName']:  m['Value'] for m in job_descr['FinalMetricDataList']}\n",
    "    print(f'{job[\"TrainingJobName\"]} Metrics: {metrics}')"
   ]
  },
  {
   "cell_type": "markdown",
   "id": "c3b96e50",
   "metadata": {
    "tags": []
   },
   "source": [
    "## Visualize AMT job results and tuned Hyperparameters\n",
    "\n",
    "Finally, we want to interactively visualize the impact of our hyperparameters and their values on the optimization objective.\n",
    "\n",
    "To do this, we utilize the Altair statistical visualization library for Python, and have written two custom analysis scripts `job_analytics.py` and `reporting_util.py` that we make available with this notebook.\n",
    "\n",
    "In an upcoming notebook and article we will dive deeper into the analysis of this data. "
   ]
  },
  {
   "cell_type": "code",
   "execution_count": 20,
   "id": "2cdb24e6",
   "metadata": {},
   "outputs": [
    {
     "name": "stdout",
     "output_type": "stream",
     "text": [
      "\u001b[33mWARNING: Running pip as the 'root' user can result in broken permissions and conflicting behaviour with the system package manager. It is recommended to use a virtual environment instead: https://pip.pypa.io/warnings/venv\u001b[0m\u001b[33m\n",
      "\u001b[0m"
     ]
    }
   ],
   "source": [
    "!pip install -Uq pip altair"
   ]
  },
  {
   "cell_type": "markdown",
   "id": "df221864",
   "metadata": {},
   "source": [
    "Please ensure that the role used by SageMaker allows the `cloudwatch:ListMetrics` action on [IAM](https://console.aws.amazon.com/iam)."
   ]
  },
  {
   "cell_type": "code",
   "execution_count": 21,
   "id": "d4396d94",
   "metadata": {},
   "outputs": [
    {
     "name": "stdout",
     "output_type": "stream",
     "text": [
      "Tuning job bayesian-221102-1654      status: Completed\n",
      "\n",
      "Number of training jobs with valid objective: 50\n",
      "Lowest: 0.8296300172805786 Highest 0.8870400190353394\n"
     ]
    },
    {
     "data": {
      "text/html": [
       "<div>\n",
       "<style scoped>\n",
       "    .dataframe tbody tr th:only-of-type {\n",
       "        vertical-align: middle;\n",
       "    }\n",
       "\n",
       "    .dataframe tbody tr th {\n",
       "        vertical-align: top;\n",
       "    }\n",
       "\n",
       "    .dataframe thead th {\n",
       "        text-align: right;\n",
       "    }\n",
       "</style>\n",
       "<table border=\"1\" class=\"dataframe\">\n",
       "  <thead>\n",
       "    <tr style=\"text-align: right;\">\n",
       "      <th></th>\n",
       "      <th>alpha</th>\n",
       "      <th>eta</th>\n",
       "      <th>max_depth</th>\n",
       "      <th>min_child_weight</th>\n",
       "      <th>TrainingJobName</th>\n",
       "      <th>TrainingJobStatus</th>\n",
       "      <th>TrainingStartTime</th>\n",
       "      <th>TrainingEndTime</th>\n",
       "      <th>TrainingElapsedTimeSeconds</th>\n",
       "      <th>TuningJobName</th>\n",
       "      <th>validation:accuracy</th>\n",
       "    </tr>\n",
       "  </thead>\n",
       "  <tbody>\n",
       "    <tr>\n",
       "      <th>0</th>\n",
       "      <td>0.323311</td>\n",
       "      <td>0.497587</td>\n",
       "      <td>2.0</td>\n",
       "      <td>1.222610</td>\n",
       "      <td>bayesian-221102-1654-050-1c5b7a9a</td>\n",
       "      <td>Completed</td>\n",
       "      <td>2022-11-02 17:23:20+00:00</td>\n",
       "      <td>2022-11-02 17:24:18+00:00</td>\n",
       "      <td>58.0</td>\n",
       "      <td>bayesian-221102-1654</td>\n",
       "      <td>0.88704</td>\n",
       "    </tr>\n",
       "    <tr>\n",
       "      <th>14</th>\n",
       "      <td>0.308161</td>\n",
       "      <td>0.407686</td>\n",
       "      <td>2.0</td>\n",
       "      <td>0.689145</td>\n",
       "      <td>bayesian-221102-1654-036-f2fd0e17</td>\n",
       "      <td>Completed</td>\n",
       "      <td>2022-11-02 17:16:06+00:00</td>\n",
       "      <td>2022-11-02 17:17:03+00:00</td>\n",
       "      <td>57.0</td>\n",
       "      <td>bayesian-221102-1654</td>\n",
       "      <td>0.88704</td>\n",
       "    </tr>\n",
       "    <tr>\n",
       "      <th>16</th>\n",
       "      <td>0.294604</td>\n",
       "      <td>0.482763</td>\n",
       "      <td>2.0</td>\n",
       "      <td>0.492755</td>\n",
       "      <td>bayesian-221102-1654-034-38e9f4e5</td>\n",
       "      <td>Completed</td>\n",
       "      <td>2022-11-02 17:14:43+00:00</td>\n",
       "      <td>2022-11-02 17:15:50+00:00</td>\n",
       "      <td>67.0</td>\n",
       "      <td>bayesian-221102-1654</td>\n",
       "      <td>0.88518</td>\n",
       "    </tr>\n",
       "    <tr>\n",
       "      <th>31</th>\n",
       "      <td>0.294851</td>\n",
       "      <td>0.463279</td>\n",
       "      <td>2.0</td>\n",
       "      <td>0.822343</td>\n",
       "      <td>bayesian-221102-1654-019-a6b58005</td>\n",
       "      <td>Completed</td>\n",
       "      <td>2022-11-02 17:06:59+00:00</td>\n",
       "      <td>2022-11-02 17:08:01+00:00</td>\n",
       "      <td>62.0</td>\n",
       "      <td>bayesian-221102-1654</td>\n",
       "      <td>0.88518</td>\n",
       "    </tr>\n",
       "    <tr>\n",
       "      <th>2</th>\n",
       "      <td>0.473322</td>\n",
       "      <td>0.493282</td>\n",
       "      <td>2.0</td>\n",
       "      <td>1.110786</td>\n",
       "      <td>bayesian-221102-1654-048-a7736348</td>\n",
       "      <td>Completed</td>\n",
       "      <td>2022-11-02 17:22:18+00:00</td>\n",
       "      <td>2022-11-02 17:23:20+00:00</td>\n",
       "      <td>62.0</td>\n",
       "      <td>bayesian-221102-1654</td>\n",
       "      <td>0.88333</td>\n",
       "    </tr>\n",
       "    <tr>\n",
       "      <th>47</th>\n",
       "      <td>0.300839</td>\n",
       "      <td>0.363885</td>\n",
       "      <td>2.0</td>\n",
       "      <td>0.792308</td>\n",
       "      <td>bayesian-221102-1654-003-75deeadd</td>\n",
       "      <td>Completed</td>\n",
       "      <td>2022-11-02 16:56:46+00:00</td>\n",
       "      <td>2022-11-02 16:59:09+00:00</td>\n",
       "      <td>143.0</td>\n",
       "      <td>bayesian-221102-1654</td>\n",
       "      <td>0.88333</td>\n",
       "    </tr>\n",
       "    <tr>\n",
       "      <th>8</th>\n",
       "      <td>0.351498</td>\n",
       "      <td>0.493225</td>\n",
       "      <td>2.0</td>\n",
       "      <td>1.198122</td>\n",
       "      <td>bayesian-221102-1654-042-c39a66e7</td>\n",
       "      <td>Completed</td>\n",
       "      <td>2022-11-02 17:19:35+00:00</td>\n",
       "      <td>2022-11-02 17:20:31+00:00</td>\n",
       "      <td>56.0</td>\n",
       "      <td>bayesian-221102-1654</td>\n",
       "      <td>0.88333</td>\n",
       "    </tr>\n",
       "    <tr>\n",
       "      <th>26</th>\n",
       "      <td>0.311720</td>\n",
       "      <td>0.500000</td>\n",
       "      <td>2.0</td>\n",
       "      <td>0.420555</td>\n",
       "      <td>bayesian-221102-1654-024-cf045763</td>\n",
       "      <td>Completed</td>\n",
       "      <td>2022-11-02 17:10:25+00:00</td>\n",
       "      <td>2022-11-02 17:11:22+00:00</td>\n",
       "      <td>57.0</td>\n",
       "      <td>bayesian-221102-1654</td>\n",
       "      <td>0.88333</td>\n",
       "    </tr>\n",
       "    <tr>\n",
       "      <th>43</th>\n",
       "      <td>0.159557</td>\n",
       "      <td>0.362577</td>\n",
       "      <td>3.0</td>\n",
       "      <td>0.460739</td>\n",
       "      <td>bayesian-221102-1654-007-17300458</td>\n",
       "      <td>Completed</td>\n",
       "      <td>2022-11-02 17:00:40+00:00</td>\n",
       "      <td>2022-11-02 17:02:01+00:00</td>\n",
       "      <td>81.0</td>\n",
       "      <td>bayesian-221102-1654</td>\n",
       "      <td>0.88148</td>\n",
       "    </tr>\n",
       "    <tr>\n",
       "      <th>42</th>\n",
       "      <td>0.018878</td>\n",
       "      <td>0.364701</td>\n",
       "      <td>4.0</td>\n",
       "      <td>1.695850</td>\n",
       "      <td>bayesian-221102-1654-008-07184b27</td>\n",
       "      <td>Completed</td>\n",
       "      <td>2022-11-02 17:01:14+00:00</td>\n",
       "      <td>2022-11-02 17:02:40+00:00</td>\n",
       "      <td>86.0</td>\n",
       "      <td>bayesian-221102-1654</td>\n",
       "      <td>0.88148</td>\n",
       "    </tr>\n",
       "  </tbody>\n",
       "</table>\n",
       "</div>"
      ],
      "text/plain": [
       "       alpha       eta  max_depth  min_child_weight                    TrainingJobName TrainingJobStatus         TrainingStartTime           TrainingEndTime  TrainingElapsedTimeSeconds         TuningJobName  validation:accuracy\n",
       "0   0.323311  0.497587        2.0          1.222610  bayesian-221102-1654-050-1c5b7a9a         Completed 2022-11-02 17:23:20+00:00 2022-11-02 17:24:18+00:00                        58.0  bayesian-221102-1654              0.88704\n",
       "14  0.308161  0.407686        2.0          0.689145  bayesian-221102-1654-036-f2fd0e17         Completed 2022-11-02 17:16:06+00:00 2022-11-02 17:17:03+00:00                        57.0  bayesian-221102-1654              0.88704\n",
       "16  0.294604  0.482763        2.0          0.492755  bayesian-221102-1654-034-38e9f4e5         Completed 2022-11-02 17:14:43+00:00 2022-11-02 17:15:50+00:00                        67.0  bayesian-221102-1654              0.88518\n",
       "31  0.294851  0.463279        2.0          0.822343  bayesian-221102-1654-019-a6b58005         Completed 2022-11-02 17:06:59+00:00 2022-11-02 17:08:01+00:00                        62.0  bayesian-221102-1654              0.88518\n",
       "2   0.473322  0.493282        2.0          1.110786  bayesian-221102-1654-048-a7736348         Completed 2022-11-02 17:22:18+00:00 2022-11-02 17:23:20+00:00                        62.0  bayesian-221102-1654              0.88333\n",
       "47  0.300839  0.363885        2.0          0.792308  bayesian-221102-1654-003-75deeadd         Completed 2022-11-02 16:56:46+00:00 2022-11-02 16:59:09+00:00                       143.0  bayesian-221102-1654              0.88333\n",
       "8   0.351498  0.493225        2.0          1.198122  bayesian-221102-1654-042-c39a66e7         Completed 2022-11-02 17:19:35+00:00 2022-11-02 17:20:31+00:00                        56.0  bayesian-221102-1654              0.88333\n",
       "26  0.311720  0.500000        2.0          0.420555  bayesian-221102-1654-024-cf045763         Completed 2022-11-02 17:10:25+00:00 2022-11-02 17:11:22+00:00                        57.0  bayesian-221102-1654              0.88333\n",
       "43  0.159557  0.362577        3.0          0.460739  bayesian-221102-1654-007-17300458         Completed 2022-11-02 17:00:40+00:00 2022-11-02 17:02:01+00:00                        81.0  bayesian-221102-1654              0.88148\n",
       "42  0.018878  0.364701        4.0          1.695850  bayesian-221102-1654-008-07184b27         Completed 2022-11-02 17:01:14+00:00 2022-11-02 17:02:40+00:00                        86.0  bayesian-221102-1654              0.88148"
      ]
     },
     "metadata": {},
     "output_type": "display_data"
    },
    {
     "data": {
      "text/html": [
       "\n",
       "<div id=\"altair-viz-35c7b18d85584ee1be1570fac1c5c183\"></div>\n",
       "<script type=\"text/javascript\">\n",
       "  var VEGA_DEBUG = (typeof VEGA_DEBUG == \"undefined\") ? {} : VEGA_DEBUG;\n",
       "  (function(spec, embedOpt){\n",
       "    let outputDiv = document.currentScript.previousElementSibling;\n",
       "    if (outputDiv.id !== \"altair-viz-35c7b18d85584ee1be1570fac1c5c183\") {\n",
       "      outputDiv = document.getElementById(\"altair-viz-35c7b18d85584ee1be1570fac1c5c183\");\n",
       "    }\n",
       "    const paths = {\n",
       "      \"vega\": \"https://cdn.jsdelivr.net/npm//vega@5?noext\",\n",
       "      \"vega-lib\": \"https://cdn.jsdelivr.net/npm//vega-lib?noext\",\n",
       "      \"vega-lite\": \"https://cdn.jsdelivr.net/npm//vega-lite@4.17.0?noext\",\n",
       "      \"vega-embed\": \"https://cdn.jsdelivr.net/npm//vega-embed@6?noext\",\n",
       "    };\n",
       "\n",
       "    function maybeLoadScript(lib, version) {\n",
       "      var key = `${lib.replace(\"-\", \"\")}_version`;\n",
       "      return (VEGA_DEBUG[key] == version) ?\n",
       "        Promise.resolve(paths[lib]) :\n",
       "        new Promise(function(resolve, reject) {\n",
       "          var s = document.createElement('script');\n",
       "          document.getElementsByTagName(\"head\")[0].appendChild(s);\n",
       "          s.async = true;\n",
       "          s.onload = () => {\n",
       "            VEGA_DEBUG[key] = version;\n",
       "            return resolve(paths[lib]);\n",
       "          };\n",
       "          s.onerror = () => reject(`Error loading script: ${paths[lib]}`);\n",
       "          s.src = paths[lib];\n",
       "        });\n",
       "    }\n",
       "\n",
       "    function showError(err) {\n",
       "      outputDiv.innerHTML = `<div class=\"error\" style=\"color:red;\">${err}</div>`;\n",
       "      throw err;\n",
       "    }\n",
       "\n",
       "    function displayChart(vegaEmbed) {\n",
       "      vegaEmbed(outputDiv, spec, embedOpt)\n",
       "        .catch(err => showError(`Javascript Error: ${err.message}<br>This usually means there's a typo in your chart specification. See the javascript console for the full traceback.`));\n",
       "    }\n",
       "\n",
       "    if(typeof define === \"function\" && define.amd) {\n",
       "      requirejs.config({paths});\n",
       "      require([\"vega-embed\"], displayChart, err => showError(`Error loading script: ${err.message}`));\n",
       "    } else {\n",
       "      maybeLoadScript(\"vega\", \"5\")\n",
       "        .then(() => maybeLoadScript(\"vega-lite\", \"4.17.0\"))\n",
       "        .then(() => maybeLoadScript(\"vega-embed\", \"6\"))\n",
       "        .catch(showError)\n",
       "        .then(() => displayChart(vegaEmbed));\n",
       "    }\n",
       "  })({\"config\": {\"view\": {\"continuousWidth\": 400, \"continuousHeight\": 300}}, \"vconcat\": [{\"hconcat\": [{\"mark\": {\"type\": \"point\", \"filled\": true, \"size\": 50}, \"encoding\": {\"opacity\": {\"condition\": {\"value\": 1.0, \"selection\": \"selector001\"}, \"value\": 0.35}, \"shape\": {\"field\": \"TrainingJobStatus\", \"legend\": {\"orient\": \"right\"}, \"type\": \"nominal\"}, \"stroke\": {\"condition\": {\"value\": \"gold\", \"selection\": \"selector002\"}, \"value\": \"white\"}, \"strokeWidth\": {\"condition\": {\"value\": 2.0, \"selection\": \"selector002\"}, \"value\": 2.0}, \"tooltip\": [{\"field\": \"validation:accuracy\", \"format\": \".2e\", \"type\": \"quantitative\"}, {\"field\": \"max_depth\", \"format\": \".2e\", \"type\": \"quantitative\"}, {\"field\": \"alpha\", \"format\": \".2e\", \"type\": \"quantitative\"}, {\"field\": \"eta\", \"format\": \".2e\", \"type\": \"quantitative\"}, {\"field\": \"min_child_weight\", \"format\": \".2e\", \"type\": \"quantitative\"}, {\"field\": \"TrainingStartTime\", \"format\": \"%H:%M:%S\", \"type\": \"temporal\"}, {\"field\": \"TrainingJobName\", \"type\": \"nominal\"}, {\"field\": \"TrainingJobStatus\", \"type\": \"nominal\"}, {\"field\": \"TrainingElapsedTimeSeconds\", \"type\": \"quantitative\"}], \"x\": {\"field\": \"TrainingStartTime\", \"scale\": {\"nice\": true}, \"type\": \"temporal\"}, \"y\": {\"axis\": {\"title\": \"validation:accuracy\"}, \"field\": \"validation:accuracy\", \"scale\": {\"padding\": 1, \"zero\": false}, \"type\": \"quantitative\"}}, \"selection\": {\"selector001\": {\"type\": \"interval\", \"encodings\": [\"x\"], \"resolve\": \"intersect\", \"empty\": \"all\"}, \"selector002\": {\"type\": \"single\", \"on\": \"mouseover\", \"nearest\": false, \"empty\": \"none\", \"fields\": [\"TrainingJobName\", \"TrainingStartTime\"]}}}, {\"mark\": \"area\", \"encoding\": {\"x\": {\"field\": \"value\", \"title\": \"validation:accuracy\", \"type\": \"quantitative\"}, \"y\": {\"field\": \"density\", \"type\": \"quantitative\"}}, \"transform\": [{\"filter\": {\"selection\": \"selector001\"}}, {\"density\": \"validation:accuracy\", \"bandwidth\": 0.01}]}], \"title\": \"Hyper Parameter Tuning Job\"}, {\"vconcat\": [{\"hconcat\": [{\"mark\": {\"type\": \"point\", \"filled\": true, \"size\": 50}, \"encoding\": {\"opacity\": {\"condition\": {\"value\": 1.0, \"selection\": \"selector001\"}, \"value\": 0.35}, \"shape\": {\"field\": \"TrainingJobStatus\", \"legend\": {\"orient\": \"right\"}, \"type\": \"nominal\"}, \"stroke\": {\"condition\": {\"value\": \"gold\", \"selection\": \"selector002\"}, \"value\": \"white\"}, \"strokeWidth\": {\"condition\": {\"value\": 2.0, \"selection\": \"selector002\"}, \"value\": 2.0}, \"tooltip\": [{\"field\": \"validation:accuracy\", \"format\": \".2e\", \"type\": \"quantitative\"}, {\"field\": \"max_depth\", \"format\": \".2e\", \"type\": \"quantitative\"}, {\"field\": \"alpha\", \"format\": \".2e\", \"type\": \"quantitative\"}, {\"field\": \"eta\", \"format\": \".2e\", \"type\": \"quantitative\"}, {\"field\": \"min_child_weight\", \"format\": \".2e\", \"type\": \"quantitative\"}, {\"field\": \"TrainingStartTime\", \"format\": \"%H:%M:%S\", \"type\": \"temporal\"}, {\"field\": \"TrainingJobName\", \"type\": \"nominal\"}, {\"field\": \"TrainingJobStatus\", \"type\": \"nominal\"}, {\"field\": \"TrainingElapsedTimeSeconds\", \"type\": \"quantitative\"}], \"x\": {\"field\": \"max_depth\", \"scale\": {\"base\": 10, \"padding\": 1, \"type\": \"linear\", \"zero\": false}, \"type\": \"quantitative\"}, \"y\": {\"axis\": {\"title\": \"validation:accuracy\"}, \"field\": \"validation:accuracy\", \"scale\": {\"padding\": 1, \"zero\": false}, \"type\": \"quantitative\"}}, \"selection\": {\"selector001\": {\"type\": \"interval\", \"encodings\": [\"x\"], \"resolve\": \"intersect\", \"empty\": \"all\"}, \"selector002\": {\"type\": \"single\", \"on\": \"mouseover\", \"nearest\": false, \"empty\": \"none\", \"fields\": [\"TrainingJobName\", \"TrainingStartTime\"]}}, \"title\": \"max_depth\"}, {\"mark\": {\"type\": \"point\", \"filled\": true, \"size\": 50}, \"encoding\": {\"opacity\": {\"condition\": {\"value\": 1.0, \"selection\": \"selector001\"}, \"value\": 0.35}, \"shape\": {\"field\": \"TrainingJobStatus\", \"legend\": {\"orient\": \"right\"}, \"type\": \"nominal\"}, \"stroke\": {\"condition\": {\"value\": \"gold\", \"selection\": \"selector002\"}, \"value\": \"white\"}, \"strokeWidth\": {\"condition\": {\"value\": 2.0, \"selection\": \"selector002\"}, \"value\": 2.0}, \"tooltip\": [{\"field\": \"validation:accuracy\", \"format\": \".2e\", \"type\": \"quantitative\"}, {\"field\": \"max_depth\", \"format\": \".2e\", \"type\": \"quantitative\"}, {\"field\": \"alpha\", \"format\": \".2e\", \"type\": \"quantitative\"}, {\"field\": \"eta\", \"format\": \".2e\", \"type\": \"quantitative\"}, {\"field\": \"min_child_weight\", \"format\": \".2e\", \"type\": \"quantitative\"}, {\"field\": \"TrainingStartTime\", \"format\": \"%H:%M:%S\", \"type\": \"temporal\"}, {\"field\": \"TrainingJobName\", \"type\": \"nominal\"}, {\"field\": \"TrainingJobStatus\", \"type\": \"nominal\"}, {\"field\": \"TrainingElapsedTimeSeconds\", \"type\": \"quantitative\"}], \"x\": {\"field\": \"alpha\", \"scale\": {\"base\": 10, \"padding\": 1, \"type\": \"linear\", \"zero\": false}, \"type\": \"quantitative\"}, \"y\": {\"axis\": {\"title\": \"validation:accuracy\"}, \"field\": \"validation:accuracy\", \"scale\": {\"padding\": 1, \"zero\": false}, \"type\": \"quantitative\"}}, \"selection\": {\"selector001\": {\"type\": \"interval\", \"encodings\": [\"x\"], \"resolve\": \"intersect\", \"empty\": \"all\"}, \"selector002\": {\"type\": \"single\", \"on\": \"mouseover\", \"nearest\": false, \"empty\": \"none\", \"fields\": [\"TrainingJobName\", \"TrainingStartTime\"]}}, \"title\": \"alpha\"}]}, {\"hconcat\": [{\"mark\": {\"type\": \"point\", \"filled\": true, \"size\": 50}, \"encoding\": {\"opacity\": {\"condition\": {\"value\": 1.0, \"selection\": \"selector001\"}, \"value\": 0.35}, \"shape\": {\"field\": \"TrainingJobStatus\", \"legend\": {\"orient\": \"right\"}, \"type\": \"nominal\"}, \"stroke\": {\"condition\": {\"value\": \"gold\", \"selection\": \"selector002\"}, \"value\": \"white\"}, \"strokeWidth\": {\"condition\": {\"value\": 2.0, \"selection\": \"selector002\"}, \"value\": 2.0}, \"tooltip\": [{\"field\": \"validation:accuracy\", \"format\": \".2e\", \"type\": \"quantitative\"}, {\"field\": \"max_depth\", \"format\": \".2e\", \"type\": \"quantitative\"}, {\"field\": \"alpha\", \"format\": \".2e\", \"type\": \"quantitative\"}, {\"field\": \"eta\", \"format\": \".2e\", \"type\": \"quantitative\"}, {\"field\": \"min_child_weight\", \"format\": \".2e\", \"type\": \"quantitative\"}, {\"field\": \"TrainingStartTime\", \"format\": \"%H:%M:%S\", \"type\": \"temporal\"}, {\"field\": \"TrainingJobName\", \"type\": \"nominal\"}, {\"field\": \"TrainingJobStatus\", \"type\": \"nominal\"}, {\"field\": \"TrainingElapsedTimeSeconds\", \"type\": \"quantitative\"}], \"x\": {\"field\": \"eta\", \"scale\": {\"base\": 10, \"padding\": 1, \"type\": \"linear\", \"zero\": false}, \"type\": \"quantitative\"}, \"y\": {\"axis\": {\"title\": \"validation:accuracy\"}, \"field\": \"validation:accuracy\", \"scale\": {\"padding\": 1, \"zero\": false}, \"type\": \"quantitative\"}}, \"selection\": {\"selector001\": {\"type\": \"interval\", \"encodings\": [\"x\"], \"resolve\": \"intersect\", \"empty\": \"all\"}, \"selector002\": {\"type\": \"single\", \"on\": \"mouseover\", \"nearest\": false, \"empty\": \"none\", \"fields\": [\"TrainingJobName\", \"TrainingStartTime\"]}}, \"title\": \"eta\"}, {\"mark\": {\"type\": \"point\", \"filled\": true, \"size\": 50}, \"encoding\": {\"opacity\": {\"condition\": {\"value\": 1.0, \"selection\": \"selector001\"}, \"value\": 0.35}, \"shape\": {\"field\": \"TrainingJobStatus\", \"legend\": {\"orient\": \"right\"}, \"type\": \"nominal\"}, \"stroke\": {\"condition\": {\"value\": \"gold\", \"selection\": \"selector002\"}, \"value\": \"white\"}, \"strokeWidth\": {\"condition\": {\"value\": 2.0, \"selection\": \"selector002\"}, \"value\": 2.0}, \"tooltip\": [{\"field\": \"validation:accuracy\", \"format\": \".2e\", \"type\": \"quantitative\"}, {\"field\": \"max_depth\", \"format\": \".2e\", \"type\": \"quantitative\"}, {\"field\": \"alpha\", \"format\": \".2e\", \"type\": \"quantitative\"}, {\"field\": \"eta\", \"format\": \".2e\", \"type\": \"quantitative\"}, {\"field\": \"min_child_weight\", \"format\": \".2e\", \"type\": \"quantitative\"}, {\"field\": \"TrainingStartTime\", \"format\": \"%H:%M:%S\", \"type\": \"temporal\"}, {\"field\": \"TrainingJobName\", \"type\": \"nominal\"}, {\"field\": \"TrainingJobStatus\", \"type\": \"nominal\"}, {\"field\": \"TrainingElapsedTimeSeconds\", \"type\": \"quantitative\"}], \"x\": {\"field\": \"min_child_weight\", \"scale\": {\"base\": 10, \"padding\": 1, \"type\": \"linear\", \"zero\": false}, \"type\": \"quantitative\"}, \"y\": {\"axis\": {\"title\": \"validation:accuracy\"}, \"field\": \"validation:accuracy\", \"scale\": {\"padding\": 1, \"zero\": false}, \"type\": \"quantitative\"}}, \"selection\": {\"selector001\": {\"type\": \"interval\", \"encodings\": [\"x\"], \"resolve\": \"intersect\", \"empty\": \"all\"}, \"selector002\": {\"type\": \"single\", \"on\": \"mouseover\", \"nearest\": false, \"empty\": \"none\", \"fields\": [\"TrainingJobName\", \"TrainingStartTime\"]}}, \"title\": \"min_child_weight\"}]}], \"title\": \"Hyper Parameter Details\"}, {\"vconcat\": [{\"data\": {\"name\": \"data-1eeec107e0a9d75c8fecf30a899805dd\"}, \"mark\": \"bar\", \"encoding\": {\"color\": {\"field\": \"TrainingJobName\", \"type\": \"nominal\"}, \"opacity\": {\"condition\": {\"value\": 1.0, \"selection\": \"selector001\"}, \"value\": 0.35}, \"shape\": {\"field\": \"TrainingJobStatus\", \"legend\": {\"orient\": \"right\"}, \"type\": \"nominal\"}, \"stroke\": {\"condition\": {\"value\": \"gold\", \"selection\": \"selector002\"}, \"value\": \"white\"}, \"strokeWidth\": {\"condition\": {\"value\": 2.0, \"selection\": \"selector002\"}, \"value\": 2.0}, \"x\": {\"field\": \"TrainingJobName\", \"sort\": null, \"type\": \"nominal\"}, \"y\": {\"field\": \"validation:accuracy\", \"type\": \"quantitative\"}}, \"selection\": {\"selector001\": {\"type\": \"interval\", \"encodings\": [\"x\"], \"resolve\": \"intersect\", \"empty\": \"all\"}, \"selector002\": {\"type\": \"single\", \"on\": \"mouseover\", \"nearest\": false, \"empty\": \"none\", \"fields\": [\"TrainingJobName\", \"TrainingStartTime\"]}}, \"title\": \"Training Jobs\"}, {\"hconcat\": []}]}], \"data\": {\"name\": \"data-1ec805e5767e6672ee35886df65a0953\"}, \"$schema\": \"https://vega.github.io/schema/vega-lite/v4.17.0.json\", \"datasets\": {\"data-1ec805e5767e6672ee35886df65a0953\": [{\"alpha\": 0.3233113460140429, \"eta\": 0.49758693442022683, \"max_depth\": 2.0, \"min_child_weight\": 1.2226098509346888, \"TrainingJobName\": \"bayesian-221102-1654-050-1c5b7a9a\", \"TrainingJobStatus\": \"Completed\", \"TrainingStartTime\": \"2022-11-02T17:23:20+00:00\", \"TrainingEndTime\": \"2022-11-02T17:24:18+00:00\", \"TrainingElapsedTimeSeconds\": 58.0, \"TuningJobName\": \"bayesian-221102-1654\", \"validation:accuracy\": 0.8870400190353394}, {\"alpha\": 0.30816134228103714, \"eta\": 0.4076861499589023, \"max_depth\": 2.0, \"min_child_weight\": 0.689145469726524, \"TrainingJobName\": \"bayesian-221102-1654-036-f2fd0e17\", \"TrainingJobStatus\": \"Completed\", \"TrainingStartTime\": \"2022-11-02T17:16:06+00:00\", \"TrainingEndTime\": \"2022-11-02T17:17:03+00:00\", \"TrainingElapsedTimeSeconds\": 57.0, \"TuningJobName\": \"bayesian-221102-1654\", \"validation:accuracy\": 0.8870400190353394}, {\"alpha\": 0.29460447090676817, \"eta\": 0.4827628198263848, \"max_depth\": 2.0, \"min_child_weight\": 0.49275459498217766, \"TrainingJobName\": \"bayesian-221102-1654-034-38e9f4e5\", \"TrainingJobStatus\": \"Completed\", \"TrainingStartTime\": \"2022-11-02T17:14:43+00:00\", \"TrainingEndTime\": \"2022-11-02T17:15:50+00:00\", \"TrainingElapsedTimeSeconds\": 67.0, \"TuningJobName\": \"bayesian-221102-1654\", \"validation:accuracy\": 0.8851799964904785}, {\"alpha\": 0.29485107274869554, \"eta\": 0.4632787075628658, \"max_depth\": 2.0, \"min_child_weight\": 0.8223429815959946, \"TrainingJobName\": \"bayesian-221102-1654-019-a6b58005\", \"TrainingJobStatus\": \"Completed\", \"TrainingStartTime\": \"2022-11-02T17:06:59+00:00\", \"TrainingEndTime\": \"2022-11-02T17:08:01+00:00\", \"TrainingElapsedTimeSeconds\": 62.0, \"TuningJobName\": \"bayesian-221102-1654\", \"validation:accuracy\": 0.8851799964904785}, {\"alpha\": 0.4733223701194962, \"eta\": 0.49328207312404526, \"max_depth\": 2.0, \"min_child_weight\": 1.1107855696270503, \"TrainingJobName\": \"bayesian-221102-1654-048-a7736348\", \"TrainingJobStatus\": \"Completed\", \"TrainingStartTime\": \"2022-11-02T17:22:18+00:00\", \"TrainingEndTime\": \"2022-11-02T17:23:20+00:00\", \"TrainingElapsedTimeSeconds\": 62.0, \"TuningJobName\": \"bayesian-221102-1654\", \"validation:accuracy\": 0.8833299875259399}, {\"alpha\": 0.30083947852674764, \"eta\": 0.363885095107896, \"max_depth\": 2.0, \"min_child_weight\": 0.7923079657611294, \"TrainingJobName\": \"bayesian-221102-1654-003-75deeadd\", \"TrainingJobStatus\": \"Completed\", \"TrainingStartTime\": \"2022-11-02T16:56:46+00:00\", \"TrainingEndTime\": \"2022-11-02T16:59:09+00:00\", \"TrainingElapsedTimeSeconds\": 143.0, \"TuningJobName\": \"bayesian-221102-1654\", \"validation:accuracy\": 0.8833299875259399}, {\"alpha\": 0.3514984359804928, \"eta\": 0.4932248441228062, \"max_depth\": 2.0, \"min_child_weight\": 1.1981219555062945, \"TrainingJobName\": \"bayesian-221102-1654-042-c39a66e7\", \"TrainingJobStatus\": \"Completed\", \"TrainingStartTime\": \"2022-11-02T17:19:35+00:00\", \"TrainingEndTime\": \"2022-11-02T17:20:31+00:00\", \"TrainingElapsedTimeSeconds\": 56.0, \"TuningJobName\": \"bayesian-221102-1654\", \"validation:accuracy\": 0.8833299875259399}, {\"alpha\": 0.3117195362175189, \"eta\": 0.5, \"max_depth\": 2.0, \"min_child_weight\": 0.4205545018091988, \"TrainingJobName\": \"bayesian-221102-1654-024-cf045763\", \"TrainingJobStatus\": \"Completed\", \"TrainingStartTime\": \"2022-11-02T17:10:25+00:00\", \"TrainingEndTime\": \"2022-11-02T17:11:22+00:00\", \"TrainingElapsedTimeSeconds\": 57.0, \"TuningJobName\": \"bayesian-221102-1654\", \"validation:accuracy\": 0.8833299875259399}, {\"alpha\": 0.15955712732391458, \"eta\": 0.36257720615692235, \"max_depth\": 3.0, \"min_child_weight\": 0.460739152893733, \"TrainingJobName\": \"bayesian-221102-1654-007-17300458\", \"TrainingJobStatus\": \"Completed\", \"TrainingStartTime\": \"2022-11-02T17:00:40+00:00\", \"TrainingEndTime\": \"2022-11-02T17:02:01+00:00\", \"TrainingElapsedTimeSeconds\": 81.0, \"TuningJobName\": \"bayesian-221102-1654\", \"validation:accuracy\": 0.8814799785614014}, {\"alpha\": 0.018878458191673088, \"eta\": 0.36470069181726184, \"max_depth\": 4.0, \"min_child_weight\": 1.6958504380737387, \"TrainingJobName\": \"bayesian-221102-1654-008-07184b27\", \"TrainingJobStatus\": \"Completed\", \"TrainingStartTime\": \"2022-11-02T17:01:14+00:00\", \"TrainingEndTime\": \"2022-11-02T17:02:40+00:00\", \"TrainingElapsedTimeSeconds\": 86.0, \"TuningJobName\": \"bayesian-221102-1654\", \"validation:accuracy\": 0.8814799785614014}, {\"alpha\": 0.4498833340073266, \"eta\": 0.3677889807376814, \"max_depth\": 3.0, \"min_child_weight\": 0.6980972730716852, \"TrainingJobName\": \"bayesian-221102-1654-009-6b20f7af\", \"TrainingJobStatus\": \"Completed\", \"TrainingStartTime\": \"2022-11-02T17:01:40+00:00\", \"TrainingEndTime\": \"2022-11-02T17:03:02+00:00\", \"TrainingElapsedTimeSeconds\": 82.0, \"TuningJobName\": \"bayesian-221102-1654\", \"validation:accuracy\": 0.8814799785614014}, {\"alpha\": 0.30547421150022097, \"eta\": 0.4370619674030124, \"max_depth\": 2.0, \"min_child_weight\": 0.6473811501327849, \"TrainingJobName\": \"bayesian-221102-1654-038-521ed384\", \"TrainingJobStatus\": \"Completed\", \"TrainingStartTime\": \"2022-11-02T17:17:28+00:00\", \"TrainingEndTime\": \"2022-11-02T17:19:20+00:00\", \"TrainingElapsedTimeSeconds\": 112.0, \"TuningJobName\": \"bayesian-221102-1654\", \"validation:accuracy\": 0.8814799785614014}, {\"alpha\": 0.307175860178967, \"eta\": 0.5, \"max_depth\": 2.0, \"min_child_weight\": 0.8053858869059929, \"TrainingJobName\": \"bayesian-221102-1654-037-5a708b60\", \"TrainingJobStatus\": \"Completed\", \"TrainingStartTime\": \"2022-11-02T17:17:11+00:00\", \"TrainingEndTime\": \"2022-11-02T17:17:53+00:00\", \"TrainingElapsedTimeSeconds\": 42.0, \"TuningJobName\": \"bayesian-221102-1654\", \"validation:accuracy\": 0.8814799785614014}, {\"alpha\": 0.3013053167714583, \"eta\": 0.47649410066635556, \"max_depth\": 2.0, \"min_child_weight\": 0.29177497110091277, \"TrainingJobName\": \"bayesian-221102-1654-033-22d423a1\", \"TrainingJobStatus\": \"Completed\", \"TrainingStartTime\": \"2022-11-02T17:14:13+00:00\", \"TrainingEndTime\": \"2022-11-02T17:15:10+00:00\", \"TrainingElapsedTimeSeconds\": 57.0, \"TuningJobName\": \"bayesian-221102-1654\", \"validation:accuracy\": 0.8814799785614014}, {\"alpha\": 0.21739825218320802, \"eta\": 0.39052713915614123, \"max_depth\": 6.0, \"min_child_weight\": 1.8847240089983646, \"TrainingJobName\": \"bayesian-221102-1654-004-da958038\", \"TrainingJobStatus\": \"Completed\", \"TrainingStartTime\": \"2022-11-02T16:59:23+00:00\", \"TrainingEndTime\": \"2022-11-02T17:00:20+00:00\", \"TrainingElapsedTimeSeconds\": 57.0, \"TuningJobName\": \"bayesian-221102-1654\", \"validation:accuracy\": 0.8796300292015076}, {\"alpha\": 0.499517650155654, \"eta\": 0.3699243944472287, \"max_depth\": 5.0, \"min_child_weight\": 1.818430586005531, \"TrainingJobName\": \"bayesian-221102-1654-010-2bac5645\", \"TrainingJobStatus\": \"Completed\", \"TrainingStartTime\": \"2022-11-02T17:02:20+00:00\", \"TrainingEndTime\": \"2022-11-02T17:03:17+00:00\", \"TrainingElapsedTimeSeconds\": 57.0, \"TuningJobName\": \"bayesian-221102-1654\", \"validation:accuracy\": 0.8796300292015076}, {\"alpha\": 0.38037110219403747, \"eta\": 0.5, \"max_depth\": 3.0, \"min_child_weight\": 0.7899743738699815, \"TrainingJobName\": \"bayesian-221102-1654-025-b9555973\", \"TrainingJobStatus\": \"Completed\", \"TrainingStartTime\": \"2022-11-02T17:10:46+00:00\", \"TrainingEndTime\": \"2022-11-02T17:11:49+00:00\", \"TrainingElapsedTimeSeconds\": 63.0, \"TuningJobName\": \"bayesian-221102-1654\", \"validation:accuracy\": 0.8796300292015076}, {\"alpha\": 0.11817328383388953, \"eta\": 0.3596790629732012, \"max_depth\": 2.0, \"min_child_weight\": 0.6153923529182839, \"TrainingJobName\": \"bayesian-221102-1654-018-187f70c4\", \"TrainingJobStatus\": \"Completed\", \"TrainingStartTime\": \"2022-11-02T17:05:55+00:00\", \"TrainingEndTime\": \"2022-11-02T17:07:15+00:00\", \"TrainingElapsedTimeSeconds\": 80.0, \"TuningJobName\": \"bayesian-221102-1654\", \"validation:accuracy\": 0.877780020236969}, {\"alpha\": 0.30010490288867026, \"eta\": 0.45882085855929855, \"max_depth\": 5.0, \"min_child_weight\": 0.6949615319982707, \"TrainingJobName\": \"bayesian-221102-1654-029-fabdbb4a\", \"TrainingJobStatus\": \"Completed\", \"TrainingStartTime\": \"2022-11-02T17:12:17+00:00\", \"TrainingEndTime\": \"2022-11-02T17:13:14+00:00\", \"TrainingElapsedTimeSeconds\": 57.0, \"TuningJobName\": \"bayesian-221102-1654\", \"validation:accuracy\": 0.877780020236969}, {\"alpha\": 0.3944381618706818, \"eta\": 0.33606235267462636, \"max_depth\": 2.0, \"min_child_weight\": 1.402728493817695, \"TrainingJobName\": \"bayesian-221102-1654-006-1678165b\", \"TrainingJobStatus\": \"Completed\", \"TrainingStartTime\": \"2022-11-02T16:59:38+00:00\", \"TrainingEndTime\": \"2022-11-02T17:00:41+00:00\", \"TrainingElapsedTimeSeconds\": 63.0, \"TuningJobName\": \"bayesian-221102-1654\", \"validation:accuracy\": 0.877780020236969}, {\"alpha\": 0.1555416094248212, \"eta\": 0.5, \"max_depth\": 4.0, \"min_child_weight\": 0.3537711241170276, \"TrainingJobName\": \"bayesian-221102-1654-041-4deb1659\", \"TrainingJobStatus\": \"Completed\", \"TrainingStartTime\": \"2022-11-02T17:19:22+00:00\", \"TrainingEndTime\": \"2022-11-02T17:20:32+00:00\", \"TrainingElapsedTimeSeconds\": 70.0, \"TuningJobName\": \"bayesian-221102-1654\", \"validation:accuracy\": 0.877780020236969}, {\"alpha\": 0.11395322802857386, \"eta\": 0.289896008610558, \"max_depth\": 2.0, \"min_child_weight\": 0.7903917031345475, \"TrainingJobName\": \"bayesian-221102-1654-001-e0973b6b\", \"TrainingJobStatus\": \"Completed\", \"TrainingStartTime\": \"2022-11-02T16:56:49+00:00\", \"TrainingEndTime\": \"2022-11-02T16:59:22+00:00\", \"TrainingElapsedTimeSeconds\": 153.0, \"TuningJobName\": \"bayesian-221102-1654\", \"validation:accuracy\": 0.8759300112724304}, {\"alpha\": 0.3043313653908969, \"eta\": 0.4929003717278966, \"max_depth\": 9.0, \"min_child_weight\": 0.7144884462835548, \"TrainingJobName\": \"bayesian-221102-1654-028-dbd612c3\", \"TrainingJobStatus\": \"Completed\", \"TrainingStartTime\": \"2022-11-02T17:12:01+00:00\", \"TrainingEndTime\": \"2022-11-02T17:12:59+00:00\", \"TrainingElapsedTimeSeconds\": 58.0, \"TuningJobName\": \"bayesian-221102-1654\", \"validation:accuracy\": 0.8759300112724304}, {\"alpha\": 0.3028093727393209, \"eta\": 0.48704380598251795, \"max_depth\": 6.0, \"min_child_weight\": 0.6966098855883482, \"TrainingJobName\": \"bayesian-221102-1654-027-6b9a3f27\", \"TrainingJobStatus\": \"Completed\", \"TrainingStartTime\": \"2022-11-02T17:11:37+00:00\", \"TrainingEndTime\": \"2022-11-02T17:12:44+00:00\", \"TrainingElapsedTimeSeconds\": 67.0, \"TuningJobName\": \"bayesian-221102-1654\", \"validation:accuracy\": 0.8759300112724304}, {\"alpha\": 0.04414484753438229, \"eta\": 0.36617912442877476, \"max_depth\": 4.0, \"min_child_weight\": 1.8262132009450145, \"TrainingJobName\": \"bayesian-221102-1654-045-2f5a8443\", \"TrainingJobStatus\": \"Completed\", \"TrainingStartTime\": \"2022-11-02T17:20:53+00:00\", \"TrainingEndTime\": \"2022-11-02T17:21:50+00:00\", \"TrainingElapsedTimeSeconds\": 57.0, \"TuningJobName\": \"bayesian-221102-1654\", \"validation:accuracy\": 0.8759300112724304}, {\"alpha\": 0.09096476577067063, \"eta\": 0.4674878719904625, \"max_depth\": 5.0, \"min_child_weight\": 0.8019702414745709, \"TrainingJobName\": \"bayesian-221102-1654-044-d10cf580\", \"TrainingJobStatus\": \"Completed\", \"TrainingStartTime\": \"2022-11-02T17:20:48+00:00\", \"TrainingEndTime\": \"2022-11-02T17:22:00+00:00\", \"TrainingElapsedTimeSeconds\": 72.0, \"TuningJobName\": \"bayesian-221102-1654\", \"validation:accuracy\": 0.8759300112724304}, {\"alpha\": 0.168975835181865, \"eta\": 0.4845443241991436, \"max_depth\": 2.0, \"min_child_weight\": 0.7923932686840048, \"TrainingJobName\": \"bayesian-221102-1654-023-627e8096\", \"TrainingJobStatus\": \"Completed\", \"TrainingStartTime\": \"2022-11-02T17:09:36+00:00\", \"TrainingEndTime\": \"2022-11-02T17:10:34+00:00\", \"TrainingElapsedTimeSeconds\": 58.0, \"TuningJobName\": \"bayesian-221102-1654\", \"validation:accuracy\": 0.8759300112724304}, {\"alpha\": 0.40916033570140214, \"eta\": 0.4290535734122459, \"max_depth\": 5.0, \"min_child_weight\": 1.9282112589667841, \"TrainingJobName\": \"bayesian-221102-1654-043-f210db22\", \"TrainingJobStatus\": \"Completed\", \"TrainingStartTime\": \"2022-11-02T17:20:05+00:00\", \"TrainingEndTime\": \"2022-11-02T17:20:52+00:00\", \"TrainingElapsedTimeSeconds\": 47.0, \"TuningJobName\": \"bayesian-221102-1654\", \"validation:accuracy\": 0.8759300112724304}, {\"alpha\": 0.30209491014026985, \"eta\": 0.21278829737110153, \"max_depth\": 4.0, \"min_child_weight\": 0.7659705251098353, \"TrainingJobName\": \"bayesian-221102-1654-015-b8589d40\", \"TrainingJobStatus\": \"Completed\", \"TrainingStartTime\": \"2022-11-02T17:04:44+00:00\", \"TrainingEndTime\": \"2022-11-02T17:05:36+00:00\", \"TrainingElapsedTimeSeconds\": 52.0, \"TuningJobName\": \"bayesian-221102-1654\", \"validation:accuracy\": 0.8759300112724304}, {\"alpha\": 0.13079514838049097, \"eta\": 0.4360834332012903, \"max_depth\": 4.0, \"min_child_weight\": 0.5501025296825071, \"TrainingJobName\": \"bayesian-221102-1654-047-bdffc95c\", \"TrainingJobStatus\": \"Completed\", \"TrainingStartTime\": \"2022-11-02T17:22:10+00:00\", \"TrainingEndTime\": \"2022-11-02T17:23:07+00:00\", \"TrainingElapsedTimeSeconds\": 57.0, \"TuningJobName\": \"bayesian-221102-1654\", \"validation:accuracy\": 0.8740699887275696}, {\"alpha\": 0.2968274329497431, \"eta\": 0.19161401524654023, \"max_depth\": 4.0, \"min_child_weight\": 1.4807537510823068, \"TrainingJobName\": \"bayesian-221102-1654-046-c29902b3\", \"TrainingJobStatus\": \"Completed\", \"TrainingStartTime\": \"2022-11-02T17:21:07+00:00\", \"TrainingEndTime\": \"2022-11-02T17:22:04+00:00\", \"TrainingElapsedTimeSeconds\": 57.0, \"TuningJobName\": \"bayesian-221102-1654\", \"validation:accuracy\": 0.8740699887275696}, {\"alpha\": 0.2625896567016164, \"eta\": 0.5, \"max_depth\": 2.0, \"min_child_weight\": 0.5975350891400097, \"TrainingJobName\": \"bayesian-221102-1654-017-fabf4a5f\", \"TrainingJobStatus\": \"Completed\", \"TrainingStartTime\": \"2022-11-02T17:05:46+00:00\", \"TrainingEndTime\": \"2022-11-02T17:06:43+00:00\", \"TrainingElapsedTimeSeconds\": 57.0, \"TuningJobName\": \"bayesian-221102-1654\", \"validation:accuracy\": 0.8740699887275696}, {\"alpha\": 0.43098280729083477, \"eta\": 0.43290010096194165, \"max_depth\": 2.0, \"min_child_weight\": 0.026510136660234152, \"TrainingJobName\": \"bayesian-221102-1654-014-b2a4b03e\", \"TrainingJobStatus\": \"Completed\", \"TrainingStartTime\": \"2022-11-02T17:04:32+00:00\", \"TrainingEndTime\": \"2022-11-02T17:05:29+00:00\", \"TrainingElapsedTimeSeconds\": 57.0, \"TuningJobName\": \"bayesian-221102-1654\", \"validation:accuracy\": 0.872219979763031}, {\"alpha\": 0.2964834478470231, \"eta\": 0.40200136549397614, \"max_depth\": 7.0, \"min_child_weight\": 0.8319593356512096, \"TrainingJobName\": \"bayesian-221102-1654-031-1cc67c2e\", \"TrainingJobStatus\": \"Completed\", \"TrainingStartTime\": \"2022-11-02T17:16:00+00:00\", \"TrainingEndTime\": \"2022-11-02T17:18:13+00:00\", \"TrainingElapsedTimeSeconds\": 133.0, \"TuningJobName\": \"bayesian-221102-1654\", \"validation:accuracy\": 0.872219979763031}, {\"alpha\": 0.2736953130815652, \"eta\": 0.42609791460270474, \"max_depth\": 2.0, \"min_child_weight\": 0.868018904724205, \"TrainingJobName\": \"bayesian-221102-1654-022-5fb8ff03\", \"TrainingJobStatus\": \"Completed\", \"TrainingStartTime\": \"2022-11-02T17:08:54+00:00\", \"TrainingEndTime\": \"2022-11-02T17:09:51+00:00\", \"TrainingElapsedTimeSeconds\": 57.0, \"TuningJobName\": \"bayesian-221102-1654\", \"validation:accuracy\": 0.8703699707984924}, {\"alpha\": 0.4218323401305988, \"eta\": 0.5, \"max_depth\": 3.0, \"min_child_weight\": 1.6879662217584817, \"TrainingJobName\": \"bayesian-221102-1654-035-7f6da58c\", \"TrainingJobStatus\": \"Completed\", \"TrainingStartTime\": \"2022-11-02T17:15:28+00:00\", \"TrainingEndTime\": \"2022-11-02T17:16:30+00:00\", \"TrainingElapsedTimeSeconds\": 62.0, \"TuningJobName\": \"bayesian-221102-1654\", \"validation:accuracy\": 0.8703699707984924}, {\"alpha\": 0.3254723190203607, \"eta\": 0.15715677225097466, \"max_depth\": 2.0, \"min_child_weight\": 2.0, \"TrainingJobName\": \"bayesian-221102-1654-020-6cea4aa9\", \"TrainingJobStatus\": \"Completed\", \"TrainingStartTime\": \"2022-11-02T17:07:29+00:00\", \"TrainingEndTime\": \"2022-11-02T17:08:36+00:00\", \"TrainingElapsedTimeSeconds\": 67.0, \"TuningJobName\": \"bayesian-221102-1654\", \"validation:accuracy\": 0.8703699707984924}, {\"alpha\": 0.06114318226048331, \"eta\": 0.1, \"max_depth\": 5.0, \"min_child_weight\": 1.192668815209007, \"TrainingJobName\": \"bayesian-221102-1654-049-66462cbd\", \"TrainingJobStatus\": \"Completed\", \"TrainingStartTime\": \"2022-11-02T17:24:59+00:00\", \"TrainingEndTime\": \"2022-11-02T17:27:23+00:00\", \"TrainingElapsedTimeSeconds\": 144.0, \"TuningJobName\": \"bayesian-221102-1654\", \"validation:accuracy\": 0.8685200214385986}, {\"alpha\": 0.36849464491049916, \"eta\": 0.23233103561365198, \"max_depth\": 2.0, \"min_child_weight\": 0.9951318482203022, \"TrainingJobName\": \"bayesian-221102-1654-021-a7a4c074\", \"TrainingJobStatus\": \"Completed\", \"TrainingStartTime\": \"2022-11-02T17:08:20+00:00\", \"TrainingEndTime\": \"2022-11-02T17:09:18+00:00\", \"TrainingElapsedTimeSeconds\": 58.0, \"TuningJobName\": \"bayesian-221102-1654\", \"validation:accuracy\": 0.8666700124740601}, {\"alpha\": 0.31606781172745213, \"eta\": 0.5, \"max_depth\": 7.0, \"min_child_weight\": 1.103655115668054, \"TrainingJobName\": \"bayesian-221102-1654-026-a7ab2433\", \"TrainingJobStatus\": \"Completed\", \"TrainingStartTime\": \"2022-11-02T17:10:58+00:00\", \"TrainingEndTime\": \"2022-11-02T17:12:00+00:00\", \"TrainingElapsedTimeSeconds\": 62.0, \"TuningJobName\": \"bayesian-221102-1654\", \"validation:accuracy\": 0.8666700124740601}, {\"alpha\": 0.37867004405360444, \"eta\": 0.14112569685113083, \"max_depth\": 3.0, \"min_child_weight\": 0.674436811697215, \"TrainingJobName\": \"bayesian-221102-1654-016-7b106037\", \"TrainingJobStatus\": \"Completed\", \"TrainingStartTime\": \"2022-11-02T17:07:57+00:00\", \"TrainingEndTime\": \"2022-11-02T17:10:30+00:00\", \"TrainingElapsedTimeSeconds\": 153.0, \"TuningJobName\": \"bayesian-221102-1654\", \"validation:accuracy\": 0.8666700124740601}, {\"alpha\": 0.2748397470613021, \"eta\": 0.16689101275995802, \"max_depth\": 6.0, \"min_child_weight\": 0.15457459572618393, \"TrainingJobName\": \"bayesian-221102-1654-002-cdd4c9c7\", \"TrainingJobStatus\": \"Completed\", \"TrainingStartTime\": \"2022-11-02T16:56:57+00:00\", \"TrainingEndTime\": \"2022-11-02T16:59:15+00:00\", \"TrainingElapsedTimeSeconds\": 138.0, \"TuningJobName\": \"bayesian-221102-1654\", \"validation:accuracy\": 0.8666700124740601}, {\"alpha\": 0.07965359836816623, \"eta\": 0.15755127199893956, \"max_depth\": 6.0, \"min_child_weight\": 1.3771175684164545, \"TrainingJobName\": \"bayesian-221102-1654-005-9e0e24db\", \"TrainingJobStatus\": \"Completed\", \"TrainingStartTime\": \"2022-11-02T17:00:02+00:00\", \"TrainingEndTime\": \"2022-11-02T17:01:04+00:00\", \"TrainingElapsedTimeSeconds\": 62.0, \"TuningJobName\": \"bayesian-221102-1654\", \"validation:accuracy\": 0.8648200035095215}, {\"alpha\": 0.31348228451443527, \"eta\": 0.41539476291447786, \"max_depth\": 2.0, \"min_child_weight\": 0.08091366829573121, \"TrainingJobName\": \"bayesian-221102-1654-040-75b14736\", \"TrainingJobStatus\": \"Completed\", \"TrainingStartTime\": \"2022-11-02T17:18:29+00:00\", \"TrainingEndTime\": \"2022-11-02T17:19:26+00:00\", \"TrainingElapsedTimeSeconds\": 57.0, \"TuningJobName\": \"bayesian-221102-1654\", \"validation:accuracy\": 0.8648200035095215}, {\"alpha\": 0.30531123148546524, \"eta\": 0.42526506121058405, \"max_depth\": 2.0, \"min_child_weight\": 0.6433486472337724, \"TrainingJobName\": \"bayesian-221102-1654-039-1ceffd5b\", \"TrainingJobStatus\": \"Completed\", \"TrainingStartTime\": \"2022-11-02T17:18:12+00:00\", \"TrainingEndTime\": \"2022-11-02T17:19:10+00:00\", \"TrainingElapsedTimeSeconds\": 58.0, \"TuningJobName\": \"bayesian-221102-1654\", \"validation:accuracy\": 0.8629599809646606}, {\"alpha\": 0.07406977727557294, \"eta\": 0.36709239280205286, \"max_depth\": 1.0, \"min_child_weight\": 1.585454329176196, \"TrainingJobName\": \"bayesian-221102-1654-012-7cdebb5d\", \"TrainingJobStatus\": \"Completed\", \"TrainingStartTime\": \"2022-11-02T17:03:18+00:00\", \"TrainingEndTime\": \"2022-11-02T17:04:15+00:00\", \"TrainingElapsedTimeSeconds\": 57.0, \"TuningJobName\": \"bayesian-221102-1654\", \"validation:accuracy\": 0.8611099720001221}, {\"alpha\": 0.2767504906562843, \"eta\": 0.3808888317031116, \"max_depth\": 1.0, \"min_child_weight\": 1.7737122490338868, \"TrainingJobName\": \"bayesian-221102-1654-011-9b56f1f6\", \"TrainingJobStatus\": \"Completed\", \"TrainingStartTime\": \"2022-11-02T17:03:49+00:00\", \"TrainingEndTime\": \"2022-11-02T17:04:46+00:00\", \"TrainingElapsedTimeSeconds\": 57.0, \"TuningJobName\": \"bayesian-221102-1654\", \"validation:accuracy\": 0.8555600047111511}, {\"alpha\": 0.29297840082784643, \"eta\": 0.5, \"max_depth\": 1.0, \"min_child_weight\": 0.3570602425310308, \"TrainingJobName\": \"bayesian-221102-1654-030-6f7480bd\", \"TrainingJobStatus\": \"Completed\", \"TrainingStartTime\": \"2022-11-02T17:12:59+00:00\", \"TrainingEndTime\": \"2022-11-02T17:13:57+00:00\", \"TrainingElapsedTimeSeconds\": 58.0, \"TuningJobName\": \"bayesian-221102-1654\", \"validation:accuracy\": 0.8500000238418579}, {\"alpha\": 0.2953852602407481, \"eta\": 0.44813172620757036, \"max_depth\": 1.0, \"min_child_weight\": 0.6253179151626238, \"TrainingJobName\": \"bayesian-221102-1654-032-6f19140d\", \"TrainingJobStatus\": \"Completed\", \"TrainingStartTime\": \"2022-11-02T17:13:27+00:00\", \"TrainingEndTime\": \"2022-11-02T17:14:25+00:00\", \"TrainingElapsedTimeSeconds\": 58.0, \"TuningJobName\": \"bayesian-221102-1654\", \"validation:accuracy\": 0.8444399833679199}, {\"alpha\": 0.1446664784707613, \"eta\": 0.3678652106639507, \"max_depth\": 1.0, \"min_child_weight\": 1.7787687721238337, \"TrainingJobName\": \"bayesian-221102-1654-013-57320bd1\", \"TrainingJobStatus\": \"Completed\", \"TrainingStartTime\": \"2022-11-02T17:03:31+00:00\", \"TrainingEndTime\": \"2022-11-02T17:04:28+00:00\", \"TrainingElapsedTimeSeconds\": 57.0, \"TuningJobName\": \"bayesian-221102-1654\", \"validation:accuracy\": 0.8296300172805786}], \"data-1eeec107e0a9d75c8fecf30a899805dd\": [{\"alpha\": 0.1446664784707613, \"eta\": 0.3678652106639507, \"max_depth\": 1.0, \"min_child_weight\": 1.7787687721238337, \"TrainingJobName\": \"bayesian-221102-1654-013-57320bd1\", \"TrainingJobStatus\": \"Completed\", \"TrainingStartTime\": \"2022-11-02T17:03:31+00:00\", \"TrainingEndTime\": \"2022-11-02T17:04:28+00:00\", \"TrainingElapsedTimeSeconds\": 57.0, \"TuningJobName\": \"bayesian-221102-1654\", \"validation:accuracy\": 0.8296300172805786}, {\"alpha\": 0.2953852602407481, \"eta\": 0.44813172620757036, \"max_depth\": 1.0, \"min_child_weight\": 0.6253179151626238, \"TrainingJobName\": \"bayesian-221102-1654-032-6f19140d\", \"TrainingJobStatus\": \"Completed\", \"TrainingStartTime\": \"2022-11-02T17:13:27+00:00\", \"TrainingEndTime\": \"2022-11-02T17:14:25+00:00\", \"TrainingElapsedTimeSeconds\": 58.0, \"TuningJobName\": \"bayesian-221102-1654\", \"validation:accuracy\": 0.8444399833679199}, {\"alpha\": 0.29297840082784643, \"eta\": 0.5, \"max_depth\": 1.0, \"min_child_weight\": 0.3570602425310308, \"TrainingJobName\": \"bayesian-221102-1654-030-6f7480bd\", \"TrainingJobStatus\": \"Completed\", \"TrainingStartTime\": \"2022-11-02T17:12:59+00:00\", \"TrainingEndTime\": \"2022-11-02T17:13:57+00:00\", \"TrainingElapsedTimeSeconds\": 58.0, \"TuningJobName\": \"bayesian-221102-1654\", \"validation:accuracy\": 0.8500000238418579}, {\"alpha\": 0.2767504906562843, \"eta\": 0.3808888317031116, \"max_depth\": 1.0, \"min_child_weight\": 1.7737122490338868, \"TrainingJobName\": \"bayesian-221102-1654-011-9b56f1f6\", \"TrainingJobStatus\": \"Completed\", \"TrainingStartTime\": \"2022-11-02T17:03:49+00:00\", \"TrainingEndTime\": \"2022-11-02T17:04:46+00:00\", \"TrainingElapsedTimeSeconds\": 57.0, \"TuningJobName\": \"bayesian-221102-1654\", \"validation:accuracy\": 0.8555600047111511}, {\"alpha\": 0.07406977727557294, \"eta\": 0.36709239280205286, \"max_depth\": 1.0, \"min_child_weight\": 1.585454329176196, \"TrainingJobName\": \"bayesian-221102-1654-012-7cdebb5d\", \"TrainingJobStatus\": \"Completed\", \"TrainingStartTime\": \"2022-11-02T17:03:18+00:00\", \"TrainingEndTime\": \"2022-11-02T17:04:15+00:00\", \"TrainingElapsedTimeSeconds\": 57.0, \"TuningJobName\": \"bayesian-221102-1654\", \"validation:accuracy\": 0.8611099720001221}, {\"alpha\": 0.30531123148546524, \"eta\": 0.42526506121058405, \"max_depth\": 2.0, \"min_child_weight\": 0.6433486472337724, \"TrainingJobName\": \"bayesian-221102-1654-039-1ceffd5b\", \"TrainingJobStatus\": \"Completed\", \"TrainingStartTime\": \"2022-11-02T17:18:12+00:00\", \"TrainingEndTime\": \"2022-11-02T17:19:10+00:00\", \"TrainingElapsedTimeSeconds\": 58.0, \"TuningJobName\": \"bayesian-221102-1654\", \"validation:accuracy\": 0.8629599809646606}, {\"alpha\": 0.31348228451443527, \"eta\": 0.41539476291447786, \"max_depth\": 2.0, \"min_child_weight\": 0.08091366829573121, \"TrainingJobName\": \"bayesian-221102-1654-040-75b14736\", \"TrainingJobStatus\": \"Completed\", \"TrainingStartTime\": \"2022-11-02T17:18:29+00:00\", \"TrainingEndTime\": \"2022-11-02T17:19:26+00:00\", \"TrainingElapsedTimeSeconds\": 57.0, \"TuningJobName\": \"bayesian-221102-1654\", \"validation:accuracy\": 0.8648200035095215}, {\"alpha\": 0.07965359836816623, \"eta\": 0.15755127199893956, \"max_depth\": 6.0, \"min_child_weight\": 1.3771175684164545, \"TrainingJobName\": \"bayesian-221102-1654-005-9e0e24db\", \"TrainingJobStatus\": \"Completed\", \"TrainingStartTime\": \"2022-11-02T17:00:02+00:00\", \"TrainingEndTime\": \"2022-11-02T17:01:04+00:00\", \"TrainingElapsedTimeSeconds\": 62.0, \"TuningJobName\": \"bayesian-221102-1654\", \"validation:accuracy\": 0.8648200035095215}, {\"alpha\": 0.2748397470613021, \"eta\": 0.16689101275995802, \"max_depth\": 6.0, \"min_child_weight\": 0.15457459572618393, \"TrainingJobName\": \"bayesian-221102-1654-002-cdd4c9c7\", \"TrainingJobStatus\": \"Completed\", \"TrainingStartTime\": \"2022-11-02T16:56:57+00:00\", \"TrainingEndTime\": \"2022-11-02T16:59:15+00:00\", \"TrainingElapsedTimeSeconds\": 138.0, \"TuningJobName\": \"bayesian-221102-1654\", \"validation:accuracy\": 0.8666700124740601}, {\"alpha\": 0.37867004405360444, \"eta\": 0.14112569685113083, \"max_depth\": 3.0, \"min_child_weight\": 0.674436811697215, \"TrainingJobName\": \"bayesian-221102-1654-016-7b106037\", \"TrainingJobStatus\": \"Completed\", \"TrainingStartTime\": \"2022-11-02T17:07:57+00:00\", \"TrainingEndTime\": \"2022-11-02T17:10:30+00:00\", \"TrainingElapsedTimeSeconds\": 153.0, \"TuningJobName\": \"bayesian-221102-1654\", \"validation:accuracy\": 0.8666700124740601}, {\"alpha\": 0.31606781172745213, \"eta\": 0.5, \"max_depth\": 7.0, \"min_child_weight\": 1.103655115668054, \"TrainingJobName\": \"bayesian-221102-1654-026-a7ab2433\", \"TrainingJobStatus\": \"Completed\", \"TrainingStartTime\": \"2022-11-02T17:10:58+00:00\", \"TrainingEndTime\": \"2022-11-02T17:12:00+00:00\", \"TrainingElapsedTimeSeconds\": 62.0, \"TuningJobName\": \"bayesian-221102-1654\", \"validation:accuracy\": 0.8666700124740601}, {\"alpha\": 0.36849464491049916, \"eta\": 0.23233103561365198, \"max_depth\": 2.0, \"min_child_weight\": 0.9951318482203022, \"TrainingJobName\": \"bayesian-221102-1654-021-a7a4c074\", \"TrainingJobStatus\": \"Completed\", \"TrainingStartTime\": \"2022-11-02T17:08:20+00:00\", \"TrainingEndTime\": \"2022-11-02T17:09:18+00:00\", \"TrainingElapsedTimeSeconds\": 58.0, \"TuningJobName\": \"bayesian-221102-1654\", \"validation:accuracy\": 0.8666700124740601}, {\"alpha\": 0.06114318226048331, \"eta\": 0.1, \"max_depth\": 5.0, \"min_child_weight\": 1.192668815209007, \"TrainingJobName\": \"bayesian-221102-1654-049-66462cbd\", \"TrainingJobStatus\": \"Completed\", \"TrainingStartTime\": \"2022-11-02T17:24:59+00:00\", \"TrainingEndTime\": \"2022-11-02T17:27:23+00:00\", \"TrainingElapsedTimeSeconds\": 144.0, \"TuningJobName\": \"bayesian-221102-1654\", \"validation:accuracy\": 0.8685200214385986}, {\"alpha\": 0.2736953130815652, \"eta\": 0.42609791460270474, \"max_depth\": 2.0, \"min_child_weight\": 0.868018904724205, \"TrainingJobName\": \"bayesian-221102-1654-022-5fb8ff03\", \"TrainingJobStatus\": \"Completed\", \"TrainingStartTime\": \"2022-11-02T17:08:54+00:00\", \"TrainingEndTime\": \"2022-11-02T17:09:51+00:00\", \"TrainingElapsedTimeSeconds\": 57.0, \"TuningJobName\": \"bayesian-221102-1654\", \"validation:accuracy\": 0.8703699707984924}, {\"alpha\": 0.4218323401305988, \"eta\": 0.5, \"max_depth\": 3.0, \"min_child_weight\": 1.6879662217584817, \"TrainingJobName\": \"bayesian-221102-1654-035-7f6da58c\", \"TrainingJobStatus\": \"Completed\", \"TrainingStartTime\": \"2022-11-02T17:15:28+00:00\", \"TrainingEndTime\": \"2022-11-02T17:16:30+00:00\", \"TrainingElapsedTimeSeconds\": 62.0, \"TuningJobName\": \"bayesian-221102-1654\", \"validation:accuracy\": 0.8703699707984924}, {\"alpha\": 0.3254723190203607, \"eta\": 0.15715677225097466, \"max_depth\": 2.0, \"min_child_weight\": 2.0, \"TrainingJobName\": \"bayesian-221102-1654-020-6cea4aa9\", \"TrainingJobStatus\": \"Completed\", \"TrainingStartTime\": \"2022-11-02T17:07:29+00:00\", \"TrainingEndTime\": \"2022-11-02T17:08:36+00:00\", \"TrainingElapsedTimeSeconds\": 67.0, \"TuningJobName\": \"bayesian-221102-1654\", \"validation:accuracy\": 0.8703699707984924}, {\"alpha\": 0.2964834478470231, \"eta\": 0.40200136549397614, \"max_depth\": 7.0, \"min_child_weight\": 0.8319593356512096, \"TrainingJobName\": \"bayesian-221102-1654-031-1cc67c2e\", \"TrainingJobStatus\": \"Completed\", \"TrainingStartTime\": \"2022-11-02T17:16:00+00:00\", \"TrainingEndTime\": \"2022-11-02T17:18:13+00:00\", \"TrainingElapsedTimeSeconds\": 133.0, \"TuningJobName\": \"bayesian-221102-1654\", \"validation:accuracy\": 0.872219979763031}, {\"alpha\": 0.43098280729083477, \"eta\": 0.43290010096194165, \"max_depth\": 2.0, \"min_child_weight\": 0.026510136660234152, \"TrainingJobName\": \"bayesian-221102-1654-014-b2a4b03e\", \"TrainingJobStatus\": \"Completed\", \"TrainingStartTime\": \"2022-11-02T17:04:32+00:00\", \"TrainingEndTime\": \"2022-11-02T17:05:29+00:00\", \"TrainingElapsedTimeSeconds\": 57.0, \"TuningJobName\": \"bayesian-221102-1654\", \"validation:accuracy\": 0.872219979763031}, {\"alpha\": 0.2625896567016164, \"eta\": 0.5, \"max_depth\": 2.0, \"min_child_weight\": 0.5975350891400097, \"TrainingJobName\": \"bayesian-221102-1654-017-fabf4a5f\", \"TrainingJobStatus\": \"Completed\", \"TrainingStartTime\": \"2022-11-02T17:05:46+00:00\", \"TrainingEndTime\": \"2022-11-02T17:06:43+00:00\", \"TrainingElapsedTimeSeconds\": 57.0, \"TuningJobName\": \"bayesian-221102-1654\", \"validation:accuracy\": 0.8740699887275696}, {\"alpha\": 0.2968274329497431, \"eta\": 0.19161401524654023, \"max_depth\": 4.0, \"min_child_weight\": 1.4807537510823068, \"TrainingJobName\": \"bayesian-221102-1654-046-c29902b3\", \"TrainingJobStatus\": \"Completed\", \"TrainingStartTime\": \"2022-11-02T17:21:07+00:00\", \"TrainingEndTime\": \"2022-11-02T17:22:04+00:00\", \"TrainingElapsedTimeSeconds\": 57.0, \"TuningJobName\": \"bayesian-221102-1654\", \"validation:accuracy\": 0.8740699887275696}, {\"alpha\": 0.13079514838049097, \"eta\": 0.4360834332012903, \"max_depth\": 4.0, \"min_child_weight\": 0.5501025296825071, \"TrainingJobName\": \"bayesian-221102-1654-047-bdffc95c\", \"TrainingJobStatus\": \"Completed\", \"TrainingStartTime\": \"2022-11-02T17:22:10+00:00\", \"TrainingEndTime\": \"2022-11-02T17:23:07+00:00\", \"TrainingElapsedTimeSeconds\": 57.0, \"TuningJobName\": \"bayesian-221102-1654\", \"validation:accuracy\": 0.8740699887275696}, {\"alpha\": 0.30209491014026985, \"eta\": 0.21278829737110153, \"max_depth\": 4.0, \"min_child_weight\": 0.7659705251098353, \"TrainingJobName\": \"bayesian-221102-1654-015-b8589d40\", \"TrainingJobStatus\": \"Completed\", \"TrainingStartTime\": \"2022-11-02T17:04:44+00:00\", \"TrainingEndTime\": \"2022-11-02T17:05:36+00:00\", \"TrainingElapsedTimeSeconds\": 52.0, \"TuningJobName\": \"bayesian-221102-1654\", \"validation:accuracy\": 0.8759300112724304}, {\"alpha\": 0.40916033570140214, \"eta\": 0.4290535734122459, \"max_depth\": 5.0, \"min_child_weight\": 1.9282112589667841, \"TrainingJobName\": \"bayesian-221102-1654-043-f210db22\", \"TrainingJobStatus\": \"Completed\", \"TrainingStartTime\": \"2022-11-02T17:20:05+00:00\", \"TrainingEndTime\": \"2022-11-02T17:20:52+00:00\", \"TrainingElapsedTimeSeconds\": 47.0, \"TuningJobName\": \"bayesian-221102-1654\", \"validation:accuracy\": 0.8759300112724304}, {\"alpha\": 0.168975835181865, \"eta\": 0.4845443241991436, \"max_depth\": 2.0, \"min_child_weight\": 0.7923932686840048, \"TrainingJobName\": \"bayesian-221102-1654-023-627e8096\", \"TrainingJobStatus\": \"Completed\", \"TrainingStartTime\": \"2022-11-02T17:09:36+00:00\", \"TrainingEndTime\": \"2022-11-02T17:10:34+00:00\", \"TrainingElapsedTimeSeconds\": 58.0, \"TuningJobName\": \"bayesian-221102-1654\", \"validation:accuracy\": 0.8759300112724304}, {\"alpha\": 0.09096476577067063, \"eta\": 0.4674878719904625, \"max_depth\": 5.0, \"min_child_weight\": 0.8019702414745709, \"TrainingJobName\": \"bayesian-221102-1654-044-d10cf580\", \"TrainingJobStatus\": \"Completed\", \"TrainingStartTime\": \"2022-11-02T17:20:48+00:00\", \"TrainingEndTime\": \"2022-11-02T17:22:00+00:00\", \"TrainingElapsedTimeSeconds\": 72.0, \"TuningJobName\": \"bayesian-221102-1654\", \"validation:accuracy\": 0.8759300112724304}, {\"alpha\": 0.04414484753438229, \"eta\": 0.36617912442877476, \"max_depth\": 4.0, \"min_child_weight\": 1.8262132009450145, \"TrainingJobName\": \"bayesian-221102-1654-045-2f5a8443\", \"TrainingJobStatus\": \"Completed\", \"TrainingStartTime\": \"2022-11-02T17:20:53+00:00\", \"TrainingEndTime\": \"2022-11-02T17:21:50+00:00\", \"TrainingElapsedTimeSeconds\": 57.0, \"TuningJobName\": \"bayesian-221102-1654\", \"validation:accuracy\": 0.8759300112724304}, {\"alpha\": 0.3043313653908969, \"eta\": 0.4929003717278966, \"max_depth\": 9.0, \"min_child_weight\": 0.7144884462835548, \"TrainingJobName\": \"bayesian-221102-1654-028-dbd612c3\", \"TrainingJobStatus\": \"Completed\", \"TrainingStartTime\": \"2022-11-02T17:12:01+00:00\", \"TrainingEndTime\": \"2022-11-02T17:12:59+00:00\", \"TrainingElapsedTimeSeconds\": 58.0, \"TuningJobName\": \"bayesian-221102-1654\", \"validation:accuracy\": 0.8759300112724304}, {\"alpha\": 0.11395322802857386, \"eta\": 0.289896008610558, \"max_depth\": 2.0, \"min_child_weight\": 0.7903917031345475, \"TrainingJobName\": \"bayesian-221102-1654-001-e0973b6b\", \"TrainingJobStatus\": \"Completed\", \"TrainingStartTime\": \"2022-11-02T16:56:49+00:00\", \"TrainingEndTime\": \"2022-11-02T16:59:22+00:00\", \"TrainingElapsedTimeSeconds\": 153.0, \"TuningJobName\": \"bayesian-221102-1654\", \"validation:accuracy\": 0.8759300112724304}, {\"alpha\": 0.3028093727393209, \"eta\": 0.48704380598251795, \"max_depth\": 6.0, \"min_child_weight\": 0.6966098855883482, \"TrainingJobName\": \"bayesian-221102-1654-027-6b9a3f27\", \"TrainingJobStatus\": \"Completed\", \"TrainingStartTime\": \"2022-11-02T17:11:37+00:00\", \"TrainingEndTime\": \"2022-11-02T17:12:44+00:00\", \"TrainingElapsedTimeSeconds\": 67.0, \"TuningJobName\": \"bayesian-221102-1654\", \"validation:accuracy\": 0.8759300112724304}, {\"alpha\": 0.1555416094248212, \"eta\": 0.5, \"max_depth\": 4.0, \"min_child_weight\": 0.3537711241170276, \"TrainingJobName\": \"bayesian-221102-1654-041-4deb1659\", \"TrainingJobStatus\": \"Completed\", \"TrainingStartTime\": \"2022-11-02T17:19:22+00:00\", \"TrainingEndTime\": \"2022-11-02T17:20:32+00:00\", \"TrainingElapsedTimeSeconds\": 70.0, \"TuningJobName\": \"bayesian-221102-1654\", \"validation:accuracy\": 0.877780020236969}, {\"alpha\": 0.3944381618706818, \"eta\": 0.33606235267462636, \"max_depth\": 2.0, \"min_child_weight\": 1.402728493817695, \"TrainingJobName\": \"bayesian-221102-1654-006-1678165b\", \"TrainingJobStatus\": \"Completed\", \"TrainingStartTime\": \"2022-11-02T16:59:38+00:00\", \"TrainingEndTime\": \"2022-11-02T17:00:41+00:00\", \"TrainingElapsedTimeSeconds\": 63.0, \"TuningJobName\": \"bayesian-221102-1654\", \"validation:accuracy\": 0.877780020236969}, {\"alpha\": 0.30010490288867026, \"eta\": 0.45882085855929855, \"max_depth\": 5.0, \"min_child_weight\": 0.6949615319982707, \"TrainingJobName\": \"bayesian-221102-1654-029-fabdbb4a\", \"TrainingJobStatus\": \"Completed\", \"TrainingStartTime\": \"2022-11-02T17:12:17+00:00\", \"TrainingEndTime\": \"2022-11-02T17:13:14+00:00\", \"TrainingElapsedTimeSeconds\": 57.0, \"TuningJobName\": \"bayesian-221102-1654\", \"validation:accuracy\": 0.877780020236969}, {\"alpha\": 0.11817328383388953, \"eta\": 0.3596790629732012, \"max_depth\": 2.0, \"min_child_weight\": 0.6153923529182839, \"TrainingJobName\": \"bayesian-221102-1654-018-187f70c4\", \"TrainingJobStatus\": \"Completed\", \"TrainingStartTime\": \"2022-11-02T17:05:55+00:00\", \"TrainingEndTime\": \"2022-11-02T17:07:15+00:00\", \"TrainingElapsedTimeSeconds\": 80.0, \"TuningJobName\": \"bayesian-221102-1654\", \"validation:accuracy\": 0.877780020236969}, {\"alpha\": 0.38037110219403747, \"eta\": 0.5, \"max_depth\": 3.0, \"min_child_weight\": 0.7899743738699815, \"TrainingJobName\": \"bayesian-221102-1654-025-b9555973\", \"TrainingJobStatus\": \"Completed\", \"TrainingStartTime\": \"2022-11-02T17:10:46+00:00\", \"TrainingEndTime\": \"2022-11-02T17:11:49+00:00\", \"TrainingElapsedTimeSeconds\": 63.0, \"TuningJobName\": \"bayesian-221102-1654\", \"validation:accuracy\": 0.8796300292015076}, {\"alpha\": 0.499517650155654, \"eta\": 0.3699243944472287, \"max_depth\": 5.0, \"min_child_weight\": 1.818430586005531, \"TrainingJobName\": \"bayesian-221102-1654-010-2bac5645\", \"TrainingJobStatus\": \"Completed\", \"TrainingStartTime\": \"2022-11-02T17:02:20+00:00\", \"TrainingEndTime\": \"2022-11-02T17:03:17+00:00\", \"TrainingElapsedTimeSeconds\": 57.0, \"TuningJobName\": \"bayesian-221102-1654\", \"validation:accuracy\": 0.8796300292015076}, {\"alpha\": 0.21739825218320802, \"eta\": 0.39052713915614123, \"max_depth\": 6.0, \"min_child_weight\": 1.8847240089983646, \"TrainingJobName\": \"bayesian-221102-1654-004-da958038\", \"TrainingJobStatus\": \"Completed\", \"TrainingStartTime\": \"2022-11-02T16:59:23+00:00\", \"TrainingEndTime\": \"2022-11-02T17:00:20+00:00\", \"TrainingElapsedTimeSeconds\": 57.0, \"TuningJobName\": \"bayesian-221102-1654\", \"validation:accuracy\": 0.8796300292015076}, {\"alpha\": 0.15955712732391458, \"eta\": 0.36257720615692235, \"max_depth\": 3.0, \"min_child_weight\": 0.460739152893733, \"TrainingJobName\": \"bayesian-221102-1654-007-17300458\", \"TrainingJobStatus\": \"Completed\", \"TrainingStartTime\": \"2022-11-02T17:00:40+00:00\", \"TrainingEndTime\": \"2022-11-02T17:02:01+00:00\", \"TrainingElapsedTimeSeconds\": 81.0, \"TuningJobName\": \"bayesian-221102-1654\", \"validation:accuracy\": 0.8814799785614014}, {\"alpha\": 0.018878458191673088, \"eta\": 0.36470069181726184, \"max_depth\": 4.0, \"min_child_weight\": 1.6958504380737387, \"TrainingJobName\": \"bayesian-221102-1654-008-07184b27\", \"TrainingJobStatus\": \"Completed\", \"TrainingStartTime\": \"2022-11-02T17:01:14+00:00\", \"TrainingEndTime\": \"2022-11-02T17:02:40+00:00\", \"TrainingElapsedTimeSeconds\": 86.0, \"TuningJobName\": \"bayesian-221102-1654\", \"validation:accuracy\": 0.8814799785614014}, {\"alpha\": 0.30547421150022097, \"eta\": 0.4370619674030124, \"max_depth\": 2.0, \"min_child_weight\": 0.6473811501327849, \"TrainingJobName\": \"bayesian-221102-1654-038-521ed384\", \"TrainingJobStatus\": \"Completed\", \"TrainingStartTime\": \"2022-11-02T17:17:28+00:00\", \"TrainingEndTime\": \"2022-11-02T17:19:20+00:00\", \"TrainingElapsedTimeSeconds\": 112.0, \"TuningJobName\": \"bayesian-221102-1654\", \"validation:accuracy\": 0.8814799785614014}, {\"alpha\": 0.307175860178967, \"eta\": 0.5, \"max_depth\": 2.0, \"min_child_weight\": 0.8053858869059929, \"TrainingJobName\": \"bayesian-221102-1654-037-5a708b60\", \"TrainingJobStatus\": \"Completed\", \"TrainingStartTime\": \"2022-11-02T17:17:11+00:00\", \"TrainingEndTime\": \"2022-11-02T17:17:53+00:00\", \"TrainingElapsedTimeSeconds\": 42.0, \"TuningJobName\": \"bayesian-221102-1654\", \"validation:accuracy\": 0.8814799785614014}, {\"alpha\": 0.3013053167714583, \"eta\": 0.47649410066635556, \"max_depth\": 2.0, \"min_child_weight\": 0.29177497110091277, \"TrainingJobName\": \"bayesian-221102-1654-033-22d423a1\", \"TrainingJobStatus\": \"Completed\", \"TrainingStartTime\": \"2022-11-02T17:14:13+00:00\", \"TrainingEndTime\": \"2022-11-02T17:15:10+00:00\", \"TrainingElapsedTimeSeconds\": 57.0, \"TuningJobName\": \"bayesian-221102-1654\", \"validation:accuracy\": 0.8814799785614014}, {\"alpha\": 0.4498833340073266, \"eta\": 0.3677889807376814, \"max_depth\": 3.0, \"min_child_weight\": 0.6980972730716852, \"TrainingJobName\": \"bayesian-221102-1654-009-6b20f7af\", \"TrainingJobStatus\": \"Completed\", \"TrainingStartTime\": \"2022-11-02T17:01:40+00:00\", \"TrainingEndTime\": \"2022-11-02T17:03:02+00:00\", \"TrainingElapsedTimeSeconds\": 82.0, \"TuningJobName\": \"bayesian-221102-1654\", \"validation:accuracy\": 0.8814799785614014}, {\"alpha\": 0.3117195362175189, \"eta\": 0.5, \"max_depth\": 2.0, \"min_child_weight\": 0.4205545018091988, \"TrainingJobName\": \"bayesian-221102-1654-024-cf045763\", \"TrainingJobStatus\": \"Completed\", \"TrainingStartTime\": \"2022-11-02T17:10:25+00:00\", \"TrainingEndTime\": \"2022-11-02T17:11:22+00:00\", \"TrainingElapsedTimeSeconds\": 57.0, \"TuningJobName\": \"bayesian-221102-1654\", \"validation:accuracy\": 0.8833299875259399}, {\"alpha\": 0.3514984359804928, \"eta\": 0.4932248441228062, \"max_depth\": 2.0, \"min_child_weight\": 1.1981219555062945, \"TrainingJobName\": \"bayesian-221102-1654-042-c39a66e7\", \"TrainingJobStatus\": \"Completed\", \"TrainingStartTime\": \"2022-11-02T17:19:35+00:00\", \"TrainingEndTime\": \"2022-11-02T17:20:31+00:00\", \"TrainingElapsedTimeSeconds\": 56.0, \"TuningJobName\": \"bayesian-221102-1654\", \"validation:accuracy\": 0.8833299875259399}, {\"alpha\": 0.30083947852674764, \"eta\": 0.363885095107896, \"max_depth\": 2.0, \"min_child_weight\": 0.7923079657611294, \"TrainingJobName\": \"bayesian-221102-1654-003-75deeadd\", \"TrainingJobStatus\": \"Completed\", \"TrainingStartTime\": \"2022-11-02T16:56:46+00:00\", \"TrainingEndTime\": \"2022-11-02T16:59:09+00:00\", \"TrainingElapsedTimeSeconds\": 143.0, \"TuningJobName\": \"bayesian-221102-1654\", \"validation:accuracy\": 0.8833299875259399}, {\"alpha\": 0.4733223701194962, \"eta\": 0.49328207312404526, \"max_depth\": 2.0, \"min_child_weight\": 1.1107855696270503, \"TrainingJobName\": \"bayesian-221102-1654-048-a7736348\", \"TrainingJobStatus\": \"Completed\", \"TrainingStartTime\": \"2022-11-02T17:22:18+00:00\", \"TrainingEndTime\": \"2022-11-02T17:23:20+00:00\", \"TrainingElapsedTimeSeconds\": 62.0, \"TuningJobName\": \"bayesian-221102-1654\", \"validation:accuracy\": 0.8833299875259399}, {\"alpha\": 0.29485107274869554, \"eta\": 0.4632787075628658, \"max_depth\": 2.0, \"min_child_weight\": 0.8223429815959946, \"TrainingJobName\": \"bayesian-221102-1654-019-a6b58005\", \"TrainingJobStatus\": \"Completed\", \"TrainingStartTime\": \"2022-11-02T17:06:59+00:00\", \"TrainingEndTime\": \"2022-11-02T17:08:01+00:00\", \"TrainingElapsedTimeSeconds\": 62.0, \"TuningJobName\": \"bayesian-221102-1654\", \"validation:accuracy\": 0.8851799964904785}, {\"alpha\": 0.29460447090676817, \"eta\": 0.4827628198263848, \"max_depth\": 2.0, \"min_child_weight\": 0.49275459498217766, \"TrainingJobName\": \"bayesian-221102-1654-034-38e9f4e5\", \"TrainingJobStatus\": \"Completed\", \"TrainingStartTime\": \"2022-11-02T17:14:43+00:00\", \"TrainingEndTime\": \"2022-11-02T17:15:50+00:00\", \"TrainingElapsedTimeSeconds\": 67.0, \"TuningJobName\": \"bayesian-221102-1654\", \"validation:accuracy\": 0.8851799964904785}, {\"alpha\": 0.30816134228103714, \"eta\": 0.4076861499589023, \"max_depth\": 2.0, \"min_child_weight\": 0.689145469726524, \"TrainingJobName\": \"bayesian-221102-1654-036-f2fd0e17\", \"TrainingJobStatus\": \"Completed\", \"TrainingStartTime\": \"2022-11-02T17:16:06+00:00\", \"TrainingEndTime\": \"2022-11-02T17:17:03+00:00\", \"TrainingElapsedTimeSeconds\": 57.0, \"TuningJobName\": \"bayesian-221102-1654\", \"validation:accuracy\": 0.8870400190353394}, {\"alpha\": 0.3233113460140429, \"eta\": 0.49758693442022683, \"max_depth\": 2.0, \"min_child_weight\": 1.2226098509346888, \"TrainingJobName\": \"bayesian-221102-1654-050-1c5b7a9a\", \"TrainingJobStatus\": \"Completed\", \"TrainingStartTime\": \"2022-11-02T17:23:20+00:00\", \"TrainingEndTime\": \"2022-11-02T17:24:18+00:00\", \"TrainingElapsedTimeSeconds\": 58.0, \"TuningJobName\": \"bayesian-221102-1654\", \"validation:accuracy\": 0.8870400190353394}]}}, {\"mode\": \"vega-lite\"});\n",
       "</script>"
      ],
      "text/plain": [
       "alt.VConcatChart(...)"
      ]
     },
     "execution_count": 21,
     "metadata": {},
     "output_type": "execute_result"
    }
   ],
   "source": [
    "from reporting_util import analyze_hpo_job\n",
    "analyze_hpo_job(tuner, trials_only=True)"
   ]
  }
 ],
 "metadata": {
  "instance_type": "ml.t3.medium",
  "kernelspec": {
   "display_name": "Python 3 (Data Science)",
   "language": "python",
   "name": "python3__SAGEMAKER_INTERNAL__arn:aws:sagemaker:us-east-1:081325390199:image/datascience-1.0"
  },
  "language_info": {
   "codemirror_mode": {
    "name": "ipython",
    "version": 3
   },
   "file_extension": ".py",
   "mimetype": "text/x-python",
   "name": "python",
   "nbconvert_exporter": "python",
   "pygments_lexer": "ipython3",
   "version": "3.7.10"
  }
 },
 "nbformat": 4,
 "nbformat_minor": 5
}
